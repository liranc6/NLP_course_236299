{
  "cells": [
    {
      "cell_type": "code",
      "execution_count": null,
      "id": "59186374",
      "metadata": {
        "colab": {
          "base_uri": "https://localhost:8080/"
        },
        "collapsed": true,
        "deletable": false,
        "editable": false,
        "id": "59186374",
        "jupyter": {
          "outputs_hidden": true,
          "source_hidden": true
        },
        "outputId": "8f297bc6-a5c7-41a1-c545-a1f664b905f4"
      },
      "outputs": [
        {
          "name": "stdout",
          "output_type": "stream",
          "text": [
            "\n"
          ]
        }
      ],
      "source": [
        "# Please do not change this cell because some hidden tests might depend on it.\n",
        "import os\n",
        "\n",
        "# Otter grader does not handle ! commands well, so we define and use our\n",
        "# own function to execute shell commands.\n",
        "def shell(commands, warn=True):\n",
        "    \"\"\"Executes the string `commands` as a sequence of shell commands.\n",
        "\n",
        "       Prints the result to stdout and returns the exit status.\n",
        "       Provides a printed warning on non-zero exit status unless `warn`\n",
        "       flag is unset.\n",
        "    \"\"\"\n",
        "    file = os.popen(commands)\n",
        "    print (file.read().rstrip('\\n'))\n",
        "    exit_status = file.close()\n",
        "    if warn and exit_status != None:\n",
        "        print(f\"Completed with errors. Exit status: {exit_status}\\n\")\n",
        "    return exit_status\n",
        "\n",
        "shell(\"\"\"\n",
        "ls requirements.txt >/dev/null 2>&1\n",
        "if [ ! $? = 0 ]; then\n",
        " rm -rf .tmp\n",
        " git clone https://github.com/cs236299-2023-spring/project4.git .tmp\n",
        " mv .tmp/requirements.txt ./\n",
        " rm -rf .tmp\n",
        "fi\n",
        "pip install -q -r requirements.txt\n",
        "\"\"\")"
      ]
    },
    {
      "cell_type": "code",
      "execution_count": null,
      "id": "fa68f196",
      "metadata": {
        "deletable": false,
        "editable": false,
        "id": "fa68f196"
      },
      "outputs": [],
      "source": [
        "# Initialize Otter\n",
        "import otter\n",
        "grader = otter.Notebook()"
      ]
    },
    {
      "cell_type": "raw",
      "id": "d63aa7ef",
      "metadata": {
        "id": "d63aa7ef",
        "jupyter": {
          "source_hidden": true
        }
      },
      "source": [
        "%%latex\n",
        "\\newcommand{\\vect}[1]{\\mathbf{#1}}\n",
        "\\newcommand{\\cnt}[1]{\\sharp(#1)}\n",
        "\\newcommand{\\argmax}[1]{\\underset{#1}{\\operatorname{argmax}}}\n",
        "\\newcommand{\\softmax}{\\operatorname{softmax}}\n",
        "\\newcommand{\\Prob}{\\Pr}\n",
        "\\newcommand{\\given}{\\,|\\,}"
      ]
    },
    {
      "cell_type": "markdown",
      "id": "c2557ead",
      "metadata": {
        "id": "c2557ead",
        "jupyter": {
          "source_hidden": true
        }
      },
      "source": [
        "$$\n",
        "\\renewcommand{\\vect}[1]{\\mathbf{#1}}\n",
        "\\renewcommand{\\cnt}[1]{\\sharp(#1)}\n",
        "\\renewcommand{\\argmax}[1]{\\underset{#1}{\\operatorname{argmax}}}\n",
        "\\renewcommand{\\softmax}{\\operatorname{softmax}}\n",
        "\\renewcommand{\\Prob}{\\Pr}\n",
        "\\renewcommand{\\given}{\\,|\\,}\n",
        "$$"
      ]
    },
    {
      "cell_type": "markdown",
      "id": "57f766dc",
      "metadata": {
        "id": "57f766dc",
        "tags": [
          "remove_for_latex"
        ]
      },
      "source": [
        "# \t236299 - Introduction to Natural Language Processing\n",
        "## Project 4: Semantic Interpretation – Question Answering"
      ]
    },
    {
      "cell_type": "markdown",
      "id": "7cf2a34b",
      "metadata": {
        "id": "7cf2a34b"
      },
      "source": [
        "The goal of semantic parsing is to convert natural language utterances to a meaning representation such as a _logical form_ expression or a _SQL query_. In the previous project segment, you built a parsing system to reconstruct parse trees from the natural-language queries in the ATIS dataset. However, that only solves an intermediary task, not the end-user task of obtaining answers to the queries.\n",
        "\n",
        "In this final project segment, you will go further, building a semantic parsing system to convert English queries to SQL queries, so that by consulting a database you will be able to answer those questions. You will implement both a rule-based approach and an end-to-end sequence-to-sequence (seq2seq) approach. Both algorithms come with their pros and cons, and by the end of this segment you should have a basic understanding of the characteristics of the two approaches.\n",
        "\n",
        "## Goals\n",
        "\n",
        "1. Build a semantic parsing algorithm to convert text to SQL queries based on the syntactic parse trees from the last project.\n",
        "2. Build an attention-based end-to-end seq2seq system to convert text to SQL.\n",
        "3. Improve the attention-based end-to-end seq2seq system with self-attention to convert text to SQL.\n",
        "4. Discuss the pros and cons of the rule-based system and the end-to-end system.\n",
        "5. (Optional) Use the state-of-the-art pretrained transformers for text-to-SQL conversion.\n",
        "\n",
        "This will be an extremely challenging project, so we recommend that you start early."
      ]
    },
    {
      "cell_type": "markdown",
      "id": "d345044b",
      "metadata": {
        "id": "d345044b"
      },
      "source": [
        "# Setup"
      ]
    },
    {
      "cell_type": "code",
      "execution_count": null,
      "id": "5e6883c2",
      "metadata": {
        "id": "5e6883c2"
      },
      "outputs": [],
      "source": [
        "import copy\n",
        "import datetime\n",
        "import math\n",
        "import re\n",
        "import sys\n",
        "import warnings\n",
        "\n",
        "import wget\n",
        "import nltk\n",
        "import sqlite3\n",
        "import csv\n",
        "import torch\n",
        "import torch.nn as nn\n",
        "import datasets\n",
        "\n",
        "from datasets import load_dataset\n",
        "from tokenizers import Tokenizer\n",
        "from tokenizers import Regex\n",
        "from tokenizers.pre_tokenizers import WhitespaceSplit, Split\n",
        "from tokenizers.processors import TemplateProcessing\n",
        "from tokenizers import normalizers\n",
        "from tokenizers.models import WordLevel\n",
        "from tokenizers.trainers import WordLevelTrainer\n",
        "from transformers import PreTrainedTokenizerFast\n",
        "\n",
        "from cryptography.fernet import Fernet\n",
        "from func_timeout import func_set_timeout\n",
        "from torch.nn.utils.rnn import pack_padded_sequence as pack\n",
        "from torch.nn.utils.rnn import pad_packed_sequence as unpack\n",
        "from tqdm import tqdm\n",
        "from transformers import BartTokenizer, BartForConditionalGeneration"
      ]
    },
    {
      "cell_type": "code",
      "execution_count": null,
      "id": "b9311107",
      "metadata": {
        "colab": {
          "base_uri": "https://localhost:8080/"
        },
        "id": "b9311107",
        "outputId": "dd8b7ed0-ecc6-48ab-a3e2-f8491d73e020"
      },
      "outputs": [
        {
          "name": "stdout",
          "output_type": "stream",
          "text": [
            "cuda\n"
          ]
        }
      ],
      "source": [
        "# Set random seeds\n",
        "seed = 1234\n",
        "torch.manual_seed(seed)\n",
        "# Set timeout for executing SQL\n",
        "TIMEOUT = 3 # seconds\n",
        "\n",
        "# GPU check: Set runtime type to use GPU where available\n",
        "device = torch.device(\"cuda\" if torch.cuda.is_available() else \"cpu\")\n",
        "print (device)"
      ]
    },
    {
      "cell_type": "code",
      "execution_count": null,
      "id": "8fe1c8d5",
      "metadata": {
        "id": "8fe1c8d5"
      },
      "outputs": [],
      "source": [
        "## Download needed scripts and data\n",
        "def download_if_needed(source, dest, filename):\n",
        "    os.path.exists(f\"./{dest}{filename}\") or wget.download(source + filename, out=dest)\n",
        "\n",
        "os.makedirs('data', exist_ok=True)\n",
        "os.makedirs('scripts', exist_ok=True)\n",
        "source_url = \"https://raw.githubusercontent.com/nlp-236299/data/master\"\n",
        "\n",
        "# Grammar to augment for this segment\n",
        "if not os.path.isfile('data/grammar'):\n",
        "  download_if_needed(source_url, \"data/\", \"/ATIS/grammar_distrib4.crypt\")\n",
        "\n",
        "  # Decrypt the grammar file\n",
        "  key = b'bfksTY2BJ5VKKK9xZb1PDDLaGkdu7KCDFYfVePSEfGY='\n",
        "  fernet = Fernet(key)\n",
        "  with open('./data/grammar_distrib4.crypt', 'rb') as f:\n",
        "    restored = Fernet(key).decrypt(f.read())\n",
        "  with open('./data/grammar', 'wb') as f:\n",
        "    f.write(restored)\n",
        "\n",
        "# Download scripts and ATIS database\n",
        "download_if_needed(source_url, \"scripts/\", \"/scripts/trees/transform.py\")\n",
        "download_if_needed(source_url, \"data/\", \"/ATIS/atis_sqlite.db\")"
      ]
    },
    {
      "cell_type": "code",
      "execution_count": null,
      "id": "26b54859",
      "metadata": {
        "id": "26b54859"
      },
      "outputs": [],
      "source": [
        "# Import downloaded scripts for parsing augmented grammars\n",
        "sys.path.insert(1, './scripts')\n",
        "import transform as xform"
      ]
    },
    {
      "cell_type": "markdown",
      "id": "7ae67727",
      "metadata": {
        "id": "7ae67727"
      },
      "source": [
        "# Semantically augmented grammars\n",
        "\n",
        "In the first part of this project segment, you'll be implementing a rule-based system for semantic interpretation of sentences. Before jumping into using such a system on the ATIS dataset – we'll get to that soon enough – let's first work with some trivial examples to get things going.\n",
        "\n",
        "The fundamental idea of rule-based semantic interpretation is the rule of compositionality, that *the meaning of a constituent is a function of the meanings of its immediate subconstituents and the syntactic rule that combined them*. This leads to an infrastructure for specifying semantic interpretation in which each syntactic rule in a grammar (in our case, a context-free grammar) is associated with a semantic rule that applies to the meanings associated with the elements on the right-hand side of the rule.\n",
        "\n",
        "## Example: arithmetic expressions\n",
        "\n",
        "As a first example, let's consider an augmented grammar for arithmetic expressions, familiar from lab 3-1. We again use the function `xform.parse_augmented_grammar` to parse the augmented grammar. You can read more about it in the file `scripts/transform.py`."
      ]
    },
    {
      "cell_type": "code",
      "execution_count": null,
      "id": "ed34d375",
      "metadata": {
        "id": "ed34d375"
      },
      "outputs": [],
      "source": [
        "arithmetic_grammar, arithmetic_augmentations = xform.parse_augmented_grammar(\n",
        "    \"\"\"\n",
        "    ## Sample grammar for arithmetic expressions\n",
        "\n",
        "    S -> NUM                              : lambda Num: Num\n",
        "       | S OP S                           : lambda S1, Op, S2: Op(S1, S2)\n",
        "\n",
        "    OP -> ADD                             : lambda Op: Op\n",
        "        | SUB\n",
        "        | MULT\n",
        "        | DIV\n",
        "\n",
        "    NUM -> 'zero'                         : lambda: 0\n",
        "         | 'one'                          : lambda: 1\n",
        "         | 'two'                          : lambda: 2\n",
        "         | 'three'                        : lambda: 3\n",
        "         | 'four'                         : lambda: 4\n",
        "         | 'five'                         : lambda: 5\n",
        "         | 'six'                          : lambda: 6\n",
        "         | 'seven'                        : lambda: 7\n",
        "         | 'eight'                        : lambda: 8\n",
        "         | 'nine'                         : lambda: 9\n",
        "         | 'ten'                          : lambda: 10\n",
        "\n",
        "    ADD -> 'plus' | 'added' 'to'          : lambda: lambda x, y: x + y\n",
        "    SUB -> 'minus'                        : lambda: lambda x, y: x - y\n",
        "    MULT -> 'times' | 'multiplied' 'by'   : lambda: lambda x, y: x * y\n",
        "    DIV -> 'divided' 'by'                 : lambda: lambda x, y: x / y\n",
        "    \"\"\"\n",
        ")"
      ]
    },
    {
      "cell_type": "markdown",
      "id": "1d6098df",
      "metadata": {
        "id": "1d6098df"
      },
      "source": [
        "Recall that in this grammar specification format, rules that are not explicitly provided with an augmentation (like all the `OP` rules after the first `OP -> ADD`) are associated with the textually most recent one (`lambda Op: Op`).\n",
        "\n",
        "The `parse_augmented_grammar` function returns both an NLTK grammar and a dictionary that maps from productions in the grammar to their associated augmentations. Let's examine the returned grammar."
      ]
    },
    {
      "cell_type": "code",
      "execution_count": null,
      "id": "8fb4a8dc",
      "metadata": {
        "colab": {
          "base_uri": "https://localhost:8080/"
        },
        "id": "8fb4a8dc",
        "outputId": "6f60aba1-523c-4797-839e-5dfc46dd410e"
      },
      "outputs": [
        {
          "name": "stdout",
          "output_type": "stream",
          "text": [
            "S -> NUM                      <function <lambda> at 0x7cb5942f4280>\n",
            "S -> S OP S                   <function <lambda> at 0x7cb5942f41f0>\n",
            "OP -> ADD                     <function <lambda> at 0x7cb5942f4310>\n",
            "OP -> SUB                     <function <lambda> at 0x7cb5942f43a0>\n",
            "OP -> MULT                    <function <lambda> at 0x7cb5942f4430>\n",
            "OP -> DIV                     <function <lambda> at 0x7cb5942f44c0>\n",
            "NUM -> 'zero'                 <function <lambda> at 0x7cb5942f4550>\n",
            "NUM -> 'one'                  <function <lambda> at 0x7cb5942f45e0>\n",
            "NUM -> 'two'                  <function <lambda> at 0x7cb5942f4670>\n",
            "NUM -> 'three'                <function <lambda> at 0x7cb5942f4700>\n",
            "NUM -> 'four'                 <function <lambda> at 0x7cb5942f4790>\n",
            "NUM -> 'five'                 <function <lambda> at 0x7cb5942f4820>\n",
            "NUM -> 'six'                  <function <lambda> at 0x7cb5942f48b0>\n",
            "NUM -> 'seven'                <function <lambda> at 0x7cb5942f4940>\n",
            "NUM -> 'eight'                <function <lambda> at 0x7cb5942f49d0>\n",
            "NUM -> 'nine'                 <function <lambda> at 0x7cb5942f4a60>\n",
            "NUM -> 'ten'                  <function <lambda> at 0x7cb5942f4af0>\n",
            "ADD -> 'plus'                 <function <lambda> at 0x7cb5942f4b80>\n",
            "ADD -> 'added' 'to'           <function <lambda> at 0x7cb5942f4c10>\n",
            "SUB -> 'minus'                <function <lambda> at 0x7cb5942f4ca0>\n",
            "MULT -> 'times'               <function <lambda> at 0x7cb5942f4d30>\n",
            "MULT -> 'multiplied' 'by'     <function <lambda> at 0x7cb5942f4dc0>\n",
            "DIV -> 'divided' 'by'         <function <lambda> at 0x7cb5942f4e50>\n"
          ]
        }
      ],
      "source": [
        "for production in arithmetic_grammar.productions():\n",
        "  print(f\"{repr(production):25}     {arithmetic_augmentations[production]}\")"
      ]
    },
    {
      "cell_type": "markdown",
      "id": "355ed6c4",
      "metadata": {
        "id": "355ed6c4"
      },
      "source": [
        "We can parse with the grammar using one of the built-in NLTK parsers."
      ]
    },
    {
      "cell_type": "code",
      "execution_count": null,
      "id": "0b04e6b2",
      "metadata": {
        "colab": {
          "base_uri": "https://localhost:8080/"
        },
        "id": "0b04e6b2",
        "outputId": "9ada8da4-aaa0-4924-cc9c-c760870c942c"
      },
      "outputs": [
        {
          "name": "stdout",
          "output_type": "stream",
          "text": [
            "            S            \n",
            "        ____|_________    \n",
            "       S         |    |  \n",
            "   ____|____     |    |   \n",
            "  S    OP   S    OP   S  \n",
            "  |    |    |    |    |   \n",
            " NUM  ADD  NUM  MULT NUM \n",
            "  |    |    |    |    |   \n",
            "three plus one times four\n",
            "\n",
            "            S            \n",
            "   _________|____         \n",
            "  |    |         S       \n",
            "  |    |     ____|____    \n",
            "  S    OP   S    OP   S  \n",
            "  |    |    |    |    |   \n",
            " NUM  ADD  NUM  MULT NUM \n",
            "  |    |    |    |    |   \n",
            "three plus one times four\n",
            "\n"
          ]
        }
      ],
      "source": [
        "arithmetic_parser = nltk.parse.BottomUpChartParser(arithmetic_grammar)\n",
        "parses = [p for p in arithmetic_parser.parse('three plus one times four'.split())]\n",
        "for parse in parses:\n",
        "  parse.pretty_print()"
      ]
    },
    {
      "cell_type": "markdown",
      "id": "68c38950",
      "metadata": {
        "id": "68c38950"
      },
      "source": [
        "Now let's turn to the augmentations. They can be arbitrary Python functions applied to the semantic representations associated with the right-hand-side nonterminals, returning the semantic representation of the left-hand side. To interpret the semantic representation of the entire sentence (at the root of the parse tree), we can use the following pseudo-code:\n",
        "```\n",
        "to interpret a tree:\n",
        "  interpret each of the nonterminal-rooted subtrees\n",
        "  find the augmentation associated with the root production of the tree\n",
        "    (it should be a function of as many arguments as there are nonterminals on the right-hand side)\n",
        "  return the result of applying the augmentation to the subtree values\n",
        "```\n",
        "(The base case of this recursion occurs when the number of nonterminal-rooted subtrees is zero, that is, a rule all of whose right-hand side elements are terminals.)\n",
        "\n",
        "Suppose we had such a function, call it `interpret`. How would it operate on, for instance, the tree `(S (S (NUM three)) (OP (ADD plus)) (S (NUM one)))`?\n",
        "\n",
        "```\n",
        "interpret (S (S (NUM three)) (OP (ADD plus)) (S (NUM one)))\n",
        "    |->interpret (S (NUM three))\n",
        "    |      |->interpret (NUM three)\n",
        "    |      |      |->(no subconstituents to evaluate)\n",
        "    |      |      |->apply the augmentation for the rule NUM -> three to the empty set of values\n",
        "    |      |      |      (lambda: 3) () ==> 3\n",
        "    |      |      \\==> 3\n",
        "    |      |->apply the augmentation for the rule S -> NUM to the value 3\n",
        "    |      |      (lambda NUM: NUM)(3) ==> 3\n",
        "    |      \\==> 3\n",
        "    |->interpret (OP (ADD plus))\n",
        "    |      |...\n",
        "    |      \\==> lambda x, y: x + y\n",
        "    |->interpret (S (NUM one))\n",
        "    |      |...\n",
        "    |      \\==> 1\n",
        "    |->apply the augmentation for the rule S -> S OP S to the values 3, (lambda x, y: x + y), and 1\n",
        "    |      (lambda S1, Op, S2: Op(S1, S2))(3, (lambda x, y: x + y), 1) ==> 4\n",
        "    \\==> 4\n",
        "```\n",
        "\n",
        "Thus, the string \"three plus one\" is semantically interpreted as the value 4.\n",
        "\n",
        "We provide the `interpret` function to carry out this recursive process, copied over from lab 4-2:"
      ]
    },
    {
      "cell_type": "code",
      "execution_count": null,
      "id": "99104630",
      "metadata": {
        "id": "99104630"
      },
      "outputs": [],
      "source": [
        "def interpret(tree, augmentations):\n",
        "  syntactic_rule = tree.productions()[0]\n",
        "  semantic_rule = augmentations[syntactic_rule]\n",
        "  child_meanings = [interpret(child, augmentations)\n",
        "                    for child in tree\n",
        "                    if isinstance(child, nltk.Tree)]\n",
        "  return semantic_rule(*child_meanings)"
      ]
    },
    {
      "cell_type": "markdown",
      "id": "622fb2dc",
      "metadata": {
        "id": "622fb2dc"
      },
      "source": [
        "Now we should be able to evaluate the arithmetic example from above."
      ]
    },
    {
      "cell_type": "code",
      "execution_count": null,
      "id": "855a5c99",
      "metadata": {
        "colab": {
          "base_uri": "https://localhost:8080/"
        },
        "id": "855a5c99",
        "outputId": "67be3cd5-4013-46a6-b903-abc3673a5187"
      },
      "outputs": [
        {
          "data": {
            "text/plain": [
              "16"
            ]
          },
          "execution_count": 20,
          "metadata": {},
          "output_type": "execute_result"
        }
      ],
      "source": [
        "interpret(parses[0], arithmetic_augmentations)"
      ]
    },
    {
      "cell_type": "markdown",
      "id": "6f348bc8",
      "metadata": {
        "id": "6f348bc8"
      },
      "source": [
        "And we can even write a function that parses and interprets a string. We'll have it evaluate each of the possible parses and print the results."
      ]
    },
    {
      "cell_type": "code",
      "execution_count": null,
      "id": "dd784592",
      "metadata": {
        "id": "dd784592"
      },
      "outputs": [],
      "source": [
        "def parse_and_interpret(string, grammar, augmentations):\n",
        "  parser = nltk.parse.BottomUpChartParser(grammar)\n",
        "  parses = parser.parse(string.split())\n",
        "  for parse in parses:\n",
        "    parse.pretty_print()\n",
        "    print(parse, \"==>\", interpret(parse, augmentations))"
      ]
    },
    {
      "cell_type": "code",
      "execution_count": null,
      "id": "66a97c1c",
      "metadata": {
        "colab": {
          "base_uri": "https://localhost:8080/"
        },
        "id": "66a97c1c",
        "outputId": "5abf6b26-41be-4a7c-b215-0ece5706e13c"
      },
      "outputs": [
        {
          "name": "stdout",
          "output_type": "stream",
          "text": [
            "            S            \n",
            "        ____|_________    \n",
            "       S         |    |  \n",
            "   ____|____     |    |   \n",
            "  S    OP   S    OP   S  \n",
            "  |    |    |    |    |   \n",
            " NUM  ADD  NUM  MULT NUM \n",
            "  |    |    |    |    |   \n",
            "three plus one times four\n",
            "\n",
            "(S\n",
            "  (S (S (NUM three)) (OP (ADD plus)) (S (NUM one)))\n",
            "  (OP (MULT times))\n",
            "  (S (NUM four))) ==> 16\n",
            "            S            \n",
            "   _________|____         \n",
            "  |    |         S       \n",
            "  |    |     ____|____    \n",
            "  S    OP   S    OP   S  \n",
            "  |    |    |    |    |   \n",
            " NUM  ADD  NUM  MULT NUM \n",
            "  |    |    |    |    |   \n",
            "three plus one times four\n",
            "\n",
            "(S\n",
            "  (S (NUM three))\n",
            "  (OP (ADD plus))\n",
            "  (S (S (NUM one)) (OP (MULT times)) (S (NUM four)))) ==> 7\n"
          ]
        }
      ],
      "source": [
        "parse_and_interpret(\"three plus one times four\", arithmetic_grammar, arithmetic_augmentations)"
      ]
    },
    {
      "cell_type": "markdown",
      "id": "6231db03",
      "metadata": {
        "id": "6231db03"
      },
      "source": [
        "Since the string is syntactically ambiguous according to the grammar, it is semantically ambiguous as well."
      ]
    },
    {
      "cell_type": "markdown",
      "id": "f065c35f",
      "metadata": {
        "id": "f065c35f"
      },
      "source": [
        "## Some grammar specification conveniences\n",
        "\n",
        "Before going on, it will be useful to have a few more conveniences in writing augmentations for rules. First, since the augmentations are arbitrary Python expressions, they can be built from and make use of other functions. For instance, you'll notice that many of the augmentations at the leaves of the tree took no arguments and returned a constant. We can define a function `constant` that returns a function that ignores its arguments and returns a particular value."
      ]
    },
    {
      "cell_type": "code",
      "execution_count": null,
      "id": "8b8b3fea",
      "metadata": {
        "id": "8b8b3fea"
      },
      "outputs": [],
      "source": [
        "def constant(value):\n",
        "  \"\"\"Return `value`, ignoring any arguments\"\"\"\n",
        "  return lambda *args: value"
      ]
    },
    {
      "cell_type": "markdown",
      "id": "72a031be",
      "metadata": {
        "id": "72a031be"
      },
      "source": [
        "Similarly, several of the augmentations are functions that just return their first argument. Again, we can define a generic form `first` of such a function:"
      ]
    },
    {
      "cell_type": "code",
      "execution_count": null,
      "id": "103a6d09",
      "metadata": {
        "id": "103a6d09"
      },
      "outputs": [],
      "source": [
        "def first(*args):\n",
        "  \"\"\"Return the value of the first (and perhaps only) subconstituent,\n",
        "     ignoring any others\"\"\"\n",
        "  return args[0]"
      ]
    },
    {
      "cell_type": "markdown",
      "id": "0a433f17",
      "metadata": {
        "id": "0a433f17"
      },
      "source": [
        "We can now rewrite the grammar above to take advantage of these shortcuts.\n",
        "\n",
        "> In the call to `parse_augmented_grammar` below, we pass in the global environment, extracted via a `globals()` function call, via the named argument `globals`. This allows the `parse_augmented_grammar` function to make use of the global bindings for `constant`, `first`, and the like when evaluating the augmentation expressions to their values. You can check out the code in `transform.py` to see how the passed in `globals` bindings are used. To help understand what's going on, see what happens if you don't include the `globals=globals()`."
      ]
    },
    {
      "cell_type": "code",
      "execution_count": null,
      "id": "6450c6e3",
      "metadata": {
        "id": "6450c6e3"
      },
      "outputs": [],
      "source": [
        "arithmetic_grammar_2, arithmetic_augmentations_2 = xform.parse_augmented_grammar(\n",
        "    \"\"\"\n",
        "    ## Sample grammar for arithmetic expressions\n",
        "\n",
        "    S -> NUM                              : first\n",
        "       | S OP S                           : lambda S1, Op, S2: Op(S1, S2)\n",
        "\n",
        "    OP -> ADD                             : first\n",
        "       | SUB\n",
        "       | MULT\n",
        "       | DIV\n",
        "\n",
        "    NUM -> 'zero'                         : constant(0)\n",
        "         | 'one'                          : constant(1)\n",
        "         | 'two'                          : constant(2)\n",
        "         | 'three'                        : constant(3)\n",
        "         | 'four'                         : constant(4)\n",
        "         | 'five'                         : constant(5)\n",
        "         | 'six'                          : constant(6)\n",
        "         | 'seven'                        : constant(7)\n",
        "         | 'eight'                        : constant(8)\n",
        "         | 'nine'                         : constant(9)\n",
        "         | 'ten'                          : constant(10)\n",
        "\n",
        "    ADD -> 'plus' | 'added' 'to'          : constant(lambda x, y: x + y)\n",
        "    SUB -> 'minus'                        : constant(lambda x, y: x - y)\n",
        "    MULT -> 'times' | 'multiplied' 'by'   : constant(lambda x, y: x * y)\n",
        "    DIV -> 'divided' 'by'                 : constant(lambda x, y: x / y)\n",
        "    \"\"\",\n",
        "    globals=globals())"
      ]
    },
    {
      "cell_type": "markdown",
      "id": "1e01f958",
      "metadata": {
        "id": "1e01f958"
      },
      "source": [
        "Finally, it might make our lives easier to write a template of augmentations whose instantiation depends on the right-hand side of the rule.\n",
        "\n",
        "We use a reserved keyword `_RHS` to denote the right-hand side of the syntactic rule, which will be replaced by a **list** of the right-hand-side strings. For example, an augmentation `numeric_template(_RHS)` would be as if written as `numeric_template(['zero'])` when the rule is `NUM -> 'zero'`, and `numeric_template(['one'])` when the rule is `NUM -> 'one'`. The details of how this works can be found at [`scripts/transform.py`](https://github.com/nlp-236299/data/blob/master/scripts/trees/transform.py).\n",
        "\n",
        "This would allow us to use a single template function, for example,"
      ]
    },
    {
      "cell_type": "code",
      "execution_count": null,
      "id": "a910940e",
      "metadata": {
        "id": "a910940e"
      },
      "outputs": [],
      "source": [
        "def numeric_template(rhs):\n",
        "  \"\"\"Ignore the subphrase meanings and lookup the first right-hand-side symbol\n",
        "     as a number\"\"\"\n",
        "  return constant({'zero':0, 'one':1, 'two':2, 'three':3, 'four':4, 'five':5,\n",
        "          'six':6, 'seven':7, 'eight':8, 'nine':9, 'ten':10}[rhs[0]])"
      ]
    },
    {
      "cell_type": "markdown",
      "id": "7c49ac69",
      "metadata": {
        "id": "7c49ac69"
      },
      "source": [
        "and then further simplify the grammar specification:"
      ]
    },
    {
      "cell_type": "code",
      "execution_count": null,
      "id": "be55160f",
      "metadata": {
        "id": "be55160f"
      },
      "outputs": [],
      "source": [
        "arithmetic_grammar_3, arithmetic_augmentations_3 = xform.parse_augmented_grammar(\n",
        "    \"\"\"\n",
        "    ## Sample grammar for arithmetic expressions\n",
        "\n",
        "    S -> NUM                              : first\n",
        "       | S OP S                           : lambda S1, Op, S2: Op(S1, S2)\n",
        "\n",
        "    OP -> ADD                             : first\n",
        "       | SUB\n",
        "       | MULT\n",
        "       | DIV\n",
        "\n",
        "    NUM -> 'zero'  | 'one'   | 'two'      : numeric_template(_RHS)\n",
        "         | 'three' | 'four'  | 'five'\n",
        "         | 'six'   | 'seven' | 'eight'\n",
        "         | 'nine'  | 'ten'\n",
        "\n",
        "    ADD -> 'plus' | 'added' 'to'          : constant(lambda x, y: x + y)\n",
        "    SUB -> 'minus'                        : constant(lambda x, y: x - y)\n",
        "    MULT -> 'times' | 'multiplied' 'by'   : constant(lambda x, y: x * y)\n",
        "    DIV -> 'divided' 'by'                 : constant(lambda x, y: x / y)\n",
        "    \"\"\",\n",
        "    globals=globals())"
      ]
    },
    {
      "cell_type": "code",
      "execution_count": null,
      "id": "1b1267d2",
      "metadata": {
        "colab": {
          "base_uri": "https://localhost:8080/"
        },
        "id": "1b1267d2",
        "outputId": "f7ac5427-999a-4f3b-ee9c-4f66bfca65e7"
      },
      "outputs": [
        {
          "name": "stdout",
          "output_type": "stream",
          "text": [
            "       S                 \n",
            "  _____|______________    \n",
            " S           OP       S  \n",
            " |           |        |   \n",
            "NUM         DIV      NUM \n",
            " |      _____|___     |   \n",
            "six divided      by three\n",
            "\n",
            "(S (S (NUM six)) (OP (DIV divided by)) (S (NUM three))) ==> 2.0\n"
          ]
        }
      ],
      "source": [
        "parse_and_interpret(\"six divided by three\", arithmetic_grammar_3, arithmetic_augmentations_3)"
      ]
    },
    {
      "cell_type": "markdown",
      "id": "7610d6de",
      "metadata": {
        "id": "7610d6de"
      },
      "source": [
        "## Example: _Green Eggs and Ham_ revisited\n",
        "\n",
        "This stuff is tricky, so it's useful to see more examples before jumping in the deep end. In this simple GEaH fragment grammar, we use a larger set of auxiliary functions to build the augmentations."
      ]
    },
    {
      "cell_type": "code",
      "execution_count": null,
      "id": "14e7a796",
      "metadata": {
        "id": "14e7a796"
      },
      "outputs": [],
      "source": [
        "def forward(F, A):\n",
        "  \"\"\"Forward application: Return the application of the first\n",
        "     argument to the second\"\"\"\n",
        "  return F(A)\n",
        "\n",
        "def backward(A, F):\n",
        "  \"\"\"Backward application: Return the application of the second\n",
        "     argument to the first\"\"\"\n",
        "  return F(A)\n",
        "\n",
        "def second(*args):\n",
        "  \"\"\"Return the value of the second subconstituent, ignoring any others\"\"\"\n",
        "  return args[1]\n",
        "\n",
        "def ignore(*args):\n",
        "  \"\"\"Return `None`, ignoring everything about the constituent. (Good as a\n",
        "     placeholder until a better augmentation can be devised.)\"\"\"\n",
        "  return None"
      ]
    },
    {
      "cell_type": "markdown",
      "id": "1335b23d",
      "metadata": {
        "id": "1335b23d"
      },
      "source": [
        "Using these, we can build and test the grammar."
      ]
    },
    {
      "cell_type": "code",
      "execution_count": null,
      "id": "7defaca8",
      "metadata": {
        "id": "7defaca8"
      },
      "outputs": [],
      "source": [
        "geah_grammar_spec = \"\"\"\n",
        "  ## Productions\n",
        "  S -> NP VP            : backward\n",
        "  VP -> V NP            : forward\n",
        "\n",
        "  ## Lexicon\n",
        "  V -> 'likes'          : constant(lambda Object: lambda Subject: f\"like({Subject}, {Object})\")\n",
        "  NP -> 'Sam' | 'sam'   : constant(_RHS[0])\n",
        "  NP -> 'ham'\n",
        "  NP -> 'eggs'\n",
        "\"\"\""
      ]
    },
    {
      "cell_type": "code",
      "execution_count": null,
      "id": "931fea18",
      "metadata": {
        "id": "931fea18"
      },
      "outputs": [],
      "source": [
        "geah_grammar, geah_augmentations = xform.parse_augmented_grammar(geah_grammar_spec,\n",
        "                                                                 globals=globals())"
      ]
    },
    {
      "cell_type": "code",
      "execution_count": null,
      "id": "75d6b0b6",
      "metadata": {
        "colab": {
          "base_uri": "https://localhost:8080/"
        },
        "id": "75d6b0b6",
        "outputId": "f4c1bf1c-9718-4968-f3e7-ad7fc304555b"
      },
      "outputs": [
        {
          "name": "stdout",
          "output_type": "stream",
          "text": [
            "      S          \n",
            "  ____|____       \n",
            " |         VP    \n",
            " |     ____|___   \n",
            " NP   V        NP\n",
            " |    |        |  \n",
            "Sam likes     ham\n",
            "\n",
            "(S (NP Sam) (VP (V likes) (NP ham))) ==> like(Sam, ham)\n"
          ]
        }
      ],
      "source": [
        "parse_and_interpret(\"Sam likes ham\", geah_grammar, geah_augmentations)"
      ]
    },
    {
      "cell_type": "markdown",
      "id": "37c6846d",
      "metadata": {
        "id": "37c6846d"
      },
      "source": [
        "# Semantics of ATIS queries\n",
        "\n",
        "Now you're in a good position to understand and add augmentations to a more comprehensive grammar, say, one that parses ATIS queries and generates SQL queries.\n",
        "\n",
        "In preparation for that, we need to load the ATIS data, both NL and SQL queries."
      ]
    },
    {
      "cell_type": "markdown",
      "id": "93384b7d",
      "metadata": {
        "id": "93384b7d"
      },
      "source": [
        "## Loading and preprocessing the corpus\n",
        "\n",
        "To simplify things a bit, we'll only consider ATIS queries whose question type (remember that from project segment 1?) is `flight_id`. We download training, development, and test splits for this subset of the ATIS corpus, including corresponding SQL queries."
      ]
    },
    {
      "cell_type": "code",
      "execution_count": null,
      "id": "4f51262c",
      "metadata": {
        "id": "4f51262c"
      },
      "outputs": [],
      "source": [
        "# Acquire the datasets - training, development, and test splits of the\n",
        "# ATIS queries and corresponding SQL queries\n",
        "download_if_needed(source_url, \"data/\", \"/ATIS/test_flightid.nl\")\n",
        "download_if_needed(source_url, \"data/\", \"/ATIS/test_flightid.sql\")\n",
        "download_if_needed(source_url, \"data/\", \"/ATIS/dev_flightid.nl\")\n",
        "download_if_needed(source_url, \"data/\", \"/ATIS/dev_flightid.sql\")\n",
        "download_if_needed(source_url, \"data/\", \"/ATIS/train_flightid.nl\")\n",
        "download_if_needed(source_url, \"data/\", \"/ATIS/train_flightid.sql\")"
      ]
    },
    {
      "cell_type": "code",
      "execution_count": null,
      "id": "48bcfffc",
      "metadata": {
        "id": "48bcfffc"
      },
      "outputs": [],
      "source": [
        "# Process data\n",
        "for split in ['train', 'dev', 'test']:\n",
        "    src_in_file = f'data/{split}_flightid.nl'\n",
        "    tgt_in_file = f'data/{split}_flightid.sql'\n",
        "    out_file = f'data/{split}.csv'\n",
        "\n",
        "    with open(src_in_file, 'r') as f_src_in, open(tgt_in_file, 'r') as f_tgt_in:\n",
        "        with open(out_file, 'w') as f_out:\n",
        "            src, tgt= [], []\n",
        "            writer = csv.writer(f_out)\n",
        "            writer.writerow(('src','tgt'))\n",
        "            for src_line, tgt_line in zip(f_src_in, f_tgt_in):\n",
        "                writer.writerow((src_line.strip(), tgt_line.strip()))"
      ]
    },
    {
      "cell_type": "markdown",
      "id": "e87c15b5",
      "metadata": {
        "id": "e87c15b5"
      },
      "source": [
        "Let's take a look at what the data file looks like."
      ]
    },
    {
      "cell_type": "code",
      "execution_count": null,
      "id": "46cf3d34",
      "metadata": {
        "colab": {
          "base_uri": "https://localhost:8080/"
        },
        "id": "46cf3d34",
        "outputId": "0131dc01-4e56-49ef-eef7-10b63ad12dfa"
      },
      "outputs": [
        {
          "name": "stdout",
          "output_type": "stream",
          "text": [
            "src,tgt\n",
            "what flights are available tomorrow from denver to philadelphia,\"SELECT DISTINCT flight_1.flight_id FROM flight flight_1 , airport_service airport_service_1 , city city_1 , airport_service airport_service_2 , city city_2 , days days_1 , date_day date_day_1 WHERE flight_1.from_airport = airport_service_1.airport_code AND airport_service_1.city_code = city_1.city_code AND city_1.city_name = 'DENVER' AND ( flight_1.to_airport = airport_service_2.airport_code AND airport_service_2.city_code = city_2.city_code AND city_2.city_name = 'PHILADELPHIA' AND flight_1.flight_days = days_1.days_code AND days_1.day_name = date_day_1.day_name AND date_day_1.year = 1991 AND date_day_1.month_number = 1 AND date_day_1.day_number = 20 )\"\n"
          ]
        }
      ],
      "source": [
        "shell(\"head -2 data/dev.csv\")"
      ]
    },
    {
      "cell_type": "markdown",
      "id": "2ec9ba80",
      "metadata": {
        "id": "2ec9ba80"
      },
      "source": [
        "## Corpus preprocessing"
      ]
    },
    {
      "cell_type": "markdown",
      "id": "8489fbcf",
      "metadata": {
        "id": "8489fbcf"
      },
      "source": [
        "We'll use `tokenizers` and `datasets` to process the data. We'll use the NLTK tokenizer from project segment 3."
      ]
    },
    {
      "cell_type": "code",
      "execution_count": null,
      "id": "fbdd5528",
      "metadata": {
        "colab": {
          "base_uri": "https://localhost:8080/"
        },
        "id": "fbdd5528",
        "outputId": "c286ac42-1737-4ca1-bc7f-3c07184a6425"
      },
      "outputs": [
        {
          "name": "stdout",
          "output_type": "stream",
          "text": [
            "['are', 'there', 'any', 'first-class', 'flights', 'from', 'st.', 'louis', 'at', '11', 'pm', 'for', 'less', 'than', '$3.50', '?']\n"
          ]
        }
      ],
      "source": [
        "## NLTK Tokenizer\n",
        "tokenizer_pattern = '\\d+|st\\.|[\\w-]+|\\$[\\d\\.]+|\\S+'\n",
        "nltk_tokenizer = nltk.tokenize.RegexpTokenizer(tokenizer_pattern)\n",
        "def tokenize_nltk(string):\n",
        "  return nltk_tokenizer.tokenize(string.lower())\n",
        "\n",
        "## Demonstrating the tokenizer\n",
        "## Note especially the handling of `\"11pm\"` and hyphenated words.\n",
        "print(tokenize_nltk(\"Are there any first-class flights from St. Louis at 11pm for less than $3.50?\"))"
      ]
    },
    {
      "cell_type": "code",
      "execution_count": null,
      "id": "a6179744",
      "metadata": {
        "colab": {
          "base_uri": "https://localhost:8080/",
          "height": 532,
          "referenced_widgets": [
            "d013c7acea6b4414ae9a97aeb8497317",
            "12b6159db2d34b32a6f82501f822113b",
            "a87b1883808545e1a7757296a7edabfb",
            "32104453f25042d5aac2f6f37585059c",
            "f1a066d263ef4c968842f9f7fd6e7258",
            "f6d78141c6c64196a8c3decdaacc27e6",
            "d5f7dbe8d0e2434196c0ac9c14483065",
            "ec04d7277ea74f33ae1eb3956662a037",
            "39d67796d2c8435aabf3671ce6bde880",
            "641994eceff24d5a9a358d98da32d8f7",
            "5a3c2a803e6a41c0aa979c5d1ec931a9",
            "77d9ba6c1af64eae872edba3dc8061ac",
            "9ba40a129ad7466da6355e6b91a62768",
            "28f5e578436b4c75a3596d3fee69269f",
            "7c92721ce3a1451f8ade0fe8b9e22fbc",
            "8013ed56eb824be49a269eddf10de1d7",
            "cdb0c770510b41e397ca0c5ac34ade2e",
            "698cf4f6ed45488695f961d0c0ee42c9",
            "a836ae2bef6c49d7bc9e9225b668dde8",
            "03722ac38d444d578c9eb2d4c2c10710",
            "0d86564d88784e8ebecefb4f4a440af7",
            "4400159d16b74fceb46b162528c3421e",
            "4fc36a529d464f0589593827a709aa2e",
            "c8ebe5bb12bb4f01ad0049c517487c96",
            "9ff8bf044a7e42a0afbec09e9e81ffee",
            "c4a0b318887b46668e62e221e6f1367f",
            "f1d3aed359964f2a9316169bc7942c2b",
            "32cb0176cb4b44dea823be373b287025",
            "7ccc1057ef654df6902e342732eeccf0",
            "b0d336df567b4ca290c0c82006f1acc9",
            "2358e48e75bf429aa888da15938ede8c",
            "f8ba1a8280504b19ba56354b164da4f4",
            "71a561d808a94f7581d0f2ef161239f5",
            "615c9b834baf421cab19b081823fae74",
            "805a4d684fa3405ab352fdf96ac8eefa",
            "911eb16b94b94b0c9b1c9421d4ef4a8b",
            "3bdb76b330974d008a7cade97255ea44",
            "39485ddec0d746468cecb8431a9977bb",
            "da696983fad446359993d5790417b63b",
            "f15bf32229b0441ca336ee116249c38e",
            "a81b771bcd334b7eaec8f57827414de0",
            "1a1c43be471545db8de904335b9784da",
            "ea2b2871dcc9475b9790dc9098483069",
            "29581e4c19af4fb68662aa74ffe0b60b",
            "8735226482b14ce4a56dba5ffb5b69e2",
            "a43de7b4407e4573acb8cad9c4209872",
            "88f9dc7abca34e37b261b297bca0666d",
            "a313080c4fc74bde84b78cc7b65b8de9",
            "a54f886c738e416e8c1b6aa4d13e267a",
            "9dd7372f0ae74045afde481d9fdc7e6e",
            "829668eac4c74a31973f61a653f71442",
            "35a6dac141614ad79bfa8104a45c953e",
            "2cc870ec3ba64f3aabfb11e0a57a756a",
            "fc7bae3f0b5945d08fdc93af7ddd830c",
            "728ecc4956784e0c84acd4347b14495c",
            "ad5e57e28b6a443080c3647fa75c7a81",
            "62fa561f71a14600a11392e07118aede",
            "44fe80d2cd7049bf96cf92eb40422754",
            "875147573a354d49a72ad86b41a2b487",
            "bdd7bf104bdb421e82985cf1ad12364a",
            "ead3a3c92f474ee7a70af4fb4829dfdf",
            "4a7ce3dd3bcc47cd974ef61802bdd903",
            "07b2615efa8c4225a28c16ab1655d68a",
            "4162a54dd6d84c979c467ec9deaaac76",
            "48bc2b91847b4477946293788f4f8a9b",
            "5ed23d9c71a244208fbf58b269f6f4c6"
          ]
        },
        "id": "a6179744",
        "outputId": "d56ed295-9635-4778-d2b1-69169116dacc"
      },
      "outputs": [
        {
          "name": "stderr",
          "output_type": "stream",
          "text": [
            "WARNING:datasets.builder:Using custom data configuration default-7b8564c79e40b6a8\n"
          ]
        },
        {
          "name": "stdout",
          "output_type": "stream",
          "text": [
            "Downloading and preparing dataset csv/default to /root/.cache/huggingface/datasets/csv/default-7b8564c79e40b6a8/0.0.0/6b34fb8fcf56f7c8ba51dc895bfa2bfbe43546f190a60fcf74bb5e8afdcc2317...\n"
          ]
        },
        {
          "data": {
            "application/vnd.jupyter.widget-view+json": {
              "model_id": "d013c7acea6b4414ae9a97aeb8497317",
              "version_major": 2,
              "version_minor": 0
            },
            "text/plain": [
              "Downloading data files:   0%|          | 0/3 [00:00<?, ?it/s]"
            ]
          },
          "metadata": {},
          "output_type": "display_data"
        },
        {
          "data": {
            "application/vnd.jupyter.widget-view+json": {
              "model_id": "77d9ba6c1af64eae872edba3dc8061ac",
              "version_major": 2,
              "version_minor": 0
            },
            "text/plain": [
              "Extracting data files:   0%|          | 0/3 [00:00<?, ?it/s]"
            ]
          },
          "metadata": {},
          "output_type": "display_data"
        },
        {
          "data": {
            "application/vnd.jupyter.widget-view+json": {
              "model_id": "4fc36a529d464f0589593827a709aa2e",
              "version_major": 2,
              "version_minor": 0
            },
            "text/plain": [
              "Generating train split: 0 examples [00:00, ? examples/s]"
            ]
          },
          "metadata": {},
          "output_type": "display_data"
        },
        {
          "name": "stderr",
          "output_type": "stream",
          "text": [
            "/usr/local/lib/python3.10/dist-packages/datasets/download/streaming_download_manager.py:776: FutureWarning: the 'mangle_dupe_cols' keyword is deprecated and will be removed in a future version. Please take steps to stop the use of 'mangle_dupe_cols'\n",
            "  return pd.read_csv(xopen(filepath_or_buffer, \"rb\", use_auth_token=use_auth_token), **kwargs)\n"
          ]
        },
        {
          "data": {
            "application/vnd.jupyter.widget-view+json": {
              "model_id": "615c9b834baf421cab19b081823fae74",
              "version_major": 2,
              "version_minor": 0
            },
            "text/plain": [
              "Generating val split: 0 examples [00:00, ? examples/s]"
            ]
          },
          "metadata": {},
          "output_type": "display_data"
        },
        {
          "name": "stderr",
          "output_type": "stream",
          "text": [
            "/usr/local/lib/python3.10/dist-packages/datasets/download/streaming_download_manager.py:776: FutureWarning: the 'mangle_dupe_cols' keyword is deprecated and will be removed in a future version. Please take steps to stop the use of 'mangle_dupe_cols'\n",
            "  return pd.read_csv(xopen(filepath_or_buffer, \"rb\", use_auth_token=use_auth_token), **kwargs)\n"
          ]
        },
        {
          "data": {
            "application/vnd.jupyter.widget-view+json": {
              "model_id": "8735226482b14ce4a56dba5ffb5b69e2",
              "version_major": 2,
              "version_minor": 0
            },
            "text/plain": [
              "Generating test split: 0 examples [00:00, ? examples/s]"
            ]
          },
          "metadata": {},
          "output_type": "display_data"
        },
        {
          "name": "stderr",
          "output_type": "stream",
          "text": [
            "/usr/local/lib/python3.10/dist-packages/datasets/download/streaming_download_manager.py:776: FutureWarning: the 'mangle_dupe_cols' keyword is deprecated and will be removed in a future version. Please take steps to stop the use of 'mangle_dupe_cols'\n",
            "  return pd.read_csv(xopen(filepath_or_buffer, \"rb\", use_auth_token=use_auth_token), **kwargs)\n"
          ]
        },
        {
          "name": "stdout",
          "output_type": "stream",
          "text": [
            "Dataset csv downloaded and prepared to /root/.cache/huggingface/datasets/csv/default-7b8564c79e40b6a8/0.0.0/6b34fb8fcf56f7c8ba51dc895bfa2bfbe43546f190a60fcf74bb5e8afdcc2317. Subsequent calls will reuse this data.\n"
          ]
        },
        {
          "data": {
            "application/vnd.jupyter.widget-view+json": {
              "model_id": "ad5e57e28b6a443080c3647fa75c7a81",
              "version_major": 2,
              "version_minor": 0
            },
            "text/plain": [
              "  0%|          | 0/3 [00:00<?, ?it/s]"
            ]
          },
          "metadata": {},
          "output_type": "display_data"
        },
        {
          "data": {
            "text/plain": [
              "DatasetDict({\n",
              "    train: Dataset({\n",
              "        features: ['src', 'tgt'],\n",
              "        num_rows: 3651\n",
              "    })\n",
              "    val: Dataset({\n",
              "        features: ['src', 'tgt'],\n",
              "        num_rows: 398\n",
              "    })\n",
              "    test: Dataset({\n",
              "        features: ['src', 'tgt'],\n",
              "        num_rows: 332\n",
              "    })\n",
              "})"
            ]
          },
          "execution_count": 37,
          "metadata": {},
          "output_type": "execute_result"
        }
      ],
      "source": [
        "dataset = load_dataset('csv', data_files={'train':f'data/train.csv', \\\n",
        "                                          'val': f'data/dev.csv', \\\n",
        "                                          'test': f'data/test.csv'})\n",
        "dataset"
      ]
    },
    {
      "cell_type": "code",
      "execution_count": null,
      "id": "cf2002eb",
      "metadata": {
        "id": "cf2002eb"
      },
      "outputs": [],
      "source": [
        "train_data = dataset['train']\n",
        "val_data = dataset['val']\n",
        "test_data = dataset['test']"
      ]
    },
    {
      "cell_type": "code",
      "execution_count": null,
      "id": "dbdb6bd0",
      "metadata": {
        "id": "dbdb6bd0"
      },
      "outputs": [],
      "source": [
        "MIN_FREQ = 3\n",
        "unk_token = '[UNK]'\n",
        "pad_token = '[PAD]'\n",
        "bos_token = '<bos>'\n",
        "eos_token = '<eos>'\n",
        "\n",
        "src_tokenizer = Tokenizer(WordLevel(unk_token=unk_token))\n",
        "src_tokenizer.normalizer = normalizers.Lowercase()\n",
        "src_tokenizer.pre_tokenizer = Split(Regex(tokenizer_pattern), behavior='removed', invert=True)\n",
        "\n",
        "src_trainer = WordLevelTrainer(min_frequency=MIN_FREQ, special_tokens=[pad_token, unk_token])\n",
        "src_tokenizer.train_from_iterator(train_data['src'], trainer=src_trainer)\n",
        "\n",
        "tgt_tokenizer = Tokenizer(WordLevel(unk_token=unk_token))\n",
        "tgt_tokenizer.pre_tokenizer = WhitespaceSplit()\n",
        "\n",
        "tgt_trainer = WordLevelTrainer(min_frequency=MIN_FREQ, special_tokens=[pad_token, unk_token, bos_token, eos_token])\n",
        "\n",
        "tgt_tokenizer.train_from_iterator(train_data['tgt'], trainer=tgt_trainer)\n",
        "\n",
        "tgt_tokenizer.post_processor = TemplateProcessing(single=f\"{bos_token} $A {eos_token}\", special_tokens=[(bos_token, tgt_tokenizer.token_to_id(bos_token)), (eos_token, tgt_tokenizer.token_to_id(eos_token))])"
      ]
    },
    {
      "cell_type": "markdown",
      "id": "76b6fbcd",
      "metadata": {
        "id": "76b6fbcd"
      },
      "source": [
        "Note that we prepended `<bos>` and appended `<eos>` to target sentences.\n",
        "\n",
        "We use `datasets.Dataset.map` to convert text into word ids. As shown in lab 1-5, first we need to wrap `tokenizer` with the `transformers.PreTrainedTokenizerFast` class to be compatible with the `datasets` library."
      ]
    },
    {
      "cell_type": "code",
      "execution_count": null,
      "id": "0646660f",
      "metadata": {
        "colab": {
          "base_uri": "https://localhost:8080/",
          "height": 113,
          "referenced_widgets": [
            "302c185c3fc54959a06b7037eeec4b0c",
            "5904d2c4793d497abfd9179840d2c336",
            "c803602349c5487ca28d23a0ad98c1a3",
            "3f8bea3c99504696b862804fe519c621",
            "6db20d6e1dad4b649879c417fbd1597c",
            "915dc08b4d6144cd98e85e46cd2dd515",
            "c1b18b091a284b70b988b4ee2e588840",
            "4e5f3cf2b3844c639b3595a669e552dc",
            "7de2eee6da314640b549e515f006f4fe",
            "90de0b2feb024dedb329e983f4d6e9a0",
            "29efbe0793044fabb6487da02a9452ed",
            "af155f36772c4f2bbbd41727a2dee79d",
            "52fbe7de78164d3397857d0a83c4b807",
            "684084a8f8464518a657f0c43b846d41",
            "b9d3d3c7d85646df986f20e12dcf6f90",
            "d99a355c6d4942a4b338ff4301b045ae",
            "dbdde92b730849d18d0fe8f945fb3f1d",
            "1276ae1885234d70bf049c878548313e",
            "2aa1335ce2eb424ca4b66c7da5993513",
            "acff49e0aba94d89aec0401039d4aed2",
            "33671e0de217437e859dcc0ebdc396c2",
            "491d6a73e5004bfd926695a998dc4ab0",
            "44ceaf242fff4c4fa7c005b1b65a1ad5",
            "5234847a0cc04213a678de1a73d23b5d",
            "9966611c8d55494ebff836a181e653ba",
            "fca12e0290054393b2e2d893cf65e434",
            "9a5f54e551c7423ca9c0bc73318fc77c",
            "6d11a6b9d4b541869c2c4b4c4eefb0a4",
            "d054764cf4a9494fa4aa192032ec5986",
            "830c58f9f3c34ff8974745b9b2d263e3",
            "41b593723cf5468aa7e8907c360f498c",
            "a4d83c43947845abadd186c4c8ad31db",
            "905b52f8252f4dd6998a6faff61fa5a1"
          ]
        },
        "id": "0646660f",
        "outputId": "5e8d7f75-e775-4d1a-bcc3-ffdfb1db1fbf"
      },
      "outputs": [
        {
          "data": {
            "application/vnd.jupyter.widget-view+json": {
              "model_id": "302c185c3fc54959a06b7037eeec4b0c",
              "version_major": 2,
              "version_minor": 0
            },
            "text/plain": [
              "  0%|          | 0/3651 [00:00<?, ?ex/s]"
            ]
          },
          "metadata": {},
          "output_type": "display_data"
        },
        {
          "data": {
            "application/vnd.jupyter.widget-view+json": {
              "model_id": "af155f36772c4f2bbbd41727a2dee79d",
              "version_major": 2,
              "version_minor": 0
            },
            "text/plain": [
              "  0%|          | 0/398 [00:00<?, ?ex/s]"
            ]
          },
          "metadata": {},
          "output_type": "display_data"
        },
        {
          "data": {
            "application/vnd.jupyter.widget-view+json": {
              "model_id": "44ceaf242fff4c4fa7c005b1b65a1ad5",
              "version_major": 2,
              "version_minor": 0
            },
            "text/plain": [
              "  0%|          | 0/332 [00:00<?, ?ex/s]"
            ]
          },
          "metadata": {},
          "output_type": "display_data"
        }
      ],
      "source": [
        "hf_src_tokenizer = PreTrainedTokenizerFast(tokenizer_object=src_tokenizer, pad_token=pad_token)\n",
        "# hf_tgt_tokenizer = PreTrainedTokenizerFast(tokenizer_object=tgt_tokenizer, pad_token=pad_token)\n",
        "hf_tgt_tokenizer = PreTrainedTokenizerFast(tokenizer_object=tgt_tokenizer, pad_token=pad_token, unk_token=unk_token, bos_token=bos_token, eos_token=eos_token)\n",
        "\n",
        "\n",
        "def encode(example):\n",
        "    example['src_ids'] = hf_src_tokenizer(example['src']).input_ids\n",
        "    example['tgt_ids'] = hf_tgt_tokenizer(example['tgt']).input_ids\n",
        "    return example\n",
        "\n",
        "train_data = train_data.map(encode)\n",
        "val_data = val_data.map(encode)\n",
        "test_data = test_data.map(encode)"
      ]
    },
    {
      "cell_type": "code",
      "execution_count": null,
      "id": "c2dcadb0",
      "metadata": {
        "colab": {
          "base_uri": "https://localhost:8080/"
        },
        "id": "c2dcadb0",
        "outputId": "816edc2f-379f-4f11-c77d-471fecd8b394"
      },
      "outputs": [
        {
          "name": "stdout",
          "output_type": "stream",
          "text": [
            "Size of English vocab: 421\n",
            "Size of SQL vocab: 392\n",
            "Index for src padding: 0\n",
            "Index for tgt padding: 0\n",
            "Index for start of sequence token: 2\n",
            "Index for end of sequence token: 3\n"
          ]
        }
      ],
      "source": [
        "# Compute size of vocabulary\n",
        "src_vocab = src_tokenizer.get_vocab()\n",
        "tgt_vocab = tgt_tokenizer.get_vocab()\n",
        "\n",
        "print(f\"Size of English vocab: {len(src_vocab)}\")\n",
        "print(f\"Size of SQL vocab: {len(tgt_vocab)}\")\n",
        "print(f\"Index for src padding: {src_vocab[pad_token]}\")\n",
        "print(f\"Index for tgt padding: {tgt_vocab[pad_token]}\")\n",
        "print(f\"Index for start of sequence token: {tgt_vocab[bos_token]}\")\n",
        "print(f\"Index for end of sequence token: {tgt_vocab[eos_token]}\")"
      ]
    },
    {
      "cell_type": "markdown",
      "id": "ae99d64d",
      "metadata": {
        "id": "ae99d64d"
      },
      "source": [
        "Next, we batch our data to facilitate processing on a GPU.\n",
        "Batching is a bit tricky because the source and target will typically be of different lengths and have to padd the sequences to the same length.\n",
        "Since there is  padding, we need to handle them with [`pack`](https://pytorch.org/docs/stable/generated/torch.nn.utils.rnn.pack_padded_sequence.html#torch.nn.utils.rnn.pack_padded_sequence) and [`unpack`](https://pytorch.org/docs/stable/generated/torch.nn.utils.rnn.pad_packed_sequence.html) later on in the seq2seq part (as in lab 4-5)."
      ]
    },
    {
      "cell_type": "code",
      "execution_count": null,
      "id": "b67bbe04",
      "metadata": {
        "id": "b67bbe04"
      },
      "outputs": [],
      "source": [
        "BATCH_SIZE = 16     # batch size for training and validation\n",
        "TEST_BATCH_SIZE = 1 # batch size for test; we use 1 to make implementation easier\n",
        "\n",
        "# Defines how to batch a list of examples together\n",
        "def collate_fn(examples):\n",
        "    batch = {}\n",
        "    bsz = len(examples)\n",
        "    src_ids, tgt_ids = [], []\n",
        "    for example in examples:\n",
        "        src_ids.append(example['src_ids'])\n",
        "        tgt_ids.append(example['tgt_ids'])\n",
        "\n",
        "    src_len = torch.LongTensor([len(word_ids) for word_ids in src_ids]).to(device)\n",
        "    src_max_length = max(src_len)\n",
        "    tgt_max_length = max([len(word_ids) for word_ids in tgt_ids])\n",
        "\n",
        "    src_batch = torch.zeros(bsz, src_max_length).long().fill_(src_vocab[pad_token]).to(device)\n",
        "    tgt_batch = torch.zeros(bsz, tgt_max_length).long().fill_(tgt_vocab[pad_token]).to(device)\n",
        "    for b in range(bsz):\n",
        "        src_batch[b][:len(src_ids[b])] = torch.LongTensor(src_ids[b]).to(device)\n",
        "        tgt_batch[b][:len(tgt_ids[b])] = torch.LongTensor(tgt_ids[b]).to(device)\n",
        "\n",
        "    batch['src_lengths'] = src_len\n",
        "    batch['src_ids'] = src_batch\n",
        "    batch['tgt_ids'] = tgt_batch\n",
        "    return batch\n",
        "\n",
        "train_iter = torch.utils.data.DataLoader(train_data,\n",
        "                                         batch_size=BATCH_SIZE,\n",
        "                                         shuffle=True,\n",
        "                                         collate_fn=collate_fn)\n",
        "val_iter = torch.utils.data.DataLoader(val_data,\n",
        "                                       batch_size=BATCH_SIZE,\n",
        "                                       shuffle=False,\n",
        "                                       collate_fn=collate_fn)\n",
        "test_iter = torch.utils.data.DataLoader(test_data,\n",
        "                                        batch_size=TEST_BATCH_SIZE,\n",
        "                                        shuffle=False,\n",
        "                                        collate_fn=collate_fn)"
      ]
    },
    {
      "cell_type": "markdown",
      "id": "9f4b3ac6",
      "metadata": {
        "id": "9f4b3ac6"
      },
      "source": [
        "Let's look at a single batch from one of these iterators."
      ]
    },
    {
      "cell_type": "code",
      "execution_count": null,
      "id": "b54608c0",
      "metadata": {
        "colab": {
          "base_uri": "https://localhost:8080/"
        },
        "id": "b54608c0",
        "outputId": "b35c383d-b6c2-4a4c-df59-638d6b7b523c"
      },
      "outputs": [
        {
          "name": "stdout",
          "output_type": "stream",
          "text": [
            "Size of text batch: torch.Size([16, 30])\n",
            "Third sentence in batch: tensor([ 9,  7,  4,  3, 13, 16,  2, 11,  6, 69,  0,  0,  0,  0,  0,  0,  0,  0,\n",
            "         0,  0,  0,  0,  0,  0,  0,  0,  0,  0,  0,  0], device='cuda:0')\n",
            "Length of the third sentence in batch: 30\n",
            "Converted back to string: show me flights from san francisco to boston on thursday [PAD] [PAD] [PAD] [PAD] [PAD] [PAD] [PAD] [PAD] [PAD] [PAD] [PAD] [PAD] [PAD] [PAD] [PAD] [PAD] [PAD] [PAD] [PAD] [PAD]\n",
            "Size of sql batch: torch.Size([16, 153])\n",
            "Third sql in batch: tensor([  2,  14,  31,  11,  13,  12,  16,   6,   7,  22,   6,   8,  23,   6,\n",
            "          7,  29,   6,   8,  30,   6,  33,  40,   6,  38,  46,  15,  21,   4,\n",
            "         18,   5,  19,   4,  17,   5,  20,   4,  54,  56,   5,   9,  24,   4,\n",
            "         25,   5,  26,   4,  27,   5,  28,   4,  52,   5,  34,   4,  36,   5,\n",
            "         37,   4,  41,   5,  44,   4,  35,   5,  43,   4, 103,   5,  42,   4,\n",
            "        126,  10,   3,   0,   0,   0,   0,   0,   0,   0,   0,   0,   0,   0,\n",
            "          0,   0,   0,   0,   0,   0,   0,   0,   0,   0,   0,   0,   0,   0,\n",
            "          0,   0,   0,   0,   0,   0,   0,   0,   0,   0,   0,   0,   0,   0,\n",
            "          0,   0,   0,   0,   0,   0,   0,   0,   0,   0,   0,   0,   0,   0,\n",
            "          0,   0,   0,   0,   0,   0,   0,   0,   0,   0,   0,   0,   0,   0,\n",
            "          0,   0,   0,   0,   0,   0,   0,   0,   0,   0,   0,   0,   0],\n",
            "       device='cuda:0')\n",
            "Converted back to string: <bos> SELECT DISTINCT flight_1.flight_id FROM flight flight_1, airport_service airport_service_1, city city_1, airport_service airport_service_2, city city_2, days days_1, date_day date_day_1 WHERE flight_1.from_airport = airport_service_1.airport_code AND airport_service_1.city_code = city_1.city_code AND city_1.city_name = 'SAN FRANCISCO' AND ( flight_1.to_airport = airport_service_2.airport_code AND airport_service_2.city_code = city_2.city_code AND city_2.city_name = 'BOSTON' AND flight_1.flight_days = days_1.days_code AND days_1.day_name = date_day_1.day_name AND date_day_1.year = 1991 AND date_day_1.month_number = 5 AND date_day_1.day_number = 24 ) <eos> [PAD] [PAD] [PAD] [PAD] [PAD] [PAD] [PAD] [PAD] [PAD] [PAD] [PAD] [PAD] [PAD] [PAD] [PAD] [PAD] [PAD] [PAD] [PAD] [PAD] [PAD] [PAD] [PAD] [PAD] [PAD] [PAD] [PAD] [PAD] [PAD] [PAD] [PAD] [PAD] [PAD] [PAD] [PAD] [PAD] [PAD] [PAD] [PAD] [PAD] [PAD] [PAD] [PAD] [PAD] [PAD] [PAD] [PAD] [PAD] [PAD] [PAD] [PAD] [PAD] [PAD] [PAD] [PAD] [PAD] [PAD] [PAD] [PAD] [PAD] [PAD] [PAD] [PAD] [PAD] [PAD] [PAD] [PAD] [PAD] [PAD] [PAD] [PAD] [PAD] [PAD] [PAD] [PAD] [PAD] [PAD] [PAD] [PAD] [PAD]\n"
          ]
        }
      ],
      "source": [
        "batch = next(iter(train_iter))\n",
        "src_ids = batch['src_ids']\n",
        "src_example = src_ids[2]\n",
        "print (f\"Size of text batch: {src_ids.size()}\")\n",
        "print (f\"Third sentence in batch: {src_example}\")\n",
        "print (f\"Length of the third sentence in batch: {len(src_example)}\")\n",
        "print (f\"Converted back to string: {hf_src_tokenizer.decode(src_example)}\")\n",
        "\n",
        "tgt_ids = batch['tgt_ids']\n",
        "tgt_example = tgt_ids[2]\n",
        "print (f\"Size of sql batch: {tgt_ids.size()}\")\n",
        "print (f\"Third sql in batch: {tgt_example}\")\n",
        "print (f\"Converted back to string: {hf_tgt_tokenizer.decode(tgt_example)}\")"
      ]
    },
    {
      "cell_type": "markdown",
      "id": "87362e88",
      "metadata": {
        "id": "87362e88"
      },
      "source": [
        "Alternatively, we can directly iterate over the raw examples:"
      ]
    },
    {
      "cell_type": "code",
      "execution_count": null,
      "id": "51eec2bf",
      "metadata": {
        "colab": {
          "base_uri": "https://localhost:8080/"
        },
        "id": "51eec2bf",
        "outputId": "db3d13c5-1c0f-4ddd-a31e-67d744547923"
      },
      "outputs": [
        {
          "name": "stdout",
          "output_type": "stream",
          "text": [
            "Question: list all the flights that arrive at general mitchell international from various cities\n",
            "\n",
            "SQL: SELECT DISTINCT flight_1.flight_id FROM flight flight_1 , airport airport_1 , airport_service airport_service_1 , city city_1 WHERE flight_1.to_airport = airport_1.airport_code AND airport_1.airport_code = 'MKE' AND flight_1.from_airport = airport_service_1.airport_code AND airport_service_1.city_code = city_1.city_code AND 1 = 1\n"
          ]
        }
      ],
      "source": [
        "for _, example in zip(range(1), train_data):\n",
        "  train_text_1 = example['src'] # detokenized question\n",
        "  train_sql_1 = example['tgt']  # detokenized sql\n",
        "  print (f\"Question: {train_text_1}\\n\")\n",
        "  print (f\"SQL: {train_sql_1}\")"
      ]
    },
    {
      "cell_type": "markdown",
      "id": "fd104480",
      "metadata": {
        "id": "fd104480"
      },
      "source": [
        "## Establishing a SQL database for evaluating ATIS queries\n",
        "\n",
        "The output of our systems will be SQL queries. How should we determine if the generated queries are correct? We can't merely compare against the gold SQL queries, since there are many ways to implement a SQL query that answers any given NL query.\n",
        "\n",
        "Instead, we will execute the queries – both the predicted SQL query and the gold SQL query – on an actual database, and verify that the returned responses are the same. For that purpose, we need a SQL database server to use. We'll set one up here, using the [Python `sqlite3` module](https://docs.python.org/3.8/library/sqlite3.html)."
      ]
    },
    {
      "cell_type": "code",
      "execution_count": null,
      "id": "1de75894",
      "metadata": {
        "id": "1de75894"
      },
      "outputs": [],
      "source": [
        "@func_set_timeout(TIMEOUT)\n",
        "def execute_sql(sql):\n",
        "  conn = sqlite3.connect('data/atis_sqlite.db')  # establish the DB based on the downloaded data\n",
        "  c = conn.cursor()                              # build a \"cursor\"\n",
        "  c.execute(sql)\n",
        "  results = list(c.fetchall())\n",
        "  c.close()\n",
        "  conn.close()\n",
        "  return results"
      ]
    },
    {
      "cell_type": "markdown",
      "id": "b276ef58",
      "metadata": {
        "id": "b276ef58"
      },
      "source": [
        "To run a query, we use the cursor's `execute` function, and retrieve the results with `fetchall`. Let's get all the flights that arrive at General Mitchell International – the query `train_sql_1` above. There's a lot, so we'll just print out the first few."
      ]
    },
    {
      "cell_type": "code",
      "execution_count": null,
      "id": "9c5786e3",
      "metadata": {
        "colab": {
          "base_uri": "https://localhost:8080/"
        },
        "id": "9c5786e3",
        "outputId": "e5885532-34d5-4c36-8e81-bddeea4503fc"
      },
      "outputs": [
        {
          "name": "stdout",
          "output_type": "stream",
          "text": [
            "\n",
            "Executing: SELECT DISTINCT flight_1.flight_id FROM flight flight_1 , airport airport_1 , airport_service airport_service_1 , city city_1 WHERE flight_1.to_airport = airport_1.airport_code AND airport_1.airport_code = 'MKE' AND flight_1.from_airport = airport_service_1.airport_code AND airport_service_1.city_code = city_1.city_code AND 1 = 1\n",
            "\n",
            "Result: 534 entries starting with\n",
            "\n",
            "[(107929,), (107930,), (107931,), (107932,), (107933,), (107934,), (107935,), (107936,), (107937,), (107938,)]\n",
            "\n"
          ]
        }
      ],
      "source": [
        "predicted_ret = execute_sql(train_sql_1)\n",
        "\n",
        "print(f\"\"\"\n",
        "Executing: {train_sql_1}\n",
        "\n",
        "Result: {len(predicted_ret)} entries starting with\n",
        "\n",
        "{predicted_ret[:10]}\n",
        "\"\"\")"
      ]
    },
    {
      "cell_type": "markdown",
      "id": "5033bff7",
      "metadata": {
        "id": "5033bff7"
      },
      "source": [
        "For your reference, the SQL database we are using has a database schema described at https://github.com/jkkummerfeld/text2sql-data/blob/master/data/atis-schema.csv, and is consistent with the SQL queries provided in the various `.sql` files loaded above."
      ]
    },
    {
      "cell_type": "markdown",
      "id": "fd23f820",
      "metadata": {
        "deletable": false,
        "editable": false,
        "id": "fd23f820"
      },
      "source": [
        "# Rule-based parsing and interpretation of ATIS queries\n",
        "\n",
        "First, you will implement a rule-based semantic parser using a grammar like the one you completed in the third project segment. We've placed an initial grammar in the file `data/grammar`.\n",
        "In addition to the helper functions defined above (`constant`, `first`, etc.), it makes use of some other simple functions. We've included those below, but you can (and almost certainly should) augment this set with others that you define as you build out the full set of augmentations.\n",
        "\n",
        "<!--\n",
        "BEGIN QUESTION\n",
        "name: helper_functions\n",
        "-->"
      ]
    },
    {
      "cell_type": "code",
      "execution_count": null,
      "id": "c3c8f0f5",
      "metadata": {
        "id": "c3c8f0f5"
      },
      "outputs": [],
      "source": [
        "def upper(term):\n",
        "  return '\"' + term.upper() + '\"'\n",
        "\n",
        "def weekday(day):\n",
        "  return f\"flight.flight_days IN (SELECT days.days_code FROM days WHERE days.day_name = '{day.upper()}')\"\n",
        "\n",
        "def month_name(month):\n",
        "  return {'JANUARY' : 1,\n",
        "          'FEBRUARY' : 2,\n",
        "          'MARCH' : 3,\n",
        "          'APRIL' : 4,\n",
        "          'MAY' : 5,\n",
        "          'JUNE' : 6,\n",
        "          'JULY' : 7,\n",
        "          'AUGUST' : 8,\n",
        "          'SEPTEMBER' : 9,\n",
        "          'OCTOBER' : 10,\n",
        "          'NOVEMBER' : 11,\n",
        "          'DECEMBER' : 12}[month.upper()]\n",
        "\n",
        "def airports_from_airport_name(airport_name):\n",
        "  return f\"(SELECT airport.airport_code FROM airport WHERE airport.airport_name = {upper(airport_name)})\"\n",
        "\n",
        "def airports_from_city(city):\n",
        "  return f\"\"\"\n",
        "    (SELECT airport_service.airport_code FROM airport_service WHERE airport_service.city_code IN\n",
        "      (SELECT city.city_code FROM city WHERE city.city_name = {upper(city)}))\n",
        "  \"\"\"\n",
        "\n",
        "def null_condition(*args, **kwargs):\n",
        "  return 1\n",
        "\n",
        "def depart_around(time):\n",
        "  return f\"\"\"\n",
        "    flight.departure_time >= {add_delta(miltime(time), -15).strftime('%H%M')}\n",
        "    AND flight.departure_time <= {add_delta(miltime(time), 15).strftime('%H%M')}\n",
        "    \"\"\".strip()\n",
        "\n",
        "def add_delta(tme, delta):\n",
        "    # transform to a full datetime first\n",
        "    return (datetime.datetime.combine(datetime.date.today(), tme) +\n",
        "            datetime.timedelta(minutes=delta)).time()\n",
        "\n",
        "def miltime(minutes):\n",
        "  return datetime.time(hour=int(minutes/100), minute=(minutes % 100))\n"
      ]
    },
    {
      "cell_type": "markdown",
      "id": "ef45571a",
      "metadata": {
        "id": "ef45571a"
      },
      "source": [
        "We can build a parser with the augmented grammar:"
      ]
    },
    {
      "cell_type": "code",
      "execution_count": null,
      "id": "3ba42b3a",
      "metadata": {
        "id": "3ba42b3a"
      },
      "outputs": [],
      "source": [
        "atis_grammar, atis_augmentations = xform.read_augmented_grammar('data/grammar', globals=globals())\n",
        "atis_parser = nltk.parse.BottomUpChartParser(atis_grammar)"
      ]
    },
    {
      "cell_type": "markdown",
      "id": "f4645008",
      "metadata": {
        "id": "f4645008"
      },
      "source": [
        "We'll define a function to return a parse tree for a string according to the ATIS grammar (if available)."
      ]
    },
    {
      "cell_type": "code",
      "execution_count": null,
      "id": "4cc626cd",
      "metadata": {
        "id": "4cc626cd"
      },
      "outputs": [],
      "source": [
        "def parse_tree(sentence):\n",
        "  \"\"\"Parse a sentence and return the parse tree, or None if failure.\"\"\"\n",
        "  try:\n",
        "    parses = list(atis_parser.parse(tokenize_nltk(sentence)))\n",
        "    if len(parses) == 0:\n",
        "      return None\n",
        "    else:\n",
        "      return parses[0]\n",
        "  except:\n",
        "    return None"
      ]
    },
    {
      "cell_type": "markdown",
      "id": "34c97e0e",
      "metadata": {
        "id": "34c97e0e"
      },
      "source": [
        "We can check the overall coverage of this grammar on the training set by using the `parse_tree` function to determine if a parse is available. The grammar that we provide should get about a 44% coverage of the training set."
      ]
    },
    {
      "cell_type": "code",
      "execution_count": null,
      "id": "184f8699",
      "metadata": {
        "colab": {
          "base_uri": "https://localhost:8080/"
        },
        "id": "184f8699",
        "outputId": "04847d25-0017-470f-b970-855dd578ee66"
      },
      "outputs": [
        {
          "name": "stderr",
          "output_type": "stream",
          "text": [
            "100%|██████████| 3651/3651 [00:16<00:00, 225.48it/s]"
          ]
        },
        {
          "name": "stdout",
          "output_type": "stream",
          "text": [
            "\n",
            "Parsed 1609 of 3651 (44.07%)\n"
          ]
        },
        {
          "name": "stderr",
          "output_type": "stream",
          "text": [
            "\n"
          ]
        }
      ],
      "source": [
        "# Check coverage on training set\n",
        "parsed = 0\n",
        "with open(\"data/train_flightid.nl\") as train:\n",
        "  examples = train.readlines()[:]\n",
        "for sentence in tqdm(examples):\n",
        "  if parse_tree(sentence):\n",
        "    parsed += 1\n",
        "  else:\n",
        "    next\n",
        "\n",
        "print(f\"\\nParsed {parsed} of {len(examples)} ({parsed*100/(len(examples)):.2f}%)\")"
      ]
    },
    {
      "cell_type": "markdown",
      "id": "67844ce9",
      "metadata": {
        "id": "67844ce9"
      },
      "source": [
        "## Goal 1: Construct SQL queries from a parse tree and evaluate the results"
      ]
    },
    {
      "cell_type": "markdown",
      "id": "ee888162",
      "metadata": {
        "id": "ee888162"
      },
      "source": [
        "It's time to turn to the first major part of this project segment, implementing a rule-based semantic parsing system to answer flight-ID-type ATIS queries.\n",
        "\n",
        "Recall that in rule-based semantic parsing, each syntactic rule is associated with a semantic composition rule. The grammar we've provided has semantic augmentations for some of the low-level phrases – cities, airports, times, airlines – but not the higher level syntactic types. You'll be adding those.\n",
        "\n",
        "In the ATIS grammar that we provide, as with the earlier toy grammars, the augmentation for a rule with $n$ nonterminals and $m$ terminals on the right-hand side is assumed to be called with $n$ positional arguments (the values for the corresponding children). The `interpret` function you've already defined should therefore work well with this grammar.\n",
        "\n",
        "Let's run through one way that a semantic derivation might proceed, for the sample query \"flights to boston\":"
      ]
    },
    {
      "cell_type": "code",
      "execution_count": null,
      "id": "a684dccb",
      "metadata": {
        "colab": {
          "base_uri": "https://localhost:8080/"
        },
        "id": "a684dccb",
        "outputId": "cf3d712a-b546-4d93-dd4b-f550bf8d3f8c"
      },
      "outputs": [
        {
          "name": "stdout",
          "output_type": "stream",
          "text": [
            "['flights', 'to', 'boston']\n",
            "                S                         \n",
            "                |                          \n",
            "            NP_FLIGHT                     \n",
            "                |                          \n",
            "            NOM_FLIGHT                    \n",
            "                |                          \n",
            "             N_FLIGHT                     \n",
            "      __________|_________                 \n",
            "     |                    PP              \n",
            "     |                    |                \n",
            "     |                 PP_PLACE           \n",
            "     |           _________|_________       \n",
            "  N_FLIGHT      |                N_PLACE  \n",
            "     |          |                   |      \n",
            "TERM_FLIGHT  P_PLACE            TERM_PLACE\n",
            "     |          |                   |      \n",
            "  flights       to                boston  \n",
            "\n"
          ]
        }
      ],
      "source": [
        "sample_query = \"flights to boston\"\n",
        "print(tokenize_nltk(sample_query))\n",
        "sample_tree = parse_tree(sample_query)\n",
        "sample_tree.pretty_print()"
      ]
    },
    {
      "cell_type": "markdown",
      "id": "1a0d63a4",
      "metadata": {
        "id": "1a0d63a4"
      },
      "source": [
        "Given a sentence, we first construct its parse tree using the syntactic rules, then compose the corresponding semantic rules bottom-up, until eventually we arrive at the root node with a finished SQL statement. For this query, we will go through what the possible meaning representations for the subconstituents of \"flights to boston\" might be. But this is just one way of doing things; other ways are possible, and you should feel free to experiment.\n",
        "\n",
        "Working from bottom up:\n",
        "\n",
        "1. The `TERM_PLACE` phrase \"boston\" uses the composition function template `constant(airports_from_city(' '.join(_RHS)))`, which will be instantiated as `constant(airports_from_city(' '.join(['boston'])))` (recall that `_RHS` is replaced by the right-hand side of the rule). The meaning of `TERM_PLACE` will be the SQL snippet\n",
        "```\n",
        "SELECT airport_service.airport_code\n",
        "FROM airport_service\n",
        "WHERE airport_service.city_code IN\n",
        "    (SELECT city.city_code\n",
        "     FROM city\n",
        "     WHERE city.city_name = \"BOSTON\")\n",
        "```\n",
        "(This query generates a list of all of the airports in Boston.)\n",
        "\n",
        "2. The `N_PLACE` phrase \"boston\" can have the same meaning as the `TERM_PLACE`.\n",
        "\n",
        "3. The `P_PLACE` phrase \"to\" might be associated with a function that maps a SQL query for a list of airports to a SQL condition that holds of flights that go to one of those airports, i.e., `flight.to_airport IN (...)`.\n",
        "\n",
        "4. The `PP_PLACE` phrase \"to boston\" might apply the `P_PLACE` meaning to the `TERM_PLACE` meaning, thus generating a SQL condition that holds of flights that go to one of the Boston airports:\n",
        "```\n",
        "flight.to_airport IN\n",
        "    (SELECT airport_service.airport_code\n",
        "     FROM airport_service\n",
        "     WHERE airport_service.city_code IN\n",
        "         (SELECT city.city_code\n",
        "          FROM city\n",
        "          WHERE city.city_name = \"BOSTON\"))\n",
        "```\n",
        "\n",
        "5. The `PP` phrase \"to Boston\" can again get its meaning from the `PP_PLACE`.\n",
        "\n",
        "6. The `TERM_FLIGHT` phrase \"flights\" might also return a condition on flights, this time the \"null condition\", represented by the SQL truth value `1`. Ditto for the `N_FLIGHT` phrase \"flights\".\n",
        "\n",
        "7. The `N_FLIGHT` phrase \"flights to boston\" can conjoin the two conditions, yielding the SQL condition\n",
        "```\n",
        "flight.to_airport IN\n",
        "    (SELECT airport_service.airport_code\n",
        "     FROM airport_service\n",
        "     WHERE airport_service.city_code IN\n",
        "         (SELECT city.city_code\n",
        "          FROM city\n",
        "          WHERE city.city_name = \"BOSTON\"))\n",
        "AND 1\n",
        "```\n",
        "which can be inherited by the `NOM_FLIGHT` and `NP_FLIGHT` phrases.\n",
        "\n",
        "8. The `S` phrase \"flights to boston\" can use the condition provided by the `NP_FLIGHT` phrase to select all flights satisfying the condition with a SQL query like\n",
        "```\n",
        "SELECT DISTINCT flight.flight_id\n",
        "FROM flight\n",
        "WHERE flight.to_airport IN\n",
        "        (SELECT airport_service.airport_code\n",
        "         FROM airport_service\n",
        "         WHERE airport_service.city_code IN\n",
        "             (SELECT city.city_code\n",
        "              FROM city\n",
        "              WHERE city.city_name = \"BOSTON\"))\n",
        "      AND 1\n",
        "```\n",
        "\n",
        "This SQL query is then taken to be a representation of the meaning for the NL query \"flights to boston\", and can be executed against the ATIS database to retrieve the requested flights."
      ]
    },
    {
      "cell_type": "markdown",
      "id": "0b44a5b8",
      "metadata": {
        "id": "0b44a5b8"
      },
      "source": [
        "Now, it's your turn to add augmentations to `data/grammar` to make this example work. The augmentations that we have provided for the grammar make use of a set of auxiliary functions that we defined above. You should feel free to add your own auxiliary functions that you make use of in the grammar."
      ]
    },
    {
      "cell_type": "code",
      "execution_count": null,
      "id": "5Be0IwAo0kvt",
      "metadata": {
        "id": "5Be0IwAo0kvt"
      },
      "outputs": [],
      "source": [
        "# Additonal function code for the grammar (supporting the addition we made)\n",
        "\n",
        "def AND(objA, objB):\n",
        "  return f\"{objA} AND {objB}\"\n",
        "\n",
        "def OR(objA, objB):\n",
        "  return f\"{objA} OR {objB}\"\n",
        "\n",
        "def AIRLINECODE_ADD(code):\n",
        "  return f\"flight.airline_code='{code}'\"\n",
        "\n",
        "def FLIGHT_PRS(flight):\n",
        "  return f\"SELECT DISTINCT flight.flight_id FROM flight WHERE {flight}\"\n",
        "\n",
        "def DATE_PRS(day=None, month=None, year=None):\n",
        "  def_val = \"1\"\n",
        "  bld_day = \"DAY = \"\n",
        "  bld_month = \"MONTH = \"\n",
        "  bld_year = \"YEAR = \"\n",
        "\n",
        "  bld_day += day if day != None else def_val\n",
        "  bld_month += month if month != None else def_val\n",
        "  bld_year += year if year != None else def_val\n",
        "\n",
        "  return f\"flight.flight_days IN (SELECT DAYS_CODE FROM days WHERE DAY_NAME IN (SELECT DAY_NAME FROM date_day WHERE {bld_day} AND {bld_month} AND {bld_year}))\"\n",
        "\n",
        "def ARRIVAL_BEFORE(time):\n",
        "  return f\"flight.arrival_time < {time}\"\n",
        "\n",
        "def ARRIVAL_AFTER(time):\n",
        "  return f\"flight.arrival_time > {time}\"\n",
        "\n",
        "def DEPARTURE_BEFORE(time):\n",
        "  return f\"flight.departure_time < {time}\"\n",
        "\n",
        "def DEPARTURE_AFTER(time):\n",
        "  return f\"flight.departure_time > {time}\"\n",
        "\n",
        "def AROUND(time, dprt_arrvl):\n",
        "  return f\"flight.{dprt_arrvl}_time >= {add_delta(miltime(time), -15).strftime('%c%M')} AND flight.{dprt_arrvl}_time <= {add_delta(miltime(time), 15).strftime('%c%M')}\".strip()\n",
        "\n",
        "def ORIG_AIRPORT(airport):\n",
        "  return f\"flight.from_airport IN {airport}\"\n",
        "\n",
        "def DEST_AIRPORT(airport):\n",
        "  return f\"flight.to_airport IN {airport}\"\n",
        "\n",
        "\n"
      ]
    },
    {
      "cell_type": "code",
      "execution_count": null,
      "id": "4dee1c62",
      "metadata": {
        "colab": {
          "base_uri": "https://localhost:8080/"
        },
        "id": "4dee1c62",
        "outputId": "43c6dd45-5952-4861-b6db-02e2f85ff088"
      },
      "outputs": [
        {
          "name": "stdout",
          "output_type": "stream",
          "text": [
            "Predicted SQL:\n",
            "\n",
            " SELECT DISTINCT flight.flight_id FROM flight WHERE 1 AND flight.to_airport IN \n",
            "    (SELECT airport_service.airport_code FROM airport_service WHERE airport_service.city_code IN\n",
            "      (SELECT city.city_code FROM city WHERE city.city_name = \"BOSTON\"))\n",
            "   \n",
            "\n"
          ]
        }
      ],
      "source": [
        "#TODO: add augmentations to `data/grammar` to make this example work\n",
        "atis_grammar, atis_augmentations = xform.read_augmented_grammar('data/grammar', globals=globals())\n",
        "atis_parser = nltk.parse.BottomUpChartParser(atis_grammar)\n",
        "predicted_sql = interpret(sample_tree, atis_augmentations)\n",
        "print(\"Predicted SQL:\\n\\n\", predicted_sql, \"\\n\")"
      ]
    },
    {
      "cell_type": "markdown",
      "id": "51d5a690",
      "metadata": {
        "id": "51d5a690"
      },
      "source": [
        "#### Verification on some examples\n",
        "\n",
        "With a rule-based semantic parsing system, we can generate SQL queries given questions, and then execute those queries on a SQL database to answer the given questions. To evaluate the performance of the system, we compare the returned results against the results of executing the ground truth queries.\n",
        "\n",
        "We provide a function `verify` to compare the results from our generated SQL to the ground truth SQL. It should be useful for testing individual queries."
      ]
    },
    {
      "cell_type": "code",
      "execution_count": null,
      "id": "497bc442",
      "metadata": {
        "id": "497bc442"
      },
      "outputs": [],
      "source": [
        "def verify(predicted_sql, gold_sql, silent=True):\n",
        "  \"\"\"\n",
        "  Compare the correctness of the generated SQL by executing on the\n",
        "  ATIS database and comparing the returned results.\n",
        "  Arguments:\n",
        "      predicted_sql: the predicted SQL query\n",
        "      gold_sql: the reference SQL query to compare against\n",
        "      silent: print outputs or not\n",
        "  Returns: True if the returned results are the same, otherwise False\n",
        "  \"\"\"\n",
        "  # Execute predicted SQL\n",
        "  try:\n",
        "    predicted_result = execute_sql(predicted_sql)\n",
        "  except BaseException as e:\n",
        "    if not silent:\n",
        "      print(f\"predicted sql exec failed: {e}\")\n",
        "    return False\n",
        "  if not silent:\n",
        "    print(\"Predicted DB result:\\n\\n\", predicted_result[:10], \"\\n\")\n",
        "\n",
        "  # Execute gold SQL\n",
        "  try:\n",
        "    gold_result = execute_sql(gold_sql)\n",
        "  except BaseException as e:\n",
        "    if not silent:\n",
        "      print(f\"gold sql exec failed: {e}\")\n",
        "    return False\n",
        "  if not silent:\n",
        "    print(\"Gold DB result:\\n\\n\", gold_result[:10], \"\\n\")\n",
        "\n",
        "  # Verify correctness\n",
        "  if gold_result == predicted_result:\n",
        "    return True"
      ]
    },
    {
      "cell_type": "markdown",
      "id": "caf469c0",
      "metadata": {
        "id": "caf469c0"
      },
      "source": [
        "Let's try this methodology on a simple example: \"flights from phoenix to milwaukee\". we provide it along with the gold SQL query."
      ]
    },
    {
      "cell_type": "code",
      "execution_count": null,
      "id": "57db3e51",
      "metadata": {
        "id": "57db3e51"
      },
      "outputs": [],
      "source": [
        "def rule_based_trial(sentence, gold_sql):\n",
        "  print(\"Sentence: \", sentence, \"\\n\")\n",
        "  tree = parse_tree(sentence)\n",
        "  print(\"Parse:\\n\\n\")\n",
        "  tree.pretty_print()\n",
        "\n",
        "  predicted_sql = interpret(tree, atis_augmentations)\n",
        "  print(\"Predicted SQL:\\n\\n\", predicted_sql, \"\\n\")\n",
        "\n",
        "  if verify(predicted_sql, gold_sql, silent=False):\n",
        "    print ('Correct!')\n",
        "  else:\n",
        "    print ('Incorrect!')"
      ]
    },
    {
      "cell_type": "code",
      "execution_count": null,
      "id": "e274f3e3",
      "metadata": {
        "id": "e274f3e3"
      },
      "outputs": [],
      "source": [
        "# Run this cell to reload augmentations after you make changes to `data/grammar`\n",
        "atis_grammar, atis_augmentations = xform.read_augmented_grammar('data/grammar', globals=globals())\n",
        "atis_parser = nltk.parse.BottomUpChartParser(atis_grammar)"
      ]
    },
    {
      "cell_type": "code",
      "execution_count": null,
      "id": "0f9d2e96",
      "metadata": {
        "colab": {
          "base_uri": "https://localhost:8080/"
        },
        "id": "0f9d2e96",
        "outputId": "58504e77-0b99-4e46-9ce7-a08ea320919e"
      },
      "outputs": [
        {
          "name": "stdout",
          "output_type": "stream",
          "text": [
            "Sentence:  flights from phoenix to milwaukee \n",
            "\n",
            "Parse:\n",
            "\n",
            "\n",
            "                                  S                                 \n",
            "                                  |                                  \n",
            "                              NP_FLIGHT                             \n",
            "                                  |                                  \n",
            "                              NOM_FLIGHT                            \n",
            "                                  |                                  \n",
            "                               N_FLIGHT                             \n",
            "                __________________|_________________                 \n",
            "            N_FLIGHT                                |               \n",
            "      _________|________                            |                \n",
            "     |                  PP                          PP              \n",
            "     |                  |                           |                \n",
            "     |               PP_PLACE                    PP_PLACE           \n",
            "     |          ________|_________           _______|_________       \n",
            "  N_FLIGHT     |               N_PLACE      |              N_PLACE  \n",
            "     |         |                  |         |                 |      \n",
            "TERM_FLIGHT P_PLACE           TERM_PLACE P_PLACE          TERM_PLACE\n",
            "     |         |                  |         |                 |      \n",
            "  flights     from             phoenix      to            milwaukee \n",
            "\n",
            "Predicted SQL:\n",
            "\n",
            " SELECT DISTINCT flight.flight_id FROM flight WHERE 1 AND flight.from_airport IN \n",
            "    (SELECT airport_service.airport_code FROM airport_service WHERE airport_service.city_code IN\n",
            "      (SELECT city.city_code FROM city WHERE city.city_name = \"PHOENIX\"))\n",
            "   AND flight.to_airport IN \n",
            "    (SELECT airport_service.airport_code FROM airport_service WHERE airport_service.city_code IN\n",
            "      (SELECT city.city_code FROM city WHERE city.city_name = \"MILWAUKEE\"))\n",
            "   \n",
            "\n",
            "Predicted DB result:\n",
            "\n",
            " [(108086,), (108087,), (301763,), (301764,), (301765,), (301766,), (302323,), (304881,), (310619,), (310620,)] \n",
            "\n",
            "Gold DB result:\n",
            "\n",
            " [(108086,), (108087,), (301763,), (301764,), (301765,), (301766,), (302323,), (304881,), (310619,), (310620,)] \n",
            "\n",
            "Correct!\n"
          ]
        }
      ],
      "source": [
        "#TODO: add augmentations to `data/grammar` to make this example work\n",
        "# Example 1\n",
        "example_1 = 'flights from phoenix to milwaukee'\n",
        "gold_sql_1 = \"\"\"\n",
        "  SELECT DISTINCT flight_1.flight_id\n",
        "  FROM flight flight_1 ,\n",
        "       airport_service airport_service_1 ,\n",
        "       city city_1 ,\n",
        "       airport_service airport_service_2 ,\n",
        "       city city_2\n",
        "  WHERE flight_1.from_airport = airport_service_1.airport_code\n",
        "        AND airport_service_1.city_code = city_1.city_code\n",
        "        AND city_1.city_name = 'PHOENIX'\n",
        "        AND flight_1.to_airport = airport_service_2.airport_code\n",
        "        AND airport_service_2.city_code = city_2.city_code\n",
        "        AND city_2.city_name = 'MILWAUKEE'\n",
        "  \"\"\"\n",
        "\n",
        "rule_based_trial(example_1, gold_sql_1)"
      ]
    },
    {
      "cell_type": "markdown",
      "id": "f9e90898",
      "metadata": {
        "id": "f9e90898"
      },
      "source": [
        "To make development faster, we recommend starting with a few examples before running the full evaluation script. We've taken some examples from the ATIS dataset including the gold SQL queries that they provided. Of course, yours (and those of the project segment solution set) may differ."
      ]
    },
    {
      "cell_type": "code",
      "execution_count": null,
      "id": "2af3beb4",
      "metadata": {
        "colab": {
          "base_uri": "https://localhost:8080/"
        },
        "id": "2af3beb4",
        "outputId": "34a87182-b60b-4665-fc3e-49da973b8700"
      },
      "outputs": [
        {
          "name": "stdout",
          "output_type": "stream",
          "text": [
            "Sentence:  i would like a united flight \n",
            "\n",
            "Parse:\n",
            "\n",
            "\n",
            "                                                 S                                                                      \n",
            "                                     ____________|____________________________________________________                   \n",
            "                                    |                                                             NP_FLIGHT             \n",
            "                                    |                                                                 |                  \n",
            "                                PREIGNORE                                                         NOM_FLIGHT            \n",
            "        ____________________________|____________                                          ___________|___________       \n",
            "       |                                     PREIGNORE                                   ADJ                      |     \n",
            "       |                _________________________|____________                            |                       |      \n",
            "       |               |                                  PREIGNORE                  ADJ_AIRLINE              NOM_FLIGHT\n",
            "       |               |                          ____________|____________               |                       |      \n",
            "       |               |                         |                     PREIGNORE     TERM_AIRLINE              N_FLIGHT \n",
            "       |               |                         |                         |              |                       |      \n",
            "PREIGNORESYMBOL PREIGNORESYMBOL           PREIGNORESYMBOL           PREIGNORESYMBOL TERM_AIRBRAND            TERM_FLIGHT\n",
            "       |               |                         |                         |              |                       |      \n",
            "       i             would                      like                       a            united                  flight  \n",
            "\n",
            "Predicted SQL:\n",
            "\n",
            " SELECT DISTINCT flight.flight_id FROM flight WHERE flight.airline_code='UA' AND 1 \n",
            "\n",
            "Predicted DB result:\n",
            "\n",
            " [(100094,), (100099,), (100145,), (100158,), (100164,), (100167,), (100169,), (100203,), (100204,), (100296,)] \n",
            "\n",
            "Gold DB result:\n",
            "\n",
            " [(100094,), (100099,), (100145,), (100158,), (100164,), (100167,), (100169,), (100203,), (100204,), (100296,)] \n",
            "\n",
            "Correct!\n"
          ]
        }
      ],
      "source": [
        "#TODO: add augmentations to `data/grammar` to make this example work\n",
        "# Example 2\n",
        "example_2 = 'i would like a united flight'\n",
        "gold_sql_2 = \"\"\"\n",
        "  SELECT DISTINCT flight_1.flight_id\n",
        "  FROM flight flight_1\n",
        "  WHERE flight_1.airline_code = 'UA'\n",
        "  \"\"\"\n",
        "\n",
        "rule_based_trial(example_2, gold_sql_2)"
      ]
    },
    {
      "cell_type": "code",
      "execution_count": null,
      "id": "03c0406b",
      "metadata": {
        "colab": {
          "base_uri": "https://localhost:8080/"
        },
        "id": "03c0406b",
        "outputId": "b8f0891c-d6f3-4b50-82d4-ef633fc469e9"
      },
      "outputs": [
        {
          "name": "stdout",
          "output_type": "stream",
          "text": [
            "Sentence:  i would like a flight between boston and dallas \n",
            "\n",
            "Parse:\n",
            "\n",
            "\n",
            "                                                                                         S                                               \n",
            "                                     ____________________________________________________|__________                                      \n",
            "                                    |                                                           NP_FLIGHT                                \n",
            "                                    |                                                               |                                     \n",
            "                                    |                                                           NOM_FLIGHT                               \n",
            "                                    |                                                               |                                     \n",
            "                                PREIGNORE                                                        N_FLIGHT                                \n",
            "        ____________________________|____________                                         __________|_________                            \n",
            "       |                                     PREIGNORE                                   |                    PP                         \n",
            "       |                _________________________|____________                           |                    |                           \n",
            "       |               |                                  PREIGNORE                      |                 PP_PLACE                      \n",
            "       |               |                          ____________|____________              |           _________|____________________       \n",
            "       |               |                         |                     PREIGNORE      N_FLIGHT      |         |      N_PLACE    N_PLACE  \n",
            "       |               |                         |                         |             |          |         |         |          |      \n",
            "PREIGNORESYMBOL PREIGNORESYMBOL           PREIGNORESYMBOL           PREIGNORESYMBOL TERM_FLIGHT     |         |     TERM_PLACE TERM_PLACE\n",
            "       |               |                         |                         |             |          |         |         |          |      \n",
            "       i             would                      like                       a           flight    between     and      boston     dallas  \n",
            "\n",
            "Predicted SQL:\n",
            "\n",
            " SELECT DISTINCT flight.flight_id FROM flight WHERE 1 AND flight.from_airport IN \n",
            "    (SELECT airport_service.airport_code FROM airport_service WHERE airport_service.city_code IN\n",
            "      (SELECT city.city_code FROM city WHERE city.city_name = \"BOSTON\"))\n",
            "   AND flight.to_airport IN \n",
            "    (SELECT airport_service.airport_code FROM airport_service WHERE airport_service.city_code IN\n",
            "      (SELECT city.city_code FROM city WHERE city.city_name = \"DALLAS\"))\n",
            "   \n",
            "\n",
            "Predicted DB result:\n",
            "\n",
            " [(103171,), (103172,), (103173,), (103174,), (103175,), (103176,), (103177,), (103178,), (103179,), (103180,)] \n",
            "\n",
            "Gold DB result:\n",
            "\n",
            " [(103171,), (103172,), (103173,), (103174,), (103175,), (103176,), (103177,), (103178,), (103179,), (103180,)] \n",
            "\n",
            "Correct!\n"
          ]
        }
      ],
      "source": [
        "#TODO: add augmentations to `data/grammar` to make this example work\n",
        "# Example 3\n",
        "example_3 = 'i would like a flight between boston and dallas'\n",
        "gold_sql_3 = \"\"\"\n",
        "  SELECT DISTINCT flight_1.flight_id\n",
        "  FROM flight flight_1 ,\n",
        "       airport_service airport_service_1 ,\n",
        "       city city_1 ,\n",
        "       airport_service airport_service_2 ,\n",
        "       city city_2\n",
        "  WHERE flight_1.from_airport = airport_service_1.airport_code\n",
        "        AND airport_service_1.city_code = city_1.city_code\n",
        "        AND city_1.city_name = 'BOSTON'\n",
        "        AND flight_1.to_airport = airport_service_2.airport_code\n",
        "        AND airport_service_2.city_code = city_2.city_code\n",
        "        AND city_2.city_name = 'DALLAS'\n",
        "  \"\"\"\n",
        "\n",
        "# Note that the parse tree might appear wrong: instead of\n",
        "# `PP_PLACE -> 'between' N_PLACE 'and' N_PLACE`, the tree appears to be\n",
        "# `PP_PLACE -> 'between' 'and' N_PLACE N_PLACE`. But it's only a visualization\n",
        "# error of tree.pretty_print() and you should assume that the production is\n",
        "# `PP_PLACE -> 'between' N_PLACE 'and' N_PLACE` (you can verify by printing out\n",
        "# all productions).\n",
        "rule_based_trial(example_3, gold_sql_3)"
      ]
    },
    {
      "cell_type": "code",
      "execution_count": null,
      "id": "18f27e89",
      "metadata": {
        "colab": {
          "base_uri": "https://localhost:8080/"
        },
        "id": "18f27e89",
        "outputId": "9e4d8905-7f4e-4c7e-ed45-e2b2b81bb8b3"
      },
      "outputs": [
        {
          "name": "stdout",
          "output_type": "stream",
          "text": [
            "Sentence:  show me the united flights from denver to baltimore \n",
            "\n",
            "Parse:\n",
            "\n",
            "\n",
            "                                                                             S                                                                \n",
            "                        _____________________________________________________|__________                                                       \n",
            "                       |                                                            NP_FLIGHT                                                 \n",
            "                       |                                                                |                                                      \n",
            "                       |                                                            NOM_FLIGHT                                                \n",
            "                       |                                         _______________________|___________________                                   \n",
            "                       |                                        |                                       NOM_FLIGHT                            \n",
            "                       |                                        |                                           |                                  \n",
            "                       |                                        |                                        N_FLIGHT                             \n",
            "                       |                                        |                        ___________________|_________________                 \n",
            "                       |                                        |                    N_FLIGHT                                 |               \n",
            "                       |                                        |             __________|_________                            |                \n",
            "                   PREIGNORE                                   ADJ           |                    PP                          PP              \n",
            "        _______________|____________                            |            |                    |                           |                \n",
            "       |                        PREIGNORE                  ADJ_AIRLINE       |                 PP_PLACE                    PP_PLACE           \n",
            "       |                ____________|____________               |            |           _________|_________           _______|_________       \n",
            "       |               |                     PREIGNORE     TERM_AIRLINE   N_FLIGHT      |                N_PLACE      |              N_PLACE  \n",
            "       |               |                         |              |            |          |                   |         |                 |      \n",
            "PREIGNORESYMBOL PREIGNORESYMBOL           PREIGNORESYMBOL TERM_AIRBRAND TERM_FLIGHT  P_PLACE            TERM_PLACE P_PLACE          TERM_PLACE\n",
            "       |               |                         |              |            |          |                   |         |                 |      \n",
            "      show             me                       the           united      flights      from               denver      to            baltimore \n",
            "\n",
            "Predicted SQL:\n",
            "\n",
            " SELECT DISTINCT flight.flight_id FROM flight WHERE flight.airline_code='UA' AND 1 AND flight.from_airport IN \n",
            "    (SELECT airport_service.airport_code FROM airport_service WHERE airport_service.city_code IN\n",
            "      (SELECT city.city_code FROM city WHERE city.city_name = \"DENVER\"))\n",
            "   AND flight.to_airport IN \n",
            "    (SELECT airport_service.airport_code FROM airport_service WHERE airport_service.city_code IN\n",
            "      (SELECT city.city_code FROM city WHERE city.city_name = \"BALTIMORE\"))\n",
            "   \n",
            "\n",
            "Predicted DB result:\n",
            "\n",
            " [(101231,), (101233,), (305983,)] \n",
            "\n",
            "Gold DB result:\n",
            "\n",
            " [(101231,), (101233,), (305983,)] \n",
            "\n",
            "Correct!\n"
          ]
        }
      ],
      "source": [
        "#TODO: add augmentations to `data/grammar` to make this example work\n",
        "# Example 4\n",
        "example_4 = 'show me the united flights from denver to baltimore'\n",
        "gold_sql_4 = \"\"\"\n",
        "  SELECT DISTINCT flight_1.flight_id\n",
        "  FROM flight flight_1 ,\n",
        "       airport_service airport_service_1 ,\n",
        "       city city_1 ,\n",
        "       airport_service airport_service_2 ,\n",
        "       city city_2\n",
        "  WHERE flight_1.airline_code = 'UA'\n",
        "        AND ( flight_1.from_airport = airport_service_1.airport_code\n",
        "              AND airport_service_1.city_code = city_1.city_code\n",
        "              AND city_1.city_name = 'DENVER'\n",
        "              AND flight_1.to_airport = airport_service_2.airport_code\n",
        "              AND airport_service_2.city_code = city_2.city_code\n",
        "              AND city_2.city_name = 'BALTIMORE' )\n",
        "\n",
        "  \"\"\"\n",
        "\n",
        "rule_based_trial(example_4, gold_sql_4)"
      ]
    },
    {
      "cell_type": "code",
      "execution_count": null,
      "id": "a4e06de0",
      "metadata": {
        "colab": {
          "base_uri": "https://localhost:8080/"
        },
        "id": "a4e06de0",
        "outputId": "7bc22c72-e8ed-440c-d07c-7b4711bb6ea2"
      },
      "outputs": [
        {
          "name": "stdout",
          "output_type": "stream",
          "text": [
            "Sentence:  show flights from cleveland to miami that arrive before 4pm \n",
            "\n",
            "Parse:\n",
            "\n",
            "\n",
            "                               S                                                                                                         \n",
            "        _______________________|______________________________________________                                                            \n",
            "       |                                                                  NP_FLIGHT                                                      \n",
            "       |                                                                      |                                                           \n",
            "       |                                                                  NOM_FLIGHT                                                     \n",
            "       |                                                                      |                                                           \n",
            "       |                                                                   N_FLIGHT                                                      \n",
            "       |                                           ___________________________|_____________________                                      \n",
            "       |                                       N_FLIGHT                                             |                                    \n",
            "       |                        __________________|_________________                                |                                     \n",
            "       |                    N_FLIGHT                                |                               PP                                   \n",
            "       |              _________|________                            |                               |                                     \n",
            "       |             |                  PP                          PP                           PP_TIME                                 \n",
            "       |             |                  |                           |                        _______|__________________                   \n",
            "       |             |               PP_PLACE                    PP_PLACE                   |                       NP_TIME              \n",
            "       |             |          ________|_________           _______|_________              |                          |                  \n",
            "   PREIGNORE      N_FLIGHT     |               N_PLACE      |              N_PLACE          |                      TERM_TIME             \n",
            "       |             |         |                  |         |                 |             |                 _________|__________        \n",
            "PREIGNORESYMBOL TERM_FLIGHT P_PLACE           TERM_PLACE P_PLACE          TERM_PLACE      P_TIME         TERM_TIME           TERM_TIMEMOD\n",
            "       |             |         |                  |         |                 |        _____|_______         |                    |       \n",
            "      show        flights     from            cleveland     to              miami    that arrive  before     4                    pm     \n",
            "\n",
            "Predicted SQL:\n",
            "\n",
            " SELECT DISTINCT flight.flight_id FROM flight WHERE 1 AND flight.from_airport IN \n",
            "    (SELECT airport_service.airport_code FROM airport_service WHERE airport_service.city_code IN\n",
            "      (SELECT city.city_code FROM city WHERE city.city_name = \"CLEVELAND\"))\n",
            "   AND flight.to_airport IN \n",
            "    (SELECT airport_service.airport_code FROM airport_service WHERE airport_service.city_code IN\n",
            "      (SELECT city.city_code FROM city WHERE city.city_name = \"MIAMI\"))\n",
            "   AND flight.arrival_time < 1600 \n",
            "\n",
            "Predicted DB result:\n",
            "\n",
            " [(107698,), (301117,)] \n",
            "\n",
            "Gold DB result:\n",
            "\n",
            " [(107698,), (301117,)] \n",
            "\n",
            "Correct!\n"
          ]
        }
      ],
      "source": [
        "#TODO: add augmentations to `data/grammar` to make this example work\n",
        "# Example 5\n",
        "example_5 = 'show flights from cleveland to miami that arrive before 4pm'\n",
        "gold_sql_5 = \"\"\"\n",
        "  SELECT DISTINCT flight_1.flight_id\n",
        "  FROM flight flight_1 ,\n",
        "       airport_service airport_service_1 ,\n",
        "       city city_1 ,\n",
        "       airport_service airport_service_2 ,\n",
        "       city city_2\n",
        "  WHERE flight_1.from_airport = airport_service_1.airport_code\n",
        "        AND airport_service_1.city_code = city_1.city_code\n",
        "        AND city_1.city_name = 'CLEVELAND'\n",
        "        AND ( flight_1.to_airport = airport_service_2.airport_code\n",
        "              AND airport_service_2.city_code = city_2.city_code\n",
        "              AND city_2.city_name = 'MIAMI'\n",
        "              AND flight_1.arrival_time < 1600 )\n",
        "  \"\"\"\n",
        "\n",
        "rule_based_trial(example_5, gold_sql_5)"
      ]
    },
    {
      "cell_type": "code",
      "execution_count": null,
      "id": "4aa401d5",
      "metadata": {
        "colab": {
          "base_uri": "https://localhost:8080/"
        },
        "id": "4aa401d5",
        "outputId": "f4a4e4f2-3504-418e-d830-2af49fb3ea4d"
      },
      "outputs": [
        {
          "name": "stdout",
          "output_type": "stream",
          "text": [
            "Sentence:  okay how about a flight on sunday from tampa to charlotte \n",
            "\n",
            "Parse:\n",
            "\n",
            "\n",
            "                                                                                                   S                                                                                    \n",
            "                                     ______________________________________________________________|______________________________                                                       \n",
            "                                    |                                                                                         NP_FLIGHT                                                 \n",
            "                                    |                                                                                             |                                                      \n",
            "                                    |                                                                                         NOM_FLIGHT                                                \n",
            "                                    |                                                                                             |                                                      \n",
            "                                    |                                                                                          N_FLIGHT                                                 \n",
            "                                    |                                                                                  ___________|_____________________________________                 \n",
            "                                    |                                                                              N_FLIGHT                                             |               \n",
            "                                    |                                                               __________________|_____________________                            |                \n",
            "                                PREIGNORE                                                       N_FLIGHT                                    |                           |               \n",
            "        ____________________________|____________                                         _________|________                                |                           |                \n",
            "       |                                     PREIGNORE                                   |                  PP                              PP                          PP              \n",
            "       |                _________________________|____________                           |                  |                               |                           |                \n",
            "       |               |                                  PREIGNORE                      |               PP_DATE                         PP_PLACE                    PP_PLACE           \n",
            "       |               |                          ____________|____________              |          ________|_________             _________|_________           _______|_________       \n",
            "       |               |                         |                     PREIGNORE      N_FLIGHT     |               NP_DATE        |                N_PLACE      |              N_PLACE  \n",
            "       |               |                         |                         |             |         |                  |           |                   |         |                 |      \n",
            "PREIGNORESYMBOL PREIGNORESYMBOL           PREIGNORESYMBOL           PREIGNORESYMBOL TERM_FLIGHT  P_DATE          TERM_WEEKDAY  P_PLACE            TERM_PLACE P_PLACE          TERM_PLACE\n",
            "       |               |                         |                         |             |         |                  |           |                   |         |                 |      \n",
            "      okay            how                      about                       a           flight      on               sunday       from               tampa       to            charlotte \n",
            "\n",
            "Predicted SQL:\n",
            "\n",
            " SELECT DISTINCT flight.flight_id FROM flight WHERE 1 AND flight.flight_days IN (SELECT days.days_code FROM days WHERE days.day_name = 'SUNDAY') AND flight.from_airport IN \n",
            "    (SELECT airport_service.airport_code FROM airport_service WHERE airport_service.city_code IN\n",
            "      (SELECT city.city_code FROM city WHERE city.city_name = \"TAMPA\"))\n",
            "   AND flight.to_airport IN \n",
            "    (SELECT airport_service.airport_code FROM airport_service WHERE airport_service.city_code IN\n",
            "      (SELECT city.city_code FROM city WHERE city.city_name = \"CHARLOTTE\"))\n",
            "   \n",
            "\n",
            "Predicted DB result:\n",
            "\n",
            " [(101860,), (101861,), (101862,), (101863,), (101864,), (101865,), (305231,)] \n",
            "\n",
            "Gold DB result:\n",
            "\n",
            " [(101860,), (101861,), (101862,), (101863,), (101864,), (101865,), (305231,)] \n",
            "\n",
            "Correct!\n"
          ]
        }
      ],
      "source": [
        "#TODO: add augmentations to `data/grammar` to make this example work\n",
        "# Example 6\n",
        "example_6 = 'okay how about a flight on sunday from tampa to charlotte'\n",
        "gold_sql_6 = \"\"\"\n",
        "  SELECT DISTINCT flight_1.flight_id\n",
        "  FROM flight flight_1 ,\n",
        "       airport_service airport_service_1 ,\n",
        "       city city_1 ,\n",
        "       airport_service airport_service_2 ,\n",
        "       city city_2 ,\n",
        "       days days_1 ,\n",
        "       date_day date_day_1\n",
        "  WHERE flight_1.from_airport = airport_service_1.airport_code\n",
        "        AND airport_service_1.city_code = city_1.city_code\n",
        "        AND city_1.city_name = 'TAMPA'\n",
        "        AND ( flight_1.to_airport = airport_service_2.airport_code\n",
        "              AND airport_service_2.city_code = city_2.city_code\n",
        "              AND city_2.city_name = 'CHARLOTTE'\n",
        "              AND flight_1.flight_days = days_1.days_code\n",
        "              AND days_1.day_name = date_day_1.day_name\n",
        "              AND date_day_1.year = 1991\n",
        "              AND date_day_1.month_number = 8\n",
        "              AND date_day_1.day_number = 27 )\n",
        "  \"\"\"\n",
        "\n",
        "# You might notice that the gold answer above used the exact date, which is\n",
        "# not easily implementable. A more implementable way (generated by the project\n",
        "# segment 4 solution code) is:\n",
        "gold_sql_6b = \"\"\"\n",
        "  SELECT DISTINCT flight.flight_id\n",
        "  FROM flight\n",
        "  WHERE ((((1\n",
        "            AND flight.flight_days IN (SELECT days.days_code\n",
        "                                       FROM days\n",
        "                                       WHERE days.day_name = 'SUNDAY')\n",
        "            )\n",
        "           AND flight.from_airport IN (SELECT airport_service.airport_code\n",
        "                                       FROM airport_service\n",
        "                                       WHERE airport_service.city_code IN (SELECT city.city_code\n",
        "                                                                           FROM city\n",
        "                                                                           WHERE city.city_name = \"TAMPA\")))\n",
        "          AND flight.to_airport IN (SELECT airport_service.airport_code\n",
        "                                    FROM airport_service\n",
        "                                    WHERE airport_service.city_code IN (SELECT city.city_code\n",
        "                                                                        FROM city\n",
        "                                                                        WHERE city.city_name = \"CHARLOTTE\"))))\n",
        "  \"\"\"\n",
        "\n",
        "rule_based_trial(example_6, gold_sql_6b)"
      ]
    },
    {
      "cell_type": "code",
      "execution_count": null,
      "id": "10256866",
      "metadata": {
        "colab": {
          "base_uri": "https://localhost:8080/"
        },
        "id": "10256866",
        "outputId": "aa821195-ad65-4678-d298-fe500ee806b3"
      },
      "outputs": [
        {
          "name": "stdout",
          "output_type": "stream",
          "text": [
            "Sentence:  list all flights going from boston to atlanta that leaves before 7 am on thursday \n",
            "\n",
            "Parse:\n",
            "\n",
            "\n",
            "                                  S                                                                                                                                                  \n",
            "        __________________________|_____________________________________________________                                                                                              \n",
            "       |                                                                            NP_FLIGHT                                                                                        \n",
            "       |          ______________________________________________________________________|__________                                                                                   \n",
            "       |         |                                                                             NOM_FLIGHT                                                                            \n",
            "       |         |                                                                                 |                                                                                  \n",
            "       |         |                                                                              N_FLIGHT                                                                             \n",
            "       |         |                                                                       __________|________________________________________________________________                  \n",
            "       |         |                                                                   N_FLIGHT                                                                       |                \n",
            "       |         |                                 _____________________________________|___________________________                                                |                 \n",
            "       |         |                             N_FLIGHT                                                             |                                               |                \n",
            "       |         |                        ________|___________________________                                      |                                               |                 \n",
            "       |         |                    N_FLIGHT                                |                                     PP                                              |                \n",
            "       |         |        _______________|________                            |                                     |                                               |                 \n",
            "       |         |       |                        PP                          PP                                 PP_TIME                                            PP               \n",
            "       |         |       |                        |                           |                              _______|__________________                             |                 \n",
            "       |         |       |                     PP_PLACE                    PP_PLACE                         |                       NP_TIME                      PP_DATE             \n",
            "       |         |       |                ________|_________           _______|_________                    |                          |                     _______|_________        \n",
            "   PREIGNORE     |    N_FLIGHT           |               N_PLACE      |              N_PLACE                |                      TERM_TIME                |              NP_DATE   \n",
            "       |         |       |               |                  |         |                 |                   |                 _________|__________          |                 |       \n",
            "PREIGNORESYMBOL DET TERM_FLIGHT       P_PLACE           TERM_PLACE P_PLACE          TERM_PLACE            P_TIME         TERM_TIME           TERM_TIMEMOD P_DATE         TERM_WEEKDAY\n",
            "       |         |       |         ______|________          |         |                 |           ________|_______         |                    |         |                 |       \n",
            "      list      all   flights   going            from     boston      to             atlanta      that    leaves  before     7                    am        on             thursday  \n",
            "\n",
            "Predicted SQL:\n",
            "\n",
            " SELECT DISTINCT flight.flight_id FROM flight WHERE 1 AND flight.from_airport IN \n",
            "    (SELECT airport_service.airport_code FROM airport_service WHERE airport_service.city_code IN\n",
            "      (SELECT city.city_code FROM city WHERE city.city_name = \"BOSTON\"))\n",
            "   AND flight.to_airport IN \n",
            "    (SELECT airport_service.airport_code FROM airport_service WHERE airport_service.city_code IN\n",
            "      (SELECT city.city_code FROM city WHERE city.city_name = \"ATLANTA\"))\n",
            "   AND flight.departure_time < 700 AND flight.flight_days IN (SELECT days.days_code FROM days WHERE days.day_name = 'THURSDAY') \n",
            "\n",
            "Predicted DB result:\n",
            "\n",
            " [(100014,)] \n",
            "\n",
            "Gold DB result:\n",
            "\n",
            " [(100014,)] \n",
            "\n",
            "Correct!\n"
          ]
        }
      ],
      "source": [
        "#TODO: add augmentations to `data/grammar` to make this example work\n",
        "# Example 7\n",
        "example_7 = 'list all flights going from boston to atlanta that leaves before 7 am on thursday'\n",
        "gold_sql_7 = \"\"\"\n",
        "  SELECT DISTINCT flight_1.flight_id\n",
        "  FROM flight flight_1 ,\n",
        "       airport_service airport_service_1 ,\n",
        "       city city_1 ,\n",
        "       airport_service airport_service_2 ,\n",
        "       city city_2 ,\n",
        "       days days_1 ,\n",
        "       date_day date_day_1\n",
        "  WHERE flight_1.from_airport = airport_service_1.airport_code\n",
        "        AND airport_service_1.city_code = city_1.city_code\n",
        "        AND city_1.city_name = 'BOSTON'\n",
        "        AND ( flight_1.to_airport = airport_service_2.airport_code\n",
        "              AND airport_service_2.city_code = city_2.city_code\n",
        "              AND city_2.city_name = 'ATLANTA'\n",
        "              AND ( flight_1.flight_days = days_1.days_code\n",
        "                    AND days_1.day_name = date_day_1.day_name\n",
        "                    AND date_day_1.year = 1991\n",
        "                    AND date_day_1.month_number = 5\n",
        "                    AND date_day_1.day_number = 24\n",
        "                    AND flight_1.departure_time < 700 ) )\n",
        "  \"\"\"\n",
        "\n",
        "# Again, the gold answer above used the exact date, as opposed to the\n",
        "# following approach:\n",
        "gold_sql_7b = \"\"\"\n",
        "  SELECT DISTINCT flight.flight_id\n",
        "  FROM flight\n",
        "  WHERE ((1\n",
        "          AND ((((1\n",
        "                  AND flight.from_airport IN (SELECT airport_service.airport_code\n",
        "                                              FROM airport_service\n",
        "                                              WHERE airport_service.city_code IN (SELECT city.city_code\n",
        "                                                                                  FROM city\n",
        "                                                                                  WHERE city.city_name = \"BOSTON\")))\n",
        "                 AND flight.to_airport IN (SELECT airport_service.airport_code\n",
        "                                           FROM airport_service\n",
        "                                           WHERE airport_service.city_code IN (SELECT city.city_code\n",
        "                                                                               FROM city\n",
        "                                                                               WHERE city.city_name = \"ATLANTA\")))\n",
        "                AND flight.departure_time <= 0700)\n",
        "               AND flight.flight_days IN (SELECT days.days_code\n",
        "                                          FROM days\n",
        "                                          WHERE days.day_name = 'THURSDAY'))))\n",
        "  \"\"\"\n",
        "\n",
        "rule_based_trial(example_7, gold_sql_7b)"
      ]
    },
    {
      "cell_type": "code",
      "execution_count": null,
      "id": "b4a869db",
      "metadata": {
        "colab": {
          "base_uri": "https://localhost:8080/"
        },
        "id": "b4a869db",
        "outputId": "5d42d460-994f-46a3-cd0a-773a98587cb1"
      },
      "outputs": [
        {
          "name": "stdout",
          "output_type": "stream",
          "text": [
            "Sentence:  list the flights from dallas to san francisco on american airlines \n",
            "\n",
            "Parse:\n",
            "\n",
            "\n",
            "                                                                                      S                                                                                         \n",
            "                     _________________________________________________________________|________                                                                                  \n",
            "                    |                                                                      NP_FLIGHT                                                                            \n",
            "                    |                                                                          |                                                                                 \n",
            "                    |                                                                      NOM_FLIGHT                                                                           \n",
            "                    |                                                                          |                                                                                 \n",
            "                    |                                                                       N_FLIGHT                                                                            \n",
            "                    |                                                        __________________|___________________________________________                                      \n",
            "                    |                                                    N_FLIGHT                                                          |                                    \n",
            "                    |                                     __________________|__________________                                            |                                     \n",
            "                    |                                 N_FLIGHT                                 |                                           |                                    \n",
            "                    |                           _________|________                             |                                           |                                     \n",
            "                    |                          |                  PP                           PP                                          PP                                   \n",
            "                    |                          |                  |                            |                                           |                                     \n",
            "                PREIGNORE                      |               PP_PLACE                     PP_PLACE                                   PP_AIRLINE                               \n",
            "        ____________|____________              |          ________|_________           ________|__________                      ___________|____________                         \n",
            "       |                     PREIGNORE      N_FLIGHT     |               N_PLACE      |                N_PLACE                 |                   TERM_AIRLINE                 \n",
            "       |                         |             |         |                  |         |                   |                    |            ____________|______________          \n",
            "PREIGNORESYMBOL           PREIGNORESYMBOL TERM_FLIGHT P_PLACE           TERM_PLACE P_PLACE            TERM_PLACE           P_AIRLINE TERM_AIRBRAND              TERM_AIRBRANDTYP\n",
            "       |                         |             |         |                  |         |                   |                    |           |                           E        \n",
            "       |                         |             |         |                  |         |         __________|__________          |           |                           |         \n",
            "      list                      the         flights     from              dallas      to      san                francisco     on       american                    airlines    \n",
            "\n",
            "Predicted SQL:\n",
            "\n",
            " SELECT DISTINCT flight.flight_id FROM flight WHERE 1 AND flight.from_airport IN \n",
            "    (SELECT airport_service.airport_code FROM airport_service WHERE airport_service.city_code IN\n",
            "      (SELECT city.city_code FROM city WHERE city.city_name = \"DALLAS\"))\n",
            "   AND flight.to_airport IN \n",
            "    (SELECT airport_service.airport_code FROM airport_service WHERE airport_service.city_code IN\n",
            "      (SELECT city.city_code FROM city WHERE city.city_name = \"SAN FRANCISCO\"))\n",
            "   AND flight.airline_code='AA' \n",
            "\n",
            "Predicted DB result:\n",
            "\n",
            " [(108452,), (108454,), (108456,), (111083,), (111085,), (111086,), (111090,), (111091,), (111092,), (111094,)] \n",
            "\n",
            "Gold DB result:\n",
            "\n",
            " [(108452,), (108454,), (108456,), (111083,), (111085,), (111086,), (111090,), (111091,), (111092,), (111094,)] \n",
            "\n",
            "Correct!\n"
          ]
        }
      ],
      "source": [
        "#TODO: add augmentations to `data/grammar` to make this example work\n",
        "# Example 8\n",
        "example_8 = 'list the flights from dallas to san francisco on american airlines'\n",
        "gold_sql_8 = \"\"\"\n",
        "  SELECT DISTINCT flight_1.flight_id\n",
        "  FROM flight flight_1 ,\n",
        "       airport_service airport_service_1 ,\n",
        "       city city_1 ,\n",
        "       airport_service airport_service_2 ,\n",
        "       city city_2\n",
        "  WHERE flight_1.airline_code = 'AA'\n",
        "        AND ( flight_1.from_airport = airport_service_1.airport_code\n",
        "              AND airport_service_1.city_code = city_1.city_code\n",
        "              AND city_1.city_name = 'DALLAS'\n",
        "              AND flight_1.to_airport = airport_service_2.airport_code\n",
        "              AND airport_service_2.city_code = city_2.city_code\n",
        "              AND city_2.city_name = 'SAN FRANCISCO' )\n",
        "  \"\"\"\n",
        "\n",
        "rule_based_trial(example_8, gold_sql_8)"
      ]
    },
    {
      "cell_type": "markdown",
      "id": "aedfdaee",
      "metadata": {
        "id": "aedfdaee"
      },
      "source": [
        "### Systematic evaluation on a test set\n",
        "\n",
        "We can perform a more systematic evaluation by checking the accuracy of the queries on an entire test set for which we have gold queries. The `evaluate` function below does just this, calculating precision, recall, and F1 metrics for the test set. It takes as argument a \"predictor\" function, which maps token sequences to predicted SQL queries. We've provided a predictor function for the rule-based model in the next cell (and a predictor for the seq2seq system below when we get to that system).\n",
        "\n",
        "The rule-based system does not generate predictions for all queries; many queries won't parse. The precision and recall metrics take this into account in measuring the efficacy of the method. The recall metric captures what proportion of _all of the test examples_ for which the system generates a correct query. The precision metric captures what proportion of _all of the test examples for which a prediction is generated_ for which the system generates a correct query. (Recall that F1 is just the geometric mean of precision and recall.)\n",
        "\n",
        "Once you've made some progress on adding augmentations to the grammar, you can evaluate your progress by seeing if the precision and recall have improved. For reference, the solution code achieves precision of about 66% and recall of about 28% for an F1 of 39%."
      ]
    },
    {
      "cell_type": "code",
      "execution_count": null,
      "id": "25de63bb",
      "metadata": {
        "id": "25de63bb"
      },
      "outputs": [],
      "source": [
        "def evaluate(predictor, dataset, num_examples=0, silent=True):\n",
        "  \"\"\"Evaluate accuracy of `predictor` by executing predictions on a\n",
        "  SQL database and comparing returned results against those of gold queries.\n",
        "\n",
        "  Arguments:\n",
        "      predictor:    a function that maps a token sequence\n",
        "                    to a predicted SQL query string\n",
        "      dataset:      the dataset of token sequences and gold SQL queries\n",
        "      num_examples: number of examples from `dataset` to use; all of\n",
        "                    them if 0\n",
        "      silent: if set to False, will print out logs\n",
        "  Returns: precision, recall, and F1 score\n",
        "  \"\"\"\n",
        "  # Prepare to count results\n",
        "  if num_examples <= 0:\n",
        "    num_examples = len(dataset)\n",
        "  example_count = 0\n",
        "  predicted_count = 0\n",
        "  correct = 0\n",
        "  incorrect = 0\n",
        "\n",
        "  # Process the examples from the dataset\n",
        "  for _, example in tqdm(zip(range(num_examples), dataset)):\n",
        "    example_count += 1\n",
        "    # obtain query SQL\n",
        "    predicted_sql = predictor(example['src'])\n",
        "    if predicted_sql == None:\n",
        "      continue\n",
        "    predicted_count += 1\n",
        "    # obtain gold SQL\n",
        "    gold_sql = example['tgt']\n",
        "\n",
        "    # check that they're compatible\n",
        "    if verify(predicted_sql, gold_sql):\n",
        "      correct += 1\n",
        "    else:\n",
        "      incorrect += 1\n",
        "\n",
        "  # Compute and return precision, recall, F1\n",
        "  precision = correct / predicted_count if predicted_count > 0 else 0\n",
        "  recall = correct / example_count\n",
        "  f1 = (2 * precision * recall) / (precision + recall) if precision + recall > 0 else 0\n",
        "  return precision, recall, f1"
      ]
    },
    {
      "cell_type": "code",
      "execution_count": null,
      "id": "e33dfba3",
      "metadata": {
        "id": "e33dfba3"
      },
      "outputs": [],
      "source": [
        "def rule_based_predictor(query):\n",
        "  tree = parse_tree(query)\n",
        "  if tree is None:\n",
        "    return None\n",
        "  try:\n",
        "    predicted_sql = interpret(tree, atis_augmentations)\n",
        "  except Exception as err:\n",
        "    return None\n",
        "  return predicted_sql"
      ]
    },
    {
      "cell_type": "code",
      "execution_count": null,
      "id": "e2ffe5c7",
      "metadata": {
        "colab": {
          "base_uri": "https://localhost:8080/"
        },
        "id": "e2ffe5c7",
        "outputId": "c3920f58-2608-4fe8-d3b0-26114a36451e"
      },
      "outputs": [
        {
          "name": "stderr",
          "output_type": "stream",
          "text": [
            "332it [00:01, 177.91it/s]"
          ]
        },
        {
          "name": "stdout",
          "output_type": "stream",
          "text": [
            "precision: 0.68\n",
            "recall:    0.28\n",
            "F1:        0.39\n"
          ]
        },
        {
          "name": "stderr",
          "output_type": "stream",
          "text": [
            "\n"
          ]
        }
      ],
      "source": [
        "precision, recall, f1 = evaluate(rule_based_predictor, test_data, num_examples=0)\n",
        "print(f\"precision: {precision:3.2f}\")\n",
        "print(f\"recall:    {recall:3.2f}\")\n",
        "print(f\"F1:        {f1:3.2f}\")"
      ]
    },
    {
      "cell_type": "markdown",
      "id": "fa1e29bf",
      "metadata": {
        "id": "fa1e29bf"
      },
      "source": [
        "# End-to-End Seq2Seq Model"
      ]
    },
    {
      "cell_type": "markdown",
      "id": "3040c18c",
      "metadata": {
        "id": "3040c18c"
      },
      "source": [
        "In this part, you will implement a seq2seq model **with attention mechanism** to directly learn the translation from NL query to SQL. You might find labs 4-4 and 4-5 particularly helpful, as the primary difference here is that we are using a different dataset.\n",
        "\n",
        "**Note:** We recommend using GPUs to train the model in this part (one way to get GPUs is to use [Google Colab](https://colab.research.google.com) and clicking Menu -> Runtime -> Change runtime type -> GPU), as we need to use a very large model to solve the task well. For development we recommend starting with a smaller model and training for only 1 epoch."
      ]
    },
    {
      "cell_type": "markdown",
      "id": "70cc14a7",
      "metadata": {
        "id": "70cc14a7"
      },
      "source": [
        "## Goal 2: Implement a seq2seq model (with attention)"
      ]
    },
    {
      "cell_type": "markdown",
      "id": "edce39ff",
      "metadata": {
        "id": "edce39ff"
      },
      "source": [
        "In lab 4-5, you implemented a neural encoder-decoder model with attention. That model was used to convert English number phrases to numbers, but one of the biggest advantages of neural models is that we can easily apply them to different tasks (such as machine translation and document summarization) by using different training datasets.\n",
        "\n",
        "<img src=\"https://github.com/nlp-236299/data/raw/master/img/encoderdecoder_attn_1layer.png\" alt=\"encoder-decoder-attn illustration\" />\n",
        "\n",
        "Implement the class `AttnEncoderDecoder` to convert natural language queries into SQL statements. You may find that you can reuse most of the code you wrote for lab 4-5. A reasonable way to proceed is to implement the following methods:\n",
        "\n",
        "* **Model**\n",
        "\n",
        "    1. `__init__`: an initializer where you create network modules.\n",
        "\n",
        "    2. `forward`: given source word ids of size `(batch_size, max_src_len)`, source lengths of size `(batch_size)` and decoder input target word ids `(batch_size, max_tgt_len)`, returns logits `(batch_size, max_tgt_len, V_tgt)`. For better modularity you might want to implement it by implementing two functions `forward_encoder` and `forward_decoder`.\n",
        "\n",
        "* **Optimization**\n",
        "\n",
        "    3. `train_all`: compute loss on training data, compute gradients, and update model parameters to minimize the loss.\n",
        "\n",
        "    4. `evaluate_ppl`: evaluate the current model's perplexity on a given dataset iterator, we use the perplexity value on the validation set to select the best model.\n",
        "\n",
        "* **Decoding**\n",
        "\n",
        "    5. `predict`: Generates the target sequence given a list of source tokens using beam search decoding. Note that here you can assume the batch size to be 1 for simplicity."
      ]
    },
    {
      "cell_type": "code",
      "execution_count": null,
      "id": "Qy7Se8N_dH5w",
      "metadata": {
        "id": "Qy7Se8N_dH5w"
      },
      "outputs": [],
      "source": [
        "#TODO - finish implementing this function.\n",
        "def attention(batched_Q, batched_K, batched_V, mask=None):\n",
        "  \"\"\"\n",
        "  Performs the attention operation and returns the attention matrix\n",
        "  `batched_A` and the context matrix `batched_C` using queries\n",
        "  `batched_Q`, keys `batched_K`, and values `batched_V`.\n",
        "\n",
        "  Arguments:\n",
        "      batched_Q: (bsz, q_len, D)\n",
        "      batched_K: (bsz, k_len, D)\n",
        "      batched_V: (bsz, k_len, D)\n",
        "      mask: (bsz, q_len, k_len). An optional boolean mask *disallowing*\n",
        "            attentions where the mask value is *`False`*.\n",
        "  Returns:\n",
        "      batched_A: the normalized attention scores (bsz, q_len, k_len)\n",
        "      batched_C: a tensor of size (bsz, q_len, D).\n",
        "  \"\"\"\n",
        "  # Check sizes\n",
        "  D = batched_Q.size(-1)\n",
        "  bsz = batched_Q.size(0)\n",
        "  q_len = batched_Q.size(1)\n",
        "  k_len = batched_K.size(1)\n",
        "  assert batched_K.size(-1) == D and batched_V.size(-1) == D\n",
        "  assert batched_K.size(0) == bsz and batched_V.size(0) == bsz\n",
        "  assert batched_V.size(1) == k_len\n",
        "\n",
        "  if mask is not None:\n",
        "    assert mask.size() == torch.Size([bsz, q_len, k_len])\n",
        "\n",
        "  Q = batched_Q  # BxTxD\n",
        "\n",
        "  K_T = batched_K.transpose(1, 2) # BxSxD I think BxDxS\n",
        "\n",
        "  batched_A = torch.bmm(Q, K_T)  # BxTxS\n",
        "\n",
        "  # Apply the mask if provided\n",
        "  if mask is not None:\n",
        "    batched_A = batched_A.masked_fill(~mask, float('-inf'))\n",
        "\n",
        "  # Apply softmax along the last dimension\n",
        "  # The elements of the S-dimention in the output Tensor lie in the range [0,1] and sums to 1.\n",
        "  batched_A = torch.softmax(batched_A, dim=-1)  # BxTxS\n",
        "\n",
        "  V = batched_V  # BxSxD\n",
        "\n",
        "  # Perform matrix multiplication between batched_A and V_T\n",
        "  batched_C = torch.bmm(batched_A, V)  # BxTxD\n",
        "  # batched_C_T = torch.transpose(batched_C, 0, 1) # TxBxD\n",
        "\n",
        "  # Verify that things sum up to one properly.\n",
        "  assert torch.all(torch.isclose(batched_A.sum(-1),\n",
        "                                 torch.ones(bsz, q_len).to(device)))\n",
        "\n",
        "  return batched_A, batched_C\n",
        "  # return batched_A.to('cpu'), batched_C.to('cpu')\n"
      ]
    },
    {
      "cell_type": "code",
      "execution_count": null,
      "id": "c0VvBrwMhhld",
      "metadata": {
        "id": "c0VvBrwMhhld"
      },
      "outputs": [],
      "source": [
        "class Beam():\n",
        "  \"\"\"\n",
        "  Helper class for storing a hypothesis, its score and its decoder hidden state.\n",
        "  \"\"\"\n",
        "  def __init__(self, decoder_state, tokens, score):\n",
        "    self.decoder_state = decoder_state\n",
        "    self.tokens = tokens\n",
        "    self.score = score\n",
        "\n",
        "class BeamSearcher():\n",
        "  \"\"\"\n",
        "  Main class for beam search.\n",
        "  \"\"\"\n",
        "  def __init__(self, model):\n",
        "    self.model = model\n",
        "    self.bos_id = model.bos_id\n",
        "    self.eos_id = model.eos_id\n",
        "    self.padding_id_src = model.padding_id_src\n",
        "    self.V = model.V_tgt\n",
        "\n",
        "\n",
        "  def beam_search(self, src, src_lengths, K, max_T=15):\n",
        "    \"\"\"\n",
        "    Performs beam search decoding.\n",
        "    Arguments:\n",
        "        src: src batch of size (1, max_src_len)\n",
        "        src_lengths: src lengths of size (1)\n",
        "        K: beam size\n",
        "        max_T: max possible target length considered\n",
        "    Returns:\n",
        "        a list of token ids and a list of attentions\n",
        "    \"\"\"\n",
        "    INIT_SCORE = 0.0\n",
        "    finished = []\n",
        "    all_attns = []\n",
        "    # Initialize the beam\n",
        "    self.model.eval()\n",
        "\n",
        "    #TODO - fill in `memory_bank`, `encoder_final_state`, and `init_beam` below\n",
        "\n",
        "    memory_bank , encoder_final_state = self.model.forward_encoder(src,src_lengths)\n",
        "\n",
        "    bos_id_tensor = torch.tensor([self.bos_id], dtype=torch.int64).to(device=device)\n",
        "    init_beam = Beam(encoder_final_state, bos_id_tensor, INIT_SCORE)\n",
        "    beams = [init_beam]\n",
        "\n",
        "    with torch.no_grad():\n",
        "      for t in range(max_T):\n",
        "\n",
        "        # Expand each beam by all possible tokens y_{t+1}\n",
        "        all_total_scores = []\n",
        "        for beam in beams:\n",
        "          y_1_to_t, score, decoder_state = beam.tokens, beam.score, beam.decoder_state\n",
        "          y_t = y_1_to_t[-1].unsqueeze(0)\n",
        "\n",
        "          src_mask = src.ne(self.padding_id_src)\n",
        "          #for words_of_sen in split_tensors:\n",
        "          logits, decoder_state, attn = self.model.forward_decoder_incrementally(decoder_state, y_t, memory_bank, src_mask, normalize=True)\n",
        "          total_scores = logits + score\n",
        "          all_total_scores.append(total_scores)\n",
        "          if attn is not None:\n",
        "            all_attns.append(attn) # keep attentions for visualization\n",
        "          beam.decoder_state = decoder_state # update decoder state in the beam\n",
        "        all_total_scores = torch.stack(all_total_scores) # (K, V) when t>0, (1, V) when t=0\n",
        "\n",
        "        # Find K best next beams\n",
        "        # The code below has the same functionality as line 6-12, but is more efficient\n",
        "        all_scores_flattened = all_total_scores.view(-1) # K*V when t>0, 1*V when t=0\n",
        "        topk_scores, topk_ids = all_scores_flattened.topk(K, 0)\n",
        "        beam_ids = topk_ids.div(self.V, rounding_mode='floor')\n",
        "        next_tokens = topk_ids - beam_ids * self.V\n",
        "        new_beams = []\n",
        "        for k in range(K):\n",
        "          beam_id = beam_ids[k]       # which beam it comes from\n",
        "          y_t_plus_1 = next_tokens[k] # which y_{t+1}\n",
        "          score = topk_scores[k]\n",
        "          beam = beams[beam_id]\n",
        "          decoder_state = beam.decoder_state\n",
        "          y_1_to_t = beam.tokens\n",
        "          #TODO\n",
        "\n",
        "          y_1_to_t_plus_1 = torch.cat((y_1_to_t, y_t_plus_1.unsqueeze(0)), dim=0).to(device=device)\n",
        "          new_beam = Beam(decoder_state, y_1_to_t_plus_1, score)##\n",
        "          new_beams.append(new_beam)\n",
        "\n",
        "        beams = new_beams\n",
        "\n",
        "        # Set aside completed beams\n",
        "        # TODO - move completed beams to `finished` (and remove them from `beams`)\n",
        "        for beam in beams:\n",
        "          if self.eos_id == beam.tokens[-1]:\n",
        "            finished.append(beam)\n",
        "            beams.remove(beam)\n",
        "\n",
        "        if len(beams) == 0:\n",
        "            break\n",
        "\n",
        "    # Return the best hypothesis\n",
        "    if len(finished) > 0:\n",
        "      finished = sorted(finished, key=lambda beam: -beam.score)\n",
        "      return [token.item() for token in finished[0].tokens], all_attns\n",
        "    else: # when nothing is finished, return an unfinished hypothesis\n",
        "      return [token.item() for token in beams[0].tokens], all_attns\n"
      ]
    },
    {
      "cell_type": "code",
      "execution_count": null,
      "id": "ycJ8fyCSdXTU",
      "metadata": {
        "id": "ycJ8fyCSdXTU"
      },
      "outputs": [],
      "source": [
        "#TODO - implement `forward_encoder` and `forward_decoder_incrementally`.\n",
        "class AttnEncoderDecoder(nn.Module):\n",
        "  def __init__(self, hf_src_tokenizer, hf_tgt_tokenizer, hidden_size=64, layers=3):\n",
        "    \"\"\"\n",
        "    Initializer. Creates network modules and loss function.\n",
        "    Arguments:\n",
        "        hf_src_tokenizer: hf src tokenizer\n",
        "        hf_tgt_tokenizer: hf tgt tokenizer\n",
        "        hidden_size: hidden layer size of both encoder and decoder\n",
        "        layers: number of layers of both encoder and decoder\n",
        "    \"\"\"\n",
        "    super().__init__()\n",
        "    self.hf_src_tokenizer = hf_src_tokenizer\n",
        "    self.hf_tgt_tokenizer = hf_tgt_tokenizer\n",
        "\n",
        "    # Keep the vocabulary sizes available\n",
        "    self.V_src = len(self.hf_src_tokenizer)\n",
        "    self.V_tgt = len(self.hf_tgt_tokenizer)\n",
        "\n",
        "    # Get special word ids\n",
        "    self.padding_id_src = self.hf_src_tokenizer.pad_token_id\n",
        "    self.padding_id_tgt = self.hf_tgt_tokenizer.pad_token_id\n",
        "    self.bos_id = self.hf_tgt_tokenizer.bos_token_id\n",
        "    self.eos_id = self.hf_tgt_tokenizer.eos_token_id\n",
        "\n",
        "    # Keep hyper-parameters available\n",
        "    self.embedding_size = hidden_size\n",
        "    self.hidden_size = hidden_size\n",
        "    self.layers = layers\n",
        "\n",
        "    # Create essential modules\n",
        "    self.word_embeddings_src = nn.Embedding(self.V_src, self.embedding_size)\n",
        "    self.word_embeddings_tgt = nn.Embedding(self.V_tgt, self.embedding_size)\n",
        "\n",
        "    self.device=device\n",
        "\n",
        "    # RNN cells\n",
        "    self.encoder_rnn = nn.LSTM(\n",
        "      input_size    = self.embedding_size,\n",
        "      hidden_size   = hidden_size // 2, # to match decoder hidden size\n",
        "      num_layers    = layers,\n",
        "      batch_first=True,\n",
        "      bidirectional = True              # bidirectional encoder\n",
        "    )\n",
        "    self.decoder_rnn = nn.LSTM(\n",
        "      input_size    = self.embedding_size,\n",
        "      hidden_size   = hidden_size,\n",
        "      num_layers    = layers,\n",
        "      batch_first=True,\n",
        "      bidirectional = False             # unidirectional decoder\n",
        "    )\n",
        "\n",
        "    # Final projection layer\n",
        "    self.hidden2output = nn.Linear(2*hidden_size, self.V_tgt) # project the concatenation to logits\n",
        "\n",
        "    # Create loss function\n",
        "    self.loss_function = nn.CrossEntropyLoss(reduction='sum',\n",
        "                                             ignore_index=self.padding_id_tgt)\n",
        "\n",
        "  def forward_encoder(self, src, src_lengths):\n",
        "    \"\"\"\n",
        "    Encodes source words `src`.\n",
        "    Arguments:\n",
        "        src: src batch of size (bsz, max_src_len)\n",
        "        src_lengths: src lengths of size (bsz)\n",
        "    Returns:\n",
        "        memory_bank: a tensor of size (bsz, src_len, hidden_size)\n",
        "        (final_state, context): `final_state` is a tuple (h, c) where h/c is of size\n",
        "                                (layers, bsz, hidden_size), and `context` is `None`.\n",
        "    \"\"\"\n",
        "    #TODO\n",
        "    embedding = self.word_embeddings_src(src)\n",
        "    packed = pack(embedding, src_lengths.tolist(), batch_first=True, enforce_sorted=False)\n",
        "    outputs, (h, c) = self.encoder_rnn(packed) #outputs was memory_bank\n",
        "\n",
        "    memory_bank, _ = unpack(outputs, batch_first=True)\n",
        "\n",
        "\n",
        "    def reshape_hidden_state(s):\n",
        "      s = s.reshape(2, self.layers, -1, self. hidden_size // 2)\n",
        "      s = s.transpose(0, 1).transpose(1, 2)\n",
        "      s = s.reshape(self.layers, -1, self.hidden_size)\n",
        "      return s\n",
        "\n",
        "    final_state = (reshape_hidden_state(h), reshape_hidden_state(c))\n",
        "\n",
        "    context = None\n",
        "    return memory_bank, (final_state, context)\n",
        "\n",
        "  def forward_decoder(self, encoder_final_state, tgt_in, memory_bank, src_mask):\n",
        "    \"\"\"\n",
        "    Decodes based on encoder final state, memory bank, src_mask, and ground truth\n",
        "    target words.\n",
        "    Arguments:\n",
        "        encoder_final_state: (final_state, None) where final_state is the encoder\n",
        "                             final state used to initialize decoder. None is the\n",
        "                             initial context (there's no previous context at the\n",
        "                             first step).\n",
        "        tgt_in: a tensor of size (bsz, tgt_len)\n",
        "        memory_bank: a tensor of size (bsz, src_len, hidden_size), encoder outputs\n",
        "                     at every position\n",
        "        src_mask: a tensor of size (bsz, src_len): a boolean tensor, `False` where\n",
        "                  src is padding (we disallow decoder to attend to those places).\n",
        "    Returns:\n",
        "        Logits of size (bsz, tgt_len, V_tgt) (before the softmax operation)\n",
        "    \"\"\"\n",
        "    max_tgt_length = tgt_in.size(1)\n",
        "\n",
        "    # Initialize decoder state, note that it's a tuple (state, context) here\n",
        "    decoder_states = encoder_final_state\n",
        "\n",
        "    all_logits = []\n",
        "    for i in range(max_tgt_length):\n",
        "      logits, decoder_states, attn = \\\n",
        "        self.forward_decoder_incrementally(decoder_states,\n",
        "                                           tgt_in[:, i],\n",
        "                                           memory_bank,\n",
        "                                           src_mask,\n",
        "                                           normalize=False)\n",
        "      all_logits.append(logits)             # list of bsz, vocab_tgt\n",
        "    all_logits = torch.stack(all_logits, 1) # bsz, tgt_len, vocab_tgt\n",
        "    return all_logits\n",
        "\n",
        "  def forward(self, src, src_lengths, tgt_in):\n",
        "    \"\"\"\n",
        "    Performs forward computation, returns logits.\n",
        "    Arguments:\n",
        "        src: src batch of size (bsz, max_src_len)\n",
        "        src_lengths: src lengths of size (bsz)\n",
        "        tgt_in:  a tensor of size (bsz, tgt_len)\n",
        "    \"\"\"\n",
        "    src_mask = src.ne(self.padding_id_src) # bsz, max_src_len\n",
        "    # Forward encoder\n",
        "    memory_bank, encoder_final_state = self.forward_encoder(src, src_lengths)\n",
        "    # Forward decoder\n",
        "    logits = self.forward_decoder(encoder_final_state, tgt_in, memory_bank, src_mask)\n",
        "    return logits\n",
        "\n",
        "  def forward_decoder_incrementally(self, prev_decoder_states, tgt_in_onestep,\n",
        "                                    memory_bank, src_mask,\n",
        "                                    normalize=True):\n",
        "    \"\"\"\n",
        "    Forward the decoder for a single step with token `tgt_in_onestep`.\n",
        "    This function will be used both in `forward_decoder` and in beam search.\n",
        "    Note that bsz can be greater than 1.\n",
        "    Arguments:\n",
        "        prev_decoder_states: a tuple (prev_decoder_state, prev_context). `prev_context`\n",
        "                             is `None` for the first step\n",
        "        tgt_in_onestep: a tensor of size (bsz), tokens at one step\n",
        "        memory_bank: a tensor of size (bsz, src_len, hidden_size), encoder outputs\n",
        "                     at every position\n",
        "        src_mask: a tensor of size (bsz, src_len): a boolean tensor, `False` where\n",
        "                  src is padding (we disallow decoder to attend to those places).\n",
        "        normalize: use log_softmax to normalize or not. Beam search needs to normalize,\n",
        "                   while `forward_decoder` does not\n",
        "    Returns:\n",
        "        logits: log probabilities for `tgt_in_token` of size (bsz, V_tgt)\n",
        "        decoder_states: (`decoder_state`, `context`) which will be used for the\n",
        "                        next incremental update\n",
        "        attn: normalized attention scores at this step (bsz, src_len)\n",
        "    \"\"\"\n",
        "    prev_decoder_state, prev_context = prev_decoder_states\n",
        "    #TODO\n",
        "    tgt_in = self.word_embeddings_tgt(tgt_in_onestep.unsqueeze(1)) # tgt_in = self.word_embeddings_tgt(tgt_in_onestep.unsqueeze(1))\n",
        "    if prev_context is not None:\n",
        "        tgt_in = tgt_in + prev_context.unsqueeze(1)\n",
        "\n",
        "    # tgt_in = tgt_in.unsqueeze(1)\n",
        "    decoder_outs, decoder_state = self.decoder_rnn(tgt_in, prev_decoder_state)\n",
        "\n",
        "\n",
        "    # Attend to memory bank\n",
        "    mask = src_mask.unsqueeze(1).to(device) # bsz, 1, arc Lien\n",
        "\n",
        "    q = decoder_outs # bsz, 7, hidden_size\n",
        "    k = memory_bank # tsz, src_len, hidden_size\n",
        "    v = memory_bank\n",
        "    attn, context = attention(q, k, v, mask=mask)\n",
        "\n",
        "    context_and_output = torch.cat([decoder_outs, context], -1)\n",
        "    logits = self.hidden2output(context_and_output)\n",
        "\n",
        "    decoder_states = (decoder_state, context.squeeze(1))\n",
        "    if normalize:\n",
        "        logits = torch.log_softmax(logits, dim=-1)\n",
        "    return logits, decoder_states, attn\n",
        "\n",
        "  def evaluate_ppl(self, iterator):\n",
        "    \"\"\"Returns the model's perplexity on a given dataset `iterator`.\"\"\"\n",
        "    # Switch to eval mode\n",
        "    self.eval()\n",
        "    total_loss = 0\n",
        "    total_words = 0\n",
        "    for batch in iterator:\n",
        "      # Input and target\n",
        "      src = batch['src_ids']              # bsz, max_src_len\n",
        "      src_lengths = batch['src_lengths']  # bsz\n",
        "      tgt_in = batch['tgt_ids'][:, :-1] # Remove <eos> for decode input (y_0=<bos>, y_1, y_2)\n",
        "      tgt_out = batch['tgt_ids'][:, 1:] # Remove <bos> as target        (y_1, y_2, y_3=<eos>)\n",
        "      # Forward to get logits\n",
        "      logits = self.forward(src, src_lengths, tgt_in) # bsz, tgt_len, V_tgt\n",
        "      # Compute cross entropy loss\n",
        "      loss = self.loss_function(logits.reshape(-1, self.V_tgt), tgt_out.reshape(-1))\n",
        "      total_loss += loss.item()\n",
        "      total_words += tgt_out.ne(self.padding_id_tgt).float().sum().item()\n",
        "    return math.exp(total_loss/total_words)\n",
        "\n",
        "  def train_all(self, train_iter, val_iter, epochs=10, learning_rate=0.001):\n",
        "\n",
        "    \"\"\"Train the model.\"\"\"\n",
        "    # Switch the module to training mode\n",
        "    self.train()\n",
        "    # Use Adam to optimize the parameters\n",
        "    optim = torch.optim.Adam(self.parameters(), lr=learning_rate)\n",
        "    best_validation_ppl = float('inf')\n",
        "    best_model = None\n",
        "    # Run the optimization for multiple epochs\n",
        "    for epoch in range(epochs):\n",
        "      total_words = 0\n",
        "      total_loss = 0.0\n",
        "      for batch in tqdm(train_iter):\n",
        "        # Zero the parameter gradients\n",
        "        self.zero_grad()\n",
        "        # Input and target\n",
        "        tgt = batch['tgt_ids']              # bsz, max_tgt_len\n",
        "        src = batch['src_ids']              # bsz, max_src_len\n",
        "        src_lengths = batch['src_lengths']  # bsz\n",
        "        tgt_in = tgt[:, :-1].contiguous() # Remove <eos> for decode input (y_0=<bos>, y_1, y_2)\n",
        "        tgt_out = tgt[:, 1:].contiguous() # Remove <bos> as target        (y_1, y_2, y_3=<eos>)\n",
        "        bsz = tgt.size(0)\n",
        "        # Run forward pass and compute loss along the way.\n",
        "        logits = self.forward(src, src_lengths, tgt_in)\n",
        "        loss = self.loss_function(logits.view(-1, self.V_tgt), tgt_out.view(-1))\n",
        "        # Training stats\n",
        "        num_tgt_words = tgt_out.ne(self.padding_id_tgt).float().sum().item()\n",
        "        total_words += num_tgt_words\n",
        "        total_loss += loss.item()\n",
        "        # Perform backpropagation\n",
        "        loss.div(bsz).backward()\n",
        "        optim.step()\n",
        "\n",
        "      # Evaluate and track improvements on the validation dataset\n",
        "      validation_ppl = self.evaluate_ppl(val_iter)\n",
        "      self.train()\n",
        "      if validation_ppl < best_validation_ppl:\n",
        "        best_validation_ppl = validation_ppl\n",
        "        self.best_model = copy.deepcopy(self.state_dict())\n",
        "      epoch_loss = total_loss / total_words\n",
        "      print (f'Epoch: {epoch} Training Perplexity: {math.exp(epoch_loss):.4f} '\n",
        "             f'Validation Perplexity: {validation_ppl:.4f}')\n",
        "\n",
        "  def predict(self, tokens, max_T, K=1):\n",
        "    tokens = torch.IntTensor(self.hf_src_tokenizer.encode(tokens)).to(device)\n",
        "    tokens = tokens.unsqueeze(0).to(device) #torch.unsqueeze(tokens, 0)\n",
        "    tokens_lengths = torch.IntTensor([tokens.shape[1]]).to(device)\n",
        "    #tokens_lengths = torch.unsqueeze(tokens_lengths, 0)\n",
        "    beam_searcher = BeamSearcher(self)\n",
        "    prediction, _ = beam_searcher.beam_search(tokens, tokens_lengths, K, max_T)\n",
        "    # Convert to string\n",
        "    prediction = self.hf_tgt_tokenizer.decode(prediction, skip_special_tokens=True)\n",
        "    return prediction\n"
      ]
    },
    {
      "cell_type": "markdown",
      "id": "b3ff6c4a",
      "metadata": {
        "id": "b3ff6c4a"
      },
      "source": [
        "We provide the recommended hyperparameters for the final model in the script below, but you are free to tune the hyperparameters or change any part of the provided code.\n",
        "\n",
        ">For quick debugging, we recommend starting with smaller models (by using a very small `hidden_size`), and only a single epoch. If the model runs smoothly, then you can train the full model on GPUs."
      ]
    },
    {
      "cell_type": "code",
      "execution_count": null,
      "id": "579f35f5",
      "metadata": {
        "colab": {
          "base_uri": "https://localhost:8080/"
        },
        "id": "579f35f5",
        "outputId": "b008abe8-74d5-459d-bc60-ab3475cea91a"
      },
      "outputs": [
        {
          "name": "stderr",
          "output_type": "stream",
          "text": [
            "100%|██████████| 229/229 [01:38<00:00,  2.32it/s]\n"
          ]
        },
        {
          "name": "stdout",
          "output_type": "stream",
          "text": [
            "Epoch: 0 Training Perplexity: 4.0869 Validation Perplexity: 1.7087\n"
          ]
        },
        {
          "name": "stderr",
          "output_type": "stream",
          "text": [
            "100%|██████████| 229/229 [01:37<00:00,  2.36it/s]\n"
          ]
        },
        {
          "name": "stdout",
          "output_type": "stream",
          "text": [
            "Epoch: 1 Training Perplexity: 1.4585 Validation Perplexity: 1.3750\n"
          ]
        },
        {
          "name": "stderr",
          "output_type": "stream",
          "text": [
            "100%|██████████| 229/229 [01:38<00:00,  2.33it/s]\n"
          ]
        },
        {
          "name": "stdout",
          "output_type": "stream",
          "text": [
            "Epoch: 2 Training Perplexity: 1.2818 Validation Perplexity: 1.2734\n"
          ]
        },
        {
          "name": "stderr",
          "output_type": "stream",
          "text": [
            "100%|██████████| 229/229 [01:36<00:00,  2.38it/s]\n"
          ]
        },
        {
          "name": "stdout",
          "output_type": "stream",
          "text": [
            "Epoch: 3 Training Perplexity: 1.2075 Validation Perplexity: 1.2199\n"
          ]
        },
        {
          "name": "stderr",
          "output_type": "stream",
          "text": [
            "100%|██████████| 229/229 [01:36<00:00,  2.37it/s]\n"
          ]
        },
        {
          "name": "stdout",
          "output_type": "stream",
          "text": [
            "Epoch: 4 Training Perplexity: 1.1609 Validation Perplexity: 1.1804\n"
          ]
        },
        {
          "name": "stderr",
          "output_type": "stream",
          "text": [
            "100%|██████████| 229/229 [01:40<00:00,  2.28it/s]\n"
          ]
        },
        {
          "name": "stdout",
          "output_type": "stream",
          "text": [
            "Epoch: 5 Training Perplexity: 1.1289 Validation Perplexity: 1.1550\n"
          ]
        },
        {
          "name": "stderr",
          "output_type": "stream",
          "text": [
            "100%|██████████| 229/229 [01:37<00:00,  2.34it/s]\n"
          ]
        },
        {
          "name": "stdout",
          "output_type": "stream",
          "text": [
            "Epoch: 6 Training Perplexity: 1.1084 Validation Perplexity: 1.1397\n"
          ]
        },
        {
          "name": "stderr",
          "output_type": "stream",
          "text": [
            "100%|██████████| 229/229 [01:37<00:00,  2.35it/s]\n"
          ]
        },
        {
          "name": "stdout",
          "output_type": "stream",
          "text": [
            "Epoch: 7 Training Perplexity: 1.0890 Validation Perplexity: 1.1298\n"
          ]
        },
        {
          "name": "stderr",
          "output_type": "stream",
          "text": [
            "100%|██████████| 229/229 [01:37<00:00,  2.35it/s]\n"
          ]
        },
        {
          "name": "stdout",
          "output_type": "stream",
          "text": [
            "Epoch: 8 Training Perplexity: 1.0736 Validation Perplexity: 1.1251\n"
          ]
        },
        {
          "name": "stderr",
          "output_type": "stream",
          "text": [
            "100%|██████████| 229/229 [01:36<00:00,  2.38it/s]\n"
          ]
        },
        {
          "name": "stdout",
          "output_type": "stream",
          "text": [
            "Epoch: 9 Training Perplexity: 1.0641 Validation Perplexity: 1.1140\n"
          ]
        },
        {
          "name": "stderr",
          "output_type": "stream",
          "text": [
            "100%|██████████| 229/229 [01:38<00:00,  2.34it/s]\n"
          ]
        },
        {
          "name": "stdout",
          "output_type": "stream",
          "text": [
            "Epoch: 10 Training Perplexity: 1.0536 Validation Perplexity: 1.1070\n"
          ]
        },
        {
          "name": "stderr",
          "output_type": "stream",
          "text": [
            "100%|██████████| 229/229 [01:38<00:00,  2.31it/s]\n"
          ]
        },
        {
          "name": "stdout",
          "output_type": "stream",
          "text": [
            "Epoch: 11 Training Perplexity: 1.0438 Validation Perplexity: 1.1041\n"
          ]
        },
        {
          "name": "stderr",
          "output_type": "stream",
          "text": [
            "100%|██████████| 229/229 [01:38<00:00,  2.31it/s]\n"
          ]
        },
        {
          "name": "stdout",
          "output_type": "stream",
          "text": [
            "Epoch: 12 Training Perplexity: 1.0371 Validation Perplexity: 1.0997\n"
          ]
        },
        {
          "name": "stderr",
          "output_type": "stream",
          "text": [
            "100%|██████████| 229/229 [01:37<00:00,  2.35it/s]\n"
          ]
        },
        {
          "name": "stdout",
          "output_type": "stream",
          "text": [
            "Epoch: 13 Training Perplexity: 1.0311 Validation Perplexity: 1.0967\n"
          ]
        },
        {
          "name": "stderr",
          "output_type": "stream",
          "text": [
            "100%|██████████| 229/229 [01:40<00:00,  2.28it/s]\n"
          ]
        },
        {
          "name": "stdout",
          "output_type": "stream",
          "text": [
            "Epoch: 14 Training Perplexity: 1.0292 Validation Perplexity: 1.1009\n"
          ]
        },
        {
          "name": "stderr",
          "output_type": "stream",
          "text": [
            "100%|██████████| 229/229 [01:38<00:00,  2.33it/s]\n"
          ]
        },
        {
          "name": "stdout",
          "output_type": "stream",
          "text": [
            "Epoch: 15 Training Perplexity: 1.0287 Validation Perplexity: 1.0973\n"
          ]
        },
        {
          "name": "stderr",
          "output_type": "stream",
          "text": [
            "100%|██████████| 229/229 [01:37<00:00,  2.35it/s]\n"
          ]
        },
        {
          "name": "stdout",
          "output_type": "stream",
          "text": [
            "Epoch: 16 Training Perplexity: 1.0233 Validation Perplexity: 1.0977\n"
          ]
        },
        {
          "name": "stderr",
          "output_type": "stream",
          "text": [
            "100%|██████████| 229/229 [01:36<00:00,  2.37it/s]\n"
          ]
        },
        {
          "name": "stdout",
          "output_type": "stream",
          "text": [
            "Epoch: 17 Training Perplexity: 1.0197 Validation Perplexity: 1.0960\n"
          ]
        },
        {
          "name": "stderr",
          "output_type": "stream",
          "text": [
            "100%|██████████| 229/229 [01:38<00:00,  2.32it/s]\n"
          ]
        },
        {
          "name": "stdout",
          "output_type": "stream",
          "text": [
            "Epoch: 18 Training Perplexity: 1.0175 Validation Perplexity: 1.0960\n"
          ]
        },
        {
          "name": "stderr",
          "output_type": "stream",
          "text": [
            "100%|██████████| 229/229 [01:38<00:00,  2.33it/s]\n"
          ]
        },
        {
          "name": "stdout",
          "output_type": "stream",
          "text": [
            "Epoch: 19 Training Perplexity: 1.0149 Validation Perplexity: 1.0983\n"
          ]
        },
        {
          "name": "stderr",
          "output_type": "stream",
          "text": [
            "100%|██████████| 229/229 [01:35<00:00,  2.40it/s]\n"
          ]
        },
        {
          "name": "stdout",
          "output_type": "stream",
          "text": [
            "Epoch: 20 Training Perplexity: 1.0138 Validation Perplexity: 1.0979\n"
          ]
        },
        {
          "name": "stderr",
          "output_type": "stream",
          "text": [
            "100%|██████████| 229/229 [01:38<00:00,  2.33it/s]\n"
          ]
        },
        {
          "name": "stdout",
          "output_type": "stream",
          "text": [
            "Epoch: 21 Training Perplexity: 1.0120 Validation Perplexity: 1.0968\n"
          ]
        },
        {
          "name": "stderr",
          "output_type": "stream",
          "text": [
            "100%|██████████| 229/229 [01:37<00:00,  2.35it/s]\n"
          ]
        },
        {
          "name": "stdout",
          "output_type": "stream",
          "text": [
            "Epoch: 22 Training Perplexity: 1.0139 Validation Perplexity: 1.0959\n"
          ]
        },
        {
          "name": "stderr",
          "output_type": "stream",
          "text": [
            "100%|██████████| 229/229 [01:37<00:00,  2.34it/s]\n"
          ]
        },
        {
          "name": "stdout",
          "output_type": "stream",
          "text": [
            "Epoch: 23 Training Perplexity: 1.0112 Validation Perplexity: 1.0937\n",
            "Validation perplexity: 1.094\n"
          ]
        }
      ],
      "source": [
        "EPOCHS = 24 #50 # epochs; we recommend starting with a smaller number like 1\n",
        "LEARNING_RATE = 1e-4 # learning rate\n",
        "\n",
        "# Instantiate and train classifier\n",
        "model = AttnEncoderDecoder(hf_src_tokenizer, hf_tgt_tokenizer,\n",
        "  hidden_size    = 1024,\n",
        "  layers         = 1,\n",
        ").to(device)\n",
        "\n",
        "model.train_all(train_iter, val_iter, epochs=EPOCHS, learning_rate=LEARNING_RATE)\n",
        "model.load_state_dict(model.best_model)\n",
        "\n",
        "# Evaluate model performance, the expected value should be < 1.2\n",
        "print (f'Validation perplexity: {model.evaluate_ppl(val_iter):.3f}')"
      ]
    },
    {
      "cell_type": "markdown",
      "id": "03ee437f",
      "metadata": {
        "id": "03ee437f"
      },
      "source": [
        "With a trained model, we can convert questions to SQL statements. We recommend making sure that the model can generate at least reasonable results on the examples from before, before evaluating on the full test set."
      ]
    },
    {
      "cell_type": "code",
      "execution_count": null,
      "id": "dccc5761",
      "metadata": {
        "id": "dccc5761"
      },
      "outputs": [],
      "source": [
        "def seq2seq_trial(sentence, gold_sql):\n",
        "  print(\"Sentence: \", sentence, \"\\n\")\n",
        "\n",
        "  predicted_sql = model.predict(sentence, K=1, max_T=400)\n",
        "  print(\"Predicted SQL:\\n\\n\", predicted_sql, \"\\n\")\n",
        "\n",
        "  if verify(predicted_sql, gold_sql, silent=False):\n",
        "    print ('Correct!')\n",
        "  else:\n",
        "    print ('Incorrect!')"
      ]
    },
    {
      "cell_type": "code",
      "execution_count": null,
      "id": "7114b61b",
      "metadata": {
        "colab": {
          "base_uri": "https://localhost:8080/"
        },
        "id": "7114b61b",
        "outputId": "fefa19bc-9cd3-4012-f462-ede85415785b"
      },
      "outputs": [
        {
          "name": "stdout",
          "output_type": "stream",
          "text": [
            "Sentence:  flights from phoenix to milwaukee \n",
            "\n",
            "Predicted SQL:\n",
            "\n",
            " SELECT DISTINCT flight_1.flight_id FROM flight flight_1, airport_service airport_service_1, city city_1, airport_service airport_service_2, city city_2 WHERE flight_1.from_airport = airport_service_1.airport_code AND airport_service_1.city_code = city_1.city_code AND city_1.city_name = 'PHOENIX' AND flight_1.to_airport = airport_service_2.airport_code AND airport_service_2.city_code = city_2.city_code AND city_2.city_name = 'MILWAUKEE' \n",
            "\n",
            "Predicted DB result:\n",
            "\n",
            " [(108086,), (108087,), (301763,), (301764,), (301765,), (301766,), (302323,), (304881,), (310619,), (310620,)] \n",
            "\n",
            "Gold DB result:\n",
            "\n",
            " [(108086,), (108087,), (301763,), (301764,), (301765,), (301766,), (302323,), (304881,), (310619,), (310620,)] \n",
            "\n",
            "Correct!\n"
          ]
        }
      ],
      "source": [
        "seq2seq_trial(example_1, gold_sql_1)"
      ]
    },
    {
      "cell_type": "code",
      "execution_count": null,
      "id": "8c13fcf3",
      "metadata": {
        "colab": {
          "base_uri": "https://localhost:8080/"
        },
        "id": "8c13fcf3",
        "outputId": "5b64094f-9805-4e84-ffb9-20fc33948179"
      },
      "outputs": [
        {
          "name": "stdout",
          "output_type": "stream",
          "text": [
            "Sentence:  i would like a united flight \n",
            "\n",
            "Predicted SQL:\n",
            "\n",
            " SELECT DISTINCT flight_1.flight_id FROM flight flight_1 WHERE flight_1.airline_code = 'UA' AND 1 = 1 \n",
            "\n",
            "Predicted DB result:\n",
            "\n",
            " [(100094,), (100099,), (100145,), (100158,), (100164,), (100167,), (100169,), (100203,), (100204,), (100296,)] \n",
            "\n",
            "Gold DB result:\n",
            "\n",
            " [(100094,), (100099,), (100145,), (100158,), (100164,), (100167,), (100169,), (100203,), (100204,), (100296,)] \n",
            "\n",
            "Correct!\n"
          ]
        }
      ],
      "source": [
        "seq2seq_trial(example_2, gold_sql_2)"
      ]
    },
    {
      "cell_type": "code",
      "execution_count": null,
      "id": "cabdfeae",
      "metadata": {
        "colab": {
          "base_uri": "https://localhost:8080/"
        },
        "id": "cabdfeae",
        "outputId": "33c4a9c5-3c05-4fcb-88d4-ed075f55038c"
      },
      "outputs": [
        {
          "name": "stdout",
          "output_type": "stream",
          "text": [
            "Sentence:  i would like a flight between boston and dallas \n",
            "\n",
            "Predicted SQL:\n",
            "\n",
            " SELECT DISTINCT flight_1.flight_id FROM flight flight_1, airport_service airport_service_1, city city_1, airport_service airport_service_2, city city_2 WHERE flight_1.from_airport = airport_service_1.airport_code AND airport_service_1.city_code = city_1.city_code AND city_1.city_name = 'BOSTON' AND flight_1.to_airport = airport_service_2.airport_code AND airport_service_2.city_code = city_2.city_code AND city_2.city_name = 'DALLAS' \n",
            "\n",
            "Predicted DB result:\n",
            "\n",
            " [(103171,), (103172,), (103173,), (103174,), (103175,), (103176,), (103177,), (103178,), (103179,), (103180,)] \n",
            "\n",
            "Gold DB result:\n",
            "\n",
            " [(103171,), (103172,), (103173,), (103174,), (103175,), (103176,), (103177,), (103178,), (103179,), (103180,)] \n",
            "\n",
            "Correct!\n"
          ]
        }
      ],
      "source": [
        "seq2seq_trial(example_3, gold_sql_3)"
      ]
    },
    {
      "cell_type": "code",
      "execution_count": null,
      "id": "560b218c",
      "metadata": {
        "colab": {
          "base_uri": "https://localhost:8080/"
        },
        "id": "560b218c",
        "outputId": "9ef0b359-591f-4ed6-f8ee-d7e443cab27e"
      },
      "outputs": [
        {
          "name": "stdout",
          "output_type": "stream",
          "text": [
            "Sentence:  show me the united flights from denver to baltimore \n",
            "\n",
            "Predicted SQL:\n",
            "\n",
            " SELECT DISTINCT flight_1.flight_id FROM flight flight_1, airport_service airport_service_1, city city_1, airport_service airport_service_2, city city_2 WHERE flight_1.airline_code = 'UA' AND ( flight_1.from_airport = airport_service_1.airport_code AND airport_service_1.city_code = city_1.city_code AND city_1.city_name = 'DENVER' AND flight_1.to_airport = airport_service_2.airport_code AND airport_service_2.city_code = city_2.city_code AND city_2.city_name = 'BALTIMORE' ) \n",
            "\n",
            "Predicted DB result:\n",
            "\n",
            " [(101231,), (101233,), (305983,)] \n",
            "\n",
            "Gold DB result:\n",
            "\n",
            " [(101231,), (101233,), (305983,)] \n",
            "\n",
            "Correct!\n"
          ]
        }
      ],
      "source": [
        "seq2seq_trial(example_4, gold_sql_4)"
      ]
    },
    {
      "cell_type": "code",
      "execution_count": null,
      "id": "069d8ba3",
      "metadata": {
        "colab": {
          "base_uri": "https://localhost:8080/"
        },
        "id": "069d8ba3",
        "outputId": "68231e19-b67e-465d-ca32-6f94e284f68a"
      },
      "outputs": [
        {
          "name": "stdout",
          "output_type": "stream",
          "text": [
            "Sentence:  show flights from cleveland to miami that arrive before 4pm \n",
            "\n",
            "Predicted SQL:\n",
            "\n",
            " SELECT DISTINCT flight_1.flight_id FROM flight flight_1, airport_service airport_service_1, city city_1, airport_service airport_service_2, city city_2 WHERE flight_1.from_airport = airport_service_1.airport_code AND airport_service_1.city_code = city_1.city_code AND city_1.city_name = 'CLEVELAND' AND ( flight_1.to_airport = airport_service_2.airport_code AND airport_service_2.city_code = city_2.city_code AND city_2.city_name = 'MIAMI' AND flight_1.arrival_time < 1600 ) \n",
            "\n",
            "Predicted DB result:\n",
            "\n",
            " [(107698,), (301117,)] \n",
            "\n",
            "Gold DB result:\n",
            "\n",
            " [(107698,), (301117,)] \n",
            "\n",
            "Correct!\n"
          ]
        }
      ],
      "source": [
        "seq2seq_trial(example_5, gold_sql_5)"
      ]
    },
    {
      "cell_type": "code",
      "execution_count": null,
      "id": "d042abfe",
      "metadata": {
        "colab": {
          "base_uri": "https://localhost:8080/"
        },
        "id": "d042abfe",
        "outputId": "68c1dfe0-c339-44bc-8a80-902c28306a73"
      },
      "outputs": [
        {
          "name": "stdout",
          "output_type": "stream",
          "text": [
            "Sentence:  okay how about a flight on sunday from tampa to charlotte \n",
            "\n",
            "Predicted SQL:\n",
            "\n",
            " SELECT DISTINCT flight_1.flight_id FROM flight flight_1, airport_service airport_service_1, city city_1, airport_service airport_service_2, city city_2, days days_1, date_day date_day_1 WHERE flight_1.from_airport = airport_service_1.airport_code AND airport_service_1.city_code = city_1.city_code AND city_1.city_name = 'TAMPA' AND ( flight_1.to_airport = airport_service_2.airport_code AND airport_service_2.city_code = city_2.city_code AND city_2.city_name = 'CHARLOTTE' AND flight_1.flight_days = days_1.days_code AND days_1.day_name = date_day_1.day_name AND date_day_1.year = 1991 AND date_day_1.month_number = 8 AND date_day_1.day_number = 27 ) \n",
            "\n",
            "Predicted DB result:\n",
            "\n",
            " [(101860,), (101861,), (101862,), (101863,), (101864,), (101865,), (305231,)] \n",
            "\n",
            "Gold DB result:\n",
            "\n",
            " [(101860,), (101861,), (101862,), (101863,), (101864,), (101865,), (305231,)] \n",
            "\n",
            "Correct!\n"
          ]
        }
      ],
      "source": [
        "seq2seq_trial(example_6, gold_sql_6b)"
      ]
    },
    {
      "cell_type": "code",
      "execution_count": null,
      "id": "3ef3fed0",
      "metadata": {
        "colab": {
          "base_uri": "https://localhost:8080/"
        },
        "id": "3ef3fed0",
        "outputId": "cc17fe6a-26ef-4810-fdcc-2737deb8172b"
      },
      "outputs": [
        {
          "name": "stdout",
          "output_type": "stream",
          "text": [
            "Sentence:  list all flights going from boston to atlanta that leaves before 7 am on thursday \n",
            "\n",
            "Predicted SQL:\n",
            "\n",
            " SELECT DISTINCT flight_1.flight_id FROM flight flight_1, airport_service airport_service_1, city city_1, airport_service airport_service_2, city city_2, days days_1, date_day date_day_1 WHERE flight_1.from_airport = airport_service_1.airport_code AND airport_service_1.city_code = city_1.city_code AND city_1.city_name = 'BOSTON' AND ( flight_1.to_airport = airport_service_2.airport_code AND airport_service_2.city_code = city_2.city_code AND city_2.city_name = 'ATLANTA' AND ( flight_1.flight_days = days_1.days_code AND days_1.day_name = date_day_1.day_name AND date_day_1.year = 1991 AND date_day_1.month_number = 5 AND date_day_1.day_number = 24 AND flight_1.departure_time < 700 ) ) \n",
            "\n",
            "Predicted DB result:\n",
            "\n",
            " [(100014,)] \n",
            "\n",
            "Gold DB result:\n",
            "\n",
            " [(100014,)] \n",
            "\n",
            "Correct!\n"
          ]
        }
      ],
      "source": [
        "seq2seq_trial(example_7, gold_sql_7b)"
      ]
    },
    {
      "cell_type": "code",
      "execution_count": null,
      "id": "5f3719f9",
      "metadata": {
        "colab": {
          "base_uri": "https://localhost:8080/"
        },
        "id": "5f3719f9",
        "outputId": "36bd0f4a-8842-448b-ee27-b91f8c4f4178"
      },
      "outputs": [
        {
          "name": "stdout",
          "output_type": "stream",
          "text": [
            "Sentence:  list the flights from dallas to san francisco on american airlines \n",
            "\n",
            "Predicted SQL:\n",
            "\n",
            " SELECT DISTINCT flight_1.flight_id FROM flight flight_1, airport_service airport_service_1, city city_1, airport_service airport_service_2, city city_2 WHERE flight_1.airline_code = 'AA' AND ( flight_1.from_airport = airport_service_1.airport_code AND airport_service_1.city_code = city_1.city_code AND city_1.city_name = 'DALLAS' AND flight_1.to_airport = airport_service_2.airport_code AND airport_service_2.city_code = city_2.city_code AND city_2.city_name = 'SAN FRANCISCO' ) \n",
            "\n",
            "Predicted DB result:\n",
            "\n",
            " [(108452,), (108454,), (108456,), (111083,), (111085,), (111086,), (111090,), (111091,), (111092,), (111094,)] \n",
            "\n",
            "Gold DB result:\n",
            "\n",
            " [(108452,), (108454,), (108456,), (111083,), (111085,), (111086,), (111090,), (111091,), (111092,), (111094,)] \n",
            "\n",
            "Correct!\n"
          ]
        }
      ],
      "source": [
        "seq2seq_trial(example_8, gold_sql_8)"
      ]
    },
    {
      "cell_type": "markdown",
      "id": "6a5ee90c",
      "metadata": {
        "id": "6a5ee90c"
      },
      "source": [
        "### Evaluation\n",
        "\n",
        "Now we are ready to run the full evaluation. A proper implementation should reach more than 35% precision/recall/F1."
      ]
    },
    {
      "cell_type": "code",
      "execution_count": null,
      "id": "2fb44bbf",
      "metadata": {
        "id": "2fb44bbf"
      },
      "outputs": [],
      "source": [
        "def seq2seq_predictor(tokens):\n",
        "  prediction = model.predict(tokens, K=1, max_T=400)\n",
        "  return prediction"
      ]
    },
    {
      "cell_type": "code",
      "execution_count": null,
      "id": "5e8a2323",
      "metadata": {
        "colab": {
          "base_uri": "https://localhost:8080/"
        },
        "id": "5e8a2323",
        "outputId": "ff286b7d-da92-493d-ba81-17812d8fa7c5"
      },
      "outputs": [
        {
          "name": "stderr",
          "output_type": "stream",
          "text": [
            "332it [02:37,  2.11it/s]"
          ]
        },
        {
          "name": "stdout",
          "output_type": "stream",
          "text": [
            "precision: 0.41\n",
            "recall:    0.41\n",
            "F1:        0.41\n"
          ]
        },
        {
          "name": "stderr",
          "output_type": "stream",
          "text": [
            "\n"
          ]
        }
      ],
      "source": [
        "precision, recall, f1 = evaluate(seq2seq_predictor, test_data, num_examples=0)\n",
        "print(f\"precision: {precision:3.2f}\")\n",
        "print(f\"recall:    {recall:3.2f}\")\n",
        "print(f\"F1:        {f1:3.2f}\")"
      ]
    },
    {
      "cell_type": "markdown",
      "id": "f59bab43",
      "metadata": {
        "id": "f59bab43"
      },
      "source": [
        "## Goal 3: Implement a seq2seq model (with cross attention and self attention)\n",
        "\n",
        "In the previous section, you have implemented a seq2seq model with attention. The attention mechanism used in that section is usually referred to as \"cross-attention\", as at each decoding step, the decoder attends to encoder outputs, enabling a dynamic view on the encoder side as decoding proceeds.\n",
        "\n",
        "Similarly, we can have a dynamic view on the decoder side as well as decoding proceeds, i.e., the decoder attends to decoder outputs at previous steps. This is called \"self attention\", and has been found very useful in modern neural architectures such as transformers.\n",
        "\n",
        "Augment the seq2seq model you implemented before with a decoder self-attention mechanism as class `AttnEncoderDecoder2`. A model diagram can be found below:\n",
        "\n",
        "\n",
        "<img src=\"https://github.com/nlp-236299/data/raw/master/img/encoderdecoder_attn_selfattn.png\" alt=\"encoder-decoder-attn-with-selfattn illustration\" />\n",
        "\n",
        "At each decoding step, the decoder LSTM first produces an output state $o_t$, then it attends to all previous output states $o_1, \\ldots, o_{t-1}$ (decoder self-attention). You need to special case the first decoding step to not perform self-attention, as there are no previous decoder states. The attention result is added to $o_t$ itself and the sum is used as $q_t$ to attend to the encoder side (encoder-decoder cross-attention). The rest of the model is the same as encoder-decoder with attention.\n"
      ]
    },
    {
      "cell_type": "code",
      "execution_count": null,
      "id": "5vho2z2CP_sJ",
      "metadata": {
        "id": "5vho2z2CP_sJ"
      },
      "outputs": [],
      "source": [
        "class New_Beam():\n",
        "  \"\"\"\n",
        "  Helper class for storing a hypothesis, its score and its decoder hidden state.\n",
        "  \"\"\"\n",
        "  def __init__(self, decoder_state, tokens, score):\n",
        "    self.decoder_state = decoder_state\n",
        "    self.tokens = tokens\n",
        "    self.score = score\n",
        "\n",
        "class New_BeamSearcher():\n",
        "  \"\"\"\n",
        "  Main class for beam search.\n",
        "  \"\"\"\n",
        "  def __init__(self, model):\n",
        "    self.model = model\n",
        "    self.bos_id = model.bos_id\n",
        "    self.eos_id = model.eos_id\n",
        "    self.padding_id_src = model.padding_id_src\n",
        "    self.V = model.V_tgt\n",
        "\n",
        "\n",
        "  def beam_search(self, src, src_lengths, K, max_T=15):\n",
        "    \"\"\"\n",
        "    Performs beam search decoding.\n",
        "    Arguments:\n",
        "        src: src batch of size (1, max_src_len)\n",
        "        src_lengths: src lengths of size (1)\n",
        "        K: beam size\n",
        "        max_T: max possible target length considered\n",
        "    Returns:\n",
        "        a list of token ids and a list of attentions\n",
        "    \"\"\"\n",
        "    INIT_SCORE = 0.0\n",
        "    finished = []\n",
        "    all_attns = []\n",
        "    # Initialize the beam\n",
        "    self.model.eval()\n",
        "\n",
        "    #TODO - fill in `memory_bank`, `encoder_final_state`, and `init_beam` below\n",
        "\n",
        "    memory_bank , encoder_final_state = self.model.forward_encoder(src,src_lengths)\n",
        "\n",
        "    bos_id_tensor = torch.tensor([self.bos_id], dtype=torch.int64).to(device=device)\n",
        "    init_beam = New_Beam(encoder_final_state, bos_id_tensor, INIT_SCORE)\n",
        "    beams = [init_beam]\n",
        "\n",
        "    with torch.no_grad():\n",
        "      for t in range(max_T):\n",
        "\n",
        "        # Expand each beam by all possible tokens y_{t+1}\n",
        "        all_total_scores = []\n",
        "        for beam in beams:\n",
        "          y_1_to_t, score, decoder_state = beam.tokens, beam.score, beam.decoder_state\n",
        "          y_t = y_1_to_t[-1].unsqueeze(0)\n",
        "\n",
        "          src_mask = src.ne(self.padding_id_src)\n",
        "          #for words_of_sen in split_tensors:\n",
        "          logits, decoder_state, attn, new_vals = self.model.forward_decoder_incrementally(decoder_state, y_t, memory_bank, src_mask, None, normalize=True)\n",
        "          total_scores = logits + score\n",
        "          all_total_scores.append(total_scores)\n",
        "          if attn is not None:\n",
        "            all_attns.append(attn) # keep attentions for visualization\n",
        "          beam.decoder_state = decoder_state # update decoder state in the beam\n",
        "        all_total_scores = torch.stack(all_total_scores) # (K, V) when t>0, (1, V) when t=0\n",
        "\n",
        "        # Find K best next beams\n",
        "        # The code below has the same functionality as line 6-12, but is more efficient\n",
        "        all_scores_flattened = all_total_scores.view(-1) # K*V when t>0, 1*V when t=0\n",
        "        topk_scores, topk_ids = all_scores_flattened.topk(K, 0)\n",
        "        beam_ids = topk_ids.div(self.V, rounding_mode='floor')\n",
        "        next_tokens = topk_ids - beam_ids * self.V\n",
        "        new_beams = []\n",
        "        for k in range(K):\n",
        "          beam_id = beam_ids[k]       # which beam it comes from\n",
        "          y_t_plus_1 = next_tokens[k] # which y_{t+1}\n",
        "          score = topk_scores[k]\n",
        "          beam = beams[beam_id]\n",
        "          decoder_state = beam.decoder_state\n",
        "          y_1_to_t = beam.tokens\n",
        "          #TODO\n",
        "\n",
        "          y_1_to_t_plus_1 = torch.cat((y_1_to_t, y_t_plus_1.unsqueeze(0)), dim=0).to(device=device)\n",
        "          new_beam = New_Beam(decoder_state, y_1_to_t_plus_1, score)##\n",
        "          new_beams.append(new_beam)\n",
        "\n",
        "        beams = new_beams\n",
        "\n",
        "        # Set aside completed beams\n",
        "        # TODO - move completed beams to `finished` (and remove them from `beams`)\n",
        "        for beam in beams:\n",
        "          if self.eos_id == beam.tokens[-1]:\n",
        "            finished.append(beam)\n",
        "            beams.remove(beam)\n",
        "\n",
        "        if len(beams) == 0:\n",
        "            break\n",
        "\n",
        "    # Return the best hypothesis\n",
        "    if len(finished) > 0:\n",
        "      finished = sorted(finished, key=lambda beam: -beam.score)\n",
        "      return [token.item() for token in finished[0].tokens], all_attns\n",
        "    else: # when nothing is finished, return an unfinished hypothesis\n",
        "      return [token.item() for token in beams[0].tokens], all_attns"
      ]
    },
    {
      "cell_type": "code",
      "execution_count": null,
      "id": "vtviVAZLQE6n",
      "metadata": {
        "id": "vtviVAZLQE6n"
      },
      "outputs": [],
      "source": [
        "#TODO - implement `forward_encoder` and `forward_decoder_incrementally`.\n",
        "class AttnEncoderDecoder2(nn.Module):\n",
        "  def __init__(self, hf_src_tokenizer, hf_tgt_tokenizer, hidden_size=64, layers=3):\n",
        "    \"\"\"\n",
        "    Initializer. Creates network modules and loss function.\n",
        "    Arguments:\n",
        "        hf_src_tokenizer: hf src tokenizer\n",
        "        hf_tgt_tokenizer: hf tgt tokenizer\n",
        "        hidden_size: hidden layer size of both encoder and decoder\n",
        "        layers: number of layers of both encoder and decoder\n",
        "    \"\"\"\n",
        "    super().__init__()\n",
        "    self.hf_src_tokenizer = hf_src_tokenizer\n",
        "    self.hf_tgt_tokenizer = hf_tgt_tokenizer\n",
        "\n",
        "    # Keep the vocabulary sizes available\n",
        "    self.V_src = len(self.hf_src_tokenizer)\n",
        "    self.V_tgt = len(self.hf_tgt_tokenizer)\n",
        "\n",
        "    # self.src_vocab=hf_src_tokenizer.get_vocab()\n",
        "    # self.tgt_vocab=hf_tgt_tokenizer.get_vocab()\n",
        "\n",
        "    # Get special word ids\n",
        "    self.padding_id_src = self.hf_src_tokenizer.pad_token_id\n",
        "    self.padding_id_tgt = self.hf_tgt_tokenizer.pad_token_id\n",
        "    self.bos_id = self.hf_tgt_tokenizer.bos_token_id\n",
        "    self.eos_id = self.hf_tgt_tokenizer.eos_token_id\n",
        "\n",
        "    # Keep hyper-parameters available\n",
        "    self.embedding_size = hidden_size\n",
        "    self.hidden_size = hidden_size\n",
        "    self.layers = layers\n",
        "\n",
        "    # Create essential modules\n",
        "    self.word_embeddings_src = nn.Embedding(self.V_src, self.embedding_size)\n",
        "    self.word_embeddings_tgt = nn.Embedding(self.V_tgt, self.embedding_size)\n",
        "\n",
        "    self.device=device\n",
        "\n",
        "    # RNN cells\n",
        "    self.encoder_rnn = nn.LSTM(\n",
        "      input_size    = self.embedding_size,\n",
        "      hidden_size   = hidden_size // 2, # to match decoder hidden size\n",
        "      num_layers    = layers,\n",
        "      batch_first=True,\n",
        "      bidirectional = True              # bidirectional encoder\n",
        "    )\n",
        "    self.decoder_rnn = nn.LSTM(\n",
        "      input_size    = self.embedding_size,\n",
        "      hidden_size   = hidden_size,\n",
        "      num_layers    = layers,\n",
        "      batch_first=True,\n",
        "      bidirectional = False             # unidirectional decoder\n",
        "    )\n",
        "\n",
        "    # Final projection layer\n",
        "    self.hidden2output = nn.Linear(2*hidden_size, self.V_tgt) # project the concatenation to logits\n",
        "\n",
        "    # Create loss function\n",
        "    self.loss_function = nn.CrossEntropyLoss(reduction='sum',\n",
        "                                             ignore_index=self.padding_id_tgt)\n",
        "\n",
        "  def forward_encoder(self, src, src_lengths):\n",
        "    \"\"\"\n",
        "    Encodes source words `src`.\n",
        "    Arguments:\n",
        "        src: src batch of size (bsz, max_src_len)\n",
        "        src_lengths: src lengths of size (bsz)\n",
        "    Returns:\n",
        "        memory_bank: a tensor of size (bsz, src_len, hidden_size)\n",
        "        (final_state, context): `final_state` is a tuple (h, c) where h/c is of size\n",
        "                                (layers, bsz, hidden_size), and `context` is `None`.\n",
        "    \"\"\"\n",
        "    #TODO\n",
        "    embedding = self.word_embeddings_src(src)\n",
        "    packed = pack(embedding, src_lengths.tolist(), batch_first=True, enforce_sorted=False)\n",
        "    outputs, (h, c) = self.encoder_rnn(packed) #outputs was memory_bank\n",
        "\n",
        "    memory_bank, _ = unpack(outputs, batch_first=True)\n",
        "\n",
        "\n",
        "    def reshape_hidden_state(s):\n",
        "      s = s.reshape(2, self.layers, -1, self. hidden_size // 2)\n",
        "      s = s.transpose(0, 1).transpose(1, 2)\n",
        "      s = s.reshape(self.layers, -1, self.hidden_size)\n",
        "      return s\n",
        "\n",
        "    final_state = (reshape_hidden_state(h), reshape_hidden_state(c))\n",
        "\n",
        "    context = None\n",
        "    return memory_bank, (final_state, context)\n",
        "\n",
        "  def forward_decoder(self, encoder_final_state, tgt_in, memory_bank, src_mask):\n",
        "    \"\"\"\n",
        "    Decodes based on encoder final state, memory bank, src_mask, and ground truth\n",
        "    target words.\n",
        "    Arguments:\n",
        "        encoder_final_state: (final_state, None) where final_state is the encoder\n",
        "                             final state used to initialize decoder. None is the\n",
        "                             initial context (there's no previous context at the\n",
        "                             first step).\n",
        "        tgt_in: a tensor of size (bsz, tgt_len)\n",
        "        memory_bank: a tensor of size (bsz, src_len, hidden_size), encoder outputs\n",
        "                     at every position\n",
        "        src_mask: a tensor of size (bsz, src_len): a boolean tensor, `False` where\n",
        "                  src is padding (we disallow decoder to attend to those places).\n",
        "    Returns:\n",
        "        Logits of size (bsz, tgt_len, V_tgt) (before the softmax operation)\n",
        "    \"\"\"\n",
        "    max_tgt_length = tgt_in.size(1)\n",
        "\n",
        "    # Initialize decoder state, note that it's a tuple (state, context) here\n",
        "    decoder_states = encoder_final_state\n",
        "\n",
        "    all_logits = []\n",
        "    for i in range(max_tgt_length):\n",
        "      logits, decoder_states, attn, new_vals = \\\n",
        "        self.forward_decoder_incrementally(decoder_states,\n",
        "                                           tgt_in[:, i],\n",
        "                                           memory_bank,\n",
        "                                           src_mask,\n",
        "                                           None,\n",
        "                                           normalize=False)\n",
        "      all_logits.append(logits)             # list of bsz, vocab_tgt\n",
        "    all_logits = torch.stack(all_logits, 1) # bsz, tgt_len, vocab_tgt\n",
        "    return all_logits\n",
        "\n",
        "  def forward(self, src, src_lengths, tgt_in):\n",
        "    \"\"\"\n",
        "    Performs forward computation, returns logits.\n",
        "    Arguments:\n",
        "        src: src batch of size (bsz, max_src_len)\n",
        "        src_lengths: src lengths of size (bsz)\n",
        "        tgt_in:  a tensor of size (bsz, tgt_len)\n",
        "    \"\"\"\n",
        "    src_mask = src.ne(self.padding_id_src) # bsz, max_src_len\n",
        "    # Forward encoder\n",
        "    memory_bank, encoder_final_state = self.forward_encoder(src, src_lengths)\n",
        "    # Forward decoder\n",
        "    logits = self.forward_decoder(encoder_final_state, tgt_in, memory_bank, src_mask)\n",
        "    return logits\n",
        "\n",
        "  def forward_decoder_incrementally(self, prev_decoder_states, tgt_in_onestep,\n",
        "                                    memory_bank, src_mask,\n",
        "                                    new_vals,\n",
        "                                    normalize=True):\n",
        "    \"\"\"\n",
        "    Forward the decoder for a single step with token `tgt_in_onestep`.\n",
        "    This function will be used both in `forward_decoder` and in beam search.\n",
        "    Note that bsz can be greater than 1.\n",
        "    Arguments:\n",
        "        prev_decoder_states: a tuple (prev_decoder_state, prev_context). `prev_context`\n",
        "                             is `None` for the first step\n",
        "        tgt_in_onestep: a tensor of size (bsz), tokens at one step\n",
        "        memory_bank: a tensor of size (bsz, src_len, hidden_size), encoder outputs\n",
        "                     at every position\n",
        "        src_mask: a tensor of size (bsz, src_len): a boolean tensor, `False` where\n",
        "                  src is padding (we disallow decoder to attend to those places).\n",
        "        normalize: use log_softmax to normalize or not. Beam search needs to normalize,\n",
        "                   while `forward_decoder` does not\n",
        "    Returns:\n",
        "        logits: log probabilities for `tgt_in_token` of size (bsz, V_tgt)\n",
        "        decoder_states: (`decoder_state`, `context`) which will be used for the\n",
        "                        next incremental update\n",
        "        attn: normalized attention scores at this step (bsz, src_len)\n",
        "    \"\"\"\n",
        "    prev_decoder_state, prev_context = prev_decoder_states\n",
        "    #TODO\n",
        "    tgt_in = self.word_embeddings_tgt(tgt_in_onestep.unsqueeze(1)) # tgt_in = self.word_embeddings_tgt(tgt_in_onestep.unsqueeze(1))\n",
        "    if prev_context is not None:\n",
        "        tgt_in = tgt_in + prev_context.unsqueeze(1)\n",
        "\n",
        "    # tgt_in = tgt_in.unsqueeze(1)\n",
        "    decoder_outs, decoder_state = self.decoder_rnn(tgt_in, prev_decoder_state)\n",
        "\n",
        "\n",
        "    # Attend to memory bank\n",
        "    mask = src_mask.unsqueeze(1).to(device) # bsz, 1, arc Lien\n",
        "\n",
        "    if new_vals is not None:\n",
        "      attn_tmp, self_context = attention(decoder_outs, our_values, our_values, mask)\n",
        "      our_values = torch.cat((our_values, decoder_outs), dim=0)\n",
        "      decoder_outs = decoder_outs + self_context\n",
        "\n",
        "    q = decoder_outs # bsz, 7, hidden_size\n",
        "    k = memory_bank # tsz, src_len, hidden_size\n",
        "    v = memory_bank\n",
        "    attn, context = attention(q, k, v, mask=mask)\n",
        "\n",
        "    context_and_output = torch.cat([decoder_outs, context], -1)\n",
        "    logits = self.hidden2output(context_and_output)\n",
        "\n",
        "    decoder_states = (decoder_state, context.squeeze(1))\n",
        "    if normalize:\n",
        "        logits = torch.log_softmax(logits, dim=-1)\n",
        "    return logits, decoder_states, attn, new_vals\n",
        "\n",
        "  def evaluate_ppl(self, iterator):\n",
        "    \"\"\"Returns the model's perplexity on a given dataset `iterator`.\"\"\"\n",
        "    # Switch to eval mode\n",
        "    self.eval()\n",
        "    total_loss = 0\n",
        "    total_words = 0\n",
        "    for batch in iterator:\n",
        "      # Input and target\n",
        "      src = batch['src_ids']              # bsz, max_src_len\n",
        "      src_lengths = batch['src_lengths']  # bsz\n",
        "      tgt_in = batch['tgt_ids'][:, :-1]\n",
        "      tgt_out = batch['tgt_ids'][:, 1:]\n",
        "      # Forward to get logits\n",
        "      logits = self.forward(src, src_lengths, tgt_in) # bsz, tgt_len, V_tgt\n",
        "      # Compute cross entropy loss\n",
        "      loss = self.loss_function(logits.reshape(-1, self.V_tgt), tgt_out.reshape(-1))\n",
        "      total_loss += loss.item()\n",
        "      total_words += tgt_out.ne(self.padding_id_tgt).float().sum().item()\n",
        "    return math.exp(total_loss/total_words)\n",
        "\n",
        "  def train_all(self, train_iter, val_iter, epochs=10, learning_rate=0.001):\n",
        "\n",
        "    \"\"\"Train the model.\"\"\"\n",
        "    # Switch the module to training mode\n",
        "    self.train()\n",
        "    # Use Adam to optimize the parameters\n",
        "    optim = torch.optim.Adam(self.parameters(), lr=learning_rate)\n",
        "    best_validation_ppl = float('inf')\n",
        "    best_model = None\n",
        "    # Run the optimization for multiple epochs\n",
        "    for epoch in range(epochs):\n",
        "      total_words = 0\n",
        "      total_loss = 0.0\n",
        "      for batch in tqdm(train_iter):\n",
        "        # Zero the parameter gradients\n",
        "        self.zero_grad()\n",
        "        # Input and target\n",
        "        tgt = batch['tgt_ids']              # bsz, max_tgt_len\n",
        "        src = batch['src_ids']              # bsz, max_src_len\n",
        "        src_lengths = batch['src_lengths']  # bsz\n",
        "        tgt_in = tgt[:, :-1].contiguous() # Remove <eos> for decode input (y_0=<bos>, y_1, y_2)\n",
        "        tgt_out = tgt[:, 1:].contiguous() # Remove <bos> as target        (y_1, y_2, y_3=<eos>)\n",
        "        bsz = tgt.size(0)\n",
        "        # Run forward pass and compute loss along the way.\n",
        "        logits = self.forward(src, src_lengths, tgt_in)\n",
        "        loss = self.loss_function(logits.view(-1, self.V_tgt), tgt_out.view(-1))\n",
        "        # Training stats\n",
        "        num_tgt_words = tgt_out.ne(self.padding_id_tgt).float().sum().item()\n",
        "        total_words += num_tgt_words\n",
        "        total_loss += loss.item()\n",
        "        # Perform backpropagation\n",
        "        loss.div(bsz).backward()\n",
        "        optim.step()\n",
        "\n",
        "      # Evaluate and track improvements on the validation dataset\n",
        "      validation_ppl = self.evaluate_ppl(val_iter)\n",
        "      self.train()\n",
        "      if validation_ppl < best_validation_ppl:\n",
        "        best_validation_ppl = validation_ppl\n",
        "        self.best_model = copy.deepcopy(self.state_dict())\n",
        "      epoch_loss = total_loss / total_words\n",
        "      print (f'Epoch: {epoch} Training Perplexity: {math.exp(epoch_loss):.4f} '\n",
        "             f'Validation Perplexity: {validation_ppl:.4f}')\n",
        "\n",
        "  def predict(self, tokens, max_T, K=1):\n",
        "    tokens = torch.IntTensor(self.hf_src_tokenizer.encode(tokens)).to(device)\n",
        "    tokens = tokens.unsqueeze(0).to(device) #torch.unsqueeze(tokens, 0)\n",
        "    tokens_lengths = torch.IntTensor([tokens.shape[1]]).to(device)\n",
        "    #tokens_lengths = torch.unsqueeze(tokens_lengths, 0)\n",
        "    beam_searcher = New_BeamSearcher(self)\n",
        "    prediction, _ = beam_searcher.beam_search(tokens, tokens_lengths, K, max_T)\n",
        "    # Convert to string\n",
        "    prediction = self.hf_tgt_tokenizer.decode(prediction, skip_special_tokens=True)\n",
        "    return prediction"
      ]
    },
    {
      "cell_type": "code",
      "execution_count": null,
      "id": "b8fd7bb0",
      "metadata": {
        "colab": {
          "base_uri": "https://localhost:8080/"
        },
        "id": "b8fd7bb0",
        "outputId": "dfba4eb8-cc6b-4fba-fad3-e0fc8f6e1262"
      },
      "outputs": [
        {
          "name": "stderr",
          "output_type": "stream",
          "text": [
            "100%|██████████| 229/229 [03:46<00:00,  1.01it/s]\n"
          ]
        },
        {
          "name": "stdout",
          "output_type": "stream",
          "text": [
            "Epoch: 0 Training Perplexity: 4.1515 Validation Perplexity: 1.7377\n"
          ]
        },
        {
          "name": "stderr",
          "output_type": "stream",
          "text": [
            "100%|██████████| 229/229 [02:36<00:00,  1.46it/s]\n"
          ]
        },
        {
          "name": "stdout",
          "output_type": "stream",
          "text": [
            "Epoch: 1 Training Perplexity: 1.4749 Validation Perplexity: 1.3922\n"
          ]
        },
        {
          "name": "stderr",
          "output_type": "stream",
          "text": [
            "100%|██████████| 229/229 [02:01<00:00,  1.89it/s]\n"
          ]
        },
        {
          "name": "stdout",
          "output_type": "stream",
          "text": [
            "Epoch: 2 Training Perplexity: 1.2933 Validation Perplexity: 1.2780\n"
          ]
        },
        {
          "name": "stderr",
          "output_type": "stream",
          "text": [
            "100%|██████████| 229/229 [02:01<00:00,  1.89it/s]\n"
          ]
        },
        {
          "name": "stdout",
          "output_type": "stream",
          "text": [
            "Epoch: 3 Training Perplexity: 1.2128 Validation Perplexity: 1.2209\n"
          ]
        },
        {
          "name": "stderr",
          "output_type": "stream",
          "text": [
            "100%|██████████| 229/229 [02:05<00:00,  1.83it/s]\n"
          ]
        },
        {
          "name": "stdout",
          "output_type": "stream",
          "text": [
            "Epoch: 4 Training Perplexity: 1.1642 Validation Perplexity: 1.1812\n"
          ]
        },
        {
          "name": "stderr",
          "output_type": "stream",
          "text": [
            "100%|██████████| 229/229 [02:06<00:00,  1.81it/s]\n"
          ]
        },
        {
          "name": "stdout",
          "output_type": "stream",
          "text": [
            "Epoch: 5 Training Perplexity: 1.1332 Validation Perplexity: 1.1621\n"
          ]
        },
        {
          "name": "stderr",
          "output_type": "stream",
          "text": [
            "100%|██████████| 229/229 [02:03<00:00,  1.86it/s]\n"
          ]
        },
        {
          "name": "stdout",
          "output_type": "stream",
          "text": [
            "Epoch: 6 Training Perplexity: 1.1085 Validation Perplexity: 1.1479\n"
          ]
        },
        {
          "name": "stderr",
          "output_type": "stream",
          "text": [
            "100%|██████████| 229/229 [02:03<00:00,  1.85it/s]\n"
          ]
        },
        {
          "name": "stdout",
          "output_type": "stream",
          "text": [
            "Epoch: 7 Training Perplexity: 1.0916 Validation Perplexity: 1.1336\n"
          ]
        },
        {
          "name": "stderr",
          "output_type": "stream",
          "text": [
            "100%|██████████| 229/229 [02:06<00:00,  1.81it/s]\n"
          ]
        },
        {
          "name": "stdout",
          "output_type": "stream",
          "text": [
            "Epoch: 8 Training Perplexity: 1.0758 Validation Perplexity: 1.1252\n"
          ]
        },
        {
          "name": "stderr",
          "output_type": "stream",
          "text": [
            "100%|██████████| 229/229 [02:06<00:00,  1.81it/s]\n"
          ]
        },
        {
          "name": "stdout",
          "output_type": "stream",
          "text": [
            "Epoch: 9 Training Perplexity: 1.0659 Validation Perplexity: 1.1162\n"
          ]
        },
        {
          "name": "stderr",
          "output_type": "stream",
          "text": [
            "100%|██████████| 229/229 [02:05<00:00,  1.82it/s]\n"
          ]
        },
        {
          "name": "stdout",
          "output_type": "stream",
          "text": [
            "Epoch: 10 Training Perplexity: 1.0544 Validation Perplexity: 1.1112\n"
          ]
        },
        {
          "name": "stderr",
          "output_type": "stream",
          "text": [
            "100%|██████████| 229/229 [02:04<00:00,  1.84it/s]\n"
          ]
        },
        {
          "name": "stdout",
          "output_type": "stream",
          "text": [
            "Epoch: 11 Training Perplexity: 1.0458 Validation Perplexity: 1.1072\n"
          ]
        },
        {
          "name": "stderr",
          "output_type": "stream",
          "text": [
            "100%|██████████| 229/229 [02:04<00:00,  1.83it/s]\n"
          ]
        },
        {
          "name": "stdout",
          "output_type": "stream",
          "text": [
            "Epoch: 12 Training Perplexity: 1.0420 Validation Perplexity: 1.1042\n"
          ]
        },
        {
          "name": "stderr",
          "output_type": "stream",
          "text": [
            "100%|██████████| 229/229 [02:06<00:00,  1.80it/s]\n"
          ]
        },
        {
          "name": "stdout",
          "output_type": "stream",
          "text": [
            "Epoch: 13 Training Perplexity: 1.0378 Validation Perplexity: 1.0999\n"
          ]
        },
        {
          "name": "stderr",
          "output_type": "stream",
          "text": [
            "100%|██████████| 229/229 [02:03<00:00,  1.85it/s]\n"
          ]
        },
        {
          "name": "stdout",
          "output_type": "stream",
          "text": [
            "Epoch: 14 Training Perplexity: 1.0326 Validation Perplexity: 1.1024\n",
            "Validation perplexity: 1.100\n"
          ]
        }
      ],
      "source": [
        "EPOCHS = 15 # 50 # epochs, we recommend starting with a smaller number like 1\n",
        "LEARNING_RATE = 1e-4 # learning rate\n",
        "\n",
        "# Instantiate and train classifier\n",
        "model2 = AttnEncoderDecoder2(hf_src_tokenizer, hf_tgt_tokenizer,\n",
        "  hidden_size    = 1024,\n",
        "  layers         = 1,\n",
        ").to(device)\n",
        "\n",
        "model2.train_all(train_iter, val_iter, epochs=EPOCHS, learning_rate=LEARNING_RATE)\n",
        "model2.load_state_dict(model2.best_model)\n",
        "\n",
        "# Evaluate model performance, the expected value should be < 1.2\n",
        "print (f'Validation perplexity: {model2.evaluate_ppl(val_iter):.3f}')"
      ]
    },
    {
      "cell_type": "markdown",
      "id": "c4e8d235",
      "metadata": {
        "id": "c4e8d235"
      },
      "source": [
        "### Evaluation\n",
        "\n",
        "Now we are ready to run the full evaluation. A proper implementation should reach more than 35% precision/recall/F1."
      ]
    },
    {
      "cell_type": "code",
      "execution_count": null,
      "id": "817f3005",
      "metadata": {
        "id": "817f3005"
      },
      "outputs": [],
      "source": [
        "def seq2seq_predictor2(tokens):\n",
        "  prediction = model2.predict(tokens, K=1, max_T=400)\n",
        "  return prediction"
      ]
    },
    {
      "cell_type": "code",
      "execution_count": null,
      "id": "76f6ee2a",
      "metadata": {
        "colab": {
          "base_uri": "https://localhost:8080/"
        },
        "id": "76f6ee2a",
        "outputId": "44d7628a-2e43-4954-e7d5-88791eb85922"
      },
      "outputs": [
        {
          "name": "stderr",
          "output_type": "stream",
          "text": [
            "332it [01:34,  3.53it/s]"
          ]
        },
        {
          "name": "stdout",
          "output_type": "stream",
          "text": [
            "precision: 0.41\n",
            "recall:    0.41\n",
            "F1:        0.41\n"
          ]
        },
        {
          "name": "stderr",
          "output_type": "stream",
          "text": [
            "\n"
          ]
        }
      ],
      "source": [
        "precision, recall, f1 = evaluate(seq2seq_predictor2, test_data, num_examples=0)\n",
        "print(f\"precision: {precision:3.2f}\")\n",
        "print(f\"recall:    {recall:3.2f}\")\n",
        "print(f\"F1:        {f1:3.2f}\")"
      ]
    },
    {
      "cell_type": "markdown",
      "id": "5779ee92",
      "metadata": {
        "id": "5779ee92"
      },
      "source": [
        "## Goal 4: Use state-of-the-art pretrained transformers\n",
        "\n",
        "\n",
        "The most recent breakthrough in natural-language processing stems from the use of pretrained transformer models. For example, you might have heard of pretrained transformers such as [GPT-3](https://arxiv.org/abs/2005.14165) and [BERT](https://arxiv.org/abs/1810.04805). (BERT is already used in [Google search](https://searchengineland.com/google-bert-used-on-almost-every-english-query-342193).) These models are usually trained on vast amounts of text data using variants of language modeling objectives, and researchers have found that finetuning them on downstream tasks usually results in better performance as compared to training a model from scratch.\n",
        "\n",
        "In the previous part, you implemented an LSTM-based sequence-to-sequence approach. To \"upgrade\" the model to be a state-of-the-art pretrained transformer only requires minor modifications.\n",
        "\n",
        "The pretrained model that we will use is [BART](https://arxiv.org/abs/1910.13461), which uses a bidirectional transformer encoder and a unidirectional transformer decoder, as illustrated in the below diagram (image courtesy https://arxiv.org/pdf/1910.13461):\n",
        "\n",
        "<img src=\"https://raw.githubusercontent.com/nlp-236299/data/master/img/bart_architecture.png\" alt=\"encoder-decoder illustration\" />\n",
        "\n",
        "We can see that this model is strikingly similar to the LSTM-based encoder-decoder model we've been using. The only difference is that they use transformers instead of LSTMs. Therefore, we only need to change the modeling parts of the code, as we will see later."
      ]
    },
    {
      "cell_type": "markdown",
      "id": "398e9d94",
      "metadata": {
        "id": "398e9d94"
      },
      "source": [
        "First, we download and load the pretrained BART model from the [transformers](https://github.com/huggingface/transformers) package by Huggingface. Note that we also need to use the \"tokenizer\" of BART, which is actually a combination of a tokenizer and a mapping from strings to word ids."
      ]
    },
    {
      "cell_type": "code",
      "execution_count": null,
      "id": "5b698532",
      "metadata": {
        "colab": {
          "base_uri": "https://localhost:8080/",
          "height": 566
        },
        "id": "5b698532",
        "outputId": "cce5f334-6722-4c3b-f1ef-6ddeda28ba69"
      },
      "outputs": [
        {
          "name": "stderr",
          "output_type": "stream",
          "text": [
            "'(ReadTimeoutError(\"HTTPSConnectionPool(host='huggingface.co', port=443): Read timed out. (read timeout=10)\"), '(Request ID: d935756f-344a-49ea-8a7b-70c2162a9033)')' thrown while requesting HEAD https://huggingface.co/facebook/bart-base/resolve/main/config.json\n",
            "WARNING:huggingface_hub.utils._http:'(ReadTimeoutError(\"HTTPSConnectionPool(host='huggingface.co', port=443): Read timed out. (read timeout=10)\"), '(Request ID: d935756f-344a-49ea-8a7b-70c2162a9033)')' thrown while requesting HEAD https://huggingface.co/facebook/bart-base/resolve/main/config.json\n"
          ]
        },
        {
          "ename": "OSError",
          "evalue": "ignored",
          "output_type": "error",
          "traceback": [
            "\u001b[0;31m---------------------------------------------------------------------------\u001b[0m",
            "\u001b[0;31mLocalEntryNotFoundError\u001b[0m                   Traceback (most recent call last)",
            "\u001b[0;32m/usr/local/lib/python3.10/dist-packages/transformers/utils/hub.py\u001b[0m in \u001b[0;36mcached_file\u001b[0;34m(path_or_repo_id, filename, cache_dir, force_download, resume_download, proxies, use_auth_token, revision, local_files_only, subfolder, user_agent, _raise_exceptions_for_missing_entries, _raise_exceptions_for_connection_errors, _commit_hash)\u001b[0m\n\u001b[1;32m    408\u001b[0m         \u001b[0;31m# Load from URL or cache if already cached\u001b[0m\u001b[0;34m\u001b[0m\u001b[0;34m\u001b[0m\u001b[0m\n\u001b[0;32m--> 409\u001b[0;31m         resolved_file = hf_hub_download(\n\u001b[0m\u001b[1;32m    410\u001b[0m             \u001b[0mpath_or_repo_id\u001b[0m\u001b[0;34m,\u001b[0m\u001b[0;34m\u001b[0m\u001b[0;34m\u001b[0m\u001b[0m\n",
            "\u001b[0;32m/usr/local/lib/python3.10/dist-packages/huggingface_hub/utils/_validators.py\u001b[0m in \u001b[0;36m_inner_fn\u001b[0;34m(*args, **kwargs)\u001b[0m\n\u001b[1;32m    117\u001b[0m \u001b[0;34m\u001b[0m\u001b[0m\n\u001b[0;32m--> 118\u001b[0;31m         \u001b[0;32mreturn\u001b[0m \u001b[0mfn\u001b[0m\u001b[0;34m(\u001b[0m\u001b[0;34m*\u001b[0m\u001b[0margs\u001b[0m\u001b[0;34m,\u001b[0m \u001b[0;34m**\u001b[0m\u001b[0mkwargs\u001b[0m\u001b[0;34m)\u001b[0m\u001b[0;34m\u001b[0m\u001b[0;34m\u001b[0m\u001b[0m\n\u001b[0m\u001b[1;32m    119\u001b[0m \u001b[0;34m\u001b[0m\u001b[0m\n",
            "\u001b[0;32m/usr/local/lib/python3.10/dist-packages/huggingface_hub/file_download.py\u001b[0m in \u001b[0;36mhf_hub_download\u001b[0;34m(repo_id, filename, subfolder, repo_type, revision, library_name, library_version, cache_dir, local_dir, local_dir_use_symlinks, user_agent, force_download, force_filename, proxies, etag_timeout, resume_download, token, local_files_only, legacy_cache_layout)\u001b[0m\n\u001b[1;32m   1290\u001b[0m         \u001b[0;32melse\u001b[0m\u001b[0;34m:\u001b[0m\u001b[0;34m\u001b[0m\u001b[0;34m\u001b[0m\u001b[0m\n\u001b[0;32m-> 1291\u001b[0;31m             raise LocalEntryNotFoundError(\n\u001b[0m\u001b[1;32m   1292\u001b[0m                 \u001b[0;34m\"Connection error, and we cannot find the requested files in\"\u001b[0m\u001b[0;34m\u001b[0m\u001b[0;34m\u001b[0m\u001b[0m\n",
            "\u001b[0;31mLocalEntryNotFoundError\u001b[0m: Connection error, and we cannot find the requested files in the disk cache. Please try again or make sure your Internet connection is on.",
            "\nDuring handling of the above exception, another exception occurred:\n",
            "\u001b[0;31mOSError\u001b[0m                                   Traceback (most recent call last)",
            "\u001b[0;32m<ipython-input-115-3b66a79a017a>\u001b[0m in \u001b[0;36m<cell line: 1>\u001b[0;34m()\u001b[0m\n\u001b[0;32m----> 1\u001b[0;31m \u001b[0mpretrained_bart\u001b[0m \u001b[0;34m=\u001b[0m \u001b[0mBartForConditionalGeneration\u001b[0m\u001b[0;34m.\u001b[0m\u001b[0mfrom_pretrained\u001b[0m\u001b[0;34m(\u001b[0m\u001b[0;34m'facebook/bart-base'\u001b[0m\u001b[0;34m)\u001b[0m\u001b[0;34m\u001b[0m\u001b[0;34m\u001b[0m\u001b[0m\n\u001b[0m\u001b[1;32m      2\u001b[0m \u001b[0mbart_tokenizer\u001b[0m \u001b[0;34m=\u001b[0m \u001b[0mBartTokenizer\u001b[0m\u001b[0;34m.\u001b[0m\u001b[0mfrom_pretrained\u001b[0m\u001b[0;34m(\u001b[0m\u001b[0;34m'facebook/bart-base'\u001b[0m\u001b[0;34m)\u001b[0m\u001b[0;34m\u001b[0m\u001b[0;34m\u001b[0m\u001b[0m\n",
            "\u001b[0;32m/usr/local/lib/python3.10/dist-packages/transformers/modeling_utils.py\u001b[0m in \u001b[0;36mfrom_pretrained\u001b[0;34m(cls, pretrained_model_name_or_path, *model_args, **kwargs)\u001b[0m\n\u001b[1;32m   2077\u001b[0m         \u001b[0;32mif\u001b[0m \u001b[0;32mnot\u001b[0m \u001b[0misinstance\u001b[0m\u001b[0;34m(\u001b[0m\u001b[0mconfig\u001b[0m\u001b[0;34m,\u001b[0m \u001b[0mPretrainedConfig\u001b[0m\u001b[0;34m)\u001b[0m\u001b[0;34m:\u001b[0m\u001b[0;34m\u001b[0m\u001b[0;34m\u001b[0m\u001b[0m\n\u001b[1;32m   2078\u001b[0m             \u001b[0mconfig_path\u001b[0m \u001b[0;34m=\u001b[0m \u001b[0mconfig\u001b[0m \u001b[0;32mif\u001b[0m \u001b[0mconfig\u001b[0m \u001b[0;32mis\u001b[0m \u001b[0;32mnot\u001b[0m \u001b[0;32mNone\u001b[0m \u001b[0;32melse\u001b[0m \u001b[0mpretrained_model_name_or_path\u001b[0m\u001b[0;34m\u001b[0m\u001b[0;34m\u001b[0m\u001b[0m\n\u001b[0;32m-> 2079\u001b[0;31m             config, model_kwargs = cls.config_class.from_pretrained(\n\u001b[0m\u001b[1;32m   2080\u001b[0m                 \u001b[0mconfig_path\u001b[0m\u001b[0;34m,\u001b[0m\u001b[0;34m\u001b[0m\u001b[0;34m\u001b[0m\u001b[0m\n\u001b[1;32m   2081\u001b[0m                 \u001b[0mcache_dir\u001b[0m\u001b[0;34m=\u001b[0m\u001b[0mcache_dir\u001b[0m\u001b[0;34m,\u001b[0m\u001b[0;34m\u001b[0m\u001b[0;34m\u001b[0m\u001b[0m\n",
            "\u001b[0;32m/usr/local/lib/python3.10/dist-packages/transformers/configuration_utils.py\u001b[0m in \u001b[0;36mfrom_pretrained\u001b[0;34m(cls, pretrained_model_name_or_path, **kwargs)\u001b[0m\n\u001b[1;32m    536\u001b[0m         \u001b[0;32massert\u001b[0m \u001b[0munused_kwargs\u001b[0m \u001b[0;34m==\u001b[0m \u001b[0;34m{\u001b[0m\u001b[0;34m\"foo\"\u001b[0m\u001b[0;34m:\u001b[0m \u001b[0;32mFalse\u001b[0m\u001b[0;34m}\u001b[0m\u001b[0;34m\u001b[0m\u001b[0;34m\u001b[0m\u001b[0m\n\u001b[1;32m    537\u001b[0m         ```\"\"\"\n\u001b[0;32m--> 538\u001b[0;31m         \u001b[0mconfig_dict\u001b[0m\u001b[0;34m,\u001b[0m \u001b[0mkwargs\u001b[0m \u001b[0;34m=\u001b[0m \u001b[0mcls\u001b[0m\u001b[0;34m.\u001b[0m\u001b[0mget_config_dict\u001b[0m\u001b[0;34m(\u001b[0m\u001b[0mpretrained_model_name_or_path\u001b[0m\u001b[0;34m,\u001b[0m \u001b[0;34m**\u001b[0m\u001b[0mkwargs\u001b[0m\u001b[0;34m)\u001b[0m\u001b[0;34m\u001b[0m\u001b[0;34m\u001b[0m\u001b[0m\n\u001b[0m\u001b[1;32m    539\u001b[0m         \u001b[0;32mif\u001b[0m \u001b[0;34m\"model_type\"\u001b[0m \u001b[0;32min\u001b[0m \u001b[0mconfig_dict\u001b[0m \u001b[0;32mand\u001b[0m \u001b[0mhasattr\u001b[0m\u001b[0;34m(\u001b[0m\u001b[0mcls\u001b[0m\u001b[0;34m,\u001b[0m \u001b[0;34m\"model_type\"\u001b[0m\u001b[0;34m)\u001b[0m \u001b[0;32mand\u001b[0m \u001b[0mconfig_dict\u001b[0m\u001b[0;34m[\u001b[0m\u001b[0;34m\"model_type\"\u001b[0m\u001b[0;34m]\u001b[0m \u001b[0;34m!=\u001b[0m \u001b[0mcls\u001b[0m\u001b[0;34m.\u001b[0m\u001b[0mmodel_type\u001b[0m\u001b[0;34m:\u001b[0m\u001b[0;34m\u001b[0m\u001b[0;34m\u001b[0m\u001b[0m\n\u001b[1;32m    540\u001b[0m             logger.warning(\n",
            "\u001b[0;32m/usr/local/lib/python3.10/dist-packages/transformers/configuration_utils.py\u001b[0m in \u001b[0;36mget_config_dict\u001b[0;34m(cls, pretrained_model_name_or_path, **kwargs)\u001b[0m\n\u001b[1;32m    563\u001b[0m         \u001b[0moriginal_kwargs\u001b[0m \u001b[0;34m=\u001b[0m \u001b[0mcopy\u001b[0m\u001b[0;34m.\u001b[0m\u001b[0mdeepcopy\u001b[0m\u001b[0;34m(\u001b[0m\u001b[0mkwargs\u001b[0m\u001b[0;34m)\u001b[0m\u001b[0;34m\u001b[0m\u001b[0;34m\u001b[0m\u001b[0m\n\u001b[1;32m    564\u001b[0m         \u001b[0;31m# Get config dict associated with the base config file\u001b[0m\u001b[0;34m\u001b[0m\u001b[0;34m\u001b[0m\u001b[0m\n\u001b[0;32m--> 565\u001b[0;31m         \u001b[0mconfig_dict\u001b[0m\u001b[0;34m,\u001b[0m \u001b[0mkwargs\u001b[0m \u001b[0;34m=\u001b[0m \u001b[0mcls\u001b[0m\u001b[0;34m.\u001b[0m\u001b[0m_get_config_dict\u001b[0m\u001b[0;34m(\u001b[0m\u001b[0mpretrained_model_name_or_path\u001b[0m\u001b[0;34m,\u001b[0m \u001b[0;34m**\u001b[0m\u001b[0mkwargs\u001b[0m\u001b[0;34m)\u001b[0m\u001b[0;34m\u001b[0m\u001b[0;34m\u001b[0m\u001b[0m\n\u001b[0m\u001b[1;32m    566\u001b[0m         \u001b[0;32mif\u001b[0m \u001b[0;34m\"_commit_hash\"\u001b[0m \u001b[0;32min\u001b[0m \u001b[0mconfig_dict\u001b[0m\u001b[0;34m:\u001b[0m\u001b[0;34m\u001b[0m\u001b[0;34m\u001b[0m\u001b[0m\n\u001b[1;32m    567\u001b[0m             \u001b[0moriginal_kwargs\u001b[0m\u001b[0;34m[\u001b[0m\u001b[0;34m\"_commit_hash\"\u001b[0m\u001b[0;34m]\u001b[0m \u001b[0;34m=\u001b[0m \u001b[0mconfig_dict\u001b[0m\u001b[0;34m[\u001b[0m\u001b[0;34m\"_commit_hash\"\u001b[0m\u001b[0;34m]\u001b[0m\u001b[0;34m\u001b[0m\u001b[0;34m\u001b[0m\u001b[0m\n",
            "\u001b[0;32m/usr/local/lib/python3.10/dist-packages/transformers/configuration_utils.py\u001b[0m in \u001b[0;36m_get_config_dict\u001b[0;34m(cls, pretrained_model_name_or_path, **kwargs)\u001b[0m\n\u001b[1;32m    618\u001b[0m             \u001b[0;32mtry\u001b[0m\u001b[0;34m:\u001b[0m\u001b[0;34m\u001b[0m\u001b[0;34m\u001b[0m\u001b[0m\n\u001b[1;32m    619\u001b[0m                 \u001b[0;31m# Load from local folder or from cache or download from model Hub and cache\u001b[0m\u001b[0;34m\u001b[0m\u001b[0;34m\u001b[0m\u001b[0m\n\u001b[0;32m--> 620\u001b[0;31m                 resolved_config_file = cached_file(\n\u001b[0m\u001b[1;32m    621\u001b[0m                     \u001b[0mpretrained_model_name_or_path\u001b[0m\u001b[0;34m,\u001b[0m\u001b[0;34m\u001b[0m\u001b[0;34m\u001b[0m\u001b[0m\n\u001b[1;32m    622\u001b[0m                     \u001b[0mconfiguration_file\u001b[0m\u001b[0;34m,\u001b[0m\u001b[0;34m\u001b[0m\u001b[0;34m\u001b[0m\u001b[0m\n",
            "\u001b[0;32m/usr/local/lib/python3.10/dist-packages/transformers/utils/hub.py\u001b[0m in \u001b[0;36mcached_file\u001b[0;34m(path_or_repo_id, filename, cache_dir, force_download, resume_download, proxies, use_auth_token, revision, local_files_only, subfolder, user_agent, _raise_exceptions_for_missing_entries, _raise_exceptions_for_connection_errors, _commit_hash)\u001b[0m\n\u001b[1;32m    441\u001b[0m         \u001b[0;32mif\u001b[0m \u001b[0;32mnot\u001b[0m \u001b[0m_raise_exceptions_for_missing_entries\u001b[0m \u001b[0;32mor\u001b[0m \u001b[0;32mnot\u001b[0m \u001b[0m_raise_exceptions_for_connection_errors\u001b[0m\u001b[0;34m:\u001b[0m\u001b[0;34m\u001b[0m\u001b[0;34m\u001b[0m\u001b[0m\n\u001b[1;32m    442\u001b[0m             \u001b[0;32mreturn\u001b[0m \u001b[0;32mNone\u001b[0m\u001b[0;34m\u001b[0m\u001b[0;34m\u001b[0m\u001b[0m\n\u001b[0;32m--> 443\u001b[0;31m         raise EnvironmentError(\n\u001b[0m\u001b[1;32m    444\u001b[0m             \u001b[0;34mf\"We couldn't connect to '{HUGGINGFACE_CO_RESOLVE_ENDPOINT}' to load this file, couldn't find it in the\"\u001b[0m\u001b[0;34m\u001b[0m\u001b[0;34m\u001b[0m\u001b[0m\n\u001b[1;32m    445\u001b[0m             \u001b[0;34mf\" cached files and it looks like {path_or_repo_id} is not the path to a directory containing a file named\"\u001b[0m\u001b[0;34m\u001b[0m\u001b[0;34m\u001b[0m\u001b[0m\n",
            "\u001b[0;31mOSError\u001b[0m: We couldn't connect to 'https://huggingface.co' to load this file, couldn't find it in the cached files and it looks like facebook/bart-base is not the path to a directory containing a file named config.json.\nCheckout your internet connection or see how to run the library in offline mode at 'https://huggingface.co/docs/transformers/installation#offline-mode'."
          ]
        }
      ],
      "source": [
        "effffffffffsadfaaasssdddSsSpretrained_bart = BartForConditionalGeneration.from_pretrained('facebook/bart-base')\n",
        "bart_tokenizer = BartTokenizer.from_pretrained('facebook/bart-base')"
      ]
    },
    {
      "cell_type": "markdown",
      "id": "5f599aab",
      "metadata": {
        "id": "5f599aab"
      },
      "source": [
        "We need to reprocess the data using our new tokenizer. Note that we use the same tokenizer for both the source and target."
      ]
    },
    {
      "cell_type": "code",
      "execution_count": null,
      "id": "5271da7c",
      "metadata": {
        "id": "5271da7c"
      },
      "outputs": [],
      "source": [
        "def bart_encode(example):\n",
        "    example['src_ids'] = bart_tokenizer(example['src']).input_ids[:1024] # BART model can process at most 1024 tokens\n",
        "    example['tgt_ids'] = bart_tokenizer(example['tgt']).input_ids[:1024]\n",
        "    return example\n",
        "\n",
        "train_bart_data = dataset['train'].map(encode)\n",
        "val_bart_data = dataset['val'].map(encode)\n",
        "test_bart_data = dataset['test'].map(encode)\n",
        "\n",
        "BATCH_SIZE = 1 # batch size for training/validation\n",
        "TEST_BATCH_SIZE = 1 # batch size for test, we use 1 to make beam search implementation easier\n",
        "\n",
        "# we use the same collate function as before\n",
        "train_iter_bart = torch.utils.data.DataLoader(train_data,\n",
        "                                         batch_size=BATCH_SIZE,\n",
        "                                         shuffle=True,\n",
        "                                         collate_fn=collate_fn)\n",
        "val_iter_bart = torch.utils.data.DataLoader(val_data,\n",
        "                                       batch_size=BATCH_SIZE,\n",
        "                                       shuffle=False,\n",
        "                                       collate_fn=collate_fn)\n",
        "test_iter_bart = torch.utils.data.DataLoader(test_data,\n",
        "                                        batch_size=TEST_BATCH_SIZE,\n",
        "                                        shuffle=False,\n",
        "                                        collate_fn=collate_fn)"
      ]
    },
    {
      "cell_type": "markdown",
      "id": "5fae57a7",
      "metadata": {
        "id": "5fae57a7"
      },
      "source": [
        "Let's take a look at the batch."
      ]
    },
    {
      "cell_type": "code",
      "execution_count": null,
      "id": "b83fb1f1",
      "metadata": {
        "id": "b83fb1f1"
      },
      "outputs": [],
      "source": [
        "batch = next(iter(train_iter_bart))\n",
        "src_ids = batch['src_ids']\n",
        "src_example = src_ids[0]\n",
        "print (f\"Size of text batch: {src_ids.size()}\")\n",
        "print (f\"First sentence in batch: {src_example}\")\n",
        "print (f\"Length of the third sentence in batch: {len(src_example)}\")\n",
        "print (f\"Converted back to string: {hf_src_tokenizer.decode(src_example)}\")\n",
        "\n",
        "tgt_ids = batch['tgt_ids']\n",
        "tgt_example = tgt_ids[0]\n",
        "print (f\"Size of sql batch: {tgt_ids.size()}\")\n",
        "print (f\"First sql in batch: {tgt_example}\")\n",
        "print (f\"Converted back to string: {hf_tgt_tokenizer.decode(tgt_example)}\")"
      ]
    },
    {
      "cell_type": "markdown",
      "id": "36743d25",
      "metadata": {
        "id": "36743d25"
      },
      "source": [
        "Now we are ready to implement the BART-based approach for the text-to-SQL conversion problem. In the below `BART` class, we have provided the constructer `__init__`, the `forward` function, and the `predict` function. Your job is to implement the main optimization `train_all`, and `evaluate_ppl` for evaluating validation perplexity for model selection.\n",
        "\n",
        "> Hint: you can use almost the same `train_all` and `evaluate_ppl` function you implemented before, but here a major difference is that due to setting `batch_first=True`, the batched source/target tensors are of size `batch_size x max_len`, as opposed to `max_len x batch_size` in the LSTM-based approach, and you need to make changes in `train_all` and `evaluate_ppl` accordingly."
      ]
    },
    {
      "cell_type": "code",
      "execution_count": null,
      "id": "8bb56b85",
      "metadata": {
        "id": "8bb56b85"
      },
      "outputs": [],
      "source": [
        "#TODO - finish implementing the `BART` class.\n",
        "class BART(nn.Module):\n",
        "  def __init__(self, tokenizer, pretrained_bart):\n",
        "    \"\"\"\n",
        "    Initializer. Creates network modules and loss function.\n",
        "    Arguments:\n",
        "        tokenizer: BART tokenizer\n",
        "        pretrained_bart: pretrained BART\n",
        "    \"\"\"\n",
        "    super(BART, self).__init__()\n",
        "\n",
        "    self.tokenizer = tokenizer\n",
        "\n",
        "    self.V_tgt = len(tokenizer)\n",
        "\n",
        "    # Get special word ids\n",
        "    self.padding_id_tgt = tokenizer.pad_token_id\n",
        "\n",
        "    # Create essential modules\n",
        "    self.bart = pretrained_bart\n",
        "\n",
        "    # Create loss function\n",
        "    self.loss_function = nn.CrossEntropyLoss(reduction=\"sum\",\n",
        "                                             ignore_index=self.padding_id_tgt)\n",
        "\n",
        "  def forward(self, src, src_lengths, tgt_in):\n",
        "    \"\"\"\n",
        "    Performs forward computation, returns logits.\n",
        "    Arguments:\n",
        "        src: src batch of size (batch_size, max_src_len)\n",
        "        src_lengths: src lengths of size (batch_size)\n",
        "        tgt_in:  a tensor of size (tgt_len, bsz)\n",
        "    \"\"\"\n",
        "    # BART assumes inputs to be batch-first\n",
        "    # This single function is forwarding both encoder and decoder (w/ cross attn),\n",
        "    # using `input_ids` as encoder inputs, and `decoder_input_ids`\n",
        "    # as decoder inputs.\n",
        "    logits = self.bart(input_ids=src,\n",
        "                       decoder_input_ids=tgt_in,\n",
        "                       use_cache=False\n",
        "                      ).logits\n",
        "    return logits\n",
        "\n",
        "  def evaluate_ppl(self, iterator):\n",
        "    \"\"\"Returns the model's perplexity on a given dataset `iterator`.\"\"\"\n",
        "    #TODO - implement this function\n",
        "    ...\n",
        "    ppl = ...\n",
        "    return ppl\n",
        "\n",
        "  def train_all(self, train_iter, val_iter, epochs=10, learning_rate=0.001):\n",
        "    \"\"\"Train the model.\"\"\"\n",
        "    #TODO - implement this function\n",
        "    ...\n",
        "\n",
        "  def predict(self, tokens, K=1, max_T=400):\n",
        "    \"\"\"\n",
        "    Generates the target sequence given the source sequence using beam search decoding.\n",
        "    Note that for simplicity, we only use batch size 1.\n",
        "    Arguments:\n",
        "        tokens: the source sentence.\n",
        "        max_T: at most proceed this many steps of decoding\n",
        "    Returns:\n",
        "        a string of the generated target sentence.\n",
        "    \"\"\"\n",
        "    # Tokenize and map to a list of word ids\n",
        "    inputs = torch.LongTensor(self.tokenizer([tokens])['input_ids'][:1024]).to(device)\n",
        "    # The `transformers` package provides built-in beam search support\n",
        "    prediction = self.bart.generate(inputs,\n",
        "                                    num_beams=K,\n",
        "                                    max_length=max_T,\n",
        "                                    early_stopping=True,\n",
        "                                    no_repeat_ngram_size=0,\n",
        "                                    decoder_start_token_id=0,\n",
        "                                    use_cache=True)[0]\n",
        "    return  self.tokenizer.decode(prediction, skip_special_tokens=True)"
      ]
    },
    {
      "cell_type": "markdown",
      "id": "70fbe888",
      "metadata": {
        "id": "70fbe888"
      },
      "source": [
        "The code below will kick off training, and evaluate the validation perplexity. You should expect to see a value very close to 1."
      ]
    },
    {
      "cell_type": "code",
      "execution_count": null,
      "id": "adc28ae6",
      "metadata": {
        "id": "adc28ae6"
      },
      "outputs": [],
      "source": [
        "EPOCHS = 5 # epochs, we recommend starting with a smaller number like 1\n",
        "LEARNING_RATE = 1e-5 # learning rate\n",
        "\n",
        "# Instantiate and train classifier\n",
        "bart_model = BART(bart_tokenizer,\n",
        "                 pretrained_bart\n",
        ").to(device)\n",
        "\n",
        "bart_model.train_all(train_iter_bart, val_iter_bart, epochs=EPOCHS, learning_rate=LEARNING_RATE)\n",
        "bart_model.load_state_dict(bart_model.best_model)\n",
        "\n",
        "# Evaluate model performance, the expected value should be < 1.2\n",
        "print (f'Validation perplexity: {bart_model.evaluate_ppl(val_iter_bart):.3f}')"
      ]
    },
    {
      "cell_type": "markdown",
      "id": "bf2f687c",
      "metadata": {
        "id": "bf2f687c"
      },
      "source": [
        "As before, make sure that your model is making reasonable predictions on a few examples before evaluating on the entire test set."
      ]
    },
    {
      "cell_type": "code",
      "execution_count": null,
      "id": "cd03a058",
      "metadata": {
        "id": "cd03a058"
      },
      "outputs": [],
      "source": [
        "def bart_trial(sentence, gold_sql):\n",
        "  predicted_sql = bart_model.predict(sentence, K=1, max_T=300)\n",
        "  print(\"Predicted SQL:\\n\\n\", predicted_sql, \"\\n\")\n",
        "\n",
        "  if verify(predicted_sql, gold_sql, silent=False):\n",
        "    print ('Correct!')\n",
        "  else:\n",
        "    print ('Incorrect!')"
      ]
    },
    {
      "cell_type": "code",
      "execution_count": null,
      "id": "f0904585",
      "metadata": {
        "id": "f0904585"
      },
      "outputs": [],
      "source": [
        "bart_trial(example_1, gold_sql_1)"
      ]
    },
    {
      "cell_type": "code",
      "execution_count": null,
      "id": "98226b84",
      "metadata": {
        "id": "98226b84"
      },
      "outputs": [],
      "source": [
        "bart_trial(example_2, gold_sql_2)"
      ]
    },
    {
      "cell_type": "code",
      "execution_count": null,
      "id": "1ebdfbab",
      "metadata": {
        "id": "1ebdfbab"
      },
      "outputs": [],
      "source": [
        "bart_trial(example_3, gold_sql_3)"
      ]
    },
    {
      "cell_type": "code",
      "execution_count": null,
      "id": "60969ae1",
      "metadata": {
        "id": "60969ae1"
      },
      "outputs": [],
      "source": [
        "bart_trial(example_4, gold_sql_4)"
      ]
    },
    {
      "cell_type": "code",
      "execution_count": null,
      "id": "6652a685",
      "metadata": {
        "id": "6652a685"
      },
      "outputs": [],
      "source": [
        "bart_trial(example_5, gold_sql_5)"
      ]
    },
    {
      "cell_type": "code",
      "execution_count": null,
      "id": "ab965fec",
      "metadata": {
        "id": "ab965fec"
      },
      "outputs": [],
      "source": [
        "bart_trial(example_6, gold_sql_6b)"
      ]
    },
    {
      "cell_type": "code",
      "execution_count": null,
      "id": "d3380769",
      "metadata": {
        "id": "d3380769"
      },
      "outputs": [],
      "source": [
        "bart_trial(example_7, gold_sql_7b)"
      ]
    },
    {
      "cell_type": "code",
      "execution_count": null,
      "id": "1578c156",
      "metadata": {
        "id": "1578c156"
      },
      "outputs": [],
      "source": [
        "bart_trial(example_8, gold_sql_8)"
      ]
    },
    {
      "cell_type": "markdown",
      "id": "2b834df3",
      "metadata": {
        "id": "2b834df3"
      },
      "source": [
        "### Evaluation"
      ]
    },
    {
      "cell_type": "markdown",
      "id": "d30379f2",
      "metadata": {
        "id": "d30379f2"
      },
      "source": [
        "The code below will evaluate on the entire test set. You should expect to see precision/recall/F1 greater than 40%."
      ]
    },
    {
      "cell_type": "code",
      "execution_count": null,
      "id": "e5899692",
      "metadata": {
        "id": "e5899692"
      },
      "outputs": [],
      "source": [
        "def seq2seq_predictor_bart(tokens):\n",
        "  prediction = bart_model.predict(tokens, K=4, max_T=400)\n",
        "  return prediction"
      ]
    },
    {
      "cell_type": "code",
      "execution_count": null,
      "id": "c7fd28e5",
      "metadata": {
        "id": "c7fd28e5"
      },
      "outputs": [],
      "source": [
        "precision, recall, f1 = evaluate(seq2seq_predictor_bart, test_data, num_examples=0)\n",
        "print(f\"precision: {precision:3.2f}\")\n",
        "print(f\"recall:    {recall:3.2f}\")\n",
        "print(f\"F1:        {f1:3.2f}\")"
      ]
    },
    {
      "cell_type": "markdown",
      "id": "49ba0a4b",
      "metadata": {
        "id": "49ba0a4b"
      },
      "source": [
        "# Discussion"
      ]
    },
    {
      "cell_type": "markdown",
      "id": "0039ef57",
      "metadata": {
        "deletable": false,
        "editable": false,
        "id": "0039ef57"
      },
      "source": [
        "<!-- BEGIN QUESTION -->\n",
        "\n",
        "## Goal 5: Compare the pros and cons of rule-based and neural approaches.\n",
        "\n",
        "Compare the pros and cons of the rule-based approach and the neural approaches with relevant examples from your experiments above. Concerning the accuracy, which approach would you choose to be used in a product? Explain.\n",
        "<!--\n",
        "BEGIN QUESTION\n",
        "name: open_response_comp\n",
        "manual: true\n",
        "-->"
      ]
    },
    {
      "cell_type": "markdown",
      "id": "pboxqLcks5j3",
      "metadata": {
        "id": "pboxqLcks5j3"
      },
      "source": [
        "**In goal 1 - we used the rule-based approach to parse. In order to analyse this approach we ran an experiment with 8 different trials, overall we got a precision of 0.68 - meaning 68% of the predictions that we made with this approach were correct, a recall of 0.28 and F1 of 0.39. We notice that our recall is very low, and as we learned in class, low recall score suggest that the model (this approach) is not doing a very good job of capturing the positive cases. One possible cose for this is an incomplete set of semantic rules in the grammar or incomplete grammar. The F1 is also being low, and as we learned in class that indicates that there is a trade-off between precision and recall, and the model's performance is not optimal in terms of both metrics.**\n",
        "\n",
        "\n",
        "**In goal 2 and 3, we used the nural approach in the Seq2Seq model with cross and self -attention, in the experiment we ran, we got that the precision, recall anf F1 are the smae and equal to 0.4. This suggests that the model is achieving a consistent performance.**\n",
        "\n",
        "**When we comper those two approaches, the accuracy of the rule-based approach has a much better accuracy than the nural approach.Meaning the rile base model is making less  mistakes in it spredictions, it misses a significant amount of correct answers. On the other hand, the nural approach - that represented by the Seq2Seq model, gives us better stability in the performance in terms of precision and recall (based on F1)**\n",
        "\n",
        "**When we choose between these two approaches for a product we need to consider what are the product requirements and the resources we have. If we need a balanced performance that adapts to the grammar very quickly (and ca handel a large grammar) and we have time - the Seq2Seq is the better implementation. And if we need a model with high precision and we can handle the missing some correct answers and the grammar is not huge than  the rule-based system is the better one.**\n",
        "\n",
        "**When we consider the overall balanced performance and accuracy, its seemslike that the Seq2Seq model is the more suited one for the job. The neural approach, has a better ability to handle large amount of data, a better adaptivity, and a better architecture  with no need to manually update the grammar (in the rule based approach) that results in the better performance in comparison to the rule based approach.**"
      ]
    },
    {
      "cell_type": "markdown",
      "id": "7b69db02",
      "metadata": {
        "deletable": false,
        "editable": false,
        "id": "7b69db02"
      },
      "source": [
        "<!-- END QUESTION -->\n",
        "\n",
        "<!-- BEGIN QUESTION -->\n",
        "\n",
        "# Debrief\n",
        "\n",
        "**Question:** We're interested in any thoughts you have about this project segment so that we can improve it for later years, and to inform later segments for this year. Please list any issues that arose or comments you have to improve the project segment. Useful things to comment on might include the following:\n",
        "\n",
        "* Was the project segment clear or unclear? Which portions?\n",
        "* Were the readings appropriate background for the project segment?\n",
        "* Are there additions or changes you think would make the project segment better?\n",
        "\n",
        "<!--\n",
        "BEGIN QUESTION\n",
        "name: open_response_debrief\n",
        "manual: true\n",
        "-->\n",
        "\n",
        "but you should comment on whatever aspects you found especially positive or negative."
      ]
    },
    {
      "cell_type": "markdown",
      "id": "a8ffe7eb",
      "metadata": {
        "id": "a8ffe7eb"
      },
      "source": [
        "_Type your answer here, replacing this text._"
      ]
    },
    {
      "cell_type": "markdown",
      "id": "6ed02a6a",
      "metadata": {
        "id": "6ed02a6a"
      },
      "source": [
        "<!-- END QUESTION -->\n",
        "\n",
        "\n",
        "\n",
        "# Instructions for submission of the project segment\n",
        "\n",
        "This project segment should be submitted to Gradescope at <https://rebrand.ly/project4-submit-code> and <https://rebrand.ly/project4-submit-pdf>, which will be made available some time before the due date.\n",
        "\n",
        "Project segment notebooks are manually graded, not autograded using otter as labs are. (Otter is used within project segment notebooks to synchronize distribution and solution code however.) **We will not run your notebook before grading it.** Instead, we ask that you submit the already freshly run notebook. The best method is to \"restart kernel and run all cells\", allowing time for all cells to be run to completion. You should submit your code to Gradescope at the code submission assignment at <https://rebrand.ly/project4-submit-code>. Make sure that you are also submitting your `data/grammar` file as part of your solution code as well.\n",
        "\n",
        "We also request that you **submit a PDF of the freshly run notebook**. The simplest method is to use \"Export notebook to PDF\", which will render the notebook to PDF via LaTeX. If that doesn't work, the method that seems to be most reliable is to export the notebook as HTML (if you are using Jupyter Notebook, you can do so using `File -> Print Preview`), open the HTML in a browser, and print it to a file. Then make sure to add the file to your git commit. Please name the file the same name as this notebook, but with a `.pdf` extension. (Conveniently, the methods just described will use that name by default.) You can then perform a git commit and push and submit the commit to Gradescope at <https://rebrand.ly/project4-submit-pdf>."
      ]
    },
    {
      "cell_type": "markdown",
      "id": "3f0d9f46",
      "metadata": {
        "id": "3f0d9f46"
      },
      "source": [
        "# End of project segment 4"
      ]
    }
  ],
  "metadata": {
    "accelerator": "GPU",
    "celltoolbar": "Tags",
    "colab": {
      "gpuType": "T4",
      "provenance": []
    },
    "kernelspec": {
      "display_name": "Python 3",
      "name": "python3"
    },
    "language_info": {
      "codemirror_mode": {
        "name": "ipython",
        "version": 3
      },
      "file_extension": ".py",
      "mimetype": "text/x-python",
      "name": "python",
      "nbconvert_exporter": "python",
      "pygments_lexer": "ipython3",
      "version": "3.8.13 (default, Jan 29 2023, 14:15:25) \n[Clang 14.0.0 (clang-1400.0.29.202)]"
    },
    "title": "CS236299 Project Segment 4: Semantic Interpretation – Question Answering",
    "vscode": {
      "interpreter": {
        "hash": "4fba83c08fc02185bb2310bd24d0cd81fb04529c933f82aa81c61aab9d5528dc"
      }
    },
    "widgets": {
      "application/vnd.jupyter.widget-state+json": {
        "03722ac38d444d578c9eb2d4c2c10710": {
          "model_module": "@jupyter-widgets/controls",
          "model_module_version": "1.5.0",
          "model_name": "ProgressStyleModel",
          "state": {
            "_model_module": "@jupyter-widgets/controls",
            "_model_module_version": "1.5.0",
            "_model_name": "ProgressStyleModel",
            "_view_count": null,
            "_view_module": "@jupyter-widgets/base",
            "_view_module_version": "1.2.0",
            "_view_name": "StyleView",
            "bar_color": null,
            "description_width": ""
          }
        },
        "07b2615efa8c4225a28c16ab1655d68a": {
          "model_module": "@jupyter-widgets/base",
          "model_module_version": "1.2.0",
          "model_name": "LayoutModel",
          "state": {
            "_model_module": "@jupyter-widgets/base",
            "_model_module_version": "1.2.0",
            "_model_name": "LayoutModel",
            "_view_count": null,
            "_view_module": "@jupyter-widgets/base",
            "_view_module_version": "1.2.0",
            "_view_name": "LayoutView",
            "align_content": null,
            "align_items": null,
            "align_self": null,
            "border": null,
            "bottom": null,
            "display": null,
            "flex": null,
            "flex_flow": null,
            "grid_area": null,
            "grid_auto_columns": null,
            "grid_auto_flow": null,
            "grid_auto_rows": null,
            "grid_column": null,
            "grid_gap": null,
            "grid_row": null,
            "grid_template_areas": null,
            "grid_template_columns": null,
            "grid_template_rows": null,
            "height": null,
            "justify_content": null,
            "justify_items": null,
            "left": null,
            "margin": null,
            "max_height": null,
            "max_width": null,
            "min_height": null,
            "min_width": null,
            "object_fit": null,
            "object_position": null,
            "order": null,
            "overflow": null,
            "overflow_x": null,
            "overflow_y": null,
            "padding": null,
            "right": null,
            "top": null,
            "visibility": null,
            "width": null
          }
        },
        "0d86564d88784e8ebecefb4f4a440af7": {
          "model_module": "@jupyter-widgets/base",
          "model_module_version": "1.2.0",
          "model_name": "LayoutModel",
          "state": {
            "_model_module": "@jupyter-widgets/base",
            "_model_module_version": "1.2.0",
            "_model_name": "LayoutModel",
            "_view_count": null,
            "_view_module": "@jupyter-widgets/base",
            "_view_module_version": "1.2.0",
            "_view_name": "LayoutView",
            "align_content": null,
            "align_items": null,
            "align_self": null,
            "border": null,
            "bottom": null,
            "display": null,
            "flex": null,
            "flex_flow": null,
            "grid_area": null,
            "grid_auto_columns": null,
            "grid_auto_flow": null,
            "grid_auto_rows": null,
            "grid_column": null,
            "grid_gap": null,
            "grid_row": null,
            "grid_template_areas": null,
            "grid_template_columns": null,
            "grid_template_rows": null,
            "height": null,
            "justify_content": null,
            "justify_items": null,
            "left": null,
            "margin": null,
            "max_height": null,
            "max_width": null,
            "min_height": null,
            "min_width": null,
            "object_fit": null,
            "object_position": null,
            "order": null,
            "overflow": null,
            "overflow_x": null,
            "overflow_y": null,
            "padding": null,
            "right": null,
            "top": null,
            "visibility": null,
            "width": null
          }
        },
        "1276ae1885234d70bf049c878548313e": {
          "model_module": "@jupyter-widgets/controls",
          "model_module_version": "1.5.0",
          "model_name": "DescriptionStyleModel",
          "state": {
            "_model_module": "@jupyter-widgets/controls",
            "_model_module_version": "1.5.0",
            "_model_name": "DescriptionStyleModel",
            "_view_count": null,
            "_view_module": "@jupyter-widgets/base",
            "_view_module_version": "1.2.0",
            "_view_name": "StyleView",
            "description_width": ""
          }
        },
        "12b6159db2d34b32a6f82501f822113b": {
          "model_module": "@jupyter-widgets/controls",
          "model_module_version": "1.5.0",
          "model_name": "HTMLModel",
          "state": {
            "_dom_classes": [],
            "_model_module": "@jupyter-widgets/controls",
            "_model_module_version": "1.5.0",
            "_model_name": "HTMLModel",
            "_view_count": null,
            "_view_module": "@jupyter-widgets/controls",
            "_view_module_version": "1.5.0",
            "_view_name": "HTMLView",
            "description": "",
            "description_tooltip": null,
            "layout": "IPY_MODEL_f6d78141c6c64196a8c3decdaacc27e6",
            "placeholder": "​",
            "style": "IPY_MODEL_d5f7dbe8d0e2434196c0ac9c14483065",
            "value": "Downloading data files: 100%"
          }
        },
        "1a1c43be471545db8de904335b9784da": {
          "model_module": "@jupyter-widgets/controls",
          "model_module_version": "1.5.0",
          "model_name": "ProgressStyleModel",
          "state": {
            "_model_module": "@jupyter-widgets/controls",
            "_model_module_version": "1.5.0",
            "_model_name": "ProgressStyleModel",
            "_view_count": null,
            "_view_module": "@jupyter-widgets/base",
            "_view_module_version": "1.2.0",
            "_view_name": "StyleView",
            "bar_color": null,
            "description_width": ""
          }
        },
        "2358e48e75bf429aa888da15938ede8c": {
          "model_module": "@jupyter-widgets/controls",
          "model_module_version": "1.5.0",
          "model_name": "ProgressStyleModel",
          "state": {
            "_model_module": "@jupyter-widgets/controls",
            "_model_module_version": "1.5.0",
            "_model_name": "ProgressStyleModel",
            "_view_count": null,
            "_view_module": "@jupyter-widgets/base",
            "_view_module_version": "1.2.0",
            "_view_name": "StyleView",
            "bar_color": null,
            "description_width": ""
          }
        },
        "28f5e578436b4c75a3596d3fee69269f": {
          "model_module": "@jupyter-widgets/controls",
          "model_module_version": "1.5.0",
          "model_name": "FloatProgressModel",
          "state": {
            "_dom_classes": [],
            "_model_module": "@jupyter-widgets/controls",
            "_model_module_version": "1.5.0",
            "_model_name": "FloatProgressModel",
            "_view_count": null,
            "_view_module": "@jupyter-widgets/controls",
            "_view_module_version": "1.5.0",
            "_view_name": "ProgressView",
            "bar_style": "success",
            "description": "",
            "description_tooltip": null,
            "layout": "IPY_MODEL_a836ae2bef6c49d7bc9e9225b668dde8",
            "max": 3,
            "min": 0,
            "orientation": "horizontal",
            "style": "IPY_MODEL_03722ac38d444d578c9eb2d4c2c10710",
            "value": 3
          }
        },
        "29581e4c19af4fb68662aa74ffe0b60b": {
          "model_module": "@jupyter-widgets/controls",
          "model_module_version": "1.5.0",
          "model_name": "DescriptionStyleModel",
          "state": {
            "_model_module": "@jupyter-widgets/controls",
            "_model_module_version": "1.5.0",
            "_model_name": "DescriptionStyleModel",
            "_view_count": null,
            "_view_module": "@jupyter-widgets/base",
            "_view_module_version": "1.2.0",
            "_view_name": "StyleView",
            "description_width": ""
          }
        },
        "29efbe0793044fabb6487da02a9452ed": {
          "model_module": "@jupyter-widgets/controls",
          "model_module_version": "1.5.0",
          "model_name": "DescriptionStyleModel",
          "state": {
            "_model_module": "@jupyter-widgets/controls",
            "_model_module_version": "1.5.0",
            "_model_name": "DescriptionStyleModel",
            "_view_count": null,
            "_view_module": "@jupyter-widgets/base",
            "_view_module_version": "1.2.0",
            "_view_name": "StyleView",
            "description_width": ""
          }
        },
        "2aa1335ce2eb424ca4b66c7da5993513": {
          "model_module": "@jupyter-widgets/base",
          "model_module_version": "1.2.0",
          "model_name": "LayoutModel",
          "state": {
            "_model_module": "@jupyter-widgets/base",
            "_model_module_version": "1.2.0",
            "_model_name": "LayoutModel",
            "_view_count": null,
            "_view_module": "@jupyter-widgets/base",
            "_view_module_version": "1.2.0",
            "_view_name": "LayoutView",
            "align_content": null,
            "align_items": null,
            "align_self": null,
            "border": null,
            "bottom": null,
            "display": null,
            "flex": null,
            "flex_flow": null,
            "grid_area": null,
            "grid_auto_columns": null,
            "grid_auto_flow": null,
            "grid_auto_rows": null,
            "grid_column": null,
            "grid_gap": null,
            "grid_row": null,
            "grid_template_areas": null,
            "grid_template_columns": null,
            "grid_template_rows": null,
            "height": null,
            "justify_content": null,
            "justify_items": null,
            "left": null,
            "margin": null,
            "max_height": null,
            "max_width": null,
            "min_height": null,
            "min_width": null,
            "object_fit": null,
            "object_position": null,
            "order": null,
            "overflow": null,
            "overflow_x": null,
            "overflow_y": null,
            "padding": null,
            "right": null,
            "top": null,
            "visibility": null,
            "width": null
          }
        },
        "2cc870ec3ba64f3aabfb11e0a57a756a": {
          "model_module": "@jupyter-widgets/controls",
          "model_module_version": "1.5.0",
          "model_name": "ProgressStyleModel",
          "state": {
            "_model_module": "@jupyter-widgets/controls",
            "_model_module_version": "1.5.0",
            "_model_name": "ProgressStyleModel",
            "_view_count": null,
            "_view_module": "@jupyter-widgets/base",
            "_view_module_version": "1.2.0",
            "_view_name": "StyleView",
            "bar_color": null,
            "description_width": ""
          }
        },
        "302c185c3fc54959a06b7037eeec4b0c": {
          "model_module": "@jupyter-widgets/controls",
          "model_module_version": "1.5.0",
          "model_name": "HBoxModel",
          "state": {
            "_dom_classes": [],
            "_model_module": "@jupyter-widgets/controls",
            "_model_module_version": "1.5.0",
            "_model_name": "HBoxModel",
            "_view_count": null,
            "_view_module": "@jupyter-widgets/controls",
            "_view_module_version": "1.5.0",
            "_view_name": "HBoxView",
            "box_style": "",
            "children": [
              "IPY_MODEL_5904d2c4793d497abfd9179840d2c336",
              "IPY_MODEL_c803602349c5487ca28d23a0ad98c1a3",
              "IPY_MODEL_3f8bea3c99504696b862804fe519c621"
            ],
            "layout": "IPY_MODEL_6db20d6e1dad4b649879c417fbd1597c"
          }
        },
        "32104453f25042d5aac2f6f37585059c": {
          "model_module": "@jupyter-widgets/controls",
          "model_module_version": "1.5.0",
          "model_name": "HTMLModel",
          "state": {
            "_dom_classes": [],
            "_model_module": "@jupyter-widgets/controls",
            "_model_module_version": "1.5.0",
            "_model_name": "HTMLModel",
            "_view_count": null,
            "_view_module": "@jupyter-widgets/controls",
            "_view_module_version": "1.5.0",
            "_view_name": "HTMLView",
            "description": "",
            "description_tooltip": null,
            "layout": "IPY_MODEL_641994eceff24d5a9a358d98da32d8f7",
            "placeholder": "​",
            "style": "IPY_MODEL_5a3c2a803e6a41c0aa979c5d1ec931a9",
            "value": " 3/3 [00:00&lt;00:00, 93.37it/s]"
          }
        },
        "32cb0176cb4b44dea823be373b287025": {
          "model_module": "@jupyter-widgets/base",
          "model_module_version": "1.2.0",
          "model_name": "LayoutModel",
          "state": {
            "_model_module": "@jupyter-widgets/base",
            "_model_module_version": "1.2.0",
            "_model_name": "LayoutModel",
            "_view_count": null,
            "_view_module": "@jupyter-widgets/base",
            "_view_module_version": "1.2.0",
            "_view_name": "LayoutView",
            "align_content": null,
            "align_items": null,
            "align_self": null,
            "border": null,
            "bottom": null,
            "display": null,
            "flex": null,
            "flex_flow": null,
            "grid_area": null,
            "grid_auto_columns": null,
            "grid_auto_flow": null,
            "grid_auto_rows": null,
            "grid_column": null,
            "grid_gap": null,
            "grid_row": null,
            "grid_template_areas": null,
            "grid_template_columns": null,
            "grid_template_rows": null,
            "height": null,
            "justify_content": null,
            "justify_items": null,
            "left": null,
            "margin": null,
            "max_height": null,
            "max_width": null,
            "min_height": null,
            "min_width": null,
            "object_fit": null,
            "object_position": null,
            "order": null,
            "overflow": null,
            "overflow_x": null,
            "overflow_y": null,
            "padding": null,
            "right": null,
            "top": null,
            "visibility": null,
            "width": null
          }
        },
        "33671e0de217437e859dcc0ebdc396c2": {
          "model_module": "@jupyter-widgets/base",
          "model_module_version": "1.2.0",
          "model_name": "LayoutModel",
          "state": {
            "_model_module": "@jupyter-widgets/base",
            "_model_module_version": "1.2.0",
            "_model_name": "LayoutModel",
            "_view_count": null,
            "_view_module": "@jupyter-widgets/base",
            "_view_module_version": "1.2.0",
            "_view_name": "LayoutView",
            "align_content": null,
            "align_items": null,
            "align_self": null,
            "border": null,
            "bottom": null,
            "display": null,
            "flex": null,
            "flex_flow": null,
            "grid_area": null,
            "grid_auto_columns": null,
            "grid_auto_flow": null,
            "grid_auto_rows": null,
            "grid_column": null,
            "grid_gap": null,
            "grid_row": null,
            "grid_template_areas": null,
            "grid_template_columns": null,
            "grid_template_rows": null,
            "height": null,
            "justify_content": null,
            "justify_items": null,
            "left": null,
            "margin": null,
            "max_height": null,
            "max_width": null,
            "min_height": null,
            "min_width": null,
            "object_fit": null,
            "object_position": null,
            "order": null,
            "overflow": null,
            "overflow_x": null,
            "overflow_y": null,
            "padding": null,
            "right": null,
            "top": null,
            "visibility": null,
            "width": null
          }
        },
        "35a6dac141614ad79bfa8104a45c953e": {
          "model_module": "@jupyter-widgets/base",
          "model_module_version": "1.2.0",
          "model_name": "LayoutModel",
          "state": {
            "_model_module": "@jupyter-widgets/base",
            "_model_module_version": "1.2.0",
            "_model_name": "LayoutModel",
            "_view_count": null,
            "_view_module": "@jupyter-widgets/base",
            "_view_module_version": "1.2.0",
            "_view_name": "LayoutView",
            "align_content": null,
            "align_items": null,
            "align_self": null,
            "border": null,
            "bottom": null,
            "display": null,
            "flex": null,
            "flex_flow": null,
            "grid_area": null,
            "grid_auto_columns": null,
            "grid_auto_flow": null,
            "grid_auto_rows": null,
            "grid_column": null,
            "grid_gap": null,
            "grid_row": null,
            "grid_template_areas": null,
            "grid_template_columns": null,
            "grid_template_rows": null,
            "height": null,
            "justify_content": null,
            "justify_items": null,
            "left": null,
            "margin": null,
            "max_height": null,
            "max_width": null,
            "min_height": null,
            "min_width": null,
            "object_fit": null,
            "object_position": null,
            "order": null,
            "overflow": null,
            "overflow_x": null,
            "overflow_y": null,
            "padding": null,
            "right": null,
            "top": null,
            "visibility": null,
            "width": "20px"
          }
        },
        "39485ddec0d746468cecb8431a9977bb": {
          "model_module": "@jupyter-widgets/base",
          "model_module_version": "1.2.0",
          "model_name": "LayoutModel",
          "state": {
            "_model_module": "@jupyter-widgets/base",
            "_model_module_version": "1.2.0",
            "_model_name": "LayoutModel",
            "_view_count": null,
            "_view_module": "@jupyter-widgets/base",
            "_view_module_version": "1.2.0",
            "_view_name": "LayoutView",
            "align_content": null,
            "align_items": null,
            "align_self": null,
            "border": null,
            "bottom": null,
            "display": null,
            "flex": null,
            "flex_flow": null,
            "grid_area": null,
            "grid_auto_columns": null,
            "grid_auto_flow": null,
            "grid_auto_rows": null,
            "grid_column": null,
            "grid_gap": null,
            "grid_row": null,
            "grid_template_areas": null,
            "grid_template_columns": null,
            "grid_template_rows": null,
            "height": null,
            "justify_content": null,
            "justify_items": null,
            "left": null,
            "margin": null,
            "max_height": null,
            "max_width": null,
            "min_height": null,
            "min_width": null,
            "object_fit": null,
            "object_position": null,
            "order": null,
            "overflow": null,
            "overflow_x": null,
            "overflow_y": null,
            "padding": null,
            "right": null,
            "top": null,
            "visibility": "hidden",
            "width": null
          }
        },
        "39d67796d2c8435aabf3671ce6bde880": {
          "model_module": "@jupyter-widgets/controls",
          "model_module_version": "1.5.0",
          "model_name": "ProgressStyleModel",
          "state": {
            "_model_module": "@jupyter-widgets/controls",
            "_model_module_version": "1.5.0",
            "_model_name": "ProgressStyleModel",
            "_view_count": null,
            "_view_module": "@jupyter-widgets/base",
            "_view_module_version": "1.2.0",
            "_view_name": "StyleView",
            "bar_color": null,
            "description_width": ""
          }
        },
        "3bdb76b330974d008a7cade97255ea44": {
          "model_module": "@jupyter-widgets/controls",
          "model_module_version": "1.5.0",
          "model_name": "HTMLModel",
          "state": {
            "_dom_classes": [],
            "_model_module": "@jupyter-widgets/controls",
            "_model_module_version": "1.5.0",
            "_model_name": "HTMLModel",
            "_view_count": null,
            "_view_module": "@jupyter-widgets/controls",
            "_view_module_version": "1.5.0",
            "_view_name": "HTMLView",
            "description": "",
            "description_tooltip": null,
            "layout": "IPY_MODEL_ea2b2871dcc9475b9790dc9098483069",
            "placeholder": "​",
            "style": "IPY_MODEL_29581e4c19af4fb68662aa74ffe0b60b",
            "value": " 0/0 [00:00&lt;?, ? examples/s]"
          }
        },
        "3f8bea3c99504696b862804fe519c621": {
          "model_module": "@jupyter-widgets/controls",
          "model_module_version": "1.5.0",
          "model_name": "HTMLModel",
          "state": {
            "_dom_classes": [],
            "_model_module": "@jupyter-widgets/controls",
            "_model_module_version": "1.5.0",
            "_model_name": "HTMLModel",
            "_view_count": null,
            "_view_module": "@jupyter-widgets/controls",
            "_view_module_version": "1.5.0",
            "_view_name": "HTMLView",
            "description": "",
            "description_tooltip": null,
            "layout": "IPY_MODEL_90de0b2feb024dedb329e983f4d6e9a0",
            "placeholder": "​",
            "style": "IPY_MODEL_29efbe0793044fabb6487da02a9452ed",
            "value": " 3651/3651 [00:02&lt;00:00, 1299.06ex/s]"
          }
        },
        "4162a54dd6d84c979c467ec9deaaac76": {
          "model_module": "@jupyter-widgets/controls",
          "model_module_version": "1.5.0",
          "model_name": "ProgressStyleModel",
          "state": {
            "_model_module": "@jupyter-widgets/controls",
            "_model_module_version": "1.5.0",
            "_model_name": "ProgressStyleModel",
            "_view_count": null,
            "_view_module": "@jupyter-widgets/base",
            "_view_module_version": "1.2.0",
            "_view_name": "StyleView",
            "bar_color": null,
            "description_width": ""
          }
        },
        "41b593723cf5468aa7e8907c360f498c": {
          "model_module": "@jupyter-widgets/controls",
          "model_module_version": "1.5.0",
          "model_name": "ProgressStyleModel",
          "state": {
            "_model_module": "@jupyter-widgets/controls",
            "_model_module_version": "1.5.0",
            "_model_name": "ProgressStyleModel",
            "_view_count": null,
            "_view_module": "@jupyter-widgets/base",
            "_view_module_version": "1.2.0",
            "_view_name": "StyleView",
            "bar_color": null,
            "description_width": ""
          }
        },
        "4400159d16b74fceb46b162528c3421e": {
          "model_module": "@jupyter-widgets/controls",
          "model_module_version": "1.5.0",
          "model_name": "DescriptionStyleModel",
          "state": {
            "_model_module": "@jupyter-widgets/controls",
            "_model_module_version": "1.5.0",
            "_model_name": "DescriptionStyleModel",
            "_view_count": null,
            "_view_module": "@jupyter-widgets/base",
            "_view_module_version": "1.2.0",
            "_view_name": "StyleView",
            "description_width": ""
          }
        },
        "44ceaf242fff4c4fa7c005b1b65a1ad5": {
          "model_module": "@jupyter-widgets/controls",
          "model_module_version": "1.5.0",
          "model_name": "HBoxModel",
          "state": {
            "_dom_classes": [],
            "_model_module": "@jupyter-widgets/controls",
            "_model_module_version": "1.5.0",
            "_model_name": "HBoxModel",
            "_view_count": null,
            "_view_module": "@jupyter-widgets/controls",
            "_view_module_version": "1.5.0",
            "_view_name": "HBoxView",
            "box_style": "",
            "children": [
              "IPY_MODEL_5234847a0cc04213a678de1a73d23b5d",
              "IPY_MODEL_9966611c8d55494ebff836a181e653ba",
              "IPY_MODEL_fca12e0290054393b2e2d893cf65e434"
            ],
            "layout": "IPY_MODEL_9a5f54e551c7423ca9c0bc73318fc77c"
          }
        },
        "44fe80d2cd7049bf96cf92eb40422754": {
          "model_module": "@jupyter-widgets/controls",
          "model_module_version": "1.5.0",
          "model_name": "FloatProgressModel",
          "state": {
            "_dom_classes": [],
            "_model_module": "@jupyter-widgets/controls",
            "_model_module_version": "1.5.0",
            "_model_name": "FloatProgressModel",
            "_view_count": null,
            "_view_module": "@jupyter-widgets/controls",
            "_view_module_version": "1.5.0",
            "_view_name": "ProgressView",
            "bar_style": "success",
            "description": "",
            "description_tooltip": null,
            "layout": "IPY_MODEL_07b2615efa8c4225a28c16ab1655d68a",
            "max": 3,
            "min": 0,
            "orientation": "horizontal",
            "style": "IPY_MODEL_4162a54dd6d84c979c467ec9deaaac76",
            "value": 3
          }
        },
        "48bc2b91847b4477946293788f4f8a9b": {
          "model_module": "@jupyter-widgets/base",
          "model_module_version": "1.2.0",
          "model_name": "LayoutModel",
          "state": {
            "_model_module": "@jupyter-widgets/base",
            "_model_module_version": "1.2.0",
            "_model_name": "LayoutModel",
            "_view_count": null,
            "_view_module": "@jupyter-widgets/base",
            "_view_module_version": "1.2.0",
            "_view_name": "LayoutView",
            "align_content": null,
            "align_items": null,
            "align_self": null,
            "border": null,
            "bottom": null,
            "display": null,
            "flex": null,
            "flex_flow": null,
            "grid_area": null,
            "grid_auto_columns": null,
            "grid_auto_flow": null,
            "grid_auto_rows": null,
            "grid_column": null,
            "grid_gap": null,
            "grid_row": null,
            "grid_template_areas": null,
            "grid_template_columns": null,
            "grid_template_rows": null,
            "height": null,
            "justify_content": null,
            "justify_items": null,
            "left": null,
            "margin": null,
            "max_height": null,
            "max_width": null,
            "min_height": null,
            "min_width": null,
            "object_fit": null,
            "object_position": null,
            "order": null,
            "overflow": null,
            "overflow_x": null,
            "overflow_y": null,
            "padding": null,
            "right": null,
            "top": null,
            "visibility": null,
            "width": null
          }
        },
        "491d6a73e5004bfd926695a998dc4ab0": {
          "model_module": "@jupyter-widgets/controls",
          "model_module_version": "1.5.0",
          "model_name": "DescriptionStyleModel",
          "state": {
            "_model_module": "@jupyter-widgets/controls",
            "_model_module_version": "1.5.0",
            "_model_name": "DescriptionStyleModel",
            "_view_count": null,
            "_view_module": "@jupyter-widgets/base",
            "_view_module_version": "1.2.0",
            "_view_name": "StyleView",
            "description_width": ""
          }
        },
        "4a7ce3dd3bcc47cd974ef61802bdd903": {
          "model_module": "@jupyter-widgets/controls",
          "model_module_version": "1.5.0",
          "model_name": "DescriptionStyleModel",
          "state": {
            "_model_module": "@jupyter-widgets/controls",
            "_model_module_version": "1.5.0",
            "_model_name": "DescriptionStyleModel",
            "_view_count": null,
            "_view_module": "@jupyter-widgets/base",
            "_view_module_version": "1.2.0",
            "_view_name": "StyleView",
            "description_width": ""
          }
        },
        "4e5f3cf2b3844c639b3595a669e552dc": {
          "model_module": "@jupyter-widgets/base",
          "model_module_version": "1.2.0",
          "model_name": "LayoutModel",
          "state": {
            "_model_module": "@jupyter-widgets/base",
            "_model_module_version": "1.2.0",
            "_model_name": "LayoutModel",
            "_view_count": null,
            "_view_module": "@jupyter-widgets/base",
            "_view_module_version": "1.2.0",
            "_view_name": "LayoutView",
            "align_content": null,
            "align_items": null,
            "align_self": null,
            "border": null,
            "bottom": null,
            "display": null,
            "flex": null,
            "flex_flow": null,
            "grid_area": null,
            "grid_auto_columns": null,
            "grid_auto_flow": null,
            "grid_auto_rows": null,
            "grid_column": null,
            "grid_gap": null,
            "grid_row": null,
            "grid_template_areas": null,
            "grid_template_columns": null,
            "grid_template_rows": null,
            "height": null,
            "justify_content": null,
            "justify_items": null,
            "left": null,
            "margin": null,
            "max_height": null,
            "max_width": null,
            "min_height": null,
            "min_width": null,
            "object_fit": null,
            "object_position": null,
            "order": null,
            "overflow": null,
            "overflow_x": null,
            "overflow_y": null,
            "padding": null,
            "right": null,
            "top": null,
            "visibility": null,
            "width": null
          }
        },
        "4fc36a529d464f0589593827a709aa2e": {
          "model_module": "@jupyter-widgets/controls",
          "model_module_version": "1.5.0",
          "model_name": "HBoxModel",
          "state": {
            "_dom_classes": [],
            "_model_module": "@jupyter-widgets/controls",
            "_model_module_version": "1.5.0",
            "_model_name": "HBoxModel",
            "_view_count": null,
            "_view_module": "@jupyter-widgets/controls",
            "_view_module_version": "1.5.0",
            "_view_name": "HBoxView",
            "box_style": "",
            "children": [
              "IPY_MODEL_c8ebe5bb12bb4f01ad0049c517487c96",
              "IPY_MODEL_9ff8bf044a7e42a0afbec09e9e81ffee",
              "IPY_MODEL_c4a0b318887b46668e62e221e6f1367f"
            ],
            "layout": "IPY_MODEL_f1d3aed359964f2a9316169bc7942c2b"
          }
        },
        "5234847a0cc04213a678de1a73d23b5d": {
          "model_module": "@jupyter-widgets/controls",
          "model_module_version": "1.5.0",
          "model_name": "HTMLModel",
          "state": {
            "_dom_classes": [],
            "_model_module": "@jupyter-widgets/controls",
            "_model_module_version": "1.5.0",
            "_model_name": "HTMLModel",
            "_view_count": null,
            "_view_module": "@jupyter-widgets/controls",
            "_view_module_version": "1.5.0",
            "_view_name": "HTMLView",
            "description": "",
            "description_tooltip": null,
            "layout": "IPY_MODEL_6d11a6b9d4b541869c2c4b4c4eefb0a4",
            "placeholder": "​",
            "style": "IPY_MODEL_d054764cf4a9494fa4aa192032ec5986",
            "value": "100%"
          }
        },
        "52fbe7de78164d3397857d0a83c4b807": {
          "model_module": "@jupyter-widgets/controls",
          "model_module_version": "1.5.0",
          "model_name": "HTMLModel",
          "state": {
            "_dom_classes": [],
            "_model_module": "@jupyter-widgets/controls",
            "_model_module_version": "1.5.0",
            "_model_name": "HTMLModel",
            "_view_count": null,
            "_view_module": "@jupyter-widgets/controls",
            "_view_module_version": "1.5.0",
            "_view_name": "HTMLView",
            "description": "",
            "description_tooltip": null,
            "layout": "IPY_MODEL_dbdde92b730849d18d0fe8f945fb3f1d",
            "placeholder": "​",
            "style": "IPY_MODEL_1276ae1885234d70bf049c878548313e",
            "value": "100%"
          }
        },
        "5904d2c4793d497abfd9179840d2c336": {
          "model_module": "@jupyter-widgets/controls",
          "model_module_version": "1.5.0",
          "model_name": "HTMLModel",
          "state": {
            "_dom_classes": [],
            "_model_module": "@jupyter-widgets/controls",
            "_model_module_version": "1.5.0",
            "_model_name": "HTMLModel",
            "_view_count": null,
            "_view_module": "@jupyter-widgets/controls",
            "_view_module_version": "1.5.0",
            "_view_name": "HTMLView",
            "description": "",
            "description_tooltip": null,
            "layout": "IPY_MODEL_915dc08b4d6144cd98e85e46cd2dd515",
            "placeholder": "​",
            "style": "IPY_MODEL_c1b18b091a284b70b988b4ee2e588840",
            "value": "100%"
          }
        },
        "5a3c2a803e6a41c0aa979c5d1ec931a9": {
          "model_module": "@jupyter-widgets/controls",
          "model_module_version": "1.5.0",
          "model_name": "DescriptionStyleModel",
          "state": {
            "_model_module": "@jupyter-widgets/controls",
            "_model_module_version": "1.5.0",
            "_model_name": "DescriptionStyleModel",
            "_view_count": null,
            "_view_module": "@jupyter-widgets/base",
            "_view_module_version": "1.2.0",
            "_view_name": "StyleView",
            "description_width": ""
          }
        },
        "5ed23d9c71a244208fbf58b269f6f4c6": {
          "model_module": "@jupyter-widgets/controls",
          "model_module_version": "1.5.0",
          "model_name": "DescriptionStyleModel",
          "state": {
            "_model_module": "@jupyter-widgets/controls",
            "_model_module_version": "1.5.0",
            "_model_name": "DescriptionStyleModel",
            "_view_count": null,
            "_view_module": "@jupyter-widgets/base",
            "_view_module_version": "1.2.0",
            "_view_name": "StyleView",
            "description_width": ""
          }
        },
        "615c9b834baf421cab19b081823fae74": {
          "model_module": "@jupyter-widgets/controls",
          "model_module_version": "1.5.0",
          "model_name": "HBoxModel",
          "state": {
            "_dom_classes": [],
            "_model_module": "@jupyter-widgets/controls",
            "_model_module_version": "1.5.0",
            "_model_name": "HBoxModel",
            "_view_count": null,
            "_view_module": "@jupyter-widgets/controls",
            "_view_module_version": "1.5.0",
            "_view_name": "HBoxView",
            "box_style": "",
            "children": [
              "IPY_MODEL_805a4d684fa3405ab352fdf96ac8eefa",
              "IPY_MODEL_911eb16b94b94b0c9b1c9421d4ef4a8b",
              "IPY_MODEL_3bdb76b330974d008a7cade97255ea44"
            ],
            "layout": "IPY_MODEL_39485ddec0d746468cecb8431a9977bb"
          }
        },
        "62fa561f71a14600a11392e07118aede": {
          "model_module": "@jupyter-widgets/controls",
          "model_module_version": "1.5.0",
          "model_name": "HTMLModel",
          "state": {
            "_dom_classes": [],
            "_model_module": "@jupyter-widgets/controls",
            "_model_module_version": "1.5.0",
            "_model_name": "HTMLModel",
            "_view_count": null,
            "_view_module": "@jupyter-widgets/controls",
            "_view_module_version": "1.5.0",
            "_view_name": "HTMLView",
            "description": "",
            "description_tooltip": null,
            "layout": "IPY_MODEL_ead3a3c92f474ee7a70af4fb4829dfdf",
            "placeholder": "​",
            "style": "IPY_MODEL_4a7ce3dd3bcc47cd974ef61802bdd903",
            "value": "100%"
          }
        },
        "641994eceff24d5a9a358d98da32d8f7": {
          "model_module": "@jupyter-widgets/base",
          "model_module_version": "1.2.0",
          "model_name": "LayoutModel",
          "state": {
            "_model_module": "@jupyter-widgets/base",
            "_model_module_version": "1.2.0",
            "_model_name": "LayoutModel",
            "_view_count": null,
            "_view_module": "@jupyter-widgets/base",
            "_view_module_version": "1.2.0",
            "_view_name": "LayoutView",
            "align_content": null,
            "align_items": null,
            "align_self": null,
            "border": null,
            "bottom": null,
            "display": null,
            "flex": null,
            "flex_flow": null,
            "grid_area": null,
            "grid_auto_columns": null,
            "grid_auto_flow": null,
            "grid_auto_rows": null,
            "grid_column": null,
            "grid_gap": null,
            "grid_row": null,
            "grid_template_areas": null,
            "grid_template_columns": null,
            "grid_template_rows": null,
            "height": null,
            "justify_content": null,
            "justify_items": null,
            "left": null,
            "margin": null,
            "max_height": null,
            "max_width": null,
            "min_height": null,
            "min_width": null,
            "object_fit": null,
            "object_position": null,
            "order": null,
            "overflow": null,
            "overflow_x": null,
            "overflow_y": null,
            "padding": null,
            "right": null,
            "top": null,
            "visibility": null,
            "width": null
          }
        },
        "684084a8f8464518a657f0c43b846d41": {
          "model_module": "@jupyter-widgets/controls",
          "model_module_version": "1.5.0",
          "model_name": "FloatProgressModel",
          "state": {
            "_dom_classes": [],
            "_model_module": "@jupyter-widgets/controls",
            "_model_module_version": "1.5.0",
            "_model_name": "FloatProgressModel",
            "_view_count": null,
            "_view_module": "@jupyter-widgets/controls",
            "_view_module_version": "1.5.0",
            "_view_name": "ProgressView",
            "bar_style": "success",
            "description": "",
            "description_tooltip": null,
            "layout": "IPY_MODEL_2aa1335ce2eb424ca4b66c7da5993513",
            "max": 398,
            "min": 0,
            "orientation": "horizontal",
            "style": "IPY_MODEL_acff49e0aba94d89aec0401039d4aed2",
            "value": 398
          }
        },
        "698cf4f6ed45488695f961d0c0ee42c9": {
          "model_module": "@jupyter-widgets/controls",
          "model_module_version": "1.5.0",
          "model_name": "DescriptionStyleModel",
          "state": {
            "_model_module": "@jupyter-widgets/controls",
            "_model_module_version": "1.5.0",
            "_model_name": "DescriptionStyleModel",
            "_view_count": null,
            "_view_module": "@jupyter-widgets/base",
            "_view_module_version": "1.2.0",
            "_view_name": "StyleView",
            "description_width": ""
          }
        },
        "6d11a6b9d4b541869c2c4b4c4eefb0a4": {
          "model_module": "@jupyter-widgets/base",
          "model_module_version": "1.2.0",
          "model_name": "LayoutModel",
          "state": {
            "_model_module": "@jupyter-widgets/base",
            "_model_module_version": "1.2.0",
            "_model_name": "LayoutModel",
            "_view_count": null,
            "_view_module": "@jupyter-widgets/base",
            "_view_module_version": "1.2.0",
            "_view_name": "LayoutView",
            "align_content": null,
            "align_items": null,
            "align_self": null,
            "border": null,
            "bottom": null,
            "display": null,
            "flex": null,
            "flex_flow": null,
            "grid_area": null,
            "grid_auto_columns": null,
            "grid_auto_flow": null,
            "grid_auto_rows": null,
            "grid_column": null,
            "grid_gap": null,
            "grid_row": null,
            "grid_template_areas": null,
            "grid_template_columns": null,
            "grid_template_rows": null,
            "height": null,
            "justify_content": null,
            "justify_items": null,
            "left": null,
            "margin": null,
            "max_height": null,
            "max_width": null,
            "min_height": null,
            "min_width": null,
            "object_fit": null,
            "object_position": null,
            "order": null,
            "overflow": null,
            "overflow_x": null,
            "overflow_y": null,
            "padding": null,
            "right": null,
            "top": null,
            "visibility": null,
            "width": null
          }
        },
        "6db20d6e1dad4b649879c417fbd1597c": {
          "model_module": "@jupyter-widgets/base",
          "model_module_version": "1.2.0",
          "model_name": "LayoutModel",
          "state": {
            "_model_module": "@jupyter-widgets/base",
            "_model_module_version": "1.2.0",
            "_model_name": "LayoutModel",
            "_view_count": null,
            "_view_module": "@jupyter-widgets/base",
            "_view_module_version": "1.2.0",
            "_view_name": "LayoutView",
            "align_content": null,
            "align_items": null,
            "align_self": null,
            "border": null,
            "bottom": null,
            "display": null,
            "flex": null,
            "flex_flow": null,
            "grid_area": null,
            "grid_auto_columns": null,
            "grid_auto_flow": null,
            "grid_auto_rows": null,
            "grid_column": null,
            "grid_gap": null,
            "grid_row": null,
            "grid_template_areas": null,
            "grid_template_columns": null,
            "grid_template_rows": null,
            "height": null,
            "justify_content": null,
            "justify_items": null,
            "left": null,
            "margin": null,
            "max_height": null,
            "max_width": null,
            "min_height": null,
            "min_width": null,
            "object_fit": null,
            "object_position": null,
            "order": null,
            "overflow": null,
            "overflow_x": null,
            "overflow_y": null,
            "padding": null,
            "right": null,
            "top": null,
            "visibility": null,
            "width": null
          }
        },
        "71a561d808a94f7581d0f2ef161239f5": {
          "model_module": "@jupyter-widgets/controls",
          "model_module_version": "1.5.0",
          "model_name": "DescriptionStyleModel",
          "state": {
            "_model_module": "@jupyter-widgets/controls",
            "_model_module_version": "1.5.0",
            "_model_name": "DescriptionStyleModel",
            "_view_count": null,
            "_view_module": "@jupyter-widgets/base",
            "_view_module_version": "1.2.0",
            "_view_name": "StyleView",
            "description_width": ""
          }
        },
        "728ecc4956784e0c84acd4347b14495c": {
          "model_module": "@jupyter-widgets/controls",
          "model_module_version": "1.5.0",
          "model_name": "DescriptionStyleModel",
          "state": {
            "_model_module": "@jupyter-widgets/controls",
            "_model_module_version": "1.5.0",
            "_model_name": "DescriptionStyleModel",
            "_view_count": null,
            "_view_module": "@jupyter-widgets/base",
            "_view_module_version": "1.2.0",
            "_view_name": "StyleView",
            "description_width": ""
          }
        },
        "77d9ba6c1af64eae872edba3dc8061ac": {
          "model_module": "@jupyter-widgets/controls",
          "model_module_version": "1.5.0",
          "model_name": "HBoxModel",
          "state": {
            "_dom_classes": [],
            "_model_module": "@jupyter-widgets/controls",
            "_model_module_version": "1.5.0",
            "_model_name": "HBoxModel",
            "_view_count": null,
            "_view_module": "@jupyter-widgets/controls",
            "_view_module_version": "1.5.0",
            "_view_name": "HBoxView",
            "box_style": "",
            "children": [
              "IPY_MODEL_9ba40a129ad7466da6355e6b91a62768",
              "IPY_MODEL_28f5e578436b4c75a3596d3fee69269f",
              "IPY_MODEL_7c92721ce3a1451f8ade0fe8b9e22fbc"
            ],
            "layout": "IPY_MODEL_8013ed56eb824be49a269eddf10de1d7"
          }
        },
        "7c92721ce3a1451f8ade0fe8b9e22fbc": {
          "model_module": "@jupyter-widgets/controls",
          "model_module_version": "1.5.0",
          "model_name": "HTMLModel",
          "state": {
            "_dom_classes": [],
            "_model_module": "@jupyter-widgets/controls",
            "_model_module_version": "1.5.0",
            "_model_name": "HTMLModel",
            "_view_count": null,
            "_view_module": "@jupyter-widgets/controls",
            "_view_module_version": "1.5.0",
            "_view_name": "HTMLView",
            "description": "",
            "description_tooltip": null,
            "layout": "IPY_MODEL_0d86564d88784e8ebecefb4f4a440af7",
            "placeholder": "​",
            "style": "IPY_MODEL_4400159d16b74fceb46b162528c3421e",
            "value": " 3/3 [00:00&lt;00:00, 118.09it/s]"
          }
        },
        "7ccc1057ef654df6902e342732eeccf0": {
          "model_module": "@jupyter-widgets/controls",
          "model_module_version": "1.5.0",
          "model_name": "DescriptionStyleModel",
          "state": {
            "_model_module": "@jupyter-widgets/controls",
            "_model_module_version": "1.5.0",
            "_model_name": "DescriptionStyleModel",
            "_view_count": null,
            "_view_module": "@jupyter-widgets/base",
            "_view_module_version": "1.2.0",
            "_view_name": "StyleView",
            "description_width": ""
          }
        },
        "7de2eee6da314640b549e515f006f4fe": {
          "model_module": "@jupyter-widgets/controls",
          "model_module_version": "1.5.0",
          "model_name": "ProgressStyleModel",
          "state": {
            "_model_module": "@jupyter-widgets/controls",
            "_model_module_version": "1.5.0",
            "_model_name": "ProgressStyleModel",
            "_view_count": null,
            "_view_module": "@jupyter-widgets/base",
            "_view_module_version": "1.2.0",
            "_view_name": "StyleView",
            "bar_color": null,
            "description_width": ""
          }
        },
        "8013ed56eb824be49a269eddf10de1d7": {
          "model_module": "@jupyter-widgets/base",
          "model_module_version": "1.2.0",
          "model_name": "LayoutModel",
          "state": {
            "_model_module": "@jupyter-widgets/base",
            "_model_module_version": "1.2.0",
            "_model_name": "LayoutModel",
            "_view_count": null,
            "_view_module": "@jupyter-widgets/base",
            "_view_module_version": "1.2.0",
            "_view_name": "LayoutView",
            "align_content": null,
            "align_items": null,
            "align_self": null,
            "border": null,
            "bottom": null,
            "display": null,
            "flex": null,
            "flex_flow": null,
            "grid_area": null,
            "grid_auto_columns": null,
            "grid_auto_flow": null,
            "grid_auto_rows": null,
            "grid_column": null,
            "grid_gap": null,
            "grid_row": null,
            "grid_template_areas": null,
            "grid_template_columns": null,
            "grid_template_rows": null,
            "height": null,
            "justify_content": null,
            "justify_items": null,
            "left": null,
            "margin": null,
            "max_height": null,
            "max_width": null,
            "min_height": null,
            "min_width": null,
            "object_fit": null,
            "object_position": null,
            "order": null,
            "overflow": null,
            "overflow_x": null,
            "overflow_y": null,
            "padding": null,
            "right": null,
            "top": null,
            "visibility": null,
            "width": null
          }
        },
        "805a4d684fa3405ab352fdf96ac8eefa": {
          "model_module": "@jupyter-widgets/controls",
          "model_module_version": "1.5.0",
          "model_name": "HTMLModel",
          "state": {
            "_dom_classes": [],
            "_model_module": "@jupyter-widgets/controls",
            "_model_module_version": "1.5.0",
            "_model_name": "HTMLModel",
            "_view_count": null,
            "_view_module": "@jupyter-widgets/controls",
            "_view_module_version": "1.5.0",
            "_view_name": "HTMLView",
            "description": "",
            "description_tooltip": null,
            "layout": "IPY_MODEL_da696983fad446359993d5790417b63b",
            "placeholder": "​",
            "style": "IPY_MODEL_f15bf32229b0441ca336ee116249c38e",
            "value": "Generating val split: "
          }
        },
        "829668eac4c74a31973f61a653f71442": {
          "model_module": "@jupyter-widgets/controls",
          "model_module_version": "1.5.0",
          "model_name": "DescriptionStyleModel",
          "state": {
            "_model_module": "@jupyter-widgets/controls",
            "_model_module_version": "1.5.0",
            "_model_name": "DescriptionStyleModel",
            "_view_count": null,
            "_view_module": "@jupyter-widgets/base",
            "_view_module_version": "1.2.0",
            "_view_name": "StyleView",
            "description_width": ""
          }
        },
        "830c58f9f3c34ff8974745b9b2d263e3": {
          "model_module": "@jupyter-widgets/base",
          "model_module_version": "1.2.0",
          "model_name": "LayoutModel",
          "state": {
            "_model_module": "@jupyter-widgets/base",
            "_model_module_version": "1.2.0",
            "_model_name": "LayoutModel",
            "_view_count": null,
            "_view_module": "@jupyter-widgets/base",
            "_view_module_version": "1.2.0",
            "_view_name": "LayoutView",
            "align_content": null,
            "align_items": null,
            "align_self": null,
            "border": null,
            "bottom": null,
            "display": null,
            "flex": null,
            "flex_flow": null,
            "grid_area": null,
            "grid_auto_columns": null,
            "grid_auto_flow": null,
            "grid_auto_rows": null,
            "grid_column": null,
            "grid_gap": null,
            "grid_row": null,
            "grid_template_areas": null,
            "grid_template_columns": null,
            "grid_template_rows": null,
            "height": null,
            "justify_content": null,
            "justify_items": null,
            "left": null,
            "margin": null,
            "max_height": null,
            "max_width": null,
            "min_height": null,
            "min_width": null,
            "object_fit": null,
            "object_position": null,
            "order": null,
            "overflow": null,
            "overflow_x": null,
            "overflow_y": null,
            "padding": null,
            "right": null,
            "top": null,
            "visibility": null,
            "width": null
          }
        },
        "8735226482b14ce4a56dba5ffb5b69e2": {
          "model_module": "@jupyter-widgets/controls",
          "model_module_version": "1.5.0",
          "model_name": "HBoxModel",
          "state": {
            "_dom_classes": [],
            "_model_module": "@jupyter-widgets/controls",
            "_model_module_version": "1.5.0",
            "_model_name": "HBoxModel",
            "_view_count": null,
            "_view_module": "@jupyter-widgets/controls",
            "_view_module_version": "1.5.0",
            "_view_name": "HBoxView",
            "box_style": "",
            "children": [
              "IPY_MODEL_a43de7b4407e4573acb8cad9c4209872",
              "IPY_MODEL_88f9dc7abca34e37b261b297bca0666d",
              "IPY_MODEL_a313080c4fc74bde84b78cc7b65b8de9"
            ],
            "layout": "IPY_MODEL_a54f886c738e416e8c1b6aa4d13e267a"
          }
        },
        "875147573a354d49a72ad86b41a2b487": {
          "model_module": "@jupyter-widgets/controls",
          "model_module_version": "1.5.0",
          "model_name": "HTMLModel",
          "state": {
            "_dom_classes": [],
            "_model_module": "@jupyter-widgets/controls",
            "_model_module_version": "1.5.0",
            "_model_name": "HTMLModel",
            "_view_count": null,
            "_view_module": "@jupyter-widgets/controls",
            "_view_module_version": "1.5.0",
            "_view_name": "HTMLView",
            "description": "",
            "description_tooltip": null,
            "layout": "IPY_MODEL_48bc2b91847b4477946293788f4f8a9b",
            "placeholder": "​",
            "style": "IPY_MODEL_5ed23d9c71a244208fbf58b269f6f4c6",
            "value": " 3/3 [00:00&lt;00:00, 76.19it/s]"
          }
        },
        "88f9dc7abca34e37b261b297bca0666d": {
          "model_module": "@jupyter-widgets/controls",
          "model_module_version": "1.5.0",
          "model_name": "FloatProgressModel",
          "state": {
            "_dom_classes": [],
            "_model_module": "@jupyter-widgets/controls",
            "_model_module_version": "1.5.0",
            "_model_name": "FloatProgressModel",
            "_view_count": null,
            "_view_module": "@jupyter-widgets/controls",
            "_view_module_version": "1.5.0",
            "_view_name": "ProgressView",
            "bar_style": "info",
            "description": "",
            "description_tooltip": null,
            "layout": "IPY_MODEL_35a6dac141614ad79bfa8104a45c953e",
            "max": 1,
            "min": 0,
            "orientation": "horizontal",
            "style": "IPY_MODEL_2cc870ec3ba64f3aabfb11e0a57a756a",
            "value": 1
          }
        },
        "905b52f8252f4dd6998a6faff61fa5a1": {
          "model_module": "@jupyter-widgets/controls",
          "model_module_version": "1.5.0",
          "model_name": "DescriptionStyleModel",
          "state": {
            "_model_module": "@jupyter-widgets/controls",
            "_model_module_version": "1.5.0",
            "_model_name": "DescriptionStyleModel",
            "_view_count": null,
            "_view_module": "@jupyter-widgets/base",
            "_view_module_version": "1.2.0",
            "_view_name": "StyleView",
            "description_width": ""
          }
        },
        "90de0b2feb024dedb329e983f4d6e9a0": {
          "model_module": "@jupyter-widgets/base",
          "model_module_version": "1.2.0",
          "model_name": "LayoutModel",
          "state": {
            "_model_module": "@jupyter-widgets/base",
            "_model_module_version": "1.2.0",
            "_model_name": "LayoutModel",
            "_view_count": null,
            "_view_module": "@jupyter-widgets/base",
            "_view_module_version": "1.2.0",
            "_view_name": "LayoutView",
            "align_content": null,
            "align_items": null,
            "align_self": null,
            "border": null,
            "bottom": null,
            "display": null,
            "flex": null,
            "flex_flow": null,
            "grid_area": null,
            "grid_auto_columns": null,
            "grid_auto_flow": null,
            "grid_auto_rows": null,
            "grid_column": null,
            "grid_gap": null,
            "grid_row": null,
            "grid_template_areas": null,
            "grid_template_columns": null,
            "grid_template_rows": null,
            "height": null,
            "justify_content": null,
            "justify_items": null,
            "left": null,
            "margin": null,
            "max_height": null,
            "max_width": null,
            "min_height": null,
            "min_width": null,
            "object_fit": null,
            "object_position": null,
            "order": null,
            "overflow": null,
            "overflow_x": null,
            "overflow_y": null,
            "padding": null,
            "right": null,
            "top": null,
            "visibility": null,
            "width": null
          }
        },
        "911eb16b94b94b0c9b1c9421d4ef4a8b": {
          "model_module": "@jupyter-widgets/controls",
          "model_module_version": "1.5.0",
          "model_name": "FloatProgressModel",
          "state": {
            "_dom_classes": [],
            "_model_module": "@jupyter-widgets/controls",
            "_model_module_version": "1.5.0",
            "_model_name": "FloatProgressModel",
            "_view_count": null,
            "_view_module": "@jupyter-widgets/controls",
            "_view_module_version": "1.5.0",
            "_view_name": "ProgressView",
            "bar_style": "info",
            "description": "",
            "description_tooltip": null,
            "layout": "IPY_MODEL_a81b771bcd334b7eaec8f57827414de0",
            "max": 1,
            "min": 0,
            "orientation": "horizontal",
            "style": "IPY_MODEL_1a1c43be471545db8de904335b9784da",
            "value": 1
          }
        },
        "915dc08b4d6144cd98e85e46cd2dd515": {
          "model_module": "@jupyter-widgets/base",
          "model_module_version": "1.2.0",
          "model_name": "LayoutModel",
          "state": {
            "_model_module": "@jupyter-widgets/base",
            "_model_module_version": "1.2.0",
            "_model_name": "LayoutModel",
            "_view_count": null,
            "_view_module": "@jupyter-widgets/base",
            "_view_module_version": "1.2.0",
            "_view_name": "LayoutView",
            "align_content": null,
            "align_items": null,
            "align_self": null,
            "border": null,
            "bottom": null,
            "display": null,
            "flex": null,
            "flex_flow": null,
            "grid_area": null,
            "grid_auto_columns": null,
            "grid_auto_flow": null,
            "grid_auto_rows": null,
            "grid_column": null,
            "grid_gap": null,
            "grid_row": null,
            "grid_template_areas": null,
            "grid_template_columns": null,
            "grid_template_rows": null,
            "height": null,
            "justify_content": null,
            "justify_items": null,
            "left": null,
            "margin": null,
            "max_height": null,
            "max_width": null,
            "min_height": null,
            "min_width": null,
            "object_fit": null,
            "object_position": null,
            "order": null,
            "overflow": null,
            "overflow_x": null,
            "overflow_y": null,
            "padding": null,
            "right": null,
            "top": null,
            "visibility": null,
            "width": null
          }
        },
        "9966611c8d55494ebff836a181e653ba": {
          "model_module": "@jupyter-widgets/controls",
          "model_module_version": "1.5.0",
          "model_name": "FloatProgressModel",
          "state": {
            "_dom_classes": [],
            "_model_module": "@jupyter-widgets/controls",
            "_model_module_version": "1.5.0",
            "_model_name": "FloatProgressModel",
            "_view_count": null,
            "_view_module": "@jupyter-widgets/controls",
            "_view_module_version": "1.5.0",
            "_view_name": "ProgressView",
            "bar_style": "success",
            "description": "",
            "description_tooltip": null,
            "layout": "IPY_MODEL_830c58f9f3c34ff8974745b9b2d263e3",
            "max": 332,
            "min": 0,
            "orientation": "horizontal",
            "style": "IPY_MODEL_41b593723cf5468aa7e8907c360f498c",
            "value": 332
          }
        },
        "9a5f54e551c7423ca9c0bc73318fc77c": {
          "model_module": "@jupyter-widgets/base",
          "model_module_version": "1.2.0",
          "model_name": "LayoutModel",
          "state": {
            "_model_module": "@jupyter-widgets/base",
            "_model_module_version": "1.2.0",
            "_model_name": "LayoutModel",
            "_view_count": null,
            "_view_module": "@jupyter-widgets/base",
            "_view_module_version": "1.2.0",
            "_view_name": "LayoutView",
            "align_content": null,
            "align_items": null,
            "align_self": null,
            "border": null,
            "bottom": null,
            "display": null,
            "flex": null,
            "flex_flow": null,
            "grid_area": null,
            "grid_auto_columns": null,
            "grid_auto_flow": null,
            "grid_auto_rows": null,
            "grid_column": null,
            "grid_gap": null,
            "grid_row": null,
            "grid_template_areas": null,
            "grid_template_columns": null,
            "grid_template_rows": null,
            "height": null,
            "justify_content": null,
            "justify_items": null,
            "left": null,
            "margin": null,
            "max_height": null,
            "max_width": null,
            "min_height": null,
            "min_width": null,
            "object_fit": null,
            "object_position": null,
            "order": null,
            "overflow": null,
            "overflow_x": null,
            "overflow_y": null,
            "padding": null,
            "right": null,
            "top": null,
            "visibility": null,
            "width": null
          }
        },
        "9ba40a129ad7466da6355e6b91a62768": {
          "model_module": "@jupyter-widgets/controls",
          "model_module_version": "1.5.0",
          "model_name": "HTMLModel",
          "state": {
            "_dom_classes": [],
            "_model_module": "@jupyter-widgets/controls",
            "_model_module_version": "1.5.0",
            "_model_name": "HTMLModel",
            "_view_count": null,
            "_view_module": "@jupyter-widgets/controls",
            "_view_module_version": "1.5.0",
            "_view_name": "HTMLView",
            "description": "",
            "description_tooltip": null,
            "layout": "IPY_MODEL_cdb0c770510b41e397ca0c5ac34ade2e",
            "placeholder": "​",
            "style": "IPY_MODEL_698cf4f6ed45488695f961d0c0ee42c9",
            "value": "Extracting data files: 100%"
          }
        },
        "9dd7372f0ae74045afde481d9fdc7e6e": {
          "model_module": "@jupyter-widgets/base",
          "model_module_version": "1.2.0",
          "model_name": "LayoutModel",
          "state": {
            "_model_module": "@jupyter-widgets/base",
            "_model_module_version": "1.2.0",
            "_model_name": "LayoutModel",
            "_view_count": null,
            "_view_module": "@jupyter-widgets/base",
            "_view_module_version": "1.2.0",
            "_view_name": "LayoutView",
            "align_content": null,
            "align_items": null,
            "align_self": null,
            "border": null,
            "bottom": null,
            "display": null,
            "flex": null,
            "flex_flow": null,
            "grid_area": null,
            "grid_auto_columns": null,
            "grid_auto_flow": null,
            "grid_auto_rows": null,
            "grid_column": null,
            "grid_gap": null,
            "grid_row": null,
            "grid_template_areas": null,
            "grid_template_columns": null,
            "grid_template_rows": null,
            "height": null,
            "justify_content": null,
            "justify_items": null,
            "left": null,
            "margin": null,
            "max_height": null,
            "max_width": null,
            "min_height": null,
            "min_width": null,
            "object_fit": null,
            "object_position": null,
            "order": null,
            "overflow": null,
            "overflow_x": null,
            "overflow_y": null,
            "padding": null,
            "right": null,
            "top": null,
            "visibility": null,
            "width": null
          }
        },
        "9ff8bf044a7e42a0afbec09e9e81ffee": {
          "model_module": "@jupyter-widgets/controls",
          "model_module_version": "1.5.0",
          "model_name": "FloatProgressModel",
          "state": {
            "_dom_classes": [],
            "_model_module": "@jupyter-widgets/controls",
            "_model_module_version": "1.5.0",
            "_model_name": "FloatProgressModel",
            "_view_count": null,
            "_view_module": "@jupyter-widgets/controls",
            "_view_module_version": "1.5.0",
            "_view_name": "ProgressView",
            "bar_style": "info",
            "description": "",
            "description_tooltip": null,
            "layout": "IPY_MODEL_b0d336df567b4ca290c0c82006f1acc9",
            "max": 1,
            "min": 0,
            "orientation": "horizontal",
            "style": "IPY_MODEL_2358e48e75bf429aa888da15938ede8c",
            "value": 1
          }
        },
        "a313080c4fc74bde84b78cc7b65b8de9": {
          "model_module": "@jupyter-widgets/controls",
          "model_module_version": "1.5.0",
          "model_name": "HTMLModel",
          "state": {
            "_dom_classes": [],
            "_model_module": "@jupyter-widgets/controls",
            "_model_module_version": "1.5.0",
            "_model_name": "HTMLModel",
            "_view_count": null,
            "_view_module": "@jupyter-widgets/controls",
            "_view_module_version": "1.5.0",
            "_view_name": "HTMLView",
            "description": "",
            "description_tooltip": null,
            "layout": "IPY_MODEL_fc7bae3f0b5945d08fdc93af7ddd830c",
            "placeholder": "​",
            "style": "IPY_MODEL_728ecc4956784e0c84acd4347b14495c",
            "value": " 0/0 [00:00&lt;?, ? examples/s]"
          }
        },
        "a43de7b4407e4573acb8cad9c4209872": {
          "model_module": "@jupyter-widgets/controls",
          "model_module_version": "1.5.0",
          "model_name": "HTMLModel",
          "state": {
            "_dom_classes": [],
            "_model_module": "@jupyter-widgets/controls",
            "_model_module_version": "1.5.0",
            "_model_name": "HTMLModel",
            "_view_count": null,
            "_view_module": "@jupyter-widgets/controls",
            "_view_module_version": "1.5.0",
            "_view_name": "HTMLView",
            "description": "",
            "description_tooltip": null,
            "layout": "IPY_MODEL_9dd7372f0ae74045afde481d9fdc7e6e",
            "placeholder": "​",
            "style": "IPY_MODEL_829668eac4c74a31973f61a653f71442",
            "value": "Generating test split: "
          }
        },
        "a4d83c43947845abadd186c4c8ad31db": {
          "model_module": "@jupyter-widgets/base",
          "model_module_version": "1.2.0",
          "model_name": "LayoutModel",
          "state": {
            "_model_module": "@jupyter-widgets/base",
            "_model_module_version": "1.2.0",
            "_model_name": "LayoutModel",
            "_view_count": null,
            "_view_module": "@jupyter-widgets/base",
            "_view_module_version": "1.2.0",
            "_view_name": "LayoutView",
            "align_content": null,
            "align_items": null,
            "align_self": null,
            "border": null,
            "bottom": null,
            "display": null,
            "flex": null,
            "flex_flow": null,
            "grid_area": null,
            "grid_auto_columns": null,
            "grid_auto_flow": null,
            "grid_auto_rows": null,
            "grid_column": null,
            "grid_gap": null,
            "grid_row": null,
            "grid_template_areas": null,
            "grid_template_columns": null,
            "grid_template_rows": null,
            "height": null,
            "justify_content": null,
            "justify_items": null,
            "left": null,
            "margin": null,
            "max_height": null,
            "max_width": null,
            "min_height": null,
            "min_width": null,
            "object_fit": null,
            "object_position": null,
            "order": null,
            "overflow": null,
            "overflow_x": null,
            "overflow_y": null,
            "padding": null,
            "right": null,
            "top": null,
            "visibility": null,
            "width": null
          }
        },
        "a54f886c738e416e8c1b6aa4d13e267a": {
          "model_module": "@jupyter-widgets/base",
          "model_module_version": "1.2.0",
          "model_name": "LayoutModel",
          "state": {
            "_model_module": "@jupyter-widgets/base",
            "_model_module_version": "1.2.0",
            "_model_name": "LayoutModel",
            "_view_count": null,
            "_view_module": "@jupyter-widgets/base",
            "_view_module_version": "1.2.0",
            "_view_name": "LayoutView",
            "align_content": null,
            "align_items": null,
            "align_self": null,
            "border": null,
            "bottom": null,
            "display": null,
            "flex": null,
            "flex_flow": null,
            "grid_area": null,
            "grid_auto_columns": null,
            "grid_auto_flow": null,
            "grid_auto_rows": null,
            "grid_column": null,
            "grid_gap": null,
            "grid_row": null,
            "grid_template_areas": null,
            "grid_template_columns": null,
            "grid_template_rows": null,
            "height": null,
            "justify_content": null,
            "justify_items": null,
            "left": null,
            "margin": null,
            "max_height": null,
            "max_width": null,
            "min_height": null,
            "min_width": null,
            "object_fit": null,
            "object_position": null,
            "order": null,
            "overflow": null,
            "overflow_x": null,
            "overflow_y": null,
            "padding": null,
            "right": null,
            "top": null,
            "visibility": "hidden",
            "width": null
          }
        },
        "a81b771bcd334b7eaec8f57827414de0": {
          "model_module": "@jupyter-widgets/base",
          "model_module_version": "1.2.0",
          "model_name": "LayoutModel",
          "state": {
            "_model_module": "@jupyter-widgets/base",
            "_model_module_version": "1.2.0",
            "_model_name": "LayoutModel",
            "_view_count": null,
            "_view_module": "@jupyter-widgets/base",
            "_view_module_version": "1.2.0",
            "_view_name": "LayoutView",
            "align_content": null,
            "align_items": null,
            "align_self": null,
            "border": null,
            "bottom": null,
            "display": null,
            "flex": null,
            "flex_flow": null,
            "grid_area": null,
            "grid_auto_columns": null,
            "grid_auto_flow": null,
            "grid_auto_rows": null,
            "grid_column": null,
            "grid_gap": null,
            "grid_row": null,
            "grid_template_areas": null,
            "grid_template_columns": null,
            "grid_template_rows": null,
            "height": null,
            "justify_content": null,
            "justify_items": null,
            "left": null,
            "margin": null,
            "max_height": null,
            "max_width": null,
            "min_height": null,
            "min_width": null,
            "object_fit": null,
            "object_position": null,
            "order": null,
            "overflow": null,
            "overflow_x": null,
            "overflow_y": null,
            "padding": null,
            "right": null,
            "top": null,
            "visibility": null,
            "width": "20px"
          }
        },
        "a836ae2bef6c49d7bc9e9225b668dde8": {
          "model_module": "@jupyter-widgets/base",
          "model_module_version": "1.2.0",
          "model_name": "LayoutModel",
          "state": {
            "_model_module": "@jupyter-widgets/base",
            "_model_module_version": "1.2.0",
            "_model_name": "LayoutModel",
            "_view_count": null,
            "_view_module": "@jupyter-widgets/base",
            "_view_module_version": "1.2.0",
            "_view_name": "LayoutView",
            "align_content": null,
            "align_items": null,
            "align_self": null,
            "border": null,
            "bottom": null,
            "display": null,
            "flex": null,
            "flex_flow": null,
            "grid_area": null,
            "grid_auto_columns": null,
            "grid_auto_flow": null,
            "grid_auto_rows": null,
            "grid_column": null,
            "grid_gap": null,
            "grid_row": null,
            "grid_template_areas": null,
            "grid_template_columns": null,
            "grid_template_rows": null,
            "height": null,
            "justify_content": null,
            "justify_items": null,
            "left": null,
            "margin": null,
            "max_height": null,
            "max_width": null,
            "min_height": null,
            "min_width": null,
            "object_fit": null,
            "object_position": null,
            "order": null,
            "overflow": null,
            "overflow_x": null,
            "overflow_y": null,
            "padding": null,
            "right": null,
            "top": null,
            "visibility": null,
            "width": null
          }
        },
        "a87b1883808545e1a7757296a7edabfb": {
          "model_module": "@jupyter-widgets/controls",
          "model_module_version": "1.5.0",
          "model_name": "FloatProgressModel",
          "state": {
            "_dom_classes": [],
            "_model_module": "@jupyter-widgets/controls",
            "_model_module_version": "1.5.0",
            "_model_name": "FloatProgressModel",
            "_view_count": null,
            "_view_module": "@jupyter-widgets/controls",
            "_view_module_version": "1.5.0",
            "_view_name": "ProgressView",
            "bar_style": "success",
            "description": "",
            "description_tooltip": null,
            "layout": "IPY_MODEL_ec04d7277ea74f33ae1eb3956662a037",
            "max": 3,
            "min": 0,
            "orientation": "horizontal",
            "style": "IPY_MODEL_39d67796d2c8435aabf3671ce6bde880",
            "value": 3
          }
        },
        "acff49e0aba94d89aec0401039d4aed2": {
          "model_module": "@jupyter-widgets/controls",
          "model_module_version": "1.5.0",
          "model_name": "ProgressStyleModel",
          "state": {
            "_model_module": "@jupyter-widgets/controls",
            "_model_module_version": "1.5.0",
            "_model_name": "ProgressStyleModel",
            "_view_count": null,
            "_view_module": "@jupyter-widgets/base",
            "_view_module_version": "1.2.0",
            "_view_name": "StyleView",
            "bar_color": null,
            "description_width": ""
          }
        },
        "ad5e57e28b6a443080c3647fa75c7a81": {
          "model_module": "@jupyter-widgets/controls",
          "model_module_version": "1.5.0",
          "model_name": "HBoxModel",
          "state": {
            "_dom_classes": [],
            "_model_module": "@jupyter-widgets/controls",
            "_model_module_version": "1.5.0",
            "_model_name": "HBoxModel",
            "_view_count": null,
            "_view_module": "@jupyter-widgets/controls",
            "_view_module_version": "1.5.0",
            "_view_name": "HBoxView",
            "box_style": "",
            "children": [
              "IPY_MODEL_62fa561f71a14600a11392e07118aede",
              "IPY_MODEL_44fe80d2cd7049bf96cf92eb40422754",
              "IPY_MODEL_875147573a354d49a72ad86b41a2b487"
            ],
            "layout": "IPY_MODEL_bdd7bf104bdb421e82985cf1ad12364a"
          }
        },
        "af155f36772c4f2bbbd41727a2dee79d": {
          "model_module": "@jupyter-widgets/controls",
          "model_module_version": "1.5.0",
          "model_name": "HBoxModel",
          "state": {
            "_dom_classes": [],
            "_model_module": "@jupyter-widgets/controls",
            "_model_module_version": "1.5.0",
            "_model_name": "HBoxModel",
            "_view_count": null,
            "_view_module": "@jupyter-widgets/controls",
            "_view_module_version": "1.5.0",
            "_view_name": "HBoxView",
            "box_style": "",
            "children": [
              "IPY_MODEL_52fbe7de78164d3397857d0a83c4b807",
              "IPY_MODEL_684084a8f8464518a657f0c43b846d41",
              "IPY_MODEL_b9d3d3c7d85646df986f20e12dcf6f90"
            ],
            "layout": "IPY_MODEL_d99a355c6d4942a4b338ff4301b045ae"
          }
        },
        "b0d336df567b4ca290c0c82006f1acc9": {
          "model_module": "@jupyter-widgets/base",
          "model_module_version": "1.2.0",
          "model_name": "LayoutModel",
          "state": {
            "_model_module": "@jupyter-widgets/base",
            "_model_module_version": "1.2.0",
            "_model_name": "LayoutModel",
            "_view_count": null,
            "_view_module": "@jupyter-widgets/base",
            "_view_module_version": "1.2.0",
            "_view_name": "LayoutView",
            "align_content": null,
            "align_items": null,
            "align_self": null,
            "border": null,
            "bottom": null,
            "display": null,
            "flex": null,
            "flex_flow": null,
            "grid_area": null,
            "grid_auto_columns": null,
            "grid_auto_flow": null,
            "grid_auto_rows": null,
            "grid_column": null,
            "grid_gap": null,
            "grid_row": null,
            "grid_template_areas": null,
            "grid_template_columns": null,
            "grid_template_rows": null,
            "height": null,
            "justify_content": null,
            "justify_items": null,
            "left": null,
            "margin": null,
            "max_height": null,
            "max_width": null,
            "min_height": null,
            "min_width": null,
            "object_fit": null,
            "object_position": null,
            "order": null,
            "overflow": null,
            "overflow_x": null,
            "overflow_y": null,
            "padding": null,
            "right": null,
            "top": null,
            "visibility": null,
            "width": "20px"
          }
        },
        "b9d3d3c7d85646df986f20e12dcf6f90": {
          "model_module": "@jupyter-widgets/controls",
          "model_module_version": "1.5.0",
          "model_name": "HTMLModel",
          "state": {
            "_dom_classes": [],
            "_model_module": "@jupyter-widgets/controls",
            "_model_module_version": "1.5.0",
            "_model_name": "HTMLModel",
            "_view_count": null,
            "_view_module": "@jupyter-widgets/controls",
            "_view_module_version": "1.5.0",
            "_view_name": "HTMLView",
            "description": "",
            "description_tooltip": null,
            "layout": "IPY_MODEL_33671e0de217437e859dcc0ebdc396c2",
            "placeholder": "​",
            "style": "IPY_MODEL_491d6a73e5004bfd926695a998dc4ab0",
            "value": " 398/398 [00:00&lt;00:00, 1241.68ex/s]"
          }
        },
        "bdd7bf104bdb421e82985cf1ad12364a": {
          "model_module": "@jupyter-widgets/base",
          "model_module_version": "1.2.0",
          "model_name": "LayoutModel",
          "state": {
            "_model_module": "@jupyter-widgets/base",
            "_model_module_version": "1.2.0",
            "_model_name": "LayoutModel",
            "_view_count": null,
            "_view_module": "@jupyter-widgets/base",
            "_view_module_version": "1.2.0",
            "_view_name": "LayoutView",
            "align_content": null,
            "align_items": null,
            "align_self": null,
            "border": null,
            "bottom": null,
            "display": null,
            "flex": null,
            "flex_flow": null,
            "grid_area": null,
            "grid_auto_columns": null,
            "grid_auto_flow": null,
            "grid_auto_rows": null,
            "grid_column": null,
            "grid_gap": null,
            "grid_row": null,
            "grid_template_areas": null,
            "grid_template_columns": null,
            "grid_template_rows": null,
            "height": null,
            "justify_content": null,
            "justify_items": null,
            "left": null,
            "margin": null,
            "max_height": null,
            "max_width": null,
            "min_height": null,
            "min_width": null,
            "object_fit": null,
            "object_position": null,
            "order": null,
            "overflow": null,
            "overflow_x": null,
            "overflow_y": null,
            "padding": null,
            "right": null,
            "top": null,
            "visibility": null,
            "width": null
          }
        },
        "c1b18b091a284b70b988b4ee2e588840": {
          "model_module": "@jupyter-widgets/controls",
          "model_module_version": "1.5.0",
          "model_name": "DescriptionStyleModel",
          "state": {
            "_model_module": "@jupyter-widgets/controls",
            "_model_module_version": "1.5.0",
            "_model_name": "DescriptionStyleModel",
            "_view_count": null,
            "_view_module": "@jupyter-widgets/base",
            "_view_module_version": "1.2.0",
            "_view_name": "StyleView",
            "description_width": ""
          }
        },
        "c4a0b318887b46668e62e221e6f1367f": {
          "model_module": "@jupyter-widgets/controls",
          "model_module_version": "1.5.0",
          "model_name": "HTMLModel",
          "state": {
            "_dom_classes": [],
            "_model_module": "@jupyter-widgets/controls",
            "_model_module_version": "1.5.0",
            "_model_name": "HTMLModel",
            "_view_count": null,
            "_view_module": "@jupyter-widgets/controls",
            "_view_module_version": "1.5.0",
            "_view_name": "HTMLView",
            "description": "",
            "description_tooltip": null,
            "layout": "IPY_MODEL_f8ba1a8280504b19ba56354b164da4f4",
            "placeholder": "​",
            "style": "IPY_MODEL_71a561d808a94f7581d0f2ef161239f5",
            "value": " 3651/0 [00:00&lt;00:00, 28189.80 examples/s]"
          }
        },
        "c803602349c5487ca28d23a0ad98c1a3": {
          "model_module": "@jupyter-widgets/controls",
          "model_module_version": "1.5.0",
          "model_name": "FloatProgressModel",
          "state": {
            "_dom_classes": [],
            "_model_module": "@jupyter-widgets/controls",
            "_model_module_version": "1.5.0",
            "_model_name": "FloatProgressModel",
            "_view_count": null,
            "_view_module": "@jupyter-widgets/controls",
            "_view_module_version": "1.5.0",
            "_view_name": "ProgressView",
            "bar_style": "success",
            "description": "",
            "description_tooltip": null,
            "layout": "IPY_MODEL_4e5f3cf2b3844c639b3595a669e552dc",
            "max": 3651,
            "min": 0,
            "orientation": "horizontal",
            "style": "IPY_MODEL_7de2eee6da314640b549e515f006f4fe",
            "value": 3651
          }
        },
        "c8ebe5bb12bb4f01ad0049c517487c96": {
          "model_module": "@jupyter-widgets/controls",
          "model_module_version": "1.5.0",
          "model_name": "HTMLModel",
          "state": {
            "_dom_classes": [],
            "_model_module": "@jupyter-widgets/controls",
            "_model_module_version": "1.5.0",
            "_model_name": "HTMLModel",
            "_view_count": null,
            "_view_module": "@jupyter-widgets/controls",
            "_view_module_version": "1.5.0",
            "_view_name": "HTMLView",
            "description": "",
            "description_tooltip": null,
            "layout": "IPY_MODEL_32cb0176cb4b44dea823be373b287025",
            "placeholder": "​",
            "style": "IPY_MODEL_7ccc1057ef654df6902e342732eeccf0",
            "value": "Generating train split: "
          }
        },
        "cdb0c770510b41e397ca0c5ac34ade2e": {
          "model_module": "@jupyter-widgets/base",
          "model_module_version": "1.2.0",
          "model_name": "LayoutModel",
          "state": {
            "_model_module": "@jupyter-widgets/base",
            "_model_module_version": "1.2.0",
            "_model_name": "LayoutModel",
            "_view_count": null,
            "_view_module": "@jupyter-widgets/base",
            "_view_module_version": "1.2.0",
            "_view_name": "LayoutView",
            "align_content": null,
            "align_items": null,
            "align_self": null,
            "border": null,
            "bottom": null,
            "display": null,
            "flex": null,
            "flex_flow": null,
            "grid_area": null,
            "grid_auto_columns": null,
            "grid_auto_flow": null,
            "grid_auto_rows": null,
            "grid_column": null,
            "grid_gap": null,
            "grid_row": null,
            "grid_template_areas": null,
            "grid_template_columns": null,
            "grid_template_rows": null,
            "height": null,
            "justify_content": null,
            "justify_items": null,
            "left": null,
            "margin": null,
            "max_height": null,
            "max_width": null,
            "min_height": null,
            "min_width": null,
            "object_fit": null,
            "object_position": null,
            "order": null,
            "overflow": null,
            "overflow_x": null,
            "overflow_y": null,
            "padding": null,
            "right": null,
            "top": null,
            "visibility": null,
            "width": null
          }
        },
        "d013c7acea6b4414ae9a97aeb8497317": {
          "model_module": "@jupyter-widgets/controls",
          "model_module_version": "1.5.0",
          "model_name": "HBoxModel",
          "state": {
            "_dom_classes": [],
            "_model_module": "@jupyter-widgets/controls",
            "_model_module_version": "1.5.0",
            "_model_name": "HBoxModel",
            "_view_count": null,
            "_view_module": "@jupyter-widgets/controls",
            "_view_module_version": "1.5.0",
            "_view_name": "HBoxView",
            "box_style": "",
            "children": [
              "IPY_MODEL_12b6159db2d34b32a6f82501f822113b",
              "IPY_MODEL_a87b1883808545e1a7757296a7edabfb",
              "IPY_MODEL_32104453f25042d5aac2f6f37585059c"
            ],
            "layout": "IPY_MODEL_f1a066d263ef4c968842f9f7fd6e7258"
          }
        },
        "d054764cf4a9494fa4aa192032ec5986": {
          "model_module": "@jupyter-widgets/controls",
          "model_module_version": "1.5.0",
          "model_name": "DescriptionStyleModel",
          "state": {
            "_model_module": "@jupyter-widgets/controls",
            "_model_module_version": "1.5.0",
            "_model_name": "DescriptionStyleModel",
            "_view_count": null,
            "_view_module": "@jupyter-widgets/base",
            "_view_module_version": "1.2.0",
            "_view_name": "StyleView",
            "description_width": ""
          }
        },
        "d5f7dbe8d0e2434196c0ac9c14483065": {
          "model_module": "@jupyter-widgets/controls",
          "model_module_version": "1.5.0",
          "model_name": "DescriptionStyleModel",
          "state": {
            "_model_module": "@jupyter-widgets/controls",
            "_model_module_version": "1.5.0",
            "_model_name": "DescriptionStyleModel",
            "_view_count": null,
            "_view_module": "@jupyter-widgets/base",
            "_view_module_version": "1.2.0",
            "_view_name": "StyleView",
            "description_width": ""
          }
        },
        "d99a355c6d4942a4b338ff4301b045ae": {
          "model_module": "@jupyter-widgets/base",
          "model_module_version": "1.2.0",
          "model_name": "LayoutModel",
          "state": {
            "_model_module": "@jupyter-widgets/base",
            "_model_module_version": "1.2.0",
            "_model_name": "LayoutModel",
            "_view_count": null,
            "_view_module": "@jupyter-widgets/base",
            "_view_module_version": "1.2.0",
            "_view_name": "LayoutView",
            "align_content": null,
            "align_items": null,
            "align_self": null,
            "border": null,
            "bottom": null,
            "display": null,
            "flex": null,
            "flex_flow": null,
            "grid_area": null,
            "grid_auto_columns": null,
            "grid_auto_flow": null,
            "grid_auto_rows": null,
            "grid_column": null,
            "grid_gap": null,
            "grid_row": null,
            "grid_template_areas": null,
            "grid_template_columns": null,
            "grid_template_rows": null,
            "height": null,
            "justify_content": null,
            "justify_items": null,
            "left": null,
            "margin": null,
            "max_height": null,
            "max_width": null,
            "min_height": null,
            "min_width": null,
            "object_fit": null,
            "object_position": null,
            "order": null,
            "overflow": null,
            "overflow_x": null,
            "overflow_y": null,
            "padding": null,
            "right": null,
            "top": null,
            "visibility": null,
            "width": null
          }
        },
        "da696983fad446359993d5790417b63b": {
          "model_module": "@jupyter-widgets/base",
          "model_module_version": "1.2.0",
          "model_name": "LayoutModel",
          "state": {
            "_model_module": "@jupyter-widgets/base",
            "_model_module_version": "1.2.0",
            "_model_name": "LayoutModel",
            "_view_count": null,
            "_view_module": "@jupyter-widgets/base",
            "_view_module_version": "1.2.0",
            "_view_name": "LayoutView",
            "align_content": null,
            "align_items": null,
            "align_self": null,
            "border": null,
            "bottom": null,
            "display": null,
            "flex": null,
            "flex_flow": null,
            "grid_area": null,
            "grid_auto_columns": null,
            "grid_auto_flow": null,
            "grid_auto_rows": null,
            "grid_column": null,
            "grid_gap": null,
            "grid_row": null,
            "grid_template_areas": null,
            "grid_template_columns": null,
            "grid_template_rows": null,
            "height": null,
            "justify_content": null,
            "justify_items": null,
            "left": null,
            "margin": null,
            "max_height": null,
            "max_width": null,
            "min_height": null,
            "min_width": null,
            "object_fit": null,
            "object_position": null,
            "order": null,
            "overflow": null,
            "overflow_x": null,
            "overflow_y": null,
            "padding": null,
            "right": null,
            "top": null,
            "visibility": null,
            "width": null
          }
        },
        "dbdde92b730849d18d0fe8f945fb3f1d": {
          "model_module": "@jupyter-widgets/base",
          "model_module_version": "1.2.0",
          "model_name": "LayoutModel",
          "state": {
            "_model_module": "@jupyter-widgets/base",
            "_model_module_version": "1.2.0",
            "_model_name": "LayoutModel",
            "_view_count": null,
            "_view_module": "@jupyter-widgets/base",
            "_view_module_version": "1.2.0",
            "_view_name": "LayoutView",
            "align_content": null,
            "align_items": null,
            "align_self": null,
            "border": null,
            "bottom": null,
            "display": null,
            "flex": null,
            "flex_flow": null,
            "grid_area": null,
            "grid_auto_columns": null,
            "grid_auto_flow": null,
            "grid_auto_rows": null,
            "grid_column": null,
            "grid_gap": null,
            "grid_row": null,
            "grid_template_areas": null,
            "grid_template_columns": null,
            "grid_template_rows": null,
            "height": null,
            "justify_content": null,
            "justify_items": null,
            "left": null,
            "margin": null,
            "max_height": null,
            "max_width": null,
            "min_height": null,
            "min_width": null,
            "object_fit": null,
            "object_position": null,
            "order": null,
            "overflow": null,
            "overflow_x": null,
            "overflow_y": null,
            "padding": null,
            "right": null,
            "top": null,
            "visibility": null,
            "width": null
          }
        },
        "ea2b2871dcc9475b9790dc9098483069": {
          "model_module": "@jupyter-widgets/base",
          "model_module_version": "1.2.0",
          "model_name": "LayoutModel",
          "state": {
            "_model_module": "@jupyter-widgets/base",
            "_model_module_version": "1.2.0",
            "_model_name": "LayoutModel",
            "_view_count": null,
            "_view_module": "@jupyter-widgets/base",
            "_view_module_version": "1.2.0",
            "_view_name": "LayoutView",
            "align_content": null,
            "align_items": null,
            "align_self": null,
            "border": null,
            "bottom": null,
            "display": null,
            "flex": null,
            "flex_flow": null,
            "grid_area": null,
            "grid_auto_columns": null,
            "grid_auto_flow": null,
            "grid_auto_rows": null,
            "grid_column": null,
            "grid_gap": null,
            "grid_row": null,
            "grid_template_areas": null,
            "grid_template_columns": null,
            "grid_template_rows": null,
            "height": null,
            "justify_content": null,
            "justify_items": null,
            "left": null,
            "margin": null,
            "max_height": null,
            "max_width": null,
            "min_height": null,
            "min_width": null,
            "object_fit": null,
            "object_position": null,
            "order": null,
            "overflow": null,
            "overflow_x": null,
            "overflow_y": null,
            "padding": null,
            "right": null,
            "top": null,
            "visibility": null,
            "width": null
          }
        },
        "ead3a3c92f474ee7a70af4fb4829dfdf": {
          "model_module": "@jupyter-widgets/base",
          "model_module_version": "1.2.0",
          "model_name": "LayoutModel",
          "state": {
            "_model_module": "@jupyter-widgets/base",
            "_model_module_version": "1.2.0",
            "_model_name": "LayoutModel",
            "_view_count": null,
            "_view_module": "@jupyter-widgets/base",
            "_view_module_version": "1.2.0",
            "_view_name": "LayoutView",
            "align_content": null,
            "align_items": null,
            "align_self": null,
            "border": null,
            "bottom": null,
            "display": null,
            "flex": null,
            "flex_flow": null,
            "grid_area": null,
            "grid_auto_columns": null,
            "grid_auto_flow": null,
            "grid_auto_rows": null,
            "grid_column": null,
            "grid_gap": null,
            "grid_row": null,
            "grid_template_areas": null,
            "grid_template_columns": null,
            "grid_template_rows": null,
            "height": null,
            "justify_content": null,
            "justify_items": null,
            "left": null,
            "margin": null,
            "max_height": null,
            "max_width": null,
            "min_height": null,
            "min_width": null,
            "object_fit": null,
            "object_position": null,
            "order": null,
            "overflow": null,
            "overflow_x": null,
            "overflow_y": null,
            "padding": null,
            "right": null,
            "top": null,
            "visibility": null,
            "width": null
          }
        },
        "ec04d7277ea74f33ae1eb3956662a037": {
          "model_module": "@jupyter-widgets/base",
          "model_module_version": "1.2.0",
          "model_name": "LayoutModel",
          "state": {
            "_model_module": "@jupyter-widgets/base",
            "_model_module_version": "1.2.0",
            "_model_name": "LayoutModel",
            "_view_count": null,
            "_view_module": "@jupyter-widgets/base",
            "_view_module_version": "1.2.0",
            "_view_name": "LayoutView",
            "align_content": null,
            "align_items": null,
            "align_self": null,
            "border": null,
            "bottom": null,
            "display": null,
            "flex": null,
            "flex_flow": null,
            "grid_area": null,
            "grid_auto_columns": null,
            "grid_auto_flow": null,
            "grid_auto_rows": null,
            "grid_column": null,
            "grid_gap": null,
            "grid_row": null,
            "grid_template_areas": null,
            "grid_template_columns": null,
            "grid_template_rows": null,
            "height": null,
            "justify_content": null,
            "justify_items": null,
            "left": null,
            "margin": null,
            "max_height": null,
            "max_width": null,
            "min_height": null,
            "min_width": null,
            "object_fit": null,
            "object_position": null,
            "order": null,
            "overflow": null,
            "overflow_x": null,
            "overflow_y": null,
            "padding": null,
            "right": null,
            "top": null,
            "visibility": null,
            "width": null
          }
        },
        "f15bf32229b0441ca336ee116249c38e": {
          "model_module": "@jupyter-widgets/controls",
          "model_module_version": "1.5.0",
          "model_name": "DescriptionStyleModel",
          "state": {
            "_model_module": "@jupyter-widgets/controls",
            "_model_module_version": "1.5.0",
            "_model_name": "DescriptionStyleModel",
            "_view_count": null,
            "_view_module": "@jupyter-widgets/base",
            "_view_module_version": "1.2.0",
            "_view_name": "StyleView",
            "description_width": ""
          }
        },
        "f1a066d263ef4c968842f9f7fd6e7258": {
          "model_module": "@jupyter-widgets/base",
          "model_module_version": "1.2.0",
          "model_name": "LayoutModel",
          "state": {
            "_model_module": "@jupyter-widgets/base",
            "_model_module_version": "1.2.0",
            "_model_name": "LayoutModel",
            "_view_count": null,
            "_view_module": "@jupyter-widgets/base",
            "_view_module_version": "1.2.0",
            "_view_name": "LayoutView",
            "align_content": null,
            "align_items": null,
            "align_self": null,
            "border": null,
            "bottom": null,
            "display": null,
            "flex": null,
            "flex_flow": null,
            "grid_area": null,
            "grid_auto_columns": null,
            "grid_auto_flow": null,
            "grid_auto_rows": null,
            "grid_column": null,
            "grid_gap": null,
            "grid_row": null,
            "grid_template_areas": null,
            "grid_template_columns": null,
            "grid_template_rows": null,
            "height": null,
            "justify_content": null,
            "justify_items": null,
            "left": null,
            "margin": null,
            "max_height": null,
            "max_width": null,
            "min_height": null,
            "min_width": null,
            "object_fit": null,
            "object_position": null,
            "order": null,
            "overflow": null,
            "overflow_x": null,
            "overflow_y": null,
            "padding": null,
            "right": null,
            "top": null,
            "visibility": null,
            "width": null
          }
        },
        "f1d3aed359964f2a9316169bc7942c2b": {
          "model_module": "@jupyter-widgets/base",
          "model_module_version": "1.2.0",
          "model_name": "LayoutModel",
          "state": {
            "_model_module": "@jupyter-widgets/base",
            "_model_module_version": "1.2.0",
            "_model_name": "LayoutModel",
            "_view_count": null,
            "_view_module": "@jupyter-widgets/base",
            "_view_module_version": "1.2.0",
            "_view_name": "LayoutView",
            "align_content": null,
            "align_items": null,
            "align_self": null,
            "border": null,
            "bottom": null,
            "display": null,
            "flex": null,
            "flex_flow": null,
            "grid_area": null,
            "grid_auto_columns": null,
            "grid_auto_flow": null,
            "grid_auto_rows": null,
            "grid_column": null,
            "grid_gap": null,
            "grid_row": null,
            "grid_template_areas": null,
            "grid_template_columns": null,
            "grid_template_rows": null,
            "height": null,
            "justify_content": null,
            "justify_items": null,
            "left": null,
            "margin": null,
            "max_height": null,
            "max_width": null,
            "min_height": null,
            "min_width": null,
            "object_fit": null,
            "object_position": null,
            "order": null,
            "overflow": null,
            "overflow_x": null,
            "overflow_y": null,
            "padding": null,
            "right": null,
            "top": null,
            "visibility": "hidden",
            "width": null
          }
        },
        "f6d78141c6c64196a8c3decdaacc27e6": {
          "model_module": "@jupyter-widgets/base",
          "model_module_version": "1.2.0",
          "model_name": "LayoutModel",
          "state": {
            "_model_module": "@jupyter-widgets/base",
            "_model_module_version": "1.2.0",
            "_model_name": "LayoutModel",
            "_view_count": null,
            "_view_module": "@jupyter-widgets/base",
            "_view_module_version": "1.2.0",
            "_view_name": "LayoutView",
            "align_content": null,
            "align_items": null,
            "align_self": null,
            "border": null,
            "bottom": null,
            "display": null,
            "flex": null,
            "flex_flow": null,
            "grid_area": null,
            "grid_auto_columns": null,
            "grid_auto_flow": null,
            "grid_auto_rows": null,
            "grid_column": null,
            "grid_gap": null,
            "grid_row": null,
            "grid_template_areas": null,
            "grid_template_columns": null,
            "grid_template_rows": null,
            "height": null,
            "justify_content": null,
            "justify_items": null,
            "left": null,
            "margin": null,
            "max_height": null,
            "max_width": null,
            "min_height": null,
            "min_width": null,
            "object_fit": null,
            "object_position": null,
            "order": null,
            "overflow": null,
            "overflow_x": null,
            "overflow_y": null,
            "padding": null,
            "right": null,
            "top": null,
            "visibility": null,
            "width": null
          }
        },
        "f8ba1a8280504b19ba56354b164da4f4": {
          "model_module": "@jupyter-widgets/base",
          "model_module_version": "1.2.0",
          "model_name": "LayoutModel",
          "state": {
            "_model_module": "@jupyter-widgets/base",
            "_model_module_version": "1.2.0",
            "_model_name": "LayoutModel",
            "_view_count": null,
            "_view_module": "@jupyter-widgets/base",
            "_view_module_version": "1.2.0",
            "_view_name": "LayoutView",
            "align_content": null,
            "align_items": null,
            "align_self": null,
            "border": null,
            "bottom": null,
            "display": null,
            "flex": null,
            "flex_flow": null,
            "grid_area": null,
            "grid_auto_columns": null,
            "grid_auto_flow": null,
            "grid_auto_rows": null,
            "grid_column": null,
            "grid_gap": null,
            "grid_row": null,
            "grid_template_areas": null,
            "grid_template_columns": null,
            "grid_template_rows": null,
            "height": null,
            "justify_content": null,
            "justify_items": null,
            "left": null,
            "margin": null,
            "max_height": null,
            "max_width": null,
            "min_height": null,
            "min_width": null,
            "object_fit": null,
            "object_position": null,
            "order": null,
            "overflow": null,
            "overflow_x": null,
            "overflow_y": null,
            "padding": null,
            "right": null,
            "top": null,
            "visibility": null,
            "width": null
          }
        },
        "fc7bae3f0b5945d08fdc93af7ddd830c": {
          "model_module": "@jupyter-widgets/base",
          "model_module_version": "1.2.0",
          "model_name": "LayoutModel",
          "state": {
            "_model_module": "@jupyter-widgets/base",
            "_model_module_version": "1.2.0",
            "_model_name": "LayoutModel",
            "_view_count": null,
            "_view_module": "@jupyter-widgets/base",
            "_view_module_version": "1.2.0",
            "_view_name": "LayoutView",
            "align_content": null,
            "align_items": null,
            "align_self": null,
            "border": null,
            "bottom": null,
            "display": null,
            "flex": null,
            "flex_flow": null,
            "grid_area": null,
            "grid_auto_columns": null,
            "grid_auto_flow": null,
            "grid_auto_rows": null,
            "grid_column": null,
            "grid_gap": null,
            "grid_row": null,
            "grid_template_areas": null,
            "grid_template_columns": null,
            "grid_template_rows": null,
            "height": null,
            "justify_content": null,
            "justify_items": null,
            "left": null,
            "margin": null,
            "max_height": null,
            "max_width": null,
            "min_height": null,
            "min_width": null,
            "object_fit": null,
            "object_position": null,
            "order": null,
            "overflow": null,
            "overflow_x": null,
            "overflow_y": null,
            "padding": null,
            "right": null,
            "top": null,
            "visibility": null,
            "width": null
          }
        },
        "fca12e0290054393b2e2d893cf65e434": {
          "model_module": "@jupyter-widgets/controls",
          "model_module_version": "1.5.0",
          "model_name": "HTMLModel",
          "state": {
            "_dom_classes": [],
            "_model_module": "@jupyter-widgets/controls",
            "_model_module_version": "1.5.0",
            "_model_name": "HTMLModel",
            "_view_count": null,
            "_view_module": "@jupyter-widgets/controls",
            "_view_module_version": "1.5.0",
            "_view_name": "HTMLView",
            "description": "",
            "description_tooltip": null,
            "layout": "IPY_MODEL_a4d83c43947845abadd186c4c8ad31db",
            "placeholder": "​",
            "style": "IPY_MODEL_905b52f8252f4dd6998a6faff61fa5a1",
            "value": " 332/332 [00:00&lt;00:00, 1432.06ex/s]"
          }
        }
      }
    }
  },
  "nbformat": 4,
  "nbformat_minor": 5
}
