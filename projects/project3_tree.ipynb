{
  "cells": [
    {
      "cell_type": "code",
      "execution_count": 43,
      "id": "369c1284",
      "metadata": {
        "collapsed": true,
        "deletable": false,
        "editable": false,
        "jupyter": {
          "outputs_hidden": true,
          "source_hidden": true
        },
        "colab": {
          "base_uri": "https://localhost:8080/",
          "height": 0
        },
        "id": "369c1284",
        "outputId": "bb038f43-2030-45fe-eb0d-b19b21dd46be"
      },
      "outputs": [
        {
          "output_type": "stream",
          "name": "stdout",
          "text": [
            "\n"
          ]
        }
      ],
      "source": [
        "# Please do not change this cell because some hidden tests might depend on it.\n",
        "import os\n",
        "\n",
        "# Otter grader does not handle ! commands well, so we define and use our\n",
        "# own function to execute shell commands.\n",
        "def shell(commands, warn=True):\n",
        "    \"\"\"Executes the string `commands` as a sequence of shell commands.\n",
        "\n",
        "       Prints the result to stdout and returns the exit status.\n",
        "       Provides a printed warning on non-zero exit status unless `warn`\n",
        "       flag is unset.\n",
        "    \"\"\"\n",
        "    file = os.popen(commands)\n",
        "    print (file.read().rstrip('\\n'))\n",
        "    exit_status = file.close()\n",
        "    if warn and exit_status != None:\n",
        "        print(f\"Completed with errors. Exit status: {exit_status}\\n\")\n",
        "    return exit_status\n",
        "\n",
        "shell(\"\"\"\n",
        "ls requirements.txt >/dev/null 2>&1\n",
        "if [ ! $? = 0 ]; then\n",
        " rm -rf .tmp\n",
        " git clone https://github.com/cs236299-2023-spring/project3.git .tmp\n",
        " mv .tmp/requirements.txt ./\n",
        " rm -rf .tmp\n",
        "fi\n",
        "pip install -q -r requirements.txt\n",
        "\"\"\")"
      ]
    },
    {
      "cell_type": "code",
      "execution_count": 44,
      "id": "d0c95073",
      "metadata": {
        "deletable": false,
        "editable": false,
        "id": "d0c95073"
      },
      "outputs": [],
      "source": [
        "# Initialize Otter\n",
        "import otter\n",
        "grader = otter.Notebook()"
      ]
    },
    {
      "cell_type": "raw",
      "id": "e3c6f7d7",
      "metadata": {
        "jupyter": {
          "source_hidden": true
        },
        "id": "e3c6f7d7"
      },
      "source": [
        "%%latex\n",
        "\\newcommand{\\vect}[1]{\\mathbf{#1}}\n",
        "\\newcommand{\\cnt}[1]{\\sharp(#1)}\n",
        "\\newcommand{\\argmax}[1]{\\underset{#1}{\\operatorname{argmax}}}\n",
        "\\newcommand{\\softmax}{\\operatorname{softmax}}\n",
        "\\newcommand{\\Prob}{\\Pr}\n",
        "\\newcommand{\\given}{\\,|\\,}"
      ]
    },
    {
      "cell_type": "markdown",
      "id": "91dbe3a4",
      "metadata": {
        "jupyter": {
          "source_hidden": true
        },
        "id": "91dbe3a4"
      },
      "source": [
        "$$\n",
        "\\renewcommand{\\vect}[1]{\\mathbf{#1}}\n",
        "\\renewcommand{\\cnt}[1]{\\sharp(#1)}\n",
        "\\renewcommand{\\argmax}[1]{\\underset{#1}{\\operatorname{argmax}}}\n",
        "\\renewcommand{\\softmax}{\\operatorname{softmax}}\n",
        "\\renewcommand{\\Prob}{\\Pr}\n",
        "\\renewcommand{\\given}{\\,|\\,}\n",
        "$$"
      ]
    },
    {
      "cell_type": "markdown",
      "id": "20be92be",
      "metadata": {
        "tags": [
          "remove_for_latex"
        ],
        "id": "20be92be"
      },
      "source": [
        "# \t236299 - Introduction to Natural Language Processing\n",
        "## Project 3: Parsing – The CKY Algorithm"
      ]
    },
    {
      "cell_type": "markdown",
      "id": "ce60c947",
      "metadata": {
        "id": "ce60c947"
      },
      "source": [
        "Constituency parsing is the recovery of a labeled hierarchical structure, a _parse tree_ for a sentence of a natural language. It is a core intermediary task in natural-language processing, as the meanings of sentences are related to their structure.\n",
        "\n",
        "In this project, you will implement the CKY algorithm for parsing strings relative to context-free grammars (CFG). You will implement versions for both non-probabilistic context-free grammars (CFG) and probabilistic grammars (PCFG) and apply them to the parsing of ATIS queries.\n",
        "\n",
        "The project is structured into five parts:\n",
        "\n",
        "1. Finish a CFG for the ATIS dataset.\n",
        "2. Implement the CKY algorithm for _recognizing_ grammatical sentences, that is, determining whether a parse exists for a given sentence.\n",
        "3. Extend the CKY algorithm for _parsing_ sentences, that is, constructing the parse trees for a given sentence.\n",
        "4. Construct a probabilistic context-free grammar (PCFG) based on a CFG.\n",
        "5. Extend the CKY algorithm to PCFGs, allowing the construction of the most probable parse tree for a sentence according to a PCFG.\n",
        "\n",
        "# Setup"
      ]
    },
    {
      "cell_type": "code",
      "execution_count": 45,
      "id": "1d132d71",
      "metadata": {
        "colab": {
          "base_uri": "https://localhost:8080/",
          "height": 35
        },
        "id": "1d132d71",
        "outputId": "0c978823-e066-47e6-c035-2b24b3149828"
      },
      "outputs": [
        {
          "output_type": "execute_result",
          "data": {
            "text/plain": [
              "'scripts//tree (1).py'"
            ],
            "application/vnd.google.colaboratory.intrinsic+json": {
              "type": "string"
            }
          },
          "metadata": {},
          "execution_count": 45
        }
      ],
      "source": [
        "# Download needed files and scripts\n",
        "import wget\n",
        "os.makedirs('data', exist_ok=True)\n",
        "os.makedirs('scripts', exist_ok=True)\n",
        "# ATIS queries\n",
        "wget.download(\"https://raw.githubusercontent.com/nlp-236299/data/master/ATIS/train.nl\", out=\"data/\")\n",
        "# Corresponding parse trees\n",
        "wget.download(\"https://raw.githubusercontent.com/nlp-236299/data/master/ATIS/train.trees\", out=\"data/\")\n",
        "wget.download(\"https://raw.githubusercontent.com/nlp-236299/data/master/ATIS/test.trees\", out=\"data/\")\n",
        "\n",
        "# Code for comparing and evaluating parse trees\n",
        "wget.download(\"https://raw.githubusercontent.com/nlp-236299/data/master/scripts/trees/evalb.py\", out=\"scripts/\")\n",
        "wget.download(\"https://raw.githubusercontent.com/nlp-236299/data/master/scripts/trees/transform.py\", out=\"scripts/\")\n",
        "wget.download(\"https://raw.githubusercontent.com/nlp-236299/data/master/scripts/trees/tree.py\", out=\"scripts/\")"
      ]
    },
    {
      "cell_type": "code",
      "source": [
        "import shutil\n",
        "\n",
        "import nltk\n",
        "\n",
        "import sys\n",
        "\n",
        "from collections import defaultdict, Counter\n",
        "\n",
        "from nltk import treetransforms\n",
        "from nltk.grammar import ProbabilisticProduction, PCFG, Nonterminal\n",
        "from nltk.tree import Tree\n",
        "\n",
        "from tqdm import tqdm\n",
        "\n",
        "# Import functions for transforming augmented grammars\n",
        "sys.path.insert(1, '/content/scripts')\n",
        "import transform as xform"
      ],
      "metadata": {
        "id": "oWo_eGTIY622"
      },
      "id": "oWo_eGTIY622",
      "execution_count": 46,
      "outputs": []
    },
    {
      "cell_type": "code",
      "execution_count": 47,
      "id": "a40322df",
      "metadata": {
        "id": "a40322df",
        "colab": {
          "base_uri": "https://localhost:8080/",
          "height": 53
        },
        "outputId": "0b0614a8-2c33-478b-ea7f-9b4af8da964d"
      },
      "outputs": [
        {
          "output_type": "execute_result",
          "data": {
            "text/plain": [
              "\"\\nimport shutil\\n\\nimport nltk\\n\\nimport sys\\n\\nfrom collections import defaultdict, Counter\\n\\nfrom nltk import treetransforms\\nfrom nltk.grammar import ProbabilisticProduction, PCFG, Nonterminal\\nfrom nltk.tree import Tree\\n\\nfrom tqdm import tqdm\\n\\n# Import functions for transforming augmented grammars\\nsys.path.insert(1, './scripts')\\nimport transform as xform\\n\""
            ],
            "application/vnd.google.colaboratory.intrinsic+json": {
              "type": "string"
            }
          },
          "metadata": {},
          "execution_count": 47
        }
      ],
      "source": [
        "\"\"\"\n",
        "import shutil\n",
        "\n",
        "import nltk\n",
        "\n",
        "import sys\n",
        "\n",
        "from collections import defaultdict, Counter\n",
        "\n",
        "from nltk import treetransforms\n",
        "from nltk.grammar import ProbabilisticProduction, PCFG, Nonterminal\n",
        "from nltk.tree import Tree\n",
        "\n",
        "from tqdm import tqdm\n",
        "\n",
        "# Import functions for transforming augmented grammars\n",
        "sys.path.insert(1, './scripts')\n",
        "import transform as xform\n",
        "\"\"\""
      ]
    },
    {
      "cell_type": "code",
      "execution_count": 48,
      "id": "67a9a24a",
      "metadata": {
        "id": "67a9a24a"
      },
      "outputs": [],
      "source": [
        "## Debug flag used below for turning on and off some useful tracing\n",
        "DEBUG = False"
      ]
    },
    {
      "cell_type": "markdown",
      "id": "6f534761",
      "metadata": {
        "id": "6f534761"
      },
      "source": [
        "# A custom ATIS grammar"
      ]
    },
    {
      "cell_type": "markdown",
      "id": "16392588",
      "metadata": {
        "id": "16392588"
      },
      "source": [
        "To parse, we need a grammar. In this project, you will use a hand-crafted grammar for a fragment of the ATIS dataset. The grammar is written in a \"semantic grammar\" style, in which the nonterminals tend to correspond to semantic classes of phrases, rather than syntactic classes. By using this style, we can more closely tune the grammar to the application, though we lose generality and transferability to other applications. The grammar will be used again in the next project segment for a question-answering application.\n",
        "\n",
        "We download the grammar to make it available."
      ]
    },
    {
      "cell_type": "code",
      "execution_count": 49,
      "id": "b5a525a4",
      "metadata": {
        "id": "b5a525a4"
      },
      "outputs": [],
      "source": [
        "if not os.path.exists('./data/grammar_distrib3'):\n",
        "  wget.download(\"https://raw.githubusercontent.com/nlp-236299/data/master/ATIS/grammar_distrib3\", out=\"data/\")\n",
        "if os.path.exists('./data/grammar_distrib3') and (not os.path.exists('./data/grammar')):\n",
        "  shutil.copy('./data/grammar_distrib3', './data/grammar')"
      ]
    },
    {
      "cell_type": "markdown",
      "id": "8e2b8c6b",
      "metadata": {
        "id": "8e2b8c6b"
      },
      "source": [
        "Take a look at the file `data/grammar_distrib3` that you've just downloaded. The grammar is written in a format that extends the NLTK format expected by `CFG.fromstring`. We've provided functions to make use of this format in the file `scripts/transform.py`. You should familiarize yourself with this format by checking out the documentation in that file.\n",
        "\n",
        "> We made a copy of this grammar for you as `data/grammar`. This is the file you'll be modifying in the next section. You can leave it alone for now.\n",
        "\n",
        "As described there, we can read the grammar in and convert it into NLTK's grammar format using the provided `xform.read_augmented_grammar` function."
      ]
    },
    {
      "cell_type": "code",
      "execution_count": 50,
      "id": "1acfc132",
      "metadata": {
        "id": "1acfc132"
      },
      "outputs": [],
      "source": [
        "atis_grammar_distrib, _ = xform.read_augmented_grammar(\"grammar_distrib3\", path=\"data\")"
      ]
    },
    {
      "cell_type": "markdown",
      "id": "54641ed0",
      "metadata": {
        "id": "54641ed0"
      },
      "source": [
        "To verify that the ATIS grammar that we distributed is working, we can parse a sentence using a built-in NLTK parser. We'll use a tokenizer built with NLTK's tokenizing apparatus."
      ]
    },
    {
      "cell_type": "code",
      "execution_count": 51,
      "id": "77f1e572",
      "metadata": {
        "colab": {
          "base_uri": "https://localhost:8080/",
          "height": 0
        },
        "id": "77f1e572",
        "outputId": "ecd32359-97fd-4667-873d-a67373f469b9"
      },
      "outputs": [
        {
          "output_type": "stream",
          "name": "stdout",
          "text": [
            "['are', 'there', 'any', 'first-class', 'flights', 'at', '11', 'pm', 'for', 'less', 'than', '$3.50', '?']\n"
          ]
        }
      ],
      "source": [
        "## Tokenizer\n",
        "tokenizer = nltk.tokenize.RegexpTokenizer('\\d+|[\\w-]+|\\$[\\d\\.]+|\\S+')\n",
        "def tokenize(string):\n",
        "  return tokenizer.tokenize(string.lower())\n",
        "\n",
        "## Demonstrating the tokenizer\n",
        "## Note especially the handling of `\"11pm\"` and hyphenated words.\n",
        "print(tokenize(\"Are there any first-class flights at 11pm for less than $3.50?\"))"
      ]
    },
    {
      "cell_type": "code",
      "execution_count": 52,
      "id": "a1b7f36c",
      "metadata": {
        "colab": {
          "base_uri": "https://localhost:8080/",
          "height": 0
        },
        "id": "a1b7f36c",
        "outputId": "241cf004-1f9e-464c-d6c8-f82ecf6c8402"
      },
      "outputs": [
        {
          "output_type": "stream",
          "name": "stdout",
          "text": [
            "                                                 S                                                \n",
            "                        _________________________|________________________                         \n",
            "                       |                                              NP_FLIGHT                   \n",
            "                       |                                                  |                        \n",
            "                       |                                              NOM_FLIGHT                  \n",
            "                       |                                                  |                        \n",
            "                       |                                               N_FLIGHT                   \n",
            "                       |                                        __________|_________               \n",
            "                   PREIGNORE                                   |                    PP            \n",
            "        _______________|____________                           |                    |              \n",
            "       |                        PREIGNORE                      |                 PP_TIME          \n",
            "       |                ____________|____________              |           _________|________      \n",
            "       |               |                     PREIGNORE      N_FLIGHT      |               NP_TIME \n",
            "       |               |                         |             |          |                  |     \n",
            "PREIGNORESYMBOL PREIGNORESYMBOL           PREIGNORESYMBOL TERM_FLIGHT   P_TIME           TERM_TIME\n",
            "       |               |                         |             |          |                  |     \n",
            "      show             me                       the         flights     before              noon  \n",
            "\n",
            "                                           S                                                    \n",
            "                     ______________________|__________________                                   \n",
            "                    |                                     NP_FLIGHT                             \n",
            "                    |                       __________________|_________                         \n",
            "                    |                      |                        NOM_FLIGHT                  \n",
            "                    |                      |                            |                        \n",
            "                    |                      |                         N_FLIGHT                   \n",
            "                    |                      |        ____________________|_________               \n",
            "                    |                      |       |                              PP            \n",
            "                    |                      |       |                              |              \n",
            "                PREIGNORE                  |       |                           PP_TIME          \n",
            "        ____________|____________          |       |                     _________|________      \n",
            "       |                     PREIGNORE     |    N_FLIGHT                |               NP_TIME \n",
            "       |                         |         |       |                    |                  |     \n",
            "PREIGNORESYMBOL           PREIGNORESYMBOL DET TERM_FLIGHT             P_TIME           TERM_TIME\n",
            "       |                         |         |       |                    |                  |     \n",
            "      show                       me       the   flights               before              noon  \n",
            "\n"
          ]
        }
      ],
      "source": [
        "## Test sentence\n",
        "test_sentence_1 = tokenize(\"show me the flights before noon\")\n",
        "\n",
        "## Construct parser from distribution grammar\n",
        "atis_parser_distrib = nltk.parse.BottomUpChartParser(atis_grammar_distrib)\n",
        "\n",
        "## Parse and print the parses\n",
        "parses = atis_parser_distrib.parse(test_sentence_1)\n",
        "for parse in parses:\n",
        "  parse.pretty_print()"
      ]
    },
    {
      "cell_type": "markdown",
      "id": "11849917",
      "metadata": {
        "id": "11849917"
      },
      "source": [
        "## Testing the coverage of the grammar\n",
        "\n",
        "We can get a sense of how well the grammar covers the ATIS query language by measuring the proportion of queries in the training set that are parsable by the grammar. We define a `coverage` function to carry out this evaluation.\n",
        "\n",
        "> Warning: It may take a long time to parse all of the sentence in the training corpus, on the order of 30 minutes. You may want to start with just the first few sentences in the corpus. The `coverage` function below makes it easy to do so, and in the code below we just test coverage on the first 50 sentences."
      ]
    },
    {
      "cell_type": "code",
      "execution_count": 53,
      "id": "3b73d5af",
      "metadata": {
        "id": "3b73d5af"
      },
      "outputs": [],
      "source": [
        "## Read in the training corpus\n",
        "with open('data/train.nl') as file:\n",
        "  training_corpus = [tokenize(line) for line in file]"
      ]
    },
    {
      "cell_type": "code",
      "execution_count": 54,
      "id": "f3185ce8",
      "metadata": {
        "id": "f3185ce8"
      },
      "outputs": [],
      "source": [
        "def coverage(recognizer, corpus, n=0):\n",
        "  \"\"\"Returns the proportion of the first `n` sentences in the `corpus`\n",
        "  that are recognized by the `recognizer`, which should return a boolean.\n",
        "  `n` is taken to be the whole corpus if n is not provided or is\n",
        "  non-positive.\n",
        "  \"\"\"\n",
        "  n = len(corpus) if n <= 0 else n\n",
        "  parsed = 0\n",
        "  total = 0\n",
        "  for sent in tqdm(corpus[:n]):\n",
        "    total += 1\n",
        "    try:\n",
        "      parses = recognizer(sent)\n",
        "    except:\n",
        "      parses = None\n",
        "    if parses:\n",
        "      parsed += 1\n",
        "    elif DEBUG:\n",
        "      print(f\"failed: {sent}\")\n",
        "  if DEBUG: print(f\"{parsed} of {total}\")\n",
        "  return parsed/total"
      ]
    },
    {
      "cell_type": "code",
      "execution_count": 55,
      "id": "493eac20",
      "metadata": {
        "colab": {
          "base_uri": "https://localhost:8080/",
          "height": 0
        },
        "id": "493eac20",
        "outputId": "61dadc1c-07d6-48ee-d027-1bc0c1679bfa"
      },
      "outputs": [
        {
          "output_type": "stream",
          "name": "stderr",
          "text": [
            "100%|██████████| 50/50 [00:00<00:00, 468.37it/s]\n"
          ]
        },
        {
          "output_type": "execute_result",
          "data": {
            "text/plain": [
              "0.0"
            ]
          },
          "metadata": {},
          "execution_count": 55
        }
      ],
      "source": [
        "coverage(lambda sent: 0 < len(list(atis_parser_distrib.parse(sent))),  # trick for turning parser into recognizer\n",
        "         training_corpus, n=50)"
      ]
    },
    {
      "cell_type": "markdown",
      "id": "92c1d48e",
      "metadata": {
        "id": "92c1d48e"
      },
      "source": [
        "Sadly, you'll find that the coverage of the grammar is extraordinarily poor. That's because it is missing crucial parts of the grammar, especially phrases about _places_, which play a role in essentially every ATIS query. You'll need to complete the grammar before it can be useful."
      ]
    },
    {
      "cell_type": "markdown",
      "id": "4f5a1e7d",
      "metadata": {
        "id": "4f5a1e7d"
      },
      "source": [
        "## Part 1: Finish the CFG for the ATIS dataset\n",
        "\n",
        "Consider the following query:"
      ]
    },
    {
      "cell_type": "code",
      "execution_count": 56,
      "id": "688a21c4",
      "metadata": {
        "id": "688a21c4"
      },
      "outputs": [],
      "source": [
        "test_sentence_2 = tokenize(\"show me the united flights from boston\")"
      ]
    },
    {
      "cell_type": "markdown",
      "id": "799f2fbc",
      "metadata": {
        "id": "799f2fbc"
      },
      "source": [
        "You'll notice that the grammar we distributed doesn't handle this query because it doesn't have a subgrammar for airline information (`\"united\"`) or for places (`\"from boston\"`)."
      ]
    },
    {
      "cell_type": "code",
      "execution_count": 57,
      "id": "57f11593",
      "metadata": {
        "colab": {
          "base_uri": "https://localhost:8080/",
          "height": 0
        },
        "id": "57f11593",
        "outputId": "49f2809b-55bd-4198-8827-335c8201e599"
      },
      "outputs": [
        {
          "output_type": "execute_result",
          "data": {
            "text/plain": [
              "0"
            ]
          },
          "metadata": {},
          "execution_count": 57
        }
      ],
      "source": [
        "len(list(atis_parser_distrib.parse(test_sentence_2)))"
      ]
    },
    {
      "cell_type": "markdown",
      "id": "1d3f533d",
      "metadata": {
        "id": "1d3f533d"
      },
      "source": [
        "Follow the instructions in the grammar file `data/grammar` to add further coverage to the grammar. (You can and should leave the `data/grammar_distrib3` copy alone and use it for reference.)\n",
        "\n",
        "We'll define a parser based on your modified grammar, so we can compare it against the distributed grammar. Once you've modified the grammar, this test sentence should have at least one parse.\n",
        "\n",
        "> You can search for \"TODO\" in `data/grammar` to find the two places to add grammar rules."
      ]
    },
    {
      "cell_type": "code",
      "execution_count": 58,
      "id": "6cbb8e3e",
      "metadata": {
        "id": "6cbb8e3e",
        "colab": {
          "base_uri": "https://localhost:8080/",
          "height": 0
        },
        "outputId": "d0a93297-a254-41e7-9af6-0f9ca93bd8fa"
      },
      "outputs": [
        {
          "output_type": "stream",
          "name": "stdout",
          "text": [
            "                                                                S                                                            \n",
            "                        ________________________________________|_______________________                                      \n",
            "                       |                                                            NP_FLIGHT                                \n",
            "                       |                                                                |                                     \n",
            "                       |                                                            NOM_FLIGHT                               \n",
            "                       |                                         _______________________|__________                           \n",
            "                       |                                        |                              NOM_FLIGHT                    \n",
            "                       |                                        |                                  |                          \n",
            "                       |                                        |                               N_FLIGHT                     \n",
            "                       |                                        |             _____________________|_________                 \n",
            "                   PREIGNORE                                    |            |                               PP              \n",
            "        _______________|____________                            |            |                               |                \n",
            "       |                        PREIGNORE                      ADJ           |                            PP_PLACE           \n",
            "       |                ____________|____________               |            |                      _________|_________       \n",
            "       |               |                     PREIGNORE     ADJ_AIRLINE    N_FLIGHT                 |               ADJ_PLACE \n",
            "       |               |                         |              |            |                     |                   |      \n",
            "PREIGNORESYMBOL PREIGNORESYMBOL           PREIGNORESYMBOL TERM_AIRBRAND TERM_FLIGHT             P_PLACE            TERM_PLACE\n",
            "       |               |                         |              |            |                     |                   |      \n",
            "      show             me                       the           united      flights                 from               boston  \n",
            "\n",
            "                                                    S                                                            \n",
            "                     _______________________________|____________                                                 \n",
            "                    |                                        NP_FLIGHT                                           \n",
            "                    |                       _____________________|__________                                      \n",
            "                    |                      |                            NOM_FLIGHT                               \n",
            "                    |                      |         _______________________|__________                           \n",
            "                    |                      |        |                              NOM_FLIGHT                    \n",
            "                    |                      |        |                                  |                          \n",
            "                    |                      |        |                               N_FLIGHT                     \n",
            "                    |                      |        |             _____________________|_________                 \n",
            "                    |                      |        |            |                               PP              \n",
            "                    |                      |        |            |                               |                \n",
            "                PREIGNORE                  |       ADJ           |                            PP_PLACE           \n",
            "        ____________|____________          |        |            |                      _________|_________       \n",
            "       |                     PREIGNORE     |   ADJ_AIRLINE    N_FLIGHT                 |               ADJ_PLACE \n",
            "       |                         |         |        |            |                     |                   |      \n",
            "PREIGNORESYMBOL           PREIGNORESYMBOL DET TERM_AIRBRAND TERM_FLIGHT             P_PLACE            TERM_PLACE\n",
            "       |                         |         |        |            |                     |                   |      \n",
            "      show                       me       the     united      flights                 from               boston  \n",
            "\n"
          ]
        }
      ],
      "source": [
        "atis_grammar_expanded, _ = xform.read_augmented_grammar(\"grammar\", path=\"data\")\n",
        "atis_parser_expanded = nltk.parse.BottomUpChartParser(atis_grammar_expanded)\n",
        "\n",
        "parses = [p for p in atis_parser_expanded.parse(test_sentence_2)]\n",
        "for parse in parses:\n",
        "  parse.pretty_print()"
      ]
    },
    {
      "cell_type": "code",
      "execution_count": 59,
      "id": "a857aabd",
      "metadata": {
        "id": "a857aabd",
        "colab": {
          "base_uri": "https://localhost:8080/",
          "height": 0
        },
        "outputId": "0eb01fec-6190-4091-d053-62de3e2afa7b"
      },
      "outputs": [
        {
          "output_type": "stream",
          "name": "stdout",
          "text": [
            "                                                                                                                 S                                                                                                      \n",
            "                        _________________________________________________________________________________________|__________                                                                                             \n",
            "                       |                                                                                                NP_FLIGHT                                                                                       \n",
            "                       |                                                                                                    |                                                                                            \n",
            "                       |                                                                                                NOM_FLIGHT                                                                                      \n",
            "                       |                                            ________________________________________________________|___________________                                                                         \n",
            "                       |                                           |                                                                        NOM_FLIGHT                                                                  \n",
            "                       |                                           |                           _________________________________________________|__________                                                              \n",
            "                       |                                           |                          |                                                        NOM_FLIGHT                                                       \n",
            "                       |                                           |                          |                                                            |                                                             \n",
            "                       |                                           |                          |                                                         N_FLIGHT                                                        \n",
            "                       |                                           |                          |                                                  __________|____________________________________                         \n",
            "                       |                                           |                          |                                              N_FLIGHT                                           |                       \n",
            "                       |                                           |                          |                              ___________________|____________________                           |                        \n",
            "                       |                                           |                          |                          N_FLIGHT                                    |                          |                       \n",
            "                       |                                           |                          |                   __________|_________                               |                          |                        \n",
            "                   PREIGNORE                                       |                          |                  |                    PP                             PP                         |                       \n",
            "        _______________|____________                               |                          |                  |                    |                              |                          |                        \n",
            "       |                        PREIGNORE                          |                         ADJ                 |                 PP_PLACE                       PP_PLACE                      PP                      \n",
            "       |                ____________|____________                  |                          |                  |           _________|_________            _________|_________                 |                        \n",
            "       |               |                     PREIGNORE            ADJ                   ADJ_FLIGHTTYPE        N_FLIGHT      |               ADJ_PLACE      |               ADJ_PLACE        PP_AIRLINE                  \n",
            "       |               |                         |                 |                          |                  |          |                   |          |                   |        ________|______________          \n",
            "PREIGNORESYMBOL PREIGNORESYMBOL           PREIGNORESYMBOL      ADJ_PRICE               ADJ_FLIGHTTYPESI     TERM_FLIGHT  P_PLACE            TERM_PLACE  P_PLACE            TERM_PLACE  |  TERM_AIRBRAND TERM_AIRBRANDTYP\n",
            "       |               |                         |                 |                         MPLE                |          |                   |          |                   |       |        |              E        \n",
            "       |               |                         |          _______|_________        _________|__________        |          |                   |          |                   |       |        |              |         \n",
            "      what             is                       the       most           expensive one                  way    flight      from               boston       to               atlanta    on    american       airlines    \n",
            "\n",
            "                                           S                                                                                                                                                                      \n",
            "                     ______________________|_______________________________                                                                                                                                        \n",
            "                    |                                                  NP_FLIGHT                                                                                                                                  \n",
            "                    |                       _______________________________|__________________________________________                                                                                             \n",
            "                    |                      |                                                                      NOM_FLIGHT                                                                                      \n",
            "                    |                      |            ______________________________________________________________|___________________                                                                         \n",
            "                    |                      |           |                                                                              NOM_FLIGHT                                                                  \n",
            "                    |                      |           |                                 _________________________________________________|__________                                                              \n",
            "                    |                      |           |                                |                                                        NOM_FLIGHT                                                       \n",
            "                    |                      |           |                                |                                                            |                                                             \n",
            "                    |                      |           |                                |                                                         N_FLIGHT                                                        \n",
            "                    |                      |           |                                |                                                  __________|____________________________________                         \n",
            "                    |                      |           |                                |                                              N_FLIGHT                                           |                       \n",
            "                    |                      |           |                                |                              ___________________|____________________                           |                        \n",
            "                    |                      |           |                                |                          N_FLIGHT                                    |                          |                       \n",
            "                    |                      |           |                                |                   __________|_________                               |                          |                        \n",
            "                    |                      |           |                                |                  |                    PP                             PP                         |                       \n",
            "                    |                      |           |                                |                  |                    |                              |                          |                        \n",
            "                PREIGNORE                  |           |                               ADJ                 |                 PP_PLACE                       PP_PLACE                      PP                      \n",
            "        ____________|____________          |           |                                |                  |           _________|_________            _________|_________                 |                        \n",
            "       |                     PREIGNORE     |          ADJ                         ADJ_FLIGHTTYPE        N_FLIGHT      |               ADJ_PLACE      |               ADJ_PLACE        PP_AIRLINE                  \n",
            "       |                         |         |           |                                |                  |          |                   |          |                   |        ________|______________          \n",
            "PREIGNORESYMBOL           PREIGNORESYMBOL DET      ADJ_PRICE                     ADJ_FLIGHTTYPESI     TERM_FLIGHT  P_PLACE            TERM_PLACE  P_PLACE            TERM_PLACE  |  TERM_AIRBRAND TERM_AIRBRANDTYP\n",
            "       |                         |         |           |                               MPLE                |          |                   |          |                   |       |        |              E        \n",
            "       |                         |         |    _______|_________           ____________|__________        |          |                   |          |                   |       |        |              |         \n",
            "      what                       is       the most           expensive    one                     way    flight      from               boston       to               atlanta    on    american       airlines    \n",
            "\n"
          ]
        }
      ],
      "source": [
        "test_sentence_3 = tokenize(\"what is the most expensive one way flight from boston to atlanta on american airlines\")\n",
        "parses = [p for p in atis_parser_expanded.parse(test_sentence_3)]\n",
        "for parse in parses:\n",
        "  parse.pretty_print()"
      ]
    },
    {
      "cell_type": "markdown",
      "id": "72531490",
      "metadata": {
        "id": "72531490"
      },
      "source": [
        "Once you're done adding to the grammar, to check your grammar, we'll compute the grammar's coverage of the ATIS training corpus as before.\n",
        "**This grammar should be expected to cover about half of the sentences in the first 50 sentences, and a third of the entire training corpus.**"
      ]
    },
    {
      "cell_type": "code",
      "source": [
        "coverage(lambda sent: 0 < len(list(atis_parser_expanded.parse(sent))),  # trick for turning parser into recognizer\n",
        "         training_corpus, n=50)"
      ],
      "metadata": {
        "colab": {
          "base_uri": "https://localhost:8080/",
          "height": 0
        },
        "id": "ZeivhvESlJu5",
        "outputId": "5078f0b6-51c4-4d61-f55b-a2ee9d514c0b"
      },
      "id": "ZeivhvESlJu5",
      "execution_count": 60,
      "outputs": [
        {
          "output_type": "stream",
          "name": "stderr",
          "text": [
            "100%|██████████| 50/50 [00:00<00:00, 291.32it/s]\n"
          ]
        },
        {
          "output_type": "execute_result",
          "data": {
            "text/plain": [
              "0.5"
            ]
          },
          "metadata": {},
          "execution_count": 60
        }
      ]
    },
    {
      "cell_type": "code",
      "execution_count": 61,
      "id": "bef9bbe1",
      "metadata": {
        "id": "bef9bbe1",
        "colab": {
          "base_uri": "https://localhost:8080/",
          "height": 0
        },
        "outputId": "e4641bcb-9241-4960-bf62-9224f039a753"
      },
      "outputs": [
        {
          "output_type": "stream",
          "name": "stderr",
          "text": [
            "100%|██████████| 4379/4379 [00:21<00:00, 200.81it/s]\n"
          ]
        },
        {
          "output_type": "execute_result",
          "data": {
            "text/plain": [
              "0.349623201644211"
            ]
          },
          "metadata": {},
          "execution_count": 61
        }
      ],
      "source": [
        "coverage(lambda sent: 0 < len(list(atis_parser_expanded.parse(sent))),  # trick for turning parser into recognizer\n",
        "         training_corpus)"
      ]
    },
    {
      "cell_type": "markdown",
      "id": "33adb1d2",
      "metadata": {
        "id": "33adb1d2"
      },
      "source": [
        "# CFG recognition via the CKY algorithm\n",
        "\n",
        "Now we turn to implementing recognizers and parsers using the CKY algorithm. We start with a recognizer, which should return `True` or `False` if a grammar does or does not admit a sentence as grammatical.\n",
        "\n",
        "## Converting the grammar to CNF for use by the CKY algorithm\n",
        "\n",
        "The CKY algorithm requires the grammar to be in Chomsky normal form (CNF). That is, only rules of the forms\n",
        "\\begin{align*}\n",
        "A &\\rightarrow B\\, C\\\\\n",
        "A &\\rightarrow a\n",
        "\\end{align*}\n",
        "are allowed, where $A$, $B$, $C$ are nonterminals and $a$ is a terminal symbol.\n",
        "\n",
        "However, in some downstream applications (such as the next project segment) we want to use grammar rules of more general forms, such as $A \\rightarrow B\\, C\\, D$. Indeed, the ATIS grammar you've been working on makes use of the additional expressivity beyond CNF.\n",
        "\n",
        "To satisfy both of these constraints, we will convert the grammar to CNF, parse using CKY, and then convert the returned parse trees back to the form of the original grammar. We provide some useful functions for performing these transformations in the file `scripts/transform.py`, already loaded above and imported as `xform`.\n",
        "\n",
        "To convert a grammar to CNF:\n",
        "\n",
        "`cnf_grammar, cnf_grammar_wunaries = xform.get_cnf_grammar(grammar)`\n",
        "\n",
        "To convert a tree output from CKY back to the original form of the grammar:\n",
        "\n",
        "`xform.un_cnf(tree, cnf_grammar_wunaries)`\n",
        "\n",
        "> We pass into `un_cnf` a version of the grammar before removing unary nonterminal productions, `cnf_grammar_wunaries`. The `cnf_grammar_wunaries` is returened as the second part of the returned value of `get_cnf_grammar` for just this purpose."
      ]
    },
    {
      "cell_type": "code",
      "execution_count": 62,
      "id": "c919b89e",
      "metadata": {
        "id": "c919b89e"
      },
      "outputs": [],
      "source": [
        "atis_grammar_cnf, atis_grammar_wunaries = xform.get_cnf_grammar(atis_grammar_expanded)\n",
        "assert(atis_grammar_cnf.is_chomsky_normal_form())"
      ]
    },
    {
      "cell_type": "markdown",
      "id": "ef19966d",
      "metadata": {
        "id": "ef19966d"
      },
      "source": [
        "In the next sections, you'll write your own recognizers and parsers based on the CKY algorithm that can operate on this grammar."
      ]
    },
    {
      "cell_type": "markdown",
      "id": "380a77f5",
      "metadata": {
        "id": "380a77f5"
      },
      "source": [
        "## Part 2: Implement a CKY recognizer\n",
        "\n",
        "Implement a _recognizer_ using the CKY algorithm to determine if a sentence `tokens` is parsable. The labs and J&M Chapter 13, both of which provide appropriaste pseudo-code for CKY, should be useful references here.\n",
        "\n",
        "> **Hint:** Recall that you can get the production rules of a grammar using `grammar.productions()`.\n",
        "\n",
        "> Throughtout this project segment, you should use `grammar.start()` to get the special start symbol from the grammar instead of using `S`, since some grammar uses a different start symbol, such as `TOP`."
      ]
    },
    {
      "cell_type": "code",
      "source": [
        "def grammar_to_dict(grammar):\n",
        "  res = dict()\n",
        "  for prod in grammar.productions():\n",
        "    if prod.lhs in res.keys():\n",
        "      res[prod.lhs()].append[prod.rhs()]\n",
        "    else:\n",
        "      res[prod.lhs()] = [prod.rhs()]\n",
        "  return res"
      ],
      "metadata": {
        "id": "_Gy7myaYFszO"
      },
      "id": "_Gy7myaYFszO",
      "execution_count": 63,
      "outputs": []
    },
    {
      "cell_type": "code",
      "source": [
        "import pprint\n",
        "pprint.pprint(grammar_to_dict(atis_grammar_cnf))"
      ],
      "metadata": {
        "id": "EdLJkuAhFh7R",
        "colab": {
          "base_uri": "https://localhost:8080/",
          "height": 0
        },
        "outputId": "571f20f3-1a6e-4f2a-a824-7ed8e53f7768"
      },
      "id": "EdLJkuAhFh7R",
      "execution_count": 64,
      "outputs": [
        {
          "output_type": "stream",
          "name": "stdout",
          "text": [
            "{$'s: [(\"'s\",)],\n",
            " $a: [('a',)],\n",
            " $about: [('about',)],\n",
            " $after: [('after',)],\n",
            " $afternoon: [('afternoon',)],\n",
            " $air: [('air',)],\n",
            " $airport: [('airport',)],\n",
            " $all: [('all',)],\n",
            " $am: [('am',)],\n",
            " $and: [('and',)],\n",
            " $angeles: [('angeles',)],\n",
            " $around: [('around',)],\n",
            " $arrival: [('arrival',)],\n",
            " $arrive: [('arrive',)],\n",
            " $arrives: [('arrives',)],\n",
            " $arriving: [('arriving',)],\n",
            " $as: [('as',)],\n",
            " $at: [('at',)],\n",
            " $back: [('back',)],\n",
            " $beach: [('beach',)],\n",
            " $before: [('before',)],\n",
            " $between: [('between',)],\n",
            " $boston: [('boston',)],\n",
            " $by: [('by',)],\n",
            " $california: [('california',)],\n",
            " $canada: [('canada',)],\n",
            " $cheapest: [('cheapest',)],\n",
            " $cities: [('cities',)],\n",
            " $city: [('city',)],\n",
            " $class: [('class',)],\n",
            " $cleveland: [('cleveland',)],\n",
            " $colorado: [('colorado',)],\n",
            " $coming: [('coming',)],\n",
            " $connecting: [('connecting',)],\n",
            " $connects: [('connects',)],\n",
            " $cost: [('cost',)],\n",
            " $county: [('county',)],\n",
            " $dallas: [('dallas',)],\n",
            " $day: [('day',)],\n",
            " $dc: [('dc',)],\n",
            " $denver: [('denver',)],\n",
            " $depart: [('depart',)],\n",
            " $departing: [('departing',)],\n",
            " $departs: [('departs',)],\n",
            " $destination: [('destination',)],\n",
            " $diego: [('diego',)],\n",
            " $dollars: [('dollars',)],\n",
            " $earliest: [('earliest',)],\n",
            " $early: [('early',)],\n",
            " $economy: [('economy',)],\n",
            " $eight: [('eight',)],\n",
            " $eighth: [('eighth',)],\n",
            " $either: [('either',)],\n",
            " $evening: [('evening',)],\n",
            " $expensive: [('expensive',)],\n",
            " $express: [('express',)],\n",
            " $fare: [('fare',)],\n",
            " $field: [('field',)],\n",
            " $fifth: [('fifth',)],\n",
            " $first: [('first',)],\n",
            " $five: [('five',)],\n",
            " $florida: [('florida',)],\n",
            " $fly: [('fly',)],\n",
            " $flying: [('flying',)],\n",
            " $fort: [('fort',)],\n",
            " $four: [('four',)],\n",
            " $fourth: [('fourth',)],\n",
            " $francisco: [('francisco',)],\n",
            " $from: [('from',)],\n",
            " $general: [('general',)],\n",
            " $get: [('get',)],\n",
            " $gets: [('gets',)],\n",
            " $go: [('go',)],\n",
            " $goes: [('goes',)],\n",
            " $going: [('going',)],\n",
            " $highest: [('highest',)],\n",
            " $in: [('in',)],\n",
            " $international: [('international',)],\n",
            " $into: [('into',)],\n",
            " $jersey: [('jersey',)],\n",
            " $jose: [('jose',)],\n",
            " $kansas: [('kansas',)],\n",
            " $kennedy: [('kennedy',)],\n",
            " $laguardia: [('laguardia',)],\n",
            " $lake: [('lake',)],\n",
            " $las: [('las',)],\n",
            " $late: [('late',)],\n",
            " $latest: [('latest',)],\n",
            " $layover: [('layover',)],\n",
            " $least: [('least',)],\n",
            " $leave: [('leave',)],\n",
            " $leaves: [('leaves',)],\n",
            " $leaving: [('leaving',)],\n",
            " $less: [('less',)],\n",
            " $logan: [('logan',)],\n",
            " $long: [('long',)],\n",
            " $los: [('los',)],\n",
            " $louis: [('louis',)],\n",
            " $love: [('love',)],\n",
            " $lowest: [('lowest',)],\n",
            " $lunch: [('lunch',)],\n",
            " $make: [('make',)],\n",
            " $makes: [('makes',)],\n",
            " $meal: [('meal',)],\n",
            " $midwest: [('midwest',)],\n",
            " $mitchell: [('mitchell',)],\n",
            " $montreal: [('montreal',)],\n",
            " $morning: [('morning',)],\n",
            " $most: [('most',)],\n",
            " $new: [('new',)],\n",
            " $newark: [('newark',)],\n",
            " $next: [('next',)],\n",
            " $nine: [('nine',)],\n",
            " $ninth: [('ninth',)],\n",
            " $oakland: [('oakland',)],\n",
            " $of: [('of',)],\n",
            " $ohio: [('ohio',)],\n",
            " $on: [('on',)],\n",
            " $one: [('one',)],\n",
            " $or: [('or',)],\n",
            " $originating: [('originating',)],\n",
            " $orlando: [('orlando',)],\n",
            " $out: [('out',)],\n",
            " $over: [('over',)],\n",
            " $paul: [('paul',)],\n",
            " $petersburg: [('petersburg',)],\n",
            " $possible: [('possible',)],\n",
            " $quebec: [('quebec',)],\n",
            " $return: [('return',)],\n",
            " $returning: [('returning',)],\n",
            " $round: [('round',)],\n",
            " $salt: [('salt',)],\n",
            " $san: [('san',)],\n",
            " $second: [('second',)],\n",
            " $seven: [('seven',)],\n",
            " $seventh: [('seventh',)],\n",
            " $six: [('six',)],\n",
            " $sixth: [('sixth',)],\n",
            " $soon: [('soon',)],\n",
            " $st.: [('st.',)],\n",
            " $stop: [('stop',)],\n",
            " $stopover: [('stopover',)],\n",
            " $stopping: [('stopping',)],\n",
            " $stops: [('stops',)],\n",
            " $tacoma: [('tacoma',)],\n",
            " $than: [('than',)],\n",
            " $that: [('that',)],\n",
            " $the: [('the',)],\n",
            " $then: [('then',)],\n",
            " $thereafter: [('thereafter',)],\n",
            " $third: [('third',)],\n",
            " $thirty: [('thirty',)],\n",
            " $this: [('this',)],\n",
            " $three: [('three',)],\n",
            " $thrift: [('thrift',)],\n",
            " $through: [('through',)],\n",
            " $time: [('time',)],\n",
            " $to: [('to',)],\n",
            " $tomorrow: [('tomorrow',)],\n",
            " $trans: [('trans',)],\n",
            " $trip: [('trip',)],\n",
            " $twenty: [('twenty',)],\n",
            " $two: [('two',)],\n",
            " $various: [('various',)],\n",
            " $vegas: [('vegas',)],\n",
            " $washington: [('washington',)],\n",
            " $way: [('way',)],\n",
            " $week: [('week',)],\n",
            " $westchester: [('westchester',)],\n",
            " $which: [('which',)],\n",
            " $will: [('will',)],\n",
            " $with: [('with',)],\n",
            " $world: [('world',)],\n",
            " $worth: [('worth',)],\n",
            " $york: [('york',)],\n",
            " ADJ: [($various, $cities)],\n",
            " ADJ_AIRLINE: [($trans, $world)],\n",
            " ADJ_CLASS: [('possible',)],\n",
            " ADJ_DATE: [('weekday',)],\n",
            " ADJ_FLIGHTTYPE: [('connecting',)],\n",
            " ADJ_FLIGHTTYPESIMPLE: [('connecting',)],\n",
            " ADJ_FLIGHTTYPE|<@and-ADJ_FLIGHTTYPE>: [($and, ADJ_FLIGHTTYPE)],\n",
            " ADJ_FLIGHTTYPE|<@or-ADJ_FLIGHTTYPE>: [($or, ADJ_FLIGHTTYPE)],\n",
            " ADJ_FOOD: [($a, $meal)],\n",
            " ADJ_PLACE: [($various, $cities)],\n",
            " ADJ_PRICE: [($most, $expensive)],\n",
            " ADJ_TIME: [('afternoon',)],\n",
            " DET: [(TERM_WEEKDAY, $'s)],\n",
            " DET|<@of-@the>: [($of, $the)],\n",
            " NOM_FLIGHT: [($to, $fly)],\n",
            " NP_DATE: [($either,\n",
            "            NP_MDYDATE|<@the-TERM_DAY-@of-TERM_MONTH-@or-@the-TERM_DAY-@of-TERM_MONTH>)],\n",
            " NP_DATE|<@after-@tomorrow>: [($after, $tomorrow)],\n",
            " NP_DATE|<@day-@after-@tomorrow>: [($day, NP_DATE|<@after-@tomorrow>)],\n",
            " NP_FLIGHT: [($to, $fly)],\n",
            " NP_FOOD: [($a, $meal)],\n",
            " NP_MDYDATE: [($either,\n",
            "               NP_MDYDATE|<@the-TERM_DAY-@of-TERM_MONTH-@or-@the-TERM_DAY-@of-TERM_MONTH>)],\n",
            " NP_MDYDATE|<@day-@of-TERM_MONTH>: [($day, NP_MDYDATE|<@of-TERM_MONTH>)],\n",
            " NP_MDYDATE|<@of-TERM_MONTH-@or-@the-@day-@of-TERM_MONTH>: [($of,\n",
            "                                                             NP_MDYDATE|<TERM_MONTH-@or-@the-@day-@of-TERM_MONTH>)],\n",
            " NP_MDYDATE|<@of-TERM_MONTH-@or-@the-TERM_DAY-@of-TERM_MONTH>: [($of,\n",
            "                                                                 NP_MDYDATE|<TERM_MONTH-@or-@the-TERM_DAY-@of-TERM_MONTH>)],\n",
            " NP_MDYDATE|<@of-TERM_MONTH>: [($of, TERM_MONTH)],\n",
            " NP_MDYDATE|<@or-@the-@day-@of-TERM_MONTH>: [($or,\n",
            "                                              NP_MDYDATE|<@the-@day-@of-TERM_MONTH>)],\n",
            " NP_MDYDATE|<@or-@the-TERM_DAY-@of-TERM_MONTH>: [($or,\n",
            "                                                  NP_MDYDATE|<@the-TERM_DAY-@of-TERM_MONTH>)],\n",
            " NP_MDYDATE|<@or-@the-TERM_DAY>: [($or, NP_MDYDATE|<@the-TERM_DAY>)],\n",
            " NP_MDYDATE|<@or-TERM_DAY>: [($or, TERM_DAY)],\n",
            " NP_MDYDATE|<@the-@day-@of-TERM_MONTH>: [($the,\n",
            "                                          NP_MDYDATE|<@day-@of-TERM_MONTH>)],\n",
            " NP_MDYDATE|<@the-TERM_DAY-@of-TERM_MONTH-@or-@the-TERM_DAY-@of-TERM_MONTH>: [($the,\n",
            "                                                                               NP_MDYDATE|<TERM_DAY-@of-TERM_MONTH-@or-@the-TERM_DAY-@of-TERM_MONTH>)],\n",
            " NP_MDYDATE|<@the-TERM_DAY-@of-TERM_MONTH>: [($the,\n",
            "                                              NP_MDYDATE|<TERM_DAY-@of-TERM_MONTH>)],\n",
            " NP_MDYDATE|<@the-TERM_DAY-@or-@the-TERM_DAY-@of-TERM_MONTH>: [($the,\n",
            "                                                                NP_MDYDATE|<TERM_DAY-@or-@the-TERM_DAY-@of-TERM_MONTH>)],\n",
            " NP_MDYDATE|<@the-TERM_DAY-@or-@the-TERM_DAY>: [($the,\n",
            "                                                 NP_MDYDATE|<TERM_DAY-@or-@the-TERM_DAY>)],\n",
            " NP_MDYDATE|<@the-TERM_DAY>: [($the, TERM_DAY)],\n",
            " NP_MDYDATE|<TERM_DAY-@of-TERM_MONTH-@or-@the-@day-@of-TERM_MONTH>: [(TERM_DAY,\n",
            "                                                                      NP_MDYDATE|<@of-TERM_MONTH-@or-@the-@day-@of-TERM_MONTH>)],\n",
            " NP_MDYDATE|<TERM_DAY-@of-TERM_MONTH-@or-@the-TERM_DAY-@of-TERM_MONTH>: [(TERM_DAY,\n",
            "                                                                          NP_MDYDATE|<@of-TERM_MONTH-@or-@the-TERM_DAY-@of-TERM_MONTH>)],\n",
            " NP_MDYDATE|<TERM_DAY-@of-TERM_MONTH>: [(TERM_DAY,\n",
            "                                         NP_MDYDATE|<@of-TERM_MONTH>)],\n",
            " NP_MDYDATE|<TERM_DAY-@or-@the-TERM_DAY-@of-TERM_MONTH>: [(TERM_DAY,\n",
            "                                                           NP_MDYDATE|<@or-@the-TERM_DAY-@of-TERM_MONTH>)],\n",
            " NP_MDYDATE|<TERM_DAY-@or-@the-TERM_DAY>: [(TERM_DAY,\n",
            "                                            NP_MDYDATE|<@or-@the-TERM_DAY>)],\n",
            " NP_MDYDATE|<TERM_DAY-@or-TERM_DAY>: [(TERM_DAY, NP_MDYDATE|<@or-TERM_DAY>)],\n",
            " NP_MDYDATE|<TERM_DAY-YEAR>: [(TERM_DAY, YEAR)],\n",
            " NP_MDYDATE|<TERM_MONTH-@or-@the-@day-@of-TERM_MONTH>: [(TERM_MONTH,\n",
            "                                                         NP_MDYDATE|<@or-@the-@day-@of-TERM_MONTH>)],\n",
            " NP_MDYDATE|<TERM_MONTH-@or-@the-TERM_DAY-@of-TERM_MONTH>: [(TERM_MONTH,\n",
            "                                                             NP_MDYDATE|<@or-@the-TERM_DAY-@of-TERM_MONTH>)],\n",
            " NP_MDYDATE|<TERM_MONTH-TERM_DAY-@or-TERM_DAY>: [(TERM_MONTH,\n",
            "                                                  NP_MDYDATE|<TERM_DAY-@or-TERM_DAY>)],\n",
            " NP_TIME: [(TERM_TIME, TERM_TIMEMOD)],\n",
            " NP_TIME|<@as-@possible>: [($as, $possible)],\n",
            " NP_TIME|<@early-@am>: [($early, $am)],\n",
            " NP_TIME|<@early-@as-@possible>: [($early, NP_TIME|<@as-@possible>)],\n",
            " NP_TIME|<@late-@afternoon>: [($late, $afternoon)],\n",
            " NP_TIME|<@possible-@time>: [($possible, $time)],\n",
            " NP_TIME|<@soon-@thereafter-@as-@possible>: [($soon,\n",
            "                                              NP_TIME|<@thereafter-@as-@possible>)],\n",
            " NP_TIME|<@thereafter-@as-@possible>: [($thereafter, NP_TIME|<@as-@possible>)],\n",
            " N_FLIGHT: [($to, $fly)],\n",
            " POSTIGNORE: [('?',)],\n",
            " POSTIGNORESYMBOL: [('?',)],\n",
            " PP: [($either,\n",
            "       NP_MDYDATE|<@the-TERM_DAY-@of-TERM_MONTH-@or-@the-TERM_DAY-@of-TERM_MONTH>)],\n",
            " PP_AIRLINE: [($on, PP_AIRLINE|<TERM_AIRBRAND-TERM_AIRBRANDTYPE>)],\n",
            " PP_AIRLINE|<TERM_AIRBRAND-TERM_AIRBRANDTYPE>: [(TERM_AIRBRAND,\n",
            "                                                 TERM_AIRBRANDTYPE)],\n",
            " PP_CLASS: [('possible',)],\n",
            " PP_DATE: [($either,\n",
            "            NP_MDYDATE|<@the-TERM_DAY-@of-TERM_MONTH-@or-@the-TERM_DAY-@of-TERM_MONTH>)],\n",
            " PP_FOOD: [(P_FOOD, NP_FOOD)],\n",
            " PP_PLACE: [($between, PP_PLACE|<ADJ_PLACE-@and-ADJ_PLACE>)],\n",
            " PP_PLACE|<@and-ADJ_PLACE>: [($and, ADJ_PLACE)],\n",
            " PP_PLACE|<ADJ_PLACE-@and-ADJ_PLACE>: [(ADJ_PLACE, PP_PLACE|<@and-ADJ_PLACE>)],\n",
            " PP_PRICE: [($with, PP_PRICE|<@the-@highest-@fare>)],\n",
            " PP_PRICE|<@cheapest-@way-@possible>: [($cheapest, PP_PRICE|<@way-@possible>)],\n",
            " PP_PRICE|<@highest-@fare>: [($highest, $fare)],\n",
            " PP_PRICE|<@lowest-@fare>: [($lowest, $fare)],\n",
            " PP_PRICE|<@than-AMOUNT-@dollars>: [($than, PP_PRICE|<AMOUNT-@dollars>)],\n",
            " PP_PRICE|<@the-@highest-@fare>: [($the, PP_PRICE|<@highest-@fare>)],\n",
            " PP_PRICE|<@the-@lowest-@fare>: [($the, PP_PRICE|<@lowest-@fare>)],\n",
            " PP_PRICE|<@way-@possible>: [($way, $possible)],\n",
            " PP_PRICE|<AMOUNT-@dollars>: [(AMOUNT, $dollars)],\n",
            " PP_TIME: [(P_TIME, NP_TIME)],\n",
            " PREIGNORE: [('display',)],\n",
            " PREIGNORESYMBOL: [('display',)],\n",
            " P_DATE: [($a, P_DATE|<@week-@from>)],\n",
            " P_DATE|<@arrive-@on>: [($arrive, $on)],\n",
            " P_DATE|<@the-@next>: [($the, $next)],\n",
            " P_DATE|<@week-@from>: [($week, $from)],\n",
            " P_FOOD: [('with',)],\n",
            " P_PLACE: [($arriving, P_PLACE|<@and-@departing-@at>)],\n",
            " P_PLACE|<@a-@layover-@in>: [($a, P_PLACE|<@layover-@in>)],\n",
            " P_PLACE|<@a-@stop-@in>: [($a, P_PLACE|<@stop-@in>)],\n",
            " P_PLACE|<@a-@stopover-@at>: [($a, P_PLACE|<@stopover-@at>)],\n",
            " P_PLACE|<@a-@stopover-@in>: [($a, P_PLACE|<@stopover-@in>)],\n",
            " P_PLACE|<@and-@departing-@at>: [($and, P_PLACE|<@departing-@at>)],\n",
            " P_PLACE|<@arrive-@at>: [($arrive, $at)],\n",
            " P_PLACE|<@arrive-@in>: [($arrive, $in)],\n",
            " P_PLACE|<@arrives-@in>: [($arrives, $in)],\n",
            " P_PLACE|<@arriving-@in>: [($arriving, $in)],\n",
            " P_PLACE|<@back-@to>: [($back, $to)],\n",
            " P_PLACE|<@city-@of>: [($city, $of)],\n",
            " P_PLACE|<@connects-@in>: [($connects, $in)],\n",
            " P_PLACE|<@departing-@at>: [($departing, $at)],\n",
            " P_PLACE|<@destination-@city-@of>: [($destination, P_PLACE|<@city-@of>)],\n",
            " P_PLACE|<@get-@from>: [($get, $from)],\n",
            " P_PLACE|<@go-@through>: [($go, $through)],\n",
            " P_PLACE|<@go-@to>: [($go, $to)],\n",
            " P_PLACE|<@goes-@from>: [($goes, $from)],\n",
            " P_PLACE|<@layover-@in>: [($layover, $in)],\n",
            " P_PLACE|<@leaves-@from>: [($leaves, $from)],\n",
            " P_PLACE|<@on-@to>: [($on, $to)],\n",
            " P_PLACE|<@one-@stop-@in>: [($one, P_PLACE|<@stop-@in>)],\n",
            " P_PLACE|<@over-@in>: [($over, $in)],\n",
            " P_PLACE|<@stop-@in>: [($stop, $in)],\n",
            " P_PLACE|<@stopover-@at>: [($stopover, $at)],\n",
            " P_PLACE|<@stopover-@in>: [($stopover, $in)],\n",
            " P_PLACE|<@stops-@in>: [($stops, $in)],\n",
            " P_PLACE|<@stops-@over-@in>: [($stops, P_PLACE|<@over-@in>)],\n",
            " P_PLACE|<@the-@destination-@city-@of>: [($the,\n",
            "                                          P_PLACE|<@destination-@city-@of>)],\n",
            " P_PLACE|<@then-@to>: [($then, $to)],\n",
            " P_PLACE|<@way-@of>: [($way, $of)],\n",
            " P_PLACE|<@will-@stop-@in>: [($will, P_PLACE|<@stop-@in>)],\n",
            " P_TIME: [($that, P_TIME|<@leaves-@in>)],\n",
            " P_TIME|<@arrive-@before>: [($arrive, $before)],\n",
            " P_TIME|<@arrive-@soon-@after>: [($arrive, P_TIME|<@soon-@after>)],\n",
            " P_TIME|<@arrives-@after>: [($arrives, $after)],\n",
            " P_TIME|<@arrives-@before>: [($arrives, $before)],\n",
            " P_TIME|<@depart-@after>: [($depart, $after)],\n",
            " P_TIME|<@gets-@in-@around>: [($gets, P_TIME|<@in-@around>)],\n",
            " P_TIME|<@in-@around>: [($in, $around)],\n",
            " P_TIME|<@leave-@after>: [($leave, $after)],\n",
            " P_TIME|<@leaves-@at>: [($leaves, $at)],\n",
            " P_TIME|<@leaves-@before>: [($leaves, $before)],\n",
            " P_TIME|<@leaves-@in>: [($leaves, $in)],\n",
            " P_TIME|<@return-@around>: [($return, $around)],\n",
            " P_TIME|<@soon-@after>: [($soon, $after)],\n",
            " S: [($to, $fly)],\n",
            " S|<NP_FLIGHT-POSTIGNORE>: [(NP_FLIGHT, POSTIGNORE)],\n",
            " TERM_AIRBRAND: [($trans, $world)],\n",
            " TERM_AIRBRANDTYPE: [('air',)],\n",
            " TERM_AIRPORT: [($love, $field)],\n",
            " TERM_AIRPORT|<@mitchell-@international>: [($mitchell, $international)],\n",
            " TERM_DAY: [($thirty, $one)],\n",
            " TERM_FLIGHT: [($to, $fly)],\n",
            " TERM_MONTH: [('december',)],\n",
            " TERM_PLACE: [($various, $cities)],\n",
            " TERM_PLACE|<@diego-@california>: [($diego, $california)],\n",
            " TERM_PLACE|<@fort-@worth>: [($fort, $worth)],\n",
            " TERM_PLACE|<@lake-@city>: [($lake, $city)],\n",
            " TERM_PLACE|<@new-@jersey>: [($new, $jersey)],\n",
            " TERM_PLACE|<@york-@city>: [($york, $city)],\n",
            " TERM_TIME: [(TERM_TIME, TERM_TIMEMOD)],\n",
            " TERM_TIMEMOD: [('midnight',)],\n",
            " TERM_WEEKDAY: [('weekday',)],\n",
            " TERM_YEAR: [('1992',)]}\n"
          ]
        }
      ]
    },
    {
      "cell_type": "code",
      "execution_count": 65,
      "id": "355a3d12",
      "metadata": {
        "id": "355a3d12"
      },
      "outputs": [],
      "source": [
        "## TODO – Implement a CKY recognizer\n",
        "def create_cky_table(grammar, tokens):\n",
        "  assert(grammar.is_chomsky_normal_form())\n",
        "  N = len(tokens) + 1\n",
        "  table = [[None]*N] * N\n",
        "  grammar_prod = grammar.productions()\n",
        "  terminal_ruls = [prod for prod in grammar.productions() if len(prod.rhs())==1]\n",
        "\n",
        "  for token_idx, token in enumerate(tokens, start=1): # each end string position\n",
        "    table[token_idx-1][token_idx] = set()\n",
        "    \"\"\"\n",
        "    # handle rules of the form A -> w\n",
        "    for all A where A --> wj in grammar:\n",
        "               add A to T[j-1, j]\n",
        "    \"\"\"\n",
        "    for prod in terminal_ruls:\n",
        "      if token in prod.rhs()[0]:\n",
        "        table[token_idx-1][token_idx].add(prod.lhs())\n",
        "\n",
        "    \"\"\"\n",
        "    # handle rules of the form A -> B C\n",
        "    \"\"\"\n",
        "    for start in range(token_idx-2, -1, -1):\n",
        "      for split in range(start+1, token_idx):\n",
        "        for prod in grammar_prod:\n",
        "          right = prod.rhs()\n",
        "          if len(right) >= 2 and right[0] in table[start][split] and right [1] in table[split][token_idx]:\n",
        "            table[start][token_idx].add(prod.lhs())\n",
        "\n",
        "  return table\n",
        "\n",
        "def cky_recognize(grammar, tokens):\n",
        "  \"\"\"Returns True if and only if the list of tokens `tokens` is admitted\n",
        "  by the `grammar`.\n",
        "\n",
        "  Implements the CKY algorithm, and therefore assumes `grammar` is in\n",
        "  Chomsky normal form.\n",
        "  \"\"\"\n",
        "  assert(grammar.is_chomsky_normal_form())\n",
        "  N = len(tokens) + 1\n",
        "  table = create_cky_table(grammar, tokens)\n",
        "\n",
        "  return grammar.start() in table[0][N-1]"
      ]
    },
    {
      "cell_type": "markdown",
      "id": "8bc8eae7",
      "metadata": {
        "id": "8bc8eae7"
      },
      "source": [
        "You can test your recognizer on a few examples, both grammatical and ungrammatical, as below."
      ]
    },
    {
      "cell_type": "code",
      "execution_count": 66,
      "id": "3bd2ab73",
      "metadata": {
        "id": "3bd2ab73",
        "colab": {
          "base_uri": "https://localhost:8080/",
          "height": 0
        },
        "outputId": "7182c63d-ff29-487e-8f63-a93832f427c5"
      },
      "outputs": [
        {
          "output_type": "stream",
          "name": "stdout",
          "text": [
            "+    show me flights from boston\n",
            "+    show me united flights before noon\n",
            "+    are there any twa flights available tomorrow\n",
            "-    show me flights united are there any\n"
          ]
        }
      ],
      "source": [
        "test_sentences = [\"show me flights from boston\",\n",
        "                  \"show me united flights before noon\",\n",
        "                  \"are there any twa flights available tomorrow\",\n",
        "                  \"show me flights united are there any\"]\n",
        "\n",
        "for sentence in test_sentences:\n",
        "  recognized = \"+\" if cky_recognize(atis_grammar_cnf, tokenize(sentence)) else \"-\"\n",
        "  print(f\"{recognized:5}{sentence}\")"
      ]
    },
    {
      "cell_type": "markdown",
      "id": "a891d62b",
      "metadata": {
        "id": "a891d62b"
      },
      "source": [
        "You can also verify that the CKY recognizer verifies the same coverage as the NLTK parser."
      ]
    },
    {
      "cell_type": "code",
      "execution_count": 67,
      "id": "7699ae84",
      "metadata": {
        "id": "7699ae84",
        "colab": {
          "base_uri": "https://localhost:8080/",
          "height": 0
        },
        "outputId": "7265679b-4dbf-47f8-db70-66cb79da7ef5"
      },
      "outputs": [
        {
          "output_type": "stream",
          "name": "stderr",
          "text": [
            "100%|██████████| 50/50 [00:11<00:00,  4.19it/s]\n"
          ]
        },
        {
          "output_type": "execute_result",
          "data": {
            "text/plain": [
              "0.72"
            ]
          },
          "metadata": {},
          "execution_count": 67
        }
      ],
      "source": [
        "coverage(lambda sent: cky_recognize(atis_grammar_cnf, sent),\n",
        "         training_corpus, n=50)"
      ]
    },
    {
      "cell_type": "markdown",
      "id": "368edfb3",
      "metadata": {
        "id": "368edfb3"
      },
      "source": [
        "## Part 3: Implement a CKY parser\n",
        "\n",
        "In part 2, you implemented a context-free grammar recognizer. Next, you'll implement a _parser_.\n",
        "\n",
        "Implement the CKY algorithm for parsing with CFGs as a function `cky_parse`, which takes a grammar and a list of tokens and returns a single parse of the tokens as specified by the grammar, or `None` if there are no parses. You should only need to add a few lines of code to your CKY recognizer to achieve this, to implement the necessary back-pointers. The function should return an NLTK tree, which can be constructed using `Tree.fromstring`.\n",
        "\n",
        "A tree string will be like this example:\n",
        "\n",
        "```\n",
        "\"(S (A B) (C (D E) (F G)))\"\n",
        "```\n",
        "\n",
        "which corresponds to the following tree (drawn using tree.pretty_print()):\n",
        "```\n",
        "     S         \n",
        "  ___|___       \n",
        " |       C     \n",
        " |    ___|___   \n",
        " A   D       F\n",
        " |   |       |  \n",
        " B   E       G\n",
        "```\n",
        "\n",
        "> **Hint:** You may want to extract from a `Nonterminal` its corresponding string. The `Nonterminal.__str__` method or f-string `f'{Nonterminal}'` accomplishes this."
      ]
    },
    {
      "cell_type": "code",
      "execution_count": 68,
      "id": "7a7ce8e8",
      "metadata": {
        "id": "7a7ce8e8"
      },
      "outputs": [],
      "source": [
        "## TODO -- Implement a CKY parser\n",
        "def recursive_tree_string(back_T,i,j,A):\n",
        "  stringListB = stringListC = []\n",
        "  if(i == (j-1)):\n",
        "    return [f'({s})' for s in back_T[i][j][A]]\n",
        "  stringList=[]\n",
        "\n",
        "  # stringlist = [f'({A} {recursive_tree_string(back_T,i,split,B)} {recursive_tree_string(back_T,split,j,C)})' for zip(split,B,C) in back_T[i][j][A]]\n",
        "  for (split,B,C) in back_T[i][j][A]:\n",
        "      stringListB=recursive_tree_string(back_T,i,split,B)\n",
        "      stringListC=recursive_tree_string(back_T,split,j,C)\n",
        "  for stringB in stringListB:\n",
        "      for stringC in stringListC:\n",
        "          stringList.append(f'({A} {stringB} {stringC})')\n",
        "  return stringList\n",
        "\n",
        "def cky_parse(grammar, tokens):\n",
        "  \"\"\"Returns an NLTK parse tree of the list of tokens `tokens` as\n",
        "  specified by the `grammar`. If there are multiple valid parses,\n",
        "  return any one of them.\n",
        "\n",
        "  Returns None if `tokens` is not parsable.\n",
        "  Implements the CKY algorithm, and therefore assumes `grammar` is in\n",
        "  Chomsky normal form.\n",
        "  \"\"\"\n",
        "  assert(grammar.is_chomsky_normal_form())\n",
        "\n",
        "  tokens_= tokens.copy()\n",
        "  tokens_.insert(0,'')\n",
        "  N = len(tokens_)\n",
        "  table = [[set() for _ in range(N)] for _ in range(N)]\n",
        "  back_T = [[defaultdict(set) for _ in range(N)] for _ in range(N)]  # added\n",
        "\n",
        "  terminal_prod = [prod for prod in grammar.productions() if len(prod.rhs()) == 1]\n",
        "\n",
        "  for token_idx, token in enumerate(tokens_, start=0): # each end string position\n",
        "      for prod in terminal_prod:\n",
        "        if token in prod.rhs():\n",
        "          table[token_idx-1][token_idx].add(str(prod.lhs()))\n",
        "          back_T[token_idx-1][token_idx][str(prod.lhs())].add(str(prod.lhs()) + ' ' + token)   # added\n",
        "\n",
        "      for start in range(token_idx-2, -1, -1):\n",
        "          for split in range(start+1,token_idx):\n",
        "            \"\"\"\n",
        "            A = str(prod.lhs())\n",
        "            B = str(prod.rhs()[0])\n",
        "            C = str(prod.rhs()[1])\n",
        "            \"\"\"\n",
        "            for prod in grammar.productions():\n",
        "                if((len(prod.rhs())>=2) and (str(prod.rhs()[0]) in table[start][split]) and (str(prod.rhs()[1]) in table[split][token_idx]) ):\n",
        "                    table[start][token_idx].add(str(prod.lhs()))\n",
        "                    back_T[start][token_idx][str(prod.lhs())].add((split,str(prod.rhs()[0]),str(prod.rhs()[1])))   # added\n",
        "\n",
        "  if str(grammar.start()) in table[0][N-1]:\n",
        "      tree_strings = recursive_tree_string(back_T,0,N-1,str(grammar.start()))\n",
        "      return nltk.Tree.fromstring(tree_strings[0])\n",
        "  else:\n",
        "      return None"
      ]
    },
    {
      "cell_type": "markdown",
      "id": "616a8a4a",
      "metadata": {
        "id": "616a8a4a"
      },
      "source": [
        "You can test your code on the test sentences provided above:"
      ]
    },
    {
      "cell_type": "code",
      "execution_count": 69,
      "id": "fa736151",
      "metadata": {
        "id": "fa736151",
        "colab": {
          "base_uri": "https://localhost:8080/",
          "height": 0
        },
        "outputId": "3b5f9e4e-8cf5-4541-9f45-f6c500cdfec3"
      },
      "outputs": [
        {
          "output_type": "stream",
          "name": "stdout",
          "text": [
            "                                               S                                    \n",
            "                     __________________________|__________                           \n",
            "                    |                                 NP_FLIGHT                     \n",
            "                    |                                     |                          \n",
            "                    |                                 NOM_FLIGHT                    \n",
            "                    |                                     |                          \n",
            "                    |                                  N_FLIGHT                     \n",
            "                    |                           __________|_________                 \n",
            "                    |                          |                    PP              \n",
            "                    |                          |                    |                \n",
            "                PREIGNORE                      |                 PP_PLACE           \n",
            "        ____________|____________              |           _________|_________       \n",
            "       |                     PREIGNORE      N_FLIGHT      |               ADJ_PLACE \n",
            "       |                         |             |          |                   |      \n",
            "PREIGNORESYMBOL           PREIGNORESYMBOL TERM_FLIGHT  P_PLACE            TERM_PLACE\n",
            "       |                         |             |          |                   |      \n",
            "      show                       me         flights      from               boston  \n",
            "\n",
            "                                                S                                                          \n",
            "                     ___________________________|_______________________                                    \n",
            "                    |                                               NP_FLIGHT                              \n",
            "                    |                                                   |                                   \n",
            "                    |                                               NOM_FLIGHT                             \n",
            "                    |                            _______________________|__________                         \n",
            "                    |                           |                              NOM_FLIGHT                  \n",
            "                    |                           |                                  |                        \n",
            "                    |                           |                               N_FLIGHT                   \n",
            "                    |                           |             _____________________|_________               \n",
            "                    |                           |            |                               PP            \n",
            "                    |                           |            |                               |              \n",
            "                PREIGNORE                      ADJ           |                            PP_TIME          \n",
            "        ____________|____________               |            |                      _________|________      \n",
            "       |                     PREIGNORE     ADJ_AIRLINE    N_FLIGHT                 |               NP_TIME \n",
            "       |                         |              |            |                     |                  |     \n",
            "PREIGNORESYMBOL           PREIGNORESYMBOL TERM_AIRBRAND TERM_FLIGHT              P_TIME           TERM_TIME\n",
            "       |                         |              |            |                     |                  |     \n",
            "      show                       me           united      flights                before              noon  \n",
            "\n",
            "                                                    S                                                 \n",
            "                     _______________________________|____________                                      \n",
            "                    |                                        NP_FLIGHT                                \n",
            "                    |                       _____________________|__________                           \n",
            "                    |                      |                            NOM_FLIGHT                    \n",
            "                    |                      |         _______________________|__________                \n",
            "                    |                      |        |                              NOM_FLIGHT         \n",
            "                    |                      |        |                                  |               \n",
            "                    |                      |        |                               N_FLIGHT          \n",
            "                    |                      |        |                        __________|_________      \n",
            "                    |                      |        |                    N_FLIGHT                |    \n",
            "                    |                      |        |             __________|__________          |     \n",
            "                PREIGNORE                  |       ADJ           |                     PP        PP   \n",
            "        ____________|____________          |        |            |                     |         |     \n",
            "       |                     PREIGNORE     |   ADJ_AIRLINE    N_FLIGHT              PP_CLASS  PP_DATE \n",
            "       |                         |         |        |            |                     |         |     \n",
            "PREIGNORESYMBOL           PREIGNORESYMBOL DET TERM_AIRBRAND TERM_FLIGHT            ADJ_CLASS  NP_DATE \n",
            "       |                         |         |        |            |                     |         |     \n",
            "      are                      there      any      twa        flights              available  tomorrow\n",
            "\n",
            "failed to parse: show me flights united are there any\n"
          ]
        }
      ],
      "source": [
        "for sentence in test_sentences:\n",
        "  tree = cky_parse(atis_grammar_cnf, tokenize(sentence))\n",
        "  if not tree:\n",
        "    print(f\"failed to parse: {sentence}\")\n",
        "  else:\n",
        "    xform.un_cnf(tree, atis_grammar_wunaries)\n",
        "    tree.pretty_print()"
      ]
    },
    {
      "cell_type": "markdown",
      "id": "e0abb984",
      "metadata": {
        "id": "e0abb984"
      },
      "source": [
        "You can also compare against the built-in NLTK parser that we constructed above:"
      ]
    },
    {
      "cell_type": "code",
      "execution_count": 70,
      "id": "33bd5285",
      "metadata": {
        "id": "33bd5285",
        "colab": {
          "base_uri": "https://localhost:8080/",
          "height": 0
        },
        "outputId": "b82cceb9-4e5e-49e5-c69a-b6db0f4c38cc"
      },
      "outputs": [
        {
          "output_type": "stream",
          "name": "stdout",
          "text": [
            "Reference parses:\n",
            "(S\n",
            "  (PREIGNORE (PREIGNORESYMBOL show) (PREIGNORE (PREIGNORESYMBOL me)))\n",
            "  (NP_FLIGHT\n",
            "    (NOM_FLIGHT\n",
            "      (N_FLIGHT\n",
            "        (N_FLIGHT (TERM_FLIGHT flights))\n",
            "        (PP\n",
            "          (PP_PLACE (P_PLACE from) (ADJ_PLACE (TERM_PLACE boston))))))))\n",
            "\n",
            "Predicted parse:\n",
            "(S\n",
            "  (PREIGNORE (PREIGNORESYMBOL show) (PREIGNORE (PREIGNORESYMBOL me)))\n",
            "  (NP_FLIGHT\n",
            "    (NOM_FLIGHT\n",
            "      (N_FLIGHT\n",
            "        (N_FLIGHT (TERM_FLIGHT flights))\n",
            "        (PP\n",
            "          (PP_PLACE (P_PLACE from) (ADJ_PLACE (TERM_PLACE boston))))))))\n",
            "\n",
            "SUCCESS!\n",
            "Reference parses:\n",
            "(S\n",
            "  (PREIGNORE (PREIGNORESYMBOL show) (PREIGNORE (PREIGNORESYMBOL me)))\n",
            "  (NP_FLIGHT\n",
            "    (NOM_FLIGHT\n",
            "      (ADJ (ADJ_AIRLINE (TERM_AIRBRAND united)))\n",
            "      (NOM_FLIGHT\n",
            "        (N_FLIGHT\n",
            "          (N_FLIGHT (TERM_FLIGHT flights))\n",
            "          (PP (PP_TIME (P_TIME before) (NP_TIME (TERM_TIME noon)))))))))\n",
            "\n",
            "Predicted parse:\n",
            "(S\n",
            "  (PREIGNORE (PREIGNORESYMBOL show) (PREIGNORE (PREIGNORESYMBOL me)))\n",
            "  (NP_FLIGHT\n",
            "    (NOM_FLIGHT\n",
            "      (ADJ (ADJ_AIRLINE (TERM_AIRBRAND united)))\n",
            "      (NOM_FLIGHT\n",
            "        (N_FLIGHT\n",
            "          (N_FLIGHT (TERM_FLIGHT flights))\n",
            "          (PP (PP_TIME (P_TIME before) (NP_TIME (TERM_TIME noon)))))))))\n",
            "\n",
            "SUCCESS!\n",
            "Reference parses:\n",
            "(S\n",
            "  (PREIGNORE\n",
            "    (PREIGNORESYMBOL are)\n",
            "    (PREIGNORE (PREIGNORESYMBOL there)))\n",
            "  (NP_FLIGHT\n",
            "    (DET any)\n",
            "    (NOM_FLIGHT\n",
            "      (ADJ (ADJ_AIRLINE (TERM_AIRBRAND twa)))\n",
            "      (NOM_FLIGHT\n",
            "        (N_FLIGHT\n",
            "          (N_FLIGHT\n",
            "            (N_FLIGHT (TERM_FLIGHT flights))\n",
            "            (PP (PP_CLASS (ADJ_CLASS available))))\n",
            "          (PP (PP_DATE (NP_DATE tomorrow))))))))\n",
            "\n",
            "Predicted parse:\n",
            "(S\n",
            "  (PREIGNORE\n",
            "    (PREIGNORESYMBOL are)\n",
            "    (PREIGNORE (PREIGNORESYMBOL there)))\n",
            "  (NP_FLIGHT\n",
            "    (DET any)\n",
            "    (NOM_FLIGHT\n",
            "      (ADJ (ADJ_AIRLINE (TERM_AIRBRAND twa)))\n",
            "      (NOM_FLIGHT\n",
            "        (N_FLIGHT\n",
            "          (N_FLIGHT\n",
            "            (N_FLIGHT (TERM_FLIGHT flights))\n",
            "            (PP (PP_CLASS (ADJ_CLASS available))))\n",
            "          (PP (PP_DATE (NP_DATE tomorrow))))))))\n",
            "\n",
            "SUCCESS!\n",
            "Reference parses:\n",
            "\n",
            "Predicted parse:\n",
            "None\n",
            "\n",
            "SUCCESS!\n"
          ]
        }
      ],
      "source": [
        "for sentence in test_sentences:\n",
        "  refparses = [p for p in atis_parser_expanded.parse(tokenize(sentence))]\n",
        "  predparse = cky_parse(atis_grammar_cnf, tokenize(sentence))\n",
        "  if predparse:\n",
        "    xform.un_cnf(predparse, atis_grammar_wunaries)\n",
        "\n",
        "  print('Reference parses:')\n",
        "  for reftree in refparses:\n",
        "    print(reftree)\n",
        "\n",
        "  print('\\nPredicted parse:')\n",
        "  print(predparse)\n",
        "\n",
        "  if (not predparse and len(refparses) == 0) or predparse in refparses:\n",
        "    print(\"\\nSUCCESS!\")\n",
        "  else:\n",
        "    print(\"\\nOops. No match.\")"
      ]
    },
    {
      "cell_type": "markdown",
      "id": "754ec97a",
      "metadata": {
        "id": "754ec97a"
      },
      "source": [
        "Again, we test the coverage as a way of verifying that your parser works consistently with the recognizer and the NLTK parser."
      ]
    },
    {
      "cell_type": "code",
      "execution_count": 71,
      "id": "865a10a8",
      "metadata": {
        "id": "865a10a8",
        "colab": {
          "base_uri": "https://localhost:8080/",
          "height": 0
        },
        "outputId": "b2afdaf4-8798-4d13-9105-9c6c2b981b90"
      },
      "outputs": [
        {
          "output_type": "stream",
          "name": "stderr",
          "text": [
            "100%|██████████| 50/50 [00:14<00:00,  3.35it/s]\n"
          ]
        },
        {
          "output_type": "execute_result",
          "data": {
            "text/plain": [
              "0.5"
            ]
          },
          "metadata": {},
          "execution_count": 71
        }
      ],
      "source": [
        "coverage(lambda sent: cky_parse(atis_grammar_cnf, sent),\n",
        "         training_corpus, n=50)"
      ]
    },
    {
      "cell_type": "markdown",
      "id": "707fd40a",
      "metadata": {
        "id": "707fd40a"
      },
      "source": [
        "# Probabilistic CFG parsing via the CKY algorithm\n",
        "\n",
        "In practice, we want to work with grammars that cover nearly all the language we expect to come across for a given application. This leads to an explosion of rules and a large number of possible parses for any one sentence. To remove ambiguity between the different parses, it's desirable to move to probabilistic context-free grammars (PCFG). In this part of the assignment, you will construct a PCFG from training data, parse using a probabilistic version of CKY, and evaluate the quality of the resulting parses against gold trees.\n",
        "\n",
        "## Part 4: PCFG construction\n",
        "\n",
        "Compared to CFGs, PCFGs need to assign probabilities to grammar rules. For this goal, you'll write a function `pcfg_from_trees` that takes a list of strings describing a corpus of trees and returns an NLTK PCFG trained on that set of trees.\n",
        "\n",
        "> We expect you to implement `pcfg_from_trees` directly. You should **not** use the [`induce_pcfg`](https://www.nltk.org/api/nltk.grammar.html#nltk.grammar.induce_pcfg) function in implementing your solution.\n",
        "\n",
        "We want the PCFG to be in CNF format because the probabilistic version of CKY that you'll implement next also requires the grammar to be in CNF. However, the gold trees are not in CNF form, so in this case you will need to convert the gold *trees* to CNF before building the PCFG from them. To accomplish this, you should use the `treetransforms` package from `nltk`, which includes functions for converting to and from CNF. In particular, you'll want to make use of `treetransforms.collapse_unary` followed by `treetransforms.chomsky_normal_form` to convert a tree to its binarized version. You can then get the counts for all of the productions used in the trees, and then normalize them to probabilities so that the probabilities of all rules with the same left-hand side sum to 1.\n",
        "\n",
        "We'll use the `pcfg_from_trees` function that you define later for parsing.\n",
        "\n",
        "> To convert an `nltk.Tree` object `t` to CNF, you can use the below code. Note that it's different from the `xform` functions we used before as we are converting _trees_, not _grammars_.\n",
        ">\n",
        ">    ```\n",
        ">    treetransforms.collapse_unary(t, collapsePOS=True)\n",
        ">    treetransforms.chomsky_normal_form(t) # After this the tree will be in CNF\n",
        ">    ```\n",
        "\n",
        "> To construct a PCFG with a given start state and set of productions, see [`nltk.grammar.PCFG`](https://www.nltk.org/api/nltk.grammar.html#nltk.grammar.PCFG)."
      ]
    },
    {
      "cell_type": "code",
      "execution_count": 72,
      "id": "0db02aa2",
      "metadata": {
        "id": "0db02aa2"
      },
      "outputs": [],
      "source": [
        "#TODO - Define a function to convert a set of trees to a PCFG in Chomsky normal form.\n",
        "#You are not allowed to use any library functions except\n",
        "#`treetransforms.collapse_unary` and `treetransforms.chomsky_normal_form`,\n",
        "#write the logic by yourself.\n",
        "def pcfg_from_trees(trees, start=Nonterminal('TOP')):\n",
        "  \"\"\"Returns an NLTK PCFG in CNF with rules and counts extracted from a set of trees.\n",
        "\n",
        "  The `trees` argument is a list of strings in the form interpretable by\n",
        "  `Tree.fromstring`. The trees are converted to CNF using NLTK's\n",
        "  `treetransforms.collapse_unary` and `treetransforms.chomsky_normal_form`.\n",
        "\n",
        "  The `start` argument is the start nonterminal symbol of the returned\n",
        "  grammar.\"\"\"\n",
        "\n",
        "  rule_hist = defaultdict(int)\n",
        "  lhs_hist = defaultdict(int)\n",
        "\n",
        "  for tree in trees:\n",
        "    t = nltk.Tree.fromstring(tree)\n",
        "    treetransforms.collapse_unary(t, collapsePOS=True)\n",
        "    treetransforms.chomsky_normal_form(t)\n",
        "    for prod in t.productions():\n",
        "        rule_hist[prod] += 1\n",
        "        lhs_hist[prod.lhs()] += 1\n",
        "\n",
        "  probs = {prod: rule_hist[prod] / lhs_hist[prod.lhs()] for prod in rule_hist.keys()}\n",
        "\n",
        "  prods = [nltk.grammar.ProbabilisticProduction(prod.lhs(), prod.rhs(), prob=probs[prod]) for prod in probs.keys()]\n",
        "\n",
        "  return nltk.grammar.PCFG(nltk.grammar.Nonterminal(start), prods)\n"
      ]
    },
    {
      "cell_type": "markdown",
      "id": "354929a0",
      "metadata": {
        "id": "354929a0"
      },
      "source": [
        "We can now train a PCFG on the *train* split `train.trees` that we downloaded in the setup at the start of the notebook."
      ]
    },
    {
      "cell_type": "code",
      "execution_count": 73,
      "id": "a34def3e",
      "metadata": {
        "id": "a34def3e"
      },
      "outputs": [],
      "source": [
        "with open('data/train.trees') as file:\n",
        "  ## Convert the probabilistic productions to an NLTK probabilistic CFG.\n",
        "  pgrammar = pcfg_from_trees(file.readlines())\n",
        "\n",
        "## Verify that the grammar is in CNF\n",
        "assert(pgrammar.is_chomsky_normal_form())"
      ]
    },
    {
      "cell_type": "markdown",
      "id": "fa4c092b",
      "metadata": {
        "id": "fa4c092b"
      },
      "source": [
        "## Part 5: Probabilistic CKY parsing\n",
        "\n",
        "Finally, we are ready to implement probabilistic CKY parsing under PCFGs. Adapt the CKY parser from Part 3 to return the most likely parse and its **log probability** (base 2) given a PCFG. Note that to avoid underflows we want to work in the log space.\n",
        "> **Hint:** `production.logprob()` will return the log probability of a production rule `production`."
      ]
    },
    {
      "cell_type": "code",
      "execution_count": 74,
      "id": "f3bff00b",
      "metadata": {
        "id": "f3bff00b"
      },
      "outputs": [],
      "source": [
        "## TODO – Implement a CKY parser under PCFGs\n",
        "def pcfg_from_string(back_T,start,end,A):\n",
        "  \"\"\"\n",
        "  changed\n",
        "  \"\"\"\n",
        "  if start == (end-1):\n",
        "    return f'({back_T[start][end][A]})'\n",
        "\n",
        "  (split,B,C) = back_T[start][end][A]\n",
        "  B_str=pcfg_from_string(back_T,start,split,B)\n",
        "  C_str=pcfg_from_string(back_T,split,end,C)\n",
        "\n",
        "  return f'({A} {B_str} {C_str})'\n",
        "\n",
        "def cky_parse_probabilistic(grammar, tokens):\n",
        "  \"\"\"Returns the NLTK parse tree of `tokens` with the highest probability\n",
        "  as specified by the PCFG `grammar` and its log probability as a tuple.\n",
        "\n",
        "  Returns (None, -float('inf')) if `tokens` is not parsable.\n",
        "  Implements the CKY algorithm, and therefore assumes `grammar` is in\n",
        "  Chomsky normal form.\n",
        "  \"\"\"\n",
        "  assert(grammar.is_chomsky_normal_form())\n",
        "\n",
        "  tokens_= tokens.copy()\n",
        "  tokens_.insert(0,'')\n",
        "  N = len(tokens_)\n",
        "  table = [[defaultdict() for _ in range(N)] for _ in range(N)]\n",
        "  back_T = [[defaultdict(set) for _ in range(N)] for _ in range(N)]\n",
        "\n",
        "  terminal_prod = [prod for prod in grammar.productions() if len(prod.rhs()) == 1]\n",
        "\n",
        "  for token_idx, token in enumerate(tokens_, start=0): # each end string position\n",
        "      for prod in terminal_prod:\n",
        "        if token in prod.rhs():\n",
        "          table[token_idx-1][token_idx][str(prod.lhs())] = prod.logprob()  # changed\n",
        "          back_T[token_idx-1][token_idx][str(prod.lhs())] = f'{str(prod.lhs())} {token}'   # changed\n",
        "      for start in range(token_idx-2, -1, -1):\n",
        "          for split in range(start+1,token_idx):\n",
        "              for prod in grammar.productions():\n",
        "                \"\"\"changed\"\"\"\n",
        "                if len(prod.rhs())>=2:\n",
        "                  A = str(prod.lhs())\n",
        "                  B = str(prod.rhs()[0])\n",
        "                  C = str(prod.rhs()[1])\n",
        "                  if B in table[start][split] and table[start][split][B] > float('-inf') \\\n",
        "                      and C in table[split][token_idx] and table[split][token_idx][C] > float('-inf'):\n",
        "\n",
        "                      prob_new = prod.logprob() + table[start][split][B] + table[split][token_idx][C]\n",
        "\n",
        "                      if A not in table[start][token_idx] or prob_new > table[start][token_idx][A]:\n",
        "                        table[start][token_idx][A] = prob_new\n",
        "                        back_T[start][token_idx][A] = (split, B, C)\n",
        "\n",
        "\n",
        "\n",
        "  if str(grammar.start()) in table[0][N-1]:\n",
        "    prob = table[0][N-1][str(grammar.start())]\n",
        "    tree_str=pcfg_from_string(back_T,0,N-1,str(grammar.start()))\n",
        "    tree = nltk.Tree.fromstring(tree_str)\n",
        "    return (tree, prob)\n",
        "  else:\n",
        "      return (None, float('-inf'))"
      ]
    },
    {
      "cell_type": "markdown",
      "id": "9f907cc5",
      "metadata": {
        "id": "9f907cc5"
      },
      "source": [
        "As an aid in debugging, you may want to start by testing your implementation of probabilistic CKY on a much smaller grammar than the one you trained from the ATIS corpus. Here's a little grammar that you can play with.\n",
        "\n",
        "> **Hint:** By \"play with\", we mean that you can change the gramamr to try out the behavior of your parser on different test grammars, including ambiguous cases."
      ]
    },
    {
      "cell_type": "code",
      "execution_count": 75,
      "id": "db7a7397",
      "metadata": {
        "id": "db7a7397"
      },
      "outputs": [],
      "source": [
        "grammar = PCFG.fromstring(\"\"\"\n",
        "  S -> NP VP [1.0]\n",
        "  VP -> V NP [1.0]\n",
        "  PP -> P NP [1.0]\n",
        "  NP -> 'sam' [.3]\n",
        "  NP -> 'ham' [.7]\n",
        "  V -> 'likes' [1.0]\n",
        "  \"\"\")"
      ]
    },
    {
      "cell_type": "code",
      "execution_count": 76,
      "id": "d360fc90",
      "metadata": {
        "id": "d360fc90",
        "colab": {
          "base_uri": "https://localhost:8080/",
          "height": 0
        },
        "outputId": "1ad28baf-979e-4eea-99c0-8e77af0eab97"
      },
      "outputs": [
        {
          "output_type": "stream",
          "name": "stdout",
          "text": [
            "      S          \n",
            "  ____|____       \n",
            " |         VP    \n",
            " |     ____|___   \n",
            " NP   V        NP\n",
            " |    |        |  \n",
            "sam likes     ham\n",
            "\n",
            "logprob: -2.25 | probability: 0.21\n"
          ]
        }
      ],
      "source": [
        "tree, logprob = cky_parse_probabilistic(grammar, tokenize('sam likes ham'))\n",
        "tree.pretty_print()\n",
        "print(f\"logprob: {logprob:4.3g} | probability: {2**logprob:4.3g}\")"
      ]
    },
    {
      "cell_type": "code",
      "execution_count": 77,
      "id": "92c50128",
      "metadata": {
        "id": "92c50128",
        "colab": {
          "base_uri": "https://localhost:8080/",
          "height": 0
        },
        "outputId": "c80b0651-ca24-4113-ddcd-1e5ae0460115"
      },
      "outputs": [
        {
          "output_type": "stream",
          "name": "stdout",
          "text": [
            "                           TOP                     \n",
            "                      ______|___________________    \n",
            "                    FRAG                        |  \n",
            "                     |                          |   \n",
            "                     NP                         |  \n",
            "    _________________|___________               |   \n",
            "   |          PP                 PP             |  \n",
            "   |      ____|______        ____|_____         |   \n",
            "   NP    |           NP     |          NP       |  \n",
            "   |     |           |      |     _____|___     |   \n",
            "  NNS    IN         NNP     TO  NNP       NNP  PUNC\n",
            "   |     |           |      |    |         |    |   \n",
            "Flights from     Cleveland  to Kansas     City  .  \n",
            "\n",
            "logprob:  -27 | probability: 7.42e-09\n"
          ]
        }
      ],
      "source": [
        "# We don't use our tokenizer because the gold trees do not lowercase tokens\n",
        "sent = \"Flights from Cleveland to Kansas City .\".split()\n",
        "tree, logprob = cky_parse_probabilistic(pgrammar, sent)\n",
        "tree.un_chomsky_normal_form()\n",
        "tree.pretty_print()\n",
        "print(f\"logprob: {logprob:4.3g} | probability: {2**logprob:4.3g}\")"
      ]
    },
    {
      "cell_type": "markdown",
      "id": "f30e8d2b",
      "metadata": {
        "id": "f30e8d2b"
      },
      "source": [
        "## Evaluation of the grammar\n",
        "\n",
        "There are a number of ways to evaluate parsing algorithms. In this project segment, you will use the [\"industry-standard\" `evalb` implementation](https://nlp.cs.nyu.edu/evalb/) for computing constituent precision, recall, and F1 scores. We downloaded `evalb` during setup.\n",
        "\n",
        "We read in the test data..."
      ]
    },
    {
      "cell_type": "code",
      "execution_count": 78,
      "id": "9832c19c",
      "metadata": {
        "id": "9832c19c"
      },
      "outputs": [],
      "source": [
        "with open('data/test.trees') as file:\n",
        "  test_trees = [Tree.fromstring(line.strip()) for line in file.readlines()]\n",
        "\n",
        "test_sents = [tree.leaves() for tree in test_trees]"
      ]
    },
    {
      "cell_type": "markdown",
      "id": "f9d79a5d",
      "metadata": {
        "id": "f9d79a5d"
      },
      "source": [
        "...and parse the test sentences using your probabilistic CKY implementation, writing the output trees to a file."
      ]
    },
    {
      "cell_type": "code",
      "execution_count": 79,
      "id": "f0715fe3",
      "metadata": {
        "id": "f0715fe3",
        "colab": {
          "base_uri": "https://localhost:8080/",
          "height": 0
        },
        "outputId": "288b345c-544a-45fa-c8dd-4faa2fc826e7"
      },
      "outputs": [
        {
          "output_type": "stream",
          "name": "stderr",
          "text": [
            "100%|██████████| 58/58 [00:09<00:00,  6.05it/s]\n"
          ]
        }
      ],
      "source": [
        "trees_out = []\n",
        "for sent in tqdm(test_sents):\n",
        "  tree, prob = cky_parse_probabilistic(pgrammar, sent)\n",
        "  if tree is not None:\n",
        "    tree.un_chomsky_normal_form()\n",
        "    trees_out.append(tree.pformat(margin=9999999999))\n",
        "  else:\n",
        "    trees_out.append('()')\n",
        "\n",
        "with open('data/outp.trees', 'w') as file:\n",
        "  for line in trees_out:\n",
        "    file.write(line + '\\n')"
      ]
    },
    {
      "cell_type": "markdown",
      "id": "2ff39db0",
      "metadata": {
        "id": "2ff39db0"
      },
      "source": [
        "Now we can compare the predicted trees to the ground truth trees, using `evalb`. You should expect to achieve F1 of about 0.83."
      ]
    },
    {
      "cell_type": "code",
      "execution_count": 80,
      "id": "c3ad9a92",
      "metadata": {
        "id": "c3ad9a92",
        "colab": {
          "base_uri": "https://localhost:8080/",
          "height": 0
        },
        "outputId": "ce5f5fef-0569-4623-99ac-b8d64d885678"
      },
      "outputs": [
        {
          "output_type": "stream",
          "name": "stdout",
          "text": [
            "data/outp.trees\t345 brackets\n",
            "data/test.trees\t471 brackets\n",
            "matching\t339 brackets\n",
            "precision\t0.9826086956521739\n",
            "recall\t0.7197452229299363\n",
            "F1\t0.8308823529411764\n"
          ]
        }
      ],
      "source": [
        "shell(\"python scripts/evalb.py data/outp.trees data/test.trees\")"
      ]
    },
    {
      "cell_type": "markdown",
      "id": "8663e54a",
      "metadata": {
        "id": "8663e54a"
      },
      "source": [
        "## Debrief\n",
        "\n",
        "**Question:** We're interested in any thoughts you have about this project segment so that we can improve it for later years, and to inform later segments for this year. Please list any issues that arose or comments you have to improve the project segment. Useful things to comment on might include the following:\n",
        "\n",
        "* Was the project segment clear or unclear? Which portions?\n",
        "* Were the readings appropriate background for the project segment?\n",
        "* Are there additions or changes you think would make the project segment better?\n",
        "    ```\n",
        "    BEGIN QUESTION\n",
        "    name: open_response_debrief\n",
        "    manual: true\n",
        "    ```\n",
        "    \n",
        "but you should comment on whatever aspects you found especially positive or negative."
      ]
    },
    {
      "cell_type": "markdown",
      "id": "861ff95f",
      "metadata": {
        "id": "861ff95f"
      },
      "source": [
        "_Type your answer here, replacing this text._"
      ]
    },
    {
      "cell_type": "markdown",
      "id": "d71f9d56",
      "metadata": {
        "id": "d71f9d56"
      },
      "source": [
        "# Instructions for submission of the project segment\n",
        "\n",
        "This project segment should be submitted to Gradescope at <https://rebrand.ly/project3-submit-code> and <https://rebrand.ly/project3-submit-pdf>, which will be made available some time before the due date.\n",
        "\n",
        "Project segment notebooks are manually graded, not autograded using otter as labs are. (Otter is used within project segment notebooks to synchronize distribution and solution code however.) **We will not run your notebook before grading it.** Instead, we ask that you submit the already freshly run notebook. The best method is to \"restart kernel and run all cells\", allowing time for all cells to be run to completion. You should submit your code to Gradescope at the code submission assignment at <https://rebrand.ly/project3-submit-code>. Make sure that you are also submitting your `data/grammar` file as part of your solution code as well.\n",
        "\n",
        "We also request that you **submit a PDF of the freshly run notebook**. The simplest method is to use \"Export notebook to PDF\", which will render the notebook to PDF via LaTeX. If that doesn't work, the method that seems to be most reliable is to export the notebook as HTML (if you are using Jupyter Notebook, you can do so using `File -> Print Preview`), open the HTML in a browser, and print it to a file. Then make sure to add the file to your git commit. Please name the file the same name as this notebook, but with a `.pdf` extension. (Conveniently, the methods just described will use that name by default.) You can then perform a git commit and push and submit the commit to Gradescope at <https://rebrand.ly/project3-submit-pdf>."
      ]
    },
    {
      "cell_type": "markdown",
      "id": "2da7a639",
      "metadata": {
        "id": "2da7a639"
      },
      "source": [
        "# End of project segment 3"
      ]
    }
  ],
  "metadata": {
    "colab": {
      "provenance": [],
      "gpuType": "T4"
    },
    "kernelspec": {
      "display_name": "Python 3",
      "name": "python3"
    },
    "language_info": {
      "codemirror_mode": {
        "name": "ipython",
        "version": 3
      },
      "file_extension": ".py",
      "mimetype": "text/x-python",
      "name": "python",
      "nbconvert_exporter": "python",
      "pygments_lexer": "ipython3",
      "version": "3.8.3"
    },
    "title": "CS236299 Project Segment 3: Parsing – The CKY Algorithm"
  },
  "nbformat": 4,
  "nbformat_minor": 5
}