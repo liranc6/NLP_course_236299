{
  "cells": [
    {
      "cell_type": "code",
      "execution_count": null,
      "id": "5878267e",
      "metadata": {
        "deletable": false,
        "editable": false,
        "jupyter": {
          "outputs_hidden": true,
          "source_hidden": true
        },
        "colab": {
          "base_uri": "https://localhost:8080/"
        },
        "id": "5878267e",
        "outputId": "1d3bd507-6e46-4ea6-98bb-c78b66430460"
      },
      "outputs": [
        {
          "output_type": "stream",
          "name": "stdout",
          "text": [
            "\n",
            "Completed with errors. Exit status: 256\n",
            "\n"
          ]
        },
        {
          "output_type": "execute_result",
          "data": {
            "text/plain": [
              "256"
            ]
          },
          "metadata": {},
          "execution_count": 1
        }
      ],
      "source": [
        "# Please do not change this cell because some hidden tests might depend on it.\n",
        "import os\n",
        "\n",
        "# Otter grader does not handle ! commands well, so we define and use our\n",
        "# own function to execute shell commands.\n",
        "def shell(commands, warn=True):\n",
        "    \"\"\"Executes the string `commands` as a sequence of shell commands.\n",
        "     \n",
        "       Prints the result to stdout and returns the exit status. \n",
        "       Provides a printed warning on non-zero exit status unless `warn` \n",
        "       flag is unset.\n",
        "    \"\"\"\n",
        "    file = os.popen(commands)\n",
        "    print (file.read().rstrip('\\n'))\n",
        "    exit_status = file.close()\n",
        "    if warn and exit_status != None:\n",
        "        print(f\"Completed with errors. Exit status: {exit_status}\\n\")\n",
        "    return exit_status\n",
        "\n",
        "shell(\"\"\"\n",
        "ls requirements.txt >/dev/null 2>&1\n",
        "if [ ! $? = 0 ]; then\n",
        " rm -rf .tmp\n",
        " git clone https://github.com/cs236299-2023-spring/lab1-1.git .tmp\n",
        " mv .tmp/tests ./\n",
        " mv .tmp/requirements.txt ./\n",
        " rm -rf .tmp\n",
        "fi\n",
        "pip install -q -r requirements.txt\n",
        "\"\"\")"
      ]
    },
    {
      "cell_type": "code",
      "execution_count": null,
      "id": "cf6948a5",
      "metadata": {
        "deletable": false,
        "editable": false,
        "id": "cf6948a5"
      },
      "outputs": [],
      "source": [
        "# Initialize Otter\n",
        "import otter\n",
        "grader = otter.Notebook()"
      ]
    },
    {
      "cell_type": "markdown",
      "id": "382f17fa",
      "metadata": {
        "tags": [
          "remove_for_latex"
        ],
        "id": "382f17fa"
      },
      "source": [
        "# Course 236299\n",
        "## Lab 1-1 – Types, tokens, and representing text"
      ]
    },
    {
      "cell_type": "code",
      "execution_count": null,
      "id": "682e20f5",
      "metadata": {
        "id": "682e20f5",
        "colab": {
          "base_uri": "https://localhost:8080/"
        },
        "outputId": "a8f41f61-88c5-4975-dfb2-9457fea84ad4"
      },
      "outputs": [
        {
          "output_type": "execute_result",
          "data": {
            "text/plain": [
              "True"
            ]
          },
          "metadata": {},
          "execution_count": 61
        }
      ],
      "source": [
        "import math\n",
        "import re\n",
        "import sys\n",
        "\n",
        "import torch\n",
        "import nltk\n",
        "\n",
        "nltk.download('punkt', quiet=True) # this module is used to tokenize the text"
      ]
    },
    {
      "cell_type": "markdown",
      "id": "e3af2f9c",
      "metadata": {
        "id": "e3af2f9c"
      },
      "source": [
        "Where we're headed: Nearest neighbor text classification works by classifying a novel text with the same class as that of the training text that is closest according to some distance metric. These metrics are calculated based on representations of the texts. In this lab, we'll introduce some different representations and you'll use nearest neighbor classification to predict the speaker of sentences selected from a children's book.\n",
        "    \n",
        "The objectives of this lab are to:\n",
        "\n",
        "* Clarify terminology around words and texts,\n",
        "* Manipulate different representations of words and texts,\n",
        "* Apply these representations to calculate text similarity, and\n",
        "* Classify documents by a simple nearest neighbor model.\n",
        "   \n",
        "In this and later labs, we will have you carry out several exercises in notebook cells. The cells you are to do are marked '`#TODO`'. They will typically have a `...` where your code or answer should go. Where specified, you needn't write code to calculate the answer, but instead, simply work out the answer yourself and enter it."
      ]
    },
    {
      "cell_type": "markdown",
      "id": "c118a10c",
      "metadata": {
        "id": "c118a10c"
      },
      "source": [
        "New bits of Python used for the first time in the _solution set_ for this lab, and which you may therefore find useful:\n",
        "\n",
        "* `math.acos`\n",
        "* `math.pi`\n",
        "* `re.match`\n",
        "* `set`\n",
        "* `sorted`\n",
        "* `str.join`\n",
        "* `str.lower`\n",
        "* `torch.dot`\n",
        "* `torch.linalg.norm`\n",
        "* `torch.maximum`\n",
        "* `torch.minimum`\n",
        "* `torch.stack`\n",
        "* `torch.sum`\n",
        "* `torch.Tensor.type`\n",
        "* `torch.where`\n",
        "* `torch.zeros`\n",
        "* `torch.zeros_like`\n",
        "* `nltk.tokenize.word_tokenizer`\n",
        "* `nltk.tokenize.WhitespaceTokenize`"
      ]
    },
    {
      "cell_type": "markdown",
      "id": "1284bb12",
      "metadata": {
        "id": "1284bb12"
      },
      "source": [
        "# Counting words\n",
        "\n",
        "<img src=\"https://github.com/nlp-course/data/blob/master/Seuss/seuss%20-%201966%20-%20green%20eggs%20and%20ham.gif?raw=true\" width=150 align=right />\n",
        "\n",
        "Here are five sentences from Dr. Seuss's [_Green Eggs and Ham_](https://en.wikipedia.org/wiki/Green_Eggs_and_Ham):\n",
        "\n",
        "    Would you like them here or there?\n",
        "    I would not like them here or there.\n",
        "    I would not like them anywhere.\n",
        "    I do not like green eggs and ham.\n",
        "    I do not like them, Sam-I-am.\n",
        "\n",
        "We'll make this text available in the variable `text`."
      ]
    },
    {
      "cell_type": "code",
      "execution_count": null,
      "id": "17e256f4",
      "metadata": {
        "id": "17e256f4"
      },
      "outputs": [],
      "source": [
        "text = \"\"\"\n",
        "    Would you like them here or there?\n",
        "    I would not like them here or there.\n",
        "    I would not like them anywhere.\n",
        "    I do not like green eggs and ham.\n",
        "    I do not like them, Sam-I-am.\n",
        "    \"\"\""
      ]
    },
    {
      "cell_type": "markdown",
      "id": "ef8f670e",
      "metadata": {
        "deletable": false,
        "editable": false,
        "id": "ef8f670e"
      },
      "source": [
        "A Python string like this is, of course, a sequence of characters. But we think of this text as a sequence of sentences each composed of a sequence of words. How many words are there in this text? That is a fraught question, for several reasons, including\n",
        "\n",
        "* The type-token distinction\n",
        "* Tokenization issues\n",
        "* Normalization\n",
        "\n",
        "## Types versus tokens\n",
        "\n",
        "In determining the number of words in `text`, are we talking about word _types_ or word _tokens_. (For instance, there are five _tokens_ of the word _type_ 'like'.)\n",
        "\n",
        "How many word tokens are there in total in this text? (Just count them manually.) Assign the number to the variable `token_count` in the next cell.\n",
        "<!--\n",
        "BEGIN QUESTION\n",
        "name: token_count\n",
        "-->"
      ]
    },
    {
      "cell_type": "code",
      "execution_count": null,
      "id": "b420ccfc",
      "metadata": {
        "id": "b420ccfc"
      },
      "outputs": [],
      "source": [
        "#TODO - define `token_count` to be the number of tokens in `text`\n",
        "token_count = 37"
      ]
    },
    {
      "cell_type": "code",
      "execution_count": null,
      "id": "9ffb6cc5",
      "metadata": {
        "deletable": false,
        "editable": false,
        "id": "9ffb6cc5",
        "colab": {
          "base_uri": "https://localhost:8080/",
          "height": 46
        },
        "outputId": "bce2e8b9-2bfb-4612-ce6d-ab351a253709"
      },
      "outputs": [
        {
          "output_type": "execute_result",
          "data": {
            "text/plain": [
              "\n",
              "    All tests passed!\n",
              "    "
            ],
            "text/html": [
              "\n",
              "    \n",
              "    \n",
              "        <p>All tests passed!</p>\n",
              "    \n",
              "    "
            ]
          },
          "metadata": {},
          "execution_count": 93
        }
      ],
      "source": [
        "grader.check(\"token_count\")"
      ]
    },
    {
      "cell_type": "markdown",
      "id": "a1299a50",
      "metadata": {
        "deletable": false,
        "editable": false,
        "id": "a1299a50"
      },
      "source": [
        "How many word types are there? (Again, you can just count manually.)\n",
        "<!--\n",
        "BEGIN QUESTION\n",
        "name: type_count\n",
        "-->"
      ]
    },
    {
      "cell_type": "code",
      "execution_count": null,
      "id": "18027f78",
      "metadata": {
        "id": "18027f78"
      },
      "outputs": [],
      "source": [
        "#TODO - define `type_count` to be the number of types in `text`\n",
        "type_count = 19"
      ]
    },
    {
      "cell_type": "code",
      "execution_count": null,
      "id": "8c1837a4",
      "metadata": {
        "deletable": false,
        "editable": false,
        "id": "8c1837a4",
        "colab": {
          "base_uri": "https://localhost:8080/",
          "height": 46
        },
        "outputId": "ebfc81a5-dac9-488b-f19e-1b8f90168362"
      },
      "outputs": [
        {
          "output_type": "execute_result",
          "data": {
            "text/plain": [
              "\n",
              "    All tests passed!\n",
              "    "
            ],
            "text/html": [
              "\n",
              "    \n",
              "    \n",
              "        <p>All tests passed!</p>\n",
              "    \n",
              "    "
            ]
          },
          "metadata": {},
          "execution_count": 95
        }
      ],
      "source": [
        "grader.check(\"type_count\")"
      ]
    },
    {
      "cell_type": "markdown",
      "id": "ef170119",
      "metadata": {
        "deletable": false,
        "editable": false,
        "id": "ef170119"
      },
      "source": [
        "<!-- BEGIN QUESTION -->\n",
        "\n",
        "**Question:** The set of types of a language is referred to as its _vocabulary_. Are there more types or tokens as you calculated above? Could it be otherwise?\n",
        "<!--\n",
        "BEGIN QUESTION\n",
        "name: type_vs_token_count\n",
        "manual: true\n",
        "-->"
      ]
    },
    {
      "cell_type": "markdown",
      "id": "718b9e4e",
      "metadata": {
        "id": "718b9e4e"
      },
      "source": [
        "_There will always be more or equal tokens than ty._"
      ]
    },
    {
      "cell_type": "markdown",
      "id": "cf0e9941",
      "metadata": {
        "id": "cf0e9941"
      },
      "source": [
        "<!-- END QUESTION -->\n",
        "\n",
        "\n",
        "\n",
        "## Tokenization "
      ]
    },
    {
      "cell_type": "markdown",
      "id": "271da622",
      "metadata": {
        "id": "271da622"
      },
      "source": [
        "Did you count 'there?' as one token or two? This raises the issue of _tokenization_ of text, how to decide where the token boundaries occur. For instance, here's a simple way to split a string – to _tokenize_ it – in Python by splitting at whitespace."
      ]
    },
    {
      "cell_type": "code",
      "execution_count": null,
      "id": "2fb18584",
      "metadata": {
        "id": "2fb18584"
      },
      "outputs": [],
      "source": [
        "def whitespace_tokenize(str):\n",
        "    return str.split()"
      ]
    },
    {
      "cell_type": "markdown",
      "id": "5ba2c5bc",
      "metadata": {
        "deletable": false,
        "editable": false,
        "id": "5ba2c5bc"
      },
      "source": [
        "Try it out on the `text` defined above.\n",
        "<!--\n",
        "BEGIN QUESTION\n",
        "name: tokens_whitespace\n",
        "-->"
      ]
    },
    {
      "cell_type": "code",
      "execution_count": null,
      "id": "cf11c9b3",
      "metadata": {
        "id": "cf11c9b3"
      },
      "outputs": [],
      "source": [
        "#TODO - define `tokens` to be the tokens as defined by the `whitespace_tokenize` function\n",
        "tokens = whitespace_tokenize(text)"
      ]
    },
    {
      "cell_type": "code",
      "execution_count": null,
      "id": "7ef2be11",
      "metadata": {
        "deletable": false,
        "editable": false,
        "id": "7ef2be11",
        "colab": {
          "base_uri": "https://localhost:8080/",
          "height": 46
        },
        "outputId": "0ec5a306-d041-4add-9070-a03e6147ad96"
      },
      "outputs": [
        {
          "output_type": "execute_result",
          "data": {
            "text/plain": [
              "\n",
              "    All tests passed!\n",
              "    "
            ],
            "text/html": [
              "\n",
              "    \n",
              "    \n",
              "        <p>All tests passed!</p>\n",
              "    \n",
              "    "
            ]
          },
          "metadata": {},
          "execution_count": 98
        }
      ],
      "source": [
        "grader.check(\"tokens_whitespace\")"
      ]
    },
    {
      "cell_type": "markdown",
      "id": "9a566d23",
      "metadata": {
        "deletable": false,
        "editable": false,
        "id": "9a566d23"
      },
      "source": [
        "Using this tokenization method, count the number of tokens in the text, this time using Python to do the work.\n",
        "<!--\n",
        "BEGIN QUESTION\n",
        "name: token_count_whitespace\n",
        "-->"
      ]
    },
    {
      "cell_type": "code",
      "execution_count": null,
      "id": "493803ab",
      "metadata": {
        "id": "493803ab"
      },
      "outputs": [],
      "source": [
        "#TODO - place your token count here\n",
        "token_count_2 = len(tokens)"
      ]
    },
    {
      "cell_type": "code",
      "execution_count": null,
      "id": "710a37ef",
      "metadata": {
        "deletable": false,
        "editable": false,
        "id": "710a37ef",
        "colab": {
          "base_uri": "https://localhost:8080/",
          "height": 46
        },
        "outputId": "46eae3c1-9c43-4185-d637-78d262f07010"
      },
      "outputs": [
        {
          "output_type": "execute_result",
          "data": {
            "text/plain": [
              "\n",
              "    All tests passed!\n",
              "    "
            ],
            "text/html": [
              "\n",
              "    \n",
              "    \n",
              "        <p>All tests passed!</p>\n",
              "    \n",
              "    "
            ]
          },
          "metadata": {},
          "execution_count": 100
        }
      ],
      "source": [
        "grader.check(\"token_count_whitespace\")"
      ]
    },
    {
      "cell_type": "markdown",
      "id": "e3a59370",
      "metadata": {
        "id": "e3a59370"
      },
      "source": [
        "Arguably, we _should_ split off punctuation as separate tokens, but even there, some care must be taken. We don't want to split 'don't' into three tokens or 'Sam-I-Am' into five. (There's a good argument to be made however that the string 'don't' should be construed as two tokens, namely, 'do' and 'n't', but that's beyond the scope of today's discussion.)\n",
        "\n",
        "Here, we provide an alternative tokenizer that splits tokens at whitespace and splits off punctuation at the beginning and end of non-whitespace regions as separate tokens as well. It makes use of [the Python `re` module](https://docs.python.org/3/library/re.html) for regular expressions to specify the splitting process. Look over the code and make sure you understand what's going on. You might find [this online tool](https://regexr.com/) useful."
      ]
    },
    {
      "cell_type": "code",
      "execution_count": null,
      "id": "efbd32aa",
      "metadata": {
        "id": "efbd32aa"
      },
      "outputs": [],
      "source": [
        "def punc_tokenize(str):\n",
        "    return [tok for tok in re.split('(\\W*?)\\s+', str) if tok != '']"
      ]
    },
    {
      "cell_type": "markdown",
      "id": "db167e71",
      "metadata": {
        "deletable": false,
        "editable": false,
        "id": "db167e71"
      },
      "source": [
        "Now how many tokens are there in the text if tokenized in this way?\n",
        "<!--\n",
        "BEGIN QUESTION\n",
        "name: token_count_punc\n",
        "-->"
      ]
    },
    {
      "cell_type": "code",
      "execution_count": null,
      "id": "4e0ca711",
      "metadata": {
        "id": "4e0ca711"
      },
      "outputs": [],
      "source": [
        "#TODO\n",
        "token_count_3 = len(punc_tokenize(text))"
      ]
    },
    {
      "cell_type": "code",
      "execution_count": null,
      "id": "9c74a353",
      "metadata": {
        "deletable": false,
        "editable": false,
        "id": "9c74a353",
        "colab": {
          "base_uri": "https://localhost:8080/",
          "height": 46
        },
        "outputId": "e561fcbd-9989-412c-f5fe-3adfdfdd3edd"
      },
      "outputs": [
        {
          "output_type": "execute_result",
          "data": {
            "text/plain": [
              "\n",
              "    All tests passed!\n",
              "    "
            ],
            "text/html": [
              "\n",
              "    \n",
              "    \n",
              "        <p>All tests passed!</p>\n",
              "    \n",
              "    "
            ]
          },
          "metadata": {},
          "execution_count": 103
        }
      ],
      "source": [
        "grader.check(\"token_count_punc\")"
      ]
    },
    {
      "cell_type": "markdown",
      "id": "4345a81a",
      "metadata": {
        "deletable": false,
        "editable": false,
        "id": "4345a81a"
      },
      "source": [
        "## Normalization\n",
        "\n",
        "This tokenization method counts 'Would' and 'would' (capitalized and uncapitalized) as separate types. Is that a good idea? This raises the issue of text _normalization_.\n",
        "\n",
        "Define a function `normalize_token` that normalizes tokens by making them lowercase if at most the first character is uppercase. (Hints [here](https://docs.python.org/3/library/stdtypes.html#str.lower) and [here](https://docs.python.org/3/library/re.html#re.match). These are also listed in the hint cell at the top of the lab, so we'll mostly stop providing these hints from here on.)\n",
        "<!--\n",
        "BEGIN QUESTION\n",
        "name: normalize_token\n",
        "-->"
      ]
    },
    {
      "cell_type": "code",
      "execution_count": null,
      "id": "8389fc0e",
      "metadata": {
        "id": "8389fc0e"
      },
      "outputs": [],
      "source": [
        "#TODO - implement normalize_token, which returns the normalized word for a single word `str`\n",
        "def normalize_token(string):\n",
        "    if re.match(\"[A-Z]+\", string) is not None:\n",
        "      if re.search(\"[A-Z]+\", string[1:]) is None:\n",
        "        return string.lower()\n",
        "      else:\n",
        "        return string\n",
        "    else:\n",
        "      return string"
      ]
    },
    {
      "cell_type": "code",
      "execution_count": null,
      "id": "b105d0b6",
      "metadata": {
        "deletable": false,
        "editable": false,
        "id": "b105d0b6",
        "colab": {
          "base_uri": "https://localhost:8080/"
        },
        "outputId": "b88d6d55-d58d-41c1-c2bc-f92d849143d6"
      },
      "outputs": [
        {
          "output_type": "stream",
          "name": "stdout",
          "text": [
            "/bin/bash: -c: line 0: syntax error near unexpected token `\"normalize_token\"'\n",
            "/bin/bash: -c: line 0: `grader.check(\"normalize_token\")'\n"
          ]
        }
      ],
      "source": [
        "!grader.check(\"normalize_token\")"
      ]
    },
    {
      "cell_type": "markdown",
      "id": "3fbf6b9e",
      "metadata": {
        "deletable": false,
        "editable": false,
        "id": "3fbf6b9e"
      },
      "source": [
        "Now define `norm_tokens_punc` to be the sequence of normalized tokens as tokenized by `punc_tokenize`\n",
        "<!--\n",
        "BEGIN QUESTION\n",
        "name: norm_tokens_punc\n",
        "-->"
      ]
    },
    {
      "cell_type": "code",
      "execution_count": null,
      "id": "3f3c87a4",
      "metadata": {
        "id": "3f3c87a4"
      },
      "outputs": [],
      "source": [
        "#TODO\n",
        "norm_tokens_punc = [normalize_token(token) for token in punc_tokenize(text)]"
      ]
    },
    {
      "cell_type": "code",
      "execution_count": null,
      "id": "d12dcaf8",
      "metadata": {
        "deletable": false,
        "editable": false,
        "id": "d12dcaf8",
        "colab": {
          "base_uri": "https://localhost:8080/",
          "height": 46
        },
        "outputId": "92ab9420-7c1c-4209-f8e8-7d15a52775b3"
      },
      "outputs": [
        {
          "output_type": "execute_result",
          "data": {
            "text/plain": [
              "\n",
              "    All tests passed!\n",
              "    "
            ],
            "text/html": [
              "\n",
              "    \n",
              "    \n",
              "        <p>All tests passed!</p>\n",
              "    \n",
              "    "
            ]
          },
          "metadata": {},
          "execution_count": 107
        }
      ],
      "source": [
        "grader.check(\"norm_tokens_punc\")"
      ]
    },
    {
      "cell_type": "markdown",
      "id": "2b30684e",
      "metadata": {
        "deletable": false,
        "editable": false,
        "id": "2b30684e"
      },
      "source": [
        "How many types are there when tokenized and normalized in this way?\n",
        "<!--\n",
        "BEGIN QUESTION\n",
        "name: type_count_norm_punc\n",
        "-->"
      ]
    },
    {
      "cell_type": "code",
      "execution_count": null,
      "id": "23483fc1",
      "metadata": {
        "id": "23483fc1"
      },
      "outputs": [],
      "source": [
        "#TODO\n",
        "type_count_norm_punc = len(set(norm_tokens_punc))"
      ]
    },
    {
      "cell_type": "code",
      "execution_count": null,
      "id": "919fac6e",
      "metadata": {
        "deletable": false,
        "editable": false,
        "id": "919fac6e",
        "colab": {
          "base_uri": "https://localhost:8080/",
          "height": 46
        },
        "outputId": "69fa04d7-7621-4494-ef7f-2c695382e2da"
      },
      "outputs": [
        {
          "output_type": "execute_result",
          "data": {
            "text/plain": [
              "\n",
              "    All tests passed!\n",
              "    "
            ],
            "text/html": [
              "\n",
              "    \n",
              "    \n",
              "        <p>All tests passed!</p>\n",
              "    \n",
              "    "
            ]
          },
          "metadata": {},
          "execution_count": 109
        }
      ],
      "source": [
        "grader.check(\"type_count_norm_punc\")"
      ]
    },
    {
      "cell_type": "markdown",
      "id": "fa9efef6",
      "metadata": {
        "id": "fa9efef6"
      },
      "source": [
        "## Using prebuilt tokenizers\n",
        "\n",
        "Tokenization is so commonly needed that many packages provide pre-built tokenizers of various sorts.\n",
        "We'll use one from [Natural Language Tool Kit (NLTK)](http://nltk.org). It's already been imported above under the name `nltk`."
      ]
    },
    {
      "cell_type": "markdown",
      "id": "c89fc85d",
      "metadata": {
        "deletable": false,
        "editable": false,
        "id": "c89fc85d"
      },
      "source": [
        "Define two tokenizers, versions of `whitespace_tokenize` and a normalized version of `punc_tokenize` above, using [the `nltk.tokenize.WhitespaceTokenizer`](https://www.nltk.org/api/nltk.tokenize.regexp.html#nltk.tokenize.regexp.WhitespaceTokenizer) and [`nltk.tokenize.word_tokenize`](https://www.nltk.org/api/nltk.tokenize.html#module-nltk.tokenize) respectively.\n",
        "Note that `nltk.tokenize.word_tokenize` only tokenizes the string, so we normalize the string by lowering the string's characters.\n",
        "<!--\n",
        "BEGIN QUESTION\n",
        "name: nltk_whitespace_tokenize_and_nltk_normpunc_tokenize\n",
        "-->"
      ]
    },
    {
      "cell_type": "code",
      "execution_count": null,
      "id": "95a21260",
      "metadata": {
        "id": "95a21260"
      },
      "outputs": [],
      "source": [
        "#TODO\n",
        "def nltk_whitespace_tokenize(string):\n",
        "  return nltk.tokenize.WhitespaceTokenizer().tokenize(string)\n",
        "    \n",
        "def nltk_normpunc_tokenize(string):\n",
        "  string = string.lower()\n",
        "  return nltk.tokenize.word_tokenize(string)"
      ]
    },
    {
      "cell_type": "code",
      "execution_count": null,
      "id": "ec3bd25a",
      "metadata": {
        "deletable": false,
        "editable": false,
        "id": "ec3bd25a",
        "colab": {
          "base_uri": "https://localhost:8080/",
          "height": 46
        },
        "outputId": "54997755-6c3a-49bb-9a80-56766a712cd9"
      },
      "outputs": [
        {
          "output_type": "execute_result",
          "data": {
            "text/plain": [
              "\n",
              "    All tests passed!\n",
              "    "
            ],
            "text/html": [
              "\n",
              "    \n",
              "    \n",
              "        <p>All tests passed!</p>\n",
              "    \n",
              "    "
            ]
          },
          "metadata": {},
          "execution_count": 145
        }
      ],
      "source": [
        "grader.check(\"nltk_whitespace_tokenize_and_nltk_normpunc_tokenize\")"
      ]
    },
    {
      "cell_type": "markdown",
      "id": "1b0c0dd7",
      "metadata": {
        "deletable": false,
        "editable": false,
        "id": "1b0c0dd7"
      },
      "source": [
        "Now define `nltk_norm_tokens_punc` to be the sequence of normalized tokens as tokenized by the pre-built tokenizer `nltk_normpunc_tokenize`\n",
        "<!--\n",
        "BEGIN QUESTION\n",
        "name: nltk_norm_tokens_punc\n",
        "-->"
      ]
    },
    {
      "cell_type": "code",
      "execution_count": null,
      "id": "8de6f546",
      "metadata": {
        "id": "8de6f546"
      },
      "outputs": [],
      "source": [
        "nltk_norm_tokens_punc = nltk_normpunc_tokenize(text)"
      ]
    },
    {
      "cell_type": "code",
      "execution_count": null,
      "id": "23769f63",
      "metadata": {
        "deletable": false,
        "editable": false,
        "id": "23769f63",
        "colab": {
          "base_uri": "https://localhost:8080/",
          "height": 46
        },
        "outputId": "e4e044ec-bc6e-419e-870f-bf949be5ff6d"
      },
      "outputs": [
        {
          "output_type": "execute_result",
          "data": {
            "text/plain": [
              "\n",
              "    All tests passed!\n",
              "    "
            ],
            "text/html": [
              "\n",
              "    \n",
              "    \n",
              "        <p>All tests passed!</p>\n",
              "    \n",
              "    "
            ]
          },
          "metadata": {},
          "execution_count": 147
        }
      ],
      "source": [
        "grader.check(\"nltk_norm_tokens_punc\")"
      ]
    },
    {
      "cell_type": "markdown",
      "id": "5c6ebacd",
      "metadata": {
        "id": "5c6ebacd"
      },
      "source": [
        "Now we should be able to print out the last few tokens of the sample text, tokenized using these functions."
      ]
    },
    {
      "cell_type": "code",
      "execution_count": null,
      "id": "44c50841",
      "metadata": {
        "id": "44c50841",
        "colab": {
          "base_uri": "https://localhost:8080/"
        },
        "outputId": "7cf9dcf1-3a50-4470-ae0f-32ac91f2aece"
      },
      "outputs": [
        {
          "output_type": "stream",
          "name": "stdout",
          "text": [
            "['green', 'eggs', 'and', 'ham.', 'I', 'do', 'not', 'like', 'them,', 'Sam-I-am.']\n",
            "['ham', '.', 'i', 'do', 'not', 'like', 'them', ',', 'sam-i-am', '.']\n"
          ]
        }
      ],
      "source": [
        "print(nltk_whitespace_tokenize(text)[-10:])\n",
        "print(nltk_normpunc_tokenize(text)[-10:])"
      ]
    },
    {
      "cell_type": "markdown",
      "id": "4b40075a",
      "metadata": {
        "id": "4b40075a"
      },
      "source": [
        "> _Meta-comment:_ Because it's important that you get practice both with implementing the ideas in the course from first principles and also with using prebuilt software that provides similar functionality, we'll often have you engage in this seemingly redundant process of first implementing a small example and then applying a prebuilt method to do much the same thing. The effort may be duplicative, but it is not wasted."
      ]
    },
    {
      "cell_type": "markdown",
      "id": "ffd08746",
      "metadata": {
        "id": "ffd08746"
      },
      "source": [
        "# Representing words\n",
        "\n",
        "In this section, we'll explore some simple representations for tokens, as a step on the way to representing texts – sentences or documents:\n",
        "\n",
        "## String encoding\n",
        "We've already seen string encoding above, representing a token of a word type by a string specific to that type: a token 'green' represented by an instance of the Python string `'green'`, for instance, or 'Sam-I-am' represented by `'Sam-I-am'`. So let's move on.\n",
        "\n",
        "## 1-hot encoding\n",
        "Given a vocabulary for a language, we can associate each type with an integer, say by its index in a vector. We've already imported the `torch` module; we'll use `torch` tensors for the index vector. For the Seuss text, we can use this list to represent the ordered vocabulary:"
      ]
    },
    {
      "cell_type": "code",
      "execution_count": null,
      "id": "7f0b676a",
      "metadata": {
        "id": "7f0b676a",
        "colab": {
          "base_uri": "https://localhost:8080/"
        },
        "outputId": "014a2db9-823f-445e-d797-473508fe0df3"
      },
      "outputs": [
        {
          "output_type": "execute_result",
          "data": {
            "text/plain": [
              "[',',\n",
              " '.',\n",
              " '?',\n",
              " 'and',\n",
              " 'anywhere',\n",
              " 'do',\n",
              " 'eggs',\n",
              " 'green',\n",
              " 'ham',\n",
              " 'here',\n",
              " 'i',\n",
              " 'like',\n",
              " 'not',\n",
              " 'or',\n",
              " 'sam-i-am',\n",
              " 'them',\n",
              " 'there',\n",
              " 'would',\n",
              " 'you']"
            ]
          },
          "metadata": {},
          "execution_count": 149
        }
      ],
      "source": [
        "vocabulary = sorted(set(nltk_norm_tokens_punc))\n",
        "vocabulary"
      ]
    },
    {
      "cell_type": "markdown",
      "id": "535dbbdd",
      "metadata": {
        "id": "535dbbdd"
      },
      "source": [
        "### A digression on `torch` tensors\n",
        "\n",
        "Recall that `torch` tensors allow for vectorized computations: many operations on them work [componentwise](https://en.wikipedia.org/wiki/Pointwise#Componentwise_operations), that is, separately for each component of the tensor, rather than on the tensor all at once. Compare the following two operations, first on lists, then on `torch` tensors."
      ]
    },
    {
      "cell_type": "code",
      "execution_count": null,
      "id": "b04d1ad2",
      "metadata": {
        "id": "b04d1ad2",
        "colab": {
          "base_uri": "https://localhost:8080/"
        },
        "outputId": "a6f464d3-17e3-45c3-c230-7f4da5b3e734"
      },
      "outputs": [
        {
          "output_type": "execute_result",
          "data": {
            "text/plain": [
              "False"
            ]
          },
          "metadata": {},
          "execution_count": 150
        }
      ],
      "source": [
        "[1, 2] == 1"
      ]
    },
    {
      "cell_type": "code",
      "execution_count": null,
      "id": "ea81a165",
      "metadata": {
        "id": "ea81a165",
        "colab": {
          "base_uri": "https://localhost:8080/"
        },
        "outputId": "c5c6d1a0-3702-40ad-e7f0-3da62009dfa5"
      },
      "outputs": [
        {
          "output_type": "execute_result",
          "data": {
            "text/plain": [
              "tensor([ True, False])"
            ]
          },
          "metadata": {},
          "execution_count": 151
        }
      ],
      "source": [
        "torch.tensor([1, 2]) == 1"
      ]
    },
    {
      "cell_type": "markdown",
      "id": "e766e6b8",
      "metadata": {
        "id": "e766e6b8"
      },
      "source": [
        "This behavior of tensors is quite powerful, allowing for simply specifying complex operations and for efficient, even parallelizable, computation of them. You'll want ot take advantage of these characteristics of tensors where possible, here and in future assignments.\n",
        "\n",
        "But back to the 1-hot representation."
      ]
    },
    {
      "cell_type": "markdown",
      "id": "41a9d162",
      "metadata": {
        "id": "41a9d162"
      },
      "source": [
        "In the _1-hot representation_ of words, a token is then represented by a bit vector (again given as a `torch` tensor), with a 1 at the index of the token's type. (For consistency with some later `torch` functions, we'll take the elements to be floats rather than ints. The `.type` method is useful for converting the type, and it even conveniently broadcasts over the tensors.) For instance, the 1-hot representation of the comma token ',' would be"
      ]
    },
    {
      "cell_type": "code",
      "execution_count": null,
      "id": "360d6a82",
      "metadata": {
        "id": "360d6a82",
        "colab": {
          "base_uri": "https://localhost:8080/"
        },
        "outputId": "d2b95b5a-0478-4ab0-bff8-8ec6e8cc867b"
      },
      "outputs": [
        {
          "output_type": "execute_result",
          "data": {
            "text/plain": [
              "tensor([1., 0., 0., 0., 0., 0., 0., 0., 0., 0., 0., 0., 0., 0., 0., 0., 0., 0.,\n",
              "        0.])"
            ]
          },
          "metadata": {},
          "execution_count": 152
        }
      ],
      "source": [
        "torch.tensor([1,0,0,0,0,0,0,0,0,0,0,0,0,0,0,0,0,0,0]).type(torch.float32)"
      ]
    },
    {
      "cell_type": "markdown",
      "id": "5314b43a",
      "metadata": {
        "id": "5314b43a"
      },
      "source": [
        "Conversion back and forth between these various representations is useful. Define functions `str_to_onehot` and `onehot_to_str` that convert between the string and one-hot representations using a vocabulary array to define the  conversion. \n",
        "\n",
        "Ideally, in your implementation, you'll want to take advantage of the componentwise nature of many tensor operations discussed above."
      ]
    },
    {
      "cell_type": "code",
      "execution_count": null,
      "id": "6c7dfd88",
      "metadata": {
        "id": "6c7dfd88"
      },
      "outputs": [],
      "source": [
        "#TODO\n",
        "def str_to_onehot(wordtype, vocab):\n",
        "    \"\"\"Returns the 1-hot representation of `wordtype` with vocabulary \n",
        "    `vocab`.\n",
        "    The returned value should be a torch.tensor with data type float.\n",
        "    \"\"\"\n",
        "    onehot = torch.zeros(len(vocab)).type(torch.float32)\n",
        "    onehot[vocab.index(wordtype)] = 1\n",
        "    return onehot\n",
        "    \n",
        "\n",
        "def onehot_to_str(onehot, vocab):\n",
        "    \"\"\"Returns the string representation of `onehot`, a one-hot \n",
        "    representation of a word type, with vocabulary `vocab`.\n",
        "    \"\"\"\n",
        "    return vocab[onehot.nonzero().item()]"
      ]
    },
    {
      "cell_type": "markdown",
      "id": "939cb540",
      "metadata": {
        "deletable": false,
        "editable": false,
        "id": "939cb540"
      },
      "source": [
        "Now use `str_to_onehot` to define the variable `anywhere_1hot` to be the 1-hot representation for a token of the type 'anywhere'. \n",
        "<!--\n",
        "BEGIN QUESTION\n",
        "name: anywhere_1hot\n",
        "-->"
      ]
    },
    {
      "cell_type": "code",
      "execution_count": null,
      "id": "434f67a1",
      "metadata": {
        "id": "434f67a1"
      },
      "outputs": [],
      "source": [
        "#TODO\n",
        "anywhere_1hot = str_to_onehot('anywhere', vocabulary)"
      ]
    },
    {
      "cell_type": "code",
      "execution_count": null,
      "id": "1cd13ffb",
      "metadata": {
        "deletable": false,
        "editable": false,
        "id": "1cd13ffb",
        "colab": {
          "base_uri": "https://localhost:8080/",
          "height": 46
        },
        "outputId": "a42099f5-3d48-4588-8d82-9d4407782a79"
      },
      "outputs": [
        {
          "output_type": "execute_result",
          "data": {
            "text/plain": [
              "\n",
              "    All tests passed!\n",
              "    "
            ],
            "text/html": [
              "\n",
              "    \n",
              "    \n",
              "        <p>All tests passed!</p>\n",
              "    \n",
              "    "
            ]
          },
          "metadata": {},
          "execution_count": 155
        }
      ],
      "source": [
        "grader.check(\"anywhere_1hot\")"
      ]
    },
    {
      "cell_type": "markdown",
      "id": "011e3db1",
      "metadata": {
        "deletable": false,
        "editable": false,
        "id": "011e3db1"
      },
      "source": [
        "You can verify that the conversion worked correctly by inverting it using `onehot_to_str`, which we've done in the following unit test.\n",
        "<!--\n",
        "BEGIN QUESTION\n",
        "name: anywhere_1hot_reverse\n",
        "-->"
      ]
    },
    {
      "cell_type": "code",
      "execution_count": null,
      "id": "623fda8b",
      "metadata": {
        "deletable": false,
        "editable": false,
        "id": "623fda8b",
        "colab": {
          "base_uri": "https://localhost:8080/",
          "height": 46
        },
        "outputId": "2b25469c-917c-4109-8b20-036e8bec1680"
      },
      "outputs": [
        {
          "output_type": "execute_result",
          "data": {
            "text/plain": [
              "\n",
              "    All tests passed!\n",
              "    "
            ],
            "text/html": [
              "\n",
              "    \n",
              "    \n",
              "        <p>All tests passed!</p>\n",
              "    \n",
              "    "
            ]
          },
          "metadata": {},
          "execution_count": 156
        }
      ],
      "source": [
        "grader.check(\"anywhere_1hot_reverse\")"
      ]
    },
    {
      "cell_type": "markdown",
      "id": "a72e9715",
      "metadata": {
        "id": "a72e9715"
      },
      "source": [
        "# Representing texts\n",
        "\n",
        "## The set-of-words representation\n",
        "\n",
        "We can represent a whole text (a sequence of words) by manipulating the vector representations of the words within the text. For instance, we can take the componentwise maximum of the vectors. We refer to this as the _set-of-words_ representation.\n",
        "\n",
        "Here we've defined a function `set_of_words` that returns the set of words representation for a token sequence."
      ]
    },
    {
      "cell_type": "code",
      "execution_count": null,
      "id": "c5b4d849",
      "metadata": {
        "id": "c5b4d849"
      },
      "outputs": [],
      "source": [
        "def set_of_words(tokens, vocabulary):\n",
        "    \"\"\"Returns the set-of-words representation as a tensor of floats for the \n",
        "    sequence of `tokens` using the `vocabulary` to specify the conversion.\n",
        "    \"\"\"\n",
        "    onehots = torch.stack([str_to_onehot(token, vocabulary) for token in tokens])\n",
        "    return torch.amax(onehots, 0).type(torch.float32)"
      ]
    },
    {
      "cell_type": "markdown",
      "id": "e55abd17",
      "metadata": {
        "id": "e55abd17"
      },
      "source": [
        "This representation for a text is a vector that has a `1` for each word type that occurs in the text. The vector represents the [characteristic function](https://en.wikipedia.org/wiki/Characteristic_function) for the subset of vocabulary words that appear in the text; hence the term 'set of words'.\n"
      ]
    },
    {
      "cell_type": "markdown",
      "id": "a58a8fa4",
      "metadata": {
        "deletable": false,
        "editable": false,
        "id": "a58a8fa4"
      },
      "source": [
        "What is the set-of-words representation for the example text 'I would not, would not, here or there.'?\n",
        "<!--\n",
        "BEGIN QUESTION\n",
        "name: example_sow\n",
        "-->"
      ]
    },
    {
      "cell_type": "code",
      "execution_count": null,
      "id": "aae3d445",
      "metadata": {
        "id": "aae3d445"
      },
      "outputs": [],
      "source": [
        "#TODO - define the variable to be the set of words representation for the example text\n",
        "# 'I would not, would not, here or there.'\n",
        "# Use `nltk_normpunc_tokenize` tokenizer\n",
        "example_sow = set_of_words(nltk_normpunc_tokenize('I would not, would not, here or there.'), vocabulary)"
      ]
    },
    {
      "cell_type": "code",
      "execution_count": null,
      "id": "8a12a44c",
      "metadata": {
        "deletable": false,
        "editable": false,
        "id": "8a12a44c",
        "colab": {
          "base_uri": "https://localhost:8080/",
          "height": 46
        },
        "outputId": "ea88331c-b4e6-466a-bd02-f367b9f975da"
      },
      "outputs": [
        {
          "output_type": "execute_result",
          "data": {
            "text/plain": [
              "\n",
              "    All tests passed!\n",
              "    "
            ],
            "text/html": [
              "\n",
              "    \n",
              "    \n",
              "        <p>All tests passed!</p>\n",
              "    \n",
              "    "
            ]
          },
          "metadata": {},
          "execution_count": 176
        }
      ],
      "source": [
        "grader.check(\"example_sow\")"
      ]
    },
    {
      "cell_type": "markdown",
      "id": "16495c0a",
      "metadata": {
        "id": "16495c0a"
      },
      "source": [
        "## The bag of words representation\n",
        "\n",
        "If instead, we take the componentwise _addition_ of the vectors instead of the maximum, the text representation provides the _frequency_ of each word type in the text. We refer to this representation as the _[bag](https://en.wikipedia.org/wiki/Multiset) of words_ representation. \n",
        "\n",
        "Define a function `bag_of_words`, analogous to `set_of_words` above, that returns the bag-of-words representation for a token sequence."
      ]
    },
    {
      "cell_type": "code",
      "execution_count": null,
      "id": "ddb042a9",
      "metadata": {
        "id": "ddb042a9"
      },
      "outputs": [],
      "source": [
        "#TODO\n",
        "def bag_of_words(tokens, vocabulary):\n",
        "    onehots = torch.stack([str_to_onehot(token, vocabulary) for token in tokens])\n",
        "    return torch.sum(onehots, 0)"
      ]
    },
    {
      "cell_type": "markdown",
      "id": "6ce9a236",
      "metadata": {
        "deletable": false,
        "editable": false,
        "id": "6ce9a236"
      },
      "source": [
        "What is the bag of words representation for the example text 'I would not, would not, here or there.'?\n",
        "<!--\n",
        "BEGIN QUESTION\n",
        "name: example_bow\n",
        "-->"
      ]
    },
    {
      "cell_type": "code",
      "execution_count": null,
      "id": "97c69a91",
      "metadata": {
        "id": "97c69a91"
      },
      "outputs": [],
      "source": [
        "#TODO - define the variable to be the bag of words representation for the example text\n",
        "# 'I would not, would not, here or there.'\n",
        "# Use the `nltk_normpunc_tokenize` tokenizer\n",
        "example_bow = bag_of_words(nltk_normpunc_tokenize('I would not, would not, here or there.'), vocabulary)"
      ]
    },
    {
      "cell_type": "code",
      "execution_count": null,
      "id": "a28bee58",
      "metadata": {
        "deletable": false,
        "editable": false,
        "id": "a28bee58",
        "colab": {
          "base_uri": "https://localhost:8080/",
          "height": 46
        },
        "outputId": "12870eea-0356-4cab-8c54-b7bd1c3f9358"
      },
      "outputs": [
        {
          "output_type": "execute_result",
          "data": {
            "text/plain": [
              "\n",
              "    All tests passed!\n",
              "    "
            ],
            "text/html": [
              "\n",
              "    \n",
              "    \n",
              "        <p>All tests passed!</p>\n",
              "    \n",
              "    "
            ]
          },
          "metadata": {},
          "execution_count": 198
        }
      ],
      "source": [
        "grader.check(\"example_bow\")"
      ]
    },
    {
      "cell_type": "markdown",
      "id": "9e297489",
      "metadata": {
        "id": "9e297489"
      },
      "source": [
        "# Document similarity metrics\n",
        "\n",
        "Consider the following text classification problem: Each sentence in _Green Eggs and Ham_ is spoken by one of two characters, Sam-I-Am and Guy-Am-I. We want to be able to classify new sentences as (most likely) being uttered by one of the two.\n",
        "\n",
        "A simple method for text classification is the _nearest neighbor_ method. We select the class for the new sentence that is the same as the class of the \"nearest\" (most similar) sentence for which we already know the class. (You'll experiment much more with this text classification method in the next lab.)\n",
        "\n",
        "To perform nearest neighbor classification, we need a method for measuring the (metaphorical) distance between two texts based on their representations. We'll explore a few methods here:\n",
        "\n",
        "* Hamming distance\n",
        "* Jaccard distance\n",
        "* Euclidean distance\n",
        "* cosine distance\n",
        "\n",
        "You'll implement code for all of these distance metrics. Try to implement the functions using `torch` tensor functions only, without explicit iteration over the elements in the vector.\n",
        "\n",
        "We'll take a look at the distances among the following sentences:\n",
        "\n",
        "1. Would you like them here or there?\n",
        "2. I would not like them here or there.\n",
        "3. Do you like green eggs and ham?\n",
        "4. I do not like them Sam-I-Am.\n",
        "\n",
        "We'll start with the set of words representations of these sentences:"
      ]
    },
    {
      "cell_type": "code",
      "execution_count": null,
      "id": "ea7ef901",
      "metadata": {
        "id": "ea7ef901"
      },
      "outputs": [],
      "source": [
        "examples = \"\"\"Would you like them here or there?\n",
        "              I would not like them here or there.\n",
        "              Do you like green eggs and ham?\n",
        "              I do not like them Sam-I-Am.\"\"\" \\\n",
        "           .split(\"\\n\")\n",
        "sows = [set_of_words(nltk_normpunc_tokenize(sentence), vocabulary) \n",
        "            for sentence in examples]"
      ]
    },
    {
      "cell_type": "code",
      "execution_count": null,
      "id": "1836d353",
      "metadata": {
        "id": "1836d353",
        "colab": {
          "base_uri": "https://localhost:8080/"
        },
        "outputId": "5f95f919-9d95-4e49-ba48-3475fbf6b587"
      },
      "outputs": [
        {
          "output_type": "execute_result",
          "data": {
            "text/plain": [
              "[tensor([0., 0., 1., 0., 0., 0., 0., 0., 0., 1., 0., 1., 0., 1., 0., 1., 1., 1.,\n",
              "         1.]),\n",
              " tensor([0., 1., 0., 0., 0., 0., 0., 0., 0., 1., 1., 1., 1., 1., 0., 1., 1., 1.,\n",
              "         0.]),\n",
              " tensor([0., 0., 1., 1., 0., 1., 1., 1., 1., 0., 0., 1., 0., 0., 0., 0., 0., 0.,\n",
              "         1.]),\n",
              " tensor([0., 1., 0., 0., 0., 1., 0., 0., 0., 0., 1., 1., 1., 0., 1., 1., 0., 0.,\n",
              "         0.])]"
            ]
          },
          "metadata": {},
          "execution_count": 200
        }
      ],
      "source": [
        "sows"
      ]
    },
    {
      "cell_type": "markdown",
      "id": "62950a96",
      "metadata": {
        "deletable": false,
        "editable": false,
        "id": "62950a96"
      },
      "source": [
        "## Hamming distance\n",
        "\n",
        "The Hamming distance between two vectors is the number of positions at which they differ. Define a function `hamming_distance` that computes the Hamming distance between two vectors.\n",
        "<!--\n",
        "BEGIN QUESTION\n",
        "name: hamming_distance\n",
        "-->"
      ]
    },
    {
      "cell_type": "code",
      "execution_count": null,
      "id": "9b03e409",
      "metadata": {
        "id": "9b03e409"
      },
      "outputs": [],
      "source": [
        "#TODO - implement hamming_distance. The returned value should be an integer.\n",
        "def hamming_distance(v1, v2):\n",
        "    return sum(torch.logical_xor(v1, v2))"
      ]
    },
    {
      "cell_type": "code",
      "execution_count": null,
      "id": "e5209a16",
      "metadata": {
        "deletable": false,
        "editable": false,
        "id": "e5209a16",
        "colab": {
          "base_uri": "https://localhost:8080/",
          "height": 46
        },
        "outputId": "833f6057-8f5e-4409-9c4f-66ff418da056"
      },
      "outputs": [
        {
          "output_type": "execute_result",
          "data": {
            "text/plain": [
              "\n",
              "    All tests passed!\n",
              "    "
            ],
            "text/html": [
              "\n",
              "    \n",
              "    \n",
              "        <p>All tests passed!</p>\n",
              "    \n",
              "    "
            ]
          },
          "metadata": {},
          "execution_count": 235
        }
      ],
      "source": [
        "grader.check(\"hamming_distance\")"
      ]
    },
    {
      "cell_type": "markdown",
      "id": "b237323b",
      "metadata": {
        "id": "b237323b"
      },
      "source": [
        "Now we can generate the Hamming distances among all of the sample sentences in a little table. Do the values make sense?"
      ]
    },
    {
      "cell_type": "code",
      "execution_count": null,
      "id": "06b70da4",
      "metadata": {
        "id": "06b70da4",
        "colab": {
          "base_uri": "https://localhost:8080/"
        },
        "outputId": "c58d44de-b57b-4199-e422-922997efeb46"
      },
      "outputs": [
        {
          "output_type": "stream",
          "name": "stdout",
          "text": [
            "   0    5   10   11 \n",
            "   5    0   15    6 \n",
            "  10   15    0   11 \n",
            "  11    6   11    0 \n"
          ]
        }
      ],
      "source": [
        "for i in range(4):\n",
        "    for j in range(4):\n",
        "        print(f\"{hamming_distance(sows[i], sows[j]):4} \", end='')\n",
        "    print()"
      ]
    },
    {
      "cell_type": "markdown",
      "id": "a59e2847",
      "metadata": {
        "deletable": false,
        "editable": false,
        "id": "a59e2847"
      },
      "source": [
        "## Jaccard distance\n",
        "\n",
        "The Jaccard distance between two sets (and remember that these bit strings basically represent sets) is one minus the number of elements in their intersection divided by the number of elements in their union.\n",
        "\n",
        "$$ D_{jaccard}(v_1, v_2) = 1 - \\frac{| v_1 \\cap v_2 |}{| v_1 \\cup v_2 |} $$\n",
        "\n",
        "Define a function `jaccard_distance` to compute the Jaccard distance between two set-of-words representations.\n",
        "<!--\n",
        "BEGIN QUESTION\n",
        "name: jaccard_distance\n",
        "-->"
      ]
    },
    {
      "cell_type": "code",
      "execution_count": null,
      "id": "fe97a03d",
      "metadata": {
        "id": "fe97a03d"
      },
      "outputs": [],
      "source": [
        "#TODO\n",
        "def jaccard_distance(v1, v2):\n",
        "  intersection = torch.sum(torch.logical_and(v1, v2))\n",
        "  union = torch.sum(torch.logical_or(v1, v2))\n",
        "  return 1 - intersection/union"
      ]
    },
    {
      "cell_type": "code",
      "execution_count": null,
      "id": "2795d7e2",
      "metadata": {
        "deletable": false,
        "editable": false,
        "id": "2795d7e2",
        "colab": {
          "base_uri": "https://localhost:8080/",
          "height": 46
        },
        "outputId": "448c9392-1d31-4da7-ac77-96a4495200cb"
      },
      "outputs": [
        {
          "output_type": "execute_result",
          "data": {
            "text/plain": [
              "\n",
              "    All tests passed!\n",
              "    "
            ],
            "text/html": [
              "\n",
              "    \n",
              "    \n",
              "        <p>All tests passed!</p>\n",
              "    \n",
              "    "
            ]
          },
          "metadata": {},
          "execution_count": 254
        }
      ],
      "source": [
        "grader.check(\"jaccard_distance\")"
      ]
    },
    {
      "cell_type": "markdown",
      "id": "0348e6e7",
      "metadata": {
        "id": "0348e6e7"
      },
      "source": [
        "Again, here's a table of the Jaccard distances among the sample sentences."
      ]
    },
    {
      "cell_type": "code",
      "execution_count": null,
      "id": "0d7ff497",
      "metadata": {
        "id": "0d7ff497"
      },
      "outputs": [],
      "source": [
        "for i in range(4):\n",
        "    for j in range(4):\n",
        "        print(f\"{jaccard_distance(sows[i], sows[j]):5.3f} \", end='')\n",
        "    print()"
      ]
    },
    {
      "cell_type": "markdown",
      "id": "86854a8c",
      "metadata": {
        "deletable": false,
        "editable": false,
        "id": "86854a8c"
      },
      "source": [
        "## Euclidean distance\n",
        "\n",
        "The Euclidean distance between two vectors is the norm of the vector between them, that is,\n",
        "\n",
        "$$ D_{euclidean}(\\mathbf{x}, \\mathbf{y}) = |\\mathbf{x} - \\mathbf{y}| $$\n",
        "\n",
        "where $|\\mathbf{z}|$, the norm of a vector $\\mathbf{z}$, is calculated as\n",
        "\n",
        "$$ |\\mathbf{z}| = \\sqrt{\\sum_{i=1}^N \\mathbf{z}_i^2} $$\n",
        "\n",
        "Fortunately, `torch` provides the function [`torch.linalg.norm`](https://pytorch.org/docs/stable/generated/torch.linalg.norm.html#torch.linalg.norm) to compute the norm, and the vector between two vectors can be computed by componentwise subtraction.\n",
        "\n",
        "Define a function `euclidean_distance` to compute the Euclidean distance between two vectors.\n",
        "<!--\n",
        "BEGIN QUESTION\n",
        "name: euclidean_distance\n",
        "-->"
      ]
    },
    {
      "cell_type": "code",
      "execution_count": null,
      "id": "bc7ea99e",
      "metadata": {
        "id": "bc7ea99e"
      },
      "outputs": [],
      "source": [
        "#TODO\n",
        "def euclidean_distance(v1, v2):\n",
        "  return torch.linalg.norm(v1-v2)"
      ]
    },
    {
      "cell_type": "code",
      "source": [
        "v1 = torch.tensor([0., 0., 1., 0., 0., 0., 0., 0., 0., 1., 0., 1., 0., 1., 0., 1., 1., 1.,\n",
        "         1.])\n",
        "v2 = torch.tensor([0., 0., 1., 1., 0., 1., 1., 1., 1., 0., 0., 1., 0., 0., 0., 0., 0., 0.,\n",
        "         1.])\n",
        "euclidean_distance(v1, v2)"
      ],
      "metadata": {
        "colab": {
          "base_uri": "https://localhost:8080/"
        },
        "id": "qgmDOu6pzNz8",
        "outputId": "9ecd765d-b534-4a4b-d1b2-900b7e44b0d8"
      },
      "id": "qgmDOu6pzNz8",
      "execution_count": null,
      "outputs": [
        {
          "output_type": "execute_result",
          "data": {
            "text/plain": [
              "tensor(0.)"
            ]
          },
          "metadata": {},
          "execution_count": 260
        }
      ]
    },
    {
      "cell_type": "code",
      "execution_count": null,
      "id": "3dea5b02",
      "metadata": {
        "deletable": false,
        "editable": false,
        "id": "3dea5b02",
        "colab": {
          "base_uri": "https://localhost:8080/",
          "height": 46
        },
        "outputId": "783c62b9-71ed-459a-94ed-f5d66e6c989b"
      },
      "outputs": [
        {
          "output_type": "execute_result",
          "data": {
            "text/plain": [
              "\n",
              "    All tests passed!\n",
              "    "
            ],
            "text/html": [
              "\n",
              "    \n",
              "    \n",
              "        <p>All tests passed!</p>\n",
              "    \n",
              "    "
            ]
          },
          "metadata": {},
          "execution_count": 263
        }
      ],
      "source": [
        "grader.check(\"euclidean_distance\")"
      ]
    },
    {
      "cell_type": "markdown",
      "id": "c7e6d704",
      "metadata": {
        "id": "c7e6d704"
      },
      "source": [
        "Again, here's a table of the Euclidean distances among the sample sentences."
      ]
    },
    {
      "cell_type": "code",
      "execution_count": null,
      "id": "7ac20734",
      "metadata": {
        "id": "7ac20734",
        "colab": {
          "base_uri": "https://localhost:8080/"
        },
        "outputId": "89bca8d1-80e4-4301-a06d-65933432a090"
      },
      "outputs": [
        {
          "output_type": "stream",
          "name": "stdout",
          "text": [
            "0.000 2.236 3.162 3.317 \n",
            "2.236 0.000 3.873 2.449 \n",
            "3.162 3.873 0.000 3.317 \n",
            "3.317 2.449 3.317 0.000 \n"
          ]
        }
      ],
      "source": [
        "for i in range(4):\n",
        "    for j in range(4):\n",
        "        print(f\"{euclidean_distance(sows[i], sows[j]):5.3f} \", end='')\n",
        "    print()"
      ]
    },
    {
      "cell_type": "markdown",
      "id": "f8c5ace6",
      "metadata": {
        "id": "f8c5ace6"
      },
      "source": [
        "## Cosine distance\n",
        "\n",
        "The _cosine similarity_ of two vectors of length $N$ is the cosine of the angle that they form, which is computed as the dot product of the two vectors divided by their norms.\n",
        "\n",
        "$$ cos(\\mathbf{x}, \\mathbf{y}) = \n",
        "      \\frac{\\sum_{i=1}^N \\mathbf{x}_i \\cdot \\mathbf{y}_i}{|\\mathbf{x}| \\cdot |\\mathbf{y}|} $$\n",
        "\n",
        "This isn't a distance metric, but a similarity metric. For vectors of non-negative numbers, it ranges from 0 to 1, where 0 is maximally different and 1 is maximally similar. To turn it into a distance metric, then, we take the inverse cosine (to convert the cosine to an angle between $\\pi$ and 0) and divide by $\\pi$.\n",
        "\n",
        "$$ D_{cosine}(\\mathbf{x}, \\mathbf{y}) = \\frac{cos^{-1}(cos(\\mathbf{x}, \\mathbf{y}))}{\\pi} $$\n",
        "\n",
        "Since we're using `torch`, some of these functions are already provided. See hints [here](https://pytorch.org/docs/stable/generated/torch.dot.html), [here](https://pytorch.org/docs/stable/generated/torch.linalg.norm.html), and [here](https://docs.python.org/3/library/math.html#math.acos).\n",
        "\n",
        "(To avoid some math domain errors, we recommend that you use the function `safe_acos` that we've provided to compute the inverse cosine function instead of using `math.acos` directly.)"
      ]
    },
    {
      "cell_type": "code",
      "execution_count": null,
      "id": "9618dc72",
      "metadata": {
        "id": "9618dc72"
      },
      "outputs": [],
      "source": [
        "def safe_acos(x):\n",
        "    \"\"\"Returns the arc cosine of `x`. Unlike `math.acos`, it \n",
        "       does not raise an exception for values of `x` out of range, \n",
        "       but rather clips `x` at -1..1, thereby avoiding math domain\n",
        "       errors in the case of numerical errors.\"\"\"\n",
        "    return math.acos(math.copysign(min(1.0, abs(x)), x))"
      ]
    },
    {
      "cell_type": "code",
      "execution_count": null,
      "id": "22ded3f7",
      "metadata": {
        "id": "22ded3f7"
      },
      "outputs": [],
      "source": [
        "#TODO\n",
        "def cosine_distance(v1, v2):\n",
        "    \"\"\"Returns the cosine distance between two vectors\"\"\"\n",
        "    cos = torch.sum(torch.dot(v1,v2))/(torch.linalg.norm(v1)*torch.linalg.norm(v2))\n",
        "    return safe_acos(cos)/math.pi"
      ]
    },
    {
      "cell_type": "code",
      "execution_count": null,
      "id": "b75201fd",
      "metadata": {
        "deletable": false,
        "editable": false,
        "id": "b75201fd",
        "colab": {
          "base_uri": "https://localhost:8080/",
          "height": 46
        },
        "outputId": "4c7c162b-f668-45bd-a362-a96f313fe1bf"
      },
      "outputs": [
        {
          "output_type": "execute_result",
          "data": {
            "text/plain": [
              "\n",
              "    All tests passed!\n",
              "    "
            ],
            "text/html": [
              "\n",
              "    \n",
              "    \n",
              "        <p>All tests passed!</p>\n",
              "    \n",
              "    "
            ]
          },
          "metadata": {},
          "execution_count": 274
        }
      ],
      "source": [
        "grader.check(\"cosine_distance\")"
      ]
    },
    {
      "cell_type": "code",
      "execution_count": null,
      "id": "d88a3333",
      "metadata": {
        "id": "d88a3333",
        "colab": {
          "base_uri": "https://localhost:8080/"
        },
        "outputId": "2515539d-b597-4538-d663-857edf8f7cd4"
      },
      "outputs": [
        {
          "output_type": "stream",
          "name": "stdout",
          "text": [
            "0.000 0.250 0.378 0.414 \n",
            "0.250 0.000 0.462 0.283 \n",
            "0.378 0.462 0.000 0.414 \n",
            "0.414 0.283 0.414 0.000 \n"
          ]
        }
      ],
      "source": [
        "for i in range(4):\n",
        "    for j in range(4):\n",
        "        print(f\"{cosine_distance(sows[i], sows[j]):5.3f} \", end='')\n",
        "    print()"
      ]
    },
    {
      "cell_type": "markdown",
      "id": "c6cf44d8",
      "metadata": {
        "id": "c6cf44d8"
      },
      "source": [
        "In the next lab, you'll use some of these distance metrics to automatically classify text using nearest neighbor classification."
      ]
    },
    {
      "cell_type": "markdown",
      "id": "a14894e2",
      "metadata": {
        "deletable": false,
        "editable": false,
        "id": "a14894e2"
      },
      "source": [
        "<!-- BEGIN QUESTION -->\n",
        "\n",
        "# Lab debrief\n",
        "\n",
        "**Question:** We're interested in any thoughts you have about this lab so that we can improve this lab for later years, and to inform later labs for this year. Please list any issues that arose or comments you have to improve the lab. Useful things to comment on include the following: \n",
        "\n",
        "* Was the lab too long or too short?\n",
        "* Were the readings appropriate for the lab? \n",
        "* Was it clear (at least after you completed the lab) what the points of the exercises were? \n",
        "* Are there additions or changes you think would make the lab better?\n",
        "\n",
        "<!--\n",
        "BEGIN QUESTION\n",
        "name: open_response_debrief\n",
        "manual: true\n",
        "-->"
      ]
    },
    {
      "cell_type": "markdown",
      "id": "7a51c5ff",
      "metadata": {
        "id": "7a51c5ff"
      },
      "source": [
        "_labs were too long, we didn't took a break at class and still had to complete around half the work at home, *but*, other than that - anything was great <(^.^)>._"
      ]
    },
    {
      "cell_type": "markdown",
      "id": "eea4fe3b",
      "metadata": {
        "id": "eea4fe3b"
      },
      "source": [
        "<!-- END QUESTION -->\n",
        "\n",
        "\n",
        "\n",
        "# Submission Instructions\n",
        "\n",
        "This lab should be submitted to Gradescope. Submit both the code [here](https://www.gradescope.com/courses/522028?submit_assignment_id=2745476) and the pdf [here](https://www.gradescope.com/courses/522028?submit_assignment_id=1927894), or by logging in to the course page on Gradescope. \n",
        "\n",
        "Make sure that you have passed all public tests by running `grader.check_all()` below before submitting. Note that there are hidden tests on Gradescope, the results of which will be revealed after the submission deadline."
      ]
    },
    {
      "cell_type": "markdown",
      "id": "751f7be4",
      "metadata": {
        "id": "751f7be4"
      },
      "source": [
        "# End of lab 1-1"
      ]
    },
    {
      "cell_type": "markdown",
      "id": "78a8f5d7",
      "metadata": {
        "deletable": false,
        "editable": false,
        "id": "78a8f5d7"
      },
      "source": [
        "---\n",
        "\n",
        "To double-check your work, the cell below will rerun all of the autograder tests."
      ]
    },
    {
      "cell_type": "code",
      "execution_count": null,
      "id": "1ea49682",
      "metadata": {
        "deletable": false,
        "editable": false,
        "id": "1ea49682",
        "colab": {
          "base_uri": "https://localhost:8080/",
          "height": 864
        },
        "outputId": "a52cc3cd-990b-42ec-8e89-be88423d7641"
      },
      "outputs": [
        {
          "output_type": "execute_result",
          "data": {
            "text/plain": [
              "anywhere_1hot:\n",
              "\n",
              "    All tests passed!\n",
              "    \n",
              "\n",
              "anywhere_1hot_reverse:\n",
              "\n",
              "    All tests passed!\n",
              "    \n",
              "\n",
              "cosine_distance:\n",
              "\n",
              "    All tests passed!\n",
              "    \n",
              "\n",
              "euclidean_distance:\n",
              "\n",
              "    All tests passed!\n",
              "    \n",
              "\n",
              "example_bow:\n",
              "\n",
              "    All tests passed!\n",
              "    \n",
              "\n",
              "example_sow:\n",
              "\n",
              "    All tests passed!\n",
              "    \n",
              "\n",
              "hamming_distance:\n",
              "\n",
              "    All tests passed!\n",
              "    \n",
              "\n",
              "jaccard_distance:\n",
              "\n",
              "    All tests passed!\n",
              "    \n",
              "\n",
              "nltk_norm_tokens_punc:\n",
              "\n",
              "    All tests passed!\n",
              "    \n",
              "\n",
              "nltk_whitespace_tokenize_and_nltk_normpunc_tokenize:\n",
              "\n",
              "    All tests passed!\n",
              "    \n",
              "\n",
              "norm_tokens_punc:\n",
              "\n",
              "    All tests passed!\n",
              "    \n",
              "\n",
              "normalize_token:\n",
              "\n",
              "    All tests passed!\n",
              "    \n",
              "\n",
              "token_count:\n",
              "\n",
              "    All tests passed!\n",
              "    \n",
              "\n",
              "token_count_punc:\n",
              "\n",
              "    All tests passed!\n",
              "    \n",
              "\n",
              "token_count_whitespace:\n",
              "\n",
              "    All tests passed!\n",
              "    \n",
              "\n",
              "tokens_whitespace:\n",
              "\n",
              "    All tests passed!\n",
              "    \n",
              "\n",
              "type_count:\n",
              "\n",
              "    All tests passed!\n",
              "    \n",
              "\n",
              "type_count_norm_punc:\n",
              "\n",
              "    All tests passed!\n",
              "    \n"
            ],
            "text/html": [
              "<p><strong>anywhere_1hot:</strong></p>\n",
              "\n",
              "    \n",
              "    \n",
              "        <p>All tests passed!</p>\n",
              "    \n",
              "    \n",
              "\n",
              "<p><strong>anywhere_1hot_reverse:</strong></p>\n",
              "\n",
              "    \n",
              "    \n",
              "        <p>All tests passed!</p>\n",
              "    \n",
              "    \n",
              "\n",
              "<p><strong>cosine_distance:</strong></p>\n",
              "\n",
              "    \n",
              "    \n",
              "        <p>All tests passed!</p>\n",
              "    \n",
              "    \n",
              "\n",
              "<p><strong>euclidean_distance:</strong></p>\n",
              "\n",
              "    \n",
              "    \n",
              "        <p>All tests passed!</p>\n",
              "    \n",
              "    \n",
              "\n",
              "<p><strong>example_bow:</strong></p>\n",
              "\n",
              "    \n",
              "    \n",
              "        <p>All tests passed!</p>\n",
              "    \n",
              "    \n",
              "\n",
              "<p><strong>example_sow:</strong></p>\n",
              "\n",
              "    \n",
              "    \n",
              "        <p>All tests passed!</p>\n",
              "    \n",
              "    \n",
              "\n",
              "<p><strong>hamming_distance:</strong></p>\n",
              "\n",
              "    \n",
              "    \n",
              "        <p>All tests passed!</p>\n",
              "    \n",
              "    \n",
              "\n",
              "<p><strong>jaccard_distance:</strong></p>\n",
              "\n",
              "    \n",
              "    \n",
              "        <p>All tests passed!</p>\n",
              "    \n",
              "    \n",
              "\n",
              "<p><strong>nltk_norm_tokens_punc:</strong></p>\n",
              "\n",
              "    \n",
              "    \n",
              "        <p>All tests passed!</p>\n",
              "    \n",
              "    \n",
              "\n",
              "<p><strong>nltk_whitespace_tokenize_and_nltk_normpunc_tokenize:</strong></p>\n",
              "\n",
              "    \n",
              "    \n",
              "        <p>All tests passed!</p>\n",
              "    \n",
              "    \n",
              "\n",
              "<p><strong>norm_tokens_punc:</strong></p>\n",
              "\n",
              "    \n",
              "    \n",
              "        <p>All tests passed!</p>\n",
              "    \n",
              "    \n",
              "\n",
              "<p><strong>normalize_token:</strong></p>\n",
              "\n",
              "    \n",
              "    \n",
              "        <p>All tests passed!</p>\n",
              "    \n",
              "    \n",
              "\n",
              "<p><strong>token_count:</strong></p>\n",
              "\n",
              "    \n",
              "    \n",
              "        <p>All tests passed!</p>\n",
              "    \n",
              "    \n",
              "\n",
              "<p><strong>token_count_punc:</strong></p>\n",
              "\n",
              "    \n",
              "    \n",
              "        <p>All tests passed!</p>\n",
              "    \n",
              "    \n",
              "\n",
              "<p><strong>token_count_whitespace:</strong></p>\n",
              "\n",
              "    \n",
              "    \n",
              "        <p>All tests passed!</p>\n",
              "    \n",
              "    \n",
              "\n",
              "<p><strong>tokens_whitespace:</strong></p>\n",
              "\n",
              "    \n",
              "    \n",
              "        <p>All tests passed!</p>\n",
              "    \n",
              "    \n",
              "\n",
              "<p><strong>type_count:</strong></p>\n",
              "\n",
              "    \n",
              "    \n",
              "        <p>All tests passed!</p>\n",
              "    \n",
              "    \n",
              "\n",
              "<p><strong>type_count_norm_punc:</strong></p>\n",
              "\n",
              "    \n",
              "    \n",
              "        <p>All tests passed!</p>\n",
              "    \n",
              "    \n",
              "\n"
            ]
          },
          "metadata": {},
          "execution_count": 276
        }
      ],
      "source": [
        "grader.check_all()"
      ]
    }
  ],
  "metadata": {
    "celltoolbar": "Tags",
    "kernelspec": {
      "display_name": "otter-latest",
      "language": "python",
      "name": "python3"
    },
    "language_info": {
      "codemirror_mode": {
        "name": "ipython",
        "version": 3
      },
      "file_extension": ".py",
      "mimetype": "text/x-python",
      "name": "python",
      "nbconvert_exporter": "python",
      "pygments_lexer": "ipython3",
      "version": "3.8.3"
    },
    "title": "CS236299 Lab 1-1: Types, tokens, and representing text",
    "vscode": {
      "interpreter": {
        "hash": "4fba83c08fc02185bb2310bd24d0cd81fb04529c933f82aa81c61aab9d5528dc"
      }
    },
    "colab": {
      "provenance": []
    }
  },
  "nbformat": 4,
  "nbformat_minor": 5
}