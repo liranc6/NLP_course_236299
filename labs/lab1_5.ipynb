{
  "cells": [
    {
      "cell_type": "code",
      "execution_count": 3,
      "id": "13cc8345",
      "metadata": {
        "deletable": false,
        "editable": false,
        "jupyter": {
          "outputs_hidden": true,
          "source_hidden": true
        },
        "colab": {
          "base_uri": "https://localhost:8080/"
        },
        "id": "13cc8345",
        "outputId": "ef38044a-bb1d-46f6-d81a-2fb2e8bc5109"
      },
      "outputs": [
        {
          "output_type": "stream",
          "name": "stdout",
          "text": [
            "     ━━━━━━━━━━━━━━━━━━━━━━━━━━━━━━━━━━━━━━━ 164.0/164.0 kB 4.2 MB/s eta 0:00:00\n",
            "     ━━━━━━━━━━━━━━━━━━━━━━━━━━━━━━━━━━━━━━ 474.6/474.6 kB 17.0 MB/s eta 0:00:00\n",
            "     ━━━━━━━━━━━━━━━━━━━━━━━━━━━━━━━━━━━━━━━━ 7.8/7.8 MB 65.7 MB/s eta 0:00:00\n",
            "     ━━━━━━━━━━━━━━━━━━━━━━━━━━━━━━━━━━━━━━ 110.5/110.5 kB 12.5 MB/s eta 0:00:00\n",
            "     ━━━━━━━━━━━━━━━━━━━━━━━━━━━━━━━━━━━━━━ 232.6/232.6 kB 24.2 MB/s eta 0:00:00\n",
            "     ━━━━━━━━━━━━━━━━━━━━━━━━━━━━━━━━━━━━━━ 147.5/147.5 kB 16.3 MB/s eta 0:00:00\n",
            "     ━━━━━━━━━━━━━━━━━━━━━━━━━━━━━━━━━━━━━━ 134.3/134.3 kB 15.5 MB/s eta 0:00:00\n",
            "     ━━━━━━━━━━━━━━━━━━━━━━━━━━━━━━━━━━━━━━━━ 1.0/1.0 MB 65.0 MB/s eta 0:00:00\n",
            "     ━━━━━━━━━━━━━━━━━━━━━━━━━━━━━━━━━━━━━━ 212.5/212.5 kB 23.8 MB/s eta 0:00:00\n",
            "     ━━━━━━━━━━━━━━━━━━━━━━━━━━━━━━━━━━━━━━ 224.5/224.5 kB 24.1 MB/s eta 0:00:00\n",
            "     ━━━━━━━━━━━━━━━━━━━━━━━━━━━━━━━━━━━━━━ 149.6/149.6 kB 18.2 MB/s eta 0:00:00\n",
            "     ━━━━━━━━━━━━━━━━━━━━━━━━━━━━━━━━━━━━━━ 268.8/268.8 kB 27.3 MB/s eta 0:00:00\n",
            "     ━━━━━━━━━━━━━━━━━━━━━━━━━━━━━━━━━━━━━━ 114.5/114.5 kB 13.9 MB/s eta 0:00:00\n",
            "     ━━━━━━━━━━━━━━━━━━━━━━━━━━━━━━━━━━━━━━━━ 1.6/1.6 MB 76.9 MB/s eta 0:00:00\n"
          ]
        }
      ],
      "source": [
        "# Please do not change this cell because some hidden tests might depend on it.\n",
        "import os\n",
        "\n",
        "# Otter grader does not handle ! commands well, so we define and use our\n",
        "# own function to execute shell commands.\n",
        "def shell(commands, warn=True):\n",
        "    \"\"\"Executes the string `commands` as a sequence of shell commands.\n",
        "     \n",
        "       Prints the result to stdout and returns the exit status. \n",
        "       Provides a printed warning on non-zero exit status unless `warn` \n",
        "       flag is unset.\n",
        "    \"\"\"\n",
        "    file = os.popen(commands)\n",
        "    print (file.read().rstrip('\\n'))\n",
        "    exit_status = file.close()\n",
        "    if warn and exit_status != None:\n",
        "        print(f\"Completed with errors. Exit status: {exit_status}\\n\")\n",
        "    return exit_status\n",
        "\n",
        "shell(\"\"\"\n",
        "ls requirements.txt >/dev/null 2>&1\n",
        "if [ ! $? = 0 ]; then\n",
        " rm -rf .tmp\n",
        " git clone https://github.com/cs236299-2023-spring/lab1-5.git .tmp\n",
        " mv .tmp/tests ./\n",
        " mv .tmp/requirements.txt ./\n",
        " rm -rf .tmp\n",
        "fi\n",
        "pip install -q -r requirements.txt\n",
        "\"\"\")"
      ]
    },
    {
      "cell_type": "code",
      "execution_count": 4,
      "id": "60feb290",
      "metadata": {
        "deletable": false,
        "editable": false,
        "id": "60feb290"
      },
      "outputs": [],
      "source": [
        "# Initialize Otter\n",
        "import otter\n",
        "grader = otter.Notebook()"
      ]
    },
    {
      "cell_type": "raw",
      "id": "242c48b7",
      "metadata": {
        "id": "242c48b7"
      },
      "source": [
        "%%latex\n",
        "\\newcommand{\\vect}[1]{\\mathbf{#1}}\n",
        "\\newcommand{\\cnt}[1]{\\sharp(#1)}\n",
        "\\newcommand{\\argmax}[1]{\\underset{#1}{\\operatorname{argmax}}}\n",
        "\\newcommand{\\softmax}{\\operatorname{softmax}}\n",
        "\\newcommand{\\Prob}{\\Pr}\n",
        "\\newcommand{\\given}{\\,|\\,}"
      ]
    },
    {
      "cell_type": "markdown",
      "id": "195e1ba3",
      "metadata": {
        "id": "195e1ba3"
      },
      "source": [
        "$$\n",
        "\\renewcommand{\\vect}[1]{\\mathbf{#1}}\n",
        "\\renewcommand{\\cnt}[1]{\\sharp(#1)}\n",
        "\\renewcommand{\\argmax}[1]{\\underset{#1}{\\operatorname{argmax}}}\n",
        "\\renewcommand{\\softmax}{\\operatorname{softmax}}\n",
        "\\renewcommand{\\Prob}{\\Pr}\n",
        "\\renewcommand{\\given}{\\,|\\,}\n",
        "$$"
      ]
    },
    {
      "cell_type": "markdown",
      "id": "e6362ab1",
      "metadata": {
        "tags": [
          "remove_for_latex"
        ],
        "id": "e6362ab1"
      },
      "source": [
        "# Course 236299\n",
        "## Lab 1-5 – Scaling up: Huggingface Datasets, Tokenizers, and PyTorch"
      ]
    },
    {
      "cell_type": "markdown",
      "id": "8048f316",
      "metadata": {
        "id": "8048f316"
      },
      "source": [
        "As you've seen, a typical pipeline for NLP applications based on supervised machine learning involves several standard components:\n",
        "\n",
        "1. Loading of annotated textual corpora.\n",
        "2. Tokenization and normalization of the text.\n",
        "3. Distributing instances into subcorpora, for instance, training, development, and test corpora.\n",
        "4. Training of models on training data, using development data for model selection.\n",
        "5. Evaluation of the models on test data.\n",
        "\n",
        "Rather than recapitulate all of these component tasks for each application, standard packages have been developed to facilitate them. In order to facilitate your own experimentation, it's time to make use of some of these packages to scale up your ability to build and test models. That is the subject of this lab.\n",
        "\n",
        "Huggingface's `datasets` and `tokenizers` libraries provide a uniform system for establishing dataset objects that contain multiple examples, each of which may have multiple features. These libraries provide functions to preprocess, tokenize, or postprocess the data. Dataset objects can be easily split into parts (training and test, for instance), or turned into a sequence of small batches for processing by models. Most importantly, as you will see in future labs, these data loading libraries can be easily integrated with Huggingface's `transformers` library which is widely used in NLP applications these days. \n",
        "\n",
        "This lab provides an introduction to using `datasets`, `tokenizers`, and PyTorch in preparation for its appearance in later labs and homework problem sets.\n",
        "\n",
        "After this lab, you should be able to\n",
        "\n",
        "* Read data loading code implemented using `datasets` and `tokenizers` and understand what it is intending to accomplish.\n",
        "* Run experiments training and testing simple feed-forward neural networks using PyTorch."
      ]
    },
    {
      "cell_type": "markdown",
      "id": "4677a315",
      "metadata": {
        "id": "4677a315"
      },
      "source": [
        "New bits of Python used for the first time in the *distribution version* of this lab include:\n",
        "\n",
        "* Datasets\n",
        "    * [`datasets.load_dataset`](https://huggingface.co/docs/datasets/loading)\n",
        "\n",
        "    * [`datasets.Dataset`](https://huggingface.co/docs/datasets/package_reference/main_classes#datasets.Dataset)\n",
        "    * `datasets.Dataset.shuffle`\n",
        "    * `datasets.Dataset.train_test_split`\n",
        "    * `datasets.Dataset.add_column`\n",
        "    * `datasets.Dataset.map`\n",
        "    * `datasets.Dataset.class_encode_column`\n",
        "    * `datasets.Dataset.align_labels_with_mapping`\n",
        "   \n",
        "* Tokenizers\n",
        "    * [`tokenizers.Tokenizer`](https://huggingface.co/docs/tokenizers/pipeline)\n",
        "    * `tokenizer.Tokenizer.encode`\n",
        "    * `tokenizer.Tokenizer.decode`\n",
        "    * `tokenizer.Tokenizer.get_vocab`\n",
        "    * `tokenizer.Tokenizer.train_from_iterator`\n",
        "    * `tokenizer.processors.TemplateProcessing`\n",
        "\n",
        "* Transformers\n",
        "    * `transformers.PreTrainedTokenizerFast`\n",
        "* Torch\n",
        "    * [`torch.utils.data.DataLoader`](https://pytorch.org/docs/stable/data.html)\n",
        "    * [`torch.nn.Module.eval`](https://pytorch.org/docs/stable/generated/torch.nn.Module.html#torch.nn.Module.eval)\n",
        "    * `torch.nn.Linear`\n",
        "    * `torch.nn.Sigmoid`\n",
        "    * `torch.distributions.normal.Normal`\n",
        "    * `torch.distributions.uniform.Uniform`\n",
        "\n",
        "\n",
        "* `tqdm.tqdm` (for generating progress bars)\n",
        "\n",
        "New bits of Python used for the first time in the *solution set* for this lab, and which you may therefore find useful:\n",
        "\n",
        "* [`torch.Tensor.backward`](https://pytorch.org/docs/stable/autograd.html#torch.Tensor.backward)\n",
        "* [`torch.optim.Optimizer.step`](https://pytorch.org/docs/stable/generated/torch.optim.Optimizer.step.html#torch.optim.Optimizer.step)"
      ]
    },
    {
      "cell_type": "markdown",
      "id": "1f62ceac",
      "metadata": {
        "id": "1f62ceac"
      },
      "source": [
        "# Preparation – Loading packages and data"
      ]
    },
    {
      "cell_type": "code",
      "source": [
        "!pip install transformers"
      ],
      "metadata": {
        "colab": {
          "base_uri": "https://localhost:8080/"
        },
        "id": "iNGa78w1mynY",
        "outputId": "0e86ad6e-d587-44c2-dfa8-a8e0ec773a5a"
      },
      "id": "iNGa78w1mynY",
      "execution_count": 6,
      "outputs": [
        {
          "output_type": "stream",
          "name": "stdout",
          "text": [
            "Looking in indexes: https://pypi.org/simple, https://us-python.pkg.dev/colab-wheels/public/simple/\n",
            "Requirement already satisfied: transformers in /usr/local/lib/python3.10/dist-packages (4.28.1)\n",
            "Requirement already satisfied: numpy>=1.17 in /usr/local/lib/python3.10/dist-packages (from transformers) (1.22.4)\n",
            "Requirement already satisfied: tokenizers!=0.11.3,<0.14,>=0.11.1 in /usr/local/lib/python3.10/dist-packages (from transformers) (0.13.3)\n",
            "Requirement already satisfied: tqdm>=4.27 in /usr/local/lib/python3.10/dist-packages (from transformers) (4.65.0)\n",
            "Requirement already satisfied: regex!=2019.12.17 in /usr/local/lib/python3.10/dist-packages (from transformers) (2022.10.31)\n",
            "Requirement already satisfied: huggingface-hub<1.0,>=0.11.0 in /usr/local/lib/python3.10/dist-packages (from transformers) (0.14.1)\n",
            "Requirement already satisfied: filelock in /usr/local/lib/python3.10/dist-packages (from transformers) (3.12.0)\n",
            "Requirement already satisfied: pyyaml>=5.1 in /usr/local/lib/python3.10/dist-packages (from transformers) (6.0)\n",
            "Requirement already satisfied: packaging>=20.0 in /usr/local/lib/python3.10/dist-packages (from transformers) (23.1)\n",
            "Requirement already satisfied: requests in /usr/local/lib/python3.10/dist-packages (from transformers) (2.27.1)\n",
            "Requirement already satisfied: fsspec in /usr/local/lib/python3.10/dist-packages (from huggingface-hub<1.0,>=0.11.0->transformers) (2023.4.0)\n",
            "Requirement already satisfied: typing-extensions>=3.7.4.3 in /usr/local/lib/python3.10/dist-packages (from huggingface-hub<1.0,>=0.11.0->transformers) (4.5.0)\n",
            "Requirement already satisfied: idna<4,>=2.5 in /usr/local/lib/python3.10/dist-packages (from requests->transformers) (3.4)\n",
            "Requirement already satisfied: certifi>=2017.4.17 in /usr/local/lib/python3.10/dist-packages (from requests->transformers) (2022.12.7)\n",
            "Requirement already satisfied: urllib3<1.27,>=1.21.1 in /usr/local/lib/python3.10/dist-packages (from requests->transformers) (1.26.15)\n",
            "Requirement already satisfied: charset-normalizer~=2.0.0 in /usr/local/lib/python3.10/dist-packages (from requests->transformers) (2.0.12)\n"
          ]
        }
      ]
    },
    {
      "cell_type": "code",
      "execution_count": 7,
      "id": "de34aab5",
      "metadata": {
        "deletable": false,
        "editable": false,
        "id": "de34aab5"
      },
      "outputs": [],
      "source": [
        "import copy\n",
        "import math\n",
        "import random\n",
        "import matplotlib.pyplot as plt\n",
        "import os\n",
        "from copy import deepcopy\n",
        "import re\n",
        "import sys\n",
        "import warnings\n",
        "import wget\n",
        "import csv\n",
        "\n",
        "import torch\n",
        "import torch.distributions as ds\n",
        "import torch.nn as nn\n",
        "import torch.nn.functional as F\n",
        "import datasets\n",
        "\n",
        "from datasets import load_dataset\n",
        "from tokenizers import Tokenizer\n",
        "from tokenizers.pre_tokenizers import Whitespace\n",
        "from tokenizers.processors import TemplateProcessing\n",
        "from tokenizers import normalizers\n",
        "from tokenizers.models import WordLevel\n",
        "from tokenizers.trainers import WordLevelTrainer\n",
        "\n",
        "from transformers import PreTrainedTokenizerFast\n",
        "\n",
        "from torch import optim\n",
        "from tqdm import tqdm"
      ]
    },
    {
      "cell_type": "code",
      "execution_count": 8,
      "id": "fa47e1ed",
      "metadata": {
        "colab": {
          "base_uri": "https://localhost:8080/"
        },
        "id": "fa47e1ed",
        "outputId": "121f9ce3-8a22-4438-df91-5bdbaaeec309"
      },
      "outputs": [
        {
          "output_type": "stream",
          "name": "stdout",
          "text": [
            "cpu\n"
          ]
        }
      ],
      "source": [
        "# Set up plotting\n",
        "plt.style.use('tableau-colorblind10')\n",
        "\n",
        "# Fix random seed for replicability\n",
        "random_seed = 1234\n",
        "random.seed(random_seed)\n",
        "torch.manual_seed(random_seed)\n",
        "\n",
        "## GPU check\n",
        "device = torch.device(\"cuda\" if torch.cuda.is_available() else \"cpu\")\n",
        "print(device)"
      ]
    },
    {
      "cell_type": "markdown",
      "id": "63f0f1e2",
      "metadata": {
        "id": "63f0f1e2"
      },
      "source": [
        "# Manipulating text corpora with `datasets`"
      ]
    },
    {
      "cell_type": "markdown",
      "id": "a20d1410",
      "metadata": {
        "id": "a20d1410"
      },
      "source": [
        "You'll use Huggingface's `datasets` to load the _Green Eggs and Ham_ (GEaH) dataset.\n",
        "\n",
        "We start with reading in the data and performing some ad hoc cleaning (removing comment lines and blank lines)."
      ]
    },
    {
      "cell_type": "code",
      "execution_count": 9,
      "id": "91819d92",
      "metadata": {
        "id": "91819d92"
      },
      "outputs": [],
      "source": [
        "def strip_file(text):\n",
        "    \"\"\"strip #comments and empty lines from `text` string\"\"\"\n",
        "    result = \"\"\n",
        "    for line in text.split(\"\\n\"):\n",
        "        line = line.strip()              # trim whitespace\n",
        "        line = re.sub('#.*$', '', line)  # trim comments\n",
        "        if line != '':                   # drop blank lines\n",
        "            result += line + '\\n'\n",
        "    return result\n",
        "\n",
        "# Read the GEaH data and write out a corresponding CSV file\n",
        "os.makedirs('data', exist_ok=True)\n",
        "wget.download(\"https://github.com/nlp-236299/data/raw/master/Seuss/seuss - 1960 - green eggs and ham.txt\", out=\"data/\")\n",
        "with open('data/seuss - 1960 - green eggs and ham.txt', 'r') as fin:\n",
        "    with open('data/geah.csv', 'w') as fout:\n",
        "        writer = csv.writer(fout)\n",
        "        writer.writerow(('label','text'))\n",
        "        text = strip_file(fin.read())\n",
        "        for line in text.strip().split('\\n'):\n",
        "            label, text = line.split('\\t')\n",
        "            writer.writerow((label, text))"
      ]
    },
    {
      "cell_type": "markdown",
      "id": "e82b0ff0",
      "metadata": {
        "id": "e82b0ff0"
      },
      "source": [
        "## Constructing training and test datasets\n",
        "\n",
        "Take a look at the file `geah.csv`, which we've just processed and placed into the sibling `data` folder. "
      ]
    },
    {
      "cell_type": "code",
      "execution_count": 10,
      "id": "8d318429",
      "metadata": {
        "colab": {
          "base_uri": "https://localhost:8080/"
        },
        "id": "8d318429",
        "outputId": "262f353f-a1fc-4370-dcb1-1eb16257a229"
      },
      "outputs": [
        {
          "output_type": "stream",
          "name": "stdout",
          "text": [
            "label,text\n",
            "SAM,I am Sam.\n",
            "SAM,I am Sam.\n",
            "SAM,Sam I am.\n",
            "GUY,That Sam-I-am!\n",
            "GUY,That Sam-I-am!\n",
            "GUY,I do not like that Sam-I-am!\n",
            "SAM,Do you like green eggs and ham?\n",
            "GUY,\"I do not like them, Sam-I-am.\"\n",
            "GUY,I do not like green eggs and ham.\n"
          ]
        }
      ],
      "source": [
        "shell('head \"data/geah.csv\"')"
      ]
    },
    {
      "cell_type": "markdown",
      "id": "2b3fb563",
      "metadata": {
        "id": "2b3fb563"
      },
      "source": [
        "Notice the structure of this corpus. Each line contains a sentence from the book, preceded by a label that provides the speaker of that sentence. The speaker and sentence are separated by a comma. The data is thus set up properly for using Huggingface's [`datasets.load_dataset`](https://huggingface.co/docs/datasets/loading) using its `\"CSV\"` (comma-separated values) format."
      ]
    },
    {
      "cell_type": "markdown",
      "id": "18ddd6f6",
      "metadata": {
        "deletable": false,
        "editable": false,
        "id": "18ddd6f6"
      },
      "source": [
        "Now, you can set up the dataset using [`load_dataset`](https://huggingface.co/docs/datasets/loading). It should look for the CSV data in the file `data/geah.csv`, and should pass the argument `split='all'` such that a `dataset.Dataset` object instead of `dataset.DatasetDict` is returned.\n",
        "\n",
        "<!--\n",
        "BEGIN QUESTION\n",
        "name: dataset_setup\n",
        "-->"
      ]
    },
    {
      "cell_type": "code",
      "execution_count": 11,
      "id": "ee130dae",
      "metadata": {
        "colab": {
          "base_uri": "https://localhost:8080/",
          "height": 137,
          "referenced_widgets": [
            "81732d942860457992895083c80c502c",
            "e7fc8a0a7b0440e483a599a46569a264",
            "b4f657d10d2c4a1ea71f0dd6eec89f7e",
            "b086391c16de443d909a94a2f983c4dd",
            "c27891ed39b345158deb9319c67df3b6",
            "b59b598c30864813a41d646c932a792f",
            "55859be939bf4aa8bf550a3e6be9745f",
            "f1cee8e61ab64c8c8d434873d4528d65",
            "d811a8aa6cb942e48c91eac383b0bfe0",
            "bd22f402eef840c5910fefb6fc30c378",
            "539329442cf34e36b0e82747ecf6f49a",
            "bd2f598a6f73411ca7a46a0a4a0250e9",
            "34c16f28623c4219a806864f66d0ee5b",
            "77238d3d255548b6a1e1df995f11b0b3",
            "bd92ba7fed7548a4b6c5216e9c19cc2a",
            "17c8dfc775ec4d8a9a7b9492d3d98afb",
            "313d4389cf2b43218e76d44bd8b3e2cf",
            "67ec73cb53534d65b7f158a36b2610d9",
            "7751c1d611ea4c3f9e4b01221c52438a",
            "afa8022752464fce8beb22395ebb6b62",
            "60bd200315bd49829e4f84ce4d8e71bf",
            "24da6b7fed8641079f081125856b8d6e",
            "fcdb79ecec7246a38bcc9b1ced918b6b",
            "3b3b0ec98e0145d3aed6608f3e4556b5",
            "cebc897dc9e94d53a93d43f7b330262a",
            "d84d469049e943a1b5151f958306f50a",
            "e279ea8943f64fe5bfb5aa44ef78527f",
            "7201ed7fd7634f67995c1418791fd9cb",
            "77e5a310c25e464da1c15cc7530fba4f",
            "7fbd5e8296124012bf039e5bd48f3253",
            "d929e39e9b0d4e778fa4f786c8fb9376",
            "2be3bb763edf45a198f271eda1207b97",
            "0540cbfb004a4272aa6eee66a2308773"
          ]
        },
        "id": "ee130dae",
        "outputId": "4a33cde8-4c9d-4044-89b2-eb4b84104edc"
      },
      "outputs": [
        {
          "output_type": "stream",
          "name": "stdout",
          "text": [
            "Downloading and preparing dataset csv/default to /root/.cache/huggingface/datasets/csv/default-4684d09440abec37/0.0.0/6954658bab30a358235fa864b05cf819af0e179325c740e4bc853bcc7ec513e1...\n"
          ]
        },
        {
          "output_type": "display_data",
          "data": {
            "text/plain": [
              "Downloading data files:   0%|          | 0/1 [00:00<?, ?it/s]"
            ],
            "application/vnd.jupyter.widget-view+json": {
              "version_major": 2,
              "version_minor": 0,
              "model_id": "81732d942860457992895083c80c502c"
            }
          },
          "metadata": {}
        },
        {
          "output_type": "display_data",
          "data": {
            "text/plain": [
              "Extracting data files:   0%|          | 0/1 [00:00<?, ?it/s]"
            ],
            "application/vnd.jupyter.widget-view+json": {
              "version_major": 2,
              "version_minor": 0,
              "model_id": "bd2f598a6f73411ca7a46a0a4a0250e9"
            }
          },
          "metadata": {}
        },
        {
          "output_type": "display_data",
          "data": {
            "text/plain": [
              "Generating train split: 0 examples [00:00, ? examples/s]"
            ],
            "application/vnd.jupyter.widget-view+json": {
              "version_major": 2,
              "version_minor": 0,
              "model_id": "fcdb79ecec7246a38bcc9b1ced918b6b"
            }
          },
          "metadata": {}
        },
        {
          "output_type": "stream",
          "name": "stdout",
          "text": [
            "Dataset csv downloaded and prepared to /root/.cache/huggingface/datasets/csv/default-4684d09440abec37/0.0.0/6954658bab30a358235fa864b05cf819af0e179325c740e4bc853bcc7ec513e1. Subsequent calls will reuse this data.\n"
          ]
        }
      ],
      "source": [
        "#TODO: Set up the dataset using `load_dataset`. You should pass\n",
        "# `split='all'` such that a dataset.Dataset object is returned.\n",
        "geah = load_dataset(\"csv\", data_files=\"data/geah.csv\", split='all')\n",
        "geah = geah.shuffle(seed=random_seed)"
      ]
    },
    {
      "cell_type": "code",
      "execution_count": 12,
      "id": "92b5c9fe",
      "metadata": {
        "deletable": false,
        "editable": false,
        "colab": {
          "base_uri": "https://localhost:8080/",
          "height": 46
        },
        "id": "92b5c9fe",
        "outputId": "b05eba4f-cb95-415c-e800-740435e5fe69"
      },
      "outputs": [
        {
          "output_type": "execute_result",
          "data": {
            "text/plain": [
              "\n",
              "    All tests passed!\n",
              "    "
            ],
            "text/html": [
              "\n",
              "    \n",
              "    \n",
              "        <p>All tests passed!</p>\n",
              "    \n",
              "    "
            ]
          },
          "metadata": {},
          "execution_count": 12
        }
      ],
      "source": [
        "grader.check(\"dataset_setup\")"
      ]
    },
    {
      "cell_type": "markdown",
      "id": "b29194d7",
      "metadata": {
        "id": "b29194d7"
      },
      "source": [
        "We can see that the loaded dataset has two features: label and text."
      ]
    },
    {
      "cell_type": "code",
      "execution_count": 13,
      "id": "53743000",
      "metadata": {
        "colab": {
          "base_uri": "https://localhost:8080/"
        },
        "id": "53743000",
        "outputId": "88d153f7-df72-4b61-c2bf-f85295ca201b"
      },
      "outputs": [
        {
          "output_type": "execute_result",
          "data": {
            "text/plain": [
              "Dataset({\n",
              "    features: ['label', 'text'],\n",
              "    num_rows: 139\n",
              "})"
            ]
          },
          "metadata": {},
          "execution_count": 13
        }
      ],
      "source": [
        "geah"
      ]
    },
    {
      "cell_type": "markdown",
      "id": "bef7beeb",
      "metadata": {
        "id": "bef7beeb"
      },
      "source": [
        "We can access examples from this dataset simply by indexing it similar to how we index a Python list."
      ]
    },
    {
      "cell_type": "code",
      "execution_count": 14,
      "id": "d86e540c",
      "metadata": {
        "colab": {
          "base_uri": "https://localhost:8080/"
        },
        "id": "d86e540c",
        "outputId": "acc7e40a-1050-453f-a669-9f9be0bca757"
      },
      "outputs": [
        {
          "output_type": "execute_result",
          "data": {
            "text/plain": [
              "{'label': 'GUY', 'text': 'I do not like them here or there.'}"
            ]
          },
          "metadata": {},
          "execution_count": 14
        }
      ],
      "source": [
        "# The first example\n",
        "geah[0]"
      ]
    },
    {
      "cell_type": "code",
      "execution_count": 15,
      "id": "bb9406c9",
      "metadata": {
        "colab": {
          "base_uri": "https://localhost:8080/"
        },
        "id": "bb9406c9",
        "outputId": "365ee7f7-3f78-4753-85b8-cf0653d8b604"
      },
      "outputs": [
        {
          "output_type": "execute_result",
          "data": {
            "text/plain": [
              "{'label': ['GUY', 'SAM', 'GUY', 'GUY'],\n",
              " 'text': ['I do not like them with a fox.',\n",
              "  'Would you?',\n",
              "  'And I would eat them in a boat.',\n",
              "  'Not in a house.']}"
            ]
          },
          "metadata": {},
          "execution_count": 15
        }
      ],
      "source": [
        "# The second to the fifth examples\n",
        "geah[1:5]"
      ]
    },
    {
      "cell_type": "markdown",
      "id": "12ff8cbf",
      "metadata": {
        "deletable": false,
        "editable": false,
        "id": "12ff8cbf"
      },
      "source": [
        "All [`dataset.Dataset`](https://huggingface.co/docs/datasets/package_reference/main_classes#datasets.Dataset) objects have a [`train_test_split`](https://huggingface.co/docs/datasets/package_reference/main_classes#datasets.Dataset.train_test_split) method that splits the dataset into two pieces, for instance, to have a separate training and test set. Use the `train_test_split` method to generate a 70%/30% split of the GEaH corpus into two subsets called `train` and `test`. Note that you need to pass `seed=random_seed` to make sure the splitting to be determinstic and to pass the tests.\n",
        "<!--\n",
        "BEGIN QUESTION\n",
        "name: dataset_split\n",
        "-->"
      ]
    },
    {
      "cell_type": "code",
      "execution_count": 16,
      "id": "33390d65",
      "metadata": {
        "id": "33390d65"
      },
      "outputs": [],
      "source": [
        "#TODO: Split geah into 70% training data and 30% test data\n",
        "# Make sure to pass `seed=random_seed`.\n",
        "train_test = geah.train_test_split(test_size=0.3, seed=random_seed)\n",
        "train = train_test['train']\n",
        "test = train_test['test']"
      ]
    },
    {
      "cell_type": "code",
      "execution_count": 17,
      "id": "b47ca8ac",
      "metadata": {
        "deletable": false,
        "editable": false,
        "colab": {
          "base_uri": "https://localhost:8080/",
          "height": 46
        },
        "id": "b47ca8ac",
        "outputId": "c05c13a6-a9a0-49c6-d9d5-725c230c8f2a"
      },
      "outputs": [
        {
          "output_type": "execute_result",
          "data": {
            "text/plain": [
              "\n",
              "    All tests passed!\n",
              "    "
            ],
            "text/html": [
              "\n",
              "    \n",
              "    \n",
              "        <p>All tests passed!</p>\n",
              "    \n",
              "    "
            ]
          },
          "metadata": {},
          "execution_count": 17
        }
      ],
      "source": [
        "grader.check(\"dataset_split\")"
      ]
    },
    {
      "cell_type": "markdown",
      "id": "1ad7c5fb",
      "metadata": {
        "id": "1ad7c5fb"
      },
      "source": [
        "For the label feature, we can convert it to integer label ids to facilitate processing it with models such as neural networks using [`datasets.Dataset.class_encode_column`](https://huggingface.co/docs/datasets/v2.12.0/en/package_reference/main_classes#datasets.Dataset.class_encode_column)."
      ]
    },
    {
      "cell_type": "code",
      "execution_count": 18,
      "id": "1bed0860",
      "metadata": {
        "colab": {
          "base_uri": "https://localhost:8080/",
          "height": 17,
          "referenced_widgets": [
            "7adf87f29ecc4602aa0b6820720fdb7f",
            "caaf0136dc6b4c5183bd86e55fb8c91e",
            "e65e0447675e4448b663d16d44ae30f2",
            "72a85c81b73f412f965b16ee3870e0f7",
            "c02a3311d2324e1e92433a6e34d67710",
            "47a439bd9be24a508be4b3390831a84c",
            "623386500ed14bd6a005f1dfe883a892",
            "148cccd241314f27bfe91ab92e33807b",
            "46cc67c941f44d609b724fb5a4cc6aa9",
            "25e8b55a0fd44cdbbba6672785563f4a",
            "aed9d88aa84949f8913946080911b11e",
            "abb49a54353f4a2eba67609288c60bf9",
            "9fa9dcd8a55f4109b497a3eabe34a868",
            "293c6ecf34f34dcfb740a9bdf971ed92",
            "f7ebbb042d944b4daf374bb376958dc4",
            "2bae91be8dbe49c89b59c8153795f48c",
            "85c59393dcf24124a1e955d272abcae0",
            "e09b763ec6154899b42eae01f5691d28",
            "8e1be9bca7914beb965fd2f004782b30",
            "1249c2b08a4f428fa65cf5e3c01a232a",
            "962411df2c1442bd9d40641a77fb0c5a",
            "e5a07b55e9eb49a7861dec758b12fb20",
            "06cc98766691486b9f7b7c84ff571939",
            "0020d0cedee74e4c92719386694fe6f1",
            "7afbe7d5679349c7bc9e983dee99766c",
            "5b82534e392b4a8a8abcd9728f5d7f8b",
            "944da41f480f4625a9dff9840a672d6f",
            "afdbcdf5b5264867a8189aeee84e74ae",
            "ddc6f8a1e77f4ef08c6b7038acb6ea0a",
            "9c14d65dc232493583ea523635d5c7fe",
            "29b737d2c07c4d91b6b3854ea80812bb",
            "928affd0caac4acb8b3ca26cfebc64f9",
            "e8eb982f5a0645ef9886088d1b6101fc",
            "f192cede069b419198f74a3bafa82d16",
            "8be74c15de9b45e5ae4db2a187aa1d83",
            "b566890c4bdc4ef0b98c704b18fdfe7d",
            "f47e54ebc7014bd1b5c56121bf476cf8",
            "e6e748da042245b9a7f7912681d65925",
            "aec0476f02ee4a028979ea0e67daad80",
            "e98aa7b14e1b41a9b57ba34ef7a68b4e",
            "a9cd9fefc0fc4f4598a4f2e98f140552",
            "1de07dc1d8ea495e9f11a27438dd1b3d",
            "4514110165b84fcab2eb9bea829f3b00",
            "74df5da74aaf4c1ea186e0508e0b2cc2",
            "c85b4b58402b4382a04f414d84311af6",
            "ce3fb40925e04865b01c6fa23b324927",
            "bd9b4cc13b404ccabef75f5592621886",
            "f33b290b25b948788318f95450cb5c2e",
            "68cb571cd85241f196a71d4f9e4d998f",
            "430100e01eab4cb895748419c703c411",
            "2b3502b61652466a9af4119b0c56c93b",
            "68043cbf933044588cdd7fab7b59dab5",
            "ddf07568975b450898898b7e9ed34046",
            "b191f412715745e3bc9ff59acb8f8086",
            "ae0506940165428a9d7f48147e03b333"
          ]
        },
        "id": "1bed0860",
        "outputId": "18e2fc9c-7274-410a-b8f7-30a6694b0c7e"
      },
      "outputs": [
        {
          "output_type": "display_data",
          "data": {
            "text/plain": [
              "Flattening the indices:   0%|          | 0/97 [00:00<?, ? examples/s]"
            ],
            "application/vnd.jupyter.widget-view+json": {
              "version_major": 2,
              "version_minor": 0,
              "model_id": "7adf87f29ecc4602aa0b6820720fdb7f"
            }
          },
          "metadata": {}
        },
        {
          "output_type": "display_data",
          "data": {
            "text/plain": [
              "Flattening the indices:   0%|          | 0/42 [00:00<?, ? examples/s]"
            ],
            "application/vnd.jupyter.widget-view+json": {
              "version_major": 2,
              "version_minor": 0,
              "model_id": "abb49a54353f4a2eba67609288c60bf9"
            }
          },
          "metadata": {}
        },
        {
          "output_type": "display_data",
          "data": {
            "text/plain": [
              "Casting to class labels:   0%|          | 0/97 [00:00<?, ? examples/s]"
            ],
            "application/vnd.jupyter.widget-view+json": {
              "version_major": 2,
              "version_minor": 0,
              "model_id": "06cc98766691486b9f7b7c84ff571939"
            }
          },
          "metadata": {}
        },
        {
          "output_type": "display_data",
          "data": {
            "text/plain": [
              "Casting to class labels:   0%|          | 0/42 [00:00<?, ? examples/s]"
            ],
            "application/vnd.jupyter.widget-view+json": {
              "version_major": 2,
              "version_minor": 0,
              "model_id": "f192cede069b419198f74a3bafa82d16"
            }
          },
          "metadata": {}
        },
        {
          "output_type": "display_data",
          "data": {
            "text/plain": [
              "Aligning the labels:   0%|          | 0/42 [00:00<?, ? examples/s]"
            ],
            "application/vnd.jupyter.widget-view+json": {
              "version_major": 2,
              "version_minor": 0,
              "model_id": "c85b4b58402b4382a04f414d84311af6"
            }
          },
          "metadata": {}
        }
      ],
      "source": [
        "train = train.add_column('label_id', train['label'])\n",
        "test = test.add_column('label_id', test['label'])\n",
        "train = train.class_encode_column('label_id')\n",
        "\n",
        "label2id = train.features['label_id']._str2int\n",
        "test = test.class_encode_column('label_id')\n",
        "test = test.align_labels_with_mapping(label2id, \"label_id\")"
      ]
    },
    {
      "cell_type": "markdown",
      "id": "92caf06c",
      "metadata": {
        "id": "92caf06c"
      },
      "source": [
        "The new feature `label_id` stores the label ids."
      ]
    },
    {
      "cell_type": "code",
      "execution_count": 19,
      "id": "8187ed5f",
      "metadata": {
        "colab": {
          "base_uri": "https://localhost:8080/"
        },
        "id": "8187ed5f",
        "outputId": "65d400b0-79bf-4298-e588-9799889c23e4"
      },
      "outputs": [
        {
          "output_type": "execute_result",
          "data": {
            "text/plain": [
              "{'label': ['GUY', 'GUY', 'GUY', 'GUY'],\n",
              " 'text': ['Say!',\n",
              "  'Not in a tree!',\n",
              "  'You will see.',\n",
              "  'I would not eat them anywhere.'],\n",
              " 'label_id': [0, 0, 0, 0]}"
            ]
          },
          "metadata": {},
          "execution_count": 19
        }
      ],
      "source": [
        "train[1:5]"
      ]
    },
    {
      "cell_type": "markdown",
      "id": "7bb9ee9f",
      "metadata": {
        "id": "7bb9ee9f"
      },
      "source": [
        "Now let's turn our attention to text features. As we have explored in lab 1-1, text is usually represented as a sequence of integer word ids. In Huggingface datasets, we need to create a tokenizer which both specifies how to tokenize text into a sequence of tokens and also internally maintains a _vocabulary_ which establishes the mapping from types to indices. We will use the training corpus to establish the vocabulary."
      ]
    },
    {
      "cell_type": "code",
      "execution_count": 20,
      "id": "8fb4343e",
      "metadata": {
        "id": "8fb4343e"
      },
      "outputs": [],
      "source": [
        "unk_token = '[UNK]' # unknown token\n",
        "pad_token = '[PAD]' # padding token\n",
        "# Instantiate a tokenizer\n",
        "tokenizer = Tokenizer(WordLevel(unk_token=unk_token))  # WordLevel is a simplest tokenization model that doesn't split the words\n",
        "tokenizer.pre_tokenizer = Whitespace()  # pre-tokenizer splits the text into words    \n",
        "tokenizer.normalizer = normalizers.Lowercase() # normalizer lowercases the text\n",
        "\n",
        "# Build the vocabulary from training data\n",
        "trainer = WordLevelTrainer(special_tokens=[pad_token, unk_token]) # trainer is responsible for building the vocabulary\n",
        "tokenizer.train_from_iterator(train['text'], trainer=trainer)"
      ]
    },
    {
      "cell_type": "markdown",
      "id": "78d5cc55",
      "metadata": {
        "id": "78d5cc55"
      },
      "source": [
        "Let's try out the tokenizer on some examples."
      ]
    },
    {
      "cell_type": "code",
      "execution_count": 21,
      "id": "abd4e420",
      "metadata": {
        "colab": {
          "base_uri": "https://localhost:8080/"
        },
        "id": "abd4e420",
        "outputId": "19ab03c1-1ecd-4b5c-f795-c49ddd7b7e98"
      },
      "outputs": [
        {
          "output_type": "stream",
          "name": "stdout",
          "text": [
            "tokens: ['i', 'am', 'sam', '.']\n",
            "word ids: [4, 21, 17, 3]\n",
            "converted back: i am sam .\n"
          ]
        }
      ],
      "source": [
        "encoded = tokenizer.encode('I am Sam.')\n",
        "print (f'tokens: {encoded.tokens}')\n",
        "print (f'word ids: {encoded.ids}')\n",
        "print (f'converted back: {tokenizer.decode(encoded.ids, skip_special_tokens=False)}')"
      ]
    },
    {
      "cell_type": "code",
      "execution_count": 22,
      "id": "00f71cdf",
      "metadata": {
        "colab": {
          "base_uri": "https://localhost:8080/"
        },
        "id": "00f71cdf",
        "outputId": "ba1154f0-faab-41d8-c6e8-401f8a4210fe"
      },
      "outputs": [
        {
          "output_type": "stream",
          "name": "stdout",
          "text": [
            "tokens: ['[UNK]', '[UNK]', 'with', '[UNK]', '[UNK]', '[UNK]', '.']\n",
            "word ids: [1, 1, 19, 1, 1, 1, 3]\n",
            "converted back: [UNK] [UNK] with [UNK] [UNK] [UNK] .\n"
          ]
        }
      ],
      "source": [
        "encoded = tokenizer.encode('An example with many unknown tokens.')\n",
        "print (f'tokens: {encoded.tokens}')\n",
        "print (f'word ids: {encoded.ids}')\n",
        "print (f'converted back: {tokenizer.decode(encoded.ids, skip_special_tokens=False)}')"
      ]
    },
    {
      "cell_type": "markdown",
      "id": "108b41ab",
      "metadata": {
        "id": "108b41ab"
      },
      "source": [
        "In future labs we will also use `tokenizer.post_processor` which can be used to post-process the tokenized text. In the following example we will add exclamation points `!` in the beginning and end of the tokenized text using [TemplateProcessing](https://huggingface.co/docs/tokenizers/v0.13.3/en/api/post-processors#tokenizers.processors.TemplateProcessing)."
      ]
    },
    {
      "cell_type": "code",
      "execution_count": 23,
      "id": "9a31e09e",
      "metadata": {
        "colab": {
          "base_uri": "https://localhost:8080/"
        },
        "id": "9a31e09e",
        "outputId": "04a1eff1-a02e-4c14-b456-da8861c36f4a"
      },
      "outputs": [
        {
          "output_type": "stream",
          "name": "stdout",
          "text": [
            "tokens: ['!', 'i', 'am', 'sam', '.', '!']\n",
            "word ids: [10, 4, 21, 17, 3, 10]\n",
            "converted back: ! i am sam . !\n"
          ]
        }
      ],
      "source": [
        "exclamation_point = '!'\n",
        "post_procssing_tokenizer = deepcopy(tokenizer) # we clone the tokenizer for this example\n",
        "post_procssing_tokenizer.post_processor = TemplateProcessing(single=f\"{exclamation_point} $A {exclamation_point}\", \n",
        "                                                             special_tokens=[(exclamation_point, post_procssing_tokenizer.token_to_id(exclamation_point))])\n",
        "\n",
        "encoded = post_procssing_tokenizer.encode('I am Sam.')\n",
        "print (f'tokens: {encoded.tokens}')\n",
        "print (f'word ids: {encoded.ids}')\n",
        "print (f'converted back: {post_procssing_tokenizer.decode(encoded.ids, skip_special_tokens=False)}')"
      ]
    },
    {
      "cell_type": "markdown",
      "id": "78dd6550",
      "metadata": {
        "id": "78dd6550"
      },
      "source": [
        "With a tokenizer, we can convert text strings into integer word ids using `datasets.Dataset.map`. But first we need to wrap `tokenizer` with the [`transformers.PreTrainedTokenizerFast`](https://huggingface.co/docs/transformers/v4.26.1/en/main_classes/tokenizer#transformers.PreTrainedTokenizerFast) class. `transformers.PreTrainedTokenizerFast` provide a convenient interface for tokenizers that are compatible with __PyTorch tensors__."
      ]
    },
    {
      "cell_type": "code",
      "execution_count": 24,
      "id": "25529119",
      "metadata": {
        "id": "25529119"
      },
      "outputs": [],
      "source": [
        "hf_tokenizer = PreTrainedTokenizerFast(tokenizer_object=tokenizer, pad_token=pad_token, unk_token=unk_token)"
      ]
    },
    {
      "cell_type": "markdown",
      "id": "9d954fbc",
      "metadata": {
        "id": "9d954fbc"
      },
      "source": [
        "This `hf_tokenizer` takes in a text string and converts it to a sequence of word ids stored in `input_ids` of the returned dictionary. (You can ignore `token_type_ids` and `attention_mask` for now.)"
      ]
    },
    {
      "cell_type": "code",
      "execution_count": 25,
      "id": "6d004d0e",
      "metadata": {
        "colab": {
          "base_uri": "https://localhost:8080/"
        },
        "id": "6d004d0e",
        "outputId": "6b8466cd-2952-4500-e99c-6b98e298fc42"
      },
      "outputs": [
        {
          "output_type": "execute_result",
          "data": {
            "text/plain": [
              "{'input_ids': [4, 21, 17, 3], 'token_type_ids': [0, 0, 0, 0], 'attention_mask': [1, 1, 1, 1]}"
            ]
          },
          "metadata": {},
          "execution_count": 25
        }
      ],
      "source": [
        "text = 'I am Sam.'\n",
        "hf_tokenizer(text)"
      ]
    },
    {
      "cell_type": "markdown",
      "id": "6874791f",
      "metadata": {
        "id": "6874791f"
      },
      "source": [
        "We can use the `hf_tokenizer` to get a list of tokens."
      ]
    },
    {
      "cell_type": "code",
      "execution_count": 26,
      "id": "a9db9f59",
      "metadata": {
        "colab": {
          "base_uri": "https://localhost:8080/"
        },
        "id": "a9db9f59",
        "outputId": "253e0dce-fa35-44b8-b94b-c2aae6b9c31d"
      },
      "outputs": [
        {
          "output_type": "execute_result",
          "data": {
            "text/plain": [
              "['i', 'am', 'sam', '.']"
            ]
          },
          "metadata": {},
          "execution_count": 26
        }
      ],
      "source": [
        "text = 'I am Sam.'\n",
        "hf_tokenizer.tokenize(text)"
      ]
    },
    {
      "cell_type": "markdown",
      "id": "763f2e91",
      "metadata": {
        "id": "763f2e91"
      },
      "source": [
        "`hf_tokenizer` can also be used to decode the encoded text."
      ]
    },
    {
      "cell_type": "code",
      "execution_count": 27,
      "id": "43c4e7ef",
      "metadata": {
        "colab": {
          "base_uri": "https://localhost:8080/"
        },
        "id": "43c4e7ef",
        "outputId": "6dbdf89e-728d-46cd-e0d6-84333892ee59"
      },
      "outputs": [
        {
          "output_type": "stream",
          "name": "stdout",
          "text": [
            "text: I am Sam.\n",
            "encoded_text: [4, 21, 17, 3]\n",
            "decoded_text: i am sam.\n",
            "decoded_token list: ['i', 'am', 'sam', '.']\n"
          ]
        }
      ],
      "source": [
        "text = 'I am Sam.'\n",
        "encoded_text = hf_tokenizer(text).input_ids\n",
        "decoded_text = hf_tokenizer.decode(encoded_text)\n",
        "decoded_tokens = hf_tokenizer.convert_ids_to_tokens(encoded_text)\n",
        "print(f\"text: {text}\")\n",
        "print(f\"encoded_text: {encoded_text}\")\n",
        "print(f\"decoded_text: {decoded_text}\")\n",
        "print(f\"decoded_token list: {decoded_tokens}\")"
      ]
    },
    {
      "cell_type": "markdown",
      "id": "d35b003d",
      "metadata": {
        "id": "d35b003d"
      },
      "source": [
        "Note that `hf_tokenizer` also stores the vocabulary and the special tokens we provide it in the initialization."
      ]
    },
    {
      "cell_type": "code",
      "execution_count": 28,
      "id": "06c7776d",
      "metadata": {
        "colab": {
          "base_uri": "https://localhost:8080/"
        },
        "id": "06c7776d",
        "outputId": "bceb8e47-b7f5-42cc-8dda-a8db129d478a"
      },
      "outputs": [
        {
          "output_type": "stream",
          "name": "stdout",
          "text": [
            "hf_tokenizer.unk_token: [UNK]\n",
            "hf_tokenizer.unk_token_id: 1\n",
            "hf_tokenizer.pad_token: [PAD]\n",
            "hf_tokenizer.pad_token_id: 0\n",
            "hf_tokenizer.get_vocab():\n",
            " {'see': 46, '[PAD]': 0, 'let': 55, 'goat': 44, 'with': 19, 'green': 24, 'like': 8, 'ham': 25, 'could': 22, 'would': 14, 'rain': 39, 'tree': 41, 'box': 36, 'am': 21, 'good': 48, 'will': 18, 'house': 38, 'be': 54, 'sam': 17, 'or': 33, 'eat': 16, 'do': 11, 'you': 12, '-': 15, 'me': 56, 'them': 6, 'train': 30, '!': 10, 'may': 45, '...': 53, 'are': 47, 'they': 51, 'say': 40, 'i': 4, 'the': 26, 'car': 31, 'dark': 37, 'try': 52, 'and': 13, 'in': 9, '[UNK]': 1, 'eggs': 23, 'that': 50, '.': 3, 'boat': 42, 'so': 34, 'there': 32, 'thank': 49, 'not': 2, '?': 20, ',': 7, 'mouse': 28, 'anywhere': 35, 'a': 5, 'here': 27, 'fox': 43, 'on': 29}\n",
            "len(hf_tokenizer) == len(hf_tokenizer.get_vocab()): 57\n"
          ]
        }
      ],
      "source": [
        "print(f\"hf_tokenizer.unk_token: {hf_tokenizer.unk_token}\")\n",
        "print(f\"hf_tokenizer.unk_token_id: {hf_tokenizer.unk_token_id}\")\n",
        "print(f\"hf_tokenizer.pad_token: {hf_tokenizer.pad_token}\")\n",
        "print(f\"hf_tokenizer.pad_token_id: {hf_tokenizer.pad_token_id}\")\n",
        "print(f\"hf_tokenizer.get_vocab():\\n {hf_tokenizer.get_vocab()}\")\n",
        "print(f\"len(hf_tokenizer) == len(hf_tokenizer.get_vocab()): {len(hf_tokenizer)}\")\n"
      ]
    },
    {
      "cell_type": "markdown",
      "id": "51166ff6",
      "metadata": {
        "id": "51166ff6"
      },
      "source": [
        "Now we can convert text into word ids using [`datasets.Dataset.map`](https://huggingface.co/docs/datasets/v2.12.0/en/package_reference/main_classes#datasets.Dataset.map)."
      ]
    },
    {
      "cell_type": "code",
      "execution_count": 29,
      "id": "19c3ec1d",
      "metadata": {
        "colab": {
          "base_uri": "https://localhost:8080/",
          "height": 17,
          "referenced_widgets": [
            "ab109b87564d4ddd904ef5355cffb701",
            "c8c132f5174146df92972a1416323c04",
            "e131a7fed3754828afa5bdb746fb111f",
            "56cbad955fb1491b9709bcaae2269e31",
            "df69b648f4c946559c7266cda714f005",
            "b3b5ac8e258446f9b0fe313d6c038404",
            "b1e50f6b0bb346e1a7e9bae3977eee67",
            "b470f3bd671e416fa3ea89c4d2864c02",
            "52021fc9e27547c88d7d87be241d89bd",
            "d1ef1a886c7945c59069ca1035b2ecc0",
            "7cc82101763f40f68e18a2a9786ca22a",
            "698f412ee29a43659817b42469698d82",
            "b0542d5670994a6aa60ce30741106932",
            "ef036bddc6b74e069121fd63d9c7ac43",
            "08d7a6882c1a44cd923bcd54a665ecb4",
            "4009313c3b7b4b8a9984e6ae124df006",
            "ec325eed869948f8aabf19e3f68a0c44",
            "e92acbce563c4a7f8f860935ecf133a2",
            "222d674dfdec4531b4de312724e01f0c",
            "299a24f2ae744772a550770dcce3acc5",
            "ac3d8fb677954aa1bf88b1fc9dd12f37",
            "fdf8d57b5d9149aaa34a0eecc8802f2c"
          ]
        },
        "id": "19c3ec1d",
        "outputId": "1378d98e-7d4e-41c1-9bf8-5495ca84324c"
      },
      "outputs": [
        {
          "output_type": "display_data",
          "data": {
            "text/plain": [
              "Map:   0%|          | 0/97 [00:00<?, ? examples/s]"
            ],
            "application/vnd.jupyter.widget-view+json": {
              "version_major": 2,
              "version_minor": 0,
              "model_id": "ab109b87564d4ddd904ef5355cffb701"
            }
          },
          "metadata": {}
        },
        {
          "output_type": "display_data",
          "data": {
            "text/plain": [
              "Map:   0%|          | 0/42 [00:00<?, ? examples/s]"
            ],
            "application/vnd.jupyter.widget-view+json": {
              "version_major": 2,
              "version_minor": 0,
              "model_id": "698f412ee29a43659817b42469698d82"
            }
          },
          "metadata": {}
        }
      ],
      "source": [
        "def encode(example):\n",
        "    return hf_tokenizer(example['text'])\n",
        "\n",
        "train = train.map(encode)\n",
        "test = test.map(encode)"
      ]
    },
    {
      "cell_type": "markdown",
      "id": "449e8ba7",
      "metadata": {
        "id": "449e8ba7"
      },
      "source": [
        "Let's take a look at one example from the mapped dataset. The new feature `input_ids` contain the word ids."
      ]
    },
    {
      "cell_type": "code",
      "execution_count": 30,
      "id": "98634aa9",
      "metadata": {
        "colab": {
          "base_uri": "https://localhost:8080/"
        },
        "id": "98634aa9",
        "outputId": "99106b2f-5ed8-4830-9119-cabd995b1a17"
      },
      "outputs": [
        {
          "output_type": "execute_result",
          "data": {
            "text/plain": [
              "{'label': 'GUY',\n",
              " 'text': 'I will not eat them anywhere.',\n",
              " 'label_id': 0,\n",
              " 'input_ids': [4, 18, 2, 16, 6, 35, 3],\n",
              " 'token_type_ids': [0, 0, 0, 0, 0, 0, 0],\n",
              " 'attention_mask': [1, 1, 1, 1, 1, 1, 1]}"
            ]
          },
          "metadata": {},
          "execution_count": 30
        }
      ],
      "source": [
        "train[0]"
      ]
    },
    {
      "cell_type": "markdown",
      "id": "421c5674",
      "metadata": {
        "id": "421c5674"
      },
      "source": [
        "Again, we can view several examples at once."
      ]
    },
    {
      "cell_type": "code",
      "execution_count": 31,
      "id": "7e8032a5",
      "metadata": {
        "colab": {
          "base_uri": "https://localhost:8080/"
        },
        "id": "7e8032a5",
        "outputId": "5158a573-f8b7-4125-be88-4e0ebf698a86"
      },
      "outputs": [
        {
          "output_type": "execute_result",
          "data": {
            "text/plain": [
              "{'label': ['GUY', 'GUY', 'GUY', 'GUY'],\n",
              " 'text': ['Say!',\n",
              "  'Not in a tree!',\n",
              "  'You will see.',\n",
              "  'I would not eat them anywhere.'],\n",
              " 'label_id': [0, 0, 0, 0],\n",
              " 'input_ids': [[40, 10],\n",
              "  [2, 9, 5, 41, 10],\n",
              "  [12, 18, 46, 3],\n",
              "  [4, 14, 2, 16, 6, 35, 3]],\n",
              " 'token_type_ids': [[0, 0],\n",
              "  [0, 0, 0, 0, 0],\n",
              "  [0, 0, 0, 0],\n",
              "  [0, 0, 0, 0, 0, 0, 0]],\n",
              " 'attention_mask': [[1, 1],\n",
              "  [1, 1, 1, 1, 1],\n",
              "  [1, 1, 1, 1],\n",
              "  [1, 1, 1, 1, 1, 1, 1]]}"
            ]
          },
          "metadata": {},
          "execution_count": 31
        }
      ],
      "source": [
        "train[1:5]"
      ]
    },
    {
      "cell_type": "markdown",
      "id": "547c11e8",
      "metadata": {
        "id": "547c11e8"
      },
      "source": [
        "The text and label features now have vocabularies that maps the elements of the vocabulary to integer index representations of the elements, accessible via the below code."
      ]
    },
    {
      "cell_type": "code",
      "execution_count": 32,
      "id": "d03608d1",
      "metadata": {
        "id": "d03608d1"
      },
      "outputs": [],
      "source": [
        "text_vocab = tokenizer.get_vocab()\n",
        "label_vocab = train.features['label_id']._str2int"
      ]
    },
    {
      "cell_type": "code",
      "execution_count": 33,
      "id": "026ce8f9",
      "metadata": {
        "colab": {
          "base_uri": "https://localhost:8080/"
        },
        "id": "026ce8f9",
        "outputId": "937103d6-83c4-4bdb-b723-e0ba3fc9b870"
      },
      "outputs": [
        {
          "output_type": "execute_result",
          "data": {
            "text/plain": [
              "{'GUY': 0, 'SAM': 1}"
            ]
          },
          "metadata": {},
          "execution_count": 33
        }
      ],
      "source": [
        "label_vocab"
      ]
    },
    {
      "cell_type": "code",
      "execution_count": 34,
      "id": "b29d0360",
      "metadata": {
        "colab": {
          "base_uri": "https://localhost:8080/"
        },
        "id": "b29d0360",
        "outputId": "cbba1f6a-7cfd-44a6-b1f2-cd1fe9e975c8"
      },
      "outputs": [
        {
          "output_type": "execute_result",
          "data": {
            "text/plain": [
              "{'they': 51,\n",
              " '[UNK]': 1,\n",
              " 'do': 11,\n",
              " 'a': 5,\n",
              " 'let': 55,\n",
              " 'say': 40,\n",
              " '-': 15,\n",
              " 'or': 33,\n",
              " 'anywhere': 35,\n",
              " 'house': 38,\n",
              " 'good': 48,\n",
              " 'train': 30,\n",
              " 'dark': 37,\n",
              " 'sam': 17,\n",
              " 'tree': 41,\n",
              " 'boat': 42,\n",
              " 'in': 9,\n",
              " 'and': 13,\n",
              " ',': 7,\n",
              " 'eat': 16,\n",
              " 'like': 8,\n",
              " 'green': 24,\n",
              " 'on': 29,\n",
              " 'so': 34,\n",
              " 'i': 4,\n",
              " 'there': 32,\n",
              " 'that': 50,\n",
              " '[PAD]': 0,\n",
              " 'the': 26,\n",
              " 'box': 36,\n",
              " 'car': 31,\n",
              " '!': 10,\n",
              " 'may': 45,\n",
              " '.': 3,\n",
              " '?': 20,\n",
              " 'see': 46,\n",
              " '...': 53,\n",
              " 'you': 12,\n",
              " 'would': 14,\n",
              " 'am': 21,\n",
              " 'eggs': 23,\n",
              " 'goat': 44,\n",
              " 'with': 19,\n",
              " 'me': 56,\n",
              " 'not': 2,\n",
              " 'them': 6,\n",
              " 'will': 18,\n",
              " 'fox': 43,\n",
              " 'are': 47,\n",
              " 'ham': 25,\n",
              " 'be': 54,\n",
              " 'thank': 49,\n",
              " 'try': 52,\n",
              " 'mouse': 28,\n",
              " 'rain': 39,\n",
              " 'could': 22,\n",
              " 'here': 27}"
            ]
          },
          "metadata": {},
          "execution_count": 34
        }
      ],
      "source": [
        "text_vocab"
      ]
    },
    {
      "cell_type": "markdown",
      "id": "484832bc",
      "metadata": {
        "deletable": false,
        "editable": false,
        "id": "484832bc"
      },
      "source": [
        "How many elements are there in these vocabularies? You can use the `len` function to find out.\n",
        "<!--\n",
        "BEGIN QUESTION\n",
        "name: vocab_sizes\n",
        "-->"
      ]
    },
    {
      "cell_type": "code",
      "execution_count": 35,
      "id": "9684cdcf",
      "metadata": {
        "id": "9684cdcf"
      },
      "outputs": [],
      "source": [
        "#TODO: Calculate the sizes of label_vocab and text_vocab\n",
        "label_vocab_size = len(label_vocab)\n",
        "text_vocab_size = len(text_vocab)"
      ]
    },
    {
      "cell_type": "code",
      "execution_count": 36,
      "id": "1d984d76",
      "metadata": {
        "deletable": false,
        "editable": false,
        "colab": {
          "base_uri": "https://localhost:8080/",
          "height": 46
        },
        "id": "1d984d76",
        "outputId": "a8087027-9627-4ed6-8d3f-46c909f8b955"
      },
      "outputs": [
        {
          "output_type": "execute_result",
          "data": {
            "text/plain": [
              "\n",
              "    All tests passed!\n",
              "    "
            ],
            "text/html": [
              "\n",
              "    \n",
              "    \n",
              "        <p>All tests passed!</p>\n",
              "    \n",
              "    "
            ]
          },
          "metadata": {},
          "execution_count": 36
        }
      ],
      "source": [
        "grader.check(\"vocab_sizes\")"
      ]
    },
    {
      "cell_type": "code",
      "execution_count": 37,
      "id": "f922fcc4",
      "metadata": {
        "colab": {
          "base_uri": "https://localhost:8080/"
        },
        "id": "f922fcc4",
        "outputId": "f7e25922-53c9-42aa-b6d8-bca3c375ed50"
      },
      "outputs": [
        {
          "output_type": "stream",
          "name": "stdout",
          "text": [
            "label vocabulary size is 2\n",
            "text vocabulary size is 57\n"
          ]
        }
      ],
      "source": [
        "print(f\"label vocabulary size is {label_vocab_size}\\n\"\n",
        "      f\"text vocabulary size is {text_vocab_size}\")"
      ]
    },
    {
      "cell_type": "markdown",
      "id": "552f82f4",
      "metadata": {
        "id": "552f82f4"
      },
      "source": [
        "## Operations over datasets\n",
        "\n",
        "We now have training and test datasets. You can experiment with the kinds of operations you'll need to do to implement models like Naive Bayes or logistic regression.\n",
        "\n",
        "For instance, you can inspect an example from the dataset."
      ]
    },
    {
      "cell_type": "code",
      "execution_count": 38,
      "id": "72dbaedf",
      "metadata": {
        "colab": {
          "base_uri": "https://localhost:8080/"
        },
        "id": "72dbaedf",
        "outputId": "48cf1cba-410a-43a5-8fb0-a65717cda587"
      },
      "outputs": [
        {
          "output_type": "stream",
          "name": "stdout",
          "text": [
            "text: Say!\n",
            "label: GUY\n"
          ]
        }
      ],
      "source": [
        "example = train[1] # the second instance\n",
        "print (f\"text: {example['text']}\\n\"\n",
        "       f\"label: {example['label']}\")"
      ]
    },
    {
      "cell_type": "markdown",
      "id": "6880741f",
      "metadata": {
        "deletable": false,
        "editable": false,
        "id": "6880741f"
      },
      "source": [
        "You might also need to iterate over the different class labels (`label_vocab`) or the word types (`text_vocab`). Define a function that iterates over a vocabulary and prints each one out in alphabetical order along with their corresponding ids like this:\n",
        "\n",
        "```\n",
        ">>> print_vocab(label_vocab)\n",
        "GUY: 0\n",
        "SAM: 1\n",
        "```\n",
        "\n",
        "<!--\n",
        "BEGIN QUESTION\n",
        "name: print_vocab\n",
        "-->"
      ]
    },
    {
      "cell_type": "code",
      "execution_count": 39,
      "id": "4f35a28e",
      "metadata": {
        "id": "4f35a28e"
      },
      "outputs": [],
      "source": [
        "#TODO: print out vocabulary in alphabetical order with ids\n",
        "def print_vocab(vocab):\n",
        "    myKeys = list(vocab.keys())\n",
        "    myKeys.sort()\n",
        "    sorted_dict = {i: vocab[i] for i in myKeys}\n",
        "    for key, val in sorted_dict.items():\n",
        "      print(f'{key}: {val}')"
      ]
    },
    {
      "cell_type": "code",
      "execution_count": 40,
      "id": "2d94c5c2",
      "metadata": {
        "deletable": false,
        "editable": false,
        "colab": {
          "base_uri": "https://localhost:8080/",
          "height": 46
        },
        "id": "2d94c5c2",
        "outputId": "f8d1a280-58ed-43f0-8cf9-1ef6c6198120"
      },
      "outputs": [
        {
          "output_type": "execute_result",
          "data": {
            "text/plain": [
              "\n",
              "    All tests passed!\n",
              "    "
            ],
            "text/html": [
              "\n",
              "    \n",
              "    \n",
              "        <p>All tests passed!</p>\n",
              "    \n",
              "    "
            ]
          },
          "metadata": {},
          "execution_count": 40
        }
      ],
      "source": [
        "grader.check(\"print_vocab\")"
      ]
    },
    {
      "cell_type": "markdown",
      "id": "724f5ebc",
      "metadata": {
        "id": "724f5ebc"
      },
      "source": [
        " We can use the `print_vocab` function to print out the different class labels."
      ]
    },
    {
      "cell_type": "code",
      "execution_count": 41,
      "id": "2e9fbf0b",
      "metadata": {
        "colab": {
          "base_uri": "https://localhost:8080/"
        },
        "id": "2e9fbf0b",
        "outputId": "3d6e7ee1-b0be-4019-f1e3-8daf7eb8fd9c"
      },
      "outputs": [
        {
          "output_type": "stream",
          "name": "stdout",
          "text": [
            "GUY: 0\n",
            "SAM: 1\n"
          ]
        }
      ],
      "source": [
        "print_vocab(label_vocab)"
      ]
    },
    {
      "cell_type": "markdown",
      "id": "b62bffdc",
      "metadata": {
        "id": "b62bffdc"
      },
      "source": [
        "Similarly, we can also print out `text_vocab`."
      ]
    },
    {
      "cell_type": "code",
      "execution_count": 42,
      "id": "a922e5e2",
      "metadata": {
        "colab": {
          "base_uri": "https://localhost:8080/"
        },
        "id": "a922e5e2",
        "outputId": "fdbd03f8-bc33-4b02-89fb-0230615784f0"
      },
      "outputs": [
        {
          "output_type": "stream",
          "name": "stdout",
          "text": [
            "!: 10\n",
            ",: 7\n",
            "-: 15\n",
            ".: 3\n",
            "...: 53\n",
            "?: 20\n",
            "[PAD]: 0\n",
            "[UNK]: 1\n",
            "a: 5\n",
            "am: 21\n",
            "and: 13\n",
            "anywhere: 35\n",
            "are: 47\n",
            "be: 54\n",
            "boat: 42\n",
            "box: 36\n",
            "car: 31\n",
            "could: 22\n",
            "dark: 37\n",
            "do: 11\n",
            "eat: 16\n",
            "eggs: 23\n",
            "fox: 43\n",
            "goat: 44\n",
            "good: 48\n",
            "green: 24\n",
            "ham: 25\n",
            "here: 27\n",
            "house: 38\n",
            "i: 4\n",
            "in: 9\n",
            "let: 55\n",
            "like: 8\n",
            "may: 45\n",
            "me: 56\n",
            "mouse: 28\n",
            "not: 2\n",
            "on: 29\n",
            "or: 33\n",
            "rain: 39\n",
            "sam: 17\n",
            "say: 40\n",
            "see: 46\n",
            "so: 34\n",
            "thank: 49\n",
            "that: 50\n",
            "the: 26\n",
            "them: 6\n",
            "there: 32\n",
            "they: 51\n",
            "train: 30\n",
            "tree: 41\n",
            "try: 52\n",
            "will: 18\n",
            "with: 19\n",
            "would: 14\n",
            "you: 12\n"
          ]
        }
      ],
      "source": [
        "print_vocab(text_vocab)"
      ]
    },
    {
      "cell_type": "markdown",
      "id": "e4f7ac1d",
      "metadata": {
        "deletable": false,
        "editable": false,
        "id": "e4f7ac1d"
      },
      "source": [
        "Other simple calculations that will be useful in implementing the various models:\n",
        "\n",
        "1. Counting how many instances there are in a dataset.\n",
        "2. Counting how many instances of a certain class there are in a dataset.\n",
        "3. Counting how many tokens of a certain type there are in the text of an instance.\n",
        "\n",
        "Let's write functions for these. They'll come in handy in the first problem set.\n",
        "\n",
        "<!--\n",
        "BEGIN QUESTION\n",
        "name: count_instances\n",
        "-->"
      ]
    },
    {
      "cell_type": "code",
      "execution_count": 43,
      "id": "296e495c",
      "metadata": {
        "id": "296e495c"
      },
      "outputs": [],
      "source": [
        "#TODO - 1. Counting how many instances there are in a dataset.\n",
        "def count_instances(dataset):\n",
        "    return len(dataset['label'])"
      ]
    },
    {
      "cell_type": "code",
      "execution_count": 44,
      "id": "0db0eb9f",
      "metadata": {
        "deletable": false,
        "editable": false,
        "colab": {
          "base_uri": "https://localhost:8080/",
          "height": 46
        },
        "id": "0db0eb9f",
        "outputId": "fa444549-080f-4f9a-dfb1-d3b51f1c6322"
      },
      "outputs": [
        {
          "output_type": "execute_result",
          "data": {
            "text/plain": [
              "\n",
              "    All tests passed!\n",
              "    "
            ],
            "text/html": [
              "\n",
              "    \n",
              "    \n",
              "        <p>All tests passed!</p>\n",
              "    \n",
              "    "
            ]
          },
          "metadata": {},
          "execution_count": 44
        }
      ],
      "source": [
        "grader.check(\"count_instances\")"
      ]
    },
    {
      "cell_type": "code",
      "execution_count": 45,
      "id": "791591b3",
      "metadata": {
        "id": "791591b3"
      },
      "outputs": [],
      "source": [
        "#TODO - 2. Counting how many instances of a certain class there are in a dataset.\n",
        "# Note: recall that you can access the label of an instance using `instance['label']`\n",
        "def count_instances_class(dataset, label):\n",
        "    return dataset['label'].count(label)"
      ]
    },
    {
      "cell_type": "code",
      "execution_count": 46,
      "id": "1a3d9537",
      "metadata": {
        "deletable": false,
        "editable": false,
        "colab": {
          "base_uri": "https://localhost:8080/",
          "height": 46
        },
        "id": "1a3d9537",
        "outputId": "6ea6a7f5-a6b9-46a4-fb99-02718e28de7f"
      },
      "outputs": [
        {
          "output_type": "execute_result",
          "data": {
            "text/plain": [
              "\n",
              "    All tests passed!\n",
              "    "
            ],
            "text/html": [
              "\n",
              "    \n",
              "    \n",
              "        <p>All tests passed!</p>\n",
              "    \n",
              "    "
            ]
          },
          "metadata": {},
          "execution_count": 46
        }
      ],
      "source": [
        "grader.check(\"count_instances_class\")"
      ]
    },
    {
      "cell_type": "code",
      "execution_count": 47,
      "id": "76a8ced4",
      "metadata": {
        "id": "76a8ced4"
      },
      "outputs": [],
      "source": [
        "#TODO - 3. Counting how many tokens of a certain type there are in the text of an instance.\n",
        "# Hint: we have provided code for extracting tokens from the text of an instance.\n",
        "def count_tokens_instance(instance, tokentype):\n",
        "    tokens = tokenizer.encode(instance['text']).tokens\n",
        "    return tokens.count(tokentype)"
      ]
    },
    {
      "cell_type": "code",
      "execution_count": 48,
      "id": "10596b4b",
      "metadata": {
        "deletable": false,
        "editable": false,
        "colab": {
          "base_uri": "https://localhost:8080/",
          "height": 46
        },
        "id": "10596b4b",
        "outputId": "ce78bdbc-7b5d-4a62-fb32-5fa855d57a9e"
      },
      "outputs": [
        {
          "output_type": "execute_result",
          "data": {
            "text/plain": [
              "\n",
              "    All tests passed!\n",
              "    "
            ],
            "text/html": [
              "\n",
              "    \n",
              "    \n",
              "        <p>All tests passed!</p>\n",
              "    \n",
              "    "
            ]
          },
          "metadata": {},
          "execution_count": 48
        }
      ],
      "source": [
        "grader.check(\"count_tokens_instances\")"
      ]
    },
    {
      "cell_type": "markdown",
      "id": "5975e733",
      "metadata": {
        "id": "5975e733"
      },
      "source": [
        "Recall that the purpose of tokenizers is to map back and forth between strings and word ids. Below provides an example of how to do that."
      ]
    },
    {
      "cell_type": "code",
      "execution_count": 49,
      "id": "717008ca",
      "metadata": {
        "colab": {
          "base_uri": "https://localhost:8080/"
        },
        "id": "717008ca",
        "outputId": "3cdbc5c3-f2f2-4bca-ffd7-3a5d6ea2b234"
      },
      "outputs": [
        {
          "output_type": "stream",
          "name": "stdout",
          "text": [
            "text: Say!\n",
            "Mapped to word ids: [40, 10]\n",
            "Mapped back: say!\n"
          ]
        }
      ],
      "source": [
        "example = train[1]\n",
        "print (f'text: {example[\"text\"]}')\n",
        "word_ids = hf_tokenizer(example['text']).input_ids\n",
        "print (f\"Mapped to word ids: {word_ids}\\n\"\n",
        "       f\"Mapped back: {hf_tokenizer.decode(word_ids)}\")"
      ]
    },
    {
      "cell_type": "markdown",
      "id": "f28b7652",
      "metadata": {
        "id": "f28b7652"
      },
      "source": [
        "We can also do the conversion for a batch of examples, which will be very useful in future labs when we take advantage of the parallelism provided by parallel hardware such as GPUs."
      ]
    },
    {
      "cell_type": "code",
      "execution_count": 50,
      "id": "5dd9e7a0",
      "metadata": {
        "colab": {
          "base_uri": "https://localhost:8080/"
        },
        "id": "5dd9e7a0",
        "outputId": "9cf22970-e880-4e25-d110-17b290d7470a"
      },
      "outputs": [
        {
          "output_type": "stream",
          "name": "stdout",
          "text": [
            "text: ['Say!', 'Not in a tree!', 'You will see.', 'I would not eat them anywhere.']\n",
            "Mapped to word ids: [[40, 10], [2, 9, 5, 41, 10], [12, 18, 46, 3], [4, 14, 2, 16, 6, 35, 3]]\n",
            "Mapped back: ['say!', 'not in a tree!', 'you will see.', 'i would not eat them anywhere.']\n"
          ]
        }
      ],
      "source": [
        "examples = train[1:5]\n",
        "print (f'text: {examples[\"text\"]}')\n",
        "word_ids_batch = hf_tokenizer(examples['text']).input_ids\n",
        "print (f\"Mapped to word ids: {word_ids_batch}\\n\"\n",
        "       f\"Mapped back: {hf_tokenizer.batch_decode(word_ids_batch)}\")"
      ]
    },
    {
      "cell_type": "markdown",
      "id": "d72ba842",
      "metadata": {
        "id": "d72ba842"
      },
      "source": [
        "You might have noticed that in the above example, different sentences are of different lengths. This makes it hard for processing on parallel hardware, and we need to *pad* all sentences to the length of the longest sentence in each batch before converting them to tensors, as shown below. (You will see the below code in project 1 and in future labs.)"
      ]
    },
    {
      "cell_type": "code",
      "execution_count": 51,
      "id": "4200692c",
      "metadata": {
        "id": "4200692c"
      },
      "outputs": [],
      "source": [
        "pad_id = hf_tokenizer.pad_token_id\n",
        "BATCH_SIZE = 32\n",
        "\n",
        "# Defines how to batch a list of examples together\n",
        "def collate_fn(examples):\n",
        "    batch = {}\n",
        "    bsz = len(examples)\n",
        "    label_ids = []\n",
        "    for example in examples:\n",
        "        label_ids.append(example['label_id'])\n",
        "    label_batch = torch.LongTensor(label_ids).to(device)\n",
        "    input_ids = []\n",
        "    for example in examples:\n",
        "        input_ids.append(example['input_ids'])\n",
        "    max_length = max([len(word_ids) for word_ids in input_ids])\n",
        "    text_batch = torch.zeros(bsz, max_length).long().fill_(pad_id).to(device)\n",
        "    for b in range(bsz):\n",
        "        text_batch[b][:len(input_ids[b])] = torch.LongTensor(input_ids[b]).to(device)\n",
        "    \n",
        "    batch['label_ids'] = label_batch\n",
        "    batch['input_ids'] = text_batch\n",
        "    return batch\n",
        "\n",
        "train_iter = torch.utils.data.DataLoader(train, batch_size=BATCH_SIZE, collate_fn=collate_fn)\n",
        "test_iter = torch.utils.data.DataLoader(test, batch_size=BATCH_SIZE, collate_fn=collate_fn)"
      ]
    },
    {
      "cell_type": "markdown",
      "id": "f79ecccb",
      "metadata": {
        "id": "f79ecccb"
      },
      "source": [
        "Let's look at a single batch from one of these iterators. Note that padding is done with the special token `[PAD]` which has id `0`."
      ]
    },
    {
      "cell_type": "code",
      "execution_count": 52,
      "id": "cb2c905e",
      "metadata": {
        "colab": {
          "base_uri": "https://localhost:8080/"
        },
        "id": "cb2c905e",
        "outputId": "9114e436-33d3-4e99-dfd6-29320e672992"
      },
      "outputs": [
        {
          "output_type": "execute_result",
          "data": {
            "text/plain": [
              "{'label_ids': tensor([0, 0, 0, 0, 0, 0, 1, 0, 0, 0, 1, 0, 1, 0, 0, 0, 0, 1, 0, 0, 0, 0, 0, 0,\n",
              "         0, 1, 0, 0, 0, 1, 0, 0]),\n",
              " 'input_ids': tensor([[ 4, 18,  2, 16,  6, 35,  3,  0,  0,  0,  0,  0],\n",
              "         [40, 10,  0,  0,  0,  0,  0,  0,  0,  0,  0,  0],\n",
              "         [ 2,  9,  5, 41, 10,  0,  0,  0,  0,  0,  0,  0],\n",
              "         [12, 18, 46,  3,  0,  0,  0,  0,  0,  0,  0,  0],\n",
              "         [ 4, 14,  2, 16,  6, 35,  3,  0,  0,  0,  0,  0],\n",
              "         [51, 47, 34, 48,  7, 34, 48,  7, 12, 46, 10,  0],\n",
              "         [ 9,  5, 31, 20,  0,  0,  0,  0,  0,  0,  0,  0],\n",
              "         [ 2,  9,  5, 31,  3,  0,  0,  0,  0,  0,  0,  0],\n",
              "         [ 4, 11,  2,  8, 24, 23, 13, 25,  3,  0,  0,  0],\n",
              "         [ 4, 11,  2,  8, 24, 23, 13, 25,  3,  0,  0,  0],\n",
              "         [34, 12, 40,  3,  0,  0,  0,  0,  0,  0,  0,  0],\n",
              "         [ 4, 14,  2, 16, 24, 23, 13, 25,  3,  0,  0,  0],\n",
              "         [13, 12, 45,  3,  0,  0,  0,  0,  0,  0,  0,  0],\n",
              "         [ 4, 11,  2,  8, 24, 23, 13, 25, 10,  0,  0,  0],\n",
              "         [17, 10,  0,  0,  0,  0,  0,  0,  0,  0,  0,  0],\n",
              "         [ 4, 14,  2,  8,  6, 35,  3,  0,  0,  0,  0,  0],\n",
              "         [ 4, 14,  2,  7, 22,  2,  7, 19,  5, 43,  3,  0],\n",
              "         [ 5, 30, 10,  0,  0,  0,  0,  0,  0,  0,  0,  0],\n",
              "         [ 2,  9, 26, 37,  3,  0,  0,  0,  0,  0,  0,  0],\n",
              "         [13,  9, 26, 37,  3, 13, 29,  5, 30,  3,  0,  0],\n",
              "         [ 4, 11,  2,  8,  6, 35,  3,  0,  0,  0,  0,  0],\n",
              "         [ 4, 11,  2,  8,  6, 27, 33, 32,  3,  0,  0,  0],\n",
              "         [ 4, 14,  2,  7, 22,  2,  7,  9,  5, 31,  3,  0],\n",
              "         [ 4, 11,  2,  8,  6,  7, 17, 15,  4, 15, 21,  3],\n",
              "         [13,  4, 18, 16,  6, 19,  5, 28,  3,  0,  0,  0],\n",
              "         [14, 12,  8,  6, 19,  5, 28, 20,  0,  0,  0,  0],\n",
              "         [ 2,  9,  5, 41,  3,  0,  0,  0,  0,  0,  0,  0],\n",
              "         [ 2,  9,  5, 38,  3,  0,  0,  0,  0,  0,  0,  0],\n",
              "         [13,  4, 18, 16,  6,  9,  5, 38,  3,  0,  0,  0],\n",
              "         [14, 12,  7, 22, 12,  7,  9, 26, 39, 20,  0,  0],\n",
              "         [50, 17, 15,  4, 15, 21, 10,  0,  0,  0,  0,  0],\n",
              "         [ 4, 11,  2,  8,  6,  9,  5, 38,  3,  0,  0,  0]])}"
            ]
          },
          "metadata": {},
          "execution_count": 52
        }
      ],
      "source": [
        "next(iter(train_iter))"
      ]
    },
    {
      "cell_type": "markdown",
      "id": "3d93031a",
      "metadata": {
        "id": "3d93031a"
      },
      "source": [
        "# Training and testing with PyTorch\n",
        "\n",
        "Past labs have shown that all of the detail about \n",
        "\n",
        "* establishing models and their parameters,\n",
        "* using them to calculate the outputs for some inputs, \n",
        "* training them to optimize the parameters via stochastic gradient descent, and \n",
        "* evaluating them by testing on held-out data\n",
        "\n",
        "is tedious to manage. Fortunately, it is also so formulaic, at least for a certain class of models, that general tools can be deployed to manage the process. In the remainder of this lab, you'll use one such tool, PyTorch. For simplicity, rather than a natural-language task, you'll be training a model to fit a curve; it has an especially simple structure: one scalar input and one scalar output."
      ]
    },
    {
      "cell_type": "markdown",
      "id": "b569d2be",
      "metadata": {
        "id": "b569d2be"
      },
      "source": [
        "## Generating training and test data\n",
        "\n",
        "We start by generating some training and test data. The data is generated as a noisy sine function, calculated by the function `sinusoid`. (Here we make use of the PyTorch [distributions](https://pytorch.org/docs/stable/distributions.html) package, which was imported above as `ds`.) "
      ]
    },
    {
      "cell_type": "code",
      "execution_count": 53,
      "id": "32ba455a",
      "metadata": {
        "id": "32ba455a"
      },
      "outputs": [],
      "source": [
        "def sinusoid(x, amplitude=1., phase=0., frequency=1., noise=1e-5):\n",
        "    \"\"\"Returns the values on input(s) `x` of a sinusoid determined by `amplitude`, \n",
        "       `phase`, and angular `frequency`, with some added normal noise with variance \n",
        "       given by `noise`.\"\"\"\n",
        "    normal_noise = ds.normal.Normal(torch.tensor([0.0]), torch.tensor([noise]))\n",
        "    noise_sample = normal_noise.sample(x.size()).view(-1)\n",
        "    y = amplitude * torch.sin(x * frequency + phase) + noise_sample\n",
        "    return y"
      ]
    },
    {
      "cell_type": "markdown",
      "id": "95e992a2",
      "metadata": {
        "id": "95e992a2"
      },
      "source": [
        "We can generate data for training and testing by sampling this function."
      ]
    },
    {
      "cell_type": "code",
      "execution_count": 54,
      "id": "f687c817",
      "metadata": {
        "id": "f687c817"
      },
      "outputs": [],
      "source": [
        "def sample_input(func, count, bound, **kwargs):\n",
        "    \"\"\"Returns `count` samples of x-y pairs of function `func`, with the x \n",
        "       values sampled uniformly between +/-`bound`. The `kwargs` are passed\n",
        "       on to `func`.\"\"\"\n",
        "    input_unif = ds.uniform.Uniform(-bound, +bound)\n",
        "    x = input_unif.sample(torch.Size([count]))\n",
        "    y = func(x, **kwargs)\n",
        "    return x, y"
      ]
    },
    {
      "cell_type": "markdown",
      "id": "210740b1",
      "metadata": {
        "id": "210740b1"
      },
      "source": [
        "To give a sense of what a data sample looks like, we plot a sample of 100 points."
      ]
    },
    {
      "cell_type": "code",
      "execution_count": 55,
      "id": "82c3be7d",
      "metadata": {
        "id": "82c3be7d"
      },
      "outputs": [],
      "source": [
        "def plot_sample(data):\n",
        "    \"\"\"Plots `data` given as a single pair of inputs and outputs.\"\"\"\n",
        "    X, Y = data\n",
        "    plt.plot(X.tolist(), Y.tolist(), '.')\n",
        "    plt.xlabel('Input')\n",
        "    plt.ylabel('Output')\n",
        "    # we cannot use plt.show() because otter-grader does not support it"
      ]
    },
    {
      "cell_type": "code",
      "execution_count": 56,
      "id": "1d5e9c9b",
      "metadata": {
        "colab": {
          "base_uri": "https://localhost:8080/",
          "height": 449
        },
        "id": "1d5e9c9b",
        "outputId": "fd640d27-9319-4e1b-83df-f594af3adb71"
      },
      "outputs": [
        {
          "output_type": "display_data",
          "data": {
            "text/plain": [
              "<Figure size 640x480 with 1 Axes>"
            ],
            "image/png": "[encoded data removed]"
          },
          "metadata": {}
        }
      ],
      "source": [
        "plot_sample(sample_input(sinusoid, 100, 5, noise=0.1))"
      ]
    },
    {
      "cell_type": "markdown",
      "id": "e3438d5c",
      "metadata": {
        "id": "e3438d5c"
      },
      "source": [
        "## Specifying a feed-forward neural network\n",
        "\n",
        "\n",
        "<img src=\"https://github.com/nlp-236299/data/raw/master/Resources/ffnn-example.png\" width=33% align=right />\n",
        "\n",
        "The model that we will train to predict the output of this function based on a sample will consist of a series of sublayers as depicted in the figure at right. At the bottom of the figure, we start with $\\vect{x}$, the scalar input (of dimensionality $1$ as shown in the \"shape\" designation). The first layer is a perceptron layer, composed of a linear sublayer (with weights $\\vect{U}$) followed by a sigmoid sublayer. Since $\\vect{U}$ is of dimensionality $1 \\times D$, the output is a vector of dimensionality $D$. (We refer to $D$ as the *hidden dimension*.) Then comes another perceptron layer with input and output each of dimensionality $D$. Finally, a single linear layer reduces the dimensionality back to the predicted scalar output $\\tilde{y}$ of dimensionality $1$. The loss is calculated as the mean square error of $\\tilde{y}$ relative to $y$. (In this case, taking the mean for a single example is irrelevant, since $y$ is a scalar, though when training in \"batches\", the mean would be taken over the batch.)\n",
        "\n",
        "We define a class `FFNN` (**f**eed-**f**orward **n**eural **n**etwork), which inherits from the `nn.Module` class, PyTorch's class for neural network models. It takes an argument `hidden_dim` which is the size of the hidden layers, $D$ in the figure.\n",
        "\n",
        "The parameters of this model – the values that will be adjusted to minimize the loss – are the elements of the tensors $\\vect{U}$, $\\vect{V}$, and $\\vect{W}$. They don't appear explicitly in the code, but are PyTorch *parameters* created and tracked when the corresponding sublayers are created using `nn.Linear` and `nn.Sigmoid`. That's the wonder of using PyTorch – so much happens under the hood. But we can get access to the parameters because the `nn.Module` class provides a `parameters` method that returns an iterator over the parameters. (We use it to initialize the parameters to random values.)"
      ]
    },
    {
      "cell_type": "code",
      "execution_count": 57,
      "id": "15578132",
      "metadata": {
        "id": "15578132"
      },
      "outputs": [],
      "source": [
        "class FFNN(nn.Module):\n",
        "    def __init__(self, hidden_dim, init_low=-2, init_high=2):\n",
        "        super().__init__()\n",
        "        # dimensionality of hidden layers\n",
        "        self.hidden_dim = hidden_dim\n",
        "        #TODO: establish the sublayers -- two perceptrons (each has a linear layer and a sigmoid). and a final\n",
        "        # linear layer. Follow the dimensions from the description above.\n",
        "        self.sublayer1 = torch.nn.Linear(1, hidden_dim, device=device)\n",
        "        self.sublayer2 = torch.nn.Sigmoid()\n",
        "        self.sublayer3 = torch.nn.Linear(hidden_dim,  hidden_dim, device=device)\n",
        "        self.sublayer4 = torch.nn.Sigmoid()\n",
        "        self.sublayer5 = torch.nn.Linear(hidden_dim,  1, device=device)\n",
        "        \n",
        "        # initialize parameters randomly\n",
        "        torch.manual_seed(random_seed)\n",
        "        for p in self.parameters():\n",
        "            p.data.uniform_(init_low, init_high)\n",
        "        # save a copy of the parameters to allow resetting\n",
        "        self.init_state = copy.deepcopy(self.state_dict())\n",
        "\n",
        "    # Resetting state: If you want to rerun a model, say, with a different\n",
        "    # training regime, you can reset the model's parameter state using\n",
        "    #    model.reset_state()\n",
        "    # before retraining, e.g., \n",
        "    #    train_model(model, criterion, optim, train_data, n_epochs=50)\n",
        "    def reset_state(self):\n",
        "        self.load_state_dict(self.init_state)\n",
        "        \n",
        "    def forward(self, x):\n",
        "        # first perceptron layer\n",
        "        z = self.sublayer2(self.sublayer1(x))\n",
        "        # second perceptron layer\n",
        "        z_prime = self.sublayer4(self.sublayer3(z))\n",
        "        # final linear layer\n",
        "        return self.sublayer5(z_prime)"
      ]
    },
    {
      "cell_type": "code",
      "execution_count": 58,
      "id": "dda76f5c",
      "metadata": {
        "deletable": false,
        "editable": false,
        "colab": {
          "base_uri": "https://localhost:8080/",
          "height": 46
        },
        "id": "dda76f5c",
        "outputId": "c44f5849-284a-4466-a823-2ba17df38c46"
      },
      "outputs": [
        {
          "output_type": "execute_result",
          "data": {
            "text/plain": [
              "\n",
              "    All tests passed!\n",
              "    "
            ],
            "text/html": [
              "\n",
              "    \n",
              "    \n",
              "        <p>All tests passed!</p>\n",
              "    \n",
              "    "
            ]
          },
          "metadata": {},
          "execution_count": 58
        }
      ],
      "source": [
        "grader.check(\"FFNN\")"
      ]
    },
    {
      "cell_type": "markdown",
      "id": "e110906a",
      "metadata": {
        "id": "e110906a"
      },
      "source": [
        "We can build a model by instantiating the `FFNN` class. We'll do so with a hidden dimension of 4, being careful to move the model with its parameters to the device we're using for calculations (a GPU if one is available, as on Google Colab)."
      ]
    },
    {
      "cell_type": "code",
      "execution_count": 59,
      "id": "9d889a7c",
      "metadata": {
        "id": "9d889a7c"
      },
      "outputs": [],
      "source": [
        "HIDDEN_DIMENSION = 4\n",
        "model = FFNN(HIDDEN_DIMENSION).to(device)"
      ]
    },
    {
      "cell_type": "markdown",
      "id": "ce8b73a1",
      "metadata": {
        "id": "ce8b73a1"
      },
      "source": [
        "We specify the criterion to be optimized as the mean square error loss function provided by PyTorch."
      ]
    },
    {
      "cell_type": "code",
      "execution_count": 60,
      "id": "4493a20b",
      "metadata": {
        "id": "4493a20b"
      },
      "outputs": [],
      "source": [
        "criterion = nn.MSELoss(reduction='mean') "
      ]
    },
    {
      "cell_type": "markdown",
      "id": "a8c69617",
      "metadata": {
        "id": "a8c69617"
      },
      "source": [
        "## Evaluating data according to a model\n",
        "\n",
        "To evaluate how well the model performs on some test data, we run the model forward on the $x$ values and compute the loss relative to the $y$ values. We define a function `eval_model` to carry out this calculation."
      ]
    },
    {
      "cell_type": "code",
      "execution_count": 61,
      "id": "202a8356",
      "metadata": {
        "id": "202a8356"
      },
      "outputs": [],
      "source": [
        "def eval_model(model, criterion, data):\n",
        "    \"\"\"Applies the `model` to the x values in the `data` and returns the\n",
        "       loss relative to the y values in the `data` along with the predicted \n",
        "       y values.\"\"\"\n",
        "    model.eval()                          # turn on evaluation mode\n",
        "    with torch.no_grad():                 # turn off propagating gradients\n",
        "        X, Y = data                       # extract x and y values\n",
        "        X = X.view(-1, 1).to(device)      # convert x and y to column vectors\n",
        "        Y = Y.view(-1, 1).to(device)      # ...and move them to the device\n",
        "        predictions = model(X)            # calculate the predicted y values\n",
        "        loss = criterion(predictions, Y)  # see how far off they are\n",
        "    return loss.item(), predictions"
      ]
    },
    {
      "cell_type": "markdown",
      "id": "d59f594c",
      "metadata": {
        "id": "d59f594c"
      },
      "source": [
        "All that remains is training the model. We'll use one of PyTorch's built in optimizers, the `Adam` optimizer. We set a few parameters for the training process: the learning rate, the number of \"epochs\" (passes through the training data) to perform, and the number of examples to train on at a time (the \"batch size\")."
      ]
    },
    {
      "cell_type": "code",
      "execution_count": 62,
      "id": "dd9f5a06",
      "metadata": {
        "id": "dd9f5a06"
      },
      "outputs": [],
      "source": [
        "## Parameters of the training regimen\n",
        "LEARNING_RATE = 0.003\n",
        "NUMBER_EPOCHS = 25\n",
        "BATCH_SIZE = 20\n",
        "\n",
        "## Choices for optimizers:\n",
        "\n",
        "# Stochastic Gradient Descent (SGD) optimizer\n",
        "# optim = torch.optim.SGD(model.parameters(), lr=learning_rate)\n",
        "\n",
        "# The Adam optimizer, as described in the paper:\n",
        "# Kingma and Ba. 2014. Adam: A Method for Stochastic Optimization.\n",
        "# [https://arxiv.org/abs/1412.6980]\n",
        "optim = torch.optim.Adam(model.parameters(), lr=LEARNING_RATE)"
      ]
    },
    {
      "cell_type": "markdown",
      "id": "b14d9675",
      "metadata": {
        "id": "b14d9675"
      },
      "source": [
        "## Training the parameters of a model\n",
        "\n",
        "Finally, we get to the function to train the parameters of the model so as to best fit the predictions to the actual values. We've provided the code, except for a few lines that you'll need to provide (marked `#TODO`), making use of some of the tools defined above. Those lines, which form the heart of the computation, calculate \"forwards\" to get the output predictions for the inputs, calculate the loss for those predictions, and calculate \"backwards\" the gradients of the loss for each of the parameters of the model. This sets up the optimizer to take a step of updating the parameters, making use of the calculated gradients to determine the direction to step. The saved gradients can then be zeroed and the process repeated.\n",
        "\n",
        "> Note: The code we're asking you to write is *tiny*. If you find yourself writing more than a short line of code per `#TODO`, you're missing something."
      ]
    },
    {
      "cell_type": "code",
      "execution_count": 63,
      "id": "a06dceb6",
      "metadata": {
        "id": "a06dceb6"
      },
      "outputs": [],
      "source": [
        "def train_model(model, criterion, optimizer, data,\n",
        "                n_epochs=NUMBER_EPOCHS, batch_size=BATCH_SIZE):\n",
        "    \"\"\"Optimizes the parameters of the `model` by minimizing the `criterion`\n",
        "       on the training `data`, using the `optimizer` algorithm for updates.\"\"\"    \n",
        "    model.train()                     # Turn on training mode\n",
        "\n",
        "    X, Y = data\n",
        "    trainX_len = len(X)\n",
        "    \n",
        "    loss_per_epoch = math.inf\n",
        "    with tqdm(range(n_epochs)) as pbar:\n",
        "        for epoch in pbar:\n",
        "            pbar.set_postfix(epoch=epoch+1, loss=loss_per_epoch)\n",
        "            loss_per_epoch = 0.\n",
        "            for batch_i in range(int(trainX_len/batch_size)):\n",
        "                optimizer.zero_grad()     # new batch; zero the gradients of the parameters\n",
        "\n",
        "                # Input tensors and their corresponding output values for this batch\n",
        "                batch_X = (X[batch_i * batch_size\n",
        "                             : (batch_i+1) * batch_size] # extract examples in batch\n",
        "                           .view(-1, 1)                  # reshape to column vector\n",
        "                           .to(device)                   # move to device\n",
        "                          )\n",
        "                batch_Y = (Y[batch_i * batch_size \n",
        "                             : (batch_i+1) * batch_size]\n",
        "                           .view(-1, 1)\n",
        "                           .to(device)\n",
        "                          )\n",
        "\n",
        "                #TODO: Calculate predictions for the x values in this batch\n",
        "                predictions = model(batch_X)\n",
        "\n",
        "                #TODO: Calculate the loss for the predictions\n",
        "                loss = criterion(predictions, batch_Y)\n",
        "\n",
        "                #TODO: Perform backpropagation to calculate gradients\n",
        "                loss.backward()\n",
        "\n",
        "                # Update all parameters\n",
        "                optimizer.step()\n",
        "\n",
        "                loss_per_epoch += loss.item()"
      ]
    },
    {
      "cell_type": "markdown",
      "id": "129d9312",
      "metadata": {
        "id": "129d9312"
      },
      "source": [
        "## Putting it all together\n",
        "\n",
        "Let's try it out. We start by generating some training and test data. The training data will be 10,000 samples of a noisy sinusoid. The test data, 100 samples from the same sinusoid, will be noise-free, so we can see how close the predictions are to noise-free outputs."
      ]
    },
    {
      "cell_type": "code",
      "execution_count": 64,
      "id": "f600377e",
      "metadata": {
        "colab": {
          "base_uri": "https://localhost:8080/",
          "height": 449
        },
        "id": "f600377e",
        "outputId": "feea4383-65a5-499f-dda9-b111dcab86f6"
      },
      "outputs": [
        {
          "output_type": "display_data",
          "data": {
            "text/plain": [
              "<Figure size 640x480 with 1 Axes>"
            ],
            "image/png": "[encoded data removed]"
          },
          "metadata": {}
        }
      ],
      "source": [
        "train_data = sample_input(sinusoid, 10000, 5., frequency=1.5, noise=0.05)\n",
        "test_data = sample_input(sinusoid, 100, 5., frequency=1.5)\n",
        "\n",
        "plot_sample(train_data)"
      ]
    },
    {
      "cell_type": "markdown",
      "id": "478fda56",
      "metadata": {
        "id": "478fda56"
      },
      "source": [
        "We train the model."
      ]
    },
    {
      "cell_type": "code",
      "execution_count": 65,
      "id": "43d743cf",
      "metadata": {
        "colab": {
          "base_uri": "https://localhost:8080/"
        },
        "id": "43d743cf",
        "outputId": "b8fe683d-3aab-4400-b9e4-f554b81c35a4"
      },
      "outputs": [
        {
          "output_type": "stream",
          "name": "stderr",
          "text": [
            "100%|██████████| 25/25 [00:29<00:00,  1.20s/it, epoch=25, loss=11.1]\n"
          ]
        }
      ],
      "source": [
        "model.reset_state()\n",
        "train_model(model, criterion, optim, train_data)"
      ]
    },
    {
      "cell_type": "markdown",
      "id": "8167766d",
      "metadata": {
        "id": "8167766d"
      },
      "source": [
        "...and test the trained model by evaluating it on the the test data."
      ]
    },
    {
      "cell_type": "code",
      "execution_count": 66,
      "id": "bc860d0a",
      "metadata": {
        "id": "bc860d0a"
      },
      "outputs": [],
      "source": [
        "loss, predictions = eval_model(model, criterion, test_data)"
      ]
    },
    {
      "cell_type": "code",
      "execution_count": 67,
      "id": "9e86f5fb",
      "metadata": {
        "deletable": false,
        "editable": false,
        "id": "9e86f5fb",
        "colab": {
          "base_uri": "https://localhost:8080/",
          "height": 46
        },
        "outputId": "7cb9847d-912d-423f-887d-16f5682083e1"
      },
      "outputs": [
        {
          "output_type": "execute_result",
          "data": {
            "text/plain": [
              "\n",
              "    All tests passed!\n",
              "    "
            ],
            "text/html": [
              "\n",
              "    \n",
              "    \n",
              "        <p>All tests passed!</p>\n",
              "    \n",
              "    "
            ]
          },
          "metadata": {},
          "execution_count": 67
        }
      ],
      "source": [
        "grader.check(\"model_reduces_loss\")"
      ]
    },
    {
      "cell_type": "markdown",
      "id": "ef309230",
      "metadata": {
        "id": "ef309230"
      },
      "source": [
        "We can see how well the model works by plotting the test data (circles) along with the predicted values (crosses)."
      ]
    },
    {
      "cell_type": "code",
      "execution_count": 68,
      "id": "a1d0d047",
      "metadata": {
        "id": "a1d0d047"
      },
      "outputs": [],
      "source": [
        "def visualize_predictions(data, predictions):\n",
        "    X, Y = data\n",
        "    \n",
        "    # Plot the actual output values\n",
        "    plt.plot(X.tolist(), Y.tolist(), '.', label = 'Target Values')\n",
        "    \n",
        "    # Plot the predicted output values\n",
        "    predictions = predictions.view(-1, 1)\n",
        "    plt.plot(X.tolist(), predictions.tolist(), 'x', label = 'Predictions')\n",
        "    \n",
        "    plt.xlabel('Input')\n",
        "    plt.ylabel('Output')\n",
        "    plt.legend()\n",
        "    # we cannot use plt.show() because otter-grader does not support it"
      ]
    },
    {
      "cell_type": "code",
      "execution_count": 69,
      "id": "7bb64b1c",
      "metadata": {
        "id": "7bb64b1c",
        "colab": {
          "base_uri": "https://localhost:8080/",
          "height": 449
        },
        "outputId": "714d3395-faf2-41b6-fe30-984cd6c24a95"
      },
      "outputs": [
        {
          "output_type": "display_data",
          "data": {
            "text/plain": [
              "<Figure size 640x480 with 1 Axes>"
            ],
            "image/png": "[encoded data removed]"
          },
          "metadata": {}
        }
      ],
      "source": [
        "# Visualize the predictions\n",
        "visualize_predictions(test_data, predictions)"
      ]
    },
    {
      "cell_type": "markdown",
      "id": "5a2a1498",
      "metadata": {
        "id": "5a2a1498"
      },
      "source": [
        "## Trying different models\n",
        "\n",
        "Now that we have the infrastructure, try experimenting with different models. Here are a few things you might play with. (No need to try them all.) What happens if you change the hidden dimension, increasing it to 8 or decreasing it to 2? What happens if you drop the middle layer? What about no middle layer but a much higher hidden dimension size? Does running for more epochs improve performance? Does the SGD optimizer work better or worse than the Adam optimizer?\n",
        "\n",
        "**Perform any experimentation in cells below this point, so you don't modify the cells above that are being unit tested.**"
      ]
    },
    {
      "cell_type": "code",
      "source": [
        "class experiment_FFNN(FFNN):\n",
        "  def __init__(self, hidden_dim, middle_layer=True, init_low=-2, init_high=2):\n",
        "    super().__init__(hidden_dim, init_low, init_high)  # Call parent class __init__\n",
        "    self.middle_layer = middle_layer\n",
        "\n",
        "  def forward(self, x):\n",
        "    # first perceptron layer\n",
        "    z = self.sublayer2(self.sublayer1(x))\n",
        "    if self.middle_layer:\n",
        "      # second perceptron layer\n",
        "      z = self.sublayer4(self.sublayer3(z))\n",
        "    # final linear layer\n",
        "    return self.sublayer5(z)"
      ],
      "metadata": {
        "id": "DlaylwMu4Kza"
      },
      "id": "DlaylwMu4Kza",
      "execution_count": 70,
      "outputs": []
    },
    {
      "cell_type": "code",
      "source": [
        "## Parameters of the training regimen\n",
        "LEARNING_RATE = 0.003\n",
        "NUMBER_EPOCHS = 25\n",
        "BATCH_SIZE = 20\n",
        "\n",
        "## Choices for optimizers:\n",
        "\n",
        "# Stochastic Gradient Descent (SGD) optimizer\n",
        "# optim = torch.optim.SGD(model.parameters(), lr=learning_rate)\n",
        "\n",
        "# The Adam optimizer, as described in the paper:\n",
        "# Kingma and Ba. 2014. Adam: A Method for Stochastic Optimization.\n",
        "# [https://arxiv.org/abs/1412.6980]\n",
        "optim = torch.optim.Adam(model.parameters(), lr=LEARNING_RATE)\n",
        "\n",
        "dims = [2, 8, 19]\n",
        "epoches = [15, 25, 35]\n",
        "\n",
        "\n",
        "\n",
        "optimizers = {'SGD': {}, 'Adam': {}}\n",
        "\n",
        "for optimizer in optimizers.keys():\n",
        "  for dim in dims:\n",
        "    for num_epochs in epoches:\n",
        "      for b in [True, False]:\n",
        "        #with middle_layer\n",
        "        model = experiment_FFNN(dim, middle_layer=b).to(device) #model = FFNN(dim).to(device)\n",
        "\n",
        "        optim = torch.optim.SGD(model.parameters(), lr=LEARNING_RATE) if optimizer == 'SGD' else torch.optim.Adam(model.parameters(), lr=LEARNING_RATE) #optim = torch.optim.Adam(model.parameters(), lr=LEARNING_RATE)\n",
        "\n",
        "        model.reset_state()\n",
        "        train_model(model, criterion, optim, train_data, n_epochs=num_epochs) #train_model(model, criterion, optim, train_data)\n",
        "\n",
        "        loss, predictions = eval_model(model, criterion, test_data)\n",
        "\n",
        "        print(f'With Optimizer={optimizer} hiddem_dim={dim}, #epochs={NUMBER_EPOCHS}, middle_layer={b}: loss={loss:.5f}')\n",
        "\n",
        "        if b:\n",
        "          if 'with_middle_layer' not in optimizers[optimizer].keys():\n",
        "              optimizers[optimizer]['with_middle_layer'] = {}\n",
        "          if dim not in optimizers[optimizer]['with_middle_layer']:\n",
        "            optimizers[optimizer]['with_middle_layer'][dim] = [loss]\n",
        "          else:\n",
        "            optimizers[optimizer]['with_middle_layer'][dim].append(loss)\n",
        "        else:\n",
        "          if 'without_middle_layer' not in optimizers[optimizer].keys():\n",
        "            optimizers[optimizer]['without_middle_layer'] = {}\n",
        "          if dim not in optimizers[optimizer]['without_middle_layer']:\n",
        "              optimizers[optimizer]['without_middle_layer'][dim] = [loss]\n",
        "          else:\n",
        "              optimizers[optimizer]['without_middle_layer'][dim].append(loss)\n"
      ],
      "metadata": {
        "colab": {
          "base_uri": "https://localhost:8080/"
        },
        "id": "P4RcRI20ouml",
        "outputId": "ca261814-84a8-4e16-9758-3ec958a77cbb"
      },
      "id": "P4RcRI20ouml",
      "execution_count": 71,
      "outputs": [
        {
          "output_type": "stream",
          "name": "stderr",
          "text": [
            "100%|██████████| 15/15 [00:04<00:00,  3.05it/s, epoch=15, loss=240]\n"
          ]
        },
        {
          "output_type": "stream",
          "name": "stdout",
          "text": [
            "With Optimizer=SGD hiddem_dim=2, #epochs=25, middle_layer=True: loss=0.51668\n"
          ]
        },
        {
          "output_type": "stream",
          "name": "stderr",
          "text": [
            "100%|██████████| 15/15 [00:05<00:00,  2.94it/s, epoch=15, loss=241]\n"
          ]
        },
        {
          "output_type": "stream",
          "name": "stdout",
          "text": [
            "With Optimizer=SGD hiddem_dim=2, #epochs=25, middle_layer=False: loss=0.50198\n"
          ]
        },
        {
          "output_type": "stream",
          "name": "stderr",
          "text": [
            "100%|██████████| 25/25 [00:07<00:00,  3.15it/s, epoch=25, loss=239]\n"
          ]
        },
        {
          "output_type": "stream",
          "name": "stdout",
          "text": [
            "With Optimizer=SGD hiddem_dim=2, #epochs=25, middle_layer=True: loss=0.51467\n"
          ]
        },
        {
          "output_type": "stream",
          "name": "stderr",
          "text": [
            "100%|██████████| 25/25 [00:07<00:00,  3.30it/s, epoch=25, loss=240]\n"
          ]
        },
        {
          "output_type": "stream",
          "name": "stdout",
          "text": [
            "With Optimizer=SGD hiddem_dim=2, #epochs=25, middle_layer=False: loss=0.49801\n"
          ]
        },
        {
          "output_type": "stream",
          "name": "stderr",
          "text": [
            "100%|██████████| 35/35 [00:12<00:00,  2.88it/s, epoch=35, loss=239]\n"
          ]
        },
        {
          "output_type": "stream",
          "name": "stdout",
          "text": [
            "With Optimizer=SGD hiddem_dim=2, #epochs=25, middle_layer=True: loss=0.51321\n"
          ]
        },
        {
          "output_type": "stream",
          "name": "stderr",
          "text": [
            "100%|██████████| 35/35 [00:09<00:00,  3.88it/s, epoch=35, loss=240]\n"
          ]
        },
        {
          "output_type": "stream",
          "name": "stdout",
          "text": [
            "With Optimizer=SGD hiddem_dim=2, #epochs=25, middle_layer=False: loss=0.49504\n"
          ]
        },
        {
          "output_type": "stream",
          "name": "stderr",
          "text": [
            "100%|██████████| 15/15 [00:06<00:00,  2.26it/s, epoch=15, loss=210]\n"
          ]
        },
        {
          "output_type": "stream",
          "name": "stdout",
          "text": [
            "With Optimizer=SGD hiddem_dim=8, #epochs=25, middle_layer=True: loss=0.41809\n"
          ]
        },
        {
          "output_type": "stream",
          "name": "stderr",
          "text": [
            "100%|██████████| 15/15 [00:04<00:00,  3.40it/s, epoch=15, loss=164]\n"
          ]
        },
        {
          "output_type": "stream",
          "name": "stdout",
          "text": [
            "With Optimizer=SGD hiddem_dim=8, #epochs=25, middle_layer=False: loss=0.30743\n"
          ]
        },
        {
          "output_type": "stream",
          "name": "stderr",
          "text": [
            "100%|██████████| 25/25 [00:10<00:00,  2.30it/s, epoch=25, loss=186]\n"
          ]
        },
        {
          "output_type": "stream",
          "name": "stdout",
          "text": [
            "With Optimizer=SGD hiddem_dim=8, #epochs=25, middle_layer=True: loss=0.36129\n"
          ]
        },
        {
          "output_type": "stream",
          "name": "stderr",
          "text": [
            "100%|██████████| 25/25 [00:06<00:00,  3.87it/s, epoch=25, loss=146]\n"
          ]
        },
        {
          "output_type": "stream",
          "name": "stdout",
          "text": [
            "With Optimizer=SGD hiddem_dim=8, #epochs=25, middle_layer=False: loss=0.26632\n"
          ]
        },
        {
          "output_type": "stream",
          "name": "stderr",
          "text": [
            "100%|██████████| 35/35 [00:12<00:00,  2.72it/s, epoch=35, loss=164]\n"
          ]
        },
        {
          "output_type": "stream",
          "name": "stdout",
          "text": [
            "With Optimizer=SGD hiddem_dim=8, #epochs=25, middle_layer=True: loss=0.30912\n"
          ]
        },
        {
          "output_type": "stream",
          "name": "stderr",
          "text": [
            "100%|██████████| 35/35 [00:12<00:00,  2.84it/s, epoch=35, loss=134]\n"
          ]
        },
        {
          "output_type": "stream",
          "name": "stdout",
          "text": [
            "With Optimizer=SGD hiddem_dim=8, #epochs=25, middle_layer=False: loss=0.24192\n"
          ]
        },
        {
          "output_type": "stream",
          "name": "stderr",
          "text": [
            "100%|██████████| 15/15 [00:04<00:00,  3.04it/s, epoch=15, loss=117]\n"
          ]
        },
        {
          "output_type": "stream",
          "name": "stdout",
          "text": [
            "With Optimizer=SGD hiddem_dim=19, #epochs=25, middle_layer=True: loss=0.20940\n"
          ]
        },
        {
          "output_type": "stream",
          "name": "stderr",
          "text": [
            "100%|██████████| 15/15 [00:04<00:00,  3.41it/s, epoch=15, loss=148]\n"
          ]
        },
        {
          "output_type": "stream",
          "name": "stdout",
          "text": [
            "With Optimizer=SGD hiddem_dim=19, #epochs=25, middle_layer=False: loss=0.26487\n"
          ]
        },
        {
          "output_type": "stream",
          "name": "stderr",
          "text": [
            "100%|██████████| 25/25 [00:09<00:00,  2.66it/s, epoch=25, loss=98.7]\n"
          ]
        },
        {
          "output_type": "stream",
          "name": "stdout",
          "text": [
            "With Optimizer=SGD hiddem_dim=19, #epochs=25, middle_layer=True: loss=0.17334\n"
          ]
        },
        {
          "output_type": "stream",
          "name": "stderr",
          "text": [
            "100%|██████████| 25/25 [00:07<00:00,  3.18it/s, epoch=25, loss=116]\n"
          ]
        },
        {
          "output_type": "stream",
          "name": "stdout",
          "text": [
            "With Optimizer=SGD hiddem_dim=19, #epochs=25, middle_layer=False: loss=0.20637\n"
          ]
        },
        {
          "output_type": "stream",
          "name": "stderr",
          "text": [
            "100%|██████████| 35/35 [00:12<00:00,  2.84it/s, epoch=35, loss=85.2]\n"
          ]
        },
        {
          "output_type": "stream",
          "name": "stdout",
          "text": [
            "With Optimizer=SGD hiddem_dim=19, #epochs=25, middle_layer=True: loss=0.14864\n"
          ]
        },
        {
          "output_type": "stream",
          "name": "stderr",
          "text": [
            "100%|██████████| 35/35 [00:10<00:00,  3.37it/s, epoch=35, loss=99.8]\n"
          ]
        },
        {
          "output_type": "stream",
          "name": "stdout",
          "text": [
            "With Optimizer=SGD hiddem_dim=19, #epochs=25, middle_layer=False: loss=0.17947\n"
          ]
        },
        {
          "output_type": "stream",
          "name": "stderr",
          "text": [
            "100%|██████████| 15/15 [00:09<00:00,  1.57it/s, epoch=15, loss=179]\n"
          ]
        },
        {
          "output_type": "stream",
          "name": "stdout",
          "text": [
            "With Optimizer=Adam hiddem_dim=2, #epochs=25, middle_layer=True: loss=0.34686\n"
          ]
        },
        {
          "output_type": "stream",
          "name": "stderr",
          "text": [
            "100%|██████████| 15/15 [00:06<00:00,  2.49it/s, epoch=15, loss=188]\n"
          ]
        },
        {
          "output_type": "stream",
          "name": "stdout",
          "text": [
            "With Optimizer=Adam hiddem_dim=2, #epochs=25, middle_layer=False: loss=0.37759\n"
          ]
        },
        {
          "output_type": "stream",
          "name": "stderr",
          "text": [
            "100%|██████████| 25/25 [00:14<00:00,  1.70it/s, epoch=25, loss=176]\n"
          ]
        },
        {
          "output_type": "stream",
          "name": "stdout",
          "text": [
            "With Optimizer=Adam hiddem_dim=2, #epochs=25, middle_layer=True: loss=0.34225\n"
          ]
        },
        {
          "output_type": "stream",
          "name": "stderr",
          "text": [
            "100%|██████████| 25/25 [00:11<00:00,  2.17it/s, epoch=25, loss=172]\n"
          ]
        },
        {
          "output_type": "stream",
          "name": "stdout",
          "text": [
            "With Optimizer=Adam hiddem_dim=2, #epochs=25, middle_layer=False: loss=0.35720\n"
          ]
        },
        {
          "output_type": "stream",
          "name": "stderr",
          "text": [
            "100%|██████████| 35/35 [00:20<00:00,  1.72it/s, epoch=35, loss=175]\n"
          ]
        },
        {
          "output_type": "stream",
          "name": "stdout",
          "text": [
            "With Optimizer=Adam hiddem_dim=2, #epochs=25, middle_layer=True: loss=0.34024\n"
          ]
        },
        {
          "output_type": "stream",
          "name": "stderr",
          "text": [
            "100%|██████████| 35/35 [00:15<00:00,  2.23it/s, epoch=35, loss=170]\n"
          ]
        },
        {
          "output_type": "stream",
          "name": "stdout",
          "text": [
            "With Optimizer=Adam hiddem_dim=2, #epochs=25, middle_layer=False: loss=0.35418\n"
          ]
        },
        {
          "output_type": "stream",
          "name": "stderr",
          "text": [
            "100%|██████████| 15/15 [00:08<00:00,  1.68it/s, epoch=15, loss=3.2]\n"
          ]
        },
        {
          "output_type": "stream",
          "name": "stdout",
          "text": [
            "With Optimizer=Adam hiddem_dim=8, #epochs=25, middle_layer=True: loss=0.00189\n"
          ]
        },
        {
          "output_type": "stream",
          "name": "stderr",
          "text": [
            "100%|██████████| 15/15 [00:07<00:00,  2.07it/s, epoch=15, loss=75.6]\n"
          ]
        },
        {
          "output_type": "stream",
          "name": "stdout",
          "text": [
            "With Optimizer=Adam hiddem_dim=8, #epochs=25, middle_layer=False: loss=0.11216\n"
          ]
        },
        {
          "output_type": "stream",
          "name": "stderr",
          "text": [
            "100%|██████████| 25/25 [00:15<00:00,  1.65it/s, epoch=25, loss=1.86]\n"
          ]
        },
        {
          "output_type": "stream",
          "name": "stdout",
          "text": [
            "With Optimizer=Adam hiddem_dim=8, #epochs=25, middle_layer=True: loss=0.00114\n"
          ]
        },
        {
          "output_type": "stream",
          "name": "stderr",
          "text": [
            "100%|██████████| 25/25 [00:10<00:00,  2.33it/s, epoch=25, loss=15.8]\n"
          ]
        },
        {
          "output_type": "stream",
          "name": "stdout",
          "text": [
            "With Optimizer=Adam hiddem_dim=8, #epochs=25, middle_layer=False: loss=0.01755\n"
          ]
        },
        {
          "output_type": "stream",
          "name": "stderr",
          "text": [
            "100%|██████████| 35/35 [00:23<00:00,  1.46it/s, epoch=35, loss=1.75]\n"
          ]
        },
        {
          "output_type": "stream",
          "name": "stdout",
          "text": [
            "With Optimizer=Adam hiddem_dim=8, #epochs=25, middle_layer=True: loss=0.00104\n"
          ]
        },
        {
          "output_type": "stream",
          "name": "stderr",
          "text": [
            "100%|██████████| 35/35 [00:15<00:00,  2.20it/s, epoch=35, loss=2.44]\n"
          ]
        },
        {
          "output_type": "stream",
          "name": "stdout",
          "text": [
            "With Optimizer=Adam hiddem_dim=8, #epochs=25, middle_layer=False: loss=0.00184\n"
          ]
        },
        {
          "output_type": "stream",
          "name": "stderr",
          "text": [
            "100%|██████████| 15/15 [00:09<00:00,  1.51it/s, epoch=15, loss=1.81]\n"
          ]
        },
        {
          "output_type": "stream",
          "name": "stdout",
          "text": [
            "With Optimizer=Adam hiddem_dim=19, #epochs=25, middle_layer=True: loss=0.00037\n"
          ]
        },
        {
          "output_type": "stream",
          "name": "stderr",
          "text": [
            "100%|██████████| 15/15 [00:06<00:00,  2.35it/s, epoch=15, loss=25.7]\n"
          ]
        },
        {
          "output_type": "stream",
          "name": "stdout",
          "text": [
            "With Optimizer=Adam hiddem_dim=19, #epochs=25, middle_layer=False: loss=0.02438\n"
          ]
        },
        {
          "output_type": "stream",
          "name": "stderr",
          "text": [
            "100%|██████████| 25/25 [00:17<00:00,  1.44it/s, epoch=25, loss=1.75]\n"
          ]
        },
        {
          "output_type": "stream",
          "name": "stdout",
          "text": [
            "With Optimizer=Adam hiddem_dim=19, #epochs=25, middle_layer=True: loss=0.00034\n"
          ]
        },
        {
          "output_type": "stream",
          "name": "stderr",
          "text": [
            "100%|██████████| 25/25 [00:12<00:00,  2.05it/s, epoch=25, loss=2.66]\n"
          ]
        },
        {
          "output_type": "stream",
          "name": "stdout",
          "text": [
            "With Optimizer=Adam hiddem_dim=19, #epochs=25, middle_layer=False: loss=0.00185\n"
          ]
        },
        {
          "output_type": "stream",
          "name": "stderr",
          "text": [
            "100%|██████████| 35/35 [00:22<00:00,  1.58it/s, epoch=35, loss=1.71]\n"
          ]
        },
        {
          "output_type": "stream",
          "name": "stdout",
          "text": [
            "With Optimizer=Adam hiddem_dim=19, #epochs=25, middle_layer=True: loss=0.00045\n"
          ]
        },
        {
          "output_type": "stream",
          "name": "stderr",
          "text": [
            "100%|██████████| 35/35 [00:17<00:00,  2.02it/s, epoch=35, loss=1.8]"
          ]
        },
        {
          "output_type": "stream",
          "name": "stdout",
          "text": [
            "With Optimizer=Adam hiddem_dim=19, #epochs=25, middle_layer=False: loss=0.00069\n"
          ]
        },
        {
          "output_type": "stream",
          "name": "stderr",
          "text": [
            "\n"
          ]
        }
      ]
    },
    {
      "cell_type": "code",
      "source": [
        "import pandas as pd\n",
        "print('\\n\\nresults')\n",
        "\n",
        "dataframes = {'SGD': {}, 'Adam': {}}\n",
        "columns = ['epoches'] + [f\"{dim}_dims\" for dim in dims]\n",
        "\n",
        "for optimizer in optimizers.keys():\n",
        "  print('\\n')\n",
        "  print(optimizer)\n",
        "  print('\\n')\n",
        "  for key in optimizers[optimizer].keys():\n",
        "    print(key)\n",
        "    # print('\\n')\n",
        "    df = pd.DataFrame(optimizers[optimizer][key], index=epoches).rename_axis(index='epoches').reset_index()\n",
        "    df.columns = columns\n",
        "    dataframes[optimizer][key] = df\n",
        "\n",
        "    print(dataframes[optimizer][key])\n",
        "    print('\\n')"
      ],
      "metadata": {
        "colab": {
          "base_uri": "https://localhost:8080/"
        },
        "id": "ZTogDwuX_7Yj",
        "outputId": "2d6e018a-7841-496d-f4d9-4e8fa164bb46"
      },
      "id": "ZTogDwuX_7Yj",
      "execution_count": 72,
      "outputs": [
        {
          "output_type": "stream",
          "name": "stdout",
          "text": [
            "\n",
            "\n",
            "results\n",
            "\n",
            "\n",
            "SGD\n",
            "\n",
            "\n",
            "with_middle_layer\n",
            "   epoches    2_dims    8_dims   19_dims\n",
            "0       15  0.516681  0.418087  0.209397\n",
            "1       25  0.514674  0.361289  0.173341\n",
            "2       35  0.513205  0.309124  0.148640\n",
            "\n",
            "\n",
            "without_middle_layer\n",
            "   epoches    2_dims    8_dims   19_dims\n",
            "0       15  0.501982  0.307425  0.264870\n",
            "1       25  0.498010  0.266316  0.206370\n",
            "2       35  0.495041  0.241921  0.179469\n",
            "\n",
            "\n",
            "\n",
            "\n",
            "Adam\n",
            "\n",
            "\n",
            "with_middle_layer\n",
            "   epoches    2_dims    8_dims   19_dims\n",
            "0       15  0.346858  0.001889  0.000368\n",
            "1       25  0.342254  0.001143  0.000335\n",
            "2       35  0.340243  0.001035  0.000452\n",
            "\n",
            "\n",
            "without_middle_layer\n",
            "   epoches    2_dims    8_dims   19_dims\n",
            "0       15  0.377593  0.112155  0.024383\n",
            "1       25  0.357200  0.017548  0.001849\n",
            "2       35  0.354179  0.001835  0.000694\n",
            "\n",
            "\n"
          ]
        }
      ]
    },
    {
      "cell_type": "code",
      "source": [
        "#get best parameters\n",
        "\n",
        "min_optimizer_label = ''\n",
        "middle_layer = True\n",
        "min_epochs_label = 0\n",
        "min_dim_label = 0\n",
        "min_loss = 2\n",
        "\n",
        "for optimizer in optimizers.keys():\n",
        "  for key in optimizers[optimizer].keys():\n",
        "    df = dataframes[optimizer][key]\n",
        "    if min_loss > df.min().min():\n",
        "      min_loss = df.min().min()\n",
        "      min_index = df.stack().idxmin()\n",
        "      min_optimizer_label = optimizer\n",
        "      middle_layer = True if key == 'with_middle_layer' else False\n",
        "\n",
        "      min_epochs_label = df.iloc[min_index[0], 0]\n",
        "      min_dim_label = min_index[1].split('_')[0]\n",
        "\n",
        "print(f'The minimum loss is {min_loss:.5f} with Optimizer={min_optimizer_label}, middle_layer={middle_layer}, #hiddem_dim={min_dim_label}, #epochs={min_epochs_label}')"
      ],
      "metadata": {
        "colab": {
          "base_uri": "https://localhost:8080/"
        },
        "id": "R-nCse0RRpKt",
        "outputId": "efdb0dd7-6f58-43d7-9acc-377602cca76e"
      },
      "id": "R-nCse0RRpKt",
      "execution_count": 73,
      "outputs": [
        {
          "output_type": "stream",
          "name": "stdout",
          "text": [
            "The minimum loss is 0.00034 with Optimizer=Adam, middle_layer=True, #hiddem_dim=19, #epochs=25\n"
          ]
        }
      ]
    },
    {
      "cell_type": "code",
      "source": [
        "model = experiment_FFNN(int(min_dim_label), middle_layer=middle_layer).to(device)\n",
        "\n",
        "optim = torch.optim.SGD(model.parameters(), lr=LEARNING_RATE) if min_optimizer_label == 'SGD' else torch.optim.Adam(model.parameters(), lr=LEARNING_RATE) #optim = torch.optim.Adam(model.parameters(), lr=LEARNING_RATE)\n",
        "\n",
        "train_model(model, criterion, optim, train_data, n_epochs=int(min_epochs_label))\n",
        "\n",
        "loss, predictions = eval_model(model, criterion, test_data)\n",
        "print(loss)\n",
        "visualize_predictions(test_data, predictions)"
      ],
      "metadata": {
        "colab": {
          "base_uri": "https://localhost:8080/",
          "height": 485
        },
        "id": "qGCY1GJZwew9",
        "outputId": "4ad44d43-940a-4503-dbe5-390379b9fb35"
      },
      "id": "qGCY1GJZwew9",
      "execution_count": 74,
      "outputs": [
        {
          "output_type": "stream",
          "name": "stderr",
          "text": [
            "100%|██████████| 25/25 [00:15<00:00,  1.61it/s, epoch=25, loss=1.75]\n"
          ]
        },
        {
          "output_type": "stream",
          "name": "stdout",
          "text": [
            "0.0003350529877934605\n"
          ]
        },
        {
          "output_type": "display_data",
          "data": {
            "text/plain": [
              "<Figure size 640x480 with 1 Axes>"
            ],
            "image/png": "[encoded data removed]"
          },
          "metadata": {}
        }
      ]
    },
    {
      "cell_type": "markdown",
      "id": "20fe1d2a",
      "metadata": {
        "deletable": false,
        "editable": false,
        "id": "20fe1d2a"
      },
      "source": [
        "<!-- BEGIN QUESTION -->\n",
        "\n",
        "**Question:** What conclusions have you drawn from your experimentation?\n",
        "<!--\n",
        "BEGIN QUESTION\n",
        "name: open_response_testing_models\n",
        "manual: true\n",
        "-->"
      ]
    },
    {
      "cell_type": "markdown",
      "id": "78696492",
      "metadata": {
        "id": "78696492"
      },
      "source": [
        "_We can see that the Adam optimizer preforms better results than the SGD on this data for this task regardless to the other parameters, also using middel layer minimize the loss (improves the predictions) and it has more impact when the hidden dimention is bigger, and more impact when using Adam than SGD, we conclude that the best number for hidden dimentions is 19 for 25 ephocs._"
      ]
    },
    {
      "cell_type": "markdown",
      "id": "7298e3d6",
      "metadata": {
        "deletable": false,
        "editable": false,
        "id": "7298e3d6"
      },
      "source": [
        "<!-- END QUESTION -->\n",
        "\n",
        "<!-- BEGIN QUESTION -->\n",
        "\n",
        "# Lab debrief\n",
        "\n",
        "**Question:** We're interested in any thoughts your group has about this lab so that we can improve this lab for later years, and to inform later labs for this year. Please list any issues that arose or comments you have to improve the lab. Useful things to comment on include the following: \n",
        "\n",
        "* Was the lab too long or too short?\n",
        "* Were the readings appropriate for the lab? \n",
        "* Was it clear (at least after you completed the lab) what the points of the exercises were? \n",
        "* Are there additions or changes you think would make the lab better?\n",
        "\n",
        "<!--\n",
        "BEGIN QUESTION\n",
        "name: open_response_debrief\n",
        "manual: true\n",
        "-->"
      ]
    },
    {
      "cell_type": "markdown",
      "id": "e4d08cee",
      "metadata": {
        "id": "e4d08cee"
      },
      "source": [
        "_Type your answer here, replacing this text._"
      ]
    },
    {
      "cell_type": "markdown",
      "id": "ef6b42e5",
      "metadata": {
        "id": "ef6b42e5"
      },
      "source": [
        "<!-- END QUESTION -->\n",
        "\n",
        "\n",
        "\n",
        "# End of lab 1-5"
      ]
    },
    {
      "cell_type": "markdown",
      "id": "39d16a46",
      "metadata": {
        "deletable": false,
        "editable": false,
        "id": "39d16a46"
      },
      "source": [
        "---\n",
        "\n",
        "To double-check your work, the cell below will rerun all of the autograder tests."
      ]
    },
    {
      "cell_type": "code",
      "execution_count": 75,
      "id": "cfc77132",
      "metadata": {
        "deletable": false,
        "editable": false,
        "id": "cfc77132",
        "colab": {
          "base_uri": "https://localhost:8080/",
          "height": 443
        },
        "outputId": "15711e11-4ca8-418d-c6c9-9e511c05f09f"
      },
      "outputs": [
        {
          "output_type": "execute_result",
          "data": {
            "text/plain": [
              "FFNN:\n",
              "\n",
              "    All tests passed!\n",
              "    \n",
              "\n",
              "count_instances:\n",
              "\n",
              "    All tests passed!\n",
              "    \n",
              "\n",
              "count_instances_class:\n",
              "\n",
              "    All tests passed!\n",
              "    \n",
              "\n",
              "count_tokens_instances:\n",
              "\n",
              "    All tests passed!\n",
              "    \n",
              "\n",
              "dataset_setup:\n",
              "\n",
              "    All tests passed!\n",
              "    \n",
              "\n",
              "dataset_split:\n",
              "\n",
              "    All tests passed!\n",
              "    \n",
              "\n",
              "model_reduces_loss:\n",
              "\n",
              "    All tests passed!\n",
              "    \n",
              "\n",
              "print_vocab:\n",
              "\n",
              "    All tests passed!\n",
              "    \n",
              "\n",
              "vocab_sizes:\n",
              "\n",
              "    All tests passed!\n",
              "    \n"
            ],
            "text/html": [
              "<p><strong>FFNN:</strong></p>\n",
              "\n",
              "    \n",
              "    \n",
              "        <p>All tests passed!</p>\n",
              "    \n",
              "    \n",
              "\n",
              "<p><strong>count_instances:</strong></p>\n",
              "\n",
              "    \n",
              "    \n",
              "        <p>All tests passed!</p>\n",
              "    \n",
              "    \n",
              "\n",
              "<p><strong>count_instances_class:</strong></p>\n",
              "\n",
              "    \n",
              "    \n",
              "        <p>All tests passed!</p>\n",
              "    \n",
              "    \n",
              "\n",
              "<p><strong>count_tokens_instances:</strong></p>\n",
              "\n",
              "    \n",
              "    \n",
              "        <p>All tests passed!</p>\n",
              "    \n",
              "    \n",
              "\n",
              "<p><strong>dataset_setup:</strong></p>\n",
              "\n",
              "    \n",
              "    \n",
              "        <p>All tests passed!</p>\n",
              "    \n",
              "    \n",
              "\n",
              "<p><strong>dataset_split:</strong></p>\n",
              "\n",
              "    \n",
              "    \n",
              "        <p>All tests passed!</p>\n",
              "    \n",
              "    \n",
              "\n",
              "<p><strong>model_reduces_loss:</strong></p>\n",
              "\n",
              "    \n",
              "    \n",
              "        <p>All tests passed!</p>\n",
              "    \n",
              "    \n",
              "\n",
              "<p><strong>print_vocab:</strong></p>\n",
              "\n",
              "    \n",
              "    \n",
              "        <p>All tests passed!</p>\n",
              "    \n",
              "    \n",
              "\n",
              "<p><strong>vocab_sizes:</strong></p>\n",
              "\n",
              "    \n",
              "    \n",
              "        <p>All tests passed!</p>\n",
              "    \n",
              "    \n",
              "\n"
            ]
          },
          "metadata": {},
          "execution_count": 75
        }
      ],
      "source": [
        "grader.check_all()"
      ]
    }
  ],
  "metadata": {
    "celltoolbar": "Edit Metadata",
    "kernelspec": {
      "display_name": "otter-latest",
      "language": "python",
      "name": "python3"
    },
    "language_info": {
      "codemirror_mode": {
        "name": "ipython",
        "version": 3
      },
      "file_extension": ".py",
      "mimetype": "text/x-python",
      "name": "python",
      "nbconvert_exporter": "python",
      "pygments_lexer": "ipython3",
      "version": "3.8.3"
    },
    "title": "CS187 Lab 1-5: Scaling up: Huggingface Datasets, Tokenizers, and PyTorch",
    "vscode": {
      "interpreter": {
        "hash": "4fba83c08fc02185bb2310bd24d0cd81fb04529c933f82aa81c61aab9d5528dc"
      }
    },
    "widgets": {
      "application/vnd.jupyter.widget-state+json": {
        "81732d942860457992895083c80c502c": {
          "model_module": "@jupyter-widgets/controls",
          "model_name": "HBoxModel",
          "model_module_version": "1.5.0",
          "state": {
            "_dom_classes": [],
            "_model_module": "@jupyter-widgets/controls",
            "_model_module_version": "1.5.0",
            "_model_name": "HBoxModel",
            "_view_count": null,
            "_view_module": "@jupyter-widgets/controls",
            "_view_module_version": "1.5.0",
            "_view_name": "HBoxView",
            "box_style": "",
            "children": [
              "IPY_MODEL_e7fc8a0a7b0440e483a599a46569a264",
              "IPY_MODEL_b4f657d10d2c4a1ea71f0dd6eec89f7e",
              "IPY_MODEL_b086391c16de443d909a94a2f983c4dd"
            ],
            "layout": "IPY_MODEL_c27891ed39b345158deb9319c67df3b6"
          }
        },
        "e7fc8a0a7b0440e483a599a46569a264": {
          "model_module": "@jupyter-widgets/controls",
          "model_name": "HTMLModel",
          "model_module_version": "1.5.0",
          "state": {
            "_dom_classes": [],
            "_model_module": "@jupyter-widgets/controls",
            "_model_module_version": "1.5.0",
            "_model_name": "HTMLModel",
            "_view_count": null,
            "_view_module": "@jupyter-widgets/controls",
            "_view_module_version": "1.5.0",
            "_view_name": "HTMLView",
            "description": "",
            "description_tooltip": null,
            "layout": "IPY_MODEL_b59b598c30864813a41d646c932a792f",
            "placeholder": "​",
            "style": "IPY_MODEL_55859be939bf4aa8bf550a3e6be9745f",
            "value": "Downloading data files: 100%"
          }
        },
        "b4f657d10d2c4a1ea71f0dd6eec89f7e": {
          "model_module": "@jupyter-widgets/controls",
          "model_name": "FloatProgressModel",
          "model_module_version": "1.5.0",
          "state": {
            "_dom_classes": [],
            "_model_module": "@jupyter-widgets/controls",
            "_model_module_version": "1.5.0",
            "_model_name": "FloatProgressModel",
            "_view_count": null,
            "_view_module": "@jupyter-widgets/controls",
            "_view_module_version": "1.5.0",
            "_view_name": "ProgressView",
            "bar_style": "success",
            "description": "",
            "description_tooltip": null,
            "layout": "IPY_MODEL_f1cee8e61ab64c8c8d434873d4528d65",
            "max": 1,
            "min": 0,
            "orientation": "horizontal",
            "style": "IPY_MODEL_d811a8aa6cb942e48c91eac383b0bfe0",
            "value": 1
          }
        },
        "b086391c16de443d909a94a2f983c4dd": {
          "model_module": "@jupyter-widgets/controls",
          "model_name": "HTMLModel",
          "model_module_version": "1.5.0",
          "state": {
            "_dom_classes": [],
            "_model_module": "@jupyter-widgets/controls",
            "_model_module_version": "1.5.0",
            "_model_name": "HTMLModel",
            "_view_count": null,
            "_view_module": "@jupyter-widgets/controls",
            "_view_module_version": "1.5.0",
            "_view_name": "HTMLView",
            "description": "",
            "description_tooltip": null,
            "layout": "IPY_MODEL_bd22f402eef840c5910fefb6fc30c378",
            "placeholder": "​",
            "style": "IPY_MODEL_539329442cf34e36b0e82747ecf6f49a",
            "value": " 1/1 [00:00&lt;00:00, 31.71it/s]"
          }
        },
        "c27891ed39b345158deb9319c67df3b6": {
          "model_module": "@jupyter-widgets/base",
          "model_name": "LayoutModel",
          "model_module_version": "1.2.0",
          "state": {
            "_model_module": "@jupyter-widgets/base",
            "_model_module_version": "1.2.0",
            "_model_name": "LayoutModel",
            "_view_count": null,
            "_view_module": "@jupyter-widgets/base",
            "_view_module_version": "1.2.0",
            "_view_name": "LayoutView",
            "align_content": null,
            "align_items": null,
            "align_self": null,
            "border": null,
            "bottom": null,
            "display": null,
            "flex": null,
            "flex_flow": null,
            "grid_area": null,
            "grid_auto_columns": null,
            "grid_auto_flow": null,
            "grid_auto_rows": null,
            "grid_column": null,
            "grid_gap": null,
            "grid_row": null,
            "grid_template_areas": null,
            "grid_template_columns": null,
            "grid_template_rows": null,
            "height": null,
            "justify_content": null,
            "justify_items": null,
            "left": null,
            "margin": null,
            "max_height": null,
            "max_width": null,
            "min_height": null,
            "min_width": null,
            "object_fit": null,
            "object_position": null,
            "order": null,
            "overflow": null,
            "overflow_x": null,
            "overflow_y": null,
            "padding": null,
            "right": null,
            "top": null,
            "visibility": null,
            "width": null
          }
        },
        "b59b598c30864813a41d646c932a792f": {
          "model_module": "@jupyter-widgets/base",
          "model_name": "LayoutModel",
          "model_module_version": "1.2.0",
          "state": {
            "_model_module": "@jupyter-widgets/base",
            "_model_module_version": "1.2.0",
            "_model_name": "LayoutModel",
            "_view_count": null,
            "_view_module": "@jupyter-widgets/base",
            "_view_module_version": "1.2.0",
            "_view_name": "LayoutView",
            "align_content": null,
            "align_items": null,
            "align_self": null,
            "border": null,
            "bottom": null,
            "display": null,
            "flex": null,
            "flex_flow": null,
            "grid_area": null,
            "grid_auto_columns": null,
            "grid_auto_flow": null,
            "grid_auto_rows": null,
            "grid_column": null,
            "grid_gap": null,
            "grid_row": null,
            "grid_template_areas": null,
            "grid_template_columns": null,
            "grid_template_rows": null,
            "height": null,
            "justify_content": null,
            "justify_items": null,
            "left": null,
            "margin": null,
            "max_height": null,
            "max_width": null,
            "min_height": null,
            "min_width": null,
            "object_fit": null,
            "object_position": null,
            "order": null,
            "overflow": null,
            "overflow_x": null,
            "overflow_y": null,
            "padding": null,
            "right": null,
            "top": null,
            "visibility": null,
            "width": null
          }
        },
        "55859be939bf4aa8bf550a3e6be9745f": {
          "model_module": "@jupyter-widgets/controls",
          "model_name": "DescriptionStyleModel",
          "model_module_version": "1.5.0",
          "state": {
            "_model_module": "@jupyter-widgets/controls",
            "_model_module_version": "1.5.0",
            "_model_name": "DescriptionStyleModel",
            "_view_count": null,
            "_view_module": "@jupyter-widgets/base",
            "_view_module_version": "1.2.0",
            "_view_name": "StyleView",
            "description_width": ""
          }
        },
        "f1cee8e61ab64c8c8d434873d4528d65": {
          "model_module": "@jupyter-widgets/base",
          "model_name": "LayoutModel",
          "model_module_version": "1.2.0",
          "state": {
            "_model_module": "@jupyter-widgets/base",
            "_model_module_version": "1.2.0",
            "_model_name": "LayoutModel",
            "_view_count": null,
            "_view_module": "@jupyter-widgets/base",
            "_view_module_version": "1.2.0",
            "_view_name": "LayoutView",
            "align_content": null,
            "align_items": null,
            "align_self": null,
            "border": null,
            "bottom": null,
            "display": null,
            "flex": null,
            "flex_flow": null,
            "grid_area": null,
            "grid_auto_columns": null,
            "grid_auto_flow": null,
            "grid_auto_rows": null,
            "grid_column": null,
            "grid_gap": null,
            "grid_row": null,
            "grid_template_areas": null,
            "grid_template_columns": null,
            "grid_template_rows": null,
            "height": null,
            "justify_content": null,
            "justify_items": null,
            "left": null,
            "margin": null,
            "max_height": null,
            "max_width": null,
            "min_height": null,
            "min_width": null,
            "object_fit": null,
            "object_position": null,
            "order": null,
            "overflow": null,
            "overflow_x": null,
            "overflow_y": null,
            "padding": null,
            "right": null,
            "top": null,
            "visibility": null,
            "width": null
          }
        },
        "d811a8aa6cb942e48c91eac383b0bfe0": {
          "model_module": "@jupyter-widgets/controls",
          "model_name": "ProgressStyleModel",
          "model_module_version": "1.5.0",
          "state": {
            "_model_module": "@jupyter-widgets/controls",
            "_model_module_version": "1.5.0",
            "_model_name": "ProgressStyleModel",
            "_view_count": null,
            "_view_module": "@jupyter-widgets/base",
            "_view_module_version": "1.2.0",
            "_view_name": "StyleView",
            "bar_color": null,
            "description_width": ""
          }
        },
        "bd22f402eef840c5910fefb6fc30c378": {
          "model_module": "@jupyter-widgets/base",
          "model_name": "LayoutModel",
          "model_module_version": "1.2.0",
          "state": {
            "_model_module": "@jupyter-widgets/base",
            "_model_module_version": "1.2.0",
            "_model_name": "LayoutModel",
            "_view_count": null,
            "_view_module": "@jupyter-widgets/base",
            "_view_module_version": "1.2.0",
            "_view_name": "LayoutView",
            "align_content": null,
            "align_items": null,
            "align_self": null,
            "border": null,
            "bottom": null,
            "display": null,
            "flex": null,
            "flex_flow": null,
            "grid_area": null,
            "grid_auto_columns": null,
            "grid_auto_flow": null,
            "grid_auto_rows": null,
            "grid_column": null,
            "grid_gap": null,
            "grid_row": null,
            "grid_template_areas": null,
            "grid_template_columns": null,
            "grid_template_rows": null,
            "height": null,
            "justify_content": null,
            "justify_items": null,
            "left": null,
            "margin": null,
            "max_height": null,
            "max_width": null,
            "min_height": null,
            "min_width": null,
            "object_fit": null,
            "object_position": null,
            "order": null,
            "overflow": null,
            "overflow_x": null,
            "overflow_y": null,
            "padding": null,
            "right": null,
            "top": null,
            "visibility": null,
            "width": null
          }
        },
        "539329442cf34e36b0e82747ecf6f49a": {
          "model_module": "@jupyter-widgets/controls",
          "model_name": "DescriptionStyleModel",
          "model_module_version": "1.5.0",
          "state": {
            "_model_module": "@jupyter-widgets/controls",
            "_model_module_version": "1.5.0",
            "_model_name": "DescriptionStyleModel",
            "_view_count": null,
            "_view_module": "@jupyter-widgets/base",
            "_view_module_version": "1.2.0",
            "_view_name": "StyleView",
            "description_width": ""
          }
        },
        "bd2f598a6f73411ca7a46a0a4a0250e9": {
          "model_module": "@jupyter-widgets/controls",
          "model_name": "HBoxModel",
          "model_module_version": "1.5.0",
          "state": {
            "_dom_classes": [],
            "_model_module": "@jupyter-widgets/controls",
            "_model_module_version": "1.5.0",
            "_model_name": "HBoxModel",
            "_view_count": null,
            "_view_module": "@jupyter-widgets/controls",
            "_view_module_version": "1.5.0",
            "_view_name": "HBoxView",
            "box_style": "",
            "children": [
              "IPY_MODEL_34c16f28623c4219a806864f66d0ee5b",
              "IPY_MODEL_77238d3d255548b6a1e1df995f11b0b3",
              "IPY_MODEL_bd92ba7fed7548a4b6c5216e9c19cc2a"
            ],
            "layout": "IPY_MODEL_17c8dfc775ec4d8a9a7b9492d3d98afb"
          }
        },
        "34c16f28623c4219a806864f66d0ee5b": {
          "model_module": "@jupyter-widgets/controls",
          "model_name": "HTMLModel",
          "model_module_version": "1.5.0",
          "state": {
            "_dom_classes": [],
            "_model_module": "@jupyter-widgets/controls",
            "_model_module_version": "1.5.0",
            "_model_name": "HTMLModel",
            "_view_count": null,
            "_view_module": "@jupyter-widgets/controls",
            "_view_module_version": "1.5.0",
            "_view_name": "HTMLView",
            "description": "",
            "description_tooltip": null,
            "layout": "IPY_MODEL_313d4389cf2b43218e76d44bd8b3e2cf",
            "placeholder": "​",
            "style": "IPY_MODEL_67ec73cb53534d65b7f158a36b2610d9",
            "value": "Extracting data files: 100%"
          }
        },
        "77238d3d255548b6a1e1df995f11b0b3": {
          "model_module": "@jupyter-widgets/controls",
          "model_name": "FloatProgressModel",
          "model_module_version": "1.5.0",
          "state": {
            "_dom_classes": [],
            "_model_module": "@jupyter-widgets/controls",
            "_model_module_version": "1.5.0",
            "_model_name": "FloatProgressModel",
            "_view_count": null,
            "_view_module": "@jupyter-widgets/controls",
            "_view_module_version": "1.5.0",
            "_view_name": "ProgressView",
            "bar_style": "success",
            "description": "",
            "description_tooltip": null,
            "layout": "IPY_MODEL_7751c1d611ea4c3f9e4b01221c52438a",
            "max": 1,
            "min": 0,
            "orientation": "horizontal",
            "style": "IPY_MODEL_afa8022752464fce8beb22395ebb6b62",
            "value": 1
          }
        },
        "bd92ba7fed7548a4b6c5216e9c19cc2a": {
          "model_module": "@jupyter-widgets/controls",
          "model_name": "HTMLModel",
          "model_module_version": "1.5.0",
          "state": {
            "_dom_classes": [],
            "_model_module": "@jupyter-widgets/controls",
            "_model_module_version": "1.5.0",
            "_model_name": "HTMLModel",
            "_view_count": null,
            "_view_module": "@jupyter-widgets/controls",
            "_view_module_version": "1.5.0",
            "_view_name": "HTMLView",
            "description": "",
            "description_tooltip": null,
            "layout": "IPY_MODEL_60bd200315bd49829e4f84ce4d8e71bf",
            "placeholder": "​",
            "style": "IPY_MODEL_24da6b7fed8641079f081125856b8d6e",
            "value": " 1/1 [00:00&lt;00:00, 42.09it/s]"
          }
        },
        "17c8dfc775ec4d8a9a7b9492d3d98afb": {
          "model_module": "@jupyter-widgets/base",
          "model_name": "LayoutModel",
          "model_module_version": "1.2.0",
          "state": {
            "_model_module": "@jupyter-widgets/base",
            "_model_module_version": "1.2.0",
            "_model_name": "LayoutModel",
            "_view_count": null,
            "_view_module": "@jupyter-widgets/base",
            "_view_module_version": "1.2.0",
            "_view_name": "LayoutView",
            "align_content": null,
            "align_items": null,
            "align_self": null,
            "border": null,
            "bottom": null,
            "display": null,
            "flex": null,
            "flex_flow": null,
            "grid_area": null,
            "grid_auto_columns": null,
            "grid_auto_flow": null,
            "grid_auto_rows": null,
            "grid_column": null,
            "grid_gap": null,
            "grid_row": null,
            "grid_template_areas": null,
            "grid_template_columns": null,
            "grid_template_rows": null,
            "height": null,
            "justify_content": null,
            "justify_items": null,
            "left": null,
            "margin": null,
            "max_height": null,
            "max_width": null,
            "min_height": null,
            "min_width": null,
            "object_fit": null,
            "object_position": null,
            "order": null,
            "overflow": null,
            "overflow_x": null,
            "overflow_y": null,
            "padding": null,
            "right": null,
            "top": null,
            "visibility": null,
            "width": null
          }
        },
        "313d4389cf2b43218e76d44bd8b3e2cf": {
          "model_module": "@jupyter-widgets/base",
          "model_name": "LayoutModel",
          "model_module_version": "1.2.0",
          "state": {
            "_model_module": "@jupyter-widgets/base",
            "_model_module_version": "1.2.0",
            "_model_name": "LayoutModel",
            "_view_count": null,
            "_view_module": "@jupyter-widgets/base",
            "_view_module_version": "1.2.0",
            "_view_name": "LayoutView",
            "align_content": null,
            "align_items": null,
            "align_self": null,
            "border": null,
            "bottom": null,
            "display": null,
            "flex": null,
            "flex_flow": null,
            "grid_area": null,
            "grid_auto_columns": null,
            "grid_auto_flow": null,
            "grid_auto_rows": null,
            "grid_column": null,
            "grid_gap": null,
            "grid_row": null,
            "grid_template_areas": null,
            "grid_template_columns": null,
            "grid_template_rows": null,
            "height": null,
            "justify_content": null,
            "justify_items": null,
            "left": null,
            "margin": null,
            "max_height": null,
            "max_width": null,
            "min_height": null,
            "min_width": null,
            "object_fit": null,
            "object_position": null,
            "order": null,
            "overflow": null,
            "overflow_x": null,
            "overflow_y": null,
            "padding": null,
            "right": null,
            "top": null,
            "visibility": null,
            "width": null
          }
        },
        "67ec73cb53534d65b7f158a36b2610d9": {
          "model_module": "@jupyter-widgets/controls",
          "model_name": "DescriptionStyleModel",
          "model_module_version": "1.5.0",
          "state": {
            "_model_module": "@jupyter-widgets/controls",
            "_model_module_version": "1.5.0",
            "_model_name": "DescriptionStyleModel",
            "_view_count": null,
            "_view_module": "@jupyter-widgets/base",
            "_view_module_version": "1.2.0",
            "_view_name": "StyleView",
            "description_width": ""
          }
        },
        "7751c1d611ea4c3f9e4b01221c52438a": {
          "model_module": "@jupyter-widgets/base",
          "model_name": "LayoutModel",
          "model_module_version": "1.2.0",
          "state": {
            "_model_module": "@jupyter-widgets/base",
            "_model_module_version": "1.2.0",
            "_model_name": "LayoutModel",
            "_view_count": null,
            "_view_module": "@jupyter-widgets/base",
            "_view_module_version": "1.2.0",
            "_view_name": "LayoutView",
            "align_content": null,
            "align_items": null,
            "align_self": null,
            "border": null,
            "bottom": null,
            "display": null,
            "flex": null,
            "flex_flow": null,
            "grid_area": null,
            "grid_auto_columns": null,
            "grid_auto_flow": null,
            "grid_auto_rows": null,
            "grid_column": null,
            "grid_gap": null,
            "grid_row": null,
            "grid_template_areas": null,
            "grid_template_columns": null,
            "grid_template_rows": null,
            "height": null,
            "justify_content": null,
            "justify_items": null,
            "left": null,
            "margin": null,
            "max_height": null,
            "max_width": null,
            "min_height": null,
            "min_width": null,
            "object_fit": null,
            "object_position": null,
            "order": null,
            "overflow": null,
            "overflow_x": null,
            "overflow_y": null,
            "padding": null,
            "right": null,
            "top": null,
            "visibility": null,
            "width": null
          }
        },
        "afa8022752464fce8beb22395ebb6b62": {
          "model_module": "@jupyter-widgets/controls",
          "model_name": "ProgressStyleModel",
          "model_module_version": "1.5.0",
          "state": {
            "_model_module": "@jupyter-widgets/controls",
            "_model_module_version": "1.5.0",
            "_model_name": "ProgressStyleModel",
            "_view_count": null,
            "_view_module": "@jupyter-widgets/base",
            "_view_module_version": "1.2.0",
            "_view_name": "StyleView",
            "bar_color": null,
            "description_width": ""
          }
        },
        "60bd200315bd49829e4f84ce4d8e71bf": {
          "model_module": "@jupyter-widgets/base",
          "model_name": "LayoutModel",
          "model_module_version": "1.2.0",
          "state": {
            "_model_module": "@jupyter-widgets/base",
            "_model_module_version": "1.2.0",
            "_model_name": "LayoutModel",
            "_view_count": null,
            "_view_module": "@jupyter-widgets/base",
            "_view_module_version": "1.2.0",
            "_view_name": "LayoutView",
            "align_content": null,
            "align_items": null,
            "align_self": null,
            "border": null,
            "bottom": null,
            "display": null,
            "flex": null,
            "flex_flow": null,
            "grid_area": null,
            "grid_auto_columns": null,
            "grid_auto_flow": null,
            "grid_auto_rows": null,
            "grid_column": null,
            "grid_gap": null,
            "grid_row": null,
            "grid_template_areas": null,
            "grid_template_columns": null,
            "grid_template_rows": null,
            "height": null,
            "justify_content": null,
            "justify_items": null,
            "left": null,
            "margin": null,
            "max_height": null,
            "max_width": null,
            "min_height": null,
            "min_width": null,
            "object_fit": null,
            "object_position": null,
            "order": null,
            "overflow": null,
            "overflow_x": null,
            "overflow_y": null,
            "padding": null,
            "right": null,
            "top": null,
            "visibility": null,
            "width": null
          }
        },
        "24da6b7fed8641079f081125856b8d6e": {
          "model_module": "@jupyter-widgets/controls",
          "model_name": "DescriptionStyleModel",
          "model_module_version": "1.5.0",
          "state": {
            "_model_module": "@jupyter-widgets/controls",
            "_model_module_version": "1.5.0",
            "_model_name": "DescriptionStyleModel",
            "_view_count": null,
            "_view_module": "@jupyter-widgets/base",
            "_view_module_version": "1.2.0",
            "_view_name": "StyleView",
            "description_width": ""
          }
        },
        "fcdb79ecec7246a38bcc9b1ced918b6b": {
          "model_module": "@jupyter-widgets/controls",
          "model_name": "HBoxModel",
          "model_module_version": "1.5.0",
          "state": {
            "_dom_classes": [],
            "_model_module": "@jupyter-widgets/controls",
            "_model_module_version": "1.5.0",
            "_model_name": "HBoxModel",
            "_view_count": null,
            "_view_module": "@jupyter-widgets/controls",
            "_view_module_version": "1.5.0",
            "_view_name": "HBoxView",
            "box_style": "",
            "children": [
              "IPY_MODEL_3b3b0ec98e0145d3aed6608f3e4556b5",
              "IPY_MODEL_cebc897dc9e94d53a93d43f7b330262a",
              "IPY_MODEL_d84d469049e943a1b5151f958306f50a"
            ],
            "layout": "IPY_MODEL_e279ea8943f64fe5bfb5aa44ef78527f"
          }
        },
        "3b3b0ec98e0145d3aed6608f3e4556b5": {
          "model_module": "@jupyter-widgets/controls",
          "model_name": "HTMLModel",
          "model_module_version": "1.5.0",
          "state": {
            "_dom_classes": [],
            "_model_module": "@jupyter-widgets/controls",
            "_model_module_version": "1.5.0",
            "_model_name": "HTMLModel",
            "_view_count": null,
            "_view_module": "@jupyter-widgets/controls",
            "_view_module_version": "1.5.0",
            "_view_name": "HTMLView",
            "description": "",
            "description_tooltip": null,
            "layout": "IPY_MODEL_7201ed7fd7634f67995c1418791fd9cb",
            "placeholder": "​",
            "style": "IPY_MODEL_77e5a310c25e464da1c15cc7530fba4f",
            "value": "Generating train split: "
          }
        },
        "cebc897dc9e94d53a93d43f7b330262a": {
          "model_module": "@jupyter-widgets/controls",
          "model_name": "FloatProgressModel",
          "model_module_version": "1.5.0",
          "state": {
            "_dom_classes": [],
            "_model_module": "@jupyter-widgets/controls",
            "_model_module_version": "1.5.0",
            "_model_name": "FloatProgressModel",
            "_view_count": null,
            "_view_module": "@jupyter-widgets/controls",
            "_view_module_version": "1.5.0",
            "_view_name": "ProgressView",
            "bar_style": "info",
            "description": "",
            "description_tooltip": null,
            "layout": "IPY_MODEL_7fbd5e8296124012bf039e5bd48f3253",
            "max": 1,
            "min": 0,
            "orientation": "horizontal",
            "style": "IPY_MODEL_d929e39e9b0d4e778fa4f786c8fb9376",
            "value": 1
          }
        },
        "d84d469049e943a1b5151f958306f50a": {
          "model_module": "@jupyter-widgets/controls",
          "model_name": "HTMLModel",
          "model_module_version": "1.5.0",
          "state": {
            "_dom_classes": [],
            "_model_module": "@jupyter-widgets/controls",
            "_model_module_version": "1.5.0",
            "_model_name": "HTMLModel",
            "_view_count": null,
            "_view_module": "@jupyter-widgets/controls",
            "_view_module_version": "1.5.0",
            "_view_name": "HTMLView",
            "description": "",
            "description_tooltip": null,
            "layout": "IPY_MODEL_2be3bb763edf45a198f271eda1207b97",
            "placeholder": "​",
            "style": "IPY_MODEL_0540cbfb004a4272aa6eee66a2308773",
            "value": " 0/0 [00:00&lt;?, ? examples/s]"
          }
        },
        "e279ea8943f64fe5bfb5aa44ef78527f": {
          "model_module": "@jupyter-widgets/base",
          "model_name": "LayoutModel",
          "model_module_version": "1.2.0",
          "state": {
            "_model_module": "@jupyter-widgets/base",
            "_model_module_version": "1.2.0",
            "_model_name": "LayoutModel",
            "_view_count": null,
            "_view_module": "@jupyter-widgets/base",
            "_view_module_version": "1.2.0",
            "_view_name": "LayoutView",
            "align_content": null,
            "align_items": null,
            "align_self": null,
            "border": null,
            "bottom": null,
            "display": null,
            "flex": null,
            "flex_flow": null,
            "grid_area": null,
            "grid_auto_columns": null,
            "grid_auto_flow": null,
            "grid_auto_rows": null,
            "grid_column": null,
            "grid_gap": null,
            "grid_row": null,
            "grid_template_areas": null,
            "grid_template_columns": null,
            "grid_template_rows": null,
            "height": null,
            "justify_content": null,
            "justify_items": null,
            "left": null,
            "margin": null,
            "max_height": null,
            "max_width": null,
            "min_height": null,
            "min_width": null,
            "object_fit": null,
            "object_position": null,
            "order": null,
            "overflow": null,
            "overflow_x": null,
            "overflow_y": null,
            "padding": null,
            "right": null,
            "top": null,
            "visibility": "hidden",
            "width": null
          }
        },
        "7201ed7fd7634f67995c1418791fd9cb": {
          "model_module": "@jupyter-widgets/base",
          "model_name": "LayoutModel",
          "model_module_version": "1.2.0",
          "state": {
            "_model_module": "@jupyter-widgets/base",
            "_model_module_version": "1.2.0",
            "_model_name": "LayoutModel",
            "_view_count": null,
            "_view_module": "@jupyter-widgets/base",
            "_view_module_version": "1.2.0",
            "_view_name": "LayoutView",
            "align_content": null,
            "align_items": null,
            "align_self": null,
            "border": null,
            "bottom": null,
            "display": null,
            "flex": null,
            "flex_flow": null,
            "grid_area": null,
            "grid_auto_columns": null,
            "grid_auto_flow": null,
            "grid_auto_rows": null,
            "grid_column": null,
            "grid_gap": null,
            "grid_row": null,
            "grid_template_areas": null,
            "grid_template_columns": null,
            "grid_template_rows": null,
            "height": null,
            "justify_content": null,
            "justify_items": null,
            "left": null,
            "margin": null,
            "max_height": null,
            "max_width": null,
            "min_height": null,
            "min_width": null,
            "object_fit": null,
            "object_position": null,
            "order": null,
            "overflow": null,
            "overflow_x": null,
            "overflow_y": null,
            "padding": null,
            "right": null,
            "top": null,
            "visibility": null,
            "width": null
          }
        },
        "77e5a310c25e464da1c15cc7530fba4f": {
          "model_module": "@jupyter-widgets/controls",
          "model_name": "DescriptionStyleModel",
          "model_module_version": "1.5.0",
          "state": {
            "_model_module": "@jupyter-widgets/controls",
            "_model_module_version": "1.5.0",
            "_model_name": "DescriptionStyleModel",
            "_view_count": null,
            "_view_module": "@jupyter-widgets/base",
            "_view_module_version": "1.2.0",
            "_view_name": "StyleView",
            "description_width": ""
          }
        },
        "7fbd5e8296124012bf039e5bd48f3253": {
          "model_module": "@jupyter-widgets/base",
          "model_name": "LayoutModel",
          "model_module_version": "1.2.0",
          "state": {
            "_model_module": "@jupyter-widgets/base",
            "_model_module_version": "1.2.0",
            "_model_name": "LayoutModel",
            "_view_count": null,
            "_view_module": "@jupyter-widgets/base",
            "_view_module_version": "1.2.0",
            "_view_name": "LayoutView",
            "align_content": null,
            "align_items": null,
            "align_self": null,
            "border": null,
            "bottom": null,
            "display": null,
            "flex": null,
            "flex_flow": null,
            "grid_area": null,
            "grid_auto_columns": null,
            "grid_auto_flow": null,
            "grid_auto_rows": null,
            "grid_column": null,
            "grid_gap": null,
            "grid_row": null,
            "grid_template_areas": null,
            "grid_template_columns": null,
            "grid_template_rows": null,
            "height": null,
            "justify_content": null,
            "justify_items": null,
            "left": null,
            "margin": null,
            "max_height": null,
            "max_width": null,
            "min_height": null,
            "min_width": null,
            "object_fit": null,
            "object_position": null,
            "order": null,
            "overflow": null,
            "overflow_x": null,
            "overflow_y": null,
            "padding": null,
            "right": null,
            "top": null,
            "visibility": null,
            "width": "20px"
          }
        },
        "d929e39e9b0d4e778fa4f786c8fb9376": {
          "model_module": "@jupyter-widgets/controls",
          "model_name": "ProgressStyleModel",
          "model_module_version": "1.5.0",
          "state": {
            "_model_module": "@jupyter-widgets/controls",
            "_model_module_version": "1.5.0",
            "_model_name": "ProgressStyleModel",
            "_view_count": null,
            "_view_module": "@jupyter-widgets/base",
            "_view_module_version": "1.2.0",
            "_view_name": "StyleView",
            "bar_color": null,
            "description_width": ""
          }
        },
        "2be3bb763edf45a198f271eda1207b97": {
          "model_module": "@jupyter-widgets/base",
          "model_name": "LayoutModel",
          "model_module_version": "1.2.0",
          "state": {
            "_model_module": "@jupyter-widgets/base",
            "_model_module_version": "1.2.0",
            "_model_name": "LayoutModel",
            "_view_count": null,
            "_view_module": "@jupyter-widgets/base",
            "_view_module_version": "1.2.0",
            "_view_name": "LayoutView",
            "align_content": null,
            "align_items": null,
            "align_self": null,
            "border": null,
            "bottom": null,
            "display": null,
            "flex": null,
            "flex_flow": null,
            "grid_area": null,
            "grid_auto_columns": null,
            "grid_auto_flow": null,
            "grid_auto_rows": null,
            "grid_column": null,
            "grid_gap": null,
            "grid_row": null,
            "grid_template_areas": null,
            "grid_template_columns": null,
            "grid_template_rows": null,
            "height": null,
            "justify_content": null,
            "justify_items": null,
            "left": null,
            "margin": null,
            "max_height": null,
            "max_width": null,
            "min_height": null,
            "min_width": null,
            "object_fit": null,
            "object_position": null,
            "order": null,
            "overflow": null,
            "overflow_x": null,
            "overflow_y": null,
            "padding": null,
            "right": null,
            "top": null,
            "visibility": null,
            "width": null
          }
        },
        "0540cbfb004a4272aa6eee66a2308773": {
          "model_module": "@jupyter-widgets/controls",
          "model_name": "DescriptionStyleModel",
          "model_module_version": "1.5.0",
          "state": {
            "_model_module": "@jupyter-widgets/controls",
            "_model_module_version": "1.5.0",
            "_model_name": "DescriptionStyleModel",
            "_view_count": null,
            "_view_module": "@jupyter-widgets/base",
            "_view_module_version": "1.2.0",
            "_view_name": "StyleView",
            "description_width": ""
          }
        },
        "7adf87f29ecc4602aa0b6820720fdb7f": {
          "model_module": "@jupyter-widgets/controls",
          "model_name": "HBoxModel",
          "model_module_version": "1.5.0",
          "state": {
            "_dom_classes": [],
            "_model_module": "@jupyter-widgets/controls",
            "_model_module_version": "1.5.0",
            "_model_name": "HBoxModel",
            "_view_count": null,
            "_view_module": "@jupyter-widgets/controls",
            "_view_module_version": "1.5.0",
            "_view_name": "HBoxView",
            "box_style": "",
            "children": [
              "IPY_MODEL_caaf0136dc6b4c5183bd86e55fb8c91e",
              "IPY_MODEL_e65e0447675e4448b663d16d44ae30f2",
              "IPY_MODEL_72a85c81b73f412f965b16ee3870e0f7"
            ],
            "layout": "IPY_MODEL_c02a3311d2324e1e92433a6e34d67710"
          }
        },
        "caaf0136dc6b4c5183bd86e55fb8c91e": {
          "model_module": "@jupyter-widgets/controls",
          "model_name": "HTMLModel",
          "model_module_version": "1.5.0",
          "state": {
            "_dom_classes": [],
            "_model_module": "@jupyter-widgets/controls",
            "_model_module_version": "1.5.0",
            "_model_name": "HTMLModel",
            "_view_count": null,
            "_view_module": "@jupyter-widgets/controls",
            "_view_module_version": "1.5.0",
            "_view_name": "HTMLView",
            "description": "",
            "description_tooltip": null,
            "layout": "IPY_MODEL_47a439bd9be24a508be4b3390831a84c",
            "placeholder": "​",
            "style": "IPY_MODEL_623386500ed14bd6a005f1dfe883a892",
            "value": "Flattening the indices:   0%"
          }
        },
        "e65e0447675e4448b663d16d44ae30f2": {
          "model_module": "@jupyter-widgets/controls",
          "model_name": "FloatProgressModel",
          "model_module_version": "1.5.0",
          "state": {
            "_dom_classes": [],
            "_model_module": "@jupyter-widgets/controls",
            "_model_module_version": "1.5.0",
            "_model_name": "FloatProgressModel",
            "_view_count": null,
            "_view_module": "@jupyter-widgets/controls",
            "_view_module_version": "1.5.0",
            "_view_name": "ProgressView",
            "bar_style": "",
            "description": "",
            "description_tooltip": null,
            "layout": "IPY_MODEL_148cccd241314f27bfe91ab92e33807b",
            "max": 97,
            "min": 0,
            "orientation": "horizontal",
            "style": "IPY_MODEL_46cc67c941f44d609b724fb5a4cc6aa9",
            "value": 97
          }
        },
        "72a85c81b73f412f965b16ee3870e0f7": {
          "model_module": "@jupyter-widgets/controls",
          "model_name": "HTMLModel",
          "model_module_version": "1.5.0",
          "state": {
            "_dom_classes": [],
            "_model_module": "@jupyter-widgets/controls",
            "_model_module_version": "1.5.0",
            "_model_name": "HTMLModel",
            "_view_count": null,
            "_view_module": "@jupyter-widgets/controls",
            "_view_module_version": "1.5.0",
            "_view_name": "HTMLView",
            "description": "",
            "description_tooltip": null,
            "layout": "IPY_MODEL_25e8b55a0fd44cdbbba6672785563f4a",
            "placeholder": "​",
            "style": "IPY_MODEL_aed9d88aa84949f8913946080911b11e",
            "value": " 0/97 [00:00&lt;?, ? examples/s]"
          }
        },
        "c02a3311d2324e1e92433a6e34d67710": {
          "model_module": "@jupyter-widgets/base",
          "model_name": "LayoutModel",
          "model_module_version": "1.2.0",
          "state": {
            "_model_module": "@jupyter-widgets/base",
            "_model_module_version": "1.2.0",
            "_model_name": "LayoutModel",
            "_view_count": null,
            "_view_module": "@jupyter-widgets/base",
            "_view_module_version": "1.2.0",
            "_view_name": "LayoutView",
            "align_content": null,
            "align_items": null,
            "align_self": null,
            "border": null,
            "bottom": null,
            "display": null,
            "flex": null,
            "flex_flow": null,
            "grid_area": null,
            "grid_auto_columns": null,
            "grid_auto_flow": null,
            "grid_auto_rows": null,
            "grid_column": null,
            "grid_gap": null,
            "grid_row": null,
            "grid_template_areas": null,
            "grid_template_columns": null,
            "grid_template_rows": null,
            "height": null,
            "justify_content": null,
            "justify_items": null,
            "left": null,
            "margin": null,
            "max_height": null,
            "max_width": null,
            "min_height": null,
            "min_width": null,
            "object_fit": null,
            "object_position": null,
            "order": null,
            "overflow": null,
            "overflow_x": null,
            "overflow_y": null,
            "padding": null,
            "right": null,
            "top": null,
            "visibility": "hidden",
            "width": null
          }
        },
        "47a439bd9be24a508be4b3390831a84c": {
          "model_module": "@jupyter-widgets/base",
          "model_name": "LayoutModel",
          "model_module_version": "1.2.0",
          "state": {
            "_model_module": "@jupyter-widgets/base",
            "_model_module_version": "1.2.0",
            "_model_name": "LayoutModel",
            "_view_count": null,
            "_view_module": "@jupyter-widgets/base",
            "_view_module_version": "1.2.0",
            "_view_name": "LayoutView",
            "align_content": null,
            "align_items": null,
            "align_self": null,
            "border": null,
            "bottom": null,
            "display": null,
            "flex": null,
            "flex_flow": null,
            "grid_area": null,
            "grid_auto_columns": null,
            "grid_auto_flow": null,
            "grid_auto_rows": null,
            "grid_column": null,
            "grid_gap": null,
            "grid_row": null,
            "grid_template_areas": null,
            "grid_template_columns": null,
            "grid_template_rows": null,
            "height": null,
            "justify_content": null,
            "justify_items": null,
            "left": null,
            "margin": null,
            "max_height": null,
            "max_width": null,
            "min_height": null,
            "min_width": null,
            "object_fit": null,
            "object_position": null,
            "order": null,
            "overflow": null,
            "overflow_x": null,
            "overflow_y": null,
            "padding": null,
            "right": null,
            "top": null,
            "visibility": null,
            "width": null
          }
        },
        "623386500ed14bd6a005f1dfe883a892": {
          "model_module": "@jupyter-widgets/controls",
          "model_name": "DescriptionStyleModel",
          "model_module_version": "1.5.0",
          "state": {
            "_model_module": "@jupyter-widgets/controls",
            "_model_module_version": "1.5.0",
            "_model_name": "DescriptionStyleModel",
            "_view_count": null,
            "_view_module": "@jupyter-widgets/base",
            "_view_module_version": "1.2.0",
            "_view_name": "StyleView",
            "description_width": ""
          }
        },
        "148cccd241314f27bfe91ab92e33807b": {
          "model_module": "@jupyter-widgets/base",
          "model_name": "LayoutModel",
          "model_module_version": "1.2.0",
          "state": {
            "_model_module": "@jupyter-widgets/base",
            "_model_module_version": "1.2.0",
            "_model_name": "LayoutModel",
            "_view_count": null,
            "_view_module": "@jupyter-widgets/base",
            "_view_module_version": "1.2.0",
            "_view_name": "LayoutView",
            "align_content": null,
            "align_items": null,
            "align_self": null,
            "border": null,
            "bottom": null,
            "display": null,
            "flex": null,
            "flex_flow": null,
            "grid_area": null,
            "grid_auto_columns": null,
            "grid_auto_flow": null,
            "grid_auto_rows": null,
            "grid_column": null,
            "grid_gap": null,
            "grid_row": null,
            "grid_template_areas": null,
            "grid_template_columns": null,
            "grid_template_rows": null,
            "height": null,
            "justify_content": null,
            "justify_items": null,
            "left": null,
            "margin": null,
            "max_height": null,
            "max_width": null,
            "min_height": null,
            "min_width": null,
            "object_fit": null,
            "object_position": null,
            "order": null,
            "overflow": null,
            "overflow_x": null,
            "overflow_y": null,
            "padding": null,
            "right": null,
            "top": null,
            "visibility": null,
            "width": null
          }
        },
        "46cc67c941f44d609b724fb5a4cc6aa9": {
          "model_module": "@jupyter-widgets/controls",
          "model_name": "ProgressStyleModel",
          "model_module_version": "1.5.0",
          "state": {
            "_model_module": "@jupyter-widgets/controls",
            "_model_module_version": "1.5.0",
            "_model_name": "ProgressStyleModel",
            "_view_count": null,
            "_view_module": "@jupyter-widgets/base",
            "_view_module_version": "1.2.0",
            "_view_name": "StyleView",
            "bar_color": null,
            "description_width": ""
          }
        },
        "25e8b55a0fd44cdbbba6672785563f4a": {
          "model_module": "@jupyter-widgets/base",
          "model_name": "LayoutModel",
          "model_module_version": "1.2.0",
          "state": {
            "_model_module": "@jupyter-widgets/base",
            "_model_module_version": "1.2.0",
            "_model_name": "LayoutModel",
            "_view_count": null,
            "_view_module": "@jupyter-widgets/base",
            "_view_module_version": "1.2.0",
            "_view_name": "LayoutView",
            "align_content": null,
            "align_items": null,
            "align_self": null,
            "border": null,
            "bottom": null,
            "display": null,
            "flex": null,
            "flex_flow": null,
            "grid_area": null,
            "grid_auto_columns": null,
            "grid_auto_flow": null,
            "grid_auto_rows": null,
            "grid_column": null,
            "grid_gap": null,
            "grid_row": null,
            "grid_template_areas": null,
            "grid_template_columns": null,
            "grid_template_rows": null,
            "height": null,
            "justify_content": null,
            "justify_items": null,
            "left": null,
            "margin": null,
            "max_height": null,
            "max_width": null,
            "min_height": null,
            "min_width": null,
            "object_fit": null,
            "object_position": null,
            "order": null,
            "overflow": null,
            "overflow_x": null,
            "overflow_y": null,
            "padding": null,
            "right": null,
            "top": null,
            "visibility": null,
            "width": null
          }
        },
        "aed9d88aa84949f8913946080911b11e": {
          "model_module": "@jupyter-widgets/controls",
          "model_name": "DescriptionStyleModel",
          "model_module_version": "1.5.0",
          "state": {
            "_model_module": "@jupyter-widgets/controls",
            "_model_module_version": "1.5.0",
            "_model_name": "DescriptionStyleModel",
            "_view_count": null,
            "_view_module": "@jupyter-widgets/base",
            "_view_module_version": "1.2.0",
            "_view_name": "StyleView",
            "description_width": ""
          }
        },
        "abb49a54353f4a2eba67609288c60bf9": {
          "model_module": "@jupyter-widgets/controls",
          "model_name": "HBoxModel",
          "model_module_version": "1.5.0",
          "state": {
            "_dom_classes": [],
            "_model_module": "@jupyter-widgets/controls",
            "_model_module_version": "1.5.0",
            "_model_name": "HBoxModel",
            "_view_count": null,
            "_view_module": "@jupyter-widgets/controls",
            "_view_module_version": "1.5.0",
            "_view_name": "HBoxView",
            "box_style": "",
            "children": [
              "IPY_MODEL_9fa9dcd8a55f4109b497a3eabe34a868",
              "IPY_MODEL_293c6ecf34f34dcfb740a9bdf971ed92",
              "IPY_MODEL_f7ebbb042d944b4daf374bb376958dc4"
            ],
            "layout": "IPY_MODEL_2bae91be8dbe49c89b59c8153795f48c"
          }
        },
        "9fa9dcd8a55f4109b497a3eabe34a868": {
          "model_module": "@jupyter-widgets/controls",
          "model_name": "HTMLModel",
          "model_module_version": "1.5.0",
          "state": {
            "_dom_classes": [],
            "_model_module": "@jupyter-widgets/controls",
            "_model_module_version": "1.5.0",
            "_model_name": "HTMLModel",
            "_view_count": null,
            "_view_module": "@jupyter-widgets/controls",
            "_view_module_version": "1.5.0",
            "_view_name": "HTMLView",
            "description": "",
            "description_tooltip": null,
            "layout": "IPY_MODEL_85c59393dcf24124a1e955d272abcae0",
            "placeholder": "​",
            "style": "IPY_MODEL_e09b763ec6154899b42eae01f5691d28",
            "value": "Flattening the indices:   0%"
          }
        },
        "293c6ecf34f34dcfb740a9bdf971ed92": {
          "model_module": "@jupyter-widgets/controls",
          "model_name": "FloatProgressModel",
          "model_module_version": "1.5.0",
          "state": {
            "_dom_classes": [],
            "_model_module": "@jupyter-widgets/controls",
            "_model_module_version": "1.5.0",
            "_model_name": "FloatProgressModel",
            "_view_count": null,
            "_view_module": "@jupyter-widgets/controls",
            "_view_module_version": "1.5.0",
            "_view_name": "ProgressView",
            "bar_style": "",
            "description": "",
            "description_tooltip": null,
            "layout": "IPY_MODEL_8e1be9bca7914beb965fd2f004782b30",
            "max": 42,
            "min": 0,
            "orientation": "horizontal",
            "style": "IPY_MODEL_1249c2b08a4f428fa65cf5e3c01a232a",
            "value": 42
          }
        },
        "f7ebbb042d944b4daf374bb376958dc4": {
          "model_module": "@jupyter-widgets/controls",
          "model_name": "HTMLModel",
          "model_module_version": "1.5.0",
          "state": {
            "_dom_classes": [],
            "_model_module": "@jupyter-widgets/controls",
            "_model_module_version": "1.5.0",
            "_model_name": "HTMLModel",
            "_view_count": null,
            "_view_module": "@jupyter-widgets/controls",
            "_view_module_version": "1.5.0",
            "_view_name": "HTMLView",
            "description": "",
            "description_tooltip": null,
            "layout": "IPY_MODEL_962411df2c1442bd9d40641a77fb0c5a",
            "placeholder": "​",
            "style": "IPY_MODEL_e5a07b55e9eb49a7861dec758b12fb20",
            "value": " 0/42 [00:00&lt;?, ? examples/s]"
          }
        },
        "2bae91be8dbe49c89b59c8153795f48c": {
          "model_module": "@jupyter-widgets/base",
          "model_name": "LayoutModel",
          "model_module_version": "1.2.0",
          "state": {
            "_model_module": "@jupyter-widgets/base",
            "_model_module_version": "1.2.0",
            "_model_name": "LayoutModel",
            "_view_count": null,
            "_view_module": "@jupyter-widgets/base",
            "_view_module_version": "1.2.0",
            "_view_name": "LayoutView",
            "align_content": null,
            "align_items": null,
            "align_self": null,
            "border": null,
            "bottom": null,
            "display": null,
            "flex": null,
            "flex_flow": null,
            "grid_area": null,
            "grid_auto_columns": null,
            "grid_auto_flow": null,
            "grid_auto_rows": null,
            "grid_column": null,
            "grid_gap": null,
            "grid_row": null,
            "grid_template_areas": null,
            "grid_template_columns": null,
            "grid_template_rows": null,
            "height": null,
            "justify_content": null,
            "justify_items": null,
            "left": null,
            "margin": null,
            "max_height": null,
            "max_width": null,
            "min_height": null,
            "min_width": null,
            "object_fit": null,
            "object_position": null,
            "order": null,
            "overflow": null,
            "overflow_x": null,
            "overflow_y": null,
            "padding": null,
            "right": null,
            "top": null,
            "visibility": "hidden",
            "width": null
          }
        },
        "85c59393dcf24124a1e955d272abcae0": {
          "model_module": "@jupyter-widgets/base",
          "model_name": "LayoutModel",
          "model_module_version": "1.2.0",
          "state": {
            "_model_module": "@jupyter-widgets/base",
            "_model_module_version": "1.2.0",
            "_model_name": "LayoutModel",
            "_view_count": null,
            "_view_module": "@jupyter-widgets/base",
            "_view_module_version": "1.2.0",
            "_view_name": "LayoutView",
            "align_content": null,
            "align_items": null,
            "align_self": null,
            "border": null,
            "bottom": null,
            "display": null,
            "flex": null,
            "flex_flow": null,
            "grid_area": null,
            "grid_auto_columns": null,
            "grid_auto_flow": null,
            "grid_auto_rows": null,
            "grid_column": null,
            "grid_gap": null,
            "grid_row": null,
            "grid_template_areas": null,
            "grid_template_columns": null,
            "grid_template_rows": null,
            "height": null,
            "justify_content": null,
            "justify_items": null,
            "left": null,
            "margin": null,
            "max_height": null,
            "max_width": null,
            "min_height": null,
            "min_width": null,
            "object_fit": null,
            "object_position": null,
            "order": null,
            "overflow": null,
            "overflow_x": null,
            "overflow_y": null,
            "padding": null,
            "right": null,
            "top": null,
            "visibility": null,
            "width": null
          }
        },
        "e09b763ec6154899b42eae01f5691d28": {
          "model_module": "@jupyter-widgets/controls",
          "model_name": "DescriptionStyleModel",
          "model_module_version": "1.5.0",
          "state": {
            "_model_module": "@jupyter-widgets/controls",
            "_model_module_version": "1.5.0",
            "_model_name": "DescriptionStyleModel",
            "_view_count": null,
            "_view_module": "@jupyter-widgets/base",
            "_view_module_version": "1.2.0",
            "_view_name": "StyleView",
            "description_width": ""
          }
        },
        "8e1be9bca7914beb965fd2f004782b30": {
          "model_module": "@jupyter-widgets/base",
          "model_name": "LayoutModel",
          "model_module_version": "1.2.0",
          "state": {
            "_model_module": "@jupyter-widgets/base",
            "_model_module_version": "1.2.0",
            "_model_name": "LayoutModel",
            "_view_count": null,
            "_view_module": "@jupyter-widgets/base",
            "_view_module_version": "1.2.0",
            "_view_name": "LayoutView",
            "align_content": null,
            "align_items": null,
            "align_self": null,
            "border": null,
            "bottom": null,
            "display": null,
            "flex": null,
            "flex_flow": null,
            "grid_area": null,
            "grid_auto_columns": null,
            "grid_auto_flow": null,
            "grid_auto_rows": null,
            "grid_column": null,
            "grid_gap": null,
            "grid_row": null,
            "grid_template_areas": null,
            "grid_template_columns": null,
            "grid_template_rows": null,
            "height": null,
            "justify_content": null,
            "justify_items": null,
            "left": null,
            "margin": null,
            "max_height": null,
            "max_width": null,
            "min_height": null,
            "min_width": null,
            "object_fit": null,
            "object_position": null,
            "order": null,
            "overflow": null,
            "overflow_x": null,
            "overflow_y": null,
            "padding": null,
            "right": null,
            "top": null,
            "visibility": null,
            "width": null
          }
        },
        "1249c2b08a4f428fa65cf5e3c01a232a": {
          "model_module": "@jupyter-widgets/controls",
          "model_name": "ProgressStyleModel",
          "model_module_version": "1.5.0",
          "state": {
            "_model_module": "@jupyter-widgets/controls",
            "_model_module_version": "1.5.0",
            "_model_name": "ProgressStyleModel",
            "_view_count": null,
            "_view_module": "@jupyter-widgets/base",
            "_view_module_version": "1.2.0",
            "_view_name": "StyleView",
            "bar_color": null,
            "description_width": ""
          }
        },
        "962411df2c1442bd9d40641a77fb0c5a": {
          "model_module": "@jupyter-widgets/base",
          "model_name": "LayoutModel",
          "model_module_version": "1.2.0",
          "state": {
            "_model_module": "@jupyter-widgets/base",
            "_model_module_version": "1.2.0",
            "_model_name": "LayoutModel",
            "_view_count": null,
            "_view_module": "@jupyter-widgets/base",
            "_view_module_version": "1.2.0",
            "_view_name": "LayoutView",
            "align_content": null,
            "align_items": null,
            "align_self": null,
            "border": null,
            "bottom": null,
            "display": null,
            "flex": null,
            "flex_flow": null,
            "grid_area": null,
            "grid_auto_columns": null,
            "grid_auto_flow": null,
            "grid_auto_rows": null,
            "grid_column": null,
            "grid_gap": null,
            "grid_row": null,
            "grid_template_areas": null,
            "grid_template_columns": null,
            "grid_template_rows": null,
            "height": null,
            "justify_content": null,
            "justify_items": null,
            "left": null,
            "margin": null,
            "max_height": null,
            "max_width": null,
            "min_height": null,
            "min_width": null,
            "object_fit": null,
            "object_position": null,
            "order": null,
            "overflow": null,
            "overflow_x": null,
            "overflow_y": null,
            "padding": null,
            "right": null,
            "top": null,
            "visibility": null,
            "width": null
          }
        },
        "e5a07b55e9eb49a7861dec758b12fb20": {
          "model_module": "@jupyter-widgets/controls",
          "model_name": "DescriptionStyleModel",
          "model_module_version": "1.5.0",
          "state": {
            "_model_module": "@jupyter-widgets/controls",
            "_model_module_version": "1.5.0",
            "_model_name": "DescriptionStyleModel",
            "_view_count": null,
            "_view_module": "@jupyter-widgets/base",
            "_view_module_version": "1.2.0",
            "_view_name": "StyleView",
            "description_width": ""
          }
        },
        "06cc98766691486b9f7b7c84ff571939": {
          "model_module": "@jupyter-widgets/controls",
          "model_name": "HBoxModel",
          "model_module_version": "1.5.0",
          "state": {
            "_dom_classes": [],
            "_model_module": "@jupyter-widgets/controls",
            "_model_module_version": "1.5.0",
            "_model_name": "HBoxModel",
            "_view_count": null,
            "_view_module": "@jupyter-widgets/controls",
            "_view_module_version": "1.5.0",
            "_view_name": "HBoxView",
            "box_style": "",
            "children": [
              "IPY_MODEL_0020d0cedee74e4c92719386694fe6f1",
              "IPY_MODEL_7afbe7d5679349c7bc9e983dee99766c",
              "IPY_MODEL_5b82534e392b4a8a8abcd9728f5d7f8b"
            ],
            "layout": "IPY_MODEL_944da41f480f4625a9dff9840a672d6f"
          }
        },
        "0020d0cedee74e4c92719386694fe6f1": {
          "model_module": "@jupyter-widgets/controls",
          "model_name": "HTMLModel",
          "model_module_version": "1.5.0",
          "state": {
            "_dom_classes": [],
            "_model_module": "@jupyter-widgets/controls",
            "_model_module_version": "1.5.0",
            "_model_name": "HTMLModel",
            "_view_count": null,
            "_view_module": "@jupyter-widgets/controls",
            "_view_module_version": "1.5.0",
            "_view_name": "HTMLView",
            "description": "",
            "description_tooltip": null,
            "layout": "IPY_MODEL_afdbcdf5b5264867a8189aeee84e74ae",
            "placeholder": "​",
            "style": "IPY_MODEL_ddc6f8a1e77f4ef08c6b7038acb6ea0a",
            "value": "Casting to class labels:   0%"
          }
        },
        "7afbe7d5679349c7bc9e983dee99766c": {
          "model_module": "@jupyter-widgets/controls",
          "model_name": "FloatProgressModel",
          "model_module_version": "1.5.0",
          "state": {
            "_dom_classes": [],
            "_model_module": "@jupyter-widgets/controls",
            "_model_module_version": "1.5.0",
            "_model_name": "FloatProgressModel",
            "_view_count": null,
            "_view_module": "@jupyter-widgets/controls",
            "_view_module_version": "1.5.0",
            "_view_name": "ProgressView",
            "bar_style": "",
            "description": "",
            "description_tooltip": null,
            "layout": "IPY_MODEL_9c14d65dc232493583ea523635d5c7fe",
            "max": 97,
            "min": 0,
            "orientation": "horizontal",
            "style": "IPY_MODEL_29b737d2c07c4d91b6b3854ea80812bb",
            "value": 97
          }
        },
        "5b82534e392b4a8a8abcd9728f5d7f8b": {
          "model_module": "@jupyter-widgets/controls",
          "model_name": "HTMLModel",
          "model_module_version": "1.5.0",
          "state": {
            "_dom_classes": [],
            "_model_module": "@jupyter-widgets/controls",
            "_model_module_version": "1.5.0",
            "_model_name": "HTMLModel",
            "_view_count": null,
            "_view_module": "@jupyter-widgets/controls",
            "_view_module_version": "1.5.0",
            "_view_name": "HTMLView",
            "description": "",
            "description_tooltip": null,
            "layout": "IPY_MODEL_928affd0caac4acb8b3ca26cfebc64f9",
            "placeholder": "​",
            "style": "IPY_MODEL_e8eb982f5a0645ef9886088d1b6101fc",
            "value": " 0/97 [00:00&lt;?, ? examples/s]"
          }
        },
        "944da41f480f4625a9dff9840a672d6f": {
          "model_module": "@jupyter-widgets/base",
          "model_name": "LayoutModel",
          "model_module_version": "1.2.0",
          "state": {
            "_model_module": "@jupyter-widgets/base",
            "_model_module_version": "1.2.0",
            "_model_name": "LayoutModel",
            "_view_count": null,
            "_view_module": "@jupyter-widgets/base",
            "_view_module_version": "1.2.0",
            "_view_name": "LayoutView",
            "align_content": null,
            "align_items": null,
            "align_self": null,
            "border": null,
            "bottom": null,
            "display": null,
            "flex": null,
            "flex_flow": null,
            "grid_area": null,
            "grid_auto_columns": null,
            "grid_auto_flow": null,
            "grid_auto_rows": null,
            "grid_column": null,
            "grid_gap": null,
            "grid_row": null,
            "grid_template_areas": null,
            "grid_template_columns": null,
            "grid_template_rows": null,
            "height": null,
            "justify_content": null,
            "justify_items": null,
            "left": null,
            "margin": null,
            "max_height": null,
            "max_width": null,
            "min_height": null,
            "min_width": null,
            "object_fit": null,
            "object_position": null,
            "order": null,
            "overflow": null,
            "overflow_x": null,
            "overflow_y": null,
            "padding": null,
            "right": null,
            "top": null,
            "visibility": "hidden",
            "width": null
          }
        },
        "afdbcdf5b5264867a8189aeee84e74ae": {
          "model_module": "@jupyter-widgets/base",
          "model_name": "LayoutModel",
          "model_module_version": "1.2.0",
          "state": {
            "_model_module": "@jupyter-widgets/base",
            "_model_module_version": "1.2.0",
            "_model_name": "LayoutModel",
            "_view_count": null,
            "_view_module": "@jupyter-widgets/base",
            "_view_module_version": "1.2.0",
            "_view_name": "LayoutView",
            "align_content": null,
            "align_items": null,
            "align_self": null,
            "border": null,
            "bottom": null,
            "display": null,
            "flex": null,
            "flex_flow": null,
            "grid_area": null,
            "grid_auto_columns": null,
            "grid_auto_flow": null,
            "grid_auto_rows": null,
            "grid_column": null,
            "grid_gap": null,
            "grid_row": null,
            "grid_template_areas": null,
            "grid_template_columns": null,
            "grid_template_rows": null,
            "height": null,
            "justify_content": null,
            "justify_items": null,
            "left": null,
            "margin": null,
            "max_height": null,
            "max_width": null,
            "min_height": null,
            "min_width": null,
            "object_fit": null,
            "object_position": null,
            "order": null,
            "overflow": null,
            "overflow_x": null,
            "overflow_y": null,
            "padding": null,
            "right": null,
            "top": null,
            "visibility": null,
            "width": null
          }
        },
        "ddc6f8a1e77f4ef08c6b7038acb6ea0a": {
          "model_module": "@jupyter-widgets/controls",
          "model_name": "DescriptionStyleModel",
          "model_module_version": "1.5.0",
          "state": {
            "_model_module": "@jupyter-widgets/controls",
            "_model_module_version": "1.5.0",
            "_model_name": "DescriptionStyleModel",
            "_view_count": null,
            "_view_module": "@jupyter-widgets/base",
            "_view_module_version": "1.2.0",
            "_view_name": "StyleView",
            "description_width": ""
          }
        },
        "9c14d65dc232493583ea523635d5c7fe": {
          "model_module": "@jupyter-widgets/base",
          "model_name": "LayoutModel",
          "model_module_version": "1.2.0",
          "state": {
            "_model_module": "@jupyter-widgets/base",
            "_model_module_version": "1.2.0",
            "_model_name": "LayoutModel",
            "_view_count": null,
            "_view_module": "@jupyter-widgets/base",
            "_view_module_version": "1.2.0",
            "_view_name": "LayoutView",
            "align_content": null,
            "align_items": null,
            "align_self": null,
            "border": null,
            "bottom": null,
            "display": null,
            "flex": null,
            "flex_flow": null,
            "grid_area": null,
            "grid_auto_columns": null,
            "grid_auto_flow": null,
            "grid_auto_rows": null,
            "grid_column": null,
            "grid_gap": null,
            "grid_row": null,
            "grid_template_areas": null,
            "grid_template_columns": null,
            "grid_template_rows": null,
            "height": null,
            "justify_content": null,
            "justify_items": null,
            "left": null,
            "margin": null,
            "max_height": null,
            "max_width": null,
            "min_height": null,
            "min_width": null,
            "object_fit": null,
            "object_position": null,
            "order": null,
            "overflow": null,
            "overflow_x": null,
            "overflow_y": null,
            "padding": null,
            "right": null,
            "top": null,
            "visibility": null,
            "width": null
          }
        },
        "29b737d2c07c4d91b6b3854ea80812bb": {
          "model_module": "@jupyter-widgets/controls",
          "model_name": "ProgressStyleModel",
          "model_module_version": "1.5.0",
          "state": {
            "_model_module": "@jupyter-widgets/controls",
            "_model_module_version": "1.5.0",
            "_model_name": "ProgressStyleModel",
            "_view_count": null,
            "_view_module": "@jupyter-widgets/base",
            "_view_module_version": "1.2.0",
            "_view_name": "StyleView",
            "bar_color": null,
            "description_width": ""
          }
        },
        "928affd0caac4acb8b3ca26cfebc64f9": {
          "model_module": "@jupyter-widgets/base",
          "model_name": "LayoutModel",
          "model_module_version": "1.2.0",
          "state": {
            "_model_module": "@jupyter-widgets/base",
            "_model_module_version": "1.2.0",
            "_model_name": "LayoutModel",
            "_view_count": null,
            "_view_module": "@jupyter-widgets/base",
            "_view_module_version": "1.2.0",
            "_view_name": "LayoutView",
            "align_content": null,
            "align_items": null,
            "align_self": null,
            "border": null,
            "bottom": null,
            "display": null,
            "flex": null,
            "flex_flow": null,
            "grid_area": null,
            "grid_auto_columns": null,
            "grid_auto_flow": null,
            "grid_auto_rows": null,
            "grid_column": null,
            "grid_gap": null,
            "grid_row": null,
            "grid_template_areas": null,
            "grid_template_columns": null,
            "grid_template_rows": null,
            "height": null,
            "justify_content": null,
            "justify_items": null,
            "left": null,
            "margin": null,
            "max_height": null,
            "max_width": null,
            "min_height": null,
            "min_width": null,
            "object_fit": null,
            "object_position": null,
            "order": null,
            "overflow": null,
            "overflow_x": null,
            "overflow_y": null,
            "padding": null,
            "right": null,
            "top": null,
            "visibility": null,
            "width": null
          }
        },
        "e8eb982f5a0645ef9886088d1b6101fc": {
          "model_module": "@jupyter-widgets/controls",
          "model_name": "DescriptionStyleModel",
          "model_module_version": "1.5.0",
          "state": {
            "_model_module": "@jupyter-widgets/controls",
            "_model_module_version": "1.5.0",
            "_model_name": "DescriptionStyleModel",
            "_view_count": null,
            "_view_module": "@jupyter-widgets/base",
            "_view_module_version": "1.2.0",
            "_view_name": "StyleView",
            "description_width": ""
          }
        },
        "f192cede069b419198f74a3bafa82d16": {
          "model_module": "@jupyter-widgets/controls",
          "model_name": "HBoxModel",
          "model_module_version": "1.5.0",
          "state": {
            "_dom_classes": [],
            "_model_module": "@jupyter-widgets/controls",
            "_model_module_version": "1.5.0",
            "_model_name": "HBoxModel",
            "_view_count": null,
            "_view_module": "@jupyter-widgets/controls",
            "_view_module_version": "1.5.0",
            "_view_name": "HBoxView",
            "box_style": "",
            "children": [
              "IPY_MODEL_8be74c15de9b45e5ae4db2a187aa1d83",
              "IPY_MODEL_b566890c4bdc4ef0b98c704b18fdfe7d",
              "IPY_MODEL_f47e54ebc7014bd1b5c56121bf476cf8"
            ],
            "layout": "IPY_MODEL_e6e748da042245b9a7f7912681d65925"
          }
        },
        "8be74c15de9b45e5ae4db2a187aa1d83": {
          "model_module": "@jupyter-widgets/controls",
          "model_name": "HTMLModel",
          "model_module_version": "1.5.0",
          "state": {
            "_dom_classes": [],
            "_model_module": "@jupyter-widgets/controls",
            "_model_module_version": "1.5.0",
            "_model_name": "HTMLModel",
            "_view_count": null,
            "_view_module": "@jupyter-widgets/controls",
            "_view_module_version": "1.5.0",
            "_view_name": "HTMLView",
            "description": "",
            "description_tooltip": null,
            "layout": "IPY_MODEL_aec0476f02ee4a028979ea0e67daad80",
            "placeholder": "​",
            "style": "IPY_MODEL_e98aa7b14e1b41a9b57ba34ef7a68b4e",
            "value": "Casting to class labels:   0%"
          }
        },
        "b566890c4bdc4ef0b98c704b18fdfe7d": {
          "model_module": "@jupyter-widgets/controls",
          "model_name": "FloatProgressModel",
          "model_module_version": "1.5.0",
          "state": {
            "_dom_classes": [],
            "_model_module": "@jupyter-widgets/controls",
            "_model_module_version": "1.5.0",
            "_model_name": "FloatProgressModel",
            "_view_count": null,
            "_view_module": "@jupyter-widgets/controls",
            "_view_module_version": "1.5.0",
            "_view_name": "ProgressView",
            "bar_style": "",
            "description": "",
            "description_tooltip": null,
            "layout": "IPY_MODEL_a9cd9fefc0fc4f4598a4f2e98f140552",
            "max": 42,
            "min": 0,
            "orientation": "horizontal",
            "style": "IPY_MODEL_1de07dc1d8ea495e9f11a27438dd1b3d",
            "value": 42
          }
        },
        "f47e54ebc7014bd1b5c56121bf476cf8": {
          "model_module": "@jupyter-widgets/controls",
          "model_name": "HTMLModel",
          "model_module_version": "1.5.0",
          "state": {
            "_dom_classes": [],
            "_model_module": "@jupyter-widgets/controls",
            "_model_module_version": "1.5.0",
            "_model_name": "HTMLModel",
            "_view_count": null,
            "_view_module": "@jupyter-widgets/controls",
            "_view_module_version": "1.5.0",
            "_view_name": "HTMLView",
            "description": "",
            "description_tooltip": null,
            "layout": "IPY_MODEL_4514110165b84fcab2eb9bea829f3b00",
            "placeholder": "​",
            "style": "IPY_MODEL_74df5da74aaf4c1ea186e0508e0b2cc2",
            "value": " 0/42 [00:00&lt;?, ? examples/s]"
          }
        },
        "e6e748da042245b9a7f7912681d65925": {
          "model_module": "@jupyter-widgets/base",
          "model_name": "LayoutModel",
          "model_module_version": "1.2.0",
          "state": {
            "_model_module": "@jupyter-widgets/base",
            "_model_module_version": "1.2.0",
            "_model_name": "LayoutModel",
            "_view_count": null,
            "_view_module": "@jupyter-widgets/base",
            "_view_module_version": "1.2.0",
            "_view_name": "LayoutView",
            "align_content": null,
            "align_items": null,
            "align_self": null,
            "border": null,
            "bottom": null,
            "display": null,
            "flex": null,
            "flex_flow": null,
            "grid_area": null,
            "grid_auto_columns": null,
            "grid_auto_flow": null,
            "grid_auto_rows": null,
            "grid_column": null,
            "grid_gap": null,
            "grid_row": null,
            "grid_template_areas": null,
            "grid_template_columns": null,
            "grid_template_rows": null,
            "height": null,
            "justify_content": null,
            "justify_items": null,
            "left": null,
            "margin": null,
            "max_height": null,
            "max_width": null,
            "min_height": null,
            "min_width": null,
            "object_fit": null,
            "object_position": null,
            "order": null,
            "overflow": null,
            "overflow_x": null,
            "overflow_y": null,
            "padding": null,
            "right": null,
            "top": null,
            "visibility": "hidden",
            "width": null
          }
        },
        "aec0476f02ee4a028979ea0e67daad80": {
          "model_module": "@jupyter-widgets/base",
          "model_name": "LayoutModel",
          "model_module_version": "1.2.0",
          "state": {
            "_model_module": "@jupyter-widgets/base",
            "_model_module_version": "1.2.0",
            "_model_name": "LayoutModel",
            "_view_count": null,
            "_view_module": "@jupyter-widgets/base",
            "_view_module_version": "1.2.0",
            "_view_name": "LayoutView",
            "align_content": null,
            "align_items": null,
            "align_self": null,
            "border": null,
            "bottom": null,
            "display": null,
            "flex": null,
            "flex_flow": null,
            "grid_area": null,
            "grid_auto_columns": null,
            "grid_auto_flow": null,
            "grid_auto_rows": null,
            "grid_column": null,
            "grid_gap": null,
            "grid_row": null,
            "grid_template_areas": null,
            "grid_template_columns": null,
            "grid_template_rows": null,
            "height": null,
            "justify_content": null,
            "justify_items": null,
            "left": null,
            "margin": null,
            "max_height": null,
            "max_width": null,
            "min_height": null,
            "min_width": null,
            "object_fit": null,
            "object_position": null,
            "order": null,
            "overflow": null,
            "overflow_x": null,
            "overflow_y": null,
            "padding": null,
            "right": null,
            "top": null,
            "visibility": null,
            "width": null
          }
        },
        "e98aa7b14e1b41a9b57ba34ef7a68b4e": {
          "model_module": "@jupyter-widgets/controls",
          "model_name": "DescriptionStyleModel",
          "model_module_version": "1.5.0",
          "state": {
            "_model_module": "@jupyter-widgets/controls",
            "_model_module_version": "1.5.0",
            "_model_name": "DescriptionStyleModel",
            "_view_count": null,
            "_view_module": "@jupyter-widgets/base",
            "_view_module_version": "1.2.0",
            "_view_name": "StyleView",
            "description_width": ""
          }
        },
        "a9cd9fefc0fc4f4598a4f2e98f140552": {
          "model_module": "@jupyter-widgets/base",
          "model_name": "LayoutModel",
          "model_module_version": "1.2.0",
          "state": {
            "_model_module": "@jupyter-widgets/base",
            "_model_module_version": "1.2.0",
            "_model_name": "LayoutModel",
            "_view_count": null,
            "_view_module": "@jupyter-widgets/base",
            "_view_module_version": "1.2.0",
            "_view_name": "LayoutView",
            "align_content": null,
            "align_items": null,
            "align_self": null,
            "border": null,
            "bottom": null,
            "display": null,
            "flex": null,
            "flex_flow": null,
            "grid_area": null,
            "grid_auto_columns": null,
            "grid_auto_flow": null,
            "grid_auto_rows": null,
            "grid_column": null,
            "grid_gap": null,
            "grid_row": null,
            "grid_template_areas": null,
            "grid_template_columns": null,
            "grid_template_rows": null,
            "height": null,
            "justify_content": null,
            "justify_items": null,
            "left": null,
            "margin": null,
            "max_height": null,
            "max_width": null,
            "min_height": null,
            "min_width": null,
            "object_fit": null,
            "object_position": null,
            "order": null,
            "overflow": null,
            "overflow_x": null,
            "overflow_y": null,
            "padding": null,
            "right": null,
            "top": null,
            "visibility": null,
            "width": null
          }
        },
        "1de07dc1d8ea495e9f11a27438dd1b3d": {
          "model_module": "@jupyter-widgets/controls",
          "model_name": "ProgressStyleModel",
          "model_module_version": "1.5.0",
          "state": {
            "_model_module": "@jupyter-widgets/controls",
            "_model_module_version": "1.5.0",
            "_model_name": "ProgressStyleModel",
            "_view_count": null,
            "_view_module": "@jupyter-widgets/base",
            "_view_module_version": "1.2.0",
            "_view_name": "StyleView",
            "bar_color": null,
            "description_width": ""
          }
        },
        "4514110165b84fcab2eb9bea829f3b00": {
          "model_module": "@jupyter-widgets/base",
          "model_name": "LayoutModel",
          "model_module_version": "1.2.0",
          "state": {
            "_model_module": "@jupyter-widgets/base",
            "_model_module_version": "1.2.0",
            "_model_name": "LayoutModel",
            "_view_count": null,
            "_view_module": "@jupyter-widgets/base",
            "_view_module_version": "1.2.0",
            "_view_name": "LayoutView",
            "align_content": null,
            "align_items": null,
            "align_self": null,
            "border": null,
            "bottom": null,
            "display": null,
            "flex": null,
            "flex_flow": null,
            "grid_area": null,
            "grid_auto_columns": null,
            "grid_auto_flow": null,
            "grid_auto_rows": null,
            "grid_column": null,
            "grid_gap": null,
            "grid_row": null,
            "grid_template_areas": null,
            "grid_template_columns": null,
            "grid_template_rows": null,
            "height": null,
            "justify_content": null,
            "justify_items": null,
            "left": null,
            "margin": null,
            "max_height": null,
            "max_width": null,
            "min_height": null,
            "min_width": null,
            "object_fit": null,
            "object_position": null,
            "order": null,
            "overflow": null,
            "overflow_x": null,
            "overflow_y": null,
            "padding": null,
            "right": null,
            "top": null,
            "visibility": null,
            "width": null
          }
        },
        "74df5da74aaf4c1ea186e0508e0b2cc2": {
          "model_module": "@jupyter-widgets/controls",
          "model_name": "DescriptionStyleModel",
          "model_module_version": "1.5.0",
          "state": {
            "_model_module": "@jupyter-widgets/controls",
            "_model_module_version": "1.5.0",
            "_model_name": "DescriptionStyleModel",
            "_view_count": null,
            "_view_module": "@jupyter-widgets/base",
            "_view_module_version": "1.2.0",
            "_view_name": "StyleView",
            "description_width": ""
          }
        },
        "c85b4b58402b4382a04f414d84311af6": {
          "model_module": "@jupyter-widgets/controls",
          "model_name": "HBoxModel",
          "model_module_version": "1.5.0",
          "state": {
            "_dom_classes": [],
            "_model_module": "@jupyter-widgets/controls",
            "_model_module_version": "1.5.0",
            "_model_name": "HBoxModel",
            "_view_count": null,
            "_view_module": "@jupyter-widgets/controls",
            "_view_module_version": "1.5.0",
            "_view_name": "HBoxView",
            "box_style": "",
            "children": [
              "IPY_MODEL_ce3fb40925e04865b01c6fa23b324927",
              "IPY_MODEL_bd9b4cc13b404ccabef75f5592621886",
              "IPY_MODEL_f33b290b25b948788318f95450cb5c2e"
            ],
            "layout": "IPY_MODEL_68cb571cd85241f196a71d4f9e4d998f"
          }
        },
        "ce3fb40925e04865b01c6fa23b324927": {
          "model_module": "@jupyter-widgets/controls",
          "model_name": "HTMLModel",
          "model_module_version": "1.5.0",
          "state": {
            "_dom_classes": [],
            "_model_module": "@jupyter-widgets/controls",
            "_model_module_version": "1.5.0",
            "_model_name": "HTMLModel",
            "_view_count": null,
            "_view_module": "@jupyter-widgets/controls",
            "_view_module_version": "1.5.0",
            "_view_name": "HTMLView",
            "description": "",
            "description_tooltip": null,
            "layout": "IPY_MODEL_430100e01eab4cb895748419c703c411",
            "placeholder": "​",
            "style": "IPY_MODEL_2b3502b61652466a9af4119b0c56c93b",
            "value": "Aligning the labels:   0%"
          }
        },
        "bd9b4cc13b404ccabef75f5592621886": {
          "model_module": "@jupyter-widgets/controls",
          "model_name": "FloatProgressModel",
          "model_module_version": "1.5.0",
          "state": {
            "_dom_classes": [],
            "_model_module": "@jupyter-widgets/controls",
            "_model_module_version": "1.5.0",
            "_model_name": "FloatProgressModel",
            "_view_count": null,
            "_view_module": "@jupyter-widgets/controls",
            "_view_module_version": "1.5.0",
            "_view_name": "ProgressView",
            "bar_style": "",
            "description": "",
            "description_tooltip": null,
            "layout": "IPY_MODEL_68043cbf933044588cdd7fab7b59dab5",
            "max": 42,
            "min": 0,
            "orientation": "horizontal",
            "style": "IPY_MODEL_ddf07568975b450898898b7e9ed34046",
            "value": 42
          }
        },
        "f33b290b25b948788318f95450cb5c2e": {
          "model_module": "@jupyter-widgets/controls",
          "model_name": "HTMLModel",
          "model_module_version": "1.5.0",
          "state": {
            "_dom_classes": [],
            "_model_module": "@jupyter-widgets/controls",
            "_model_module_version": "1.5.0",
            "_model_name": "HTMLModel",
            "_view_count": null,
            "_view_module": "@jupyter-widgets/controls",
            "_view_module_version": "1.5.0",
            "_view_name": "HTMLView",
            "description": "",
            "description_tooltip": null,
            "layout": "IPY_MODEL_b191f412715745e3bc9ff59acb8f8086",
            "placeholder": "​",
            "style": "IPY_MODEL_ae0506940165428a9d7f48147e03b333",
            "value": " 0/42 [00:00&lt;?, ? examples/s]"
          }
        },
        "68cb571cd85241f196a71d4f9e4d998f": {
          "model_module": "@jupyter-widgets/base",
          "model_name": "LayoutModel",
          "model_module_version": "1.2.0",
          "state": {
            "_model_module": "@jupyter-widgets/base",
            "_model_module_version": "1.2.0",
            "_model_name": "LayoutModel",
            "_view_count": null,
            "_view_module": "@jupyter-widgets/base",
            "_view_module_version": "1.2.0",
            "_view_name": "LayoutView",
            "align_content": null,
            "align_items": null,
            "align_self": null,
            "border": null,
            "bottom": null,
            "display": null,
            "flex": null,
            "flex_flow": null,
            "grid_area": null,
            "grid_auto_columns": null,
            "grid_auto_flow": null,
            "grid_auto_rows": null,
            "grid_column": null,
            "grid_gap": null,
            "grid_row": null,
            "grid_template_areas": null,
            "grid_template_columns": null,
            "grid_template_rows": null,
            "height": null,
            "justify_content": null,
            "justify_items": null,
            "left": null,
            "margin": null,
            "max_height": null,
            "max_width": null,
            "min_height": null,
            "min_width": null,
            "object_fit": null,
            "object_position": null,
            "order": null,
            "overflow": null,
            "overflow_x": null,
            "overflow_y": null,
            "padding": null,
            "right": null,
            "top": null,
            "visibility": "hidden",
            "width": null
          }
        },
        "430100e01eab4cb895748419c703c411": {
          "model_module": "@jupyter-widgets/base",
          "model_name": "LayoutModel",
          "model_module_version": "1.2.0",
          "state": {
            "_model_module": "@jupyter-widgets/base",
            "_model_module_version": "1.2.0",
            "_model_name": "LayoutModel",
            "_view_count": null,
            "_view_module": "@jupyter-widgets/base",
            "_view_module_version": "1.2.0",
            "_view_name": "LayoutView",
            "align_content": null,
            "align_items": null,
            "align_self": null,
            "border": null,
            "bottom": null,
            "display": null,
            "flex": null,
            "flex_flow": null,
            "grid_area": null,
            "grid_auto_columns": null,
            "grid_auto_flow": null,
            "grid_auto_rows": null,
            "grid_column": null,
            "grid_gap": null,
            "grid_row": null,
            "grid_template_areas": null,
            "grid_template_columns": null,
            "grid_template_rows": null,
            "height": null,
            "justify_content": null,
            "justify_items": null,
            "left": null,
            "margin": null,
            "max_height": null,
            "max_width": null,
            "min_height": null,
            "min_width": null,
            "object_fit": null,
            "object_position": null,
            "order": null,
            "overflow": null,
            "overflow_x": null,
            "overflow_y": null,
            "padding": null,
            "right": null,
            "top": null,
            "visibility": null,
            "width": null
          }
        },
        "2b3502b61652466a9af4119b0c56c93b": {
          "model_module": "@jupyter-widgets/controls",
          "model_name": "DescriptionStyleModel",
          "model_module_version": "1.5.0",
          "state": {
            "_model_module": "@jupyter-widgets/controls",
            "_model_module_version": "1.5.0",
            "_model_name": "DescriptionStyleModel",
            "_view_count": null,
            "_view_module": "@jupyter-widgets/base",
            "_view_module_version": "1.2.0",
            "_view_name": "StyleView",
            "description_width": ""
          }
        },
        "68043cbf933044588cdd7fab7b59dab5": {
          "model_module": "@jupyter-widgets/base",
          "model_name": "LayoutModel",
          "model_module_version": "1.2.0",
          "state": {
            "_model_module": "@jupyter-widgets/base",
            "_model_module_version": "1.2.0",
            "_model_name": "LayoutModel",
            "_view_count": null,
            "_view_module": "@jupyter-widgets/base",
            "_view_module_version": "1.2.0",
            "_view_name": "LayoutView",
            "align_content": null,
            "align_items": null,
            "align_self": null,
            "border": null,
            "bottom": null,
            "display": null,
            "flex": null,
            "flex_flow": null,
            "grid_area": null,
            "grid_auto_columns": null,
            "grid_auto_flow": null,
            "grid_auto_rows": null,
            "grid_column": null,
            "grid_gap": null,
            "grid_row": null,
            "grid_template_areas": null,
            "grid_template_columns": null,
            "grid_template_rows": null,
            "height": null,
            "justify_content": null,
            "justify_items": null,
            "left": null,
            "margin": null,
            "max_height": null,
            "max_width": null,
            "min_height": null,
            "min_width": null,
            "object_fit": null,
            "object_position": null,
            "order": null,
            "overflow": null,
            "overflow_x": null,
            "overflow_y": null,
            "padding": null,
            "right": null,
            "top": null,
            "visibility": null,
            "width": null
          }
        },
        "ddf07568975b450898898b7e9ed34046": {
          "model_module": "@jupyter-widgets/controls",
          "model_name": "ProgressStyleModel",
          "model_module_version": "1.5.0",
          "state": {
            "_model_module": "@jupyter-widgets/controls",
            "_model_module_version": "1.5.0",
            "_model_name": "ProgressStyleModel",
            "_view_count": null,
            "_view_module": "@jupyter-widgets/base",
            "_view_module_version": "1.2.0",
            "_view_name": "StyleView",
            "bar_color": null,
            "description_width": ""
          }
        },
        "b191f412715745e3bc9ff59acb8f8086": {
          "model_module": "@jupyter-widgets/base",
          "model_name": "LayoutModel",
          "model_module_version": "1.2.0",
          "state": {
            "_model_module": "@jupyter-widgets/base",
            "_model_module_version": "1.2.0",
            "_model_name": "LayoutModel",
            "_view_count": null,
            "_view_module": "@jupyter-widgets/base",
            "_view_module_version": "1.2.0",
            "_view_name": "LayoutView",
            "align_content": null,
            "align_items": null,
            "align_self": null,
            "border": null,
            "bottom": null,
            "display": null,
            "flex": null,
            "flex_flow": null,
            "grid_area": null,
            "grid_auto_columns": null,
            "grid_auto_flow": null,
            "grid_auto_rows": null,
            "grid_column": null,
            "grid_gap": null,
            "grid_row": null,
            "grid_template_areas": null,
            "grid_template_columns": null,
            "grid_template_rows": null,
            "height": null,
            "justify_content": null,
            "justify_items": null,
            "left": null,
            "margin": null,
            "max_height": null,
            "max_width": null,
            "min_height": null,
            "min_width": null,
            "object_fit": null,
            "object_position": null,
            "order": null,
            "overflow": null,
            "overflow_x": null,
            "overflow_y": null,
            "padding": null,
            "right": null,
            "top": null,
            "visibility": null,
            "width": null
          }
        },
        "ae0506940165428a9d7f48147e03b333": {
          "model_module": "@jupyter-widgets/controls",
          "model_name": "DescriptionStyleModel",
          "model_module_version": "1.5.0",
          "state": {
            "_model_module": "@jupyter-widgets/controls",
            "_model_module_version": "1.5.0",
            "_model_name": "DescriptionStyleModel",
            "_view_count": null,
            "_view_module": "@jupyter-widgets/base",
            "_view_module_version": "1.2.0",
            "_view_name": "StyleView",
            "description_width": ""
          }
        },
        "ab109b87564d4ddd904ef5355cffb701": {
          "model_module": "@jupyter-widgets/controls",
          "model_name": "HBoxModel",
          "model_module_version": "1.5.0",
          "state": {
            "_dom_classes": [],
            "_model_module": "@jupyter-widgets/controls",
            "_model_module_version": "1.5.0",
            "_model_name": "HBoxModel",
            "_view_count": null,
            "_view_module": "@jupyter-widgets/controls",
            "_view_module_version": "1.5.0",
            "_view_name": "HBoxView",
            "box_style": "",
            "children": [
              "IPY_MODEL_c8c132f5174146df92972a1416323c04",
              "IPY_MODEL_e131a7fed3754828afa5bdb746fb111f",
              "IPY_MODEL_56cbad955fb1491b9709bcaae2269e31"
            ],
            "layout": "IPY_MODEL_df69b648f4c946559c7266cda714f005"
          }
        },
        "c8c132f5174146df92972a1416323c04": {
          "model_module": "@jupyter-widgets/controls",
          "model_name": "HTMLModel",
          "model_module_version": "1.5.0",
          "state": {
            "_dom_classes": [],
            "_model_module": "@jupyter-widgets/controls",
            "_model_module_version": "1.5.0",
            "_model_name": "HTMLModel",
            "_view_count": null,
            "_view_module": "@jupyter-widgets/controls",
            "_view_module_version": "1.5.0",
            "_view_name": "HTMLView",
            "description": "",
            "description_tooltip": null,
            "layout": "IPY_MODEL_b3b5ac8e258446f9b0fe313d6c038404",
            "placeholder": "​",
            "style": "IPY_MODEL_b1e50f6b0bb346e1a7e9bae3977eee67",
            "value": "Map:   0%"
          }
        },
        "e131a7fed3754828afa5bdb746fb111f": {
          "model_module": "@jupyter-widgets/controls",
          "model_name": "FloatProgressModel",
          "model_module_version": "1.5.0",
          "state": {
            "_dom_classes": [],
            "_model_module": "@jupyter-widgets/controls",
            "_model_module_version": "1.5.0",
            "_model_name": "FloatProgressModel",
            "_view_count": null,
            "_view_module": "@jupyter-widgets/controls",
            "_view_module_version": "1.5.0",
            "_view_name": "ProgressView",
            "bar_style": "",
            "description": "",
            "description_tooltip": null,
            "layout": "IPY_MODEL_b470f3bd671e416fa3ea89c4d2864c02",
            "max": 97,
            "min": 0,
            "orientation": "horizontal",
            "style": "IPY_MODEL_52021fc9e27547c88d7d87be241d89bd",
            "value": 97
          }
        },
        "56cbad955fb1491b9709bcaae2269e31": {
          "model_module": "@jupyter-widgets/controls",
          "model_name": "HTMLModel",
          "model_module_version": "1.5.0",
          "state": {
            "_dom_classes": [],
            "_model_module": "@jupyter-widgets/controls",
            "_model_module_version": "1.5.0",
            "_model_name": "HTMLModel",
            "_view_count": null,
            "_view_module": "@jupyter-widgets/controls",
            "_view_module_version": "1.5.0",
            "_view_name": "HTMLView",
            "description": "",
            "description_tooltip": null,
            "layout": "IPY_MODEL_d1ef1a886c7945c59069ca1035b2ecc0",
            "placeholder": "​",
            "style": "IPY_MODEL_7cc82101763f40f68e18a2a9786ca22a",
            "value": " 0/97 [00:00&lt;?, ? examples/s]"
          }
        },
        "df69b648f4c946559c7266cda714f005": {
          "model_module": "@jupyter-widgets/base",
          "model_name": "LayoutModel",
          "model_module_version": "1.2.0",
          "state": {
            "_model_module": "@jupyter-widgets/base",
            "_model_module_version": "1.2.0",
            "_model_name": "LayoutModel",
            "_view_count": null,
            "_view_module": "@jupyter-widgets/base",
            "_view_module_version": "1.2.0",
            "_view_name": "LayoutView",
            "align_content": null,
            "align_items": null,
            "align_self": null,
            "border": null,
            "bottom": null,
            "display": null,
            "flex": null,
            "flex_flow": null,
            "grid_area": null,
            "grid_auto_columns": null,
            "grid_auto_flow": null,
            "grid_auto_rows": null,
            "grid_column": null,
            "grid_gap": null,
            "grid_row": null,
            "grid_template_areas": null,
            "grid_template_columns": null,
            "grid_template_rows": null,
            "height": null,
            "justify_content": null,
            "justify_items": null,
            "left": null,
            "margin": null,
            "max_height": null,
            "max_width": null,
            "min_height": null,
            "min_width": null,
            "object_fit": null,
            "object_position": null,
            "order": null,
            "overflow": null,
            "overflow_x": null,
            "overflow_y": null,
            "padding": null,
            "right": null,
            "top": null,
            "visibility": "hidden",
            "width": null
          }
        },
        "b3b5ac8e258446f9b0fe313d6c038404": {
          "model_module": "@jupyter-widgets/base",
          "model_name": "LayoutModel",
          "model_module_version": "1.2.0",
          "state": {
            "_model_module": "@jupyter-widgets/base",
            "_model_module_version": "1.2.0",
            "_model_name": "LayoutModel",
            "_view_count": null,
            "_view_module": "@jupyter-widgets/base",
            "_view_module_version": "1.2.0",
            "_view_name": "LayoutView",
            "align_content": null,
            "align_items": null,
            "align_self": null,
            "border": null,
            "bottom": null,
            "display": null,
            "flex": null,
            "flex_flow": null,
            "grid_area": null,
            "grid_auto_columns": null,
            "grid_auto_flow": null,
            "grid_auto_rows": null,
            "grid_column": null,
            "grid_gap": null,
            "grid_row": null,
            "grid_template_areas": null,
            "grid_template_columns": null,
            "grid_template_rows": null,
            "height": null,
            "justify_content": null,
            "justify_items": null,
            "left": null,
            "margin": null,
            "max_height": null,
            "max_width": null,
            "min_height": null,
            "min_width": null,
            "object_fit": null,
            "object_position": null,
            "order": null,
            "overflow": null,
            "overflow_x": null,
            "overflow_y": null,
            "padding": null,
            "right": null,
            "top": null,
            "visibility": null,
            "width": null
          }
        },
        "b1e50f6b0bb346e1a7e9bae3977eee67": {
          "model_module": "@jupyter-widgets/controls",
          "model_name": "DescriptionStyleModel",
          "model_module_version": "1.5.0",
          "state": {
            "_model_module": "@jupyter-widgets/controls",
            "_model_module_version": "1.5.0",
            "_model_name": "DescriptionStyleModel",
            "_view_count": null,
            "_view_module": "@jupyter-widgets/base",
            "_view_module_version": "1.2.0",
            "_view_name": "StyleView",
            "description_width": ""
          }
        },
        "b470f3bd671e416fa3ea89c4d2864c02": {
          "model_module": "@jupyter-widgets/base",
          "model_name": "LayoutModel",
          "model_module_version": "1.2.0",
          "state": {
            "_model_module": "@jupyter-widgets/base",
            "_model_module_version": "1.2.0",
            "_model_name": "LayoutModel",
            "_view_count": null,
            "_view_module": "@jupyter-widgets/base",
            "_view_module_version": "1.2.0",
            "_view_name": "LayoutView",
            "align_content": null,
            "align_items": null,
            "align_self": null,
            "border": null,
            "bottom": null,
            "display": null,
            "flex": null,
            "flex_flow": null,
            "grid_area": null,
            "grid_auto_columns": null,
            "grid_auto_flow": null,
            "grid_auto_rows": null,
            "grid_column": null,
            "grid_gap": null,
            "grid_row": null,
            "grid_template_areas": null,
            "grid_template_columns": null,
            "grid_template_rows": null,
            "height": null,
            "justify_content": null,
            "justify_items": null,
            "left": null,
            "margin": null,
            "max_height": null,
            "max_width": null,
            "min_height": null,
            "min_width": null,
            "object_fit": null,
            "object_position": null,
            "order": null,
            "overflow": null,
            "overflow_x": null,
            "overflow_y": null,
            "padding": null,
            "right": null,
            "top": null,
            "visibility": null,
            "width": null
          }
        },
        "52021fc9e27547c88d7d87be241d89bd": {
          "model_module": "@jupyter-widgets/controls",
          "model_name": "ProgressStyleModel",
          "model_module_version": "1.5.0",
          "state": {
            "_model_module": "@jupyter-widgets/controls",
            "_model_module_version": "1.5.0",
            "_model_name": "ProgressStyleModel",
            "_view_count": null,
            "_view_module": "@jupyter-widgets/base",
            "_view_module_version": "1.2.0",
            "_view_name": "StyleView",
            "bar_color": null,
            "description_width": ""
          }
        },
        "d1ef1a886c7945c59069ca1035b2ecc0": {
          "model_module": "@jupyter-widgets/base",
          "model_name": "LayoutModel",
          "model_module_version": "1.2.0",
          "state": {
            "_model_module": "@jupyter-widgets/base",
            "_model_module_version": "1.2.0",
            "_model_name": "LayoutModel",
            "_view_count": null,
            "_view_module": "@jupyter-widgets/base",
            "_view_module_version": "1.2.0",
            "_view_name": "LayoutView",
            "align_content": null,
            "align_items": null,
            "align_self": null,
            "border": null,
            "bottom": null,
            "display": null,
            "flex": null,
            "flex_flow": null,
            "grid_area": null,
            "grid_auto_columns": null,
            "grid_auto_flow": null,
            "grid_auto_rows": null,
            "grid_column": null,
            "grid_gap": null,
            "grid_row": null,
            "grid_template_areas": null,
            "grid_template_columns": null,
            "grid_template_rows": null,
            "height": null,
            "justify_content": null,
            "justify_items": null,
            "left": null,
            "margin": null,
            "max_height": null,
            "max_width": null,
            "min_height": null,
            "min_width": null,
            "object_fit": null,
            "object_position": null,
            "order": null,
            "overflow": null,
            "overflow_x": null,
            "overflow_y": null,
            "padding": null,
            "right": null,
            "top": null,
            "visibility": null,
            "width": null
          }
        },
        "7cc82101763f40f68e18a2a9786ca22a": {
          "model_module": "@jupyter-widgets/controls",
          "model_name": "DescriptionStyleModel",
          "model_module_version": "1.5.0",
          "state": {
            "_model_module": "@jupyter-widgets/controls",
            "_model_module_version": "1.5.0",
            "_model_name": "DescriptionStyleModel",
            "_view_count": null,
            "_view_module": "@jupyter-widgets/base",
            "_view_module_version": "1.2.0",
            "_view_name": "StyleView",
            "description_width": ""
          }
        },
        "698f412ee29a43659817b42469698d82": {
          "model_module": "@jupyter-widgets/controls",
          "model_name": "HBoxModel",
          "model_module_version": "1.5.0",
          "state": {
            "_dom_classes": [],
            "_model_module": "@jupyter-widgets/controls",
            "_model_module_version": "1.5.0",
            "_model_name": "HBoxModel",
            "_view_count": null,
            "_view_module": "@jupyter-widgets/controls",
            "_view_module_version": "1.5.0",
            "_view_name": "HBoxView",
            "box_style": "",
            "children": [
              "IPY_MODEL_b0542d5670994a6aa60ce30741106932",
              "IPY_MODEL_ef036bddc6b74e069121fd63d9c7ac43",
              "IPY_MODEL_08d7a6882c1a44cd923bcd54a665ecb4"
            ],
            "layout": "IPY_MODEL_4009313c3b7b4b8a9984e6ae124df006"
          }
        },
        "b0542d5670994a6aa60ce30741106932": {
          "model_module": "@jupyter-widgets/controls",
          "model_name": "HTMLModel",
          "model_module_version": "1.5.0",
          "state": {
            "_dom_classes": [],
            "_model_module": "@jupyter-widgets/controls",
            "_model_module_version": "1.5.0",
            "_model_name": "HTMLModel",
            "_view_count": null,
            "_view_module": "@jupyter-widgets/controls",
            "_view_module_version": "1.5.0",
            "_view_name": "HTMLView",
            "description": "",
            "description_tooltip": null,
            "layout": "IPY_MODEL_ec325eed869948f8aabf19e3f68a0c44",
            "placeholder": "​",
            "style": "IPY_MODEL_e92acbce563c4a7f8f860935ecf133a2",
            "value": "Map:   0%"
          }
        },
        "ef036bddc6b74e069121fd63d9c7ac43": {
          "model_module": "@jupyter-widgets/controls",
          "model_name": "FloatProgressModel",
          "model_module_version": "1.5.0",
          "state": {
            "_dom_classes": [],
            "_model_module": "@jupyter-widgets/controls",
            "_model_module_version": "1.5.0",
            "_model_name": "FloatProgressModel",
            "_view_count": null,
            "_view_module": "@jupyter-widgets/controls",
            "_view_module_version": "1.5.0",
            "_view_name": "ProgressView",
            "bar_style": "",
            "description": "",
            "description_tooltip": null,
            "layout": "IPY_MODEL_222d674dfdec4531b4de312724e01f0c",
            "max": 42,
            "min": 0,
            "orientation": "horizontal",
            "style": "IPY_MODEL_299a24f2ae744772a550770dcce3acc5",
            "value": 42
          }
        },
        "08d7a6882c1a44cd923bcd54a665ecb4": {
          "model_module": "@jupyter-widgets/controls",
          "model_name": "HTMLModel",
          "model_module_version": "1.5.0",
          "state": {
            "_dom_classes": [],
            "_model_module": "@jupyter-widgets/controls",
            "_model_module_version": "1.5.0",
            "_model_name": "HTMLModel",
            "_view_count": null,
            "_view_module": "@jupyter-widgets/controls",
            "_view_module_version": "1.5.0",
            "_view_name": "HTMLView",
            "description": "",
            "description_tooltip": null,
            "layout": "IPY_MODEL_ac3d8fb677954aa1bf88b1fc9dd12f37",
            "placeholder": "​",
            "style": "IPY_MODEL_fdf8d57b5d9149aaa34a0eecc8802f2c",
            "value": " 0/42 [00:00&lt;?, ? examples/s]"
          }
        },
        "4009313c3b7b4b8a9984e6ae124df006": {
          "model_module": "@jupyter-widgets/base",
          "model_name": "LayoutModel",
          "model_module_version": "1.2.0",
          "state": {
            "_model_module": "@jupyter-widgets/base",
            "_model_module_version": "1.2.0",
            "_model_name": "LayoutModel",
            "_view_count": null,
            "_view_module": "@jupyter-widgets/base",
            "_view_module_version": "1.2.0",
            "_view_name": "LayoutView",
            "align_content": null,
            "align_items": null,
            "align_self": null,
            "border": null,
            "bottom": null,
            "display": null,
            "flex": null,
            "flex_flow": null,
            "grid_area": null,
            "grid_auto_columns": null,
            "grid_auto_flow": null,
            "grid_auto_rows": null,
            "grid_column": null,
            "grid_gap": null,
            "grid_row": null,
            "grid_template_areas": null,
            "grid_template_columns": null,
            "grid_template_rows": null,
            "height": null,
            "justify_content": null,
            "justify_items": null,
            "left": null,
            "margin": null,
            "max_height": null,
            "max_width": null,
            "min_height": null,
            "min_width": null,
            "object_fit": null,
            "object_position": null,
            "order": null,
            "overflow": null,
            "overflow_x": null,
            "overflow_y": null,
            "padding": null,
            "right": null,
            "top": null,
            "visibility": "hidden",
            "width": null
          }
        },
        "ec325eed869948f8aabf19e3f68a0c44": {
          "model_module": "@jupyter-widgets/base",
          "model_name": "LayoutModel",
          "model_module_version": "1.2.0",
          "state": {
            "_model_module": "@jupyter-widgets/base",
            "_model_module_version": "1.2.0",
            "_model_name": "LayoutModel",
            "_view_count": null,
            "_view_module": "@jupyter-widgets/base",
            "_view_module_version": "1.2.0",
            "_view_name": "LayoutView",
            "align_content": null,
            "align_items": null,
            "align_self": null,
            "border": null,
            "bottom": null,
            "display": null,
            "flex": null,
            "flex_flow": null,
            "grid_area": null,
            "grid_auto_columns": null,
            "grid_auto_flow": null,
            "grid_auto_rows": null,
            "grid_column": null,
            "grid_gap": null,
            "grid_row": null,
            "grid_template_areas": null,
            "grid_template_columns": null,
            "grid_template_rows": null,
            "height": null,
            "justify_content": null,
            "justify_items": null,
            "left": null,
            "margin": null,
            "max_height": null,
            "max_width": null,
            "min_height": null,
            "min_width": null,
            "object_fit": null,
            "object_position": null,
            "order": null,
            "overflow": null,
            "overflow_x": null,
            "overflow_y": null,
            "padding": null,
            "right": null,
            "top": null,
            "visibility": null,
            "width": null
          }
        },
        "e92acbce563c4a7f8f860935ecf133a2": {
          "model_module": "@jupyter-widgets/controls",
          "model_name": "DescriptionStyleModel",
          "model_module_version": "1.5.0",
          "state": {
            "_model_module": "@jupyter-widgets/controls",
            "_model_module_version": "1.5.0",
            "_model_name": "DescriptionStyleModel",
            "_view_count": null,
            "_view_module": "@jupyter-widgets/base",
            "_view_module_version": "1.2.0",
            "_view_name": "StyleView",
            "description_width": ""
          }
        },
        "222d674dfdec4531b4de312724e01f0c": {
          "model_module": "@jupyter-widgets/base",
          "model_name": "LayoutModel",
          "model_module_version": "1.2.0",
          "state": {
            "_model_module": "@jupyter-widgets/base",
            "_model_module_version": "1.2.0",
            "_model_name": "LayoutModel",
            "_view_count": null,
            "_view_module": "@jupyter-widgets/base",
            "_view_module_version": "1.2.0",
            "_view_name": "LayoutView",
            "align_content": null,
            "align_items": null,
            "align_self": null,
            "border": null,
            "bottom": null,
            "display": null,
            "flex": null,
            "flex_flow": null,
            "grid_area": null,
            "grid_auto_columns": null,
            "grid_auto_flow": null,
            "grid_auto_rows": null,
            "grid_column": null,
            "grid_gap": null,
            "grid_row": null,
            "grid_template_areas": null,
            "grid_template_columns": null,
            "grid_template_rows": null,
            "height": null,
            "justify_content": null,
            "justify_items": null,
            "left": null,
            "margin": null,
            "max_height": null,
            "max_width": null,
            "min_height": null,
            "min_width": null,
            "object_fit": null,
            "object_position": null,
            "order": null,
            "overflow": null,
            "overflow_x": null,
            "overflow_y": null,
            "padding": null,
            "right": null,
            "top": null,
            "visibility": null,
            "width": null
          }
        },
        "299a24f2ae744772a550770dcce3acc5": {
          "model_module": "@jupyter-widgets/controls",
          "model_name": "ProgressStyleModel",
          "model_module_version": "1.5.0",
          "state": {
            "_model_module": "@jupyter-widgets/controls",
            "_model_module_version": "1.5.0",
            "_model_name": "ProgressStyleModel",
            "_view_count": null,
            "_view_module": "@jupyter-widgets/base",
            "_view_module_version": "1.2.0",
            "_view_name": "StyleView",
            "bar_color": null,
            "description_width": ""
          }
        },
        "ac3d8fb677954aa1bf88b1fc9dd12f37": {
          "model_module": "@jupyter-widgets/base",
          "model_name": "LayoutModel",
          "model_module_version": "1.2.0",
          "state": {
            "_model_module": "@jupyter-widgets/base",
            "_model_module_version": "1.2.0",
            "_model_name": "LayoutModel",
            "_view_count": null,
            "_view_module": "@jupyter-widgets/base",
            "_view_module_version": "1.2.0",
            "_view_name": "LayoutView",
            "align_content": null,
            "align_items": null,
            "align_self": null,
            "border": null,
            "bottom": null,
            "display": null,
            "flex": null,
            "flex_flow": null,
            "grid_area": null,
            "grid_auto_columns": null,
            "grid_auto_flow": null,
            "grid_auto_rows": null,
            "grid_column": null,
            "grid_gap": null,
            "grid_row": null,
            "grid_template_areas": null,
            "grid_template_columns": null,
            "grid_template_rows": null,
            "height": null,
            "justify_content": null,
            "justify_items": null,
            "left": null,
            "margin": null,
            "max_height": null,
            "max_width": null,
            "min_height": null,
            "min_width": null,
            "object_fit": null,
            "object_position": null,
            "order": null,
            "overflow": null,
            "overflow_x": null,
            "overflow_y": null,
            "padding": null,
            "right": null,
            "top": null,
            "visibility": null,
            "width": null
          }
        },
        "fdf8d57b5d9149aaa34a0eecc8802f2c": {
          "model_module": "@jupyter-widgets/controls",
          "model_name": "DescriptionStyleModel",
          "model_module_version": "1.5.0",
          "state": {
            "_model_module": "@jupyter-widgets/controls",
            "_model_module_version": "1.5.0",
            "_model_name": "DescriptionStyleModel",
            "_view_count": null,
            "_view_module": "@jupyter-widgets/base",
            "_view_module_version": "1.2.0",
            "_view_name": "StyleView",
            "description_width": ""
          }
        }
      }
    },
    "colab": {
      "provenance": []
    }
  },
  "nbformat": 4,
  "nbformat_minor": 5
}