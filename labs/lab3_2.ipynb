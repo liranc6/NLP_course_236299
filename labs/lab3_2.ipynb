{
  "cells": [
    {
      "cell_type": "code",
      "execution_count": 12,
      "id": "400c1d03",
      "metadata": {
        "deletable": false,
        "editable": false,
        "jupyter": {
          "outputs_hidden": true,
          "source_hidden": true
        },
        "colab": {
          "base_uri": "https://localhost:8080/"
        },
        "id": "400c1d03",
        "outputId": "6b108d98-eadd-4e8d-bc17-a7c5d500bd6d"
      },
      "outputs": [
        {
          "output_type": "stream",
          "name": "stdout",
          "text": [
            "\n"
          ]
        }
      ],
      "source": [
        "# Please do not change this cell because some hidden tests might depend on it.\n",
        "import os\n",
        "\n",
        "# Otter grader does not handle ! commands well, so we define and use our\n",
        "# own function to execute shell commands.\n",
        "def shell(commands, warn=True):\n",
        "    \"\"\"Executes the string `commands` as a sequence of shell commands.\n",
        "\n",
        "       Prints the result to stdout and returns the exit status.\n",
        "       Provides a printed warning on non-zero exit status unless `warn`\n",
        "       flag is unset.\n",
        "    \"\"\"\n",
        "    file = os.popen(commands)\n",
        "    print (file.read().rstrip('\\n'))\n",
        "    exit_status = file.close()\n",
        "    if warn and exit_status != None:\n",
        "        print(f\"Completed with errors. Exit status: {exit_status}\\n\")\n",
        "    return exit_status\n",
        "\n",
        "shell(\"\"\"\n",
        "ls requirements.txt >/dev/null 2>&1\n",
        "if [ ! $? = 0 ]; then\n",
        " rm -rf .tmp\n",
        " git clone git@github.com:cs236299-2023-spring/lab3-2.git .tmp\n",
        " mv .tmp/tests ./\n",
        " mv .tmp/requirements.txt ./\n",
        " rm -rf .tmp\n",
        "fi\n",
        "pip install -q -r requirements.txt\n",
        "\"\"\")"
      ]
    },
    {
      "cell_type": "code",
      "execution_count": 13,
      "id": "d9dc9a23",
      "metadata": {
        "deletable": false,
        "editable": false,
        "id": "d9dc9a23"
      },
      "outputs": [],
      "source": [
        "# Initialize Otter\n",
        "import otter\n",
        "grader = otter.Notebook()"
      ]
    },
    {
      "cell_type": "raw",
      "id": "e51f4965",
      "metadata": {
        "jupyter": {
          "source_hidden": true
        },
        "id": "e51f4965"
      },
      "source": [
        "%%latex\n",
        "\\newcommand{\\vect}[1]{\\mathbf{#1}}\n",
        "\\newcommand{\\cnt}[1]{\\sharp(#1)}\n",
        "\\newcommand{\\argmax}[1]{\\underset{#1}{\\operatorname{argmax}}}\n",
        "\\newcommand{\\softmax}{\\operatorname{softmax}}\n",
        "\\newcommand{\\Prob}{\\Pr}\n",
        "\\newcommand{\\given}{\\,|\\,}"
      ]
    },
    {
      "cell_type": "markdown",
      "id": "84ce1525",
      "metadata": {
        "jupyter": {
          "source_hidden": true
        },
        "id": "84ce1525"
      },
      "source": [
        "$$\n",
        "\\renewcommand{\\vect}[1]{\\mathbf{#1}}\n",
        "\\renewcommand{\\cnt}[1]{\\sharp(#1)}\n",
        "\\renewcommand{\\argmax}[1]{\\underset{#1}{\\operatorname{argmax}}}\n",
        "\\renewcommand{\\softmax}{\\operatorname{softmax}}\n",
        "\\renewcommand{\\Prob}{\\Pr}\n",
        "\\renewcommand{\\given}{\\,|\\,}\n",
        "$$"
      ]
    },
    {
      "cell_type": "markdown",
      "id": "f3f06ace",
      "metadata": {
        "id": "f3f06ace",
        "tags": [
          "remove_for_latex"
        ]
      },
      "source": [
        "# Course 236299\n",
        "## Lab 3-2 – Context-free parsing"
      ]
    },
    {
      "cell_type": "markdown",
      "id": "f3352962",
      "metadata": {
        "id": "f3352962"
      },
      "source": [
        "In this lab, you'll carry out a simple context-free recognition and parsing algorithm, the CKY algorithm independently discovered by John Cocke, Tadao Kasami, and Daniel Younger.\n",
        "\n",
        "By carrying out and understanding this lab, you should be able to\n",
        "\n",
        "* Distinguish recognition from parsing,\n",
        "* Understand the string position representation of constituents, and\n",
        "* Follow recognition algorithms for context-free grammars."
      ]
    },
    {
      "cell_type": "markdown",
      "id": "c2a0166e",
      "metadata": {
        "id": "c2a0166e"
      },
      "source": [
        "New bits of Python used for the first time in the _solution set_ for this lab, and which you may therefore find useful:\n",
        "\n",
        "* [pandas.DataFrame.iloc](https://pandas.pydata.org/pandas-docs/stable/reference/api/pandas.DataFrame.iloc.html#pandas-dataframe-iloc)\n",
        "* [set.add](https://docs.python.org/3/library/stdtypes.html#frozenset.add)"
      ]
    },
    {
      "cell_type": "markdown",
      "id": "36177739",
      "metadata": {
        "id": "36177739"
      },
      "source": [
        "# Preparation – Loading packages"
      ]
    },
    {
      "cell_type": "code",
      "execution_count": 14,
      "id": "ee1e6bfa",
      "metadata": {
        "deletable": false,
        "editable": false,
        "id": "ee1e6bfa"
      },
      "outputs": [],
      "source": [
        "from collections import defaultdict\n",
        "import functools\n",
        "import numpy as np\n",
        "import nltk\n",
        "import pandas as pd"
      ]
    },
    {
      "cell_type": "markdown",
      "id": "34af7bae",
      "metadata": {
        "id": "34af7bae"
      },
      "source": [
        "# Introduction\n",
        "\n",
        "In the previous lab, you worked with context-free grammars (CFGs), and practiced defining grammars and parse trees.\n",
        "\n",
        "This lab will focus on the Cocke-Kasami-Younger (CKY) parsing algorithm.\n",
        "The input to the algorithm is a grammar in Chomsky Normal Form (CNF) and a sentence; the output of the algorithm is the set of parse trees that yield the given sentence according to the grammar (the empty set if there are no such parse trees).\n",
        "\n",
        "We will first focus on the CKY _recognition_ algorithm, that only outputs whether the given sentence can be parsed or not. Then, we will see how to slightly modify this algorithm (by adding back-pointers) to also generate the parse trees themselves."
      ]
    },
    {
      "cell_type": "markdown",
      "id": "208c84d9",
      "metadata": {
        "id": "208c84d9"
      },
      "source": [
        "## The sample grammar\n",
        "\n",
        "Recall the simple arithmetic grammar that you wrote in the previous lab. In this lab, you'll use a simplified version, containing fewer operators and numbers."
      ]
    },
    {
      "cell_type": "code",
      "execution_count": 15,
      "id": "d5841f8f",
      "metadata": {
        "id": "d5841f8f"
      },
      "outputs": [],
      "source": [
        "arithmetic_grammar = nltk.CFG.fromstring(\n",
        "    \"\"\"\n",
        "    S -> NUM | S OP S\n",
        "    OP -> ADD | SUB | MULT\n",
        "\n",
        "    NUM -> 'zero' | 'one' | 'two' | 'three'\n",
        "\n",
        "    ADD -> 'plus'\n",
        "    SUB -> 'minus'\n",
        "    MULT -> 'times'\n",
        "    \"\"\"\n",
        ")"
      ]
    },
    {
      "cell_type": "markdown",
      "id": "af6df80f",
      "metadata": {
        "id": "af6df80f"
      },
      "source": [
        "The CKY algorithm requires grammars in Chomsky Normal Form (CNF). Here is a CNF-converted version of the grammar, which makes use of an addirtional nonterminal `SOP`, which derives prefixes of `S` missing an `S` at the right edge, strings like, for instance, `one plus` or `one plus two times`."
      ]
    },
    {
      "cell_type": "code",
      "execution_count": 16,
      "id": "c01628f2",
      "metadata": {
        "colab": {
          "base_uri": "https://localhost:8080/"
        },
        "id": "c01628f2",
        "outputId": "0ae7bc5e-3a84-4f77-c843-c4ab0e034ee0"
      },
      "outputs": [
        {
          "output_type": "stream",
          "name": "stdout",
          "text": [
            "Grammar with 11 productions (start state = S)\n",
            "    S -> 'zero'\n",
            "    S -> 'one'\n",
            "    S -> 'two'\n",
            "    S -> 'three'\n",
            "    S -> SOP S\n",
            "    SOP -> S ADD\n",
            "    SOP -> S SUB\n",
            "    SOP -> S MULT\n",
            "    ADD -> 'plus'\n",
            "    SUB -> 'minus'\n",
            "    MULT -> 'times'\n"
          ]
        }
      ],
      "source": [
        "cnf_arithmetic_grammar = nltk.CFG.fromstring(\n",
        "    \"\"\"\n",
        "    S -> 'zero' | 'one' | 'two' | 'three'\n",
        "    S -> SOP S\n",
        "\n",
        "    SOP -> S ADD | S SUB | S MULT\n",
        "\n",
        "    ADD -> 'plus'\n",
        "    SUB -> 'minus'\n",
        "    MULT -> 'times'\n",
        "    \"\"\"\n",
        ")\n",
        "\n",
        "print(cnf_arithmetic_grammar)"
      ]
    },
    {
      "cell_type": "markdown",
      "id": "a996d15a",
      "metadata": {
        "id": "a996d15a"
      },
      "source": [
        "We can verify that the grammar is in CNF, as required by the CKY algorithm."
      ]
    },
    {
      "cell_type": "code",
      "execution_count": 17,
      "id": "c28cc147",
      "metadata": {
        "colab": {
          "base_uri": "https://localhost:8080/"
        },
        "id": "c28cc147",
        "outputId": "9eaea734-a73c-49a5-fb30-4046ea6665e3"
      },
      "outputs": [
        {
          "output_type": "execute_result",
          "data": {
            "text/plain": [
              "True"
            ]
          },
          "metadata": {},
          "execution_count": 17
        }
      ],
      "source": [
        "cnf_arithmetic_grammar.is_chomsky_normal_form()"
      ]
    },
    {
      "cell_type": "markdown",
      "id": "6d9bcf3c",
      "metadata": {
        "id": "6d9bcf3c"
      },
      "source": [
        "Given the sentence \"*one plus two times three*\", what would be its parse tree according to the grammar?\n",
        "\n",
        "Without any specific handling of arithmetic operator precedence, this \"sentence\" can be either parsed as:\n",
        "\n",
        "* `(one plus two) times three`\n",
        "\n",
        "or:\n",
        "\n",
        "* `one plus (two times three)`"
      ]
    },
    {
      "cell_type": "markdown",
      "id": "e34eeec7",
      "metadata": {
        "id": "e34eeec7"
      },
      "source": [
        "## Parsing a sentence\n",
        "\n",
        "Let's see how a parser parses this sentence:"
      ]
    },
    {
      "cell_type": "code",
      "execution_count": 18,
      "id": "faf205da",
      "metadata": {
        "colab": {
          "base_uri": "https://localhost:8080/"
        },
        "id": "faf205da",
        "outputId": "49b08bdb-7717-4550-93ce-dfa778224dae"
      },
      "outputs": [
        {
          "output_type": "stream",
          "name": "stdout",
          "text": [
            "                  S             \n",
            "               ___|__________    \n",
            "             SOP             |  \n",
            "          ____|________      |   \n",
            "         S             |     |  \n",
            "      ___|________     |     |   \n",
            "    SOP           |    |     |  \n",
            "  ___|___         |    |     |   \n",
            " S      ADD       S   MULT   S  \n",
            " |       |        |    |     |   \n",
            "one     plus     two times three\n",
            "\n",
            "              S                 \n",
            "      ________|________          \n",
            "     |                 S        \n",
            "     |             ____|_____    \n",
            "    SOP          SOP         |  \n",
            "  ___|___      ___|____      |   \n",
            " S      ADD   S       MULT   S  \n",
            " |       |    |        |     |   \n",
            "one     plus two     times three\n",
            "\n"
          ]
        }
      ],
      "source": [
        "sentence = \"one plus two times three\"\n",
        "words = sentence.split()\n",
        "\n",
        "parser = nltk.parse.BottomUpChartParser(cnf_arithmetic_grammar)\n",
        "for tree in parser.parse(words):\n",
        "    tree.pretty_print()"
      ]
    },
    {
      "cell_type": "markdown",
      "id": "8a162353",
      "metadata": {
        "id": "8a162353"
      },
      "source": [
        "As you can see, `nltk`'s parser finds the two possible parses. In this lab, you will manually parse this sentence using the CKY algorithm."
      ]
    },
    {
      "cell_type": "markdown",
      "id": "1f3eeedf",
      "metadata": {
        "id": "1f3eeedf"
      },
      "source": [
        "# The CKY recognition algorithm\n",
        "\n",
        "The CKY algorithm is a simple *[dynamic programming](https://en.wikipedia.org/wiki/Dynamic_programming)* algorithm. Dynamic programming algorithms work by solving every subproblem of a given problem, in an order such that larger subproblems can merely recombine solutions of smaller subproblems already solved. In the case of CNF parsing, the subproblems are the parsing of _every substring_ as _every nonterminal_. In the end, of course, all we care about is whether the _entire string_ can be parsed as _the start nonterminal_. But by calculating all of the subproblems in order from the shortest to the longest substrings, we can acquire the information we need in the end.\n",
        "\n",
        "> You may recall that Viterbi's algorithm is also a dynamic programming algorithm, solving all subproblems of finding, for each prefix of a sequence and each state, the maximum probability of the prefix where the last word was emitted by the state.\n",
        "\n",
        "<img src=\"https://github.com/nlp-course/data/raw/master/Resources/cky-chart.png\" width=400 align=right />\n",
        "\n",
        "We start by representing the string to be parsed in such a way that we can represent each of its substrings compactly. Consider the string `one plus two times three`. We can think of the positions between the words as being numbered from zero to the length of the string (5), as depicted in the figure at right. Then any substring can be characterized by the string position to its left and the string position to its right, which we'll call a _span_. For instance, the substring `one plus` corresponds to the span 0–2 and `two times three` to the span 2–5. Adjacent spans (like these two) share a string position, in this case the string position 2, which corresponds to the \"split point\" that divides the spans. Two adjacent spans can be combined to form a longer one; the full span is between the left string position of the left span and the right string position of the right span, 0–5.\n",
        "\n",
        "Some substrings are generated by the grammar from particular nonterminals. For instance, in the example at right, the substring in the span 0–2 is generated by the grammar as an `SOP`, and 2–5 as an `S`. We'll call a span generable by a particular nonterminal a _potential constituent_.\n",
        "\n",
        "The CKY algorithm proceeds by generating every potential subconstituent of the string to be parsed. It does so by filling in a table `T` indexed by two string positions (a span, specifying a substring) whose entries are sets of nonterminals that can generate the substring between the string positions. Thus, the algorithm in parsing the string `one plus two times three` will place `SOP` in the table at entry `T[0, 2]` and `S` at entry `T[2, 5]` (among other entries). It follows from these two entries, plus the existence of a rule `S -> SOP S` in the grammar, that there should also be an entry `S` in `T[0, 5]`. By filling in these table entries in a particular order, making use of entries previously filled out, the full set of potential subconstiuents can be determined, and hence, the particular question of whether `S` covers the entire string can be answered simply by inspecting `T[0, N]`.\n",
        "\n",
        "Here is the CKY algorithm in pseudo-code:\n",
        "\n",
        "```\n",
        " 1.  define cky-parse(string = w1, ..., wN, grammar):\n",
        " 2.      for j in [1..N]:                     # each end string position\n",
        "\n",
        "             # handle rules of the form A -> w\n",
        " 3.          for all A where A --> wj in grammar:\n",
        " 4.              add A to T[j-1, j]\n",
        "\n",
        "             # handle rules of the form A -> B C\n",
        " 5.          for length in [2..j]:            # each subconstituent length\n",
        " 6.              i := j - length              # start string position\n",
        " 7.              for split in [i+1..j-1]      # each split point\n",
        " 8.                  for all A where\n",
        " 9.                          A -> B C is a rule in the grammar\n",
        "10.                          and B in T[i, split]\n",
        "11.                          and C in T[split, j]:\n",
        "12.                      add A to T[i, j]\n",
        "13.      if S in T[0, N] then parsed else failed\n",
        "```\n",
        "\n",
        "The idea is that we parse the sentence bottom-up, where in every step we check whether a given subsequence of the input can be derived from any single nonterminal. If we perform this in the right order (as above), at every step we already know whether each of the possible splits of the subsequence creates valid subparses.\n",
        "\n",
        "In this lab, you'll carry out the CKY algorithm **manually**.\n",
        "\n",
        "> Note that in the pseudo-code above, the CKY algorithm runs column by column, and in each column from bottom to top row, while in the lecture you saw that it calculates the diagonals from bottom to top. This difference doesn't matter at all since the content of each cell depends only on the cells to its left and the ones beneath.\n",
        "\n",
        "> A detail concerning implementing the algorithm in Python, with its zero-based indexing: Zero-based indexing works quite naturally for the table `T`, since the string positions start with zero. However, the input sentence itself uses one-based indexing, that is, the first word in the input sentence is denoted as `w1` in the pseudo-code. To make it easier to follow the algorithm, we can match our indices to the algorithm's by adding a dummy symbol at the start of the sentence."
      ]
    },
    {
      "cell_type": "code",
      "execution_count": 19,
      "id": "66d15893",
      "metadata": {
        "colab": {
          "base_uri": "https://localhost:8080/"
        },
        "id": "66d15893",
        "outputId": "8840292a-fa27-4dcf-a551-70686a3bc6de"
      },
      "outputs": [
        {
          "output_type": "execute_result",
          "data": {
            "text/plain": [
              "['', 'one', 'plus', 'two', 'times', 'three']"
            ]
          },
          "metadata": {},
          "execution_count": 19
        }
      ],
      "source": [
        "words = [''] + sentence.split()\n",
        "words"
      ]
    },
    {
      "cell_type": "markdown",
      "id": "119c5348",
      "metadata": {
        "id": "119c5348"
      },
      "source": [
        "For the table, we'll use a `pandas` dataframe, primarily for its readable output. (We don't recommend using this data structure when implementing the CKY algorithm variants in project segment 3.)\n",
        "\n",
        "* Entries that contain `'---'` do not need to be modified.\n",
        "* To denote entries that contain no non-terminals, we will use `set()` as their content (an empty set).\n",
        "* To denote entries that contain one or more nonterminals `A`, `B`, and `C`, we will use, e.g., `set(['A'])` or `set(['A','B','C'])`"
      ]
    },
    {
      "cell_type": "code",
      "execution_count": 20,
      "id": "ad580e47",
      "metadata": {
        "colab": {
          "base_uri": "https://localhost:8080/",
          "height": 269
        },
        "id": "ad580e47",
        "outputId": "dc7c4fde-3d87-4b9a-af69-b3fe553ed6f3"
      },
      "outputs": [
        {
          "output_type": "execute_result",
          "data": {
            "text/plain": [
              "        one plus  two times three\n",
              "     0    1    2    3     4     5\n",
              "0  ---   {}   {}   {}    {}    {}\n",
              "1  ---  ---   {}   {}    {}    {}\n",
              "2  ---  ---  ---   {}    {}    {}\n",
              "3  ---  ---  ---  ---    {}    {}\n",
              "4  ---  ---  ---  ---   ---    {}\n",
              "5  ---  ---  ---  ---   ---   ---"
            ],
            "text/html": [
              "\n",
              "  <div id=\"df-f66ca124-0ad4-4ff2-b6de-0ceca625128a\">\n",
              "    <div class=\"colab-df-container\">\n",
              "      <div>\n",
              "<style scoped>\n",
              "    .dataframe tbody tr th:only-of-type {\n",
              "        vertical-align: middle;\n",
              "    }\n",
              "\n",
              "    .dataframe tbody tr th {\n",
              "        vertical-align: top;\n",
              "    }\n",
              "\n",
              "    .dataframe thead tr th {\n",
              "        text-align: left;\n",
              "    }\n",
              "</style>\n",
              "<table border=\"1\" class=\"dataframe\">\n",
              "  <thead>\n",
              "    <tr>\n",
              "      <th></th>\n",
              "      <th></th>\n",
              "      <th>one</th>\n",
              "      <th>plus</th>\n",
              "      <th>two</th>\n",
              "      <th>times</th>\n",
              "      <th>three</th>\n",
              "    </tr>\n",
              "    <tr>\n",
              "      <th></th>\n",
              "      <th>0</th>\n",
              "      <th>1</th>\n",
              "      <th>2</th>\n",
              "      <th>3</th>\n",
              "      <th>4</th>\n",
              "      <th>5</th>\n",
              "    </tr>\n",
              "  </thead>\n",
              "  <tbody>\n",
              "    <tr>\n",
              "      <th>0</th>\n",
              "      <td>---</td>\n",
              "      <td>{}</td>\n",
              "      <td>{}</td>\n",
              "      <td>{}</td>\n",
              "      <td>{}</td>\n",
              "      <td>{}</td>\n",
              "    </tr>\n",
              "    <tr>\n",
              "      <th>1</th>\n",
              "      <td>---</td>\n",
              "      <td>---</td>\n",
              "      <td>{}</td>\n",
              "      <td>{}</td>\n",
              "      <td>{}</td>\n",
              "      <td>{}</td>\n",
              "    </tr>\n",
              "    <tr>\n",
              "      <th>2</th>\n",
              "      <td>---</td>\n",
              "      <td>---</td>\n",
              "      <td>---</td>\n",
              "      <td>{}</td>\n",
              "      <td>{}</td>\n",
              "      <td>{}</td>\n",
              "    </tr>\n",
              "    <tr>\n",
              "      <th>3</th>\n",
              "      <td>---</td>\n",
              "      <td>---</td>\n",
              "      <td>---</td>\n",
              "      <td>---</td>\n",
              "      <td>{}</td>\n",
              "      <td>{}</td>\n",
              "    </tr>\n",
              "    <tr>\n",
              "      <th>4</th>\n",
              "      <td>---</td>\n",
              "      <td>---</td>\n",
              "      <td>---</td>\n",
              "      <td>---</td>\n",
              "      <td>---</td>\n",
              "      <td>{}</td>\n",
              "    </tr>\n",
              "    <tr>\n",
              "      <th>5</th>\n",
              "      <td>---</td>\n",
              "      <td>---</td>\n",
              "      <td>---</td>\n",
              "      <td>---</td>\n",
              "      <td>---</td>\n",
              "      <td>---</td>\n",
              "    </tr>\n",
              "  </tbody>\n",
              "</table>\n",
              "</div>\n",
              "      <button class=\"colab-df-convert\" onclick=\"convertToInteractive('df-f66ca124-0ad4-4ff2-b6de-0ceca625128a')\"\n",
              "              title=\"Convert this dataframe to an interactive table.\"\n",
              "              style=\"display:none;\">\n",
              "        \n",
              "  <svg xmlns=\"http://www.w3.org/2000/svg\" height=\"24px\"viewBox=\"0 0 24 24\"\n",
              "       width=\"24px\">\n",
              "    <path d=\"M0 0h24v24H0V0z\" fill=\"none\"/>\n",
              "    <path d=\"M18.56 5.44l.94 2.06.94-2.06 2.06-.94-2.06-.94-.94-2.06-.94 2.06-2.06.94zm-11 1L8.5 8.5l.94-2.06 2.06-.94-2.06-.94L8.5 2.5l-.94 2.06-2.06.94zm10 10l.94 2.06.94-2.06 2.06-.94-2.06-.94-.94-2.06-.94 2.06-2.06.94z\"/><path d=\"M17.41 7.96l-1.37-1.37c-.4-.4-.92-.59-1.43-.59-.52 0-1.04.2-1.43.59L10.3 9.45l-7.72 7.72c-.78.78-.78 2.05 0 2.83L4 21.41c.39.39.9.59 1.41.59.51 0 1.02-.2 1.41-.59l7.78-7.78 2.81-2.81c.8-.78.8-2.07 0-2.86zM5.41 20L4 18.59l7.72-7.72 1.47 1.35L5.41 20z\"/>\n",
              "  </svg>\n",
              "      </button>\n",
              "      \n",
              "  <style>\n",
              "    .colab-df-container {\n",
              "      display:flex;\n",
              "      flex-wrap:wrap;\n",
              "      gap: 12px;\n",
              "    }\n",
              "\n",
              "    .colab-df-convert {\n",
              "      background-color: #E8F0FE;\n",
              "      border: none;\n",
              "      border-radius: 50%;\n",
              "      cursor: pointer;\n",
              "      display: none;\n",
              "      fill: #1967D2;\n",
              "      height: 32px;\n",
              "      padding: 0 0 0 0;\n",
              "      width: 32px;\n",
              "    }\n",
              "\n",
              "    .colab-df-convert:hover {\n",
              "      background-color: #E2EBFA;\n",
              "      box-shadow: 0px 1px 2px rgba(60, 64, 67, 0.3), 0px 1px 3px 1px rgba(60, 64, 67, 0.15);\n",
              "      fill: #174EA6;\n",
              "    }\n",
              "\n",
              "    [theme=dark] .colab-df-convert {\n",
              "      background-color: #3B4455;\n",
              "      fill: #D2E3FC;\n",
              "    }\n",
              "\n",
              "    [theme=dark] .colab-df-convert:hover {\n",
              "      background-color: #434B5C;\n",
              "      box-shadow: 0px 1px 3px 1px rgba(0, 0, 0, 0.15);\n",
              "      filter: drop-shadow(0px 1px 2px rgba(0, 0, 0, 0.3));\n",
              "      fill: #FFFFFF;\n",
              "    }\n",
              "  </style>\n",
              "\n",
              "      <script>\n",
              "        const buttonEl =\n",
              "          document.querySelector('#df-f66ca124-0ad4-4ff2-b6de-0ceca625128a button.colab-df-convert');\n",
              "        buttonEl.style.display =\n",
              "          google.colab.kernel.accessAllowed ? 'block' : 'none';\n",
              "\n",
              "        async function convertToInteractive(key) {\n",
              "          const element = document.querySelector('#df-f66ca124-0ad4-4ff2-b6de-0ceca625128a');\n",
              "          const dataTable =\n",
              "            await google.colab.kernel.invokeFunction('convertToInteractive',\n",
              "                                                     [key], {});\n",
              "          if (!dataTable) return;\n",
              "\n",
              "          const docLinkHtml = 'Like what you see? Visit the ' +\n",
              "            '<a target=\"_blank\" href=https://colab.research.google.com/notebooks/data_table.ipynb>data table notebook</a>'\n",
              "            + ' to learn more about interactive tables.';\n",
              "          element.innerHTML = '';\n",
              "          dataTable['output_type'] = 'display_data';\n",
              "          await google.colab.output.renderOutput(dataTable, element);\n",
              "          const docLink = document.createElement('div');\n",
              "          docLink.innerHTML = docLinkHtml;\n",
              "          element.appendChild(docLink);\n",
              "        }\n",
              "      </script>\n",
              "    </div>\n",
              "  </div>\n",
              "  "
            ]
          },
          "metadata": {},
          "execution_count": 20
        }
      ],
      "source": [
        "data = [\n",
        "        ['---',  set(),  set(),  set(),  set(),  set()],\n",
        "        ['---',  '---',  set(),  set(),  set(),  set()],\n",
        "        ['---',  '---',  '---',  set(),  set(),  set()],\n",
        "        ['---',  '---',  '---',  '---',  set(),  set()],\n",
        "        ['---',  '---',  '---',  '---',  '---',  set()],\n",
        "        ['---',  '---',  '---',  '---',  '---',  '---'],\n",
        "]\n",
        "\n",
        "table = pd.DataFrame(data, columns=words, index=list('012345'))\n",
        "table.columns = pd.MultiIndex.from_arrays([table.columns] + [list('012345')])\n",
        "table"
      ]
    },
    {
      "cell_type": "markdown",
      "id": "398c8f6f",
      "metadata": {
        "deletable": false,
        "editable": false,
        "id": "398c8f6f"
      },
      "source": [
        "We will now manually track the execution of the algorithm. The first step in the algorithm is a loop for `j` starting at `1`. Then,\n",
        "\n",
        "```\n",
        " 3.          for all A where A --> wj in grammar:\n",
        " 4.              add A to T[j-1, j]\n",
        "```\n",
        "\n",
        "In the case at hand `wj` (that is `w1`, that is `words[1]`) is `one`. And sure enough there is a rule in the grammar of the required form, namely, `S -> 'one'`. So we must update the table accordingly.\n",
        "\n",
        "In the next cell, update the relevant entry in the table.\n",
        "\n",
        "> You can use the `pandas` method `table.iloc[row, col]` for indexing and the `set` method `add` to add a nonterminal to a set.\n",
        "\n",
        "<!--\n",
        "BEGIN QUESTION\n",
        "name: table_addition_1\n",
        "-->"
      ]
    },
    {
      "cell_type": "code",
      "execution_count": 21,
      "id": "6a572da3",
      "metadata": {
        "id": "6a572da3"
      },
      "outputs": [],
      "source": [
        "#TODO -- update the table for the first step of j=1\n",
        "# 3.          for all A where A --> wj in grammar:\n",
        "# 4.              add A to T[j-1, j]\n",
        "table.iloc[0, 1].add('S')"
      ]
    },
    {
      "cell_type": "code",
      "execution_count": 23,
      "id": "fc239e06",
      "metadata": {
        "deletable": false,
        "editable": false,
        "colab": {
          "base_uri": "https://localhost:8080/",
          "height": 46
        },
        "id": "fc239e06",
        "outputId": "e6f01f1e-e46d-412d-ae80-5d272b993726"
      },
      "outputs": [
        {
          "output_type": "execute_result",
          "data": {
            "text/plain": [
              "\n",
              "    All tests passed!\n",
              "    "
            ],
            "text/html": [
              "\n",
              "    \n",
              "    \n",
              "        <p>All tests passed!</p>\n",
              "    \n",
              "    "
            ]
          },
          "metadata": {},
          "execution_count": 23
        }
      ],
      "source": [
        "grader.check(\"table_addition_1\")"
      ]
    },
    {
      "cell_type": "markdown",
      "id": "1187047d",
      "metadata": {
        "id": "1187047d"
      },
      "source": [
        "Let's examine the table to make sure it worked."
      ]
    },
    {
      "cell_type": "code",
      "execution_count": 24,
      "id": "08462642",
      "metadata": {
        "colab": {
          "base_uri": "https://localhost:8080/",
          "height": 269
        },
        "id": "08462642",
        "outputId": "fe9e80d9-c25f-4cc2-dbe1-c9229680ba23"
      },
      "outputs": [
        {
          "output_type": "execute_result",
          "data": {
            "text/plain": [
              "        one plus  two times three\n",
              "     0    1    2    3     4     5\n",
              "0  ---  {S}   {}   {}    {}    {}\n",
              "1  ---  ---   {}   {}    {}    {}\n",
              "2  ---  ---  ---   {}    {}    {}\n",
              "3  ---  ---  ---  ---    {}    {}\n",
              "4  ---  ---  ---  ---   ---    {}\n",
              "5  ---  ---  ---  ---   ---   ---"
            ],
            "text/html": [
              "\n",
              "  <div id=\"df-e4e5b468-062a-45bf-9e09-275cb6d174ef\">\n",
              "    <div class=\"colab-df-container\">\n",
              "      <div>\n",
              "<style scoped>\n",
              "    .dataframe tbody tr th:only-of-type {\n",
              "        vertical-align: middle;\n",
              "    }\n",
              "\n",
              "    .dataframe tbody tr th {\n",
              "        vertical-align: top;\n",
              "    }\n",
              "\n",
              "    .dataframe thead tr th {\n",
              "        text-align: left;\n",
              "    }\n",
              "</style>\n",
              "<table border=\"1\" class=\"dataframe\">\n",
              "  <thead>\n",
              "    <tr>\n",
              "      <th></th>\n",
              "      <th></th>\n",
              "      <th>one</th>\n",
              "      <th>plus</th>\n",
              "      <th>two</th>\n",
              "      <th>times</th>\n",
              "      <th>three</th>\n",
              "    </tr>\n",
              "    <tr>\n",
              "      <th></th>\n",
              "      <th>0</th>\n",
              "      <th>1</th>\n",
              "      <th>2</th>\n",
              "      <th>3</th>\n",
              "      <th>4</th>\n",
              "      <th>5</th>\n",
              "    </tr>\n",
              "  </thead>\n",
              "  <tbody>\n",
              "    <tr>\n",
              "      <th>0</th>\n",
              "      <td>---</td>\n",
              "      <td>{S}</td>\n",
              "      <td>{}</td>\n",
              "      <td>{}</td>\n",
              "      <td>{}</td>\n",
              "      <td>{}</td>\n",
              "    </tr>\n",
              "    <tr>\n",
              "      <th>1</th>\n",
              "      <td>---</td>\n",
              "      <td>---</td>\n",
              "      <td>{}</td>\n",
              "      <td>{}</td>\n",
              "      <td>{}</td>\n",
              "      <td>{}</td>\n",
              "    </tr>\n",
              "    <tr>\n",
              "      <th>2</th>\n",
              "      <td>---</td>\n",
              "      <td>---</td>\n",
              "      <td>---</td>\n",
              "      <td>{}</td>\n",
              "      <td>{}</td>\n",
              "      <td>{}</td>\n",
              "    </tr>\n",
              "    <tr>\n",
              "      <th>3</th>\n",
              "      <td>---</td>\n",
              "      <td>---</td>\n",
              "      <td>---</td>\n",
              "      <td>---</td>\n",
              "      <td>{}</td>\n",
              "      <td>{}</td>\n",
              "    </tr>\n",
              "    <tr>\n",
              "      <th>4</th>\n",
              "      <td>---</td>\n",
              "      <td>---</td>\n",
              "      <td>---</td>\n",
              "      <td>---</td>\n",
              "      <td>---</td>\n",
              "      <td>{}</td>\n",
              "    </tr>\n",
              "    <tr>\n",
              "      <th>5</th>\n",
              "      <td>---</td>\n",
              "      <td>---</td>\n",
              "      <td>---</td>\n",
              "      <td>---</td>\n",
              "      <td>---</td>\n",
              "      <td>---</td>\n",
              "    </tr>\n",
              "  </tbody>\n",
              "</table>\n",
              "</div>\n",
              "      <button class=\"colab-df-convert\" onclick=\"convertToInteractive('df-e4e5b468-062a-45bf-9e09-275cb6d174ef')\"\n",
              "              title=\"Convert this dataframe to an interactive table.\"\n",
              "              style=\"display:none;\">\n",
              "        \n",
              "  <svg xmlns=\"http://www.w3.org/2000/svg\" height=\"24px\"viewBox=\"0 0 24 24\"\n",
              "       width=\"24px\">\n",
              "    <path d=\"M0 0h24v24H0V0z\" fill=\"none\"/>\n",
              "    <path d=\"M18.56 5.44l.94 2.06.94-2.06 2.06-.94-2.06-.94-.94-2.06-.94 2.06-2.06.94zm-11 1L8.5 8.5l.94-2.06 2.06-.94-2.06-.94L8.5 2.5l-.94 2.06-2.06.94zm10 10l.94 2.06.94-2.06 2.06-.94-2.06-.94-.94-2.06-.94 2.06-2.06.94z\"/><path d=\"M17.41 7.96l-1.37-1.37c-.4-.4-.92-.59-1.43-.59-.52 0-1.04.2-1.43.59L10.3 9.45l-7.72 7.72c-.78.78-.78 2.05 0 2.83L4 21.41c.39.39.9.59 1.41.59.51 0 1.02-.2 1.41-.59l7.78-7.78 2.81-2.81c.8-.78.8-2.07 0-2.86zM5.41 20L4 18.59l7.72-7.72 1.47 1.35L5.41 20z\"/>\n",
              "  </svg>\n",
              "      </button>\n",
              "      \n",
              "  <style>\n",
              "    .colab-df-container {\n",
              "      display:flex;\n",
              "      flex-wrap:wrap;\n",
              "      gap: 12px;\n",
              "    }\n",
              "\n",
              "    .colab-df-convert {\n",
              "      background-color: #E8F0FE;\n",
              "      border: none;\n",
              "      border-radius: 50%;\n",
              "      cursor: pointer;\n",
              "      display: none;\n",
              "      fill: #1967D2;\n",
              "      height: 32px;\n",
              "      padding: 0 0 0 0;\n",
              "      width: 32px;\n",
              "    }\n",
              "\n",
              "    .colab-df-convert:hover {\n",
              "      background-color: #E2EBFA;\n",
              "      box-shadow: 0px 1px 2px rgba(60, 64, 67, 0.3), 0px 1px 3px 1px rgba(60, 64, 67, 0.15);\n",
              "      fill: #174EA6;\n",
              "    }\n",
              "\n",
              "    [theme=dark] .colab-df-convert {\n",
              "      background-color: #3B4455;\n",
              "      fill: #D2E3FC;\n",
              "    }\n",
              "\n",
              "    [theme=dark] .colab-df-convert:hover {\n",
              "      background-color: #434B5C;\n",
              "      box-shadow: 0px 1px 3px 1px rgba(0, 0, 0, 0.15);\n",
              "      filter: drop-shadow(0px 1px 2px rgba(0, 0, 0, 0.3));\n",
              "      fill: #FFFFFF;\n",
              "    }\n",
              "  </style>\n",
              "\n",
              "      <script>\n",
              "        const buttonEl =\n",
              "          document.querySelector('#df-e4e5b468-062a-45bf-9e09-275cb6d174ef button.colab-df-convert');\n",
              "        buttonEl.style.display =\n",
              "          google.colab.kernel.accessAllowed ? 'block' : 'none';\n",
              "\n",
              "        async function convertToInteractive(key) {\n",
              "          const element = document.querySelector('#df-e4e5b468-062a-45bf-9e09-275cb6d174ef');\n",
              "          const dataTable =\n",
              "            await google.colab.kernel.invokeFunction('convertToInteractive',\n",
              "                                                     [key], {});\n",
              "          if (!dataTable) return;\n",
              "\n",
              "          const docLinkHtml = 'Like what you see? Visit the ' +\n",
              "            '<a target=\"_blank\" href=https://colab.research.google.com/notebooks/data_table.ipynb>data table notebook</a>'\n",
              "            + ' to learn more about interactive tables.';\n",
              "          element.innerHTML = '';\n",
              "          dataTable['output_type'] = 'display_data';\n",
              "          await google.colab.output.renderOutput(dataTable, element);\n",
              "          const docLink = document.createElement('div');\n",
              "          docLink.innerHTML = docLinkHtml;\n",
              "          element.appendChild(docLink);\n",
              "        }\n",
              "      </script>\n",
              "    </div>\n",
              "  </div>\n",
              "  "
            ]
          },
          "metadata": {},
          "execution_count": 24
        }
      ],
      "source": [
        "table"
      ]
    },
    {
      "cell_type": "markdown",
      "id": "220b14e3",
      "metadata": {
        "deletable": false,
        "editable": false,
        "id": "220b14e3"
      },
      "source": [
        "Now the next line in the algorithm specifies a loop for all lengths from 2 to `j`. But `j` is `1`, so the loop is vacuous.\n",
        "\n",
        "> Why lengths starting at 2? Because for shorter strings, there's no way to split the string into two non-empty parts, and in CNF grammars, there are no empty constituents.\n",
        "\n",
        "We're back to lines 3-4 with `j` now having the value 2. Update the table accordingly in the next cell.\n",
        "\n",
        "<!--\n",
        "BEGIN QUESTION\n",
        "name: table_addition_2\n",
        "-->"
      ]
    },
    {
      "cell_type": "code",
      "execution_count": 25,
      "id": "fc7031c9",
      "metadata": {
        "id": "fc7031c9"
      },
      "outputs": [],
      "source": [
        "#TODO -- update the table\n",
        "table.iloc[1, 2].add('ADD')"
      ]
    },
    {
      "cell_type": "code",
      "execution_count": 26,
      "id": "0a670c05",
      "metadata": {
        "deletable": false,
        "editable": false,
        "colab": {
          "base_uri": "https://localhost:8080/",
          "height": 46
        },
        "id": "0a670c05",
        "outputId": "4f33496f-cf1b-4149-e5f9-a2ce2c83c958"
      },
      "outputs": [
        {
          "output_type": "execute_result",
          "data": {
            "text/plain": [
              "\n",
              "    All tests passed!\n",
              "    "
            ],
            "text/html": [
              "\n",
              "    \n",
              "    \n",
              "        <p>All tests passed!</p>\n",
              "    \n",
              "    "
            ]
          },
          "metadata": {},
          "execution_count": 26
        }
      ],
      "source": [
        "grader.check(\"table_addition_2\")"
      ]
    },
    {
      "cell_type": "code",
      "execution_count": 27,
      "id": "385ccff3",
      "metadata": {
        "colab": {
          "base_uri": "https://localhost:8080/",
          "height": 269
        },
        "id": "385ccff3",
        "outputId": "c902c7d2-3a5f-4665-afed-323487294e11"
      },
      "outputs": [
        {
          "output_type": "execute_result",
          "data": {
            "text/plain": [
              "        one   plus  two times three\n",
              "     0    1      2    3     4     5\n",
              "0  ---  {S}     {}   {}    {}    {}\n",
              "1  ---  ---  {ADD}   {}    {}    {}\n",
              "2  ---  ---    ---   {}    {}    {}\n",
              "3  ---  ---    ---  ---    {}    {}\n",
              "4  ---  ---    ---  ---   ---    {}\n",
              "5  ---  ---    ---  ---   ---   ---"
            ],
            "text/html": [
              "\n",
              "  <div id=\"df-db901f33-9a9e-4409-ad05-f44ead3f1b54\">\n",
              "    <div class=\"colab-df-container\">\n",
              "      <div>\n",
              "<style scoped>\n",
              "    .dataframe tbody tr th:only-of-type {\n",
              "        vertical-align: middle;\n",
              "    }\n",
              "\n",
              "    .dataframe tbody tr th {\n",
              "        vertical-align: top;\n",
              "    }\n",
              "\n",
              "    .dataframe thead tr th {\n",
              "        text-align: left;\n",
              "    }\n",
              "</style>\n",
              "<table border=\"1\" class=\"dataframe\">\n",
              "  <thead>\n",
              "    <tr>\n",
              "      <th></th>\n",
              "      <th></th>\n",
              "      <th>one</th>\n",
              "      <th>plus</th>\n",
              "      <th>two</th>\n",
              "      <th>times</th>\n",
              "      <th>three</th>\n",
              "    </tr>\n",
              "    <tr>\n",
              "      <th></th>\n",
              "      <th>0</th>\n",
              "      <th>1</th>\n",
              "      <th>2</th>\n",
              "      <th>3</th>\n",
              "      <th>4</th>\n",
              "      <th>5</th>\n",
              "    </tr>\n",
              "  </thead>\n",
              "  <tbody>\n",
              "    <tr>\n",
              "      <th>0</th>\n",
              "      <td>---</td>\n",
              "      <td>{S}</td>\n",
              "      <td>{}</td>\n",
              "      <td>{}</td>\n",
              "      <td>{}</td>\n",
              "      <td>{}</td>\n",
              "    </tr>\n",
              "    <tr>\n",
              "      <th>1</th>\n",
              "      <td>---</td>\n",
              "      <td>---</td>\n",
              "      <td>{ADD}</td>\n",
              "      <td>{}</td>\n",
              "      <td>{}</td>\n",
              "      <td>{}</td>\n",
              "    </tr>\n",
              "    <tr>\n",
              "      <th>2</th>\n",
              "      <td>---</td>\n",
              "      <td>---</td>\n",
              "      <td>---</td>\n",
              "      <td>{}</td>\n",
              "      <td>{}</td>\n",
              "      <td>{}</td>\n",
              "    </tr>\n",
              "    <tr>\n",
              "      <th>3</th>\n",
              "      <td>---</td>\n",
              "      <td>---</td>\n",
              "      <td>---</td>\n",
              "      <td>---</td>\n",
              "      <td>{}</td>\n",
              "      <td>{}</td>\n",
              "    </tr>\n",
              "    <tr>\n",
              "      <th>4</th>\n",
              "      <td>---</td>\n",
              "      <td>---</td>\n",
              "      <td>---</td>\n",
              "      <td>---</td>\n",
              "      <td>---</td>\n",
              "      <td>{}</td>\n",
              "    </tr>\n",
              "    <tr>\n",
              "      <th>5</th>\n",
              "      <td>---</td>\n",
              "      <td>---</td>\n",
              "      <td>---</td>\n",
              "      <td>---</td>\n",
              "      <td>---</td>\n",
              "      <td>---</td>\n",
              "    </tr>\n",
              "  </tbody>\n",
              "</table>\n",
              "</div>\n",
              "      <button class=\"colab-df-convert\" onclick=\"convertToInteractive('df-db901f33-9a9e-4409-ad05-f44ead3f1b54')\"\n",
              "              title=\"Convert this dataframe to an interactive table.\"\n",
              "              style=\"display:none;\">\n",
              "        \n",
              "  <svg xmlns=\"http://www.w3.org/2000/svg\" height=\"24px\"viewBox=\"0 0 24 24\"\n",
              "       width=\"24px\">\n",
              "    <path d=\"M0 0h24v24H0V0z\" fill=\"none\"/>\n",
              "    <path d=\"M18.56 5.44l.94 2.06.94-2.06 2.06-.94-2.06-.94-.94-2.06-.94 2.06-2.06.94zm-11 1L8.5 8.5l.94-2.06 2.06-.94-2.06-.94L8.5 2.5l-.94 2.06-2.06.94zm10 10l.94 2.06.94-2.06 2.06-.94-2.06-.94-.94-2.06-.94 2.06-2.06.94z\"/><path d=\"M17.41 7.96l-1.37-1.37c-.4-.4-.92-.59-1.43-.59-.52 0-1.04.2-1.43.59L10.3 9.45l-7.72 7.72c-.78.78-.78 2.05 0 2.83L4 21.41c.39.39.9.59 1.41.59.51 0 1.02-.2 1.41-.59l7.78-7.78 2.81-2.81c.8-.78.8-2.07 0-2.86zM5.41 20L4 18.59l7.72-7.72 1.47 1.35L5.41 20z\"/>\n",
              "  </svg>\n",
              "      </button>\n",
              "      \n",
              "  <style>\n",
              "    .colab-df-container {\n",
              "      display:flex;\n",
              "      flex-wrap:wrap;\n",
              "      gap: 12px;\n",
              "    }\n",
              "\n",
              "    .colab-df-convert {\n",
              "      background-color: #E8F0FE;\n",
              "      border: none;\n",
              "      border-radius: 50%;\n",
              "      cursor: pointer;\n",
              "      display: none;\n",
              "      fill: #1967D2;\n",
              "      height: 32px;\n",
              "      padding: 0 0 0 0;\n",
              "      width: 32px;\n",
              "    }\n",
              "\n",
              "    .colab-df-convert:hover {\n",
              "      background-color: #E2EBFA;\n",
              "      box-shadow: 0px 1px 2px rgba(60, 64, 67, 0.3), 0px 1px 3px 1px rgba(60, 64, 67, 0.15);\n",
              "      fill: #174EA6;\n",
              "    }\n",
              "\n",
              "    [theme=dark] .colab-df-convert {\n",
              "      background-color: #3B4455;\n",
              "      fill: #D2E3FC;\n",
              "    }\n",
              "\n",
              "    [theme=dark] .colab-df-convert:hover {\n",
              "      background-color: #434B5C;\n",
              "      box-shadow: 0px 1px 3px 1px rgba(0, 0, 0, 0.15);\n",
              "      filter: drop-shadow(0px 1px 2px rgba(0, 0, 0, 0.3));\n",
              "      fill: #FFFFFF;\n",
              "    }\n",
              "  </style>\n",
              "\n",
              "      <script>\n",
              "        const buttonEl =\n",
              "          document.querySelector('#df-db901f33-9a9e-4409-ad05-f44ead3f1b54 button.colab-df-convert');\n",
              "        buttonEl.style.display =\n",
              "          google.colab.kernel.accessAllowed ? 'block' : 'none';\n",
              "\n",
              "        async function convertToInteractive(key) {\n",
              "          const element = document.querySelector('#df-db901f33-9a9e-4409-ad05-f44ead3f1b54');\n",
              "          const dataTable =\n",
              "            await google.colab.kernel.invokeFunction('convertToInteractive',\n",
              "                                                     [key], {});\n",
              "          if (!dataTable) return;\n",
              "\n",
              "          const docLinkHtml = 'Like what you see? Visit the ' +\n",
              "            '<a target=\"_blank\" href=https://colab.research.google.com/notebooks/data_table.ipynb>data table notebook</a>'\n",
              "            + ' to learn more about interactive tables.';\n",
              "          element.innerHTML = '';\n",
              "          dataTable['output_type'] = 'display_data';\n",
              "          await google.colab.output.renderOutput(dataTable, element);\n",
              "          const docLink = document.createElement('div');\n",
              "          docLink.innerHTML = docLinkHtml;\n",
              "          element.appendChild(docLink);\n",
              "        }\n",
              "      </script>\n",
              "    </div>\n",
              "  </div>\n",
              "  "
            ]
          },
          "metadata": {},
          "execution_count": 27
        }
      ],
      "source": [
        "table"
      ]
    },
    {
      "cell_type": "markdown",
      "id": "b01dd51d",
      "metadata": {
        "deletable": false,
        "editable": false,
        "id": "b01dd51d"
      },
      "source": [
        "Again, we're at line 5, selecting a length from the range [2..2]. There's only one such length, 2, so the start string position `i` is `j-2`, that is `0`. For strings between string positions 0 and 2, there is only one possible split point, namely 1. At line 7, then, there will be only a single iteration.\n",
        "\n",
        "Lines 8-12 have us find all rules in the grammar of the form $A \\rightarrow B\\, C$ such that `B` is in `T[i, split]` and `C` is in `T[split, j]`, and add such `A` values to the table.\n",
        "\n",
        "Update the table accordingly in the next cell.\n",
        "\n",
        "<!--\n",
        "BEGIN QUESTION\n",
        "name: table_addition_3\n",
        "-->"
      ]
    },
    {
      "cell_type": "code",
      "execution_count": 28,
      "id": "a95b2dfc",
      "metadata": {
        "id": "a95b2dfc"
      },
      "outputs": [],
      "source": [
        "#TODO -- update the table\n",
        "table.iloc[0, 2].add('SOP')"
      ]
    },
    {
      "cell_type": "code",
      "execution_count": 29,
      "id": "76bf1a3f",
      "metadata": {
        "deletable": false,
        "editable": false,
        "colab": {
          "base_uri": "https://localhost:8080/",
          "height": 46
        },
        "id": "76bf1a3f",
        "outputId": "1fd40448-404b-45df-e769-e74d88097881"
      },
      "outputs": [
        {
          "output_type": "execute_result",
          "data": {
            "text/plain": [
              "\n",
              "    All tests passed!\n",
              "    "
            ],
            "text/html": [
              "\n",
              "    \n",
              "    \n",
              "        <p>All tests passed!</p>\n",
              "    \n",
              "    "
            ]
          },
          "metadata": {},
          "execution_count": 29
        }
      ],
      "source": [
        "grader.check(\"table_addition_3\")"
      ]
    },
    {
      "cell_type": "code",
      "execution_count": 30,
      "id": "d8c228d8",
      "metadata": {
        "colab": {
          "base_uri": "https://localhost:8080/",
          "height": 269
        },
        "id": "d8c228d8",
        "outputId": "6ef3e4ae-b739-462e-a8d1-41fec04ae78e"
      },
      "outputs": [
        {
          "output_type": "execute_result",
          "data": {
            "text/plain": [
              "        one   plus  two times three\n",
              "     0    1      2    3     4     5\n",
              "0  ---  {S}  {SOP}   {}    {}    {}\n",
              "1  ---  ---  {ADD}   {}    {}    {}\n",
              "2  ---  ---    ---   {}    {}    {}\n",
              "3  ---  ---    ---  ---    {}    {}\n",
              "4  ---  ---    ---  ---   ---    {}\n",
              "5  ---  ---    ---  ---   ---   ---"
            ],
            "text/html": [
              "\n",
              "  <div id=\"df-4b2f0410-52c8-4c03-a1c0-8c3598599d27\">\n",
              "    <div class=\"colab-df-container\">\n",
              "      <div>\n",
              "<style scoped>\n",
              "    .dataframe tbody tr th:only-of-type {\n",
              "        vertical-align: middle;\n",
              "    }\n",
              "\n",
              "    .dataframe tbody tr th {\n",
              "        vertical-align: top;\n",
              "    }\n",
              "\n",
              "    .dataframe thead tr th {\n",
              "        text-align: left;\n",
              "    }\n",
              "</style>\n",
              "<table border=\"1\" class=\"dataframe\">\n",
              "  <thead>\n",
              "    <tr>\n",
              "      <th></th>\n",
              "      <th></th>\n",
              "      <th>one</th>\n",
              "      <th>plus</th>\n",
              "      <th>two</th>\n",
              "      <th>times</th>\n",
              "      <th>three</th>\n",
              "    </tr>\n",
              "    <tr>\n",
              "      <th></th>\n",
              "      <th>0</th>\n",
              "      <th>1</th>\n",
              "      <th>2</th>\n",
              "      <th>3</th>\n",
              "      <th>4</th>\n",
              "      <th>5</th>\n",
              "    </tr>\n",
              "  </thead>\n",
              "  <tbody>\n",
              "    <tr>\n",
              "      <th>0</th>\n",
              "      <td>---</td>\n",
              "      <td>{S}</td>\n",
              "      <td>{SOP}</td>\n",
              "      <td>{}</td>\n",
              "      <td>{}</td>\n",
              "      <td>{}</td>\n",
              "    </tr>\n",
              "    <tr>\n",
              "      <th>1</th>\n",
              "      <td>---</td>\n",
              "      <td>---</td>\n",
              "      <td>{ADD}</td>\n",
              "      <td>{}</td>\n",
              "      <td>{}</td>\n",
              "      <td>{}</td>\n",
              "    </tr>\n",
              "    <tr>\n",
              "      <th>2</th>\n",
              "      <td>---</td>\n",
              "      <td>---</td>\n",
              "      <td>---</td>\n",
              "      <td>{}</td>\n",
              "      <td>{}</td>\n",
              "      <td>{}</td>\n",
              "    </tr>\n",
              "    <tr>\n",
              "      <th>3</th>\n",
              "      <td>---</td>\n",
              "      <td>---</td>\n",
              "      <td>---</td>\n",
              "      <td>---</td>\n",
              "      <td>{}</td>\n",
              "      <td>{}</td>\n",
              "    </tr>\n",
              "    <tr>\n",
              "      <th>4</th>\n",
              "      <td>---</td>\n",
              "      <td>---</td>\n",
              "      <td>---</td>\n",
              "      <td>---</td>\n",
              "      <td>---</td>\n",
              "      <td>{}</td>\n",
              "    </tr>\n",
              "    <tr>\n",
              "      <th>5</th>\n",
              "      <td>---</td>\n",
              "      <td>---</td>\n",
              "      <td>---</td>\n",
              "      <td>---</td>\n",
              "      <td>---</td>\n",
              "      <td>---</td>\n",
              "    </tr>\n",
              "  </tbody>\n",
              "</table>\n",
              "</div>\n",
              "      <button class=\"colab-df-convert\" onclick=\"convertToInteractive('df-4b2f0410-52c8-4c03-a1c0-8c3598599d27')\"\n",
              "              title=\"Convert this dataframe to an interactive table.\"\n",
              "              style=\"display:none;\">\n",
              "        \n",
              "  <svg xmlns=\"http://www.w3.org/2000/svg\" height=\"24px\"viewBox=\"0 0 24 24\"\n",
              "       width=\"24px\">\n",
              "    <path d=\"M0 0h24v24H0V0z\" fill=\"none\"/>\n",
              "    <path d=\"M18.56 5.44l.94 2.06.94-2.06 2.06-.94-2.06-.94-.94-2.06-.94 2.06-2.06.94zm-11 1L8.5 8.5l.94-2.06 2.06-.94-2.06-.94L8.5 2.5l-.94 2.06-2.06.94zm10 10l.94 2.06.94-2.06 2.06-.94-2.06-.94-.94-2.06-.94 2.06-2.06.94z\"/><path d=\"M17.41 7.96l-1.37-1.37c-.4-.4-.92-.59-1.43-.59-.52 0-1.04.2-1.43.59L10.3 9.45l-7.72 7.72c-.78.78-.78 2.05 0 2.83L4 21.41c.39.39.9.59 1.41.59.51 0 1.02-.2 1.41-.59l7.78-7.78 2.81-2.81c.8-.78.8-2.07 0-2.86zM5.41 20L4 18.59l7.72-7.72 1.47 1.35L5.41 20z\"/>\n",
              "  </svg>\n",
              "      </button>\n",
              "      \n",
              "  <style>\n",
              "    .colab-df-container {\n",
              "      display:flex;\n",
              "      flex-wrap:wrap;\n",
              "      gap: 12px;\n",
              "    }\n",
              "\n",
              "    .colab-df-convert {\n",
              "      background-color: #E8F0FE;\n",
              "      border: none;\n",
              "      border-radius: 50%;\n",
              "      cursor: pointer;\n",
              "      display: none;\n",
              "      fill: #1967D2;\n",
              "      height: 32px;\n",
              "      padding: 0 0 0 0;\n",
              "      width: 32px;\n",
              "    }\n",
              "\n",
              "    .colab-df-convert:hover {\n",
              "      background-color: #E2EBFA;\n",
              "      box-shadow: 0px 1px 2px rgba(60, 64, 67, 0.3), 0px 1px 3px 1px rgba(60, 64, 67, 0.15);\n",
              "      fill: #174EA6;\n",
              "    }\n",
              "\n",
              "    [theme=dark] .colab-df-convert {\n",
              "      background-color: #3B4455;\n",
              "      fill: #D2E3FC;\n",
              "    }\n",
              "\n",
              "    [theme=dark] .colab-df-convert:hover {\n",
              "      background-color: #434B5C;\n",
              "      box-shadow: 0px 1px 3px 1px rgba(0, 0, 0, 0.15);\n",
              "      filter: drop-shadow(0px 1px 2px rgba(0, 0, 0, 0.3));\n",
              "      fill: #FFFFFF;\n",
              "    }\n",
              "  </style>\n",
              "\n",
              "      <script>\n",
              "        const buttonEl =\n",
              "          document.querySelector('#df-4b2f0410-52c8-4c03-a1c0-8c3598599d27 button.colab-df-convert');\n",
              "        buttonEl.style.display =\n",
              "          google.colab.kernel.accessAllowed ? 'block' : 'none';\n",
              "\n",
              "        async function convertToInteractive(key) {\n",
              "          const element = document.querySelector('#df-4b2f0410-52c8-4c03-a1c0-8c3598599d27');\n",
              "          const dataTable =\n",
              "            await google.colab.kernel.invokeFunction('convertToInteractive',\n",
              "                                                     [key], {});\n",
              "          if (!dataTable) return;\n",
              "\n",
              "          const docLinkHtml = 'Like what you see? Visit the ' +\n",
              "            '<a target=\"_blank\" href=https://colab.research.google.com/notebooks/data_table.ipynb>data table notebook</a>'\n",
              "            + ' to learn more about interactive tables.';\n",
              "          element.innerHTML = '';\n",
              "          dataTable['output_type'] = 'display_data';\n",
              "          await google.colab.output.renderOutput(dataTable, element);\n",
              "          const docLink = document.createElement('div');\n",
              "          docLink.innerHTML = docLinkHtml;\n",
              "          element.appendChild(docLink);\n",
              "        }\n",
              "      </script>\n",
              "    </div>\n",
              "  </div>\n",
              "  "
            ]
          },
          "metadata": {},
          "execution_count": 30
        }
      ],
      "source": [
        "table"
      ]
    },
    {
      "cell_type": "markdown",
      "id": "af38479e",
      "metadata": {
        "deletable": false,
        "editable": false,
        "id": "af38479e"
      },
      "source": [
        "Both loops that iterate over $i$ and over $split$ had a single iteration, so we can continue with $j=3$.\n",
        "\n",
        "Complete the table according to the algorithm, starting from $j=3$. Remember, it is okay that a given entry will not have any nonterminals. In that case, the entry value will remain the empty set.\n",
        "\n",
        "<!--\n",
        "BEGIN QUESTION\n",
        "name: table_addition_rest\n",
        "-->"
      ]
    },
    {
      "cell_type": "code",
      "execution_count": 31,
      "id": "d787668c",
      "metadata": {
        "id": "d787668c"
      },
      "outputs": [],
      "source": [
        "#TODO – update the table\n",
        "table.iloc[2, 3].add('S')\n",
        "table.iloc[3, 4].add('MULT')\n",
        "table.iloc[4, 5].add('S')\n",
        "table.iloc[2, 4].add('SOP')\n",
        "table.iloc[0, 3].add('S')\n",
        "table.iloc[2, 5].add('S')\n",
        "table.iloc[0, 4].add('SOP')\n",
        "table.iloc[0, 5].add('S')"
      ]
    },
    {
      "cell_type": "code",
      "execution_count": 32,
      "id": "51b99f5d",
      "metadata": {
        "deletable": false,
        "editable": false,
        "colab": {
          "base_uri": "https://localhost:8080/",
          "height": 46
        },
        "id": "51b99f5d",
        "outputId": "99302100-3010-4789-8765-62bbb4e6757f"
      },
      "outputs": [
        {
          "output_type": "execute_result",
          "data": {
            "text/plain": [
              "\n",
              "    All tests passed!\n",
              "    "
            ],
            "text/html": [
              "\n",
              "    \n",
              "    \n",
              "        <p>All tests passed!</p>\n",
              "    \n",
              "    "
            ]
          },
          "metadata": {},
          "execution_count": 32
        }
      ],
      "source": [
        "grader.check(\"table_addition_rest\")"
      ]
    },
    {
      "cell_type": "code",
      "execution_count": 33,
      "id": "7b632ec0",
      "metadata": {
        "colab": {
          "base_uri": "https://localhost:8080/",
          "height": 269
        },
        "id": "7b632ec0",
        "outputId": "d4f9cdf0-6260-4695-a22b-e5b792319e7d"
      },
      "outputs": [
        {
          "output_type": "execute_result",
          "data": {
            "text/plain": [
              "        one   plus  two   times three\n",
              "     0    1      2    3       4     5\n",
              "0  ---  {S}  {SOP}  {S}   {SOP}   {S}\n",
              "1  ---  ---  {ADD}   {}      {}    {}\n",
              "2  ---  ---    ---  {S}   {SOP}   {S}\n",
              "3  ---  ---    ---  ---  {MULT}    {}\n",
              "4  ---  ---    ---  ---     ---   {S}\n",
              "5  ---  ---    ---  ---     ---   ---"
            ],
            "text/html": [
              "\n",
              "  <div id=\"df-c6a3ffb8-fbae-4471-a3a1-e8c6179b4ac3\">\n",
              "    <div class=\"colab-df-container\">\n",
              "      <div>\n",
              "<style scoped>\n",
              "    .dataframe tbody tr th:only-of-type {\n",
              "        vertical-align: middle;\n",
              "    }\n",
              "\n",
              "    .dataframe tbody tr th {\n",
              "        vertical-align: top;\n",
              "    }\n",
              "\n",
              "    .dataframe thead tr th {\n",
              "        text-align: left;\n",
              "    }\n",
              "</style>\n",
              "<table border=\"1\" class=\"dataframe\">\n",
              "  <thead>\n",
              "    <tr>\n",
              "      <th></th>\n",
              "      <th></th>\n",
              "      <th>one</th>\n",
              "      <th>plus</th>\n",
              "      <th>two</th>\n",
              "      <th>times</th>\n",
              "      <th>three</th>\n",
              "    </tr>\n",
              "    <tr>\n",
              "      <th></th>\n",
              "      <th>0</th>\n",
              "      <th>1</th>\n",
              "      <th>2</th>\n",
              "      <th>3</th>\n",
              "      <th>4</th>\n",
              "      <th>5</th>\n",
              "    </tr>\n",
              "  </thead>\n",
              "  <tbody>\n",
              "    <tr>\n",
              "      <th>0</th>\n",
              "      <td>---</td>\n",
              "      <td>{S}</td>\n",
              "      <td>{SOP}</td>\n",
              "      <td>{S}</td>\n",
              "      <td>{SOP}</td>\n",
              "      <td>{S}</td>\n",
              "    </tr>\n",
              "    <tr>\n",
              "      <th>1</th>\n",
              "      <td>---</td>\n",
              "      <td>---</td>\n",
              "      <td>{ADD}</td>\n",
              "      <td>{}</td>\n",
              "      <td>{}</td>\n",
              "      <td>{}</td>\n",
              "    </tr>\n",
              "    <tr>\n",
              "      <th>2</th>\n",
              "      <td>---</td>\n",
              "      <td>---</td>\n",
              "      <td>---</td>\n",
              "      <td>{S}</td>\n",
              "      <td>{SOP}</td>\n",
              "      <td>{S}</td>\n",
              "    </tr>\n",
              "    <tr>\n",
              "      <th>3</th>\n",
              "      <td>---</td>\n",
              "      <td>---</td>\n",
              "      <td>---</td>\n",
              "      <td>---</td>\n",
              "      <td>{MULT}</td>\n",
              "      <td>{}</td>\n",
              "    </tr>\n",
              "    <tr>\n",
              "      <th>4</th>\n",
              "      <td>---</td>\n",
              "      <td>---</td>\n",
              "      <td>---</td>\n",
              "      <td>---</td>\n",
              "      <td>---</td>\n",
              "      <td>{S}</td>\n",
              "    </tr>\n",
              "    <tr>\n",
              "      <th>5</th>\n",
              "      <td>---</td>\n",
              "      <td>---</td>\n",
              "      <td>---</td>\n",
              "      <td>---</td>\n",
              "      <td>---</td>\n",
              "      <td>---</td>\n",
              "    </tr>\n",
              "  </tbody>\n",
              "</table>\n",
              "</div>\n",
              "      <button class=\"colab-df-convert\" onclick=\"convertToInteractive('df-c6a3ffb8-fbae-4471-a3a1-e8c6179b4ac3')\"\n",
              "              title=\"Convert this dataframe to an interactive table.\"\n",
              "              style=\"display:none;\">\n",
              "        \n",
              "  <svg xmlns=\"http://www.w3.org/2000/svg\" height=\"24px\"viewBox=\"0 0 24 24\"\n",
              "       width=\"24px\">\n",
              "    <path d=\"M0 0h24v24H0V0z\" fill=\"none\"/>\n",
              "    <path d=\"M18.56 5.44l.94 2.06.94-2.06 2.06-.94-2.06-.94-.94-2.06-.94 2.06-2.06.94zm-11 1L8.5 8.5l.94-2.06 2.06-.94-2.06-.94L8.5 2.5l-.94 2.06-2.06.94zm10 10l.94 2.06.94-2.06 2.06-.94-2.06-.94-.94-2.06-.94 2.06-2.06.94z\"/><path d=\"M17.41 7.96l-1.37-1.37c-.4-.4-.92-.59-1.43-.59-.52 0-1.04.2-1.43.59L10.3 9.45l-7.72 7.72c-.78.78-.78 2.05 0 2.83L4 21.41c.39.39.9.59 1.41.59.51 0 1.02-.2 1.41-.59l7.78-7.78 2.81-2.81c.8-.78.8-2.07 0-2.86zM5.41 20L4 18.59l7.72-7.72 1.47 1.35L5.41 20z\"/>\n",
              "  </svg>\n",
              "      </button>\n",
              "      \n",
              "  <style>\n",
              "    .colab-df-container {\n",
              "      display:flex;\n",
              "      flex-wrap:wrap;\n",
              "      gap: 12px;\n",
              "    }\n",
              "\n",
              "    .colab-df-convert {\n",
              "      background-color: #E8F0FE;\n",
              "      border: none;\n",
              "      border-radius: 50%;\n",
              "      cursor: pointer;\n",
              "      display: none;\n",
              "      fill: #1967D2;\n",
              "      height: 32px;\n",
              "      padding: 0 0 0 0;\n",
              "      width: 32px;\n",
              "    }\n",
              "\n",
              "    .colab-df-convert:hover {\n",
              "      background-color: #E2EBFA;\n",
              "      box-shadow: 0px 1px 2px rgba(60, 64, 67, 0.3), 0px 1px 3px 1px rgba(60, 64, 67, 0.15);\n",
              "      fill: #174EA6;\n",
              "    }\n",
              "\n",
              "    [theme=dark] .colab-df-convert {\n",
              "      background-color: #3B4455;\n",
              "      fill: #D2E3FC;\n",
              "    }\n",
              "\n",
              "    [theme=dark] .colab-df-convert:hover {\n",
              "      background-color: #434B5C;\n",
              "      box-shadow: 0px 1px 3px 1px rgba(0, 0, 0, 0.15);\n",
              "      filter: drop-shadow(0px 1px 2px rgba(0, 0, 0, 0.3));\n",
              "      fill: #FFFFFF;\n",
              "    }\n",
              "  </style>\n",
              "\n",
              "      <script>\n",
              "        const buttonEl =\n",
              "          document.querySelector('#df-c6a3ffb8-fbae-4471-a3a1-e8c6179b4ac3 button.colab-df-convert');\n",
              "        buttonEl.style.display =\n",
              "          google.colab.kernel.accessAllowed ? 'block' : 'none';\n",
              "\n",
              "        async function convertToInteractive(key) {\n",
              "          const element = document.querySelector('#df-c6a3ffb8-fbae-4471-a3a1-e8c6179b4ac3');\n",
              "          const dataTable =\n",
              "            await google.colab.kernel.invokeFunction('convertToInteractive',\n",
              "                                                     [key], {});\n",
              "          if (!dataTable) return;\n",
              "\n",
              "          const docLinkHtml = 'Like what you see? Visit the ' +\n",
              "            '<a target=\"_blank\" href=https://colab.research.google.com/notebooks/data_table.ipynb>data table notebook</a>'\n",
              "            + ' to learn more about interactive tables.';\n",
              "          element.innerHTML = '';\n",
              "          dataTable['output_type'] = 'display_data';\n",
              "          await google.colab.output.renderOutput(dataTable, element);\n",
              "          const docLink = document.createElement('div');\n",
              "          docLink.innerHTML = docLinkHtml;\n",
              "          element.appendChild(docLink);\n",
              "        }\n",
              "      </script>\n",
              "    </div>\n",
              "  </div>\n",
              "  "
            ]
          },
          "metadata": {},
          "execution_count": 33
        }
      ],
      "source": [
        "table"
      ]
    },
    {
      "cell_type": "markdown",
      "id": "b8426084",
      "metadata": {
        "id": "b8426084"
      },
      "source": [
        "The entry that represents the entire input resides at position `[0,5]`. Since our sentence should be parsable by the grammar as the start symbol `S`, the following expression should hold if the string is generated by the grammar."
      ]
    },
    {
      "cell_type": "code",
      "execution_count": 34,
      "id": "88b67668",
      "metadata": {
        "colab": {
          "base_uri": "https://localhost:8080/"
        },
        "id": "88b67668",
        "outputId": "aab19f78-d7b7-49c5-9952-75b369313009"
      },
      "outputs": [
        {
          "output_type": "execute_result",
          "data": {
            "text/plain": [
              "True"
            ]
          },
          "metadata": {},
          "execution_count": 34
        }
      ],
      "source": [
        "'S' in table.iloc[0,5]"
      ]
    },
    {
      "cell_type": "markdown",
      "id": "cba1a200",
      "metadata": {
        "id": "cba1a200"
      },
      "source": [
        "# The CKY parsing algorithm\n",
        "\n",
        "The algorithm that we executed so far is a _recognizer_, not a parser – if the algorithm ends with the start symbol in `table[0,n]` – it means that the input is parsable, but it doesn't directly provide information about the input's parse trees.\n",
        "\n",
        "However, we want to know not only _whether_ the string is parsable, but _how_. We'd like the parse trees themselves. The necessary modification to the algorithm is to keep in the table entries not only a nonterminal that covers the substring, but the `split` value and production that was used as well.\n",
        "\n",
        "We will define another table called `back` to keep that information. A `back` table value will be a mapping from nonterminals into a set of values for `split` and the right-hand side of the rule that was used. We use a set because there may be several such split and production values. We initialize the entries to a dictionary mapping to empty sets."
      ]
    },
    {
      "cell_type": "code",
      "execution_count": 35,
      "id": "3d1129af",
      "metadata": {
        "colab": {
          "base_uri": "https://localhost:8080/",
          "height": 269
        },
        "id": "3d1129af",
        "outputId": "ae42e51e-6009-421b-dd5d-c96c1dc1c04f"
      },
      "outputs": [
        {
          "output_type": "execute_result",
          "data": {
            "text/plain": [
              "        one plus  two times three\n",
              "     0    1    2    3     4     5\n",
              "0  ---   {}   {}   {}    {}    {}\n",
              "1  ---  ---   {}   {}    {}    {}\n",
              "2  ---  ---  ---   {}    {}    {}\n",
              "3  ---  ---  ---  ---    {}    {}\n",
              "4  ---  ---  ---  ---   ---    {}\n",
              "5  ---  ---  ---  ---   ---   ---"
            ],
            "text/html": [
              "\n",
              "  <div id=\"df-da6f5ebc-7376-4cf2-9f9a-48067cf9ed76\">\n",
              "    <div class=\"colab-df-container\">\n",
              "      <div>\n",
              "<style scoped>\n",
              "    .dataframe tbody tr th:only-of-type {\n",
              "        vertical-align: middle;\n",
              "    }\n",
              "\n",
              "    .dataframe tbody tr th {\n",
              "        vertical-align: top;\n",
              "    }\n",
              "\n",
              "    .dataframe thead tr th {\n",
              "        text-align: left;\n",
              "    }\n",
              "</style>\n",
              "<table border=\"1\" class=\"dataframe\">\n",
              "  <thead>\n",
              "    <tr>\n",
              "      <th></th>\n",
              "      <th></th>\n",
              "      <th>one</th>\n",
              "      <th>plus</th>\n",
              "      <th>two</th>\n",
              "      <th>times</th>\n",
              "      <th>three</th>\n",
              "    </tr>\n",
              "    <tr>\n",
              "      <th></th>\n",
              "      <th>0</th>\n",
              "      <th>1</th>\n",
              "      <th>2</th>\n",
              "      <th>3</th>\n",
              "      <th>4</th>\n",
              "      <th>5</th>\n",
              "    </tr>\n",
              "  </thead>\n",
              "  <tbody>\n",
              "    <tr>\n",
              "      <th>0</th>\n",
              "      <td>---</td>\n",
              "      <td>{}</td>\n",
              "      <td>{}</td>\n",
              "      <td>{}</td>\n",
              "      <td>{}</td>\n",
              "      <td>{}</td>\n",
              "    </tr>\n",
              "    <tr>\n",
              "      <th>1</th>\n",
              "      <td>---</td>\n",
              "      <td>---</td>\n",
              "      <td>{}</td>\n",
              "      <td>{}</td>\n",
              "      <td>{}</td>\n",
              "      <td>{}</td>\n",
              "    </tr>\n",
              "    <tr>\n",
              "      <th>2</th>\n",
              "      <td>---</td>\n",
              "      <td>---</td>\n",
              "      <td>---</td>\n",
              "      <td>{}</td>\n",
              "      <td>{}</td>\n",
              "      <td>{}</td>\n",
              "    </tr>\n",
              "    <tr>\n",
              "      <th>3</th>\n",
              "      <td>---</td>\n",
              "      <td>---</td>\n",
              "      <td>---</td>\n",
              "      <td>---</td>\n",
              "      <td>{}</td>\n",
              "      <td>{}</td>\n",
              "    </tr>\n",
              "    <tr>\n",
              "      <th>4</th>\n",
              "      <td>---</td>\n",
              "      <td>---</td>\n",
              "      <td>---</td>\n",
              "      <td>---</td>\n",
              "      <td>---</td>\n",
              "      <td>{}</td>\n",
              "    </tr>\n",
              "    <tr>\n",
              "      <th>5</th>\n",
              "      <td>---</td>\n",
              "      <td>---</td>\n",
              "      <td>---</td>\n",
              "      <td>---</td>\n",
              "      <td>---</td>\n",
              "      <td>---</td>\n",
              "    </tr>\n",
              "  </tbody>\n",
              "</table>\n",
              "</div>\n",
              "      <button class=\"colab-df-convert\" onclick=\"convertToInteractive('df-da6f5ebc-7376-4cf2-9f9a-48067cf9ed76')\"\n",
              "              title=\"Convert this dataframe to an interactive table.\"\n",
              "              style=\"display:none;\">\n",
              "        \n",
              "  <svg xmlns=\"http://www.w3.org/2000/svg\" height=\"24px\"viewBox=\"0 0 24 24\"\n",
              "       width=\"24px\">\n",
              "    <path d=\"M0 0h24v24H0V0z\" fill=\"none\"/>\n",
              "    <path d=\"M18.56 5.44l.94 2.06.94-2.06 2.06-.94-2.06-.94-.94-2.06-.94 2.06-2.06.94zm-11 1L8.5 8.5l.94-2.06 2.06-.94-2.06-.94L8.5 2.5l-.94 2.06-2.06.94zm10 10l.94 2.06.94-2.06 2.06-.94-2.06-.94-.94-2.06-.94 2.06-2.06.94z\"/><path d=\"M17.41 7.96l-1.37-1.37c-.4-.4-.92-.59-1.43-.59-.52 0-1.04.2-1.43.59L10.3 9.45l-7.72 7.72c-.78.78-.78 2.05 0 2.83L4 21.41c.39.39.9.59 1.41.59.51 0 1.02-.2 1.41-.59l7.78-7.78 2.81-2.81c.8-.78.8-2.07 0-2.86zM5.41 20L4 18.59l7.72-7.72 1.47 1.35L5.41 20z\"/>\n",
              "  </svg>\n",
              "      </button>\n",
              "      \n",
              "  <style>\n",
              "    .colab-df-container {\n",
              "      display:flex;\n",
              "      flex-wrap:wrap;\n",
              "      gap: 12px;\n",
              "    }\n",
              "\n",
              "    .colab-df-convert {\n",
              "      background-color: #E8F0FE;\n",
              "      border: none;\n",
              "      border-radius: 50%;\n",
              "      cursor: pointer;\n",
              "      display: none;\n",
              "      fill: #1967D2;\n",
              "      height: 32px;\n",
              "      padding: 0 0 0 0;\n",
              "      width: 32px;\n",
              "    }\n",
              "\n",
              "    .colab-df-convert:hover {\n",
              "      background-color: #E2EBFA;\n",
              "      box-shadow: 0px 1px 2px rgba(60, 64, 67, 0.3), 0px 1px 3px 1px rgba(60, 64, 67, 0.15);\n",
              "      fill: #174EA6;\n",
              "    }\n",
              "\n",
              "    [theme=dark] .colab-df-convert {\n",
              "      background-color: #3B4455;\n",
              "      fill: #D2E3FC;\n",
              "    }\n",
              "\n",
              "    [theme=dark] .colab-df-convert:hover {\n",
              "      background-color: #434B5C;\n",
              "      box-shadow: 0px 1px 3px 1px rgba(0, 0, 0, 0.15);\n",
              "      filter: drop-shadow(0px 1px 2px rgba(0, 0, 0, 0.3));\n",
              "      fill: #FFFFFF;\n",
              "    }\n",
              "  </style>\n",
              "\n",
              "      <script>\n",
              "        const buttonEl =\n",
              "          document.querySelector('#df-da6f5ebc-7376-4cf2-9f9a-48067cf9ed76 button.colab-df-convert');\n",
              "        buttonEl.style.display =\n",
              "          google.colab.kernel.accessAllowed ? 'block' : 'none';\n",
              "\n",
              "        async function convertToInteractive(key) {\n",
              "          const element = document.querySelector('#df-da6f5ebc-7376-4cf2-9f9a-48067cf9ed76');\n",
              "          const dataTable =\n",
              "            await google.colab.kernel.invokeFunction('convertToInteractive',\n",
              "                                                     [key], {});\n",
              "          if (!dataTable) return;\n",
              "\n",
              "          const docLinkHtml = 'Like what you see? Visit the ' +\n",
              "            '<a target=\"_blank\" href=https://colab.research.google.com/notebooks/data_table.ipynb>data table notebook</a>'\n",
              "            + ' to learn more about interactive tables.';\n",
              "          element.innerHTML = '';\n",
              "          dataTable['output_type'] = 'display_data';\n",
              "          await google.colab.output.renderOutput(dataTable, element);\n",
              "          const docLink = document.createElement('div');\n",
              "          docLink.innerHTML = docLinkHtml;\n",
              "          element.appendChild(docLink);\n",
              "        }\n",
              "      </script>\n",
              "    </div>\n",
              "  </div>\n",
              "  "
            ]
          },
          "metadata": {},
          "execution_count": 35
        }
      ],
      "source": [
        "def empty():\n",
        "    return defaultdict(set)\n",
        "\n",
        "back_data = [\n",
        "        ['---',  empty(),  empty(),  empty(),  empty(),  empty()],\n",
        "        ['---',  '---',    empty(),  empty(),  empty(),  empty()],\n",
        "        ['---',  '---',    '---',    empty(),  empty(),  empty()],\n",
        "        ['---',  '---',    '---',    '---',    empty(),  empty()],\n",
        "        ['---',  '---',    '---',    '---',    '---',    empty()],\n",
        "        ['---',  '---',    '---',    '---',    '---',    '---'],\n",
        "]\n",
        "\n",
        "back = pd.DataFrame(back_data, columns=words, index=list('012345'))\n",
        "back.columns = pd.MultiIndex.from_arrays([back.columns] + [list('012345')])\n",
        "back"
      ]
    },
    {
      "cell_type": "markdown",
      "id": "a961b9ff",
      "metadata": {
        "id": "a961b9ff"
      },
      "source": [
        "Recall (lines 8-12) that we update the `table` every time we find a rule $A\\longrightarrow BC$ and `split` such that\n",
        "\n",
        "```\n",
        " 9.                          A -> B C in grammar\n",
        "10.                          and B in T[i, split]\n",
        "11.                          and C in T[split, j]:\n",
        "```\n",
        "\n",
        "In addition to updating `table`, we can also then add to `back` information about `split` and the rule `A -> B C`. We augment the algorithm with a new line 12.5 like this:\n",
        "\n",
        "```\n",
        "12.                      add A to T[i, j]\n",
        "12.5.                    add <split, B, C> to back[i, j, A]\n",
        "```\n",
        "\n",
        "For example, for `i = 0`, `split = 1`, and `j = 2` and the found rule `SOP -> S ADD`:"
      ]
    },
    {
      "cell_type": "code",
      "execution_count": 36,
      "id": "1bfe9960",
      "metadata": {
        "colab": {
          "base_uri": "https://localhost:8080/",
          "height": 269
        },
        "id": "1bfe9960",
        "outputId": "12dbea2f-d368-4b39-e7d6-ff0370003504"
      },
      "outputs": [
        {
          "output_type": "execute_result",
          "data": {
            "text/plain": [
              "        one                        plus  two times three\n",
              "     0    1                           2    3     4     5\n",
              "0  ---   {}  {'SOP': {(1, 'S', 'ADD')}}   {}    {}    {}\n",
              "1  ---  ---                          {}   {}    {}    {}\n",
              "2  ---  ---                         ---   {}    {}    {}\n",
              "3  ---  ---                         ---  ---    {}    {}\n",
              "4  ---  ---                         ---  ---   ---    {}\n",
              "5  ---  ---                         ---  ---   ---   ---"
            ],
            "text/html": [
              "\n",
              "  <div id=\"df-b4f9a8b5-82f1-47bf-8c11-7b8a274e2a5a\">\n",
              "    <div class=\"colab-df-container\">\n",
              "      <div>\n",
              "<style scoped>\n",
              "    .dataframe tbody tr th:only-of-type {\n",
              "        vertical-align: middle;\n",
              "    }\n",
              "\n",
              "    .dataframe tbody tr th {\n",
              "        vertical-align: top;\n",
              "    }\n",
              "\n",
              "    .dataframe thead tr th {\n",
              "        text-align: left;\n",
              "    }\n",
              "</style>\n",
              "<table border=\"1\" class=\"dataframe\">\n",
              "  <thead>\n",
              "    <tr>\n",
              "      <th></th>\n",
              "      <th></th>\n",
              "      <th>one</th>\n",
              "      <th>plus</th>\n",
              "      <th>two</th>\n",
              "      <th>times</th>\n",
              "      <th>three</th>\n",
              "    </tr>\n",
              "    <tr>\n",
              "      <th></th>\n",
              "      <th>0</th>\n",
              "      <th>1</th>\n",
              "      <th>2</th>\n",
              "      <th>3</th>\n",
              "      <th>4</th>\n",
              "      <th>5</th>\n",
              "    </tr>\n",
              "  </thead>\n",
              "  <tbody>\n",
              "    <tr>\n",
              "      <th>0</th>\n",
              "      <td>---</td>\n",
              "      <td>{}</td>\n",
              "      <td>{'SOP': {(1, 'S', 'ADD')}}</td>\n",
              "      <td>{}</td>\n",
              "      <td>{}</td>\n",
              "      <td>{}</td>\n",
              "    </tr>\n",
              "    <tr>\n",
              "      <th>1</th>\n",
              "      <td>---</td>\n",
              "      <td>---</td>\n",
              "      <td>{}</td>\n",
              "      <td>{}</td>\n",
              "      <td>{}</td>\n",
              "      <td>{}</td>\n",
              "    </tr>\n",
              "    <tr>\n",
              "      <th>2</th>\n",
              "      <td>---</td>\n",
              "      <td>---</td>\n",
              "      <td>---</td>\n",
              "      <td>{}</td>\n",
              "      <td>{}</td>\n",
              "      <td>{}</td>\n",
              "    </tr>\n",
              "    <tr>\n",
              "      <th>3</th>\n",
              "      <td>---</td>\n",
              "      <td>---</td>\n",
              "      <td>---</td>\n",
              "      <td>---</td>\n",
              "      <td>{}</td>\n",
              "      <td>{}</td>\n",
              "    </tr>\n",
              "    <tr>\n",
              "      <th>4</th>\n",
              "      <td>---</td>\n",
              "      <td>---</td>\n",
              "      <td>---</td>\n",
              "      <td>---</td>\n",
              "      <td>---</td>\n",
              "      <td>{}</td>\n",
              "    </tr>\n",
              "    <tr>\n",
              "      <th>5</th>\n",
              "      <td>---</td>\n",
              "      <td>---</td>\n",
              "      <td>---</td>\n",
              "      <td>---</td>\n",
              "      <td>---</td>\n",
              "      <td>---</td>\n",
              "    </tr>\n",
              "  </tbody>\n",
              "</table>\n",
              "</div>\n",
              "      <button class=\"colab-df-convert\" onclick=\"convertToInteractive('df-b4f9a8b5-82f1-47bf-8c11-7b8a274e2a5a')\"\n",
              "              title=\"Convert this dataframe to an interactive table.\"\n",
              "              style=\"display:none;\">\n",
              "        \n",
              "  <svg xmlns=\"http://www.w3.org/2000/svg\" height=\"24px\"viewBox=\"0 0 24 24\"\n",
              "       width=\"24px\">\n",
              "    <path d=\"M0 0h24v24H0V0z\" fill=\"none\"/>\n",
              "    <path d=\"M18.56 5.44l.94 2.06.94-2.06 2.06-.94-2.06-.94-.94-2.06-.94 2.06-2.06.94zm-11 1L8.5 8.5l.94-2.06 2.06-.94-2.06-.94L8.5 2.5l-.94 2.06-2.06.94zm10 10l.94 2.06.94-2.06 2.06-.94-2.06-.94-.94-2.06-.94 2.06-2.06.94z\"/><path d=\"M17.41 7.96l-1.37-1.37c-.4-.4-.92-.59-1.43-.59-.52 0-1.04.2-1.43.59L10.3 9.45l-7.72 7.72c-.78.78-.78 2.05 0 2.83L4 21.41c.39.39.9.59 1.41.59.51 0 1.02-.2 1.41-.59l7.78-7.78 2.81-2.81c.8-.78.8-2.07 0-2.86zM5.41 20L4 18.59l7.72-7.72 1.47 1.35L5.41 20z\"/>\n",
              "  </svg>\n",
              "      </button>\n",
              "      \n",
              "  <style>\n",
              "    .colab-df-container {\n",
              "      display:flex;\n",
              "      flex-wrap:wrap;\n",
              "      gap: 12px;\n",
              "    }\n",
              "\n",
              "    .colab-df-convert {\n",
              "      background-color: #E8F0FE;\n",
              "      border: none;\n",
              "      border-radius: 50%;\n",
              "      cursor: pointer;\n",
              "      display: none;\n",
              "      fill: #1967D2;\n",
              "      height: 32px;\n",
              "      padding: 0 0 0 0;\n",
              "      width: 32px;\n",
              "    }\n",
              "\n",
              "    .colab-df-convert:hover {\n",
              "      background-color: #E2EBFA;\n",
              "      box-shadow: 0px 1px 2px rgba(60, 64, 67, 0.3), 0px 1px 3px 1px rgba(60, 64, 67, 0.15);\n",
              "      fill: #174EA6;\n",
              "    }\n",
              "\n",
              "    [theme=dark] .colab-df-convert {\n",
              "      background-color: #3B4455;\n",
              "      fill: #D2E3FC;\n",
              "    }\n",
              "\n",
              "    [theme=dark] .colab-df-convert:hover {\n",
              "      background-color: #434B5C;\n",
              "      box-shadow: 0px 1px 3px 1px rgba(0, 0, 0, 0.15);\n",
              "      filter: drop-shadow(0px 1px 2px rgba(0, 0, 0, 0.3));\n",
              "      fill: #FFFFFF;\n",
              "    }\n",
              "  </style>\n",
              "\n",
              "      <script>\n",
              "        const buttonEl =\n",
              "          document.querySelector('#df-b4f9a8b5-82f1-47bf-8c11-7b8a274e2a5a button.colab-df-convert');\n",
              "        buttonEl.style.display =\n",
              "          google.colab.kernel.accessAllowed ? 'block' : 'none';\n",
              "\n",
              "        async function convertToInteractive(key) {\n",
              "          const element = document.querySelector('#df-b4f9a8b5-82f1-47bf-8c11-7b8a274e2a5a');\n",
              "          const dataTable =\n",
              "            await google.colab.kernel.invokeFunction('convertToInteractive',\n",
              "                                                     [key], {});\n",
              "          if (!dataTable) return;\n",
              "\n",
              "          const docLinkHtml = 'Like what you see? Visit the ' +\n",
              "            '<a target=\"_blank\" href=https://colab.research.google.com/notebooks/data_table.ipynb>data table notebook</a>'\n",
              "            + ' to learn more about interactive tables.';\n",
              "          element.innerHTML = '';\n",
              "          dataTable['output_type'] = 'display_data';\n",
              "          await google.colab.output.renderOutput(dataTable, element);\n",
              "          const docLink = document.createElement('div');\n",
              "          docLink.innerHTML = docLinkHtml;\n",
              "          element.appendChild(docLink);\n",
              "        }\n",
              "      </script>\n",
              "    </div>\n",
              "  </div>\n",
              "  "
            ]
          },
          "metadata": {},
          "execution_count": 36
        }
      ],
      "source": [
        "back.iloc[0,2]['SOP'].add((1,'S','ADD'))\n",
        "back"
      ]
    },
    {
      "cell_type": "markdown",
      "id": "8ea1f95c",
      "metadata": {
        "deletable": false,
        "editable": false,
        "id": "8ea1f95c"
      },
      "source": [
        "Copy the statements in which you assigned a non-empty value into `table[i,j]` into the code cell below, starting from `j=3`. Then, instead of only assigning a non-terminal into `table[i,j]`, also fill the corresponding value of `back[i,j]`.\n",
        "\n",
        "(You can either re-run the assignments into `table[i,j]`, or comment them and run only the assignments into `back[i,j]`.)\n",
        "\n",
        "The dictionary in the final entry, `back[0,5]`, should map `S` onto a set with two elements because there are two possible ways to parse the input.\n",
        "\n",
        "<!--\n",
        "BEGIN QUESTION\n",
        "name: table_addition_rest_back\n",
        "-->"
      ]
    },
    {
      "cell_type": "code",
      "execution_count": 37,
      "id": "e853c14a",
      "metadata": {
        "id": "e853c14a"
      },
      "outputs": [],
      "source": [
        "#TODO -- update the back table\n",
        "back.iloc[0,2]['SOP'].add((1, 'S', 'ADD'))\n",
        "back.iloc[2, 4]['SOP'].add((3, 'S', 'MULT'))\n",
        "back.iloc[0, 3]['S'].add((2, 'SOP', 'S'))\n",
        "back.iloc[2, 5]['S'].add((4, 'SOP', 'S'))\n",
        "back.iloc[0, 4]['SOP'].add((3, 'S', 'MULT'))\n",
        "back.iloc[0, 5]['S'].add((2, 'SOP', 'S'))\n",
        "back.iloc[0, 5]['S'].add((4, 'SOP', 'S'))"
      ]
    },
    {
      "cell_type": "code",
      "execution_count": 38,
      "id": "e495b9d9",
      "metadata": {
        "deletable": false,
        "editable": false,
        "colab": {
          "base_uri": "https://localhost:8080/",
          "height": 46
        },
        "id": "e495b9d9",
        "outputId": "4cf4e51d-8141-4b88-b384-5a6c57384ef0"
      },
      "outputs": [
        {
          "output_type": "execute_result",
          "data": {
            "text/plain": [
              "\n",
              "    All tests passed!\n",
              "    "
            ],
            "text/html": [
              "\n",
              "    \n",
              "    \n",
              "        <p>All tests passed!</p>\n",
              "    \n",
              "    "
            ]
          },
          "metadata": {},
          "execution_count": 38
        }
      ],
      "source": [
        "grader.check(\"table_addition_rest_back\")"
      ]
    },
    {
      "cell_type": "code",
      "execution_count": 39,
      "id": "0a51d84b",
      "metadata": {
        "colab": {
          "base_uri": "https://localhost:8080/",
          "height": 269
        },
        "id": "0a51d84b",
        "outputId": "cf055a74-bf78-4aee-a0da-a8b459587f1f"
      },
      "outputs": [
        {
          "output_type": "execute_result",
          "data": {
            "text/plain": [
              "        one                        plus                       two  \\\n",
              "     0    1                           2                         3   \n",
              "0  ---   {}  {'SOP': {(1, 'S', 'ADD')}}  {'S': {(2, 'SOP', 'S')}}   \n",
              "1  ---  ---                          {}                        {}   \n",
              "2  ---  ---                         ---                        {}   \n",
              "3  ---  ---                         ---                       ---   \n",
              "4  ---  ---                         ---                       ---   \n",
              "5  ---  ---                         ---                       ---   \n",
              "\n",
              "                         times                                      three  \n",
              "                             4                                          5  \n",
              "0  {'SOP': {(3, 'S', 'MULT')}}  {'S': {(2, 'SOP', 'S'), (4, 'SOP', 'S')}}  \n",
              "1                           {}                                         {}  \n",
              "2  {'SOP': {(3, 'S', 'MULT')}}                   {'S': {(4, 'SOP', 'S')}}  \n",
              "3                           {}                                         {}  \n",
              "4                          ---                                         {}  \n",
              "5                          ---                                        ---  "
            ],
            "text/html": [
              "\n",
              "  <div id=\"df-9705bf74-26a3-405d-acc5-c750285b2fe4\">\n",
              "    <div class=\"colab-df-container\">\n",
              "      <div>\n",
              "<style scoped>\n",
              "    .dataframe tbody tr th:only-of-type {\n",
              "        vertical-align: middle;\n",
              "    }\n",
              "\n",
              "    .dataframe tbody tr th {\n",
              "        vertical-align: top;\n",
              "    }\n",
              "\n",
              "    .dataframe thead tr th {\n",
              "        text-align: left;\n",
              "    }\n",
              "</style>\n",
              "<table border=\"1\" class=\"dataframe\">\n",
              "  <thead>\n",
              "    <tr>\n",
              "      <th></th>\n",
              "      <th></th>\n",
              "      <th>one</th>\n",
              "      <th>plus</th>\n",
              "      <th>two</th>\n",
              "      <th>times</th>\n",
              "      <th>three</th>\n",
              "    </tr>\n",
              "    <tr>\n",
              "      <th></th>\n",
              "      <th>0</th>\n",
              "      <th>1</th>\n",
              "      <th>2</th>\n",
              "      <th>3</th>\n",
              "      <th>4</th>\n",
              "      <th>5</th>\n",
              "    </tr>\n",
              "  </thead>\n",
              "  <tbody>\n",
              "    <tr>\n",
              "      <th>0</th>\n",
              "      <td>---</td>\n",
              "      <td>{}</td>\n",
              "      <td>{'SOP': {(1, 'S', 'ADD')}}</td>\n",
              "      <td>{'S': {(2, 'SOP', 'S')}}</td>\n",
              "      <td>{'SOP': {(3, 'S', 'MULT')}}</td>\n",
              "      <td>{'S': {(2, 'SOP', 'S'), (4, 'SOP', 'S')}}</td>\n",
              "    </tr>\n",
              "    <tr>\n",
              "      <th>1</th>\n",
              "      <td>---</td>\n",
              "      <td>---</td>\n",
              "      <td>{}</td>\n",
              "      <td>{}</td>\n",
              "      <td>{}</td>\n",
              "      <td>{}</td>\n",
              "    </tr>\n",
              "    <tr>\n",
              "      <th>2</th>\n",
              "      <td>---</td>\n",
              "      <td>---</td>\n",
              "      <td>---</td>\n",
              "      <td>{}</td>\n",
              "      <td>{'SOP': {(3, 'S', 'MULT')}}</td>\n",
              "      <td>{'S': {(4, 'SOP', 'S')}}</td>\n",
              "    </tr>\n",
              "    <tr>\n",
              "      <th>3</th>\n",
              "      <td>---</td>\n",
              "      <td>---</td>\n",
              "      <td>---</td>\n",
              "      <td>---</td>\n",
              "      <td>{}</td>\n",
              "      <td>{}</td>\n",
              "    </tr>\n",
              "    <tr>\n",
              "      <th>4</th>\n",
              "      <td>---</td>\n",
              "      <td>---</td>\n",
              "      <td>---</td>\n",
              "      <td>---</td>\n",
              "      <td>---</td>\n",
              "      <td>{}</td>\n",
              "    </tr>\n",
              "    <tr>\n",
              "      <th>5</th>\n",
              "      <td>---</td>\n",
              "      <td>---</td>\n",
              "      <td>---</td>\n",
              "      <td>---</td>\n",
              "      <td>---</td>\n",
              "      <td>---</td>\n",
              "    </tr>\n",
              "  </tbody>\n",
              "</table>\n",
              "</div>\n",
              "      <button class=\"colab-df-convert\" onclick=\"convertToInteractive('df-9705bf74-26a3-405d-acc5-c750285b2fe4')\"\n",
              "              title=\"Convert this dataframe to an interactive table.\"\n",
              "              style=\"display:none;\">\n",
              "        \n",
              "  <svg xmlns=\"http://www.w3.org/2000/svg\" height=\"24px\"viewBox=\"0 0 24 24\"\n",
              "       width=\"24px\">\n",
              "    <path d=\"M0 0h24v24H0V0z\" fill=\"none\"/>\n",
              "    <path d=\"M18.56 5.44l.94 2.06.94-2.06 2.06-.94-2.06-.94-.94-2.06-.94 2.06-2.06.94zm-11 1L8.5 8.5l.94-2.06 2.06-.94-2.06-.94L8.5 2.5l-.94 2.06-2.06.94zm10 10l.94 2.06.94-2.06 2.06-.94-2.06-.94-.94-2.06-.94 2.06-2.06.94z\"/><path d=\"M17.41 7.96l-1.37-1.37c-.4-.4-.92-.59-1.43-.59-.52 0-1.04.2-1.43.59L10.3 9.45l-7.72 7.72c-.78.78-.78 2.05 0 2.83L4 21.41c.39.39.9.59 1.41.59.51 0 1.02-.2 1.41-.59l7.78-7.78 2.81-2.81c.8-.78.8-2.07 0-2.86zM5.41 20L4 18.59l7.72-7.72 1.47 1.35L5.41 20z\"/>\n",
              "  </svg>\n",
              "      </button>\n",
              "      \n",
              "  <style>\n",
              "    .colab-df-container {\n",
              "      display:flex;\n",
              "      flex-wrap:wrap;\n",
              "      gap: 12px;\n",
              "    }\n",
              "\n",
              "    .colab-df-convert {\n",
              "      background-color: #E8F0FE;\n",
              "      border: none;\n",
              "      border-radius: 50%;\n",
              "      cursor: pointer;\n",
              "      display: none;\n",
              "      fill: #1967D2;\n",
              "      height: 32px;\n",
              "      padding: 0 0 0 0;\n",
              "      width: 32px;\n",
              "    }\n",
              "\n",
              "    .colab-df-convert:hover {\n",
              "      background-color: #E2EBFA;\n",
              "      box-shadow: 0px 1px 2px rgba(60, 64, 67, 0.3), 0px 1px 3px 1px rgba(60, 64, 67, 0.15);\n",
              "      fill: #174EA6;\n",
              "    }\n",
              "\n",
              "    [theme=dark] .colab-df-convert {\n",
              "      background-color: #3B4455;\n",
              "      fill: #D2E3FC;\n",
              "    }\n",
              "\n",
              "    [theme=dark] .colab-df-convert:hover {\n",
              "      background-color: #434B5C;\n",
              "      box-shadow: 0px 1px 3px 1px rgba(0, 0, 0, 0.15);\n",
              "      filter: drop-shadow(0px 1px 2px rgba(0, 0, 0, 0.3));\n",
              "      fill: #FFFFFF;\n",
              "    }\n",
              "  </style>\n",
              "\n",
              "      <script>\n",
              "        const buttonEl =\n",
              "          document.querySelector('#df-9705bf74-26a3-405d-acc5-c750285b2fe4 button.colab-df-convert');\n",
              "        buttonEl.style.display =\n",
              "          google.colab.kernel.accessAllowed ? 'block' : 'none';\n",
              "\n",
              "        async function convertToInteractive(key) {\n",
              "          const element = document.querySelector('#df-9705bf74-26a3-405d-acc5-c750285b2fe4');\n",
              "          const dataTable =\n",
              "            await google.colab.kernel.invokeFunction('convertToInteractive',\n",
              "                                                     [key], {});\n",
              "          if (!dataTable) return;\n",
              "\n",
              "          const docLinkHtml = 'Like what you see? Visit the ' +\n",
              "            '<a target=\"_blank\" href=https://colab.research.google.com/notebooks/data_table.ipynb>data table notebook</a>'\n",
              "            + ' to learn more about interactive tables.';\n",
              "          element.innerHTML = '';\n",
              "          dataTable['output_type'] = 'display_data';\n",
              "          await google.colab.output.renderOutput(dataTable, element);\n",
              "          const docLink = document.createElement('div');\n",
              "          docLink.innerHTML = docLinkHtml;\n",
              "          element.appendChild(docLink);\n",
              "        }\n",
              "      </script>\n",
              "    </div>\n",
              "  </div>\n",
              "  "
            ]
          },
          "metadata": {},
          "execution_count": 39
        }
      ],
      "source": [
        "back"
      ]
    },
    {
      "cell_type": "markdown",
      "id": "0f680661",
      "metadata": {
        "deletable": false,
        "editable": false,
        "id": "0f680661"
      },
      "source": [
        "Now, instead of only telling whether the input sentence is parsable or not, we can also construct the parse trees!\n",
        "\n",
        "The idea is as follows: we start from `back[0, 5]` with the entry for `S`. For each value in the set in that entry, we construct a parse tree whose root is `S`.\n",
        "\n",
        "Suppose that `back[0, 5]` contains: `{'S': {(k1, A1, B1), (k2, A2, B2)}}`. We'll reconstruct parse trees for each of the two options. Start with `(k1, A1, B1)`. We recursively construct all possible parse trees based on the `A1` nonterminal covering `[0, k1]` and all possible parse trees based on `B1` covering `[k1, 5]`. Then for each of the `A1` and `B1` trees, we construct a tree (using parentheses notation) of the form `(S (A1 ...) (B1 ...))`. We do the same for the other option `(k2, A2, B2)`. In this way, we'll generate all parse trees for the string.\n",
        "\n",
        "As it turns out, for the particular string we've been using, there is only one parse tree generable by each of the two options, so there are only two parse trees for the sentence.\n",
        "\n",
        "Start from `back[0, 5]`, and construct the two possible parse trees by using this method. Enter the two parses as `tree1` and `tree2` in the cell below.\n",
        "\n",
        "> Note that as a convention we don't put quotation marks around terminals when we use `nltk.Tree.fromstring`. For example, if the tree has root `S` and two terminals `one` and `two`, then we construct the parse using `tree = nltk.Tree.fromstring(\"(S one two)\")` instead of `tree = nltk.Tree.fromstring(\"(S 'one' 'two')\")`.\n",
        "\n",
        "<!--\n",
        "BEGIN QUESTION\n",
        "name: parse_trees\n",
        "-->"
      ]
    },
    {
      "cell_type": "code",
      "execution_count": 40,
      "id": "1213c6e4",
      "metadata": {
        "id": "1213c6e4"
      },
      "outputs": [],
      "source": [
        "#TODO -- complete the strings using bracket-notation\n",
        "tree1 = nltk.Tree.fromstring(\n",
        "    \"(S (SOP (S (SOP (S one) (ADD plus)) (S two)) (MULT times)) (S three))\"\n",
        ")\n",
        "tree2 = nltk.Tree.fromstring(\n",
        "    \"(S (SOP (S one) (ADD plus)) (S (SOP (S two) (MULT times)) (S three)))\"\n",
        ")"
      ]
    },
    {
      "cell_type": "code",
      "execution_count": 41,
      "id": "06697a53",
      "metadata": {
        "deletable": false,
        "editable": false,
        "colab": {
          "base_uri": "https://localhost:8080/",
          "height": 46
        },
        "id": "06697a53",
        "outputId": "a2f01515-e833-4c45-c6f5-290c5f411544"
      },
      "outputs": [
        {
          "output_type": "execute_result",
          "data": {
            "text/plain": [
              "\n",
              "    All tests passed!\n",
              "    "
            ],
            "text/html": [
              "\n",
              "    \n",
              "    \n",
              "        <p>All tests passed!</p>\n",
              "    \n",
              "    "
            ]
          },
          "metadata": {},
          "execution_count": 41
        }
      ],
      "source": [
        "grader.check(\"parse_trees\")"
      ]
    },
    {
      "cell_type": "markdown",
      "id": "5b4f7306",
      "metadata": {
        "id": "5b4f7306"
      },
      "source": [
        "Now let's check your parse trees. Are they the same as the parse trees returned by the NLTK parser?"
      ]
    },
    {
      "cell_type": "code",
      "execution_count": 42,
      "id": "1e67e83c",
      "metadata": {
        "colab": {
          "base_uri": "https://localhost:8080/"
        },
        "id": "1e67e83c",
        "outputId": "9473c995-7963-43b0-8235-7a4f8b5f73d4"
      },
      "outputs": [
        {
          "output_type": "stream",
          "name": "stdout",
          "text": [
            "                  S             \n",
            "               ___|__________    \n",
            "             SOP             |  \n",
            "          ____|________      |   \n",
            "         S             |     |  \n",
            "      ___|________     |     |   \n",
            "    SOP           |    |     |  \n",
            "  ___|___         |    |     |   \n",
            " S      ADD       S   MULT   S  \n",
            " |       |        |    |     |   \n",
            "one     plus     two times three\n",
            "\n",
            "              S                 \n",
            "      ________|________          \n",
            "     |                 S        \n",
            "     |             ____|_____    \n",
            "    SOP          SOP         |  \n",
            "  ___|___      ___|____      |   \n",
            " S      ADD   S       MULT   S  \n",
            " |       |    |        |     |   \n",
            "one     plus two     times three\n",
            "\n"
          ]
        }
      ],
      "source": [
        "tree1.pretty_print()\n",
        "tree2.pretty_print()"
      ]
    },
    {
      "cell_type": "markdown",
      "id": "8a868736",
      "metadata": {
        "id": "8a868736"
      },
      "source": [
        "Did you find the same trees as the NLTK parser did at the start of the lab?"
      ]
    },
    {
      "cell_type": "markdown",
      "id": "71b6e16e",
      "metadata": {
        "deletable": false,
        "editable": false,
        "id": "71b6e16e"
      },
      "source": [
        "These trees were parsed on the basis of the rules in `cnf_arithmetic_grammar`, a CNF version of `arithmetic_grammar` above, which replaced the rule `S -> S OP S` with rules\n",
        "\n",
        "* `S -> SOP S`\n",
        "* `SOP -> S ADD`\n",
        "* `SOP -> S SUB`\n",
        "* `SOP -> S MULT`\n",
        "\n",
        "A configuration like\n",
        "\n",
        "```\n",
        "(S (S ...x...) (OP (ADD ...y...)) (S ...z...))\n",
        "```\n",
        "\n",
        "from the original grammar thus corresponds to a configuration like\n",
        "\n",
        "```\n",
        "(S (SOP (S ...x...) (ADD ...y...)) (S ...z...))\n",
        "```\n",
        "\n",
        "from the CNF grammar.\n",
        "\n",
        "You should thus be able to reconstruct parses for the original grammar by \"undoing\" this change, replacing the latter configuration with the former. Reconstruct the two parse trees that the original grammar would have generated by undoing this change on `tree1` and `tree2`, and call them `tree1_reconstructed` and `tree2_reconstructed`.\n",
        "\n",
        "<!--\n",
        "BEGIN QUESTION\n",
        "name: parse_trees\n",
        "-->"
      ]
    },
    {
      "cell_type": "code",
      "execution_count": 43,
      "id": "504822b7",
      "metadata": {
        "id": "504822b7"
      },
      "outputs": [],
      "source": [
        "#TODO -- Reconstruct the trees by providing strings using bracket-notation\n",
        "tree1_reconstructed = nltk.Tree.fromstring(\n",
        "    \"(S (S (S one) (OP (ADD plus)) (S two)) (OP (MULT times)) (S three))\"\n",
        ")\n",
        "tree2_reconstructed = nltk.Tree.fromstring(\n",
        "    \"(S (S one) (OP (ADD plus)) (S (S two) (OP (MULT times)) (S three)))\"\n",
        ")"
      ]
    },
    {
      "cell_type": "code",
      "execution_count": 44,
      "id": "34158508",
      "metadata": {
        "deletable": false,
        "editable": false,
        "colab": {
          "base_uri": "https://localhost:8080/",
          "height": 46
        },
        "id": "34158508",
        "outputId": "a10c82fc-aea1-44c6-ebf7-c86928d4f6d1"
      },
      "outputs": [
        {
          "output_type": "execute_result",
          "data": {
            "text/plain": [
              "\n",
              "    All tests passed!\n",
              "    "
            ],
            "text/html": [
              "\n",
              "    \n",
              "    \n",
              "        <p>All tests passed!</p>\n",
              "    \n",
              "    "
            ]
          },
          "metadata": {},
          "execution_count": 44
        }
      ],
      "source": [
        "grader.check(\"parse_trees\")"
      ]
    },
    {
      "cell_type": "code",
      "execution_count": 45,
      "id": "d32e2728",
      "metadata": {
        "colab": {
          "base_uri": "https://localhost:8080/"
        },
        "id": "d32e2728",
        "outputId": "40e741d7-74e4-405d-8d85-77eeac71323a"
      },
      "outputs": [
        {
          "output_type": "stream",
          "name": "stdout",
          "text": [
            "          S             \n",
            "      ____|__________    \n",
            "     S         |     |  \n",
            "  ___|____     |     |   \n",
            " |   OP   |    OP    |  \n",
            " |   |    |    |     |   \n",
            " S  ADD   S   MULT   S  \n",
            " |   |    |    |     |   \n",
            "one plus two times three\n",
            "\n",
            "          S             \n",
            "  ________|____          \n",
            " |   |         S        \n",
            " |   |     ____|_____    \n",
            " |   OP   |    OP    |  \n",
            " |   |    |    |     |   \n",
            " S  ADD   S   MULT   S  \n",
            " |   |    |    |     |   \n",
            "one plus two times three\n",
            "\n"
          ]
        }
      ],
      "source": [
        "tree1_reconstructed.pretty_print()\n",
        "tree2_reconstructed.pretty_print()"
      ]
    },
    {
      "cell_type": "markdown",
      "id": "9cb90256",
      "metadata": {
        "id": "9cb90256"
      },
      "source": [
        "There. That looks much better."
      ]
    },
    {
      "cell_type": "markdown",
      "id": "dd94f54a",
      "metadata": {
        "deletable": false,
        "editable": false,
        "id": "dd94f54a"
      },
      "source": [
        "<!-- BEGIN QUESTION -->\n",
        "\n",
        "# Lab debrief\n",
        "\n",
        "**Question:** We're interested in any thoughts your group has about this lab so that we can improve this lab for later years, and to inform later labs for this year. Please list any issues that arose or comments you have to improve the lab. Useful things to comment might include the following:\n",
        "\n",
        "* Was the lab too long or too short?\n",
        "* Were the readings appropriate for the lab?\n",
        "* Was it clear (at least after you completed the lab) what the points of the exercises were?\n",
        "* Are there additions or changes you think would make the lab better?\n",
        "\n",
        "but you should comment on whatever aspects you found especially positive or negative.\n",
        "\n",
        "<!--\n",
        "BEGIN QUESTION\n",
        "name: open_response_debrief\n",
        "manual: true\n",
        "-->"
      ]
    },
    {
      "cell_type": "markdown",
      "id": "21fe61f2",
      "metadata": {
        "id": "21fe61f2"
      },
      "source": [
        "_Type your answer here, replacing this text._"
      ]
    },
    {
      "cell_type": "markdown",
      "id": "8c6bf429",
      "metadata": {
        "id": "8c6bf429"
      },
      "source": [
        "<!-- END QUESTION -->\n",
        "\n",
        "\n",
        "\n",
        "# End of lab 3-2"
      ]
    },
    {
      "cell_type": "markdown",
      "id": "9f3fa4fe",
      "metadata": {
        "deletable": false,
        "editable": false,
        "id": "9f3fa4fe"
      },
      "source": [
        "---\n",
        "\n",
        "To double-check your work, the cell below will rerun all of the autograder tests."
      ]
    },
    {
      "cell_type": "code",
      "execution_count": 46,
      "id": "2f017fce",
      "metadata": {
        "deletable": false,
        "editable": false,
        "id": "2f017fce",
        "colab": {
          "base_uri": "https://localhost:8080/",
          "height": 303
        },
        "outputId": "d4347c86-2079-4bac-a317-b3ef0ca53ac4"
      },
      "outputs": [
        {
          "output_type": "execute_result",
          "data": {
            "text/plain": [
              "parse_trees:\n",
              "\n",
              "    All tests passed!\n",
              "    \n",
              "\n",
              "table_addition_1:\n",
              "\n",
              "    All tests passed!\n",
              "    \n",
              "\n",
              "table_addition_2:\n",
              "\n",
              "    All tests passed!\n",
              "    \n",
              "\n",
              "table_addition_3:\n",
              "\n",
              "    All tests passed!\n",
              "    \n",
              "\n",
              "table_addition_rest:\n",
              "\n",
              "    All tests passed!\n",
              "    \n",
              "\n",
              "table_addition_rest_back:\n",
              "\n",
              "    All tests passed!\n",
              "    \n"
            ],
            "text/html": [
              "<p><strong>parse_trees:</strong></p>\n",
              "\n",
              "    \n",
              "    \n",
              "        <p>All tests passed!</p>\n",
              "    \n",
              "    \n",
              "\n",
              "<p><strong>table_addition_1:</strong></p>\n",
              "\n",
              "    \n",
              "    \n",
              "        <p>All tests passed!</p>\n",
              "    \n",
              "    \n",
              "\n",
              "<p><strong>table_addition_2:</strong></p>\n",
              "\n",
              "    \n",
              "    \n",
              "        <p>All tests passed!</p>\n",
              "    \n",
              "    \n",
              "\n",
              "<p><strong>table_addition_3:</strong></p>\n",
              "\n",
              "    \n",
              "    \n",
              "        <p>All tests passed!</p>\n",
              "    \n",
              "    \n",
              "\n",
              "<p><strong>table_addition_rest:</strong></p>\n",
              "\n",
              "    \n",
              "    \n",
              "        <p>All tests passed!</p>\n",
              "    \n",
              "    \n",
              "\n",
              "<p><strong>table_addition_rest_back:</strong></p>\n",
              "\n",
              "    \n",
              "    \n",
              "        <p>All tests passed!</p>\n",
              "    \n",
              "    \n",
              "\n"
            ]
          },
          "metadata": {},
          "execution_count": 46
        }
      ],
      "source": [
        "grader.check_all()"
      ]
    }
  ],
  "metadata": {
    "colab": {
      "provenance": []
    },
    "kernelspec": {
      "display_name": "Python 3",
      "language": "python",
      "name": "python3"
    },
    "language_info": {
      "codemirror_mode": {
        "name": "ipython",
        "version": 3
      },
      "file_extension": ".py",
      "mimetype": "text/x-python",
      "name": "python",
      "nbconvert_exporter": "python",
      "pygments_lexer": "ipython3",
      "version": "3.8.3"
    },
    "title": "CS236299 Lab 3-2: Context-free parsing"
  },
  "nbformat": 4,
  "nbformat_minor": 5
}