{
  "cells": [
    {
      "cell_type": "code",
      "execution_count": null,
      "id": "24503e62",
      "metadata": {
        "deletable": false,
        "editable": false,
        "jupyter": {
          "outputs_hidden": true,
          "source_hidden": true
        },
        "colab": {
          "base_uri": "https://localhost:8080/"
        },
        "id": "24503e62",
        "outputId": "3046adcc-c05c-476f-d6e4-d7faff412c0d"
      },
      "outputs": [
        {
          "output_type": "stream",
          "name": "stdout",
          "text": [
            "\n"
          ]
        }
      ],
      "source": [
        "# Please do not change this cell because some hidden tests might depend on it.\n",
        "import os\n",
        "\n",
        "# Otter grader does not handle ! commands well, so we define and use our\n",
        "# own function to execute shell commands.\n",
        "def shell(commands, warn=True):\n",
        "    \"\"\"Executes the string `commands` as a sequence of shell commands.\n",
        "\n",
        "       Prints the result to stdout and returns the exit status.\n",
        "       Provides a printed warning on non-zero exit status unless `warn`\n",
        "       flag is unset.\n",
        "    \"\"\"\n",
        "    file = os.popen(commands)\n",
        "    print (file.read().rstrip('\\n'))\n",
        "    exit_status = file.close()\n",
        "    if warn and exit_status != None:\n",
        "        print(f\"Completed with errors. Exit status: {exit_status}\\n\")\n",
        "    return exit_status\n",
        "\n",
        "shell(\"\"\"\n",
        "ls requirements.txt >/dev/null 2>&1\n",
        "if [ ! $? = 0 ]; then\n",
        " rm -rf .tmp\n",
        " git clone https://github.com/cs236299-2023-spring/lab4-2.git .tmp\n",
        " mv .tmp/tests ./\n",
        " mv .tmp/requirements.txt ./\n",
        " rm -rf .tmp\n",
        "fi\n",
        "pip install -q -r requirements.txt\n",
        "\"\"\")"
      ]
    },
    {
      "cell_type": "code",
      "execution_count": null,
      "id": "7ab63e3b",
      "metadata": {
        "deletable": false,
        "editable": false,
        "id": "7ab63e3b"
      },
      "outputs": [],
      "source": [
        "# Initialize Otter\n",
        "import otter\n",
        "grader = otter.Notebook()"
      ]
    },
    {
      "cell_type": "markdown",
      "id": "b720715e",
      "metadata": {
        "id": "b720715e",
        "tags": [
          "remove_for_latex"
        ]
      },
      "source": [
        "# Course 236299\n",
        "## Lab 4-2 - Semantic interpretation with SQL"
      ]
    },
    {
      "cell_type": "markdown",
      "id": "c56fe9c7",
      "metadata": {
        "id": "c56fe9c7"
      },
      "source": [
        "In the previous lab, you built a syntactic-semantic grammar for semantic interpretation of natural language into First-Order Logic (FOL) expressions.\n",
        "\n",
        "In this lab, you'll use a similar approach for a standard NLP task, natural-language database query. You'll use the compositional semantics methods of the previous lab to convert natural-language queries into SQL queries, which can be actually executed against a SQL database. Familiarity with this task will be useful in the fourth project segment, where you'll be building systems for natural-language queries against the ATIS flight information database."
      ]
    },
    {
      "cell_type": "markdown",
      "id": "4089b516",
      "metadata": {
        "id": "4089b516"
      },
      "source": [
        "# Preparation"
      ]
    },
    {
      "cell_type": "code",
      "execution_count": null,
      "id": "9b0bcf18",
      "metadata": {
        "deletable": false,
        "editable": false,
        "id": "9b0bcf18"
      },
      "outputs": [],
      "source": [
        "import os\n",
        "import pprint\n",
        "import sys\n",
        "import wget\n",
        "\n",
        "import nltk\n",
        "import sqlite3"
      ]
    },
    {
      "cell_type": "code",
      "execution_count": null,
      "id": "dde8607b",
      "metadata": {
        "id": "dde8607b"
      },
      "outputs": [],
      "source": [
        "# Download code for augmented grammars\n",
        "remote_script_dir = \"https://raw.githubusercontent.com/nlp-236299/data/master/scripts/\"\n",
        "local_script_dir = \"./scripts/\"\n",
        "\n",
        "# Create and search the local script directory\n",
        "os.makedirs(local_script_dir, exist_ok=True)\n",
        "sys.path.insert(1, local_script_dir)\n",
        "\n",
        "# Download files to script directory\n",
        "wget.download(remote_script_dir + \"trees/transform.py\", out=local_script_dir)\n",
        "\n",
        "# Import functions for transforming augmented grammars\n",
        "import transform as xform"
      ]
    },
    {
      "cell_type": "markdown",
      "id": "9850428c",
      "metadata": {
        "id": "9850428c"
      },
      "source": [
        "Consider the phrase \"flights from Boston to New York\". The representation of the property denoted by this phrase might be (as per last lab),\n",
        "\n",
        "$$\\lambda x. Flight(x) \\land Origin(x, Boston) \\land Destination(x, New York)$$\n",
        "\n",
        "If instead we had a SQL database with a `flight` relation with fields `flight_id`, `origin`, and `destination`, we might translate this phrase into the following query\n",
        "```\n",
        "SELECT flight_id from flight WHERE origin == \"Boston\" and destination == \"NewYork\"\n",
        "```\n",
        "which returns the flight IDs of all the \"flights from Boston to New York\".\n",
        "\n",
        "Then, we will be able to run the generated SQL query on a database of flights, to actually answer the query.\n",
        "This process can be described as:\n",
        "\n",
        ">    NL query ⟹ SQL query ⟹ response\n",
        "\n",
        "We will focus on the first transformation (NL question ⟹ SQL query) using a syntactic-semantic grammar. The second transformation (SQL query ⟹ response) will be executed automatically by the database."
      ]
    },
    {
      "cell_type": "markdown",
      "id": "48865875",
      "metadata": {
        "id": "48865875"
      },
      "source": [
        "# Establishing the SQL database\n",
        "\n",
        "First, we will initialize the SQL dataset. We will populate the dataset similarly to the flight world of the previous lab.\n",
        "\n",
        "We initialize the same constants as in the previous lab:"
      ]
    },
    {
      "cell_type": "code",
      "execution_count": null,
      "id": "3df38376",
      "metadata": {
        "id": "3df38376"
      },
      "outputs": [],
      "source": [
        "# Constants\n",
        "Boston = \"Boston\"\n",
        "NewYork = \"New York\"\n",
        "TelAviv = \"Tel Aviv\"\n",
        "DL10 = \"DL10\"\n",
        "DL11 = \"DL11\"\n",
        "DL13 = \"DL13\"\n",
        "LY01 = \"LY01\"\n",
        "LY12 = \"LY12\"\n",
        "Morning = \"Morning\"\n",
        "Evening = \"Evening\""
      ]
    },
    {
      "cell_type": "markdown",
      "id": "b5cad771",
      "metadata": {
        "id": "b5cad771"
      },
      "source": [
        "We populate the SQL dataset using a single table called **Flights**:\n",
        "\n",
        "**Flights**:\n",
        "\n",
        "| flightid \t| origin  \t| destination \t| departureTime \t| arrivalTime \t|\n",
        "|----------\t|---------\t|-------------\t|---------------\t|-------------\t|\n",
        "| DL10     \t| Boston  \t| NewYork     \t| Morning       \t| Evening     \t|\n",
        "| DL11     \t| Boston  \t| TelAviv     \t| Evening       \t| Morning     \t|\n",
        "| DL13     \t| NewYork \t| Boston      \t| Evening       \t| Evening     \t|\n",
        "| LY01     \t| TelAviv \t| NewYork     \t| Evening       \t| Morning     \t|\n",
        "| LY12     \t| NewYork \t| TelAviv     \t| Morning       \t| Evening     \t|\n",
        "\n",
        "> To reset the database when working on the lab, you can re-run the cell below.\n"
      ]
    },
    {
      "cell_type": "code",
      "execution_count": null,
      "id": "9aa1806a",
      "metadata": {
        "id": "9aa1806a"
      },
      "outputs": [],
      "source": [
        "def establish_database():\n",
        "    conn = sqlite3.connect(\":memory:\")\n",
        "    c = conn.cursor()\n",
        "\n",
        "    c.execute(\n",
        "        \"CREATE TABLE Flights (flightid TEXT, origin TEXT, destination TEXT, departureTime TEXT, arrivalTime TEXT)\"\n",
        "    )\n",
        "    c.executemany(\n",
        "        \"INSERT INTO Flights VALUES (?, ?, ?, ?, ?)\",\n",
        "        [\n",
        "            (DL10, Boston, NewYork, Morning, Evening),\n",
        "            (DL11, Boston, TelAviv, Evening, Morning),\n",
        "            (DL13, NewYork, Boston, Evening, Evening),\n",
        "            (LY01, TelAviv, NewYork, Evening, Morning),\n",
        "        ],\n",
        "    )\n",
        "    return c\n",
        "\n",
        "c = establish_database()"
      ]
    },
    {
      "cell_type": "markdown",
      "id": "5598c267",
      "metadata": {
        "id": "5598c267"
      },
      "source": [
        "Let's query the table, to verify that it contains the proper rows:"
      ]
    },
    {
      "cell_type": "code",
      "execution_count": null,
      "id": "d418b9cf",
      "metadata": {
        "colab": {
          "base_uri": "https://localhost:8080/"
        },
        "id": "d418b9cf",
        "outputId": "ce269252-a202-4b25-82ed-208cad723810"
      },
      "outputs": [
        {
          "output_type": "stream",
          "name": "stdout",
          "text": [
            "Flights:\n",
            "('DL10', 'Boston', 'New York', 'Morning', 'Evening')\n",
            "('DL11', 'Boston', 'Tel Aviv', 'Evening', 'Morning')\n",
            "('DL13', 'New York', 'Boston', 'Evening', 'Evening')\n",
            "('LY01', 'Tel Aviv', 'New York', 'Evening', 'Morning')\n"
          ]
        }
      ],
      "source": [
        "print('Flights:')\n",
        "res = c.execute('SELECT * FROM Flights')\n",
        "for row in res:\n",
        "  print(row)"
      ]
    },
    {
      "cell_type": "markdown",
      "id": "d7a7e68f",
      "metadata": {
        "deletable": false,
        "editable": false,
        "id": "d7a7e68f"
      },
      "source": [
        "Complete the initialization of the database (using `c.execute('INSERT INTO...')`), for the last flight:\n",
        "\n",
        "| flightid \t| origin  \t| destination \t| departureTime \t| arrivalTime \t|\n",
        "|----------\t|---------\t|-------------\t|---------------\t|-------------\t|\n",
        "| LY12     \t| NewYork \t| TelAviv     \t| Morning       \t| Evening     \t|\n",
        "\n",
        "> **Hint:** Function `establish_database` provides an example of how to insert into the database.\n",
        "\n",
        "<!--\n",
        "BEGIN QUESTION\n",
        "name: add_flight\n",
        "-->"
      ]
    },
    {
      "cell_type": "code",
      "execution_count": null,
      "id": "3e67dfd1",
      "metadata": {
        "colab": {
          "base_uri": "https://localhost:8080/"
        },
        "id": "3e67dfd1",
        "outputId": "153af8f9-a468-417b-dd0e-705e8b6ba0a2"
      },
      "outputs": [
        {
          "output_type": "execute_result",
          "data": {
            "text/plain": [
              "<sqlite3.Cursor at 0x7ff0cfd69ec0>"
            ]
          },
          "metadata": {},
          "execution_count": 9
        }
      ],
      "source": [
        "#TODO - Insert the final flight into the table\n",
        "#             Note that you should either use the string \"New York\" (with space),\n",
        "#             or the Python object `NewYork` (without space), but don't use \"NewYork\".\n",
        "c.execute(\"INSERT INTO Flights VALUES (?, ?, ?, ?, ?)\", (LY12, NewYork, TelAviv, Morning, Evening))"
      ]
    },
    {
      "cell_type": "code",
      "execution_count": null,
      "id": "dd7d1dae",
      "metadata": {
        "deletable": false,
        "editable": false,
        "colab": {
          "base_uri": "https://localhost:8080/",
          "height": 46
        },
        "id": "dd7d1dae",
        "outputId": "65f336d5-ae40-4ef2-a601-bf4cca4ca56d"
      },
      "outputs": [
        {
          "output_type": "execute_result",
          "data": {
            "text/plain": [
              "\n",
              "    All tests passed!\n",
              "    "
            ],
            "text/html": [
              "\n",
              "    \n",
              "    \n",
              "        <p>All tests passed!</p>\n",
              "    \n",
              "    "
            ]
          },
          "metadata": {},
          "execution_count": 10
        }
      ],
      "source": [
        "grader.check(\"add_flight\")"
      ]
    },
    {
      "cell_type": "markdown",
      "id": "9e84d976",
      "metadata": {
        "id": "9e84d976"
      },
      "source": [
        "We can test that the row was properly added:"
      ]
    },
    {
      "cell_type": "code",
      "execution_count": null,
      "id": "8c1eb0fe",
      "metadata": {
        "colab": {
          "base_uri": "https://localhost:8080/"
        },
        "id": "8c1eb0fe",
        "outputId": "3aeec602-c8b0-4a35-d2f5-5f1fbc9a9e89"
      },
      "outputs": [
        {
          "output_type": "stream",
          "name": "stdout",
          "text": [
            "('DL10', 'Boston', 'New York', 'Morning', 'Evening')\n",
            "('DL11', 'Boston', 'Tel Aviv', 'Evening', 'Morning')\n",
            "('DL13', 'New York', 'Boston', 'Evening', 'Evening')\n",
            "('LY01', 'Tel Aviv', 'New York', 'Evening', 'Morning')\n",
            "('LY12', 'New York', 'Tel Aviv', 'Morning', 'Evening')\n"
          ]
        }
      ],
      "source": [
        "res = c.execute('SELECT * FROM Flights')\n",
        "for row in res:\n",
        "  print(row)"
      ]
    },
    {
      "cell_type": "markdown",
      "id": "b1acb00e",
      "metadata": {
        "deletable": false,
        "editable": false,
        "id": "b1acb00e"
      },
      "source": [
        "In the previous lab, you created a syntactic-semantic grammar that used the lambda calculus to build FOL expressions (as Python objects) to represent the meanings of queries. In this lab, you'll use the same syntactic productions, but instead, map constituents to functions that build SQL queries.\n",
        "\n",
        "Complete the following grammar. The first rule is provided as an example.\n",
        "\n",
        "**Hints**:\n",
        "\n",
        "1. Recall that the semantic composition functions are functions from right-hand side meanings (there might be zero or more) to the meaning of the whole.\n",
        "\n",
        "1. The general structure of SQL queries for this grammar will be:\n",
        "\n",
        "    `SELECT DISTINCT flightid from Flights WHERE ...`\n",
        "\n",
        "   For consistency, the queries will always have a `WHERE` clause. If there are no conditions required in the body of the `WHERE` clause, you can just use `1` as the `WHERE` body. (The `1` value is SQL's proxy for the Boolean value `TRUE`.) Again for consistency, you might want always to have a `1` as the final condition, e.g.,\n",
        "   \n",
        "    `SELECT DISTINCT flightid from Flights WHERE origin == \"New York\" AND arrivalTime == \"Evening\" AND 1`\n",
        "    \n",
        "1. Use semantic types consistently. For instance, you might use the following typings for meanings:\n",
        "\n",
        "```\n",
        "    Syntactic Type      | Semantic Type        | Example\n",
        "    :-------------------|:---------------------|:-----------------------\n",
        "    Q                   | str (a full query)   | `'SELECT DISTINCT flightid FROM Flights WHERE 1'`\n",
        "    NP, PP, PP_PLACE, PP_TIME | str (a `WHERE` body) -> str (a `WHERE` body)  | `lambda P: f'origin == NewYork AND {P}'`\n",
        "    LOC                 | str (a place)        | `'NewYork'`\n",
        "    TIME                | str (a time)         | `'Morning'`\n",
        "\n",
        "    By making NP and PP meanings functions from `WHERE` bodies to `WHERE` bodies, it's easy to have compound conditions like\n",
        "    `origin == \"New York\" AND arrivalTime == \"Evening\"`.\n",
        "```\n",
        "\n",
        "<!--\n",
        "BEGIN QUESTION\n",
        "name: grammar_spec\n",
        "-->"
      ]
    },
    {
      "cell_type": "code",
      "source": [
        "#TODO - Add augmentations to the grammar to generate SQL queries.\n",
        "# We gave you a few to get started.\n",
        "\n",
        "grammar_spec = \"\"\"\n",
        "    Q -> NP                   : lambda np: np(\"1\")\n",
        "    NP -> 'flights'           : lambda: lambda p: f\"SELECT DISTINCT flightid FROM Flights WHERE {p}\"\n",
        "    NP -> NP PP               : lambda np, pp: lambda p: f\"{np(pp)} AND {p}\"\n",
        "\n",
        "    PP -> PP_PLACE                  : lambda PP_PLACE: PP_PLACE\n",
        "    PP -> PP_TIME                   : lambda PP_TIME: PP_TIME\n",
        "\n",
        "    PP_PLACE -> 'from' LOC          : lambda Loc: f\"origin == '{Loc}'\"\n",
        "              | 'leaving' LOC       : lambda Loc: f\"origin == '{Loc}'\"\n",
        "              | 'to' LOC            : lambda Loc: f\"destination == '{Loc}'\"\n",
        "              | 'arriving' 'at' LOC : lambda Loc: f\"destination == '{Loc}'\"\n",
        "\n",
        "    PP_TIME -> 'arriving' TIME      : lambda Time: f\"arrivalTime == '{Time}'\"\n",
        "             | 'departing' TIME     : lambda Time: f\"departureTime == '{Time}'\"\n",
        "             | 'leaving' TIME       : lambda Time: f\"departureTime == '{Time}'\"\n",
        "\n",
        "    LOC -> 'Boston'                 : lambda: Boston\n",
        "    LOC -> 'New' 'York'             : lambda: NewYork\n",
        "    LOC -> 'Tel' 'Aviv'             : lambda: TelAviv\n",
        "\n",
        "    TIME -> 'in' 'the' 'morning'    : lambda: Morning\n",
        "    TIME -> 'in' 'the' 'evening'    : lambda: Evening\n",
        "\"\"\""
      ],
      "metadata": {
        "id": "-x--_yKePjZ4"
      },
      "id": "-x--_yKePjZ4",
      "execution_count": null,
      "outputs": []
    },
    {
      "cell_type": "code",
      "execution_count": null,
      "id": "85b2694f",
      "metadata": {
        "id": "85b2694f"
      },
      "outputs": [],
      "source": [
        "grammar, augmentations = xform.parse_augmented_grammar(grammar_spec, globals=globals())"
      ]
    },
    {
      "cell_type": "markdown",
      "id": "a899a627",
      "metadata": {
        "id": "a899a627"
      },
      "source": [
        "To test the grammar, we can parse a sample query:"
      ]
    },
    {
      "cell_type": "code",
      "execution_count": null,
      "id": "911a321e",
      "metadata": {
        "id": "911a321e",
        "colab": {
          "base_uri": "https://localhost:8080/"
        },
        "outputId": "5adeebea-2ea6-4077-b672-2468d4b14fef"
      },
      "outputs": [
        {
          "output_type": "stream",
          "name": "stdout",
          "text": [
            "                                Q                            \n",
            "                                |                             \n",
            "                                NP                           \n",
            "          ______________________|___________                  \n",
            "         NP                                 |                \n",
            "    _____|______                            |                 \n",
            "   |            PP                          PP               \n",
            "   |            |                           |                 \n",
            "   |         PP_PLACE                    PP_TIME             \n",
            "   |      ______|_______         ___________|_____            \n",
            "   NP    |             LOC      |                TIME        \n",
            "   |     |              |       |      ___________|______     \n",
            "flights from          Boston leaving  in         the  morning\n",
            "\n"
          ]
        }
      ],
      "source": [
        "parser = nltk.parse.BottomUpChartParser(grammar)\n",
        "\n",
        "for parse in parser.parse('flights from Boston leaving in the morning'.split()):\n",
        "  parse.pretty_print()"
      ]
    },
    {
      "cell_type": "markdown",
      "id": "c1ece5b0",
      "metadata": {
        "deletable": false,
        "editable": false,
        "id": "c1ece5b0"
      },
      "source": [
        "## Semantically interpreting syntactic trees\n",
        "\n",
        "With parse tree in hand, and the dictionary of semantic augmentations for each syntactic rule, we can recursively traverse the tree and compute its meaning.\n",
        "\n",
        "Write a function `interpret`, which takes a parse tree and a dictionary of semantic augmentations indexed by syntactic production (as returned by `xform.parse_augmented_grammar`) and returns the meaning for the tree.\n",
        "\n",
        "The function will be naturally recursive, since to compute the meaning of the tree you'll need to apply the appropriate semantic composition function to the meanings of the subtrees (that's the recursive bit).\n",
        "\n",
        "**Hints:**\n",
        "1. To iterate over a tree's child subtrees, you can simply iterate as if it were a list: `[child for child in tree]`. Note that `child` can be either a string (for terminals), or an `nltk.Tree` object storing the subtree (for nonterminals).\n",
        "\n",
        "2. To get the syntactic rule at the root of the tree, you can use `tree.productions()[0]`\n",
        "\n",
        "3. You'll want to know about Python's `*` operator. If you want to apply a function that takes multiple arguments and you have a list of its arguments, you can \"unpack\" the list using the `*` operator. For example, the following code is valid and works as expected:\n",
        "   ```\n",
        "   def f(a, b, c):\n",
        "     return a + b + c\n",
        "   my_arguments = [1,2,3]\n",
        "   f(*my_arguments)\n",
        "   ```\n",
        "\n",
        "   This might be useful when calling a semantic composition function, since how many arguments it takes is only known at runtime.\n",
        "\n",
        "4. If you want to check whether the root of a subtree `t` is a nonterminal or a terminal, you can use `if isinstance(t, nltk.Tree)`. This will return `True` for nonterminals, and `False` for terminals (because terminals are just strings in NLTK).\n",
        "\n",
        "\n",
        "5. The solution is only a few lines of code.\n",
        "\n",
        "<!--\n",
        "BEGIN QUESTION\n",
        "name: interpreting\n",
        "-->"
      ]
    },
    {
      "cell_type": "code",
      "execution_count": null,
      "id": "469d6f76",
      "metadata": {
        "id": "469d6f76"
      },
      "outputs": [],
      "source": [
        "# TODO - write the `interpret` function\n",
        "def interpret(tree, augmentations, level=0):\n",
        "    \"\"\"Returns a string containing an SQL query for the parse `tree`\n",
        "    as interpreted by the grammar `augmentations`.\n",
        "    \"\"\"\n",
        "    root = tree.productions()[0]\n",
        "    children = [interpret(child, augmentations) for child in tree if isinstance(child, nltk.Tree)]\n",
        "    query = augmentations[root]\n",
        "    return query(*children)"
      ]
    },
    {
      "cell_type": "code",
      "execution_count": null,
      "id": "f7056a3f",
      "metadata": {
        "deletable": false,
        "editable": false,
        "colab": {
          "base_uri": "https://localhost:8080/",
          "height": 46
        },
        "id": "f7056a3f",
        "outputId": "f889895d-4b29-429a-e949-960e0338a326"
      },
      "outputs": [
        {
          "output_type": "execute_result",
          "data": {
            "text/plain": [
              "\n",
              "    All tests passed!\n",
              "    "
            ],
            "text/html": [
              "\n",
              "    \n",
              "    \n",
              "        <p>All tests passed!</p>\n",
              "    \n",
              "    "
            ]
          },
          "metadata": {},
          "execution_count": 16
        }
      ],
      "source": [
        "grader.check(\"interpreting\")"
      ]
    },
    {
      "cell_type": "markdown",
      "id": "f3c1e945",
      "metadata": {
        "id": "f3c1e945"
      },
      "source": [
        "# Putting it all together\n",
        "\n",
        "Now we can put everything together to translate an NL query to SQL and execute the query against the database."
      ]
    },
    {
      "cell_type": "code",
      "execution_count": null,
      "id": "b42dce48",
      "metadata": {
        "id": "b42dce48"
      },
      "outputs": [],
      "source": [
        "def query_to_sql(nl_query, parser, augmentations):\n",
        "  \"\"\"Parses a natural language query `nl_query`, interprets it as SQL, and\n",
        "  executes and returns the result of the query.\n",
        "  \"\"\"\n",
        "  sentence = nl_query.split()\n",
        "  parses = [p for p in parser.parse(sentence)]\n",
        "  for tree in parses:\n",
        "    tree.pretty_print()\n",
        "  return [interpret(parse, augmentations) for parse in parses]\n",
        "\n",
        "\n",
        "\n",
        "def query_to_answer(nl_query, parser, augmentations):\n",
        "  \"\"\"Parses and interprets a natural language query `nl_query` to a SQL query\n",
        "  as per the provided `parser` and `augmentations` and executes the SQL\n",
        "  query on the database, printing some useful information and returning\n",
        "  the query results.\"\"\"\n",
        "  sql_queries = query_to_sql(nl_query, parser, augmentations)\n",
        "  for query in sql_queries:\n",
        "    print(f\"SQL query: {query}\")\n",
        "    print(\"Result:\")\n",
        "    res = list(c.execute(query))\n",
        "    for row in res:\n",
        "      print(row)\n",
        "  return res"
      ]
    },
    {
      "cell_type": "markdown",
      "id": "03c40b6d",
      "metadata": {
        "id": "03c40b6d"
      },
      "source": [
        "You can now test your parser by running some queries all of the way through.\n",
        "The expected SQL query for `flights from Boston` is: `SELECT DISTINCT flightid FROM Flights WHERE origin == \"Boston\" AND 1` (or some such).\n",
        "\n",
        "> Note the quotation marks around `Boston`. These are required so that SQL interprets it as a field value rather than a field name."
      ]
    },
    {
      "cell_type": "code",
      "execution_count": null,
      "id": "a2447364",
      "metadata": {
        "id": "a2447364",
        "colab": {
          "base_uri": "https://localhost:8080/"
        },
        "outputId": "c7755820-8e6a-42cd-c43e-e22dc6b1629c"
      },
      "outputs": [
        {
          "output_type": "stream",
          "name": "stdout",
          "text": [
            "         Q                  \n",
            "         |                   \n",
            "         NP                 \n",
            "    _____|______             \n",
            "   |            PP          \n",
            "   |            |            \n",
            "   |         PP_PLACE       \n",
            "   |      ______|_______     \n",
            "   NP    |             LOC  \n",
            "   |     |              |    \n",
            "flights from          Boston\n",
            "\n",
            "SQL query: SELECT DISTINCT flightid FROM Flights WHERE origin == 'Boston' AND 1\n",
            "Result:\n",
            "('DL10',)\n",
            "('DL11',)\n"
          ]
        }
      ],
      "source": [
        "res1 = query_to_answer('flights from Boston', parser, augmentations)"
      ]
    },
    {
      "cell_type": "code",
      "execution_count": null,
      "id": "a1acb600",
      "metadata": {
        "id": "a1acb600",
        "colab": {
          "base_uri": "https://localhost:8080/"
        },
        "outputId": "1a487560-4df3-4a0b-a0fc-0809d67e9c39"
      },
      "outputs": [
        {
          "output_type": "stream",
          "name": "stdout",
          "text": [
            "                        Q                         \n",
            "                        |                          \n",
            "                        NP                        \n",
            "          ______________|___________               \n",
            "         NP                         |             \n",
            "    _____|______                    |              \n",
            "   |            PP                  PP            \n",
            "   |            |                   |              \n",
            "   |         PP_PLACE            PP_PLACE         \n",
            "   |      ______|_______       _____|______        \n",
            "   NP    |             LOC    |           LOC     \n",
            "   |     |              |     |      ______|___    \n",
            "flights from          Boston  to   New        York\n",
            "\n",
            "SQL query: SELECT DISTINCT flightid FROM Flights WHERE origin == 'Boston' AND destination == 'New York' AND 1\n",
            "Result:\n",
            "('DL10',)\n"
          ]
        }
      ],
      "source": [
        "res2 = query_to_answer('flights from Boston to New York', parser, augmentations)"
      ]
    },
    {
      "cell_type": "code",
      "execution_count": null,
      "id": "b5e6c544",
      "metadata": {
        "id": "b5e6c544",
        "colab": {
          "base_uri": "https://localhost:8080/"
        },
        "outputId": "2d542cd8-a3e2-4e25-80f3-9e6475c0b559"
      },
      "outputs": [
        {
          "output_type": "stream",
          "name": "stdout",
          "text": [
            "                               Q                                    \n",
            "                               |                                     \n",
            "                               NP                                   \n",
            "               ________________|___________________                  \n",
            "              NP                                   |                \n",
            "    __________|_____                               |                 \n",
            "   |                PP                             PP               \n",
            "   |                |                              |                 \n",
            "   |             PP_PLACE                       PP_TIME             \n",
            "   |      __________|______            ____________|_____            \n",
            "   NP    |                LOC         |                 TIME        \n",
            "   |     |           ______|___       |       ___________|______     \n",
            "flights from       New        York arriving  in         the  evening\n",
            "\n",
            "SQL query: SELECT DISTINCT flightid FROM Flights WHERE origin == 'New York' AND arrivalTime == 'Evening' AND 1\n",
            "Result:\n",
            "('DL13',)\n",
            "('LY12',)\n"
          ]
        }
      ],
      "source": [
        "res3 = query_to_answer('flights from New York arriving in the evening', parser, augmentations)"
      ]
    },
    {
      "cell_type": "code",
      "execution_count": null,
      "id": "48916f80",
      "metadata": {
        "id": "48916f80",
        "colab": {
          "base_uri": "https://localhost:8080/"
        },
        "outputId": "82b9a2dd-8b60-4c8b-93d7-413d44ba9056"
      },
      "outputs": [
        {
          "output_type": "stream",
          "name": "stdout",
          "text": [
            "                                                             Q                                                               \n",
            "                                                             |                                                                \n",
            "                                                             NP                                                              \n",
            "                                           __________________|______________________________________________                  \n",
            "                                          NP                                                                |                \n",
            "                                __________|_______________________________                                  |                 \n",
            "                               NP                                         |                                 |                \n",
            "               ________________|__________                                |                                 |                 \n",
            "              NP                          |                               |                                 |                \n",
            "    __________|_____                      |                               |                                 |                 \n",
            "   |                PP                    PP                              PP                                PP               \n",
            "   |                |                     |                               |                                 |                 \n",
            "   |             PP_PLACE              PP_PLACE                        PP_TIME                           PP_TIME             \n",
            "   |      __________|______          _____|______             ____________|_____                ____________|_____            \n",
            "   NP    |                LOC       |           LOC          |                 TIME            |                 TIME        \n",
            "   |     |           ______|___     |      ______|___        |       ___________|______        |       ___________|______     \n",
            "flights from       New        York  to   Tel        Aviv departing  in         the  morning arriving  in         the  evening\n",
            "\n",
            "SQL query: SELECT DISTINCT flightid FROM Flights WHERE origin == 'New York' AND destination == 'Tel Aviv' AND departureTime == 'Morning' AND arrivalTime == 'Evening' AND 1\n",
            "Result:\n",
            "('LY12',)\n"
          ]
        }
      ],
      "source": [
        "res4 = query_to_answer('flights from New York to Tel Aviv departing in the morning arriving in the evening', parser, augmentations)"
      ]
    },
    {
      "cell_type": "code",
      "execution_count": null,
      "id": "3d22e01c",
      "metadata": {
        "id": "3d22e01c",
        "colab": {
          "base_uri": "https://localhost:8080/"
        },
        "outputId": "e7275a90-e7ec-4eae-dde4-b8ff6ab46f1f"
      },
      "outputs": [
        {
          "output_type": "stream",
          "name": "stdout",
          "text": [
            "                                                              Q                                                                     \n",
            "                                                              |                                                                      \n",
            "                                                              NP                                                                    \n",
            "                                                ______________|____________________________________________________                  \n",
            "                                               NP                                                                  |                \n",
            "                                _______________|_________________________________                                  |                 \n",
            "                               NP                                                |                                 |                \n",
            "               ________________|_______________                                  |                                 |                 \n",
            "              NP                               |                                 |                                 |                \n",
            "    __________|_____                           |                                 |                                 |                 \n",
            "   |                PP                         PP                                PP                                PP               \n",
            "   |                |                          |                                 |                                 |                 \n",
            "   |             PP_PLACE                   PP_PLACE                          PP_TIME                           PP_TIME             \n",
            "   |      __________|______            ________|__________            ___________|_____                ____________|_____            \n",
            "   NP    |                LOC         |        |         LOC         |                TIME            |                 TIME        \n",
            "   |     |           ______|___       |        |       ___|___       |      ___________|______        |       ___________|______     \n",
            "flights from       Tel        Aviv arriving    at    New     York leaving  in         the  evening arriving  in         the  morning\n",
            "\n",
            "SQL query: SELECT DISTINCT flightid FROM Flights WHERE origin == 'Tel Aviv' AND destination == 'New York' AND departureTime == 'Evening' AND arrivalTime == 'Morning' AND 1\n",
            "Result:\n",
            "('LY01',)\n"
          ]
        }
      ],
      "source": [
        "res5 = query_to_answer('flights from Tel Aviv arriving at New York leaving in the evening arriving in the morning', parser, augmentations)"
      ]
    },
    {
      "cell_type": "markdown",
      "id": "5e09063d",
      "metadata": {
        "deletable": false,
        "editable": false,
        "id": "5e09063d"
      },
      "source": [
        "Write your own sentence (that our syntactic grammar can parse) and check its results:\n",
        "\n",
        "<!--\n",
        "BEGIN QUESTION\n",
        "name: your_own\n",
        "-->"
      ]
    },
    {
      "cell_type": "code",
      "execution_count": null,
      "id": "5f9a9f2d",
      "metadata": {
        "id": "5f9a9f2d",
        "colab": {
          "base_uri": "https://localhost:8080/"
        },
        "outputId": "759304d8-6e59-4eb7-a4c6-ecb5840cd23a"
      },
      "outputs": [
        {
          "output_type": "stream",
          "name": "stdout",
          "text": [
            "                                                               Q                                                              \n",
            "                                                               |                                                               \n",
            "                                                               NP                                                             \n",
            "                                                 ______________|_____________________________________________                  \n",
            "                                                NP                                                           |                \n",
            "                                 _______________|__________________________                                  |                 \n",
            "                                NP                                         |                                 |                \n",
            "          ______________________|________                                  |                                 |                 \n",
            "         NP                              |                                 |                                 |                \n",
            "    _____|______                         |                                 |                                 |                 \n",
            "   |            PP                       PP                                PP                                PP               \n",
            "   |            |                        |                                 |                                 |                 \n",
            "   |         PP_PLACE                 PP_PLACE                          PP_TIME                           PP_TIME             \n",
            "   |      ______|_______         ________|__________            ___________|_____                ____________|_____            \n",
            "   NP    |             LOC      |        |         LOC         |                TIME            |                 TIME        \n",
            "   |     |              |       |        |       ___|___       |      ___________|______        |       ___________|______     \n",
            "flights from          Boston arriving    at    Tel     Aviv leaving  in         the  evening arriving  in         the  morning\n",
            "\n",
            "SQL query: SELECT DISTINCT flightid FROM Flights WHERE origin == 'Boston' AND destination == 'Tel Aviv' AND departureTime == 'Evening' AND arrivalTime == 'Morning' AND 1\n",
            "Result:\n",
            "('DL11',)\n"
          ]
        },
        {
          "output_type": "execute_result",
          "data": {
            "text/plain": [
              "[('DL11',)]"
            ]
          },
          "metadata": {},
          "execution_count": 23
        }
      ],
      "source": [
        "#TODO - Write your own sentence that is parsable\n",
        "your_query = 'flights from Boston arriving at Tel Aviv leaving in the evening arriving in the morning'\n",
        "query_to_answer(your_query, parser, augmentations)"
      ]
    },
    {
      "cell_type": "code",
      "execution_count": null,
      "id": "3009712a",
      "metadata": {
        "deletable": false,
        "editable": false,
        "id": "3009712a",
        "colab": {
          "base_uri": "https://localhost:8080/",
          "height": 46
        },
        "outputId": "a02e005a-a8c6-4a3e-a3b9-64b40d9c05fd"
      },
      "outputs": [
        {
          "output_type": "execute_result",
          "data": {
            "text/plain": [
              "\n",
              "    All tests passed!\n",
              "    "
            ],
            "text/html": [
              "\n",
              "    \n",
              "    \n",
              "        <p>All tests passed!</p>\n",
              "    \n",
              "    "
            ]
          },
          "metadata": {},
          "execution_count": 24
        }
      ],
      "source": [
        "grader.check(\"your_own\")"
      ]
    },
    {
      "cell_type": "markdown",
      "id": "d5206b82",
      "metadata": {
        "id": "d5206b82"
      },
      "source": [
        "Our semantic parser requires that the natural language input sentence be syntactically well-formed according to the grammar. But what happens if the sentence fails to parse syntactically?\n",
        "\n",
        "For example, our parser can parse the sentence `flights from Boston`, but it cannot parse the sentence `show me flights from Boston`:"
      ]
    },
    {
      "cell_type": "code",
      "execution_count": null,
      "id": "078b45fd",
      "metadata": {
        "id": "078b45fd",
        "colab": {
          "base_uri": "https://localhost:8080/"
        },
        "outputId": "a2c7331a-8c31-4f3a-d9a7-204342f7bef1"
      },
      "outputs": [
        {
          "output_type": "stream",
          "name": "stdout",
          "text": [
            "Grammar does not cover some of the input words: \"'show', 'me'\".\n"
          ]
        }
      ],
      "source": [
        "try:\n",
        "    query_to_answer(\"show me flights from Boston\", parser, augmentations)\n",
        "except ValueError as e:\n",
        "    print(e)"
      ]
    },
    {
      "cell_type": "markdown",
      "id": "540df5bc",
      "metadata": {
        "id": "540df5bc"
      },
      "source": [
        "If the sentence does not parse syntactically, our semantic parser won't be able to interpret it semantically.\n",
        "\n",
        "One possible way to address this problem is to use a *partial* syntactic parser -- a parser that provides a parse tree for the longest subsentence that it can parse. In the case of `show me flights from Boston`, such a partial parser will drop the words `show me` and provide the parse tree only for `flights from boston`.\n",
        "\n",
        "Another possible solution is to use neural sequence-to-sequence methods, that will naturally address this problem by having an embedding for \"unknown\" words (usually referred to as `<UNK>`). We'll turn to those in later labs."
      ]
    },
    {
      "cell_type": "markdown",
      "id": "a4149a6f",
      "metadata": {
        "deletable": false,
        "editable": false,
        "id": "a4149a6f"
      },
      "source": [
        "<!-- BEGIN QUESTION -->\n",
        "\n",
        "\n",
        "# Lab debrief\n",
        "**Question:** We're interested in any thoughts your group has about this lab so that we can improve this lab for later years, and to inform later labs for this year. Please list any issues that arose or comments you have to improve the lab. Useful things to comment on might include the following:\n",
        "\n",
        "* Was the lab too long or too short?\n",
        "* Were the readings appropriate for the lab?\n",
        "* Was it clear (at least after you completed the lab) what the points of the exercises were?\n",
        "* Are there additions or changes you think would make the lab better?\n",
        "\n",
        "but you should comment on whatever aspects you found especially positive or negative.\n",
        "\n",
        "<!--\n",
        "BEGIN QUESTION\n",
        "name: open_response_debrief\n",
        "manual: true\n",
        "-->"
      ]
    },
    {
      "cell_type": "markdown",
      "id": "d3e8ba40",
      "metadata": {
        "id": "d3e8ba40"
      },
      "source": [
        "_Type your answer here, replacing this text._"
      ]
    },
    {
      "cell_type": "markdown",
      "id": "fbf14c10",
      "metadata": {
        "id": "fbf14c10"
      },
      "source": [
        "<!-- END QUESTION -->\n",
        "\n",
        "\n",
        "\n",
        "# End of Lab 4-2"
      ]
    },
    {
      "cell_type": "markdown",
      "id": "d7cef380",
      "metadata": {
        "deletable": false,
        "editable": false,
        "id": "d7cef380"
      },
      "source": [
        "---\n",
        "\n",
        "To double-check your work, the cell below will rerun all of the autograder tests."
      ]
    },
    {
      "cell_type": "code",
      "execution_count": null,
      "id": "0049765b",
      "metadata": {
        "deletable": false,
        "editable": false,
        "id": "0049765b",
        "colab": {
          "base_uri": "https://localhost:8080/",
          "height": 163
        },
        "outputId": "d694ea85-87fd-41c2-bd12-eb82b935c94b"
      },
      "outputs": [
        {
          "output_type": "execute_result",
          "data": {
            "text/plain": [
              "add_flight:\n",
              "\n",
              "    All tests passed!\n",
              "    \n",
              "\n",
              "interpreting:\n",
              "\n",
              "    All tests passed!\n",
              "    \n",
              "\n",
              "your_own:\n",
              "\n",
              "    All tests passed!\n",
              "    \n"
            ],
            "text/html": [
              "<p><strong>add_flight:</strong></p>\n",
              "\n",
              "    \n",
              "    \n",
              "        <p>All tests passed!</p>\n",
              "    \n",
              "    \n",
              "\n",
              "<p><strong>interpreting:</strong></p>\n",
              "\n",
              "    \n",
              "    \n",
              "        <p>All tests passed!</p>\n",
              "    \n",
              "    \n",
              "\n",
              "<p><strong>your_own:</strong></p>\n",
              "\n",
              "    \n",
              "    \n",
              "        <p>All tests passed!</p>\n",
              "    \n",
              "    \n",
              "\n"
            ]
          },
          "metadata": {},
          "execution_count": 26
        }
      ],
      "source": [
        "grader.check_all()"
      ]
    }
  ],
  "metadata": {
    "colab": {
      "provenance": []
    },
    "kernelspec": {
      "display_name": "Python 3 (ipykernel)",
      "language": "python",
      "name": "python3"
    },
    "language_info": {
      "codemirror_mode": {
        "name": "ipython",
        "version": 3
      },
      "file_extension": ".py",
      "mimetype": "text/x-python",
      "name": "python",
      "nbconvert_exporter": "python",
      "pygments_lexer": "ipython3",
      "version": "3.8.3"
    },
    "title": " Lab 4-2: Semantic interpretation with SQL"
  },
  "nbformat": 4,
  "nbformat_minor": 5
}