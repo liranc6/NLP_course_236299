{
  "cells": [
    {
      "cell_type": "code",
      "execution_count": 1,
      "id": "a67987d2",
      "metadata": {
        "deletable": false,
        "editable": false,
        "jupyter": {
          "outputs_hidden": true,
          "source_hidden": true
        },
        "colab": {
          "base_uri": "https://localhost:8080/"
        },
        "id": "a67987d2",
        "outputId": "fd235179-7fb0-4549-e275-23a0f68f98c7"
      },
      "outputs": [
        {
          "output_type": "stream",
          "name": "stdout",
          "text": [
            "     ━━━━━━━━━━━━━━━━━━━━━━━━━━━━━━━━━━━━━━━ 164.0/164.0 kB 5.0 MB/s eta 0:00:00\n",
            "     ━━━━━━━━━━━━━━━━━━━━━━━━━━━━━━━━━━━━━━━━ 1.4/1.4 MB 28.7 MB/s eta 0:00:00\n",
            "     ━━━━━━━━━━━━━━━━━━━━━━━━━━━━━━━━━━━━━━ 148.1/148.1 kB 14.7 MB/s eta 0:00:00\n",
            "     ━━━━━━━━━━━━━━━━━━━━━━━━━━━━━━━━━━━━━━━ 110.5/110.5 kB 9.0 MB/s eta 0:00:00\n",
            "     ━━━━━━━━━━━━━━━━━━━━━━━━━━━━━━━━━━━━━━ 232.6/232.6 kB 16.3 MB/s eta 0:00:00\n",
            "     ━━━━━━━━━━━━━━━━━━━━━━━━━━━━━━━━━━━━━━━━ 1.6/1.6 MB 50.9 MB/s eta 0:00:00\n"
          ]
        }
      ],
      "source": [
        "# Please do not change this cell because some hidden tests might depend on it.\n",
        "import os\n",
        "\n",
        "# Otter grader does not handle ! commands well, so we define and use our\n",
        "# own function to execute shell commands.\n",
        "def shell(commands, warn=True):\n",
        "    \"\"\"Executes the string `commands` as a sequence of shell commands.\n",
        "\n",
        "       Prints the result to stdout and returns the exit status.\n",
        "       Provides a printed warning on non-zero exit status unless `warn`\n",
        "       flag is unset.\n",
        "    \"\"\"\n",
        "    file = os.popen(commands)\n",
        "    print (file.read().rstrip('\\n'))\n",
        "    exit_status = file.close()\n",
        "    if warn and exit_status != None:\n",
        "        print(f\"Completed with errors. Exit status: {exit_status}\\n\")\n",
        "    return exit_status\n",
        "\n",
        "shell(\"\"\"\n",
        "ls requirements.txt >/dev/null 2>&1\n",
        "if [ ! $? = 0 ]; then\n",
        " rm -rf .tmp\n",
        " git clone https://github.com/cs236299-2023-spring/lab3-4.git .tmp\n",
        " mv .tmp/tests ./\n",
        " mv .tmp/requirements.txt ./\n",
        " rm -rf .tmp\n",
        "fi\n",
        "pip install -q -r requirements.txt\n",
        "\"\"\")"
      ]
    },
    {
      "cell_type": "code",
      "execution_count": 2,
      "id": "cc098b6c",
      "metadata": {
        "deletable": false,
        "editable": false,
        "id": "cc098b6c"
      },
      "outputs": [],
      "source": [
        "# Initialize Otter\n",
        "import otter\n",
        "grader = otter.Notebook()"
      ]
    },
    {
      "cell_type": "raw",
      "id": "dd447734",
      "metadata": {
        "jupyter": {
          "source_hidden": true
        },
        "id": "dd447734"
      },
      "source": [
        "%%latex\n",
        "\\newcommand{\\vect}[1]{\\mathbf{#1}}\n",
        "\\newcommand{\\cnt}[1]{\\sharp(#1)}\n",
        "\\newcommand{\\argmax}[1]{\\underset{#1}{\\operatorname{argmax}}}\n",
        "\\newcommand{\\softmax}{\\operatorname{softmax}}\n",
        "\\newcommand{\\Prob}{\\Pr}\n",
        "\\newcommand{\\given}{\\,|\\,}"
      ]
    },
    {
      "cell_type": "markdown",
      "id": "f6ac5a1b",
      "metadata": {
        "jupyter": {
          "source_hidden": true
        },
        "id": "f6ac5a1b"
      },
      "source": [
        "$$\n",
        "\\renewcommand{\\vect}[1]{\\mathbf{#1}}\n",
        "\\renewcommand{\\cnt}[1]{\\sharp(#1)}\n",
        "\\renewcommand{\\argmax}[1]{\\underset{#1}{\\operatorname{argmax}}}\n",
        "\\renewcommand{\\softmax}{\\operatorname{softmax}}\n",
        "\\renewcommand{\\Prob}{\\Pr}\n",
        "\\renewcommand{\\given}{\\,|\\,}\n",
        "$$"
      ]
    },
    {
      "cell_type": "markdown",
      "id": "5e84f4ab",
      "metadata": {
        "id": "5e84f4ab",
        "tags": [
          "remove_for_latex"
        ]
      },
      "source": [
        "# Course 236299\n",
        "## Lab 3-4 - Probabilistic parsing and parse disambiguation"
      ]
    },
    {
      "cell_type": "markdown",
      "id": "addc4b85",
      "metadata": {
        "id": "addc4b85"
      },
      "source": [
        "Continuing our work on PCFG, you'll implement a probabilistic version of the CKY algorithm and apply it to a parse disambiguation task."
      ]
    },
    {
      "cell_type": "markdown",
      "id": "c5aa3d11",
      "metadata": {
        "id": "c5aa3d11"
      },
      "source": [
        "# Preparations"
      ]
    },
    {
      "cell_type": "code",
      "execution_count": 3,
      "id": "5335a990",
      "metadata": {
        "deletable": false,
        "editable": false,
        "id": "5335a990"
      },
      "outputs": [],
      "source": [
        "import math\n",
        "import nltk\n",
        "import pandas as pd\n",
        "\n",
        "from collections import Counter\n",
        "from collections import defaultdict\n",
        "from pprint import pprint"
      ]
    },
    {
      "cell_type": "markdown",
      "id": "13b7d738",
      "metadata": {
        "id": "13b7d738"
      },
      "source": [
        "# Prepositional phrase attachment ambiguity\n",
        "\n",
        "In this lab, we'll set aside the rather limited world of arithmetic expressions, focusing on a common example of structural ambiguity in natural language called _prepositional phrase (PP) attachment_. A PP can modify both noun phrases and verb phrases, often creating ambiguity as to what constituent a PP should be attached to.\n",
        "\n",
        "Here's a small grammar that includes PPs as noun phrase modifiers, as verb phrase modifiers, and as verb arguments."
      ]
    },
    {
      "cell_type": "code",
      "execution_count": 4,
      "id": "a7f2a71e",
      "metadata": {
        "id": "a7f2a71e"
      },
      "outputs": [],
      "source": [
        "probabilistic_grammar = nltk.PCFG.fromstring(\n",
        "    \"\"\"\n",
        "    S -> NP VP [1.0]\n",
        "\n",
        "    NP -> DT N [0.6]\n",
        "\n",
        "    N -> N PP [0.2]\n",
        "\n",
        "    VP -> TV NP [0.9] | DTV NP PP [0.1]\n",
        "\n",
        "    PP -> P NP [1.0]\n",
        "\n",
        "    DT ->  'a' [0.5] | 'the' [0.5]\n",
        "\n",
        "    N -> 'books' [0.2] | 'gifts' [0.2]\n",
        "    N -> 'table' [0.2] | 'book' [0.2]\n",
        "\n",
        "    NP -> 'Twain' [0.2] | 'Howells' [0.2]\n",
        "\n",
        "    DTV -> 'bought' [0.5] | 'put' [0.5]\n",
        "    TV ->  'bought' [0.5] | 'saw' [0.5]\n",
        "\n",
        "    P ->   'on' [0.3] | 'of' [0.4] | 'by' [0.1] | 'for' [0.2]\n",
        "    \"\"\"\n",
        ")"
      ]
    },
    {
      "cell_type": "markdown",
      "id": "ee21f49f",
      "metadata": {
        "id": "ee21f49f"
      },
      "source": [
        "> In this grammar, `TV` stands for \"transitive verb\", a verb that takes a single NP argument, as in \"Twain bought it\", and `DTV` stands for \"ditransitive verb\", which takes two arguments, an NP and a PP, as in \"Twain bought it for him\".\n",
        "\n",
        "Notice that the probabilities of all the rules with the same left-hand side sum to 1.\n",
        "\n",
        "Consider the sentence"
      ]
    },
    {
      "cell_type": "code",
      "execution_count": 5,
      "id": "4342253b",
      "metadata": {
        "id": "4342253b"
      },
      "outputs": [],
      "source": [
        "example1 = \"Twain bought a book for Howells\""
      ]
    },
    {
      "cell_type": "markdown",
      "id": "fa803be6",
      "metadata": {
        "id": "fa803be6"
      },
      "source": [
        "Take out a piece of paper and work with your lab partner to draw parse trees for the sentence according to this grammar. How many can you find?\n",
        "\n",
        "To verify, we'll parse the sentence using a parser provided by NLTK. The `InsideChartParser` returns all parses of a sentence according to a probabilistic grammar along with their probabilities. (It uses a more general algorithm than CKY, so doesn't require the grammar be in CNF.)\n",
        "\n",
        "Parsing this sentence with the above PCFG results in two possible parses, displaying PP attachment ambiguity:"
      ]
    },
    {
      "cell_type": "code",
      "execution_count": 6,
      "id": "dfe7f5d0",
      "metadata": {
        "colab": {
          "base_uri": "https://localhost:8080/"
        },
        "id": "dfe7f5d0",
        "outputId": "9306eac2-824f-4064-c579-a89fffc69377"
      },
      "outputs": [
        {
          "output_type": "stream",
          "name": "stdout",
          "text": [
            "Possible parse #1 with probability 4.32e-05:\n",
            "\n",
            "              S                          \n",
            "   ___________|___                        \n",
            "  |               VP                     \n",
            "  |      _________|____                   \n",
            "  |     |              NP                \n",
            "  |     |      ________|___               \n",
            "  |     |     |            N             \n",
            "  |     |     |    ________|___           \n",
            "  |     |     |   |            PP        \n",
            "  |     |     |   |         ___|_____     \n",
            "  NP    TV    DT  N        P         NP  \n",
            "  |     |     |   |        |         |    \n",
            "Twain bought  a  book     for     Howells\n",
            "\n",
            "Possible parse #2 with probability 2.4e-05:\n",
            "\n",
            "              S                          \n",
            "   ___________|_______                    \n",
            "  |                   VP                 \n",
            "  |      _____________|________           \n",
            "  |     |         NP           PP        \n",
            "  |     |      ___|___      ___|_____     \n",
            "  NP   DTV    DT      N    P         NP  \n",
            "  |     |     |       |    |         |    \n",
            "Twain bought  a      book for     Howells\n",
            "\n"
          ]
        }
      ],
      "source": [
        "parser = nltk.parse.InsideChartParser(probabilistic_grammar)\n",
        "possible_parses = list(parser.parse(example1.split()))\n",
        "\n",
        "for i, tree in enumerate(possible_parses):\n",
        "  print(f'Possible parse #{i+1} with probability {tree.prob():.3g}:\\n')\n",
        "  tree.pretty_print()"
      ]
    },
    {
      "cell_type": "markdown",
      "id": "06f52370",
      "metadata": {
        "deletable": false,
        "editable": false,
        "id": "06f52370"
      },
      "source": [
        "<!-- BEGIN QUESTION -->\n",
        "\n",
        "**Question:** What is the more natural parsing, the one that leads to the preferred _reading_ of the sentence, the reading that you understand the sentence as expressing? Is it the most probable parse tree?\n",
        "\n",
        "<!--\n",
        "BEGIN QUESTION\n",
        "name: open_response_pp1\n",
        "manual: true\n",
        "-->"
      ]
    },
    {
      "cell_type": "markdown",
      "id": "f258011b",
      "metadata": {
        "id": "f258011b"
      },
      "source": [
        "_The second parse tree seems more natural. It captures the idea that Twain bought a book for the purpose of giving it to Howells, rather than a book written specifically for Howells. However, the tree we chose (the second one) is not the most probable parse tree._"
      ]
    },
    {
      "cell_type": "markdown",
      "id": "6ab2a2d1",
      "metadata": {
        "deletable": false,
        "editable": false,
        "id": "6ab2a2d1"
      },
      "source": [
        "<!-- END QUESTION -->\n",
        "\n",
        "Change some of the rule probabilities (try to change as few as possible) such that the other tree has higher probability.\n",
        "\n",
        "<!--\n",
        "BEGIN QUESTION\n",
        "name: attach_pp_to_np_1\n",
        "-->"
      ]
    },
    {
      "cell_type": "code",
      "execution_count": 7,
      "id": "2a695a6e",
      "metadata": {
        "id": "2a695a6e"
      },
      "outputs": [],
      "source": [
        "# TODO - define `probabilistic_grammar_reweighted`.\n",
        "probabilistic_grammar_reweighted = nltk.PCFG.fromstring(\n",
        "    \"\"\"\n",
        "    S -> NP VP [1.0]\n",
        "\n",
        "    NP -> DT N [0.6]\n",
        "\n",
        "    N -> N PP [0.2]\n",
        "\n",
        "    VP -> TV NP [0.1] | DTV NP PP [0.9]\n",
        "\n",
        "    PP -> P NP [1.0]\n",
        "\n",
        "    DT ->  'a' [0.5] | 'the' [0.5]\n",
        "\n",
        "    N -> 'books' [0.2] | 'gifts' [0.2]\n",
        "    N -> 'table' [0.2] | 'book' [0.2]\n",
        "\n",
        "    NP -> 'Twain' [0.2] | 'Howells' [0.2]\n",
        "\n",
        "    DTV -> 'bought' [0.5] | 'put' [0.5]\n",
        "    TV ->  'bought' [0.5] | 'saw' [0.5]\n",
        "\n",
        "    P ->   'on' [0.3] | 'of' [0.4] | 'by' [0.1] | 'for' [0.2]\n",
        "    \"\"\"\n",
        ")"
      ]
    },
    {
      "cell_type": "code",
      "execution_count": 8,
      "id": "bfd1b1b5",
      "metadata": {
        "colab": {
          "base_uri": "https://localhost:8080/"
        },
        "id": "bfd1b1b5",
        "outputId": "d77bb134-e775-4577-923d-a83c77a0da9f"
      },
      "outputs": [
        {
          "output_type": "stream",
          "name": "stdout",
          "text": [
            "Possible parse #1 with probability 0.000216:\n",
            "\n",
            "              S                          \n",
            "   ___________|_______                    \n",
            "  |                   VP                 \n",
            "  |      _____________|________           \n",
            "  |     |         NP           PP        \n",
            "  |     |      ___|___      ___|_____     \n",
            "  NP   DTV    DT      N    P         NP  \n",
            "  |     |     |       |    |         |    \n",
            "Twain bought  a      book for     Howells\n",
            "\n",
            "Possible parse #2 with probability 4.8e-06:\n",
            "\n",
            "              S                          \n",
            "   ___________|___                        \n",
            "  |               VP                     \n",
            "  |      _________|____                   \n",
            "  |     |              NP                \n",
            "  |     |      ________|___               \n",
            "  |     |     |            N             \n",
            "  |     |     |    ________|___           \n",
            "  |     |     |   |            PP        \n",
            "  |     |     |   |         ___|_____     \n",
            "  NP    TV    DT  N        P         NP  \n",
            "  |     |     |   |        |         |    \n",
            "Twain bought  a  book     for     Howells\n",
            "\n"
          ]
        }
      ],
      "source": [
        "parser2 = nltk.parse.InsideChartParser(probabilistic_grammar_reweighted)\n",
        "possible_parses2 = list(parser2.parse(example1.split()))\n",
        "\n",
        "for i, tree in enumerate(possible_parses2):\n",
        "  print(f'Possible parse #{i+1} with probability {tree.prob():.3g}:\\n')\n",
        "  tree.pretty_print()"
      ]
    },
    {
      "cell_type": "markdown",
      "id": "756be6d2",
      "metadata": {
        "id": "756be6d2"
      },
      "source": [
        "Now we use the PCFG you defined to parse an only slightly different sentence."
      ]
    },
    {
      "cell_type": "code",
      "execution_count": 9,
      "id": "daff8d90",
      "metadata": {
        "colab": {
          "base_uri": "https://localhost:8080/"
        },
        "id": "daff8d90",
        "outputId": "596b944a-2f42-4db6-f5f6-a3d973ec0f28"
      },
      "outputs": [
        {
          "output_type": "stream",
          "name": "stdout",
          "text": [
            "Possible parse #1 with probability 0.000108:\n",
            "\n",
            "              S                          \n",
            "   ___________|_______                    \n",
            "  |                   VP                 \n",
            "  |      _____________|________           \n",
            "  |     |         NP           PP        \n",
            "  |     |      ___|___      ___|_____     \n",
            "  NP   DTV    DT      N    P         NP  \n",
            "  |     |     |       |    |         |    \n",
            "Twain bought  a      book  by     Howells\n",
            "\n",
            "Possible parse #2 with probability 2.4e-06:\n",
            "\n",
            "              S                          \n",
            "   ___________|___                        \n",
            "  |               VP                     \n",
            "  |      _________|____                   \n",
            "  |     |              NP                \n",
            "  |     |      ________|___               \n",
            "  |     |     |            N             \n",
            "  |     |     |    ________|___           \n",
            "  |     |     |   |            PP        \n",
            "  |     |     |   |         ___|_____     \n",
            "  NP    TV    DT  N        P         NP  \n",
            "  |     |     |   |        |         |    \n",
            "Twain bought  a  book      by     Howells\n",
            "\n"
          ]
        }
      ],
      "source": [
        "example2 = \"Twain bought a book by Howells\"\n",
        "\n",
        "possible_parses = list(parser2.parse(example2.split()))\n",
        "\n",
        "for i, tree in enumerate(possible_parses):\n",
        "  print('Possible parse #{} with probability {:.3g}:\\n'.format(i+1,tree.prob()))\n",
        "  tree.pretty_print()"
      ]
    },
    {
      "cell_type": "markdown",
      "id": "ae63c14d",
      "metadata": {
        "deletable": false,
        "editable": false,
        "id": "ae63c14d"
      },
      "source": [
        "<!-- BEGIN QUESTION -->\n",
        "\n",
        "**Question:** Now what is the more natural parse for the sentence? Is it the most probable one? Can the PCFG be modified such that both sentences are parsed according to the natural readings for these sentences? Try to explain the problem.\n",
        "\n",
        "<!--\n",
        "BEGIN QUESTION\n",
        "name: open_response_attach_pp_to_np_2\n",
        "manual: true\n",
        "-->"
      ]
    },
    {
      "cell_type": "markdown",
      "id": "108bec92",
      "metadata": {
        "id": "108bec92"
      },
      "source": [
        "_The more natural parse for the given sentence is the second parse tree, indicating that the book was written by Howells. However, the most probable parse is now the first parse tree. Modifying PCFG to obtain natural readings for both sentences poses a challenge. In the first example, adjusting the DTV/TV distribution leads to the desired interpretation, while in the second example, increasing the probability of TV conflicts with the first example's probability. This conflict arises due to the shared production rules between the natural and un-natural parses, making it difficult to achieve the desired interpretations simultaneously. therefore, we assume we can't modify the PCFG such that both sentences are parsed according to their natural readings for these sentences._"
      ]
    },
    {
      "cell_type": "markdown",
      "id": "ad5e8675",
      "metadata": {
        "deletable": false,
        "editable": false,
        "id": "ad5e8675"
      },
      "source": [
        "<!-- END QUESTION -->\n",
        "\n",
        "# Conversion to Chomsky Normal Form\n",
        "\n",
        "The grammar (`probabilistic_grammar`) is almost in Chomsky Normal Form (which would make it suitable for the CKY algorithm). How many of its rules are not in CNF?\n",
        "\n",
        "<!--\n",
        "BEGIN QUESTION\n",
        "name: non_cnf_rule_count\n",
        "-->"
      ]
    },
    {
      "cell_type": "code",
      "execution_count": 10,
      "id": "b123eccc",
      "metadata": {
        "id": "b123eccc"
      },
      "outputs": [],
      "source": [
        "# TODO\n",
        "non_cnf_rule_count = 1"
      ]
    },
    {
      "cell_type": "code",
      "execution_count": 11,
      "id": "9c7a6869",
      "metadata": {
        "deletable": false,
        "editable": false,
        "colab": {
          "base_uri": "https://localhost:8080/",
          "height": 46
        },
        "id": "9c7a6869",
        "outputId": "2e6e9713-fe1c-4f9e-a112-3884ec4e1239"
      },
      "outputs": [
        {
          "output_type": "execute_result",
          "data": {
            "text/plain": [
              "\n",
              "    All tests passed!\n",
              "    "
            ],
            "text/html": [
              "\n",
              "    \n",
              "    \n",
              "        <p>All tests passed!</p>\n",
              "    \n",
              "    "
            ]
          },
          "metadata": {},
          "execution_count": 11
        }
      ],
      "source": [
        "grader.check(\"non_cnf_rule_count\")"
      ]
    },
    {
      "cell_type": "markdown",
      "id": "c0a64a3a",
      "metadata": {
        "deletable": false,
        "editable": false,
        "id": "c0a64a3a"
      },
      "source": [
        "Convert the grammar `probabilistic_grammar` by hand to a CNF grammar. Try to make as few changes to the grammar as possible.\n",
        "\n",
        "> **Important:** You should start with `probabilistic_grammar`, not `probabilistic_grammar_reweighted`.\n",
        "\n",
        "> **Hint:** As part of your solution, you should make use of a new nonterminal `NP_PP`. (Later tests will depend on this.)\n",
        "\n",
        "<!--\n",
        "BEGIN QUESTION\n",
        "name: cnf_conversion\n",
        "-->"
      ]
    },
    {
      "cell_type": "code",
      "execution_count": 12,
      "id": "81561167",
      "metadata": {
        "id": "81561167"
      },
      "outputs": [],
      "source": [
        "# TODO - convert `probabilistic_grammar` to CNF. You should make\n",
        "#        use of a new nonterminal `NP_PP`.\n",
        "probabilistic_grammar_cnf = nltk.PCFG.fromstring(\n",
        "    \"\"\"\n",
        "    S -> NP VP [1.0]\n",
        "\n",
        "    NP -> DT N [0.6]\n",
        "\n",
        "    N -> N PP [0.2]\n",
        "\n",
        "    VP -> TV NP [0.9] | DTV NP_PP [0.1]\n",
        "\n",
        "    NP_PP -> NP PP [1.0]\n",
        "\n",
        "    PP -> P NP [1.0]\n",
        "\n",
        "    DT ->  'a' [0.5] | 'the' [0.5]\n",
        "\n",
        "    N -> 'books' [0.2] | 'gifts' [0.2]\n",
        "    N -> 'table' [0.2] | 'book' [0.2]\n",
        "\n",
        "    NP -> 'Twain' [0.2] | 'Howells' [0.2]\n",
        "\n",
        "    DTV -> 'bought' [0.5] | 'put' [0.5]\n",
        "    TV ->  'bought' [0.5] | 'saw' [0.5]\n",
        "\n",
        "    P ->   'on' [0.3] | 'of' [0.4] | 'by' [0.1] | 'for' [0.2]\n",
        "    \"\"\"\n",
        ")"
      ]
    },
    {
      "cell_type": "code",
      "execution_count": 13,
      "id": "34c922f4",
      "metadata": {
        "deletable": false,
        "editable": false,
        "colab": {
          "base_uri": "https://localhost:8080/",
          "height": 46
        },
        "id": "34c922f4",
        "outputId": "19e6163b-b4db-4e9c-b692-a7471b30fb59"
      },
      "outputs": [
        {
          "output_type": "execute_result",
          "data": {
            "text/plain": [
              "\n",
              "    All tests passed!\n",
              "    "
            ],
            "text/html": [
              "\n",
              "    \n",
              "    \n",
              "        <p>All tests passed!</p>\n",
              "    \n",
              "    "
            ]
          },
          "metadata": {},
          "execution_count": 13
        }
      ],
      "source": [
        "grader.check(\"cnf_conversion\")"
      ]
    },
    {
      "cell_type": "markdown",
      "id": "3c846df8",
      "metadata": {
        "id": "3c846df8"
      },
      "source": [
        "# Probabilistic CKY\n",
        "\n",
        "You've been availing yourself of a probabilistic parsing algorithm in the NLTK package. It's time to see how such algorithms work. In lab 3-2 you worked with the CKY algorithm as a recognizer and its extension to a parser using backpointers. In the following section you will familiarize yourself with the probabilistic extension of the CKY parser, as presented by Jurafsky & Martin (Appendix C), which returns the most probable parse (MPP) of a string according to a PCFG grammar."
      ]
    },
    {
      "cell_type": "markdown",
      "id": "a27a8ddb",
      "metadata": {
        "id": "a27a8ddb"
      },
      "source": [
        "Now that we have a CNF grammar `probabilistic_grammar_cnf`, we can use the CKY algorithm to parse an example sentence. For reference, here is a pseudo-code version of the probabilistic CKY algorithm:\n",
        "\n",
        "```\n",
        " 1.  define cky-mpp(string = w1, ..., wN, grammar):\n",
        " 2.      for j in [1..N]:                     # each end string position\n",
        "\n",
        "             # handle rules of the form A -> w\n",
        " 3.          for all A where A -> wj in grammar:\n",
        " 4.              T[j-1, j, A] := Pr(A -> wj)\n",
        "\n",
        "             # handle rules of the form A -> B C\n",
        " 5.          for length in [2..j]:            # each subconstituent length\n",
        " 6.              i := j - length              # start string position\n",
        " 7.              for split in [i+1..j-1]      # each split point\n",
        " 8.                  for all A where\n",
        " 9.                          A -> B C in grammar\n",
        "10.                          and T[i, split, B] > 0\n",
        "11.                          and T[split, j, C] > 0:\n",
        "12.                      new_prob := Pr(A -> B C)\n",
        "13.                                  x table[i, split, B]\n",
        "14.                                  x table[split, j, C]\n",
        "15.                      if T[i, j, A] < new_prob\n",
        "16.                         then T[i, j, A] := new_prob\n",
        "17,                              back[i, j, A] := (split, B, C)\n",
        "18.      return (build_tree(back[0, N, S]), T[0, N, S]\n",
        "```"
      ]
    },
    {
      "cell_type": "markdown",
      "id": "9a597028",
      "metadata": {
        "id": "9a597028"
      },
      "source": [
        "This PCKY algorithm is almost identical to the CKY variant you used in lab 3-2, with only a few differences, namely:\n",
        "\n",
        "1. Table dimensions for a sentence of $N$ words:\n",
        "\n",
        "  * CKY: $(N+1)\\times(N+1)$\n",
        "  \n",
        "  * PCKY: $(N+1)\\times(N+1)\\times |\\cal{N}|$\n",
        "\n",
        "2. Table values:\n",
        "\n",
        "  * CKY: list of constituents\n",
        "  \n",
        "  * PCKY: probabilities, where `table[i, j, A]` is the maximum probability of nonterminal `A` covering words between string positions `i` and `j`\n",
        "\n",
        "3. Backpointers:\n",
        "\n",
        "  * CKY: mapping from nonterminals to set of all possible split positions and rules\n",
        "  \n",
        "  * PCKY: mapping from nonterminals to the single most probable split position and rule"
      ]
    },
    {
      "cell_type": "markdown",
      "id": "a1e0cd77",
      "metadata": {
        "id": "a1e0cd77"
      },
      "source": [
        "Notice that the probabilities of all the rules with the same left-hand side sum to 1."
      ]
    },
    {
      "cell_type": "markdown",
      "id": "fc69ffcf",
      "metadata": {
        "id": "fc69ffcf"
      },
      "source": [
        "We will implement the required $(N+1)\\times(N+1)\\times|\\cal{N}|$ three-dimensional tables as $(N+1)\\times(N+1)$ two-dimensional tables, in which each cell will hold a dictionary mapping nonterminals to the required entry values. We will implement separate recognition and backpointer tables:\n",
        "\n",
        "* For the recognition table `table`, the entry values are the probabilities.\n",
        "* For the backpointers table `back`, the entry values are the appropriate backpointer `(split, B, C)`.\n",
        "\n",
        "As in lab 3-2, all the cells that need not be filled contain '---'. All other cells are initialized with an appropriate default dictionary. Run the following code to initialize the tables. (You don't need to go over it, we will look at a specific cell to better understand the content.)"
      ]
    },
    {
      "cell_type": "code",
      "execution_count": 14,
      "id": "c9b5656e",
      "metadata": {
        "id": "c9b5656e"
      },
      "outputs": [],
      "source": [
        "def make_tables(words):\n",
        "    words = [\"\"] + words\n",
        "    N = len(words)\n",
        "\n",
        "    # initialize data in tables\n",
        "    table_data = [[\"---\" for i in range(N)] for j in range(N)]\n",
        "    back_data = [[\"---\" for i in range(N)] for j in range(N)]\n",
        "\n",
        "    # add in upper triangular elements\n",
        "    for i in range(N):\n",
        "        for j in range(N):\n",
        "            if i < j:\n",
        "                table_data[i][j] = defaultdict(float)\n",
        "                back_data[i][j] = defaultdict(lambda x: None)\n",
        "\n",
        "    # generate corresponding data frames\n",
        "    table = pd.DataFrame(table_data, columns=words, index=range(N))\n",
        "    table.columns = pd.MultiIndex.from_arrays([table.columns] + [range(N)])\n",
        "    back = pd.DataFrame(back_data, columns=words, index=list(range(N)))\n",
        "    back.columns = pd.MultiIndex.from_arrays([back.columns] + [range(N)])\n",
        "    return (table, back)\n",
        "\n",
        "table, back = make_tables(example1.split())"
      ]
    },
    {
      "cell_type": "markdown",
      "id": "52bb33c2",
      "metadata": {
        "id": "52bb33c2"
      },
      "source": [
        "Let's print out one of the tables:"
      ]
    },
    {
      "cell_type": "code",
      "execution_count": 15,
      "id": "4bddd332",
      "metadata": {
        "colab": {
          "base_uri": "https://localhost:8080/",
          "height": 300
        },
        "id": "4bddd332",
        "outputId": "012f236b-7588-427a-ad2e-c013d031b091"
      },
      "outputs": [
        {
          "output_type": "execute_result",
          "data": {
            "text/plain": [
              "       Twain bought    a book  for Howells\n",
              "     0     1      2    3    4    5       6\n",
              "0  ---    {}     {}   {}   {}   {}      {}\n",
              "1  ---   ---     {}   {}   {}   {}      {}\n",
              "2  ---   ---    ---   {}   {}   {}      {}\n",
              "3  ---   ---    ---  ---   {}   {}      {}\n",
              "4  ---   ---    ---  ---  ---   {}      {}\n",
              "5  ---   ---    ---  ---  ---  ---      {}\n",
              "6  ---   ---    ---  ---  ---  ---     ---"
            ],
            "text/html": [
              "\n",
              "  <div id=\"df-cff4ed8d-61e8-4872-b3ca-246eccfcbdd4\">\n",
              "    <div class=\"colab-df-container\">\n",
              "      <div>\n",
              "<style scoped>\n",
              "    .dataframe tbody tr th:only-of-type {\n",
              "        vertical-align: middle;\n",
              "    }\n",
              "\n",
              "    .dataframe tbody tr th {\n",
              "        vertical-align: top;\n",
              "    }\n",
              "\n",
              "    .dataframe thead tr th {\n",
              "        text-align: left;\n",
              "    }\n",
              "</style>\n",
              "<table border=\"1\" class=\"dataframe\">\n",
              "  <thead>\n",
              "    <tr>\n",
              "      <th></th>\n",
              "      <th></th>\n",
              "      <th>Twain</th>\n",
              "      <th>bought</th>\n",
              "      <th>a</th>\n",
              "      <th>book</th>\n",
              "      <th>for</th>\n",
              "      <th>Howells</th>\n",
              "    </tr>\n",
              "    <tr>\n",
              "      <th></th>\n",
              "      <th>0</th>\n",
              "      <th>1</th>\n",
              "      <th>2</th>\n",
              "      <th>3</th>\n",
              "      <th>4</th>\n",
              "      <th>5</th>\n",
              "      <th>6</th>\n",
              "    </tr>\n",
              "  </thead>\n",
              "  <tbody>\n",
              "    <tr>\n",
              "      <th>0</th>\n",
              "      <td>---</td>\n",
              "      <td>{}</td>\n",
              "      <td>{}</td>\n",
              "      <td>{}</td>\n",
              "      <td>{}</td>\n",
              "      <td>{}</td>\n",
              "      <td>{}</td>\n",
              "    </tr>\n",
              "    <tr>\n",
              "      <th>1</th>\n",
              "      <td>---</td>\n",
              "      <td>---</td>\n",
              "      <td>{}</td>\n",
              "      <td>{}</td>\n",
              "      <td>{}</td>\n",
              "      <td>{}</td>\n",
              "      <td>{}</td>\n",
              "    </tr>\n",
              "    <tr>\n",
              "      <th>2</th>\n",
              "      <td>---</td>\n",
              "      <td>---</td>\n",
              "      <td>---</td>\n",
              "      <td>{}</td>\n",
              "      <td>{}</td>\n",
              "      <td>{}</td>\n",
              "      <td>{}</td>\n",
              "    </tr>\n",
              "    <tr>\n",
              "      <th>3</th>\n",
              "      <td>---</td>\n",
              "      <td>---</td>\n",
              "      <td>---</td>\n",
              "      <td>---</td>\n",
              "      <td>{}</td>\n",
              "      <td>{}</td>\n",
              "      <td>{}</td>\n",
              "    </tr>\n",
              "    <tr>\n",
              "      <th>4</th>\n",
              "      <td>---</td>\n",
              "      <td>---</td>\n",
              "      <td>---</td>\n",
              "      <td>---</td>\n",
              "      <td>---</td>\n",
              "      <td>{}</td>\n",
              "      <td>{}</td>\n",
              "    </tr>\n",
              "    <tr>\n",
              "      <th>5</th>\n",
              "      <td>---</td>\n",
              "      <td>---</td>\n",
              "      <td>---</td>\n",
              "      <td>---</td>\n",
              "      <td>---</td>\n",
              "      <td>---</td>\n",
              "      <td>{}</td>\n",
              "    </tr>\n",
              "    <tr>\n",
              "      <th>6</th>\n",
              "      <td>---</td>\n",
              "      <td>---</td>\n",
              "      <td>---</td>\n",
              "      <td>---</td>\n",
              "      <td>---</td>\n",
              "      <td>---</td>\n",
              "      <td>---</td>\n",
              "    </tr>\n",
              "  </tbody>\n",
              "</table>\n",
              "</div>\n",
              "      <button class=\"colab-df-convert\" onclick=\"convertToInteractive('df-cff4ed8d-61e8-4872-b3ca-246eccfcbdd4')\"\n",
              "              title=\"Convert this dataframe to an interactive table.\"\n",
              "              style=\"display:none;\">\n",
              "        \n",
              "  <svg xmlns=\"http://www.w3.org/2000/svg\" height=\"24px\"viewBox=\"0 0 24 24\"\n",
              "       width=\"24px\">\n",
              "    <path d=\"M0 0h24v24H0V0z\" fill=\"none\"/>\n",
              "    <path d=\"M18.56 5.44l.94 2.06.94-2.06 2.06-.94-2.06-.94-.94-2.06-.94 2.06-2.06.94zm-11 1L8.5 8.5l.94-2.06 2.06-.94-2.06-.94L8.5 2.5l-.94 2.06-2.06.94zm10 10l.94 2.06.94-2.06 2.06-.94-2.06-.94-.94-2.06-.94 2.06-2.06.94z\"/><path d=\"M17.41 7.96l-1.37-1.37c-.4-.4-.92-.59-1.43-.59-.52 0-1.04.2-1.43.59L10.3 9.45l-7.72 7.72c-.78.78-.78 2.05 0 2.83L4 21.41c.39.39.9.59 1.41.59.51 0 1.02-.2 1.41-.59l7.78-7.78 2.81-2.81c.8-.78.8-2.07 0-2.86zM5.41 20L4 18.59l7.72-7.72 1.47 1.35L5.41 20z\"/>\n",
              "  </svg>\n",
              "      </button>\n",
              "      \n",
              "  <style>\n",
              "    .colab-df-container {\n",
              "      display:flex;\n",
              "      flex-wrap:wrap;\n",
              "      gap: 12px;\n",
              "    }\n",
              "\n",
              "    .colab-df-convert {\n",
              "      background-color: #E8F0FE;\n",
              "      border: none;\n",
              "      border-radius: 50%;\n",
              "      cursor: pointer;\n",
              "      display: none;\n",
              "      fill: #1967D2;\n",
              "      height: 32px;\n",
              "      padding: 0 0 0 0;\n",
              "      width: 32px;\n",
              "    }\n",
              "\n",
              "    .colab-df-convert:hover {\n",
              "      background-color: #E2EBFA;\n",
              "      box-shadow: 0px 1px 2px rgba(60, 64, 67, 0.3), 0px 1px 3px 1px rgba(60, 64, 67, 0.15);\n",
              "      fill: #174EA6;\n",
              "    }\n",
              "\n",
              "    [theme=dark] .colab-df-convert {\n",
              "      background-color: #3B4455;\n",
              "      fill: #D2E3FC;\n",
              "    }\n",
              "\n",
              "    [theme=dark] .colab-df-convert:hover {\n",
              "      background-color: #434B5C;\n",
              "      box-shadow: 0px 1px 3px 1px rgba(0, 0, 0, 0.15);\n",
              "      filter: drop-shadow(0px 1px 2px rgba(0, 0, 0, 0.3));\n",
              "      fill: #FFFFFF;\n",
              "    }\n",
              "  </style>\n",
              "\n",
              "      <script>\n",
              "        const buttonEl =\n",
              "          document.querySelector('#df-cff4ed8d-61e8-4872-b3ca-246eccfcbdd4 button.colab-df-convert');\n",
              "        buttonEl.style.display =\n",
              "          google.colab.kernel.accessAllowed ? 'block' : 'none';\n",
              "\n",
              "        async function convertToInteractive(key) {\n",
              "          const element = document.querySelector('#df-cff4ed8d-61e8-4872-b3ca-246eccfcbdd4');\n",
              "          const dataTable =\n",
              "            await google.colab.kernel.invokeFunction('convertToInteractive',\n",
              "                                                     [key], {});\n",
              "          if (!dataTable) return;\n",
              "\n",
              "          const docLinkHtml = 'Like what you see? Visit the ' +\n",
              "            '<a target=\"_blank\" href=https://colab.research.google.com/notebooks/data_table.ipynb>data table notebook</a>'\n",
              "            + ' to learn more about interactive tables.';\n",
              "          element.innerHTML = '';\n",
              "          dataTable['output_type'] = 'display_data';\n",
              "          await google.colab.output.renderOutput(dataTable, element);\n",
              "          const docLink = document.createElement('div');\n",
              "          docLink.innerHTML = docLinkHtml;\n",
              "          element.appendChild(docLink);\n",
              "        }\n",
              "      </script>\n",
              "    </div>\n",
              "  </div>\n",
              "  "
            ]
          },
          "metadata": {},
          "execution_count": 15
        }
      ],
      "source": [
        "table"
      ]
    },
    {
      "cell_type": "markdown",
      "id": "15d0a519",
      "metadata": {
        "id": "15d0a519"
      },
      "source": [
        "We'll \"play parser\" and fill both tables for the first four values of `j` following the pseudo-code above. Below, you'll finish filling the tables for the remaining two values of `j` yourself. Make sure you understand what's going on in the cell below before continuing."
      ]
    },
    {
      "cell_type": "code",
      "execution_count": 16,
      "id": "5fe7b25b",
      "metadata": {
        "id": "5fe7b25b"
      },
      "outputs": [],
      "source": [
        "                              # j = 1 (Twain)\n",
        "table.iloc[0,1]['NP'] = 0.2\n",
        "\n",
        "                              # j = 2 (bought)\n",
        "table.iloc[1,2]['DTV'] = 0.5\n",
        "table.iloc[1,2]['TV'] = 0.5\n",
        "                                # i = 0, split = 1: no changes\n",
        "\n",
        "                              # j = 3 (a)\n",
        "table.iloc[2,3]['DT'] = 0.5\n",
        "                                # i = 1, split = 2: no changes\n",
        "                                # i = 0, split = 1: no changes\n",
        "                                # i = 0, split = 2: no changes\n",
        "\n",
        "                              # j = 4 (book)\n",
        "table.iloc[3,4]['N'] = 0.2\n",
        "                                # i = 2, split = 3\n",
        "table.iloc[2,4]['NP'] = 0.06\n",
        "back.iloc[2,4]['NP'] = (3, 'DT', 'N')\n",
        "                                # i = 1, split = 2\n",
        "table.iloc[1,4]['VP'] = 0.027\n",
        "back.iloc[1,4]['VP'] = (2, 'TV', 'NP')\n",
        "                                # i = 1, split = 3: no changes\n",
        "                                # i = 0, split = 1\n",
        "table.iloc[0,4]['S'] = 0.0054\n",
        "back.iloc[0,4]['S'] = (1, 'NP', 'VP')\n",
        "                                # i = 0, split = 2: no changes\n",
        "                                # i = 0, split = 3: no changes"
      ]
    },
    {
      "cell_type": "markdown",
      "id": "78a1a07f",
      "metadata": {
        "id": "78a1a07f"
      },
      "source": [
        "We can see what progress has been made so far by examining the parser table."
      ]
    },
    {
      "cell_type": "code",
      "execution_count": 17,
      "id": "babffc3c",
      "metadata": {
        "colab": {
          "base_uri": "https://localhost:8080/",
          "height": 300
        },
        "id": "babffc3c",
        "outputId": "0cff4100-6133-4013-d69e-9a8088d619f6"
      },
      "outputs": [
        {
          "output_type": "execute_result",
          "data": {
            "text/plain": [
              "              Twain                   bought            a           book  for  \\\n",
              "     0            1                        2            3              4    5   \n",
              "0  ---  {'NP': 0.2}                       {}           {}  {'S': 0.0054}   {}   \n",
              "1  ---          ---  {'DTV': 0.5, 'TV': 0.5}           {}  {'VP': 0.027}   {}   \n",
              "2  ---          ---                      ---  {'DT': 0.5}   {'NP': 0.06}   {}   \n",
              "3  ---          ---                      ---          ---     {'N': 0.2}   {}   \n",
              "4  ---          ---                      ---          ---            ---   {}   \n",
              "5  ---          ---                      ---          ---            ---  ---   \n",
              "6  ---          ---                      ---          ---            ---  ---   \n",
              "\n",
              "  Howells  \n",
              "        6  \n",
              "0      {}  \n",
              "1      {}  \n",
              "2      {}  \n",
              "3      {}  \n",
              "4      {}  \n",
              "5      {}  \n",
              "6     ---  "
            ],
            "text/html": [
              "\n",
              "  <div id=\"df-c4034aab-3de2-4792-86fe-597aaa380347\">\n",
              "    <div class=\"colab-df-container\">\n",
              "      <div>\n",
              "<style scoped>\n",
              "    .dataframe tbody tr th:only-of-type {\n",
              "        vertical-align: middle;\n",
              "    }\n",
              "\n",
              "    .dataframe tbody tr th {\n",
              "        vertical-align: top;\n",
              "    }\n",
              "\n",
              "    .dataframe thead tr th {\n",
              "        text-align: left;\n",
              "    }\n",
              "</style>\n",
              "<table border=\"1\" class=\"dataframe\">\n",
              "  <thead>\n",
              "    <tr>\n",
              "      <th></th>\n",
              "      <th></th>\n",
              "      <th>Twain</th>\n",
              "      <th>bought</th>\n",
              "      <th>a</th>\n",
              "      <th>book</th>\n",
              "      <th>for</th>\n",
              "      <th>Howells</th>\n",
              "    </tr>\n",
              "    <tr>\n",
              "      <th></th>\n",
              "      <th>0</th>\n",
              "      <th>1</th>\n",
              "      <th>2</th>\n",
              "      <th>3</th>\n",
              "      <th>4</th>\n",
              "      <th>5</th>\n",
              "      <th>6</th>\n",
              "    </tr>\n",
              "  </thead>\n",
              "  <tbody>\n",
              "    <tr>\n",
              "      <th>0</th>\n",
              "      <td>---</td>\n",
              "      <td>{'NP': 0.2}</td>\n",
              "      <td>{}</td>\n",
              "      <td>{}</td>\n",
              "      <td>{'S': 0.0054}</td>\n",
              "      <td>{}</td>\n",
              "      <td>{}</td>\n",
              "    </tr>\n",
              "    <tr>\n",
              "      <th>1</th>\n",
              "      <td>---</td>\n",
              "      <td>---</td>\n",
              "      <td>{'DTV': 0.5, 'TV': 0.5}</td>\n",
              "      <td>{}</td>\n",
              "      <td>{'VP': 0.027}</td>\n",
              "      <td>{}</td>\n",
              "      <td>{}</td>\n",
              "    </tr>\n",
              "    <tr>\n",
              "      <th>2</th>\n",
              "      <td>---</td>\n",
              "      <td>---</td>\n",
              "      <td>---</td>\n",
              "      <td>{'DT': 0.5}</td>\n",
              "      <td>{'NP': 0.06}</td>\n",
              "      <td>{}</td>\n",
              "      <td>{}</td>\n",
              "    </tr>\n",
              "    <tr>\n",
              "      <th>3</th>\n",
              "      <td>---</td>\n",
              "      <td>---</td>\n",
              "      <td>---</td>\n",
              "      <td>---</td>\n",
              "      <td>{'N': 0.2}</td>\n",
              "      <td>{}</td>\n",
              "      <td>{}</td>\n",
              "    </tr>\n",
              "    <tr>\n",
              "      <th>4</th>\n",
              "      <td>---</td>\n",
              "      <td>---</td>\n",
              "      <td>---</td>\n",
              "      <td>---</td>\n",
              "      <td>---</td>\n",
              "      <td>{}</td>\n",
              "      <td>{}</td>\n",
              "    </tr>\n",
              "    <tr>\n",
              "      <th>5</th>\n",
              "      <td>---</td>\n",
              "      <td>---</td>\n",
              "      <td>---</td>\n",
              "      <td>---</td>\n",
              "      <td>---</td>\n",
              "      <td>---</td>\n",
              "      <td>{}</td>\n",
              "    </tr>\n",
              "    <tr>\n",
              "      <th>6</th>\n",
              "      <td>---</td>\n",
              "      <td>---</td>\n",
              "      <td>---</td>\n",
              "      <td>---</td>\n",
              "      <td>---</td>\n",
              "      <td>---</td>\n",
              "      <td>---</td>\n",
              "    </tr>\n",
              "  </tbody>\n",
              "</table>\n",
              "</div>\n",
              "      <button class=\"colab-df-convert\" onclick=\"convertToInteractive('df-c4034aab-3de2-4792-86fe-597aaa380347')\"\n",
              "              title=\"Convert this dataframe to an interactive table.\"\n",
              "              style=\"display:none;\">\n",
              "        \n",
              "  <svg xmlns=\"http://www.w3.org/2000/svg\" height=\"24px\"viewBox=\"0 0 24 24\"\n",
              "       width=\"24px\">\n",
              "    <path d=\"M0 0h24v24H0V0z\" fill=\"none\"/>\n",
              "    <path d=\"M18.56 5.44l.94 2.06.94-2.06 2.06-.94-2.06-.94-.94-2.06-.94 2.06-2.06.94zm-11 1L8.5 8.5l.94-2.06 2.06-.94-2.06-.94L8.5 2.5l-.94 2.06-2.06.94zm10 10l.94 2.06.94-2.06 2.06-.94-2.06-.94-.94-2.06-.94 2.06-2.06.94z\"/><path d=\"M17.41 7.96l-1.37-1.37c-.4-.4-.92-.59-1.43-.59-.52 0-1.04.2-1.43.59L10.3 9.45l-7.72 7.72c-.78.78-.78 2.05 0 2.83L4 21.41c.39.39.9.59 1.41.59.51 0 1.02-.2 1.41-.59l7.78-7.78 2.81-2.81c.8-.78.8-2.07 0-2.86zM5.41 20L4 18.59l7.72-7.72 1.47 1.35L5.41 20z\"/>\n",
              "  </svg>\n",
              "      </button>\n",
              "      \n",
              "  <style>\n",
              "    .colab-df-container {\n",
              "      display:flex;\n",
              "      flex-wrap:wrap;\n",
              "      gap: 12px;\n",
              "    }\n",
              "\n",
              "    .colab-df-convert {\n",
              "      background-color: #E8F0FE;\n",
              "      border: none;\n",
              "      border-radius: 50%;\n",
              "      cursor: pointer;\n",
              "      display: none;\n",
              "      fill: #1967D2;\n",
              "      height: 32px;\n",
              "      padding: 0 0 0 0;\n",
              "      width: 32px;\n",
              "    }\n",
              "\n",
              "    .colab-df-convert:hover {\n",
              "      background-color: #E2EBFA;\n",
              "      box-shadow: 0px 1px 2px rgba(60, 64, 67, 0.3), 0px 1px 3px 1px rgba(60, 64, 67, 0.15);\n",
              "      fill: #174EA6;\n",
              "    }\n",
              "\n",
              "    [theme=dark] .colab-df-convert {\n",
              "      background-color: #3B4455;\n",
              "      fill: #D2E3FC;\n",
              "    }\n",
              "\n",
              "    [theme=dark] .colab-df-convert:hover {\n",
              "      background-color: #434B5C;\n",
              "      box-shadow: 0px 1px 3px 1px rgba(0, 0, 0, 0.15);\n",
              "      filter: drop-shadow(0px 1px 2px rgba(0, 0, 0, 0.3));\n",
              "      fill: #FFFFFF;\n",
              "    }\n",
              "  </style>\n",
              "\n",
              "      <script>\n",
              "        const buttonEl =\n",
              "          document.querySelector('#df-c4034aab-3de2-4792-86fe-597aaa380347 button.colab-df-convert');\n",
              "        buttonEl.style.display =\n",
              "          google.colab.kernel.accessAllowed ? 'block' : 'none';\n",
              "\n",
              "        async function convertToInteractive(key) {\n",
              "          const element = document.querySelector('#df-c4034aab-3de2-4792-86fe-597aaa380347');\n",
              "          const dataTable =\n",
              "            await google.colab.kernel.invokeFunction('convertToInteractive',\n",
              "                                                     [key], {});\n",
              "          if (!dataTable) return;\n",
              "\n",
              "          const docLinkHtml = 'Like what you see? Visit the ' +\n",
              "            '<a target=\"_blank\" href=https://colab.research.google.com/notebooks/data_table.ipynb>data table notebook</a>'\n",
              "            + ' to learn more about interactive tables.';\n",
              "          element.innerHTML = '';\n",
              "          dataTable['output_type'] = 'display_data';\n",
              "          await google.colab.output.renderOutput(dataTable, element);\n",
              "          const docLink = document.createElement('div');\n",
              "          docLink.innerHTML = docLinkHtml;\n",
              "          element.appendChild(docLink);\n",
              "        }\n",
              "      </script>\n",
              "    </div>\n",
              "  </div>\n",
              "  "
            ]
          },
          "metadata": {},
          "execution_count": 17
        }
      ],
      "source": [
        "table"
      ]
    },
    {
      "cell_type": "markdown",
      "id": "b4eae689",
      "metadata": {
        "deletable": false,
        "editable": false,
        "id": "b4eae689"
      },
      "source": [
        "Now it's time for you to finish filling the last two columns of the table (**manually**, there is no need to write code that solves the general case).\n",
        "\n",
        "<!--\n",
        "BEGIN QUESTION\n",
        "name: pcky_fill_table\n",
        "points: 6\n",
        "-->"
      ]
    },
    {
      "cell_type": "code",
      "execution_count": 18,
      "id": "60984792",
      "metadata": {
        "id": "60984792"
      },
      "outputs": [],
      "source": [
        "# TODO - Continue filling in the tables as shown above.\n",
        "#        *DO NOT* round any results since hidden tests check for them.\n",
        "table.iloc[4,5]['P'] = 0.2\n",
        "table.iloc[5,6]['NP'] = 0.2\n",
        "table.iloc[4,6]['PP'] = 0.2 * 0.2 * 1\n",
        "back.iloc[4,6]['PP'] = (5, 'P', 'NP')\n",
        "table.iloc[3,6]['N'] = 0.2 * 0.2 * table.iloc[4,6]['PP']\n",
        "back.iloc[3,6]['N'] = (4, 'N', 'PP')\n",
        "table.iloc[2,6]['NP_PP'] = 1 * 0.06 * 0.04\n",
        "back.iloc[2,6]['NP_PP'] = (4, 'NP', 'PP')\n",
        "table.iloc[2,6]['NP'] = 0.6 * 0.5 * table.iloc[3,6]['N']\n",
        "back.iloc[2,6]['NP'] = (3, 'DT', 'N')\n",
        "table.iloc[1,6]['VP'] = 0.9 * 0.5 * table.iloc[2,6]['NP']\n",
        "back.iloc[1,6]['VP'] = (2, 'TV', 'NP')\n",
        "table.iloc[0,6]['S'] = 1 * 0.2 * table.iloc[1,6]['VP']\n",
        "back.iloc[0,6]['S'] = (1, 'NP', 'VP')"
      ]
    },
    {
      "cell_type": "code",
      "execution_count": 19,
      "id": "3e6ab1e1",
      "metadata": {
        "deletable": false,
        "editable": false,
        "colab": {
          "base_uri": "https://localhost:8080/",
          "height": 46
        },
        "id": "3e6ab1e1",
        "outputId": "ae999692-a205-4d6b-bf25-f5e768509d37"
      },
      "outputs": [
        {
          "output_type": "execute_result",
          "data": {
            "text/plain": [
              "\n",
              "    All tests passed!\n",
              "    "
            ],
            "text/html": [
              "\n",
              "    \n",
              "    \n",
              "        <p>All tests passed!</p>\n",
              "    \n",
              "    "
            ]
          },
          "metadata": {},
          "execution_count": 19
        }
      ],
      "source": [
        "grader.check(\"pcky_fill_table\")"
      ]
    },
    {
      "cell_type": "markdown",
      "id": "57a32b69",
      "metadata": {
        "id": "57a32b69"
      },
      "source": [
        "In addition to the table of probabilities, the algorithm also maintains the backpointer table."
      ]
    },
    {
      "cell_type": "code",
      "execution_count": 20,
      "id": "fc281d62",
      "metadata": {
        "colab": {
          "base_uri": "https://localhost:8080/",
          "height": 300
        },
        "id": "fc281d62",
        "outputId": "2b57d2c3-4fa8-4ee0-89bc-e3087dc3a138"
      },
      "outputs": [
        {
          "output_type": "execute_result",
          "data": {
            "text/plain": [
              "       Twain bought    a                     book  for  \\\n",
              "     0     1      2    3                        4    5   \n",
              "0  ---    {}     {}   {}   {'S': (1, 'NP', 'VP')}   {}   \n",
              "1  ---   ---     {}   {}  {'VP': (2, 'TV', 'NP')}   {}   \n",
              "2  ---   ---    ---   {}   {'NP': (3, 'DT', 'N')}   {}   \n",
              "3  ---   ---    ---  ---                       {}   {}   \n",
              "4  ---   ---    ---  ---                      ---   {}   \n",
              "5  ---   ---    ---  ---                      ---  ---   \n",
              "6  ---   ---    ---  ---                      ---  ---   \n",
              "\n",
              "                                            Howells  \n",
              "                                                  6  \n",
              "0                            {'S': (1, 'NP', 'VP')}  \n",
              "1                           {'VP': (2, 'TV', 'NP')}  \n",
              "2  {'NP_PP': (4, 'NP', 'PP'), 'NP': (3, 'DT', 'N')}  \n",
              "3                             {'N': (4, 'N', 'PP')}  \n",
              "4                            {'PP': (5, 'P', 'NP')}  \n",
              "5                                                {}  \n",
              "6                                               ---  "
            ],
            "text/html": [
              "\n",
              "  <div id=\"df-51bf856e-bed1-4a27-aa57-32127876c105\">\n",
              "    <div class=\"colab-df-container\">\n",
              "      <div>\n",
              "<style scoped>\n",
              "    .dataframe tbody tr th:only-of-type {\n",
              "        vertical-align: middle;\n",
              "    }\n",
              "\n",
              "    .dataframe tbody tr th {\n",
              "        vertical-align: top;\n",
              "    }\n",
              "\n",
              "    .dataframe thead tr th {\n",
              "        text-align: left;\n",
              "    }\n",
              "</style>\n",
              "<table border=\"1\" class=\"dataframe\">\n",
              "  <thead>\n",
              "    <tr>\n",
              "      <th></th>\n",
              "      <th></th>\n",
              "      <th>Twain</th>\n",
              "      <th>bought</th>\n",
              "      <th>a</th>\n",
              "      <th>book</th>\n",
              "      <th>for</th>\n",
              "      <th>Howells</th>\n",
              "    </tr>\n",
              "    <tr>\n",
              "      <th></th>\n",
              "      <th>0</th>\n",
              "      <th>1</th>\n",
              "      <th>2</th>\n",
              "      <th>3</th>\n",
              "      <th>4</th>\n",
              "      <th>5</th>\n",
              "      <th>6</th>\n",
              "    </tr>\n",
              "  </thead>\n",
              "  <tbody>\n",
              "    <tr>\n",
              "      <th>0</th>\n",
              "      <td>---</td>\n",
              "      <td>{}</td>\n",
              "      <td>{}</td>\n",
              "      <td>{}</td>\n",
              "      <td>{'S': (1, 'NP', 'VP')}</td>\n",
              "      <td>{}</td>\n",
              "      <td>{'S': (1, 'NP', 'VP')}</td>\n",
              "    </tr>\n",
              "    <tr>\n",
              "      <th>1</th>\n",
              "      <td>---</td>\n",
              "      <td>---</td>\n",
              "      <td>{}</td>\n",
              "      <td>{}</td>\n",
              "      <td>{'VP': (2, 'TV', 'NP')}</td>\n",
              "      <td>{}</td>\n",
              "      <td>{'VP': (2, 'TV', 'NP')}</td>\n",
              "    </tr>\n",
              "    <tr>\n",
              "      <th>2</th>\n",
              "      <td>---</td>\n",
              "      <td>---</td>\n",
              "      <td>---</td>\n",
              "      <td>{}</td>\n",
              "      <td>{'NP': (3, 'DT', 'N')}</td>\n",
              "      <td>{}</td>\n",
              "      <td>{'NP_PP': (4, 'NP', 'PP'), 'NP': (3, 'DT', 'N')}</td>\n",
              "    </tr>\n",
              "    <tr>\n",
              "      <th>3</th>\n",
              "      <td>---</td>\n",
              "      <td>---</td>\n",
              "      <td>---</td>\n",
              "      <td>---</td>\n",
              "      <td>{}</td>\n",
              "      <td>{}</td>\n",
              "      <td>{'N': (4, 'N', 'PP')}</td>\n",
              "    </tr>\n",
              "    <tr>\n",
              "      <th>4</th>\n",
              "      <td>---</td>\n",
              "      <td>---</td>\n",
              "      <td>---</td>\n",
              "      <td>---</td>\n",
              "      <td>---</td>\n",
              "      <td>{}</td>\n",
              "      <td>{'PP': (5, 'P', 'NP')}</td>\n",
              "    </tr>\n",
              "    <tr>\n",
              "      <th>5</th>\n",
              "      <td>---</td>\n",
              "      <td>---</td>\n",
              "      <td>---</td>\n",
              "      <td>---</td>\n",
              "      <td>---</td>\n",
              "      <td>---</td>\n",
              "      <td>{}</td>\n",
              "    </tr>\n",
              "    <tr>\n",
              "      <th>6</th>\n",
              "      <td>---</td>\n",
              "      <td>---</td>\n",
              "      <td>---</td>\n",
              "      <td>---</td>\n",
              "      <td>---</td>\n",
              "      <td>---</td>\n",
              "      <td>---</td>\n",
              "    </tr>\n",
              "  </tbody>\n",
              "</table>\n",
              "</div>\n",
              "      <button class=\"colab-df-convert\" onclick=\"convertToInteractive('df-51bf856e-bed1-4a27-aa57-32127876c105')\"\n",
              "              title=\"Convert this dataframe to an interactive table.\"\n",
              "              style=\"display:none;\">\n",
              "        \n",
              "  <svg xmlns=\"http://www.w3.org/2000/svg\" height=\"24px\"viewBox=\"0 0 24 24\"\n",
              "       width=\"24px\">\n",
              "    <path d=\"M0 0h24v24H0V0z\" fill=\"none\"/>\n",
              "    <path d=\"M18.56 5.44l.94 2.06.94-2.06 2.06-.94-2.06-.94-.94-2.06-.94 2.06-2.06.94zm-11 1L8.5 8.5l.94-2.06 2.06-.94-2.06-.94L8.5 2.5l-.94 2.06-2.06.94zm10 10l.94 2.06.94-2.06 2.06-.94-2.06-.94-.94-2.06-.94 2.06-2.06.94z\"/><path d=\"M17.41 7.96l-1.37-1.37c-.4-.4-.92-.59-1.43-.59-.52 0-1.04.2-1.43.59L10.3 9.45l-7.72 7.72c-.78.78-.78 2.05 0 2.83L4 21.41c.39.39.9.59 1.41.59.51 0 1.02-.2 1.41-.59l7.78-7.78 2.81-2.81c.8-.78.8-2.07 0-2.86zM5.41 20L4 18.59l7.72-7.72 1.47 1.35L5.41 20z\"/>\n",
              "  </svg>\n",
              "      </button>\n",
              "      \n",
              "  <style>\n",
              "    .colab-df-container {\n",
              "      display:flex;\n",
              "      flex-wrap:wrap;\n",
              "      gap: 12px;\n",
              "    }\n",
              "\n",
              "    .colab-df-convert {\n",
              "      background-color: #E8F0FE;\n",
              "      border: none;\n",
              "      border-radius: 50%;\n",
              "      cursor: pointer;\n",
              "      display: none;\n",
              "      fill: #1967D2;\n",
              "      height: 32px;\n",
              "      padding: 0 0 0 0;\n",
              "      width: 32px;\n",
              "    }\n",
              "\n",
              "    .colab-df-convert:hover {\n",
              "      background-color: #E2EBFA;\n",
              "      box-shadow: 0px 1px 2px rgba(60, 64, 67, 0.3), 0px 1px 3px 1px rgba(60, 64, 67, 0.15);\n",
              "      fill: #174EA6;\n",
              "    }\n",
              "\n",
              "    [theme=dark] .colab-df-convert {\n",
              "      background-color: #3B4455;\n",
              "      fill: #D2E3FC;\n",
              "    }\n",
              "\n",
              "    [theme=dark] .colab-df-convert:hover {\n",
              "      background-color: #434B5C;\n",
              "      box-shadow: 0px 1px 3px 1px rgba(0, 0, 0, 0.15);\n",
              "      filter: drop-shadow(0px 1px 2px rgba(0, 0, 0, 0.3));\n",
              "      fill: #FFFFFF;\n",
              "    }\n",
              "  </style>\n",
              "\n",
              "      <script>\n",
              "        const buttonEl =\n",
              "          document.querySelector('#df-51bf856e-bed1-4a27-aa57-32127876c105 button.colab-df-convert');\n",
              "        buttonEl.style.display =\n",
              "          google.colab.kernel.accessAllowed ? 'block' : 'none';\n",
              "\n",
              "        async function convertToInteractive(key) {\n",
              "          const element = document.querySelector('#df-51bf856e-bed1-4a27-aa57-32127876c105');\n",
              "          const dataTable =\n",
              "            await google.colab.kernel.invokeFunction('convertToInteractive',\n",
              "                                                     [key], {});\n",
              "          if (!dataTable) return;\n",
              "\n",
              "          const docLinkHtml = 'Like what you see? Visit the ' +\n",
              "            '<a target=\"_blank\" href=https://colab.research.google.com/notebooks/data_table.ipynb>data table notebook</a>'\n",
              "            + ' to learn more about interactive tables.';\n",
              "          element.innerHTML = '';\n",
              "          dataTable['output_type'] = 'display_data';\n",
              "          await google.colab.output.renderOutput(dataTable, element);\n",
              "          const docLink = document.createElement('div');\n",
              "          docLink.innerHTML = docLinkHtml;\n",
              "          element.appendChild(docLink);\n",
              "        }\n",
              "      </script>\n",
              "    </div>\n",
              "  </div>\n",
              "  "
            ]
          },
          "metadata": {},
          "execution_count": 20
        }
      ],
      "source": [
        "back"
      ]
    },
    {
      "cell_type": "markdown",
      "id": "4dd2d3c7",
      "metadata": {
        "deletable": false,
        "editable": false,
        "id": "4dd2d3c7"
      },
      "source": [
        "Reconstruct the parse tree that the algorithm finds by chasing backpointers in this table, and enter it using parenthesized string notation in the next cell.\n",
        "\n",
        "> **Hint:** You'll definitely need pencil and paper for this. Start with the entry at 0,6 and work backwards from there.\n",
        "\n",
        "<!--\n",
        "BEGIN QUESTION\n",
        "name: best_parse\n",
        "-->"
      ]
    },
    {
      "cell_type": "code",
      "execution_count": 21,
      "id": "d53a890d",
      "metadata": {
        "id": "d53a890d"
      },
      "outputs": [],
      "source": [
        "# TODO\n",
        "best_parse = nltk.Tree.fromstring(\n",
        "    \"(S (NP Twain) (VP (TV bought) (NP (DT a) (N (N book) (PP (P for) (NP Howells))))))\"\n",
        ")"
      ]
    },
    {
      "cell_type": "code",
      "execution_count": 22,
      "id": "e3f987da",
      "metadata": {
        "deletable": false,
        "editable": false,
        "colab": {
          "base_uri": "https://localhost:8080/",
          "height": 46
        },
        "id": "e3f987da",
        "outputId": "cc6fc9ae-76a5-46b1-9a96-8e7c4d0d0b56"
      },
      "outputs": [
        {
          "output_type": "execute_result",
          "data": {
            "text/plain": [
              "\n",
              "    All tests passed!\n",
              "    "
            ],
            "text/html": [
              "\n",
              "    \n",
              "    \n",
              "        <p>All tests passed!</p>\n",
              "    \n",
              "    "
            ]
          },
          "metadata": {},
          "execution_count": 22
        }
      ],
      "source": [
        "grader.check(\"best_parse\")"
      ]
    },
    {
      "cell_type": "markdown",
      "id": "091778c6",
      "metadata": {
        "id": "091778c6"
      },
      "source": [
        "Let us look at the probability of this tree, as cached in the [0,6] entry in the probability table:"
      ]
    },
    {
      "cell_type": "code",
      "execution_count": 23,
      "id": "8ab4e7f3",
      "metadata": {
        "colab": {
          "base_uri": "https://localhost:8080/"
        },
        "id": "8ab4e7f3",
        "outputId": "4a2f556a-78a5-4eb4-ccbb-ccbf1f6cb7a1"
      },
      "outputs": [
        {
          "output_type": "execute_result",
          "data": {
            "text/plain": [
              "defaultdict(float, {'S': 4.320000000000002e-05})"
            ]
          },
          "metadata": {},
          "execution_count": 23
        }
      ],
      "source": [
        "table.iloc[0,6]"
      ]
    },
    {
      "cell_type": "markdown",
      "id": "9a230290",
      "metadata": {
        "deletable": false,
        "editable": false,
        "id": "9a230290"
      },
      "source": [
        "<!-- BEGIN QUESTION -->\n",
        "\n",
        "**Question:** Compare the probability of this tree you just computed to the probabilities of the parses that the NLTK algorithm generated at the start of the lab, and explain the result.\n",
        "\n",
        "<!--\n",
        "BEGIN QUESTION\n",
        "name: open_response_pcky\n",
        "manual: true\n",
        "-->"
      ]
    },
    {
      "cell_type": "markdown",
      "id": "4ffbe005",
      "metadata": {
        "id": "4ffbe005"
      },
      "source": [
        "_The probability of the parse tree computed using the Probabilistic CKY algorithm matches the probability of the tree with the highest probability generated at the start of the lab. This outcome is expected since the Probabilistic CKY algorithm aims to find the most probable parse tree. The algorithm assigns probabilities to different production rules based on the PCFG grammar and calculates the maximum probability of nonterminal A covering words between string positions i and j. By following the backpointers in the table, the algorithm reconstructs the parse tree with the highest probability. In this case, the parse tree provided '(S (NP Twain) (VP (TV bought) (NP (DT a) (N (N book) (PP (P for) (NP Howells))))))' matches the tree with the highest probability from the earlier generated parse trees. This consistency highlights the effectiveness of the Probabilistic CKY algorithm in finding the most probable parse based on the PCFG grammar._"
      ]
    },
    {
      "cell_type": "markdown",
      "id": "9e6002d0",
      "metadata": {
        "deletable": false,
        "editable": false,
        "id": "9e6002d0"
      },
      "source": [
        "<!-- END QUESTION -->\n",
        "\n",
        "<!-- BEGIN QUESTION -->\n",
        "\n",
        "## Lab debrief\n",
        "\n",
        "**Question:** We're interested in any thoughts your group has about this lab so that we can improve this lab for later years, and to inform later labs for this year. Please list any issues that arose or comments you have to improve the lab. Useful things to comment on might include the following:\n",
        "\n",
        "* Was the lab too long or too short?\n",
        "* Were the readings appropriate for the lab?\n",
        "* Was it clear (at least after you completed the lab) what the points of the exercises were?\n",
        "* Are there additions or changes you think would make the lab better?\n",
        "\n",
        "but you should comment on whatever aspects you found especially positive or negative.\n",
        "\n",
        "<!--\n",
        "BEGIN QUESTION\n",
        "name: open_response_debrief\n",
        "manual: true\n",
        "-->"
      ]
    },
    {
      "cell_type": "markdown",
      "id": "10d3e4b4",
      "metadata": {
        "id": "10d3e4b4"
      },
      "source": [
        "_the length was good, reading was ok, it was clear, no additional changes._"
      ]
    },
    {
      "cell_type": "markdown",
      "id": "2afc5396",
      "metadata": {
        "id": "2afc5396"
      },
      "source": [
        "<!-- END QUESTION -->\n",
        "\n",
        "\n",
        "\n",
        "# End of Lab 3-4"
      ]
    },
    {
      "cell_type": "markdown",
      "id": "5963967c",
      "metadata": {
        "deletable": false,
        "editable": false,
        "id": "5963967c"
      },
      "source": [
        "---\n",
        "\n",
        "To double-check your work, the cell below will rerun all of the autograder tests."
      ]
    },
    {
      "cell_type": "code",
      "execution_count": 24,
      "id": "d46582c3",
      "metadata": {
        "deletable": false,
        "editable": false,
        "colab": {
          "base_uri": "https://localhost:8080/",
          "height": 210
        },
        "id": "d46582c3",
        "outputId": "30209e05-1de6-4258-a1e1-58dbaba74a49"
      },
      "outputs": [
        {
          "output_type": "execute_result",
          "data": {
            "text/plain": [
              "best_parse:\n",
              "\n",
              "    All tests passed!\n",
              "    \n",
              "\n",
              "cnf_conversion:\n",
              "\n",
              "    All tests passed!\n",
              "    \n",
              "\n",
              "non_cnf_rule_count:\n",
              "\n",
              "    All tests passed!\n",
              "    \n",
              "\n",
              "pcky_fill_table:\n",
              "\n",
              "    All tests passed!\n",
              "    \n"
            ],
            "text/html": [
              "<p><strong>best_parse:</strong></p>\n",
              "\n",
              "    \n",
              "    \n",
              "        <p>All tests passed!</p>\n",
              "    \n",
              "    \n",
              "\n",
              "<p><strong>cnf_conversion:</strong></p>\n",
              "\n",
              "    \n",
              "    \n",
              "        <p>All tests passed!</p>\n",
              "    \n",
              "    \n",
              "\n",
              "<p><strong>non_cnf_rule_count:</strong></p>\n",
              "\n",
              "    \n",
              "    \n",
              "        <p>All tests passed!</p>\n",
              "    \n",
              "    \n",
              "\n",
              "<p><strong>pcky_fill_table:</strong></p>\n",
              "\n",
              "    \n",
              "    \n",
              "        <p>All tests passed!</p>\n",
              "    \n",
              "    \n",
              "\n"
            ]
          },
          "metadata": {},
          "execution_count": 24
        }
      ],
      "source": [
        "grader.check_all()"
      ]
    }
  ],
  "metadata": {
    "colab": {
      "provenance": []
    },
    "kernelspec": {
      "display_name": "Python 3",
      "language": "python",
      "name": "python3"
    },
    "language_info": {
      "codemirror_mode": {
        "name": "ipython",
        "version": 3
      },
      "file_extension": ".py",
      "mimetype": "text/x-python",
      "name": "python",
      "nbconvert_exporter": "python",
      "pygments_lexer": "ipython3",
      "version": "3.8.3"
    },
    "title": "CS236299 Lab 3-4: Probabilistic parsing and parse disambiguation"
  },
  "nbformat": 4,
  "nbformat_minor": 5
}