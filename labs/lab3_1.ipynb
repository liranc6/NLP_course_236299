{
  "cells": [
    {
      "cell_type": "code",
      "execution_count": null,
      "id": "8f5ba5cf",
      "metadata": {
        "deletable": false,
        "editable": false,
        "jupyter": {
          "outputs_hidden": true,
          "source_hidden": true
        },
        "colab": {
          "base_uri": "https://localhost:8080/"
        },
        "id": "8f5ba5cf",
        "outputId": "0ed6e2a5-e118-425f-a208-f534b82fe5ab"
      },
      "outputs": [
        {
          "output_type": "stream",
          "name": "stdout",
          "text": [
            "\n"
          ]
        }
      ],
      "source": [
        "# Please do not change this cell because some hidden tests might depend on it.\n",
        "import os\n",
        "\n",
        "# Otter grader does not handle ! commands well, so we define and use our\n",
        "# own function to execute shell commands.\n",
        "def shell(commands, warn=True):\n",
        "    \"\"\"Executes the string `commands` as a sequence of shell commands.\n",
        "\n",
        "       Prints the result to stdout and returns the exit status.\n",
        "       Provides a printed warning on non-zero exit status unless `warn`\n",
        "       flag is unset.\n",
        "    \"\"\"\n",
        "    file = os.popen(commands)\n",
        "    print (file.read().rstrip('\\n'))\n",
        "    exit_status = file.close()\n",
        "    if warn and exit_status != None:\n",
        "        print(f\"Completed with errors. Exit status: {exit_status}\\n\")\n",
        "    return exit_status\n",
        "\n",
        "shell(\"\"\"\n",
        "ls requirements.txt >/dev/null 2>&1\n",
        "if [ ! $? = 0 ]; then\n",
        " rm -rf .tmp\n",
        " git clone https://github.com/cs236299-2023-spring/lab3-1.git .tmp\n",
        " mv .tmp/tests ./\n",
        " mv .tmp/requirements.txt ./\n",
        " rm -rf .tmp\n",
        "fi\n",
        "pip install -q -r requirements.txt\n",
        "\"\"\")"
      ]
    },
    {
      "cell_type": "code",
      "execution_count": null,
      "id": "48bc2662",
      "metadata": {
        "deletable": false,
        "editable": false,
        "id": "48bc2662"
      },
      "outputs": [],
      "source": [
        "# Initialize Otter\n",
        "import otter\n",
        "grader = otter.Notebook()"
      ]
    },
    {
      "cell_type": "raw",
      "id": "b2871125",
      "metadata": {
        "jupyter": {
          "source_hidden": true
        },
        "id": "b2871125"
      },
      "source": [
        "%%latex\n",
        "\\newcommand{\\vect}[1]{\\mathbf{#1}}\n",
        "\\newcommand{\\cnt}[1]{\\sharp(#1)}\n",
        "\\newcommand{\\argmax}[1]{\\underset{#1}{\\operatorname{argmax}}}\n",
        "\\newcommand{\\softmax}{\\operatorname{softmax}}\n",
        "\\newcommand{\\Prob}{\\Pr}\n",
        "\\newcommand{\\given}{\\,|\\,}"
      ]
    },
    {
      "cell_type": "markdown",
      "id": "8614ce3d",
      "metadata": {
        "jupyter": {
          "source_hidden": true
        },
        "id": "8614ce3d"
      },
      "source": [
        "$$\n",
        "\\renewcommand{\\vect}[1]{\\mathbf{#1}}\n",
        "\\renewcommand{\\cnt}[1]{\\sharp(#1)}\n",
        "\\renewcommand{\\argmax}[1]{\\underset{#1}{\\operatorname{argmax}}}\n",
        "\\renewcommand{\\softmax}{\\operatorname{softmax}}\n",
        "\\renewcommand{\\Prob}{\\Pr}\n",
        "\\renewcommand{\\given}{\\,|\\,}\n",
        "$$"
      ]
    },
    {
      "cell_type": "markdown",
      "id": "37b1b664",
      "metadata": {
        "id": "37b1b664",
        "tags": [
          "remove_for_latex"
        ]
      },
      "source": [
        "# Course 236299\n",
        "## Lab 3-1 – Context-free grammars introduced"
      ]
    },
    {
      "cell_type": "markdown",
      "id": "036517ae",
      "metadata": {
        "id": "036517ae"
      },
      "source": [
        "# Preparation – Loading packages"
      ]
    },
    {
      "cell_type": "code",
      "execution_count": null,
      "id": "260440f6",
      "metadata": {
        "deletable": false,
        "editable": false,
        "id": "260440f6"
      },
      "outputs": [],
      "source": [
        "import functools\n",
        "import math\n",
        "import nltk"
      ]
    },
    {
      "cell_type": "markdown",
      "id": "5cdaa633",
      "metadata": {
        "id": "5cdaa633"
      },
      "source": [
        "# Writing CFGs\n",
        "\n",
        "Recall that a context free grammar (CFG) is a set of rules of the form $A \\rightarrow \\beta$, where $A$ is a nonterminal symbol and $\\beta$ is a sequence of terminal and nonterminal symbols. The set of nonterminals is $N$ and the set of terminals is $\\Sigma$. One of the nonterminals is a special start symbol, conventionally denoted $S$.\n",
        "\n",
        "A CFG generates a string by starting with the start symbol and repeatedly replacing a nonterminal symbol by the right-hand side of a rule whose left-hand side matches that nonterminal.\n",
        "\n",
        "We will use the [Natural Language Tool Kit (NLTK)](http://nltk.org) to define, represent, and store context-free grammars and syntactic parse trees in data structures. The toolkit provides for constructing a grammar from a textual description, such as this example:"
      ]
    },
    {
      "cell_type": "code",
      "execution_count": null,
      "id": "831b1ab1",
      "metadata": {
        "id": "831b1ab1"
      },
      "outputs": [],
      "source": [
        "simple_grammar1 = nltk.CFG.fromstring(\"\"\"\n",
        "    S -> NP VP\n",
        "    NP -> 'dogs'\n",
        "    NP -> 'cats'\n",
        "    NP -> 'husky' 'dogs'\n",
        "    VP -> V\n",
        "    VP -> V NP\n",
        "    V -> 'bark'\n",
        "    V -> 'jump'\n",
        "    V -> 'chase'\n",
        "\"\"\")"
      ]
    },
    {
      "cell_type": "markdown",
      "id": "7a913a79",
      "metadata": {
        "id": "7a913a79"
      },
      "source": [
        "Some things to notice about the NLTK encoding of grammars:\n",
        "\n",
        "* Nonterminals are those symbols that appear on the left-hand side of a rule.\n",
        "* Terminals are any other Python object, but typically (as here) a string. (Notice how to write multi-word expressions on the right-hand side: each word needs to be quoted separately.)\n",
        "* By convention, the start symbol is the left-hand side of the first production of the grammar, and typically denoted as \"S\".\n",
        "\n",
        "We can print the grammar to observe it:"
      ]
    },
    {
      "cell_type": "code",
      "execution_count": null,
      "id": "97953f41",
      "metadata": {
        "colab": {
          "base_uri": "https://localhost:8080/"
        },
        "id": "97953f41",
        "outputId": "8b8d96d4-24a7-4c67-b747-7d9f56720552"
      },
      "outputs": [
        {
          "output_type": "stream",
          "name": "stdout",
          "text": [
            "Grammar with 9 productions (start state = S)\n",
            "    S -> NP VP\n",
            "    NP -> 'dogs'\n",
            "    NP -> 'cats'\n",
            "    NP -> 'husky' 'dogs'\n",
            "    VP -> V\n",
            "    VP -> V NP\n",
            "    V -> 'bark'\n",
            "    V -> 'jump'\n",
            "    V -> 'chase'\n"
          ]
        }
      ],
      "source": [
        "print(simple_grammar1)"
      ]
    },
    {
      "cell_type": "markdown",
      "id": "4b1d9351",
      "metadata": {
        "id": "4b1d9351"
      },
      "source": [
        "Some sentences that are *generated* by this grammar include \"dogs bark\", \"cats jump\",  \"husky dogs chase cats\". The last of these is generated as specified by the following derivation:\n",
        "\n",
        "```\n",
        "S => NP VP\n",
        "  => husky dogs VP\n",
        "  => husky dogs V NP\n",
        "  => husky dogs chase NP\n",
        "  => husky dogs chase cats\n",
        "```\n",
        "\n",
        "> This grammar also generates sentences that are ungrammatical in English, such as \"dogs bark cats\", as it makes no distinction between intransitive verbs (like \"bark\") and transitive verbs (like \"chase\"). For now, we'll ignore this issue.\n",
        "\n",
        "The [`nltk.CFG.fromstring`](http://www.nltk.org/api/nltk.html#nltk.CFG.fromstring) function also accepts grammars in a shorthand notation using the \"or\" operator `|` to combine multiple productions with the same left-hand side."
      ]
    },
    {
      "cell_type": "code",
      "execution_count": null,
      "id": "774bc48f",
      "metadata": {
        "id": "774bc48f"
      },
      "outputs": [],
      "source": [
        "simple_grammar2 = nltk.CFG.fromstring(\"\"\"\n",
        "    S -> NP VP\n",
        "    NP -> 'dogs' | 'cats' | 'husky' 'dogs'\n",
        "    VP -> V | V NP\n",
        "    V -> 'bark' | 'jump' | 'chase'\n",
        "\"\"\")"
      ]
    },
    {
      "cell_type": "markdown",
      "id": "ff628959",
      "metadata": {
        "id": "ff628959"
      },
      "source": [
        "You can verify that the grammar is identical by printing it."
      ]
    },
    {
      "cell_type": "code",
      "execution_count": null,
      "id": "38e20ce3",
      "metadata": {
        "colab": {
          "base_uri": "https://localhost:8080/"
        },
        "id": "38e20ce3",
        "outputId": "1cb46274-7c13-4ac0-ffd1-560eeeec2f12"
      },
      "outputs": [
        {
          "output_type": "stream",
          "name": "stdout",
          "text": [
            "Grammar with 9 productions (start state = S)\n",
            "    S -> NP VP\n",
            "    NP -> 'dogs'\n",
            "    NP -> 'cats'\n",
            "    NP -> 'husky' 'dogs'\n",
            "    VP -> V\n",
            "    VP -> V NP\n",
            "    V -> 'bark'\n",
            "    V -> 'jump'\n",
            "    V -> 'chase'\n"
          ]
        }
      ],
      "source": [
        "print(simple_grammar2)"
      ]
    },
    {
      "cell_type": "markdown",
      "id": "625b9269",
      "metadata": {
        "deletable": false,
        "editable": false,
        "id": "625b9269"
      },
      "source": [
        "# Textual arithmetic expressions\n",
        "\n",
        "**What is four plus one divided by two?** As you can see in the screenshot at right, Alexa has a specific answer to this question.\n",
        "<img src=\"https://github.com/nlp-course/data/raw/master/img/alexa_arithmetic.jpg\" width=150 align=right />\n",
        "\n",
        "In this lab, you will learn how to implement the first part of answering such \"arithmetic in English\" questions. In particular, you will write CFGs for a subset of the language of arithmetic expressions. You can assume that numbers are integers between zero and twenty and that the allowed operations are addition, subtraction, multiplication, and division. First, construct a CFG that generates the following expressions and similar ones. (For now, don't worry about issues of ambiguity.)\n",
        "\n",
        "1. twenty plus two\n",
        "1. fifteen minus five\n",
        "1. four divided by two plus one\n",
        "1. two plus nine times five minus three\n",
        "1. sixteen plus two minus ten times one\n",
        "\n",
        "<!--\n",
        "BEGIN QUESTION\n",
        "name: arithmetic_grammar\n",
        "-->"
      ]
    },
    {
      "cell_type": "code",
      "execution_count": null,
      "id": "f29325f3",
      "metadata": {
        "id": "f29325f3"
      },
      "outputs": [],
      "source": [
        "#TODO - construct a CFG for simple arithmetic expressions in English\n",
        "all_numbers = \"'zero' | 'one' | 'two' | 'three' | 'four' | 'five' \" \\\n",
        "            + \"| 'six' | 'seven' | 'eight' | 'nine' | 'ten' | 'eleven' \" \\\n",
        "            + \"| 'twelve' | 'thirteen' | 'fourteen' | 'fifteen' \" \\\n",
        "            + \"| 'sixteen' | 'seventeen' | 'eighteen' | 'nineteen' | 'twenty'\"\n",
        "arithmetic_grammar = nltk.CFG.fromstring(f\"\"\"\n",
        "    S -> NUM OP NUM\n",
        "    BRA -> NUM OP NUM\n",
        "    NUM -> {all_numbers} | BRA\n",
        "    OP -> 'plus' | 'minus' | 'divided' 'by' | 'times'\n",
        "\"\"\")\n"
      ]
    },
    {
      "cell_type": "code",
      "execution_count": null,
      "id": "3ce285b1",
      "metadata": {
        "deletable": false,
        "editable": false,
        "colab": {
          "base_uri": "https://localhost:8080/",
          "height": 46
        },
        "id": "3ce285b1",
        "outputId": "65272a7f-925d-44d5-b2dd-e69b2f4a40d2"
      },
      "outputs": [
        {
          "output_type": "execute_result",
          "data": {
            "text/plain": [
              "\n",
              "    All tests passed!\n",
              "    "
            ],
            "text/html": [
              "\n",
              "    \n",
              "    \n",
              "        <p>All tests passed!</p>\n",
              "    \n",
              "    "
            ]
          },
          "metadata": {},
          "execution_count": 40
        }
      ],
      "source": [
        "grader.check(\"arithmetic_grammar\")"
      ]
    },
    {
      "cell_type": "markdown",
      "id": "254fde02",
      "metadata": {
        "id": "254fde02"
      },
      "source": [
        "# Trees and grammars\n",
        "\n",
        "Create a parse tree each for sentences 2 and 3 according to your grammar. Draw the parse trees on a piece of paper or any drawing application. You'll use these drawings in this notebook shortly.\n",
        "\n",
        "Go ahead; we'll wait...."
      ]
    },
    {
      "cell_type": "markdown",
      "id": "a0194ddc",
      "metadata": {
        "id": "a0194ddc"
      },
      "source": [
        "You're back. Good.\n",
        "\n",
        "Drawing parse trees is a helpful visualization, but we need a machine-readable format for trees. One such format is a bracket notation.  For example, a parse tree for \"dogs bark\" can be made as follows, using the [`nltk.Tree.fromstring`](http://www.nltk.org/api/nltk.html#nltk.tree.Tree.fromstring) function (notice that you don't need quotation marks for terminals here):"
      ]
    },
    {
      "cell_type": "code",
      "execution_count": null,
      "id": "80641415",
      "metadata": {
        "id": "80641415"
      },
      "outputs": [],
      "source": [
        "tree = nltk.Tree.fromstring(\"(S (NP dogs) (VP (V bark)))\")"
      ]
    },
    {
      "cell_type": "markdown",
      "id": "37f81f54",
      "metadata": {
        "id": "37f81f54"
      },
      "source": [
        "We can visualize the tree using the `pretty_print` method:"
      ]
    },
    {
      "cell_type": "code",
      "execution_count": null,
      "id": "8a0678ae",
      "metadata": {
        "colab": {
          "base_uri": "https://localhost:8080/"
        },
        "id": "8a0678ae",
        "outputId": "3e929a69-0a82-47e2-cab2-5342f6dc7b4e"
      },
      "outputs": [
        {
          "output_type": "stream",
          "name": "stdout",
          "text": [
            "      S      \n",
            "  ____|___    \n",
            " |        VP \n",
            " |        |   \n",
            " NP       V  \n",
            " |        |   \n",
            "dogs     bark\n",
            "\n"
          ]
        }
      ],
      "source": [
        "tree.pretty_print()"
      ]
    },
    {
      "cell_type": "markdown",
      "id": "b9547c49",
      "metadata": {
        "id": "b9547c49"
      },
      "source": [
        "You can get the rules that generated a tree using the `productions` method, which returns a list of productions according to a [preorder tree traversal](https://en.wikipedia.org/wiki/Tree_traversal#Pre-order,_NLR):"
      ]
    },
    {
      "cell_type": "code",
      "execution_count": null,
      "id": "4a3e185a",
      "metadata": {
        "colab": {
          "base_uri": "https://localhost:8080/"
        },
        "id": "4a3e185a",
        "outputId": "7c85c85d-4e0b-48a0-8404-af53b2d33346"
      },
      "outputs": [
        {
          "output_type": "execute_result",
          "data": {
            "text/plain": [
              "[S -> NP VP, NP -> 'dogs', VP -> V, V -> 'bark']"
            ]
          },
          "metadata": {},
          "execution_count": 43
        }
      ],
      "source": [
        "tree.productions()"
      ]
    },
    {
      "cell_type": "markdown",
      "id": "63eabe2d",
      "metadata": {
        "deletable": false,
        "editable": false,
        "id": "63eabe2d"
      },
      "source": [
        "Convert the parse trees you drew for sentences 2 and 3 into NLTK format by converting them from a string using bracket notation, as done above for `tree`.\n",
        "\n",
        "<!--\n",
        "BEGIN QUESTION\n",
        "name: parse_trees\n",
        "-->"
      ]
    },
    {
      "cell_type": "code",
      "execution_count": null,
      "id": "72565cb4",
      "metadata": {
        "id": "72565cb4"
      },
      "outputs": [],
      "source": [
        "#TODO -- Construct trees for sentences 2 and 3 by converting from the bracket notation.\n",
        "# \"fifteen minus five\"\n",
        "tree2 = nltk.Tree.fromstring(\"(S (NUM fifteen) (OP minus) (NUM five))\")\n",
        "# \"four divided by two plus one\"\n",
        "tree3 = nltk.Tree.fromstring(\"(S (NUM four) (OP divided by) (NUM (BRA (NUM two) (OP plus) (NUM one))))\")\n"
      ]
    },
    {
      "cell_type": "code",
      "execution_count": null,
      "id": "fee0f672",
      "metadata": {
        "deletable": false,
        "editable": false,
        "colab": {
          "base_uri": "https://localhost:8080/",
          "height": 46
        },
        "id": "fee0f672",
        "outputId": "05023646-cb56-4361-8bb9-b859033e7616"
      },
      "outputs": [
        {
          "output_type": "execute_result",
          "data": {
            "text/plain": [
              "\n",
              "    All tests passed!\n",
              "    "
            ],
            "text/html": [
              "\n",
              "    \n",
              "    \n",
              "        <p>All tests passed!</p>\n",
              "    \n",
              "    "
            ]
          },
          "metadata": {},
          "execution_count": 45
        }
      ],
      "source": [
        "grader.check(\"parse_trees\")"
      ]
    },
    {
      "cell_type": "markdown",
      "id": "196ff2d9",
      "metadata": {
        "id": "196ff2d9"
      },
      "source": [
        "It's useful to draw the trees to make it easier to visually inspect them."
      ]
    },
    {
      "cell_type": "code",
      "execution_count": null,
      "id": "ea4803c0",
      "metadata": {
        "colab": {
          "base_uri": "https://localhost:8080/"
        },
        "id": "ea4803c0",
        "outputId": "3435d666-6988-45b1-dd2c-9de0306abe39"
      },
      "outputs": [
        {
          "output_type": "stream",
          "name": "stdout",
          "text": [
            "          S       \n",
            "    ______|____    \n",
            "  NUM     OP  NUM \n",
            "   |      |    |   \n",
            "fifteen minus five\n",
            "\n",
            "                  S              \n",
            "  ________________|_______        \n",
            " |            |          NUM     \n",
            " |            |           |       \n",
            " |            |          BRA     \n",
            " |            |        ___|____   \n",
            "NUM           OP     NUM  OP  NUM\n",
            " |       _____|___    |   |    |  \n",
            "four divided      by two plus one\n",
            "\n"
          ]
        }
      ],
      "source": [
        "tree2.pretty_print()\n",
        "tree3.pretty_print()"
      ]
    },
    {
      "cell_type": "markdown",
      "id": "0ec6e175",
      "metadata": {
        "id": "0ec6e175"
      },
      "source": [
        "The following function validates that a tree only contains productions that are valid according to given grammar."
      ]
    },
    {
      "cell_type": "code",
      "execution_count": null,
      "id": "83e2a326",
      "metadata": {
        "id": "83e2a326"
      },
      "outputs": [],
      "source": [
        "def validate(tree, grammar):\n",
        "    return functools.reduce(lambda accum, production:\n",
        "                               accum and production in grammar.productions(),\n",
        "                            tree.productions())"
      ]
    },
    {
      "cell_type": "markdown",
      "id": "0cb3eab7",
      "metadata": {
        "id": "0cb3eab7"
      },
      "source": [
        "Using the `validate` function, we can validate that the trees your wrote are valid with respect to your grammar."
      ]
    },
    {
      "cell_type": "code",
      "execution_count": null,
      "id": "8a6dce3f",
      "metadata": {
        "colab": {
          "base_uri": "https://localhost:8080/"
        },
        "id": "8a6dce3f",
        "outputId": "c6218ee0-24c1-4481-a5a1-84acdf49b93e"
      },
      "outputs": [
        {
          "output_type": "stream",
          "name": "stdout",
          "text": [
            "True\n",
            "True\n"
          ]
        }
      ],
      "source": [
        "print(validate(tree2, arithmetic_grammar))\n",
        "print(validate(tree3, arithmetic_grammar))"
      ]
    },
    {
      "cell_type": "markdown",
      "id": "e23ded33",
      "metadata": {
        "deletable": false,
        "editable": false,
        "id": "e23ded33"
      },
      "source": [
        "# Expanding the grammar\n",
        "The arithmetic expressions we considered so far were rather limited. In practice, there are many ways to express such expressions. Expand your grammar to generate also the following expressions, which use other ways of indicating the arithmetic operations, in addition to the previous ones:\n",
        "\n",
        "6. the sum of twenty and two\n",
        "1. the difference between fifteen and five\n",
        "1. the quotient of three and five\n",
        "1. the sum of the product of four and two and one\n",
        "\n",
        "<!--\n",
        "BEGIN QUESTION\n",
        "name: expanded_arithmetic_grammar\n",
        "-->"
      ]
    },
    {
      "cell_type": "code",
      "execution_count": null,
      "id": "90630cd5",
      "metadata": {
        "id": "90630cd5"
      },
      "outputs": [],
      "source": [
        "#TODO\n",
        "all_numbers = \"'zero' | 'one' | 'two' | 'three' | 'four' | 'five' \" \\\n",
        "            + \"| 'six' | 'seven' | 'eight' | 'nine' | 'ten' | 'eleven' \" \\\n",
        "            + \"| 'twelve' | 'thirteen' | 'fourteen' | 'fifteen' \" \\\n",
        "            + \"| 'sixteen' | 'seventeen' | 'eighteen' | 'nineteen' | 'twenty'\"\n",
        "expanded_arithmetic_grammar = nltk.CFG.fromstring(f\"\"\"\n",
        "    S -> INIT | ARIT\n",
        "    ARIT -> NUM OP NUM | INIT | NUM AND NUM\n",
        "    INIT -> THE ANS ARIT\n",
        "    THE -> 'the'\n",
        "    BRA -> NUM OP NUM\n",
        "    NUM -> {all_numbers} | BRA | NUM AND NUM\n",
        "    AND -> 'and'\n",
        "    ANS -> 'sum' 'of' | 'difference' 'between' | 'quotient' 'of' | 'product' 'of' | 'sum'\n",
        "    OP -> 'plus' | 'minus' | 'divided' 'by' | 'times'\n",
        "\"\"\")"
      ]
    },
    {
      "cell_type": "code",
      "execution_count": null,
      "id": "886001a4",
      "metadata": {
        "deletable": false,
        "editable": false,
        "colab": {
          "base_uri": "https://localhost:8080/",
          "height": 46
        },
        "id": "886001a4",
        "outputId": "968c9323-7851-4047-8d53-9b51d9f1d525"
      },
      "outputs": [
        {
          "output_type": "execute_result",
          "data": {
            "text/plain": [
              "\n",
              "    All tests passed!\n",
              "    "
            ],
            "text/html": [
              "\n",
              "    \n",
              "    \n",
              "        <p>All tests passed!</p>\n",
              "    \n",
              "    "
            ]
          },
          "metadata": {},
          "execution_count": 50
        }
      ],
      "source": [
        "grader.check(\"expanded_arithmetic_grammar\")"
      ]
    },
    {
      "cell_type": "markdown",
      "id": "c8c97013",
      "metadata": {
        "deletable": false,
        "editable": false,
        "id": "c8c97013"
      },
      "source": [
        "Create parse trees for sentences 6 and 9 according to your grammar. Again, you might find it useful to first draw the trees by hand and then write them in bracket notation using the `nltk.Tree.fromstring` function.\n",
        "\n",
        "<!--\n",
        "BEGIN QUESTION\n",
        "name: expanded_arithmetic_trees\n",
        "-->"
      ]
    },
    {
      "cell_type": "code",
      "execution_count": null,
      "id": "dae29699",
      "metadata": {
        "id": "dae29699"
      },
      "outputs": [],
      "source": [
        "#TODO\n",
        "# \"the sum of twenty and two\"\n",
        "tree6 = nltk.Tree.fromstring(\"(S (INIT (THE the) (ANS sum of) (ARIT (NUM twenty) (AND and) (NUM two))))\")\n",
        "# \"the sum of the product of four and two and one\"\n",
        "tree9 = nltk.Tree.fromstring(\"(S (INIT (THE the) (ANS sum of) (ARIT (INIT (THE the) (ANS product of) (ARIT (NUM four) (AND and) (NUM (NUM two) (AND and) (NUM one)))))))\")"
      ]
    },
    {
      "cell_type": "code",
      "execution_count": null,
      "id": "8f921df5",
      "metadata": {
        "deletable": false,
        "editable": false,
        "colab": {
          "base_uri": "https://localhost:8080/",
          "height": 46
        },
        "id": "8f921df5",
        "outputId": "4c8ee4f5-3d5e-4a49-eea2-d8d7f519db8a"
      },
      "outputs": [
        {
          "output_type": "execute_result",
          "data": {
            "text/plain": [
              "\n",
              "    All tests passed!\n",
              "    "
            ],
            "text/html": [
              "\n",
              "    \n",
              "    \n",
              "        <p>All tests passed!</p>\n",
              "    \n",
              "    "
            ]
          },
          "metadata": {},
          "execution_count": 52
        }
      ],
      "source": [
        "grader.check(\"expanded_arithmetic_trees\")"
      ]
    },
    {
      "cell_type": "code",
      "execution_count": null,
      "id": "460d5429",
      "metadata": {
        "colab": {
          "base_uri": "https://localhost:8080/"
        },
        "id": "460d5429",
        "outputId": "d46c04b6-b788-486d-a787-57ee0484a212"
      },
      "outputs": [
        {
          "output_type": "stream",
          "name": "stdout",
          "text": [
            "             S                  \n",
            "             |                   \n",
            "            INIT                \n",
            "  ___________|___________        \n",
            " |       |              ARIT    \n",
            " |       |          _____|____   \n",
            "THE     ANS       NUM   AND  NUM\n",
            " |    ___|___      |     |    |  \n",
            "the sum      of  twenty and  two\n",
            "\n",
            "                                 S                        \n",
            "                                 |                         \n",
            "                                INIT                      \n",
            "  _______________________________|____                     \n",
            " |       |                           ARIT                 \n",
            " |       |                            |                    \n",
            " |       |                           INIT                 \n",
            " |       |        ____________________|________            \n",
            " |       |       |           |                ARIT        \n",
            " |       |       |           |         ________|____       \n",
            " |       |       |           |        |    |       NUM    \n",
            " |       |       |           |        |    |    ____|___   \n",
            "THE     ANS     THE         ANS      NUM  AND NUM  AND NUM\n",
            " |    ___|___    |      _____|___     |    |   |    |   |  \n",
            "the sum      of the product      of  four and two  and one\n",
            "\n"
          ]
        }
      ],
      "source": [
        "tree6.pretty_print()\n",
        "tree9.pretty_print()"
      ]
    },
    {
      "cell_type": "markdown",
      "id": "bffc5581",
      "metadata": {
        "deletable": false,
        "editable": false,
        "id": "bffc5581"
      },
      "source": [
        "# Testing the grammar\n",
        "\n",
        "Now that you have a CFG for arithmetic expressions, it is time to test its capabilities. Can your grammar generate the following new expressions? If not, edit the grammar to make sure it can handle such expressions.\n",
        "\n",
        "10. three added to eight\n",
        "1. the sum of two and nine times the difference between five and three\n",
        "1. ten\n",
        "\n",
        "<!--\n",
        "BEGIN QUESTION\n",
        "name: further_testing\n",
        "-->"
      ]
    },
    {
      "cell_type": "code",
      "execution_count": null,
      "id": "4e0f8e09",
      "metadata": {
        "id": "4e0f8e09"
      },
      "outputs": [],
      "source": [
        "#TODO\n",
        "expanded_arithmetic_grammar = nltk.CFG.fromstring(f\"\"\"\n",
        "    S -> INIT | ARIT | NUM\n",
        "    ARIT -> NUM OP NUM | INIT | NUM AND NUM\n",
        "    INIT -> THE ANS ARIT\n",
        "    BRA -> NUM OP NUM\n",
        "    THE -> 'the'\n",
        "    NUM -> {all_numbers} | BRA | NUM AND NUM | INIT\n",
        "    AND -> 'and'\n",
        "    ANS -> 'sum' 'of' | 'difference' 'between' | 'quotient' 'of' | 'product' 'of' | 'sum'\n",
        "    OP -> 'plus' | 'minus' | 'divided' 'by' | 'times' | 'added' 'to'\n",
        "\"\"\")"
      ]
    },
    {
      "cell_type": "code",
      "execution_count": null,
      "id": "90e6d7bd",
      "metadata": {
        "deletable": false,
        "editable": false,
        "colab": {
          "base_uri": "https://localhost:8080/",
          "height": 46
        },
        "id": "90e6d7bd",
        "outputId": "b15bd9c3-1560-4e5a-ff09-0fdd2062a40d"
      },
      "outputs": [
        {
          "output_type": "execute_result",
          "data": {
            "text/plain": [
              "\n",
              "    All tests passed!\n",
              "    "
            ],
            "text/html": [
              "\n",
              "    \n",
              "    \n",
              "        <p>All tests passed!</p>\n",
              "    \n",
              "    "
            ]
          },
          "metadata": {},
          "execution_count": 55
        }
      ],
      "source": [
        "grader.check(\"further_testing\")"
      ]
    },
    {
      "cell_type": "markdown",
      "id": "4d17cff6",
      "metadata": {
        "id": "4d17cff6"
      },
      "source": [
        "# Preview to parsing\n",
        "\n",
        "Verifying by hand that a sentence can be generated by a grammar is cumbersome and impractical. We would like an automatic procedure for doing that at scale, that is, a *parser*. The `nltk` system can construct a parser given a grammar. In later labs, you'll write your own parsers.\n",
        "\n",
        "> Strictly speaking, an algoithm that determines *whether* a sentence can be generated by a grammar (that is, returns a simple `true` or `false`) is properly referred to as a *recognizer*. A *parser* goes further, in returning one or more parse trees for grammatical sentences."
      ]
    },
    {
      "cell_type": "code",
      "execution_count": null,
      "id": "9582d75e",
      "metadata": {
        "id": "9582d75e"
      },
      "outputs": [],
      "source": [
        "parser = nltk.parse.BottomUpChartParser(expanded_arithmetic_grammar)"
      ]
    },
    {
      "cell_type": "markdown",
      "id": "364451a4",
      "metadata": {
        "id": "364451a4"
      },
      "source": [
        "Using this parser we can get parses for a given sentence."
      ]
    },
    {
      "cell_type": "code",
      "execution_count": null,
      "id": "80289cc5",
      "metadata": {
        "colab": {
          "base_uri": "https://localhost:8080/"
        },
        "id": "80289cc5",
        "outputId": "3bf5263d-8879-46fe-ec64-e00d65f68be2"
      },
      "outputs": [
        {
          "output_type": "stream",
          "name": "stdout",
          "text": [
            "                                 S                                             \n",
            "                                 |                                              \n",
            "                                NUM                                            \n",
            "                                 |                                              \n",
            "                                BRA                                            \n",
            "              ___________________|_________________________                     \n",
            "            NUM                  |                        NUM                  \n",
            "             |                   |                         |                    \n",
            "            INIT                 |                        INIT                 \n",
            "  ___________|________           |     ____________________|__________          \n",
            " |       |           ARIT        |    |              |               ARIT      \n",
            " |       |         ___|____      |    |              |            ____|_____    \n",
            "THE     ANS      NUM AND  NUM    OP  THE            ANS         NUM  AND   NUM \n",
            " |    ___|___     |   |    |     |    |       _______|_____      |    |     |   \n",
            "the sum      of  two and  nine times the difference     between five and  three\n",
            "\n",
            "                               S                                              \n",
            "                               |                                               \n",
            "                              NUM                                             \n",
            "                               |                                               \n",
            "                              INIT                                            \n",
            "  _____________________________|____                                           \n",
            " |       |                         ARIT                                       \n",
            " |       |            ______________|_____________________                     \n",
            " |       |           |         |                         NUM                  \n",
            " |       |           |         |                          |                    \n",
            " |       |           |         |                         INIT                 \n",
            " |       |           |         |     _____________________|__________          \n",
            " |       |          NUM        |    |               |               ARIT      \n",
            " |       |        ___|___      |    |               |            ____|_____    \n",
            "THE     ANS     NUM AND NUM    OP  THE             ANS         NUM  AND   NUM \n",
            " |    ___|___    |   |   |     |    |        _______|_____      |    |     |   \n",
            "the sum      of two and nine times the  difference     between five and  three\n",
            "\n",
            "                               S                                              \n",
            "                               |                                               \n",
            "                              NUM                                             \n",
            "                               |                                               \n",
            "                              INIT                                            \n",
            "  _____________________________|____                                           \n",
            " |       |                         ARIT                                       \n",
            " |       |        __________________|_______                                   \n",
            " |       |       |   |                     NUM                                \n",
            " |       |       |   |                      |                                  \n",
            " |       |       |   |                     BRA                                \n",
            " |       |       |   |    __________________|_____________                     \n",
            " |       |       |   |   |     |                         NUM                  \n",
            " |       |       |   |   |     |                          |                    \n",
            " |       |       |   |   |     |                         INIT                 \n",
            " |       |       |   |   |     |     _____________________|__________          \n",
            " |       |       |   |   |     |    |               |               ARIT      \n",
            " |       |       |   |   |     |    |               |            ____|_____    \n",
            "THE     ANS     NUM AND NUM    OP  THE             ANS         NUM  AND   NUM \n",
            " |    ___|___    |   |   |     |    |        _______|_____      |    |     |   \n",
            "the sum      of two and nine times the  difference     between five and  three\n",
            "\n",
            "                                 S                                             \n",
            "                                 |                                              \n",
            "                                ARIT                                           \n",
            "              ___________________|_________________________                     \n",
            "            NUM                  |                        NUM                  \n",
            "             |                   |                         |                    \n",
            "            INIT                 |                        INIT                 \n",
            "  ___________|________           |     ____________________|__________          \n",
            " |       |           ARIT        |    |              |               ARIT      \n",
            " |       |         ___|____      |    |              |            ____|_____    \n",
            "THE     ANS      NUM AND  NUM    OP  THE            ANS         NUM  AND   NUM \n",
            " |    ___|___     |   |    |     |    |       _______|_____      |    |     |   \n",
            "the sum      of  two and  nine times the difference     between five and  three\n",
            "\n",
            "                               S                                              \n",
            "                               |                                               \n",
            "                              ARIT                                            \n",
            "                               |                                               \n",
            "                              INIT                                            \n",
            "  _____________________________|____                                           \n",
            " |       |                         ARIT                                       \n",
            " |       |            ______________|_____________________                     \n",
            " |       |           |         |                         NUM                  \n",
            " |       |           |         |                          |                    \n",
            " |       |           |         |                         INIT                 \n",
            " |       |           |         |     _____________________|__________          \n",
            " |       |          NUM        |    |               |               ARIT      \n",
            " |       |        ___|___      |    |               |            ____|_____    \n",
            "THE     ANS     NUM AND NUM    OP  THE             ANS         NUM  AND   NUM \n",
            " |    ___|___    |   |   |     |    |        _______|_____      |    |     |   \n",
            "the sum      of two and nine times the  difference     between five and  three\n",
            "\n",
            "                               S                                              \n",
            "                               |                                               \n",
            "                              ARIT                                            \n",
            "                               |                                               \n",
            "                              INIT                                            \n",
            "  _____________________________|____                                           \n",
            " |       |                         ARIT                                       \n",
            " |       |        __________________|_______                                   \n",
            " |       |       |   |                     NUM                                \n",
            " |       |       |   |                      |                                  \n",
            " |       |       |   |                     BRA                                \n",
            " |       |       |   |    __________________|_____________                     \n",
            " |       |       |   |   |     |                         NUM                  \n",
            " |       |       |   |   |     |                          |                    \n",
            " |       |       |   |   |     |                         INIT                 \n",
            " |       |       |   |   |     |     _____________________|__________          \n",
            " |       |       |   |   |     |    |               |               ARIT      \n",
            " |       |       |   |   |     |    |               |            ____|_____    \n",
            "THE     ANS     NUM AND NUM    OP  THE             ANS         NUM  AND   NUM \n",
            " |    ___|___    |   |   |     |    |        _______|_____      |    |     |   \n",
            "the sum      of two and nine times the  difference     between five and  three\n",
            "\n",
            "                               S                                              \n",
            "                               |                                               \n",
            "                              INIT                                            \n",
            "  _____________________________|____                                           \n",
            " |       |                         ARIT                                       \n",
            " |       |            ______________|_____________________                     \n",
            " |       |           |         |                         NUM                  \n",
            " |       |           |         |                          |                    \n",
            " |       |           |         |                         INIT                 \n",
            " |       |           |         |     _____________________|__________          \n",
            " |       |          NUM        |    |               |               ARIT      \n",
            " |       |        ___|___      |    |               |            ____|_____    \n",
            "THE     ANS     NUM AND NUM    OP  THE             ANS         NUM  AND   NUM \n",
            " |    ___|___    |   |   |     |    |        _______|_____      |    |     |   \n",
            "the sum      of two and nine times the  difference     between five and  three\n",
            "\n",
            "                               S                                              \n",
            "                               |                                               \n",
            "                              INIT                                            \n",
            "  _____________________________|____                                           \n",
            " |       |                         ARIT                                       \n",
            " |       |        __________________|_______                                   \n",
            " |       |       |   |                     NUM                                \n",
            " |       |       |   |                      |                                  \n",
            " |       |       |   |                     BRA                                \n",
            " |       |       |   |    __________________|_____________                     \n",
            " |       |       |   |   |     |                         NUM                  \n",
            " |       |       |   |   |     |                          |                    \n",
            " |       |       |   |   |     |                         INIT                 \n",
            " |       |       |   |   |     |     _____________________|__________          \n",
            " |       |       |   |   |     |    |               |               ARIT      \n",
            " |       |       |   |   |     |    |               |            ____|_____    \n",
            "THE     ANS     NUM AND NUM    OP  THE             ANS         NUM  AND   NUM \n",
            " |    ___|___    |   |   |     |    |        _______|_____      |    |     |   \n",
            "the sum      of two and nine times the  difference     between five and  three\n",
            "\n"
          ]
        }
      ],
      "source": [
        "test_sentence = \"the sum of two and nine times the difference between five and three\".split()\n",
        "for tree in parser.parse(test_sentence):\n",
        "    tree.pretty_print()"
      ]
    },
    {
      "cell_type": "markdown",
      "id": "8943d17d",
      "metadata": {
        "id": "8943d17d"
      },
      "source": [
        "You may have noticed that some of the arithmetic expressions were *ambiguous*; they had multiple distinct valid parses. In the next few labs, we will deal with the important matter of ambiguity."
      ]
    },
    {
      "cell_type": "markdown",
      "id": "41487d19",
      "metadata": {
        "id": "41487d19"
      },
      "source": [
        "## Parser evaluation\n",
        "To evaluate the quality of a syntactic parser, we need an evaluation metric to compare a predicted _hypothesis_ parse with a gold _reference_ parse. Common evaluation metrics include:\n",
        "\n",
        "1. Exact match – 1 if the predicted and reference parses are identical; 0 otherwise\n",
        "2. Precision ($P$) – the proportion of constituents in the hypothesis that are correct (that is, match the gold parse)\n",
        "$$P = \\frac{\\cnt{\\text{correct constituents in a hypothesis parse}}}{\\cnt{\\text{constituents in a hypothesis parse}}}$$\n",
        "1. Recall ($R$) – the proportion of constituents in the gold parse that are predicted (that is, match the hypothesis parse)\n",
        "$$R = \\frac{\\cnt{\\text{correct constituents in a hypothesis parse}}}{\\cnt{\\text{constituents in a reference parse}}}$$\n",
        "1. $F_1$ score – the [harmonic mean](https://en.wikipedia.org/wiki/Harmonic_mean) of precision and recall\n",
        "$$F_1 = \\frac{2}{1/P+1/R} = \\frac{2PR}{P+R}$$\n",
        "\n",
        "We consider a constituent in one tree to match a constituent in another if they share the same nonterminal and cover the same span of terminal symbols. We don't count the terminals by themselves as constituents, so, for instance, the `ref_tree` we define below has five constituents, not eight.\n",
        "\n",
        "Consider the following trees, a reference tree `ref_tree` (the \"gold\" or \"ground truth\")  and hypothesis tree `hyp_tree` (usually, the \"predicted\" tree that we wish to measure)."
      ]
    },
    {
      "cell_type": "code",
      "execution_count": null,
      "id": "57d85c1f",
      "metadata": {
        "id": "57d85c1f",
        "colab": {
          "base_uri": "https://localhost:8080/"
        },
        "outputId": "2db2f360-81c4-418e-ef35-4e1cacd5e6dd"
      },
      "outputs": [
        {
          "output_type": "stream",
          "name": "stdout",
          "text": [
            "       S           \n",
            "  _____|____        \n",
            " |          VP     \n",
            " |      ____|___    \n",
            " NP    V        NP \n",
            " |     |        |   \n",
            "dogs chase     cats\n",
            "\n"
          ]
        }
      ],
      "source": [
        "ref_tree = nltk.Tree.fromstring(\"(S (NP dogs) (VP (V chase) (NP cats)))\")\n",
        "ref_tree.pretty_print()"
      ]
    },
    {
      "cell_type": "code",
      "execution_count": null,
      "id": "ddf96014",
      "metadata": {
        "id": "ddf96014",
        "colab": {
          "base_uri": "https://localhost:8080/"
        },
        "outputId": "fbed5130-8a93-4b0e-abba-120ac6e1accf"
      },
      "outputs": [
        {
          "output_type": "stream",
          "name": "stdout",
          "text": [
            "       S           \n",
            "  _____|____        \n",
            " S          VP     \n",
            " |      ____|___    \n",
            " NP    V        NP \n",
            " |     |        |   \n",
            "dogs chase     cats\n",
            "\n"
          ]
        }
      ],
      "source": [
        "hyp_tree = nltk.Tree.fromstring(\"(S (S  (NP dogs) ) (VP (V chase) (NP cats)))\")\n",
        "hyp_tree.pretty_print()"
      ]
    },
    {
      "cell_type": "markdown",
      "id": "e8fa19f9",
      "metadata": {
        "deletable": false,
        "editable": false,
        "id": "e8fa19f9"
      },
      "source": [
        "Calculate the precision, recall, and $F1$ of the hypothesis tree `hyp_tree` relative to the reference tree `ref_tree`.\n",
        "\n",
        "<!--\n",
        "BEGIN QUESTION\n",
        "name: metrics\n",
        "-->"
      ]
    },
    {
      "cell_type": "code",
      "execution_count": null,
      "id": "280f4c6b",
      "metadata": {
        "id": "280f4c6b"
      },
      "outputs": [],
      "source": [
        "#TODO\n",
        "precision = 5 / 6\n",
        "recall = 1\n",
        "f1 = 2 / (1 / precision + 1 / recall)"
      ]
    },
    {
      "cell_type": "code",
      "execution_count": null,
      "id": "a0828b1c",
      "metadata": {
        "deletable": false,
        "editable": false,
        "id": "a0828b1c",
        "colab": {
          "base_uri": "https://localhost:8080/",
          "height": 46
        },
        "outputId": "35adc245-7e05-4546-82b7-e2d055ed64a4"
      },
      "outputs": [
        {
          "output_type": "execute_result",
          "data": {
            "text/plain": [
              "\n",
              "    All tests passed!\n",
              "    "
            ],
            "text/html": [
              "\n",
              "    \n",
              "    \n",
              "        <p>All tests passed!</p>\n",
              "    \n",
              "    "
            ]
          },
          "metadata": {},
          "execution_count": 65
        }
      ],
      "source": [
        "grader.check(\"metrics\")"
      ]
    },
    {
      "cell_type": "markdown",
      "id": "eeeb41cc",
      "metadata": {
        "deletable": false,
        "editable": false,
        "id": "eeeb41cc"
      },
      "source": [
        "## The precision-recall tradeoff\n",
        "\n",
        "Often there is a tradeoff between precision and recall. In the above example, the recall is good, but at the expense of precision. There can also be trees with high precision and low recall.\n",
        "\n",
        "Find the smallest tree (that is, with the fewest nodes) that has a precision of $1$ with regards to the above `ref_tree`. (The tree should have the nonterminal `S` at its root but does **not need be valid** according to the grammar)\n",
        "\n",
        "What is its recall?\n",
        "\n",
        "<!--\n",
        "BEGIN QUESTION\n",
        "name: tradeoff\n",
        "-->"
      ]
    },
    {
      "cell_type": "code",
      "execution_count": null,
      "id": "524b4121",
      "metadata": {
        "id": "524b4121",
        "colab": {
          "base_uri": "https://localhost:8080/"
        },
        "outputId": "cbf5b478-3a37-47c0-fdf6-4a106a5f7b6d"
      },
      "outputs": [
        {
          "output_type": "stream",
          "name": "stdout",
          "text": [
            "       S       \n",
            "  _____|____    \n",
            "dogs chase cats\n",
            "\n"
          ]
        }
      ],
      "source": [
        "#TODO -- Fill in the minimal precision-1 tree and its recall\n",
        "minimal_high_precision_tree = nltk.Tree.fromstring(\"(S dogs chase cats)\")\n",
        "recall_of_minimal_high_precision_tree = 1/5\n",
        "minimal_high_precision_tree.pretty_print()"
      ]
    },
    {
      "cell_type": "code",
      "execution_count": null,
      "id": "ce34aabf",
      "metadata": {
        "deletable": false,
        "editable": false,
        "id": "ce34aabf",
        "colab": {
          "base_uri": "https://localhost:8080/",
          "height": 46
        },
        "outputId": "a7f123a2-1211-4600-aa14-4cb9aea73435"
      },
      "outputs": [
        {
          "output_type": "execute_result",
          "data": {
            "text/plain": [
              "\n",
              "    All tests passed!\n",
              "    "
            ],
            "text/html": [
              "\n",
              "    \n",
              "    \n",
              "        <p>All tests passed!</p>\n",
              "    \n",
              "    "
            ]
          },
          "metadata": {},
          "execution_count": 68
        }
      ],
      "source": [
        "grader.check(\"tradeoff\")"
      ]
    },
    {
      "cell_type": "markdown",
      "id": "2aeb3255",
      "metadata": {
        "id": "2aeb3255"
      },
      "source": [
        "#  Normal forms\n",
        "\n",
        "As you have seen above, there are many ways to write a grammar for a given language. It is often convenient, however, to work with a standard format. A *normal form* for context-free languages is a restricted production format for context-free grammars that still allows expressing arbitrary context-free languages.\n",
        "\n",
        "As an example -- which will come in handy later -- we examine *Chomsky normal form*.\n",
        "A grammar in Chomsky Normal Form (CNF) has rules of only two kinds:\n",
        "\n",
        "1. $A \\rightarrow B \\, C$ – a rule mapping a nonterminal symbol to exactly two nonterminal symbols\n",
        "2. $A \\rightarrow a$ – a rule mapping a nonterminal symbol to exactly one terminal symbol\n",
        "\n",
        "> Actually, this version of CNF can't express languages that contain the empty string. To allow expression of any context-free language, we can allow a third type of rule $S \\rightarrow \\epsilon$, where $S$ is the start symbol of the grammar and $\\epsilon$ represents the empty string. But for our purposes, we'll stick to the simpler version here.\n",
        "\n",
        "A CFG parse tree can be transformed to one generable by a CNF grammar in a variety of ways, typically by introducing special new nonterminals. Here, we use `nltk` to perform the transformation. The result is a binary tree. The binary branching property will turn out to be useful when we turn to implementing parsers."
      ]
    },
    {
      "cell_type": "code",
      "execution_count": null,
      "id": "14af0efa",
      "metadata": {
        "id": "14af0efa",
        "colab": {
          "base_uri": "https://localhost:8080/"
        },
        "outputId": "0ffd05f9-d73c-45e2-827d-68143dc0d656"
      },
      "outputs": [
        {
          "output_type": "stream",
          "name": "stdout",
          "text": [
            "      S       \n",
            "  ____|____    \n",
            " NP  CONJ  NP \n",
            " |    |    |   \n",
            "dogs and  cats\n",
            "\n",
            "      S                   \n",
            "  ____|________            \n",
            " |        S|<CONJ-NP>     \n",
            " |     ________|_______    \n",
            " NP  CONJ              NP \n",
            " |    |                |   \n",
            "dogs and              cats\n",
            "\n"
          ]
        }
      ],
      "source": [
        "tree = nltk.Tree.fromstring(\"(S (NP dogs) (CONJ and) (NP cats) )\")\n",
        "tree.pretty_print()\n",
        "tree.chomsky_normal_form()\n",
        "tree.pretty_print()"
      ]
    },
    {
      "cell_type": "markdown",
      "id": "bab7563d",
      "metadata": {
        "deletable": false,
        "editable": false,
        "id": "bab7563d"
      },
      "source": [
        "Some parsing algorithms require the grammar to be in CNF. Manually convert the arithmetic grammar you wrote in the first part of this lab (`arithmetic_grammar`) to CNF. You may need to introduce \"dummy\" nonterminals to allow that. Your CNF grammar should recognize exactly the same strings as the original CFG, though the parse trees will be different.\n",
        "\n",
        "<!--\n",
        "BEGIN QUESTION\n",
        "name: cnf_conversion\n",
        "-->"
      ]
    },
    {
      "cell_type": "code",
      "execution_count": 103,
      "id": "42fbe1ab",
      "metadata": {
        "id": "42fbe1ab"
      },
      "outputs": [],
      "source": [
        "#TODO - convert the arithmetic grammar you wrote in the *first part* of\n",
        "#       this lab (arithmetic_grammar) to CNF.\n",
        "cnf_arithmetic_grammar = nltk.CFG.fromstring(f\"\"\"\n",
        "    S -> NUM ON\n",
        "    S -> {all_numbers}\n",
        "    NUM -> NUM ON\n",
        "    ON -> OP NUM\n",
        "    OP -> 'plus' | 'minus' | DIV BY | 'times'\n",
        "    DIV -> 'divided'\n",
        "    BY -> 'by'\n",
        "    NUM -> {all_numbers}\n",
        "    \"\"\"\n",
        ")"
      ]
    },
    {
      "cell_type": "code",
      "execution_count": 104,
      "id": "f18b6ae4",
      "metadata": {
        "deletable": false,
        "editable": false,
        "id": "f18b6ae4",
        "colab": {
          "base_uri": "https://localhost:8080/",
          "height": 46
        },
        "outputId": "045f5fd8-b63f-4cb6-f60a-a8d4027731ce"
      },
      "outputs": [
        {
          "output_type": "execute_result",
          "data": {
            "text/plain": [
              "\n",
              "    All tests passed!\n",
              "    "
            ],
            "text/html": [
              "\n",
              "    \n",
              "    \n",
              "        <p>All tests passed!</p>\n",
              "    \n",
              "    "
            ]
          },
          "metadata": {},
          "execution_count": 104
        }
      ],
      "source": [
        "grader.check(\"cnf_conversion\")"
      ]
    },
    {
      "cell_type": "markdown",
      "id": "fae2ac8c",
      "metadata": {
        "id": "fae2ac8c"
      },
      "source": [
        "The NLTK grammar method `is_chomsky_normal_form` allows us to verify that the grammar is indeed in CNF:"
      ]
    },
    {
      "cell_type": "code",
      "execution_count": 105,
      "id": "ed3d774a",
      "metadata": {
        "id": "ed3d774a",
        "colab": {
          "base_uri": "https://localhost:8080/"
        },
        "outputId": "03dbb527-7637-4209-dc02-9b7ef6a658e2"
      },
      "outputs": [
        {
          "output_type": "execute_result",
          "data": {
            "text/plain": [
              "True"
            ]
          },
          "metadata": {},
          "execution_count": 105
        }
      ],
      "source": [
        "cnf_arithmetic_grammar.is_chomsky_normal_form()"
      ]
    },
    {
      "cell_type": "markdown",
      "id": "26d194c4",
      "metadata": {
        "deletable": false,
        "editable": false,
        "id": "26d194c4"
      },
      "source": [
        "<!-- BEGIN QUESTION -->\n",
        "\n",
        "# Lab debrief\n",
        "**Question:** We're interested in any thoughts your group has about this lab so that we can improve this lab for later years, and to inform later labs for this year. Please list any issues that arose or comments you have to improve the lab. Useful things to comment on include the following:\n",
        "\n",
        "* Was the lab too long or too short?\n",
        "* Were the readings appropriate for the lab?\n",
        "* Was it clear (at least after you completed the lab) what the points of the exercises were?\n",
        "* Are there additions or changes you think would make the lab better?\n",
        "\n",
        "<!--\n",
        "BEGIN QUESTION\n",
        "name: open_response_debrief\n",
        "manual: true\n",
        "-->"
      ]
    },
    {
      "cell_type": "markdown",
      "id": "bf7db5b9",
      "metadata": {
        "id": "bf7db5b9"
      },
      "source": [
        "_Type your answer here, replacing this text._"
      ]
    },
    {
      "cell_type": "markdown",
      "id": "e2f0b8c4",
      "metadata": {
        "id": "e2f0b8c4"
      },
      "source": [
        "<!-- END QUESTION -->\n",
        "\n",
        "\n",
        "\n",
        "# End of lab 3-1"
      ]
    },
    {
      "cell_type": "markdown",
      "id": "b336a16a",
      "metadata": {
        "deletable": false,
        "editable": false,
        "id": "b336a16a"
      },
      "source": [
        "---\n",
        "\n",
        "To double-check your work, the cell below will rerun all of the autograder tests."
      ]
    },
    {
      "cell_type": "code",
      "execution_count": null,
      "id": "680f6553",
      "metadata": {
        "deletable": false,
        "editable": false,
        "id": "680f6553"
      },
      "outputs": [],
      "source": [
        "grader.check_all()"
      ]
    }
  ],
  "metadata": {
    "colab": {
      "provenance": []
    },
    "kernelspec": {
      "display_name": "otter-latest",
      "language": "python",
      "name": "python3"
    },
    "language_info": {
      "codemirror_mode": {
        "name": "ipython",
        "version": 3
      },
      "file_extension": ".py",
      "mimetype": "text/x-python",
      "name": "python",
      "nbconvert_exporter": "python",
      "pygments_lexer": "ipython3",
      "version": "3.8.3"
    },
    "title": "CS236299 Lab 3-1: Context-free grammars introduced",
    "vscode": {
      "interpreter": {
        "hash": "4fba83c08fc02185bb2310bd24d0cd81fb04529c933f82aa81c61aab9d5528dc"
      }
    }
  },
  "nbformat": 4,
  "nbformat_minor": 5
}